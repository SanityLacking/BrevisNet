{
 "cells": [
  {
   "cell_type": "code",
   "execution_count": 448,
   "metadata": {},
   "outputs": [],
   "source": [
    "#import necessary libraries\n",
    "import tensorflow as tf\n",
    "import numpy as np\n",
    "from matplotlib import pyplot as plt\n",
    "import scipy.ndimage as nd\n",
    "from tensorflow import keras\n",
    "%matplotlib inline\n",
    "import pylab as pl\n",
    "from IPython import display\n",
    "\n",
    "\n",
    "import sys\n",
    "sys.path.append(\"..\") # Adds higher directory to python modules path.\n",
    "\n",
    "import branchingdnn as branching\n",
    "from branchingdnn import core\n",
    "from branchingdnn.utils import * \n",
    "from branchingdnn.profiler import model_profiler as profiler\n",
    "from branchingdnn.dataset import prepare\n",
    "from branchingdnn.branches import branch\n",
    "\n",
    "# from tensorflow.examples.tutorials.mnist import input_data"
   ]
  },
  {
   "cell_type": "code",
   "execution_count": 449,
   "metadata": {},
   "outputs": [],
   "source": [
    "# Download MNIST dataset\n",
    "# mnist = input_data.read_data_sets('MNIST_data', one_hot=True)\n",
    "(train_images, train_labels), (test_images, test_labels) = tf.keras.datasets.mnist.load_data()\n",
    "# print(y_train)\n",
    "K= 10 # number of classes"
   ]
  },
  {
   "cell_type": "code",
   "execution_count": 450,
   "metadata": {},
   "outputs": [
    {
     "name": "stdout",
     "output_type": "stream",
     "text": [
      "60000\n",
      "10000\n",
      "[0. 0. 0. 0. 0. 1. 0. 0. 0. 0.]\n",
      "[0. 0. 0. 0. 0. 0. 0. 1. 0. 0.]\n"
     ]
    }
   ],
   "source": [
    "train_images = train_images.reshape(60000, 784).astype(\"float32\") / 255\n",
    "test_images = test_images.reshape(10000, 784).astype(\"float32\") / 255\n",
    "\n",
    "\n",
    "train_labels = tf.keras.utils.to_categorical(train_labels,10)\n",
    "test_labels = tf.keras.utils.to_categorical(test_labels,10)\n",
    "\n",
    "print(len(train_labels))\n",
    "print(len(test_labels))\n",
    "print(train_labels[0])\n",
    "print((test_labels[0]))\n",
    "# plt.imshow(train_images[1].reshape(228,228)) \n",
    "# plt.show()"
   ]
  },
  {
   "cell_type": "code",
   "execution_count": 451,
   "metadata": {},
   "outputs": [
    {
     "name": "stdout",
     "output_type": "stream",
     "text": [
      "trainSize 48000\n",
      "testSize 10000\n"
     ]
    }
   ],
   "source": [
    "validation_size = 12000\n",
    "shuffle_size = 20000\n",
    "batch_size=128\n",
    "validation_images, validation_labels = train_images[:validation_size], train_labels[:validation_size] #get the first 5k training samples as validation set\n",
    "train_images, train_labels = train_images[validation_size:], train_labels[validation_size:] # now remove the validation set from the training set.\n",
    "train_ds = tf.data.Dataset.from_tensor_slices((train_images, train_labels))\n",
    "test_ds = tf.data.Dataset.from_tensor_slices((test_images, test_labels))\n",
    "validation_ds = tf.data.Dataset.from_tensor_slices((validation_images, validation_labels))\n",
    "\n",
    "\n",
    "def augment_images(image, label):\n",
    "    # Normalize images to have a mean of 0 and standard deviation of 1\n",
    "    # image = tf.image.per_image_standardization(image)\n",
    "    # Resize images from 32x32 to 277x277\n",
    "    # image = tf.image.resize(image, (28,28))\n",
    "    return image, label\n",
    "train_ds_size = len(list(train_ds))\n",
    "test_ds_size = len(list(test_ds))\n",
    "validation_ds_size = len(list(validation_ds))\n",
    "train_ds = (train_ds.map(augment_images))\n",
    "validation_ds = (validation_ds.map(augment_images))\n",
    "test_ds = (test_ds.map(augment_images))\n",
    "\n",
    "target = tf.data.Dataset.from_tensor_slices((train_labels))\n",
    "train_ds = tf.data.Dataset.zip((train_ds,target))\n",
    "\n",
    "v_target = tf.data.Dataset.from_tensor_slices((validation_labels))\n",
    "validation_ds = tf.data.Dataset.zip((validation_ds,v_target))\n",
    "\n",
    "t_target = tf.data.Dataset.from_tensor_slices((test_labels))\n",
    "test_ds = tf.data.Dataset.zip((test_ds,t_target))\n",
    "\n",
    "\n",
    "print(\"trainSize {}\".format(train_ds_size))\n",
    "print(\"testSize {}\".format(test_ds_size))\n",
    "train_ds = (train_ds\n",
    "                \n",
    "                .shuffle(buffer_size=tf.cast(shuffle_size,'int64'))\n",
    "                .batch(batch_size=batch_size, drop_remainder=True))\n",
    "\n",
    "test_ds = (test_ds\n",
    "               \n",
    "                #   .shuffle(buffer_size=train_ds_size)\n",
    "                .batch(batch_size=1, drop_remainder=True))\n",
    "\n",
    "validation_ds = (validation_ds\n",
    "               \n",
    "                #   .shuffle(buffer_size=validation_ds_size)\n",
    "                .batch(batch_size=batch_size, drop_remainder=True))\n",
    "\n"
   ]
  },
  {
   "cell_type": "code",
   "execution_count": 468,
   "metadata": {},
   "outputs": [],
   "source": [
    "# This function to generate evidence is used for the first example\n",
    "def relu_evidence(logits):\n",
    "    return tf.nn.relu(logits)\n",
    "\n",
    "# This one usually works better and used for the second and third examples\n",
    "# For general settings and different datasets, you may try this one first\n",
    "def exp_evidence(logits): \n",
    "    return tf.exp(tf.clip_by_value(logits,-10,10))\n",
    "\n",
    "# This one is another alternative and \n",
    "# usually behaves better than the relu_evidence \n",
    "def softplus_evidence(logits):\n",
    "    return tf.nn.softplus(logits)\n",
    "    \n",
    "def KL(alpha):\n",
    "    # print(\"K:\",K)\n",
    "    beta=tf.constant(np.ones((1,K)),dtype=tf.float32)\n",
    "    S_alpha = tf.reduce_sum(alpha,axis=1,keepdims=True)\n",
    "    S_beta = tf.reduce_sum(beta,axis=1,keepdims=True)\n",
    "    lnB = tf.compat.v1.lgamma(S_alpha) - tf.reduce_sum(tf.compat.v1.lgamma(alpha),axis=1,keepdims=True)\n",
    "    lnB_uni = tf.reduce_sum(tf.compat.v1.lgamma(beta),axis=1,keepdims=True) - tf.compat.v1.lgamma(S_beta)\n",
    "    \n",
    "    dg0 = tf.compat.v1.digamma(S_alpha)\n",
    "    dg1 = tf.compat.v1.digamma(alpha)\n",
    "    \n",
    "    kl = tf.reduce_sum((alpha - beta)*(dg1-dg0),axis=1,keepdims=True) + lnB + lnB_uni\n",
    "    # print(\"kl\", kl)\n",
    "    return kl\n",
    "\n",
    "def loss_function():\n",
    "    #create a wrapper function that returns a function\n",
    "    temperature = 1\n",
    "    Classes = 10\n",
    "    keras_kl = tf.keras.losses.KLDivergence()\n",
    "    def mse_loss(labels, alpha): \n",
    "        S = tf.reduce_sum(alpha, axis=1, keepdims=True) \n",
    "        E = alpha - 1\n",
    "        m = alpha / S\n",
    "\n",
    "        A = tf.reduce_sum((labels-m)**2, axis=1, keepdims=True) \n",
    "        B = tf.reduce_sum(alpha*(S-alpha)/(S*S*(S+1)), axis=1, keepdims=True) \n",
    "\n",
    "#         annealing_coef = tf.minimum(1.0,tf.cast(global_step/annealing_step,tf.float32))\n",
    "        annealing_coef = 1\n",
    "        alp = E*(1-labels) + 1 \n",
    "        # print(\"alp\", alp)\n",
    "#         C =  annealing_coef * KL(alp)\n",
    "#         print(alpha)\n",
    "        C = keras_kl(labels, alpha)\n",
    "        return (A + B) + C\n",
    "    return  mse_loss\n",
    "\n"
   ]
  },
  {
   "cell_type": "code",
   "execution_count": 469,
   "metadata": {},
   "outputs": [],
   "source": [
    "class EvidenceEndpoint(keras.layers.Layer):\n",
    "        def __init__(self, num_outputs, name=None, **kwargs):\n",
    "            super(EvidenceEndpoint, self).__init__(name=name)\n",
    "            self.num_outputs = num_outputs\n",
    "#             self.kl = tf.keras.losses.KLDivergence()\n",
    "            self.loss_fn = loss_function()\n",
    "#             self.loss_fn = tf.keras.losses.categorical_crossentropy\n",
    "            self.evidence = exp_evidence\n",
    "            self.temperature = 10\n",
    "            self.lmb = 0.005\n",
    "        def build(self, input_shape):\n",
    "            self.kernel = self.add_weight(\"kernel\", shape=[int(input_shape[-1]), self.num_outputs])\n",
    "        \n",
    "        def get_config(self):\n",
    "            config = super().get_config().copy()\n",
    "            config.update({\n",
    "                'num_outputs': self.num_outputs,\n",
    "                'name': self.name\n",
    "            })\n",
    "            return config\n",
    "\n",
    "        def call(self, inputs, labels):\n",
    "            outputs = tf.matmul(inputs,self.kernel)\n",
    "#             print(outputs)\n",
    "            softmax = tf.nn.softmax(outputs)\n",
    "#             print(softmax)\n",
    "#             print(labels)\n",
    "            evidence = exp_evidence(outputs)\n",
    "            alpha = evidence + 1\n",
    "\n",
    "            loss = tf.reduce_mean(self.loss_fn(labels, alpha))\n",
    "            u = self.num_outputs / tf.reduce_sum(alpha, axis=1, keepdims=True) #uncertainty\n",
    "            prob = alpha/tf.reduce_sum(alpha, 1, keepdims=True) \n",
    "            l2_loss = tf.nn.l2_loss(self.weights) * self.lmb\n",
    "            total_loss = loss + l2_loss\n",
    "            self.add_loss(total_loss)\n",
    "#             print(\"labels\", labels)\n",
    "\n",
    "#             \n",
    "            \n",
    "#             \n",
    "\n",
    "            pred = tf.argmax(outputs,1)\n",
    "# #             print(\"pred\", pred)\n",
    "#             results = tf.one_hot(pred,self.num_outputs)\n",
    "            truth = tf.argmax(labels,1)\n",
    "# #             print(\"truth\", truth)\n",
    "            match = tf.reshape(tf.cast(tf.equal(pred, truth), tf.float32),(-1,1))\n",
    "# #             print(\"match\", match)\n",
    "            total_evidence = tf.reduce_sum(evidence,1, keepdims=True)\n",
    "            mean_avg = tf.reduce_mean(total_evidence)\n",
    "            mean_succ = tf.reduce_sum(tf.reduce_sum(evidence,1, keepdims=True)*match) / tf.reduce_sum(match+1e-20)\n",
    "            mean_fail = tf.reduce_sum(tf.reduce_sum(tf.reduce_sum(evidence,1, keepdims=True)*(1-match)) / (tf.reduce_sum(tf.abs(1-match))+1e-20) )\n",
    "\n",
    "\n",
    "\n",
    "\n",
    "            self.add_metric(evidence, name=self.name+\"_evidence\")\n",
    "            self.add_metric(mean_avg, name=self.name+\"_mean_ev_avg\")\n",
    "            self.add_metric(mean_succ, name=self.name+\"_mean_ev_succ\")\n",
    "            self.add_metric(mean_fail, name=self.name+\"_mean_ev_fail\")\n",
    "            \n",
    "            \n",
    "#             total_loss =tf.reduce_mean(normal_loss) + l2_loss\n",
    "            # print(total_loss)\n",
    "#             total_evidence = tf.reduce_sum(evidence,1, keepdims=True) \n",
    "            # print(total_evidence)\n",
    "#             pred = tf.argmax(outputs, 1)\n",
    "#             truth = tf.argmax(labels, 1)\n",
    "#             match = tf.reshape(tf.cast(tf.equal(pred, truth), tf.float32),(-1,1))\n",
    "#             # print(\"match\",match)\n",
    "#             \n",
    "#             # print(\"mean_Avg\")\n",
    "\n",
    "\n",
    "            # print('metrics')\n",
    "#             self.add_loss(total_loss)\n",
    "            # print(\"pred\",inputs)\n",
    "            # print(\"loss\")\n",
    "     \n",
    "            \n",
    "            return softmax\n",
    "    "
   ]
  },
  {
   "cell_type": "code",
   "execution_count": 470,
   "metadata": {},
   "outputs": [
    {
     "name": "stdout",
     "output_type": "stream",
     "text": [
      "1\n",
      "Model: \"mnist_model_normal\"\n",
      "__________________________________________________________________________________________________\n",
      "Layer (type)                    Output Shape         Param #     Connected to                     \n",
      "==================================================================================================\n",
      "input_90 (InputLayer)           [(None, 784)]        0                                            \n",
      "__________________________________________________________________________________________________\n",
      "flatten_89 (Flatten)            (None, 784)          0           input_90[0][0]                   \n",
      "__________________________________________________________________________________________________\n",
      "dense_445 (Dense)               (None, 512)          401920      flatten_89[0][0]                 \n",
      "__________________________________________________________________________________________________\n",
      "dropout_445 (Dropout)           (None, 512)          0           dense_445[0][0]                  \n",
      "__________________________________________________________________________________________________\n",
      "dense_446 (Dense)               (None, 512)          262656      dropout_445[0][0]                \n",
      "__________________________________________________________________________________________________\n",
      "dropout_446 (Dropout)           (None, 512)          0           dense_446[0][0]                  \n",
      "__________________________________________________________________________________________________\n",
      "dense_447 (Dense)               (None, 512)          262656      dropout_446[0][0]                \n",
      "__________________________________________________________________________________________________\n",
      "dropout_447 (Dropout)           (None, 512)          0           dense_447[0][0]                  \n",
      "__________________________________________________________________________________________________\n",
      "dense_448 (Dense)               (None, 512)          262656      dropout_447[0][0]                \n",
      "__________________________________________________________________________________________________\n",
      "dropout_448 (Dropout)           (None, 512)          0           dense_448[0][0]                  \n",
      "__________________________________________________________________________________________________\n",
      "dense_449 (Dense)               (None, 512)          262656      dropout_448[0][0]                \n",
      "__________________________________________________________________________________________________\n",
      "dropout_449 (Dropout)           (None, 512)          0           dense_449[0][0]                  \n",
      "__________________________________________________________________________________________________\n",
      "targets (InputLayer)            [(None, 10)]         0                                            \n",
      "__________________________________________________________________________________________________\n",
      "evidence_endpoint_88 (EvidenceE (None, 10)           5120        dropout_449[0][0]                \n",
      "                                                                 targets[0][0]                    \n",
      "==================================================================================================\n",
      "Total params: 1,457,664\n",
      "Trainable params: 1,457,664\n",
      "Non-trainable params: 0\n",
      "__________________________________________________________________________________________________\n",
      "1\n"
     ]
    }
   ],
   "source": [
    "outputs =[]\n",
    "inputs = keras.Input(shape=(784,))\n",
    "targets = keras.Input(shape=(10,),name='targets')\n",
    "x = layers.Flatten(input_shape=(28,28))(inputs)\n",
    "x = layers.Dense(512, activation=\"relu\")(x)\n",
    "x= layers.Dropout(0.2)(x)\n",
    "#exit 2\n",
    "x = layers.Dense(512, activation=\"relu\")(x)\n",
    "x= layers.Dropout(0.2)(x)\n",
    "#exit 3\n",
    "x = layers.Dense(512, activation=\"relu\")(x)\n",
    "x= layers.Dropout(0.2)(x)\n",
    "#exit 4\n",
    "x = layers.Dense(512, activation=\"relu\")(x)\n",
    "x= layers.Dropout(0.2)(x)\n",
    "#exit 5\n",
    "x = layers.Dense(512, activation=\"relu\")(x)\n",
    "x= layers.Dropout(0.2)(x)\n",
    "#exit 1 The main branch exit is refered to as \"exit 1\" or \"main exit\" to avoid confusion when adding addtional exits\n",
    "# output1 = layers.Dense(10, name=\"output1\")(x)\n",
    "# softmax = layers.Softmax()(output1)\n",
    "output = EvidenceEndpoint(10, activation='relu')(x,targets)\n",
    "\n",
    "outputs.append(output)\n",
    "print(len(outputs))\n",
    "model = keras.Model(inputs=[inputs,targets], outputs=output, name=\"mnist_model_normal\")\n",
    "model.summary()\n",
    "#visualize_model(model,\"mnist_normal\")\n",
    "print(len(model.outputs))\n"
   ]
  },
  {
   "cell_type": "code",
   "execution_count": 471,
   "metadata": {
    "scrolled": false
   },
   "outputs": [
    {
     "name": "stdout",
     "output_type": "stream",
     "text": [
      "Epoch 1/47\n",
      "375/375 [==============================] - 10s 27ms/step - loss: 0.3302 - accuracy: 0.7753 - evidence_endpoint_88_evidence: 1155.1278 - evidence_endpoint_88_mean_ev_avg: 11551.2783 - evidence_endpoint_88_mean_ev_succ: 12410.7480 - evidence_endpoint_88_mean_ev_fail: 2201.8762\n",
      "Epoch 2/47\n",
      "375/375 [==============================] - 10s 27ms/step - loss: 0.0927 - accuracy: 0.9506 - evidence_endpoint_88_evidence: 1566.9426 - evidence_endpoint_88_mean_ev_avg: 15669.4258 - evidence_endpoint_88_mean_ev_succ: 16312.5469 - evidence_endpoint_88_mean_ev_fail: 3128.7078\n",
      "Epoch 3/47\n",
      "375/375 [==============================] - 10s 27ms/step - loss: 0.0762 - accuracy: 0.9567 - evidence_endpoint_88_evidence: 1670.7638 - evidence_endpoint_88_mean_ev_avg: 16707.6367 - evidence_endpoint_88_mean_ev_succ: 17271.9824 - evidence_endpoint_88_mean_ev_fail: 3037.9033\n",
      "Epoch 4/47\n",
      "375/375 [==============================] - 10s 27ms/step - loss: 0.0629 - accuracy: 0.9645 - evidence_endpoint_88_evidence: 1762.1272 - evidence_endpoint_88_mean_ev_avg: 17621.2715 - evidence_endpoint_88_mean_ev_succ: 18137.2500 - evidence_endpoint_88_mean_ev_fail: 3926.2297\n",
      "Epoch 5/47\n",
      "375/375 [==============================] - 12s 32ms/step - loss: 0.0541 - accuracy: 0.9692 - evidence_endpoint_88_evidence: 1816.2855 - evidence_endpoint_88_mean_ev_avg: 18162.8535 - evidence_endpoint_88_mean_ev_succ: 18631.9004 - evidence_endpoint_88_mean_ev_fail: 3519.4653 - val_loss: 0.0578 - val_accuracy: 0.9676 - val_evidence_endpoint_88_evidence: 1910.0547 - val_evidence_endpoint_88_mean_ev_avg: 19100.5449 - val_evidence_endpoint_88_mean_ev_succ: 19588.4336 - val_evidence_endpoint_88_mean_ev_fail: 4099.2939\n",
      "Epoch 6/47\n",
      "375/375 [==============================] - 11s 30ms/step - loss: 0.0498 - accuracy: 0.9718 - evidence_endpoint_88_evidence: 1879.6617 - evidence_endpoint_88_mean_ev_avg: 18796.6152 - evidence_endpoint_88_mean_ev_succ: 19230.3027 - evidence_endpoint_88_mean_ev_fail: 4126.5679\n",
      "Epoch 7/47\n",
      "375/375 [==============================] - 11s 29ms/step - loss: 0.0463 - accuracy: 0.9740 - evidence_endpoint_88_evidence: 1906.3842 - evidence_endpoint_88_mean_ev_avg: 19063.8418 - evidence_endpoint_88_mean_ev_succ: 19484.7402 - evidence_endpoint_88_mean_ev_fail: 4083.5256\n",
      "Epoch 8/47\n",
      "375/375 [==============================] - 10s 27ms/step - loss: 0.0423 - accuracy: 0.9761 - evidence_endpoint_88_evidence: 1952.1591 - evidence_endpoint_88_mean_ev_avg: 19521.5898 - evidence_endpoint_88_mean_ev_succ: 19898.3672 - evidence_endpoint_88_mean_ev_fail: 4650.2612\n",
      "Epoch 9/47\n",
      "375/375 [==============================] - 10s 27ms/step - loss: 0.0452 - accuracy: 0.9755 - evidence_endpoint_88_evidence: 1967.4155 - evidence_endpoint_88_mean_ev_avg: 19674.1562 - evidence_endpoint_88_mean_ev_succ: 20037.2695 - evidence_endpoint_88_mean_ev_fail: 5221.1719\n",
      "Epoch 10/47\n",
      "375/375 [==============================] - 11s 30ms/step - loss: 0.0446 - accuracy: 0.9758 - evidence_endpoint_88_evidence: 1991.5719 - evidence_endpoint_88_mean_ev_avg: 19915.7188 - evidence_endpoint_88_mean_ev_succ: 20263.5762 - evidence_endpoint_88_mean_ev_fail: 5459.4580 - val_loss: 0.0473 - val_accuracy: 0.9735 - val_evidence_endpoint_88_evidence: 2027.1638 - val_evidence_endpoint_88_mean_ev_avg: 20271.6367 - val_evidence_endpoint_88_mean_ev_succ: 20696.0410 - val_evidence_endpoint_88_mean_ev_fail: 4887.7817\n",
      "Epoch 11/47\n",
      "375/375 [==============================] - 10s 27ms/step - loss: 0.0416 - accuracy: 0.9770 - evidence_endpoint_88_evidence: 1999.6035 - evidence_endpoint_88_mean_ev_avg: 19996.0352 - evidence_endpoint_88_mean_ev_succ: 20346.3672 - evidence_endpoint_88_mean_ev_fail: 4720.4917\n",
      "Epoch 12/47\n",
      "375/375 [==============================] - 10s 27ms/step - loss: 0.0367 - accuracy: 0.9798 - evidence_endpoint_88_evidence: 2017.5359 - evidence_endpoint_88_mean_ev_avg: 20175.3574 - evidence_endpoint_88_mean_ev_succ: 20486.0020 - evidence_endpoint_88_mean_ev_fail: 5169.4375\n",
      "Epoch 13/47\n",
      "375/375 [==============================] - 10s 27ms/step - loss: 0.0392 - accuracy: 0.9788 - evidence_endpoint_88_evidence: 2035.4099 - evidence_endpoint_88_mean_ev_avg: 20354.0996 - evidence_endpoint_88_mean_ev_succ: 20665.1660 - evidence_endpoint_88_mean_ev_fail: 5479.5474\n",
      "Epoch 14/47\n",
      "375/375 [==============================] - 10s 27ms/step - loss: 0.0393 - accuracy: 0.9790 - evidence_endpoint_88_evidence: 2066.5193 - evidence_endpoint_88_mean_ev_avg: 20665.1934 - evidence_endpoint_88_mean_ev_succ: 20957.9941 - evidence_endpoint_88_mean_ev_fail: 7069.8945\n",
      "Epoch 15/47\n",
      "375/375 [==============================] - 12s 31ms/step - loss: 0.0404 - accuracy: 0.9779 - evidence_endpoint_88_evidence: 2066.3391 - evidence_endpoint_88_mean_ev_avg: 20663.3926 - evidence_endpoint_88_mean_ev_succ: 20972.8848 - evidence_endpoint_88_mean_ev_fail: 6555.5942 - val_loss: 0.0454 - val_accuracy: 0.9756 - val_evidence_endpoint_88_evidence: 2077.4448 - val_evidence_endpoint_88_mean_ev_avg: 20774.4492 - val_evidence_endpoint_88_mean_ev_succ: 21114.4844 - val_evidence_endpoint_88_mean_ev_fail: 7804.5557\n",
      "Epoch 16/47\n",
      "375/375 [==============================] - 10s 28ms/step - loss: 0.0402 - accuracy: 0.9786 - evidence_endpoint_88_evidence: 2070.0547 - evidence_endpoint_88_mean_ev_avg: 20700.5488 - evidence_endpoint_88_mean_ev_succ: 20971.3730 - evidence_endpoint_88_mean_ev_fail: 6788.7549\n",
      "Epoch 17/47\n",
      "375/375 [==============================] - 10s 27ms/step - loss: 0.0330 - accuracy: 0.9826 - evidence_endpoint_88_evidence: 2093.1423 - evidence_endpoint_88_mean_ev_avg: 20931.4219 - evidence_endpoint_88_mean_ev_succ: 21151.6621 - evidence_endpoint_88_mean_ev_fail: 6729.3418\n",
      "Epoch 18/47\n",
      "375/375 [==============================] - 10s 27ms/step - loss: 0.0343 - accuracy: 0.9816 - evidence_endpoint_88_evidence: 2081.6250 - evidence_endpoint_88_mean_ev_avg: 20816.2500 - evidence_endpoint_88_mean_ev_succ: 21073.9688 - evidence_endpoint_88_mean_ev_fail: 6966.3071\n",
      "Epoch 19/47\n",
      "375/375 [==============================] - 11s 28ms/step - loss: 0.0390 - accuracy: 0.9793 - evidence_endpoint_88_evidence: 2101.1465 - evidence_endpoint_88_mean_ev_avg: 21011.4648 - evidence_endpoint_88_mean_ev_succ: 21247.5586 - evidence_endpoint_88_mean_ev_fail: 7742.7661\n",
      "Epoch 20/47\n",
      "375/375 [==============================] - 12s 31ms/step - loss: 0.0329 - accuracy: 0.9828 - evidence_endpoint_88_evidence: 2092.9509 - evidence_endpoint_88_mean_ev_avg: 20929.5098 - evidence_endpoint_88_mean_ev_succ: 21172.4355 - evidence_endpoint_88_mean_ev_fail: 6156.6484 - val_loss: 0.0404 - val_accuracy: 0.9781 - val_evidence_endpoint_88_evidence: 2093.7563 - val_evidence_endpoint_88_mean_ev_avg: 20937.5645 - val_evidence_endpoint_88_mean_ev_succ: 21270.7480 - val_evidence_endpoint_88_mean_ev_fail: 5984.1250\n",
      "Epoch 21/47\n",
      "375/375 [==============================] - 10s 27ms/step - loss: 0.0295 - accuracy: 0.9847 - evidence_endpoint_88_evidence: 2104.9597 - evidence_endpoint_88_mean_ev_avg: 21049.5977 - evidence_endpoint_88_mean_ev_succ: 21258.2656 - evidence_endpoint_88_mean_ev_fail: 6855.7778\n",
      "Epoch 22/47\n",
      "375/375 [==============================] - 10s 27ms/step - loss: 0.0283 - accuracy: 0.9851 - evidence_endpoint_88_evidence: 2107.6497 - evidence_endpoint_88_mean_ev_avg: 21076.4961 - evidence_endpoint_88_mean_ev_succ: 21269.8672 - evidence_endpoint_88_mean_ev_fail: 6486.3506\n",
      "Epoch 23/47\n",
      "375/375 [==============================] - 10s 27ms/step - loss: 0.0249 - accuracy: 0.9869 - evidence_endpoint_88_evidence: 2112.0518 - evidence_endpoint_88_mean_ev_avg: 21120.5195 - evidence_endpoint_88_mean_ev_succ: 21302.1895 - evidence_endpoint_88_mean_ev_fail: 6969.7368\n",
      "Epoch 24/47\n",
      "375/375 [==============================] - 10s 27ms/step - loss: 0.0304 - accuracy: 0.9842 - evidence_endpoint_88_evidence: 2106.3818 - evidence_endpoint_88_mean_ev_avg: 21063.8164 - evidence_endpoint_88_mean_ev_succ: 21294.5820 - evidence_endpoint_88_mean_ev_fail: 7421.6953\n",
      "Epoch 25/47\n",
      "375/375 [==============================] - 12s 31ms/step - loss: 0.0285 - accuracy: 0.9854 - evidence_endpoint_88_evidence: 2121.1887 - evidence_endpoint_88_mean_ev_avg: 21211.8887 - evidence_endpoint_88_mean_ev_succ: 21382.4121 - evidence_endpoint_88_mean_ev_fail: 7679.2427 - val_loss: 0.0384 - val_accuracy: 0.9799 - val_evidence_endpoint_88_evidence: 2134.9844 - val_evidence_endpoint_88_mean_ev_avg: 21349.8438 - val_evidence_endpoint_88_mean_ev_succ: 21586.1582 - val_evidence_endpoint_88_mean_ev_fail: 9425.1367\n"
     ]
    },
    {
     "name": "stdout",
     "output_type": "stream",
     "text": [
      "Epoch 26/47\n",
      "375/375 [==============================] - 10s 27ms/step - loss: 0.0293 - accuracy: 0.9848 - evidence_endpoint_88_evidence: 2124.9822 - evidence_endpoint_88_mean_ev_avg: 21249.8223 - evidence_endpoint_88_mean_ev_succ: 21432.6309 - evidence_endpoint_88_mean_ev_fail: 7336.7354\n",
      "Epoch 27/47\n",
      "375/375 [==============================] - 10s 27ms/step - loss: 0.0268 - accuracy: 0.9860 - evidence_endpoint_88_evidence: 2128.6245 - evidence_endpoint_88_mean_ev_avg: 21286.2441 - evidence_endpoint_88_mean_ev_succ: 21455.6855 - evidence_endpoint_88_mean_ev_fail: 8386.3604\n",
      "Epoch 28/47\n",
      "375/375 [==============================] - 10s 27ms/step - loss: 0.0323 - accuracy: 0.9835 - evidence_endpoint_88_evidence: 2141.0378 - evidence_endpoint_88_mean_ev_avg: 21410.3789 - evidence_endpoint_88_mean_ev_succ: 21585.5977 - evidence_endpoint_88_mean_ev_fail: 9784.8750\n",
      "Epoch 29/47\n",
      "375/375 [==============================] - 10s 27ms/step - loss: 0.0315 - accuracy: 0.9842 - evidence_endpoint_88_evidence: 2132.6543 - evidence_endpoint_88_mean_ev_avg: 21326.5430 - evidence_endpoint_88_mean_ev_succ: 21507.9102 - evidence_endpoint_88_mean_ev_fail: 8694.8105\n",
      "Epoch 30/47\n",
      "375/375 [==============================] - 11s 31ms/step - loss: 0.0265 - accuracy: 0.9869 - evidence_endpoint_88_evidence: 2138.1096 - evidence_endpoint_88_mean_ev_avg: 21381.0957 - evidence_endpoint_88_mean_ev_succ: 21542.2520 - evidence_endpoint_88_mean_ev_fail: 9204.3916 - val_loss: 0.0524 - val_accuracy: 0.9724 - val_evidence_endpoint_88_evidence: 2144.4873 - val_evidence_endpoint_88_mean_ev_avg: 21444.8711 - val_evidence_endpoint_88_mean_ev_succ: 21688.2676 - val_evidence_endpoint_88_mean_ev_fail: 12497.5391\n",
      "Epoch 31/47\n",
      "375/375 [==============================] - 10s 27ms/step - loss: 0.0291 - accuracy: 0.9850 - evidence_endpoint_88_evidence: 2135.5471 - evidence_endpoint_88_mean_ev_avg: 21355.4746 - evidence_endpoint_88_mean_ev_succ: 21517.9023 - evidence_endpoint_88_mean_ev_fail: 7491.0322\n",
      "Epoch 32/47\n",
      "375/375 [==============================] - 10s 27ms/step - loss: 0.0203 - accuracy: 0.9898 - evidence_endpoint_88_evidence: 2145.9246 - evidence_endpoint_88_mean_ev_avg: 21459.2461 - evidence_endpoint_88_mean_ev_succ: 21594.5020 - evidence_endpoint_88_mean_ev_fail: 7882.1772\n",
      "Epoch 33/47\n",
      "375/375 [==============================] - 10s 28ms/step - loss: 0.0291 - accuracy: 0.9855 - evidence_endpoint_88_evidence: 2143.2170 - evidence_endpoint_88_mean_ev_avg: 21432.1719 - evidence_endpoint_88_mean_ev_succ: 21587.7090 - evidence_endpoint_88_mean_ev_fail: 8179.7739\n",
      "Epoch 34/47\n",
      "375/375 [==============================] - 10s 27ms/step - loss: 0.0305 - accuracy: 0.9844 - evidence_endpoint_88_evidence: 2144.3704 - evidence_endpoint_88_mean_ev_avg: 21443.7070 - evidence_endpoint_88_mean_ev_succ: 21612.2715 - evidence_endpoint_88_mean_ev_fail: 9387.5449\n",
      "Epoch 35/47\n",
      "375/375 [==============================] - 12s 31ms/step - loss: 0.0274 - accuracy: 0.9860 - evidence_endpoint_88_evidence: 2148.0171 - evidence_endpoint_88_mean_ev_avg: 21480.1699 - evidence_endpoint_88_mean_ev_succ: 21631.3164 - evidence_endpoint_88_mean_ev_fail: 8740.4658 - val_loss: 0.0442 - val_accuracy: 0.9770 - val_evidence_endpoint_88_evidence: 2149.1379 - val_evidence_endpoint_88_mean_ev_avg: 21491.3809 - val_evidence_endpoint_88_mean_ev_succ: 21702.6953 - val_evidence_endpoint_88_mean_ev_fail: 12059.2061\n",
      "Epoch 36/47\n",
      "375/375 [==============================] - 10s 27ms/step - loss: 0.0237 - accuracy: 0.9878 - evidence_endpoint_88_evidence: 2154.6252 - evidence_endpoint_88_mean_ev_avg: 21546.2539 - evidence_endpoint_88_mean_ev_succ: 21683.0938 - evidence_endpoint_88_mean_ev_fail: 8547.4004\n",
      "Epoch 37/47\n",
      "375/375 [==============================] - 10s 27ms/step - loss: 0.0228 - accuracy: 0.9883 - evidence_endpoint_88_evidence: 2147.3521 - evidence_endpoint_88_mean_ev_avg: 21473.5215 - evidence_endpoint_88_mean_ev_succ: 21610.3770 - evidence_endpoint_88_mean_ev_fail: 7720.8120\n",
      "Epoch 38/47\n",
      "375/375 [==============================] - 10s 27ms/step - loss: 0.0238 - accuracy: 0.9880 - evidence_endpoint_88_evidence: 2153.1997 - evidence_endpoint_88_mean_ev_avg: 21531.9980 - evidence_endpoint_88_mean_ev_succ: 21663.2148 - evidence_endpoint_88_mean_ev_fail: 8952.1143\n",
      "Epoch 39/47\n",
      "375/375 [==============================] - 10s 28ms/step - loss: 0.0219 - accuracy: 0.9889 - evidence_endpoint_88_evidence: 2153.1511 - evidence_endpoint_88_mean_ev_avg: 21531.5117 - evidence_endpoint_88_mean_ev_succ: 21661.8633 - evidence_endpoint_88_mean_ev_fail: 8235.3135\n",
      "Epoch 40/47\n",
      "375/375 [==============================] - 12s 32ms/step - loss: 0.0259 - accuracy: 0.9872 - evidence_endpoint_88_evidence: 2150.2791 - evidence_endpoint_88_mean_ev_avg: 21502.7891 - evidence_endpoint_88_mean_ev_succ: 21628.9707 - evidence_endpoint_88_mean_ev_fail: 7897.2539 - val_loss: 0.0358 - val_accuracy: 0.9807 - val_evidence_endpoint_88_evidence: 2155.7996 - val_evidence_endpoint_88_mean_ev_avg: 21557.9980 - val_evidence_endpoint_88_mean_ev_succ: 21761.0801 - val_evidence_endpoint_88_mean_ev_fail: 11648.5576\n",
      "Epoch 41/47\n",
      "375/375 [==============================] - 10s 28ms/step - loss: 0.0190 - accuracy: 0.9907 - evidence_endpoint_88_evidence: 2161.1084 - evidence_endpoint_88_mean_ev_avg: 21611.0859 - evidence_endpoint_88_mean_ev_succ: 21716.2578 - evidence_endpoint_88_mean_ev_fail: 8606.9062\n",
      "Epoch 42/47\n",
      "375/375 [==============================] - 10s 27ms/step - loss: 0.0216 - accuracy: 0.9890 - evidence_endpoint_88_evidence: 2152.7688 - evidence_endpoint_88_mean_ev_avg: 21527.6875 - evidence_endpoint_88_mean_ev_succ: 21665.4004 - evidence_endpoint_88_mean_ev_fail: 7207.7607\n",
      "Epoch 43/47\n",
      "375/375 [==============================] - 10s 28ms/step - loss: 0.0232 - accuracy: 0.9882 - evidence_endpoint_88_evidence: 2149.7771 - evidence_endpoint_88_mean_ev_avg: 21497.7715 - evidence_endpoint_88_mean_ev_succ: 21638.1230 - evidence_endpoint_88_mean_ev_fail: 7916.2671\n",
      "Epoch 44/47\n",
      "375/375 [==============================] - 10s 28ms/step - loss: 0.0247 - accuracy: 0.9867 - evidence_endpoint_88_evidence: 2204.3818 - evidence_endpoint_88_mean_ev_avg: 22043.8164 - evidence_endpoint_88_mean_ev_succ: 21958.2832 - evidence_endpoint_88_mean_ev_fail: 14062.5996\n",
      "Epoch 45/47\n",
      "375/375 [==============================] - 12s 31ms/step - loss: 0.0323 - accuracy: 0.9882 - evidence_endpoint_88_evidence: 2172.7817 - evidence_endpoint_88_mean_ev_avg: 21727.8164 - evidence_endpoint_88_mean_ev_succ: 21840.4004 - evidence_endpoint_88_mean_ev_fail: 9923.5459 - val_loss: 0.0531 - val_accuracy: 0.9725 - val_evidence_endpoint_88_evidence: 2137.4714 - val_evidence_endpoint_88_mean_ev_avg: 21374.7148 - val_evidence_endpoint_88_mean_ev_succ: 21608.2812 - val_evidence_endpoint_88_mean_ev_fail: 13413.3711\n",
      "Epoch 46/47\n",
      "375/375 [==============================] - 10s 28ms/step - loss: 0.0262 - accuracy: 0.9872 - evidence_endpoint_88_evidence: 2167.5400 - evidence_endpoint_88_mean_ev_avg: 21675.4004 - evidence_endpoint_88_mean_ev_succ: 21791.9023 - evidence_endpoint_88_mean_ev_fail: 10710.9482\n",
      "Epoch 47/47\n",
      "375/375 [==============================] - 11s 28ms/step - loss: 0.0277 - accuracy: 0.9864 - evidence_endpoint_88_evidence: 2167.0430 - evidence_endpoint_88_mean_ev_avg: 21670.4316 - evidence_endpoint_88_mean_ev_succ: 21794.8574 - evidence_endpoint_88_mean_ev_fail: 10518.8418\n"
     ]
    },
    {
     "data": {
      "text/plain": [
       "<tensorflow.python.keras.callbacks.History at 0x18f7816bda0>"
      ]
     },
     "execution_count": 471,
     "metadata": {},
     "output_type": "execute_result"
    }
   ],
   "source": [
    "model.compile(  optimizer=tf.optimizers.Adam(), metrics=['accuracy'],run_eagerly=True)\n",
    "model.fit(train_ds,\n",
    "          epochs=50,\n",
    "          validation_data=validation_ds,\n",
    "          validation_freq=5)"
   ]
  },
  {
   "cell_type": "code",
   "execution_count": 478,
   "metadata": {},
   "outputs": [
    {
     "name": "stdout",
     "output_type": "stream",
     "text": [
      "10000/10000 [==============================] - 146s 15ms/step - loss: 0.0374 - accuracy: 0.9805 - evidence_endpoint_88_evidence: 2167.6917 - evidence_endpoint_88_mean_ev_avg: 21676.9160 - evidence_endpoint_88_mean_ev_succ: 21426.5234 - evidence_endpoint_88_mean_ev_fail: 250.3299\n"
     ]
    },
    {
     "data": {
      "text/plain": [
       "[0.037376947700977325,\n",
       " 0.9804999828338623,\n",
       " 2167.691650390625,\n",
       " 21676.916015625,\n",
       " 21426.5234375,\n",
       " 250.3298797607422]"
      ]
     },
     "execution_count": 478,
     "metadata": {},
     "output_type": "execute_result"
    }
   ],
   "source": [
    "model.evaluate(test_ds)"
   ]
  },
  {
   "cell_type": "code",
   "execution_count": 442,
   "metadata": {},
   "outputs": [],
   "source": [
    "# model.save(\"mnist_notebook.hdf5\")"
   ]
  },
  {
   "cell_type": "code",
   "execution_count": 474,
   "metadata": {},
   "outputs": [],
   "source": [
    "def displayEvidence(model,test_ds):\n",
    "    num_outputs = len(model.outputs) # the number of output layers for the purpose of providing labels\n",
    "#     train_ds, test_ds, validation_ds = (dataset)\n",
    "    predictions = []\n",
    "    labels = []\n",
    "    iterator = iter(test_ds)\n",
    "    print(len(test_ds))\n",
    "    item = iterator.get_next()\n",
    "#     print(item)\n",
    "\n",
    "    pClass = []\n",
    "    predictions=[]\n",
    "    pEvidence = []\n",
    "    pAcc=[]\n",
    "#     for i in range(len(test_ds)-1):\n",
    "    for i in range(1000):\n",
    "        print(\"prediction: {} of {}\".format(i,len(test_ds)),end='\\r')\n",
    "        item = iterator.get_next()\n",
    "#         prediction = model.predict(item[0])\n",
    "        x = model.test_on_batch(item[0],item[1])\n",
    "#         print(\"accuracy:\", x[1], \"evidence:\",x[2])\n",
    "        pClass.append(tf.argmax(item[1],1).numpy()[0])\n",
    "        pEvidence.append(x[2])\n",
    "        pAcc.append(x[1])       \n",
    "#     print(pClass)\n",
    "#     print(pEvidence)\n",
    "#     print(pAcc)\n",
    "    Predictions = pd.DataFrame({\"class\":pClass,\"evidence\":pEvidence,\"Acc\":pAcc})\n",
    "    \n",
    "#     print(Predictions)\n",
    "    \n",
    "    correct_rows = Predictions.loc[Predictions['Acc'] == True]\n",
    "    incorrect_rows = Predictions.loc[Predictions['Acc'] == False]\n",
    "    \n",
    "#     print(correct_rows)\n",
    "#     print(incorrect_rows)\n",
    "    \n",
    "    fig, axs = plt.subplots(1, 2)\n",
    "    fig.suptitle('Horizontally stacked subplots')\n",
    "    axs[0].scatter(correct_rows['class'],correct_rows['evidence'],c ='r',marker='+')\n",
    "    axs[0].scatter(incorrect_rows['class'],incorrect_rows['evidence'],c ='k',marker='x')\n",
    "    axs[0].set_title(\"evidence\")\n",
    "\n",
    "#     axs[1].scatter(predEvidence_true_label,predEvidence_true_uncert,c ='r',marker='*')\n",
    "#     axs[1].scatter(predEvidence_fail_label,predEvidence_fail_uncert,c ='k',marker='*')\n",
    "#     axs[1].set_title(\"uncertainty\")\n",
    "\n",
    "    fig.set_size_inches(10, 10)\n",
    "    plt.show()\n",
    "    return Predictions\n"
   ]
  },
  {
   "cell_type": "code",
   "execution_count": 475,
   "metadata": {},
   "outputs": [
    {
     "name": "stdout",
     "output_type": "stream",
     "text": [
      "10000\n",
      "prediction: 999 of 10000\r"
     ]
    },
    {
     "data": {
      "image/png": "[encoded data removed]",
      "text/plain": [
       "<Figure size 720x720 with 2 Axes>"
      ]
     },
     "metadata": {
      "needs_background": "light"
     },
     "output_type": "display_data"
    }
   ],
   "source": [
    "###keras KL activated model 47 epochs\n",
    "Predictions = displayEvidence(model,test_ds)"
   ]
  },
  {
   "cell_type": "code",
   "execution_count": 400,
   "metadata": {},
   "outputs": [
    {
     "name": "stdout",
     "output_type": "stream",
     "text": [
      "10000\n",
      "prediction: 9998 of 10000\r"
     ]
    },
    {
     "data": {
      "image/png": "[encoded data removed]",
      "text/plain": [
       "<Figure size 720x720 with 2 Axes>"
      ]
     },
     "metadata": {
      "needs_background": "light"
     },
     "output_type": "display_data"
    }
   ],
   "source": [
    "### no KL \n",
    "Predictions = displayEvidence(model,test_ds)"
   ]
  },
  {
   "cell_type": "code",
   "execution_count": 476,
   "metadata": {},
   "outputs": [
    {
     "name": "stdout",
     "output_type": "stream",
     "text": [
      "class          977\n",
      "evidence       977\n",
      "Acc            977\n",
      "uncertainty    977\n",
      "dtype: int64\n",
      "class          23\n",
      "evidence       23\n",
      "Acc            23\n",
      "uncertainty    23\n",
      "dtype: int64\n",
      "     class     evidence  Acc  uncertainty\n",
      "7        5  2202.646973  0.0     0.004519\n",
      "148      2    16.042336  0.0     0.383990\n",
      "150      9    16.741848  0.0     0.373946\n",
      "246      4  2202.646729  0.0     0.004519\n",
      "258      6  2202.646729  0.0     0.004519\n"
     ]
    }
   ],
   "source": [
    "# threshold = 000\n",
    "Predictions['uncertainty'] = 10 / (10+Predictions['evidence'])\n",
    "correct_rows = Predictions.loc[(Predictions['Acc'] == True) & (Predictions['evidence'] >threshold)]\n",
    "incorrect_rows = Predictions.loc[(Predictions['Acc'] == False) & (Predictions['evidence'] > threshold)]\n",
    "# incorrect_rows = Predictions.loc[(Predictions['evidence'] > 40)]\n",
    "print(correct_rows.count())\n",
    "\n",
    "print(incorrect_rows.count())\n",
    "print(incorrect_rows.head())\n",
    "# print(incorrect_rows.sort_values(\"evidence\"))\n",
    "\n",
    "uncertainty_correct_rows = Predictions.loc[(Predictions['Acc'] == True) & (Predictions['evidence'] >threshold)]\n",
    "uncertainty_incorrect_rows = Predictions.loc[(Predictions['Acc'] == False) & (Predictions['evidence'] > threshold)]\n"
   ]
  },
  {
   "cell_type": "code",
   "execution_count": 477,
   "metadata": {},
   "outputs": [
    {
     "data": {
      "image/png": "[encoded data removed]",
      "text/plain": [
       "<Figure size 720x720 with 2 Axes>"
      ]
     },
     "metadata": {
      "needs_background": "light"
     },
     "output_type": "display_data"
    }
   ],
   "source": [
    "fig, axs = plt.subplots(1, 2)\n",
    "plt.yscale('log')\n",
    "fig.suptitle('Horizontally stacked subplots')\n",
    "axs[0].scatter(correct_rows['class'],correct_rows['evidence'],c ='r',marker='+')\n",
    "axs[0].scatter(incorrect_rows['class']+.3,incorrect_rows['evidence'],c ='k',marker='x')\n",
    "axs[0].set_title(\"evidence\")\n",
    "\n",
    "axs[1].scatter(correct_rows['class'],correct_rows['uncertainty'],c ='r',marker='+')\n",
    "axs[1].scatter(incorrect_rows['class']+.3,incorrect_rows['uncertainty'],c ='k',marker='x')\n",
    "axs[1].set_title(\"uncertainty\")\n",
    "fig.set_size_inches(10, 10)\n"
   ]
  },
  {
   "cell_type": "code",
   "execution_count": 441,
   "metadata": {},
   "outputs": [],
   "source": [
    "def GetResultsCSV_evidence(model,dataset,suffix=\"\", validation=True):\n",
    "        num_outputs = len(model.outputs) # the number of output layers for the purpose of providing labels\n",
    "        train_ds, test_ds, validation_ds = (dataset)\n",
    "        predictions = []\n",
    "        labels = []\n",
    "        #already compiled\n",
    "        # model.compile(loss='sparse_categorical_crossentropy', optimizer=tf.optimizers.SGD(lr=0.001), metrics=['accuracy'])\n",
    "        iterator = iter(test_ds)\n",
    "        print(len(test_ds))\n",
    "\n",
    "#         for j in range(len(test_ds)):\n",
    "        for j in range(100):\n",
    "            print(\"prediction: {} of {}\".format(j,len(test_ds)),end='\\r')\n",
    "            item = iterator.get_next()\n",
    "            prediction = model.predict(item[0])\n",
    "            # print(\"predictions {}\".format(prediction))\n",
    "            predictions.append(prediction)\n",
    "            # print(prediction)\n",
    "            labels.append(item[1].numpy().tolist())\n",
    "        print(\"labels\")\n",
    "        # print(labels)\n",
    "        for i, val in enumerate(labels):\n",
    "            # print(i)\n",
    "            labels[i]= [np.argmax(val)]* num_outputs\n",
    "\n",
    "        predEvidence_fail =[]\n",
    "        predEvidence_fail_uncert =[]\n",
    "        predEvidence_true = []\n",
    "        predEvidence_true_uncert =[]\n",
    "        predEvidence_fail_label =[]\n",
    "        predEvidence_true_label =[]\n",
    "        predClasses =[]\n",
    "        predRaw=[]\n",
    "        print(\"predictions complete, analyizing\") \n",
    "        for i,output in enumerate(predictions):\n",
    "            for k, pred in enumerate(output):\n",
    "\n",
    "                pred_classes=[]\n",
    "                pred_evidence = []\n",
    "                pred_Raw=[]\n",
    "                print(\"image: {} of {}\".format(i,len(predictions)),end='\\r')\n",
    "                # print(\"output: \",i)\n",
    "                if(type(pred[0])==list):\n",
    "                    for l, branch in enumerate(pred):\n",
    "                        pred_Raw.append(branch)\n",
    "                        Pclass = np.argmax(branch)\n",
    "                        pred_classes.append(Pclass) \n",
    "                        evidence = exp_evidence(branch).numpy()\n",
    "                        total_evidence = evidence\n",
    "                        match = tf.reshape(tf.cast(tf.equal(Pclass, labels[i]), tf.float32),(-1,1))                    \n",
    "                        if l !=0:\n",
    "                            if match.numpy()[0]==0:\n",
    "                                # print(\"match\", match.numpy(),total_evidence.numpy())\n",
    "                                \n",
    "                                ev_fail = evidence + 1\n",
    "                                predEvidence_fail.append(ev_fail.numpy())\n",
    "                                predEvidence_fail_uncert.append(K / ev_fail.numpy())\n",
    "                                predEvidence_fail_label.append(labels[i][0])\n",
    "                            else:\n",
    "                                # print(labels[i])\n",
    "\n",
    "                                ev_succ = evidence\n",
    "                                predEvidence_true.append(ev_succ)\n",
    "                                predEvidence_true_uncert.append(K /ev_succ.numpy())\n",
    "                                predEvidence_true_label.append(labels[i][0])\n",
    "                                                \n",
    "                            # print(total_evidence.numpy())\n",
    "                        pred_evidence.append(total_evidence)\n",
    "                else:\n",
    "                    # print(\"predictions\", pred)\n",
    "\n",
    "                    pred_Raw.append(pred)\n",
    "                    Pclass = np.argmax(pred)\n",
    "                    pred_classes.append(Pclass) \n",
    "                    evidence = tf.reduce_sum(exp_evidence(pred)).numpy()\n",
    "                    # print(evidence)\n",
    "                    total_evidence = evidence\n",
    "                    match = tf.reshape(tf.cast(tf.equal(Pclass, labels[i]), tf.float32),(-1,1))  \n",
    "                    # print(match)                  \n",
    "                    if match.numpy()[0]==0:\n",
    "                        # print(\"fail\")\n",
    "                        # print(\"match\", match.numpy(),total_evidence.numpy())\n",
    "                        \n",
    "                        ev_fail = (evidence)*(1-0) / (1+1e-20) \n",
    "                        predEvidence_fail.append(ev_fail)\n",
    "                        predEvidence_fail_uncert.append(K/ (K + ev_fail))\n",
    "                        predEvidence_fail_label.append(labels[i][0])\n",
    "                    else:\n",
    "                        # print(labels[i])\n",
    "\n",
    "                        ev_succ = (evidence)*1 / (1+1e-20)\n",
    "                        predEvidence_true.append(ev_succ)\n",
    "                        predEvidence_true_uncert.append(K/ (K + ev_succ))\n",
    "                        predEvidence_true_label.append(labels[i][0])\n",
    "                                            \n",
    "                        # print(total_evidence.numpy())\n",
    "                    pred_evidence.append(total_evidence)\n",
    "        \n",
    "              \n",
    "        labelClasses = [0,1,2,3,4,5,6,7,8,9]\n",
    "        # predClasses = pd.DataFrame(predClasses)\n",
    "        labels = pd.DataFrame(labels)\n",
    "        predEvidence_fail = pd.DataFrame([predEvidence_fail])\n",
    "        predEvidence_true = pd.DataFrame([predEvidence_true])\n",
    "        \n",
    "        import matplotlib.pyplot as plt\n",
    "\n",
    "        # predEvidence_true = [K / K+ x for x in predEvidence_true]\n",
    "        # predEvidence_fail = [K / K+ x for x in predEvidence_fail]\n",
    "\n",
    "        # print(len(predEvidence_true))\n",
    "        # print(len(predEvidence_true_label))\n",
    "        print(\"mean Success: \",tf.reduce_mean(predEvidence_true))\n",
    "        # print(predEvidence_true)\n",
    "        print(\"mean Fail: \",tf.reduce_mean(predEvidence_fail))\n",
    "\n",
    "        predEvidence_fail_label = [x+.2 for x in predEvidence_fail_label]\n",
    "        fig, axs = plt.subplots(1, 2)\n",
    "        fig.suptitle('Horizontally stacked subplots')\n",
    "        axs[0].scatter(predEvidence_true_label,predEvidence_true,c ='r',marker='+')\n",
    "        axs[0].scatter(predEvidence_fail_label,predEvidence_fail,c ='k',marker='x')\n",
    "        axs[0].set_title(\"evidence\")\n",
    "\n",
    "        axs[1].scatter(predEvidence_true_label,predEvidence_true_uncert,c ='r',marker='*')\n",
    "        axs[1].scatter(predEvidence_fail_label,predEvidence_fail_uncert,c ='k',marker='*')\n",
    "        axs[1].set_title(\"uncertainty\")\n",
    "\n",
    "        fig.set_size_inches(10, 10)\n",
    "        plt.show()\n",
    "        \n",
    "        \n",
    "        \n",
    "        return\n",
    "        \n",
    "        "
   ]
  },
  {
   "cell_type": "code",
   "execution_count": 272,
   "metadata": {},
   "outputs": [
    {
     "name": "stdout",
     "output_type": "stream",
     "text": [
      "10000\n",
      "labelstion: 9999 of 10000\n",
      "predictions complete, analyizing\n",
      "mean Success:  tf.Tensor(11.712669773054586, shape=(), dtype=float64)\n",
      "mean Fail:  tf.Tensor(11.542338025336171, shape=(), dtype=float64)\n"
     ]
    },
    {
     "data": {
      "image/png": "[encoded data removed]",
      "text/plain": [
       "<Figure size 720x720 with 2 Axes>"
      ]
     },
     "metadata": {
      "needs_background": "light"
     },
     "output_type": "display_data"
    }
   ],
   "source": [
    "results = GetResultsCSV_evidence(model,(train_ds, test_ds, validation_ds),suffix=\"new_model\", validation=True)"
   ]
  },
  {
   "cell_type": "code",
   "execution_count": 274,
   "metadata": {},
   "outputs": [
    {
     "name": "stdout",
     "output_type": "stream",
     "text": [
      "10000\n",
      "labelstion: 99 of 10000\n",
      "predictions complete, analyizing\n",
      "mean Success:  tf.Tensor(11.716626070966624, shape=(), dtype=float64)\n",
      "mean Fail:  tf.Tensor(11.55577278137207, shape=(), dtype=float64)\n"
     ]
    },
    {
     "data": {
      "image/png": "[encoded data removed]",
      "text/plain": [
       "<Figure size 720x720 with 2 Axes>"
      ]
     },
     "metadata": {
      "needs_background": "light"
     },
     "output_type": "display_data"
    }
   ],
   "source": [
    "results = GetResultsCSV_evidence(model,(train_ds, test_ds, validation_ds),suffix=\"new_model\", validation=True)"
   ]
  },
  {
   "cell_type": "code",
   "execution_count": 425,
   "metadata": {},
   "outputs": [
    {
     "ename": "AttributeError",
     "evalue": "'NoneType' object has no attribute 'head'",
     "output_type": "error",
     "traceback": [
      "\u001b[1;31m---------------------------------------------------------------------------\u001b[0m",
      "\u001b[1;31mAttributeError\u001b[0m                            Traceback (most recent call last)",
      "\u001b[1;32m<ipython-input-425-0f9ba5b4964d>\u001b[0m in \u001b[0;36m<module>\u001b[1;34m\u001b[0m\n\u001b[1;32m----> 1\u001b[1;33m \u001b[0mresults\u001b[0m\u001b[1;33m.\u001b[0m\u001b[0mhead\u001b[0m\u001b[1;33m(\u001b[0m\u001b[1;33m)\u001b[0m\u001b[1;33m\u001b[0m\u001b[1;33m\u001b[0m\u001b[0m\n\u001b[0m",
      "\u001b[1;31mAttributeError\u001b[0m: 'NoneType' object has no attribute 'head'"
     ]
    }
   ],
   "source": [
    "results.head()"
   ]
  },
  {
   "cell_type": "code",
   "execution_count": null,
   "metadata": {},
   "outputs": [],
   "source": []
  }
 ],
 "metadata": {
  "interpreter": {
   "hash": "7483e188a462fd4248cd8d23b24bc727a5fe7a35e4044aa57ebcc92f8fe9e445"
  },
  "kernelspec": {
   "display_name": "Python 3",
   "language": "python",
   "name": "python3"
  },
  "language_info": {
   "codemirror_mode": {
    "name": "ipython",
    "version": 3
   },
   "file_extension": ".py",
   "mimetype": "text/x-python",
   "name": "python",
   "nbconvert_exporter": "python",
   "pygments_lexer": "ipython3",
   "version": "3.6.7"
  }
 },
 "nbformat": 4,
 "nbformat_minor": 2
}
