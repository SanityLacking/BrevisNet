{
 "cells": [
  {
   "cell_type": "code",
   "execution_count": 1,
   "metadata": {},
   "outputs": [],
   "source": [
    "import numpy as np\n",
    "import pandas as pd"
   ]
  },
  {
   "cell_type": "markdown",
   "metadata": {},
   "source": [
    "Code for graphing functions"
   ]
  },
  {
   "cell_type": "code",
   "execution_count": 3,
   "metadata": {},
   "outputs": [],
   "source": [
    "import numpy as np\n",
    "import pandas as pd\n",
    "import math\n",
    "from matplotlib.ticker import FormatStrFormatter\n",
    "import matplotlib.pyplot as plt\n",
    "plt.style.use('seaborn-whitegrid')\n",
    "\n",
    "def kneeTest(pred, labels, entropy, num_outputs, classes, output_names=[]):\n",
    "    #get series of entropy values, series of \n",
    "#     print(pred)\n",
    "    resultsDict = {}\n",
    "    results = np.equal(pred, labels)\n",
    "    pred = np.array(pred)\n",
    "    labels = np.array(labels)\n",
    "    entropy = np.array(entropy)\n",
    "    classCount = {}\n",
    "#     results = pred\n",
    "    labelClasses=classes\n",
    "    transpose_results = np.transpose(results) #truths\n",
    "    transpose_preds = np.transpose(pred) #per exit rather then per input\n",
    "    transpose_entropy = np.transpose(entropy) #per exit rather then per input\n",
    "    transpose_labels = np.transpose(labels)\n",
    "    # %matplotlib inline\n",
    "    import matplotlib.pyplot as plt\n",
    "    plt.style.use('seaborn-whitegrid')\n",
    "    fig = plt.figure()\n",
    "    series=[]\n",
    "    fig, axs = plt.subplots(2, 2)\n",
    "    fig.tight_layout()\n",
    "    df =  pd.DataFrame() \n",
    "#     print(transpose_entropy)\n",
    "#     for branch in branches:\n",
    "#          for class in classes:\n",
    "#                 for entropy in entropies:\n",
    "#                     classAccuracy = sum of truth labels /count of truth labels where entropies <= entropy \n",
    "    returnData = []\n",
    "    for i, branchEntropy in enumerate(transpose_entropy):\n",
    "        print(\"branch {}\".format(i))\n",
    "        classEntropy = {}\n",
    "        for j, labelClass in enumerate(labelClasses):\n",
    "            classEntropy[labelClass] = []\n",
    "#             print(\"class {}\".format(labelClass),end=\"\\r\")\n",
    "            for k, entropy in enumerate(branchEntropy):\n",
    "                # if there are no entries for a label class, this would produce an accuracy of NaN, so instead skip. \n",
    "#                 print(\"sum is: {} len is: {}, combined is: {}\".format(transpose_results[i][np.where((branchEntropy <= entropy) & (transpose_labels[i] == labelClass))].sum(), len(transpose_labels[i][np.where((transpose_labels[i] == labelClass))]),transpose_results[i][np.where((branchEntropy <= entropy) & (transpose_labels[i] == labelClass))].sum()/len(transpose_labels[i][np.where((transpose_labels[i] == labelClass))])))\n",
    "                if len(transpose_preds[i][np.where((transpose_preds[i] == labelClass))])==0 :\n",
    "#                     print(\"skip!\")\n",
    "                    continue\n",
    "                seriesEntropy = {}\n",
    "                seriesEntropy[\"entropy\"] = entropy\n",
    "                seriesEntropy[\"pred\"] = transpose_preds[i][np.where((branchEntropy <= entropy) & (transpose_preds[i] == labelClass))] # select all where labelClass is PREDICTED\n",
    "                seriesEntropy[\"labels\"] = transpose_labels[i][np.where((branchEntropy <= entropy) & (transpose_preds[i] == labelClass))] # select all where labelClass is PREDICTED\n",
    "                seriesEntropy[\"accuracy\"] = transpose_results[i][np.where((branchEntropy <= entropy) & (transpose_labels[i] == labelClass))].sum()/len(transpose_labels[i][np.where((transpose_labels[i] == labelClass))])\n",
    "                classEntropy[labelClass].append(seriesEntropy)\n",
    "            df = pd.DataFrame(classEntropy[labelClass],columns=[\"entropy\",\"pred\",\"labels\",\"accuracy\"])\n",
    "            df = df.sort_values(by=[\"entropy\"])\n",
    "#             print(df)\n",
    "            axs[round(int(i/2)), round(i%2)].plot(df[\"entropy\"],df[\"accuracy\"], label=\"Class: {}\".format(labelClass),alpha=0.8)        \n",
    "            axs[round(int(i/2)), round(i%2)].set_ylim([0, 1])\n",
    "\n",
    "        if len(output_names) >= i:\n",
    "            axs[round(int(i/2)), round(i%2)].title.set_text(\"branch: {}\".format(output_names[i]))\n",
    "        else:\n",
    "            axs[round(int(i/2)), round(i%2)].title.set_text(\"branch: {}\".format(i))\n",
    "            \n",
    "        returnData.append(classEntropy)\n",
    "    lines = []\n",
    "    labels = []\n",
    "    for ax in fig.axes:\n",
    "        ax.yaxis.set_major_formatter(FormatStrFormatter('%.2f'))\n",
    "        axLine, axLabel = ax.get_legend_handles_labels()\n",
    "        lines=(axLine)\n",
    "        labels=(axLabel)\n",
    "        \n",
    "        # Set common labels\n",
    "    fig.text(0.5, 0.01, 'Confidence Score', ha='center', va='center')\n",
    "    fig.text(0.01, 0.5, 'Accuracy %', ha='center', va='center', rotation='vertical')\n",
    "    fig.legend(lines, labels,bbox_to_anchor=(1., 1), loc=2,borderaxespad=0.,frameon=True)\n",
    "\n",
    "#     print(output)\n",
    "    \n",
    "#     print(df)\n",
    "#     df.to_csv(\"graph_output.csv\")\n",
    "    return returnData"
   ]
  },
  {
   "cell_type": "code",
   "execution_count": 4,
   "metadata": {},
   "outputs": [],
   "source": [
    "# This is the best entropy accuracy for each class,\n",
    "# now to determine when to trust or pass, what entropy has the best acc for answered items?\n",
    "# of all items seen at this entropy value, what is the accuracy score?\n",
    "import numpy as np\n",
    "import pandas as pd\n",
    "import math\n",
    "from matplotlib.ticker import FormatStrFormatter\n",
    "import matplotlib.pyplot as plt\n",
    "plt.style.use('seaborn-whitegrid')\n",
    "\n",
    "def exitAccuracy(results, labels, classes=[]):\n",
    "    \"\"\" find the accuracy scores of the main network exit for each class\n",
    "            if classes is empty, return the average accuracy for all labels\n",
    "    \"\"\"    \n",
    "#     print(\"number of classes {}\".format(len(classes)))\n",
    "#     print(\"correct answers {}\".format(results.sum()))\n",
    "    classAcc = {}\n",
    "    correct =[]\n",
    "    count = []\n",
    "    percentage = []\n",
    "    if len(classes) > 0:\n",
    "        for i, labelClass in enumerate(classes):            \n",
    "            correct.append(results[np.where(labels==labelClass)].sum())\n",
    "            count.append(len(labels[np.where(labels == labelClass)]))\n",
    "#             try:\n",
    "            p = results[np.where(labels==labelClass)].sum()/len(labels[np.where(labels == labelClass)])\n",
    "#             except expression as identifier:\n",
    "#                 p = 0 \n",
    "            percentage.append(p)\n",
    "            classAcc[labelClass] = results[np.where(labels==labelClass)].sum()/len(labels[np.where(labels == labelClass)])\n",
    "    else: \n",
    "        correct.append(results.sum())\n",
    "        count.append((len(labels)))\n",
    "        p = results.sum()/len(labels)\n",
    "        percentage.append(p)\n",
    "        classAcc[\"all\"] = p\n",
    "    avgAcc = results.sum()/len(labels)\n",
    "    print(\"correct {}\".format(correct))\n",
    "    print(\"count {}\".format(count))\n",
    "    print(\"percentage {}\".format(percentage))\n",
    "\n",
    "    return avgAcc, classAcc\n",
    "\n",
    "def findMainExitAccuracies(pred, labels, num_outputs, labelClasses=[], output_names=[],graph=False):\n",
    "        \"\"\" find the accuracy scores of the main network exit for each class\n",
    "            if classes is empty, return the average accuracy for all labels\n",
    "        \"\"\"\n",
    "        results = np.equal(pred, labels)\n",
    "        pred = np.array(pred)\n",
    "        labels = np.array(labels)\n",
    "        transpose_results = np.transpose(results) #truths\n",
    "        transpose_preds = np.transpose(pred) #per exit rather then per input\n",
    "        transpose_labels = np.transpose(labels)\n",
    "        # %matplotlib inline\n",
    "        if graph==True:\n",
    "            plt.style.use('seaborn-whitegrid')\n",
    "            fig = plt.figure()\n",
    "            fig.tight_layout()\n",
    "            fig, ax = plt.subplots()\n",
    "            ticks = []\n",
    "\n",
    "        df =  pd.DataFrame() \n",
    "        print(\"correct answers {}\".format(transpose_results[0].sum()))\n",
    "        print(\"passed results {}\".format(len(transpose_results[0])))\n",
    "        avgAcc, classAcc= exitAccuracy(transpose_results[0],transpose_labels[0],labelClasses)\n",
    "        if graph==True:\n",
    "            for i, x in enumerate(classAcc):\n",
    "                ticks.append(x)\n",
    "#                 print(x)                \n",
    "                plt.bar(x, classAcc[x], label=\"Class: {}\".format(x),alpha=0.8) \n",
    "                if classAcc[x] != 0:\n",
    "                    if type(x) != str:\n",
    "                        plt.text(x-.3, classAcc[x]-0.025, \"{}\".format(round(classAcc[x],2)), color='black', va='center', fontweight='bold')\n",
    "                    else: \n",
    "                        plt.text(x, classAcc[x]-0.025, \"{}\".format(round(classAcc[x],2)), color='black', va='center', fontweight='bold')\n",
    "#                 plt.bar(x, avgAcc, label=\"Avg Accuracy\",alpha=0.8,bottom=classAcc[x]) \n",
    "            if len(labelClasses) > 0:\n",
    "                plt.hlines(avgAcc,-.5,len(classAcc.keys())-.5,label =\"Accuracy\", linestyles=\"dashed\", alpha=0.5)\n",
    "                plt.text(len(classAcc.keys())-.5, .74, ' Avg Acc%', ha='left', va='center')\n",
    "    #     print(sum(classAcc.values())/len(classAcc.values()))\n",
    "        if graph==True:\n",
    "            plt.xticks(ticks)\n",
    "            plt.title(\"Class Label Accuracy\")\n",
    "            plt.ylabel(\"Accuracy %\")\n",
    "            plt.xlabel(\"Label Class #\")\n",
    "            plt.show()\n",
    "        return classAcc\n",
    "\n",
    "\n",
    "def findConfidencePoint(pred, labels, entropy, num_outputs, classes, output_names=[]):\n",
    "    #get series of entropy values, series of \n",
    "#     print(pred)\n",
    "    resultsDict = {}\n",
    "    results = np.equal(pred, labels)\n",
    "    pred = np.array(pred)\n",
    "    labels = np.array(labels)\n",
    "    entropy = np.array(entropy)\n",
    "    classCount = {}\n",
    "#     results = pred\n",
    "    labelClasses=classes\n",
    "    transpose_results = np.transpose(results) #truths\n",
    "    transpose_preds = np.transpose(pred) #per exit rather then per input\n",
    "    transpose_entropy = np.transpose(entropy) #per exit rather then per input\n",
    "    transpose_labels = np.transpose(labels)\n",
    "    # %matplotlib inline\n",
    "    import matplotlib.pyplot as plt\n",
    "    plt.style.use('seaborn-whitegrid')\n",
    "    fig = plt.figure()\n",
    "    series=[]\n",
    "    fig, axs = plt.subplots(2, 2)\n",
    "    fig.tight_layout()\n",
    "    df =  pd.DataFrame() \n",
    "    returnData = []\n",
    "    for i, branchEntropy in enumerate(transpose_entropy):\n",
    "        print(\"branch {}\".format(i))\n",
    "        classEntropy = {}\n",
    "        for j, labelClass in enumerate(labelClasses):\n",
    "            classEntropy[labelClass] = []\n",
    "#             print(\"class {}\".format(labelClass),end=\"\\r\")\n",
    "            for k, entropy in enumerate(branchEntropy):\n",
    "                # if there are no entries for a label class, this would produce an accuracy of NaN, so instead skip. \n",
    "#                 print(\"sum is: {} len is: {}, combined is: {}\".format(transpose_results[i][np.where((branchEntropy <= entropy) & (transpose_labels[i] == labelClass))].sum(), len(transpose_labels[i][np.where((transpose_labels[i] == labelClass))]),transpose_results[i][np.where((branchEntropy <= entropy) & (transpose_labels[i] == labelClass))].sum()/len(transpose_labels[i][np.where((transpose_labels[i] == labelClass))])))\n",
    "                if len(transpose_preds[i][np.where((transpose_preds[i] == labelClass))])==0 :\n",
    "#                     print(\"skip!\")\n",
    "                    continue\n",
    "                seriesEntropy = {}\n",
    "                seriesEntropy[\"entropy\"] = entropy\n",
    "                seriesEntropy[\"pred\"] = transpose_preds[i][np.where((branchEntropy <= entropy) & (transpose_preds[i] == labelClass))] # select all where labelClass is PREDICTED\n",
    "                seriesEntropy[\"labels\"] = transpose_labels[i][np.where((branchEntropy <= entropy) & (transpose_preds[i] == labelClass))] # select all where labelClass is PREDICTED\n",
    "                seriesEntropy[\"accuracy\"] = transpose_results[i][np.where((branchEntropy <= entropy) & (transpose_labels[i] == labelClass))].sum()/len(transpose_labels[i][np.where((branchEntropy <= entropy) & (transpose_labels[i] == labelClass))])\n",
    "                seriesEntropy[\"count\"] = len(transpose_results[i][np.where((branchEntropy <= entropy) & (transpose_labels[i] == labelClass))])\n",
    "                classEntropy[labelClass].append(seriesEntropy)\n",
    "            df = pd.DataFrame(classEntropy[labelClass],columns=[\"entropy\",\"pred\",\"labels\",\"accuracy\",\"count\"])\n",
    "            df = df.sort_values(by=[\"count\"])\n",
    "#             print(df[\"accuracy\"].size)\n",
    "            #find max of count where accuracy >= mainbranch acc\n",
    "            \n",
    "            axs[round(int(i/2)), round(i%2)].plot(df[\"count\"],df[\"accuracy\"], label=\"Class: {}\".format(labelClass),alpha=0.8)        \n",
    "            axs[round(int(i/2)), round(i%2)].set_ylim([0, 1])\n",
    "\n",
    "        if len(output_names) >= i:\n",
    "            axs[round(int(i/2)), round(i%2)].title.set_text(\"branch: {}\".format(output_names[i]))\n",
    "        else:\n",
    "            axs[round(int(i/2)), round(i%2)].title.set_text(\"branch: {}\".format(i))\n",
    "            \n",
    "        returnData.append(classEntropy)\n",
    "    lines = []\n",
    "    labels = []\n",
    "    for ax in fig.axes:\n",
    "        ax.yaxis.set_major_formatter(FormatStrFormatter('%.2f'))\n",
    "        axLine, axLabel = ax.get_legend_handles_labels()\n",
    "        lines=(axLine)\n",
    "        labels=(axLabel)\n",
    "    \n",
    "    # Set common labels\n",
    "    fig.text(0.5, 0.01, 'Branch Ouput Count', ha='center', va='center')\n",
    "    fig.text(0.01, 0.5, 'Accuracy %', ha='center', va='center', rotation='vertical')\n",
    "\n",
    "    fig.legend(lines, labels,bbox_to_anchor=(1., 1), loc=2,borderaxespad=0.,frameon=True)\n",
    "\n",
    "#     print(output)\n",
    "    \n",
    "#     print(df)\n",
    "#     df.to_csv(\"graph_output.csv\")\n",
    "    return returnData"
   ]
  },
  {
   "cell_type": "code",
   "execution_count": 5,
   "metadata": {},
   "outputs": [],
   "source": []
  },
  {
   "cell_type": "code",
   "execution_count": 6,
   "metadata": {},
   "outputs": [],
   "source": [
    "\n"
   ]
  },
  {
   "cell_type": "code",
   "execution_count": 33,
   "metadata": {},
   "outputs": [],
   "source": [
    "import matplotlib.cm as cm\n",
    "import matplotlib.pyplot as plt\n",
    "\n",
    "def find_nearest(array, value):\n",
    "    \"\"\"returns the index of the element of array that is closest to value\n",
    "        Nan is treated as 0 for the purpose of finding closest value.\n",
    "    \"\"\"\n",
    "    if isinstance(array, pd.Series):\n",
    "        indexes = find_neighbours(value,array)\n",
    "        return indexes\n",
    "    else:\n",
    "        array = np.asarray(array)\n",
    "        idx = np.nanargmin(np.abs(array - value))    \n",
    "    print(\"nearest value to {} is {} at {}\".format(value, array[idx], idx))\n",
    "    return idx\n",
    "\n",
    "def find_neighbours(df, value, colname=\"\"):\n",
    "    \"\"\" find the closest matches to a value in a dataframe, if there are multiple matches, use the match that has the highest \n",
    "        count value, aka the most number of counts.\n",
    "    \"\"\"\n",
    "#     print(df.sort_values(by=colname))\n",
    "    if isinstance(df, pd.DataFrame):\n",
    "        if (df[colname].notna().sum()) <= 0:\n",
    "            # no valid values were found, return 0 \n",
    "            print(\"no Valid values were found for df\")\n",
    "            return None\n",
    "        exactmatch = df[df[colname] == value]\n",
    "        if not exactmatch.empty:\n",
    "            return exactmatch[\"count\"].argmax()\n",
    "        else:\n",
    "            try:            \n",
    "                lowerneighbour_ind = df[df[colname] < value][colname].idxmax()\n",
    "            except ValueError:\n",
    "                lowerneighbour_ind = 0\n",
    "            try:\n",
    "                upperneighbour_ind = df[df[colname] > value][colname].idxmin()\n",
    "            except ValueError:\n",
    "                upperneighbour_ind = 0\n",
    "                \n",
    "#             print(\"lowerneighbour_ind {}\".format(lowerneighbour_ind))\n",
    "#             print(\"upperneighbour_ind {}\".format(upperneighbour_ind))\n",
    "            \n",
    "            neighbours = df.iloc[[lowerneighbour_ind,upperneighbour_ind]]\n",
    "#             print(neighbours)\n",
    "#             print(neighbours[\"count\"].idxmax())\n",
    "\n",
    "#             neighbours = neighbours[\"accuracy\"].sub(value).abs().idxmin()\n",
    "#             print(neighbours)\n",
    "            return neighbours[\"count\"].idxmax()\n",
    "    else:\n",
    "        print(\"input is not a Dataframe, {}\".format(type(df)))\n",
    "        return None\n",
    "    \n",
    "    \n",
    "        \n",
    "\n",
    "    \n",
    "def findThreshold(pred, labels, entropy, num_outputs, classes, output_names=[],mainBranchNum=0,avgAcc=False,graph=False):\n",
    "    \"\"\"    Find and Mark the threshold points for each class.\n",
    "        mainbranchNum: the position in the pred array of the main exit, defaults to the first exit.\n",
    "    \"\"\"    \n",
    "    resultsDict = {}\n",
    "    results = np.equal(pred, labels)\n",
    "    pred = np.array(pred)\n",
    "    labels = np.array(labels)\n",
    "    entropy = np.array(entropy)\n",
    "    classCount = {}\n",
    "    labelClasses=classes\n",
    "    transpose_results = np.transpose(results) #truths\n",
    "    transpose_preds = np.transpose(pred) #per exit rather then per input\n",
    "    transpose_entropy = np.transpose(entropy) #per exit rather then per input\n",
    "    transpose_labels = np.transpose(labels)\n",
    "    if graph:\n",
    "        plt.style.use('seaborn-whitegrid')\n",
    "        fig = plt.figure()\n",
    "        series=[]\n",
    "        fig, axs = plt.subplots(2, 2)\n",
    "        fig.tight_layout()\n",
    "    df =  pd.DataFrame() \n",
    "    returnData = []\n",
    "    \n",
    "    ##find the main exit accuracy levels to compare the branches to.\n",
    "    ##assume the first branch is the main branch to match too\n",
    "    \n",
    "    mainAcc = findMainExitAccuracies(pred, labels, num_outputs, classes, output_names, graph=False)\n",
    "    print(\"accuracy Value: {}\".format(mainAcc))\n",
    "\n",
    "    if avgAcc:\n",
    "        mainAcc = [sum(mainAcc.values())/float(len(mainAcc.values()))]\n",
    "        mainAcc = np.repeat(mainAcc,len(classes))\n",
    "        \n",
    "    print(\"accuracy Value: {}\".format(mainAcc))\n",
    "    thresholdPoints={}\n",
    "    colors = cm.rainbow(np.linspace(0, 1, len(labelClasses)))\n",
    "    for i, branchEntropy in enumerate(transpose_entropy):\n",
    "#         print(\"branch {}\".format(i))\n",
    "        classEntropy = {}\n",
    "        thresholdPoints[output_names[i]] = {}\n",
    "        for j, labelClass in enumerate(labelClasses):\n",
    "            classEntropy[labelClass] = []\n",
    "            for k, entropy in enumerate(branchEntropy):\n",
    "#                 print(\"sum is: {} len is: {}, combined is: {}\".format(transpose_results[i][np.where((branchEntropy <= entropy) & (transpose_labels[i] == labelClass))].sum(), len(transpose_labels[i][np.where((transpose_labels[i] == labelClass))]),transpose_results[i][np.where((branchEntropy <= entropy) & (transpose_labels[i] == labelClass))].sum()/len(transpose_labels[i][np.where((transpose_labels[i] == labelClass))])))\n",
    "                if len(transpose_preds[i][np.where((transpose_preds[i] == labelClass))])==0 :\n",
    "#                     print(\"skip!\")\n",
    "                    continue\n",
    "                seriesEntropy = {}\n",
    "                seriesEntropy[\"entropy\"] = entropy\n",
    "                seriesEntropy[\"pred\"] = transpose_preds[i][np.where((branchEntropy <= entropy) & (transpose_preds[i] == labelClass))] # select all where labelClass is PREDICTED\n",
    "                seriesEntropy[\"labels\"] = transpose_labels[i][np.where((branchEntropy <= entropy) & (transpose_preds[i] == labelClass))] # select all where labelClass is PREDICTED\n",
    "                seriesEntropy[\"accuracy\"] = transpose_results[i][np.where((branchEntropy <= entropy) & (transpose_labels[i] == labelClass))].sum()/len(transpose_labels[i][np.where((branchEntropy <= entropy) & (transpose_labels[i] == labelClass))])\n",
    "                seriesEntropy[\"count\"] = len(transpose_results[i][np.where((branchEntropy <= entropy) & (transpose_labels[i] == labelClass))])\n",
    "                classEntropy[labelClass].append(seriesEntropy)\n",
    "            df = pd.DataFrame(classEntropy[labelClass],columns=[\"entropy\",\"pred\",\"labels\",\"accuracy\",\"count\"])\n",
    "            threshold_idx = find_neighbours(df[[\"accuracy\",\"count\"]],mainAcc[labelClass],\"accuracy\")\n",
    "            if threshold_idx == None:\n",
    "                thresholdPoints[output_names[i]][labelClass] = {\"accuracy\":0,\"count\":0,\"entropy\":0}\n",
    "            else:\n",
    "#                 print(output_names[i])\n",
    "#                 print(labelClass)\n",
    "#                 print(threshold_idx)\n",
    "#                 print(df.iloc[threshold_idx][[\"accuracy\",\"count\",\"entropy\"]])\n",
    "                thresholdPoints[output_names[i]][labelClass] = df.iloc[threshold_idx][[\"accuracy\",\"count\",\"entropy\"]].to_dict()\n",
    "#             maxRowidx = df[\"count\"].idxmax()\n",
    "            print(\"nearest value to {} is {} at {} with {} counts \".format(mainAcc[labelClass],df[\"accuracy\"][threshold_idx],threshold_idx, df[\"count\"][threshold_idx]))\n",
    "#             print(\"The max count value is {} with {} counts\".format(float(df.iloc[maxRowidx][\"accuracy\"]), int(df.iloc[maxRowidx][\"count\"])))\n",
    "            if graph:\n",
    "                axs[round(int(i/2)), round(i%2)].plot(thresholdPoints[output_names[i]][labelClass][\"count\"],thresholdPoints[output_names[i]][labelClass][\"accuracy\"],marker='v', markersize=5, color=colors[j])\n",
    "                df = df.sort_values(by=[\"count\"])\n",
    "                axs[round(int(i/2)), round(i%2)].plot(df[\"count\"],df[\"accuracy\"], label=\"Class: {}\".format(labelClass), color=colors[j], alpha=0.8)        \n",
    "\n",
    "                axs[round(int(i/2)), round(i%2)].plot()\n",
    "\n",
    "                axs[round(int(i/2)), round(i%2)].set_ylim([0, 1])\n",
    "        if graph:\n",
    "            if len(output_names) >= i:\n",
    "                axs[round(int(i/2)), round(i%2)].title.set_text(\"branch: {}\".format(output_names[i]))\n",
    "            else:\n",
    "                axs[round(int(i/2)), round(i%2)].title.set_text(\"branch: {}\".format(i))\n",
    "            \n",
    "        returnData.append(classEntropy)\n",
    "    lines = []\n",
    "    labels = []\n",
    "    if graph:\n",
    "        for ax in fig.axes:\n",
    "            ax.yaxis.set_major_formatter(FormatStrFormatter('%.2f'))\n",
    "            axLine, axLabel = ax.get_legend_handles_labels()\n",
    "            lines=(axLine)\n",
    "            labels=(axLabel)\n",
    "\n",
    "        # Set common labels\n",
    "        fig.text(0.5, 0.01, 'Items Exit at Branch', ha='center', va='center')\n",
    "        fig.text(0.01, 0.5, 'Accuracy %', ha='center', va='center', rotation='vertical')\n",
    "        fig.legend(lines, labels,bbox_to_anchor=(1., 1), loc=2,borderaxespad=0.,frameon=True)\n",
    "#     df.to_csv(\"graph_output.csv\")\n",
    "    return thresholdPoints\n",
    "\n",
    "def predict(pred, labels, entropy, num_outputs, classes, output_names=[],mainBranchNum=0,avgAcc=False,graph=False):\n",
    "    \"\"\" simulate performing inference on the test set, using a calculated set of thresholds.\n",
    "    \"\"\"\n",
    "    maxE = True # should I use all throughput.\n",
    "    mainBranch = 0 #which exit in the results is the main branch and to be skipped?\n",
    "    resultsDict = {}\n",
    "    results = np.equal(pred, labels)\n",
    "    pred = np.array(pred)\n",
    "    labels = np.array(labels)\n",
    "    entropy = np.array(entropy)\n",
    "    classCount = {}\n",
    "    labelClasses=classes\n",
    "    transpose_results = np.transpose(results) #truths\n",
    "    transpose_preds = np.transpose(pred) #per exit rather then per input\n",
    "    transpose_entropy = np.transpose(entropy) #per exit rather then per input\n",
    "    transpose_labels = np.transpose(labels)\n",
    "    if graph:\n",
    "        plt.style.use('seaborn-whitegrid')\n",
    "        fig = plt.figure()\n",
    "        series=[]\n",
    "        fig, axs = plt.subplots(2, 2)\n",
    "        fig.tight_layout()\n",
    "    df =  pd.DataFrame() \n",
    "    returnData = []\n",
    "    #get the main branch accuracy values\n",
    "    average, mAcc = exitAccuracy(transpose_results[0],transpose_labels[0], labelClasses)\n",
    "    #determine the class thresholds for the branches that are closest to the main branch accuracy values\n",
    "    \n",
    "    thresholdpoints = findThreshold(pred, labels, entropy, 4,[0,1,2,3,4,5,6,7,8,9], output_names,avgAcc= avgAcc)\n",
    "    for i in thresholdpoints:\n",
    "        thresh = pd.DataFrame.from_dict(thresholdpoints[i],orient='index')\n",
    "#         print(i)\n",
    "\n",
    "#         print(thresh)\n",
    "    def classResult(classes):\n",
    "        classes = classes\n",
    "        results={}\n",
    "        for i in range(classes):\n",
    "            results[i]= {\"correct\":0,\"total\":0,\"passed\":0}\n",
    "        return results\n",
    "    BR={}\n",
    "    for i in output_names:\n",
    "        BR[i]=classResult(len(classes))\n",
    "    \n",
    "    #iterate through results to see which predictions meet threshold requirements.\n",
    "    for i, prediction in enumerate(pred):\n",
    "#         print(prediction)\n",
    "        for j, bResult in enumerate(prediction):\n",
    "#             if j == mainBranch: ###skip the first branch as it is the main \n",
    "#                 continue\n",
    "            if maxE == False:    \n",
    "#                 if entropy[i][j] <= thresholdpoints[output_names[j]][bResult][\"entropy\"]:\n",
    "#                 print(\"pred {}(l:{}) at branch {} is accepted, {} <={}\".format(bResult,labels[i][j],j,entropy[i][j],thresholdpoints[output_names[j]][bResult][\"entropy\"]))\n",
    "#                 print(BR[output_names[j]][labels[i][j]])\n",
    "                if bResult == labels[i][j]:\n",
    "                    BR[output_names[j]][labels[i][j]][\"correct\"] += 1 \n",
    "                BR[output_names[j]][labels[i][j]][\"total\"] += 1 \n",
    "            else:\n",
    "                BR[output_names[j]][labels[i][j]][\"passed\"] += 1 \n",
    "    print(BR)\n",
    "    return BR\n"
   ]
  },
  {
   "cell_type": "markdown",
   "metadata": {},
   "source": [
    "Smaller Test Set"
   ]
  },
  {
   "cell_type": "code",
   "execution_count": 8,
   "metadata": {},
   "outputs": [],
   "source": [
    "import csv\n",
    "\n",
    "with open('results/labels_full.csv', newline='') as f:\n",
    "    reader = csv.reader(f,quoting=csv.QUOTE_NONNUMERIC)\n",
    "    next(reader)\n",
    "    pred = list(reader)\n",
    "with open('results/predClasses_full.csv', newline='') as f:\n",
    "    reader = csv.reader(f,quoting=csv.QUOTE_NONNUMERIC)\n",
    "    next(reader)\n",
    "    labels = list(reader)\n",
    "with open('results/predEntropy_full.csv', newline='') as f:\n",
    "    reader = csv.reader(f,quoting=csv.QUOTE_NONNUMERIC)\n",
    "    next(reader)\n",
    "    entropy = list(reader)\n",
    "# y = kneeTest(pred, labels, entropy, 4,[0,1,2,3,4,5,6,7,8,9], [\"dense5\",\"pooling_3\",\"pooling_4\",\"dense_3\"])\n",
    "# print(y)"
   ]
  },
  {
   "cell_type": "markdown",
   "metadata": {},
   "source": [
    "Larger Test Set"
   ]
  },
  {
   "cell_type": "code",
   "execution_count": 9,
   "metadata": {},
   "outputs": [],
   "source": [
    "import csv\n",
    "plt.rcParams[\"figure.figsize\"] = (10,10)\n",
    "with open('results/predClasses_alt8_1.csv', newline='') as f:\n",
    "    reader = csv.reader(f,quoting=csv.QUOTE_NONNUMERIC)\n",
    "    next(reader, None)  # skip the headers\n",
    "    pred = list(reader)\n",
    "with open('results/labels_alt8_1.csv', newline='') as f:\n",
    "    reader = csv.reader(f,quoting=csv.QUOTE_NONNUMERIC)\n",
    "    next(reader, None)  # skip the headers\n",
    "    labels = list(reader)\n",
    "with open('results/predEntropy_alt8_1.csv', newline='') as f:\n",
    "    reader = csv.reader(f,quoting=csv.QUOTE_NONNUMERIC)\n",
    "    next(reader, None)  # skip the headers\n",
    "    entropy = list(reader)\n"
   ]
  },
  {
   "cell_type": "markdown",
   "metadata": {},
   "source": [
    "Knee Test"
   ]
  },
  {
   "cell_type": "code",
   "execution_count": 9,
   "metadata": {
    "scrolled": true
   },
   "outputs": [
    {
     "name": "stdout",
     "output_type": "stream",
     "text": [
      "branch 0\n",
      "branch 1\n"
     ]
    },
    {
     "ename": "KeyboardInterrupt",
     "evalue": "",
     "output_type": "error",
     "traceback": [
      "\u001b[1;31m---------------------------------------------------------------------------\u001b[0m",
      "\u001b[1;31mKeyboardInterrupt\u001b[0m                         Traceback (most recent call last)",
      "\u001b[1;32m<ipython-input-9-87ff0d1e6dbb>\u001b[0m in \u001b[0;36m<module>\u001b[1;34m\u001b[0m\n\u001b[1;32m----> 1\u001b[1;33m \u001b[0my\u001b[0m \u001b[1;33m=\u001b[0m \u001b[0mkneeTest\u001b[0m\u001b[1;33m(\u001b[0m\u001b[0mpred\u001b[0m\u001b[1;33m,\u001b[0m \u001b[0mlabels\u001b[0m\u001b[1;33m,\u001b[0m \u001b[0mentropy\u001b[0m\u001b[1;33m,\u001b[0m \u001b[1;36m4\u001b[0m\u001b[1;33m,\u001b[0m\u001b[1;33m[\u001b[0m\u001b[1;36m0\u001b[0m\u001b[1;33m,\u001b[0m\u001b[1;36m1\u001b[0m\u001b[1;33m,\u001b[0m\u001b[1;36m2\u001b[0m\u001b[1;33m,\u001b[0m\u001b[1;36m3\u001b[0m\u001b[1;33m,\u001b[0m\u001b[1;36m4\u001b[0m\u001b[1;33m,\u001b[0m\u001b[1;36m5\u001b[0m\u001b[1;33m,\u001b[0m\u001b[1;36m6\u001b[0m\u001b[1;33m,\u001b[0m\u001b[1;36m7\u001b[0m\u001b[1;33m,\u001b[0m\u001b[1;36m8\u001b[0m\u001b[1;33m,\u001b[0m\u001b[1;36m9\u001b[0m\u001b[1;33m]\u001b[0m\u001b[1;33m,\u001b[0m \u001b[1;33m[\u001b[0m\u001b[1;34m\"dense5\"\u001b[0m\u001b[1;33m,\u001b[0m\u001b[1;34m\"pooling_3\"\u001b[0m\u001b[1;33m,\u001b[0m\u001b[1;34m\"pooling_4\"\u001b[0m\u001b[1;33m,\u001b[0m\u001b[1;34m\"dense_3\"\u001b[0m\u001b[1;33m]\u001b[0m\u001b[1;33m)\u001b[0m\u001b[1;33m\u001b[0m\u001b[1;33m\u001b[0m\u001b[0m\n\u001b[0m",
      "\u001b[1;32m<ipython-input-2-1bf8ff16bdb6>\u001b[0m in \u001b[0;36mkneeTest\u001b[1;34m(pred, labels, entropy, num_outputs, classes, output_names)\u001b[0m\n\u001b[0;32m     51\u001b[0m                 \u001b[0mseriesEntropy\u001b[0m\u001b[1;33m[\u001b[0m\u001b[1;34m\"pred\"\u001b[0m\u001b[1;33m]\u001b[0m \u001b[1;33m=\u001b[0m \u001b[0mtranspose_preds\u001b[0m\u001b[1;33m[\u001b[0m\u001b[0mi\u001b[0m\u001b[1;33m]\u001b[0m\u001b[1;33m[\u001b[0m\u001b[0mnp\u001b[0m\u001b[1;33m.\u001b[0m\u001b[0mwhere\u001b[0m\u001b[1;33m(\u001b[0m\u001b[1;33m(\u001b[0m\u001b[0mbranchEntropy\u001b[0m \u001b[1;33m<=\u001b[0m \u001b[0mentropy\u001b[0m\u001b[1;33m)\u001b[0m \u001b[1;33m&\u001b[0m \u001b[1;33m(\u001b[0m\u001b[0mtranspose_preds\u001b[0m\u001b[1;33m[\u001b[0m\u001b[0mi\u001b[0m\u001b[1;33m]\u001b[0m \u001b[1;33m==\u001b[0m \u001b[0mlabelClass\u001b[0m\u001b[1;33m)\u001b[0m\u001b[1;33m)\u001b[0m\u001b[1;33m]\u001b[0m \u001b[1;31m# select all where labelClass is PREDICTED\u001b[0m\u001b[1;33m\u001b[0m\u001b[1;33m\u001b[0m\u001b[0m\n\u001b[0;32m     52\u001b[0m                 \u001b[0mseriesEntropy\u001b[0m\u001b[1;33m[\u001b[0m\u001b[1;34m\"labels\"\u001b[0m\u001b[1;33m]\u001b[0m \u001b[1;33m=\u001b[0m \u001b[0mtranspose_labels\u001b[0m\u001b[1;33m[\u001b[0m\u001b[0mi\u001b[0m\u001b[1;33m]\u001b[0m\u001b[1;33m[\u001b[0m\u001b[0mnp\u001b[0m\u001b[1;33m.\u001b[0m\u001b[0mwhere\u001b[0m\u001b[1;33m(\u001b[0m\u001b[1;33m(\u001b[0m\u001b[0mbranchEntropy\u001b[0m \u001b[1;33m<=\u001b[0m \u001b[0mentropy\u001b[0m\u001b[1;33m)\u001b[0m \u001b[1;33m&\u001b[0m \u001b[1;33m(\u001b[0m\u001b[0mtranspose_preds\u001b[0m\u001b[1;33m[\u001b[0m\u001b[0mi\u001b[0m\u001b[1;33m]\u001b[0m \u001b[1;33m==\u001b[0m \u001b[0mlabelClass\u001b[0m\u001b[1;33m)\u001b[0m\u001b[1;33m)\u001b[0m\u001b[1;33m]\u001b[0m \u001b[1;31m# select all where labelClass is PREDICTED\u001b[0m\u001b[1;33m\u001b[0m\u001b[1;33m\u001b[0m\u001b[0m\n\u001b[1;32m---> 53\u001b[1;33m                 \u001b[0mseriesEntropy\u001b[0m\u001b[1;33m[\u001b[0m\u001b[1;34m\"accuracy\"\u001b[0m\u001b[1;33m]\u001b[0m \u001b[1;33m=\u001b[0m \u001b[0mtranspose_results\u001b[0m\u001b[1;33m[\u001b[0m\u001b[0mi\u001b[0m\u001b[1;33m]\u001b[0m\u001b[1;33m[\u001b[0m\u001b[0mnp\u001b[0m\u001b[1;33m.\u001b[0m\u001b[0mwhere\u001b[0m\u001b[1;33m(\u001b[0m\u001b[1;33m(\u001b[0m\u001b[0mbranchEntropy\u001b[0m \u001b[1;33m<=\u001b[0m \u001b[0mentropy\u001b[0m\u001b[1;33m)\u001b[0m \u001b[1;33m&\u001b[0m \u001b[1;33m(\u001b[0m\u001b[0mtranspose_labels\u001b[0m\u001b[1;33m[\u001b[0m\u001b[0mi\u001b[0m\u001b[1;33m]\u001b[0m \u001b[1;33m==\u001b[0m \u001b[0mlabelClass\u001b[0m\u001b[1;33m)\u001b[0m\u001b[1;33m)\u001b[0m\u001b[1;33m]\u001b[0m\u001b[1;33m.\u001b[0m\u001b[0msum\u001b[0m\u001b[1;33m(\u001b[0m\u001b[1;33m)\u001b[0m\u001b[1;33m/\u001b[0m\u001b[0mlen\u001b[0m\u001b[1;33m(\u001b[0m\u001b[0mtranspose_labels\u001b[0m\u001b[1;33m[\u001b[0m\u001b[0mi\u001b[0m\u001b[1;33m]\u001b[0m\u001b[1;33m[\u001b[0m\u001b[0mnp\u001b[0m\u001b[1;33m.\u001b[0m\u001b[0mwhere\u001b[0m\u001b[1;33m(\u001b[0m\u001b[1;33m(\u001b[0m\u001b[0mtranspose_labels\u001b[0m\u001b[1;33m[\u001b[0m\u001b[0mi\u001b[0m\u001b[1;33m]\u001b[0m \u001b[1;33m==\u001b[0m \u001b[0mlabelClass\u001b[0m\u001b[1;33m)\u001b[0m\u001b[1;33m)\u001b[0m\u001b[1;33m]\u001b[0m\u001b[1;33m)\u001b[0m\u001b[1;33m\u001b[0m\u001b[1;33m\u001b[0m\u001b[0m\n\u001b[0m\u001b[0;32m     54\u001b[0m                 \u001b[0mclassEntropy\u001b[0m\u001b[1;33m[\u001b[0m\u001b[0mlabelClass\u001b[0m\u001b[1;33m]\u001b[0m\u001b[1;33m.\u001b[0m\u001b[0mappend\u001b[0m\u001b[1;33m(\u001b[0m\u001b[0mseriesEntropy\u001b[0m\u001b[1;33m)\u001b[0m\u001b[1;33m\u001b[0m\u001b[1;33m\u001b[0m\u001b[0m\n\u001b[0;32m     55\u001b[0m             \u001b[0mdf\u001b[0m \u001b[1;33m=\u001b[0m \u001b[0mpd\u001b[0m\u001b[1;33m.\u001b[0m\u001b[0mDataFrame\u001b[0m\u001b[1;33m(\u001b[0m\u001b[0mclassEntropy\u001b[0m\u001b[1;33m[\u001b[0m\u001b[0mlabelClass\u001b[0m\u001b[1;33m]\u001b[0m\u001b[1;33m,\u001b[0m\u001b[0mcolumns\u001b[0m\u001b[1;33m=\u001b[0m\u001b[1;33m[\u001b[0m\u001b[1;34m\"entropy\"\u001b[0m\u001b[1;33m,\u001b[0m\u001b[1;34m\"pred\"\u001b[0m\u001b[1;33m,\u001b[0m\u001b[1;34m\"labels\"\u001b[0m\u001b[1;33m,\u001b[0m\u001b[1;34m\"accuracy\"\u001b[0m\u001b[1;33m]\u001b[0m\u001b[1;33m)\u001b[0m\u001b[1;33m\u001b[0m\u001b[1;33m\u001b[0m\u001b[0m\n",
      "\u001b[1;32m<__array_function__ internals>\u001b[0m in \u001b[0;36mwhere\u001b[1;34m(*args, **kwargs)\u001b[0m\n",
      "\u001b[1;31mKeyboardInterrupt\u001b[0m: "
     ]
    },
    {
     "data": {
      "text/plain": [
       "<Figure size 720x720 with 0 Axes>"
      ]
     },
     "metadata": {},
     "output_type": "display_data"
    },
    {
     "data": {
      "image/png": "[encoded data removed]",
      "text/plain": [
       "<Figure size 720x720 with 4 Axes>"
      ]
     },
     "metadata": {},
     "output_type": "display_data"
    }
   ],
   "source": [
    "y = kneeTest(pred, labels, entropy, 4,[0,1,2,3,4,5,6,7,8,9], [\"dense5\",\"pooling_3\",\"pooling_4\",\"dense_3\"])\n"
   ]
  },
  {
   "cell_type": "markdown",
   "metadata": {},
   "source": [
    "Find Confidence Point for branches"
   ]
  },
  {
   "cell_type": "code",
   "execution_count": null,
   "metadata": {
    "scrolled": true
   },
   "outputs": [],
   "source": [
    "y = findConfidencePoint(pred, labels, entropy, 4,[0,1,2,3,4,5,6,7,8,9], [\"dense5\",\"pooling_3\",\"pooling_4\",\"dense_3\"])"
   ]
  },
  {
   "cell_type": "markdown",
   "metadata": {},
   "source": [
    "Run the Prediction"
   ]
  },
  {
   "cell_type": "code",
   "execution_count": 168,
   "metadata": {},
   "outputs": [
    {
     "name": "stdout",
     "output_type": "stream",
     "text": [
      "correct [863, 933, 774, 679, 818, 772, 904, 886, 919, 891]\n",
      "count [1000, 1000, 1000, 1000, 1000, 1000, 1000, 1000, 1000, 1000]\n",
      "percentage [0.863, 0.933, 0.774, 0.679, 0.818, 0.772, 0.904, 0.886, 0.919, 0.891]\n",
      "correct answers 8439\n",
      "passed results 10000\n",
      "correct [863, 933, 774, 679, 818, 772, 904, 886, 919, 891]\n",
      "count [1000, 1000, 1000, 1000, 1000, 1000, 1000, 1000, 1000, 1000]\n",
      "percentage [0.863, 0.933, 0.774, 0.679, 0.818, 0.772, 0.904, 0.886, 0.919, 0.891]\n",
      "accuracy Value: {0: 0.863, 1: 0.933, 2: 0.774, 3: 0.679, 4: 0.818, 5: 0.772, 6: 0.904, 7: 0.886, 8: 0.919, 9: 0.891}\n",
      "accuracy Value: [0.8439 0.8439 0.8439 0.8439 0.8439 0.8439 0.8439 0.8439 0.8439 0.8439]\n"
     ]
    },
    {
     "name": "stderr",
     "output_type": "stream",
     "text": [
      "C:\\Users\\GriffithInnovate\\Anaconda3\\envs\\py36torch\\lib\\site-packages\\ipykernel_launcher.py:109: RuntimeWarning: invalid value encountered in long_scalars\n"
     ]
    },
    {
     "name": "stdout",
     "output_type": "stream",
     "text": [
      "nearest value to 0.8439 is 0.863 at 87 with 1000 counts \n",
      "nearest value to 0.8439 is 0.933 at 25 with 1000 counts \n"
     ]
    },
    {
     "name": "stderr",
     "output_type": "stream",
     "text": [
      "C:\\Users\\GriffithInnovate\\Anaconda3\\envs\\py36torch\\lib\\site-packages\\ipykernel_launcher.py:109: RuntimeWarning: invalid value encountered in long_scalars\n"
     ]
    },
    {
     "name": "stdout",
     "output_type": "stream",
     "text": [
      "nearest value to 0.8439 is 0.8437869822485207 at 1863 with 845 counts \n"
     ]
    },
    {
     "name": "stderr",
     "output_type": "stream",
     "text": [
      "C:\\Users\\GriffithInnovate\\Anaconda3\\envs\\py36torch\\lib\\site-packages\\ipykernel_launcher.py:109: RuntimeWarning: invalid value encountered in long_scalars\n"
     ]
    },
    {
     "name": "stdout",
     "output_type": "stream",
     "text": [
      "nearest value to 0.8439 is 0.84375 at 69 with 512 counts \n"
     ]
    },
    {
     "name": "stderr",
     "output_type": "stream",
     "text": [
      "C:\\Users\\GriffithInnovate\\Anaconda3\\envs\\py36torch\\lib\\site-packages\\ipykernel_launcher.py:109: RuntimeWarning: invalid value encountered in long_scalars\n"
     ]
    },
    {
     "name": "stdout",
     "output_type": "stream",
     "text": [
      "nearest value to 0.8439 is 0.843322818086225 at 3459 with 951 counts \n"
     ]
    },
    {
     "name": "stderr",
     "output_type": "stream",
     "text": [
      "C:\\Users\\GriffithInnovate\\Anaconda3\\envs\\py36torch\\lib\\site-packages\\ipykernel_launcher.py:109: RuntimeWarning: invalid value encountered in long_scalars\n"
     ]
    },
    {
     "name": "stdout",
     "output_type": "stream",
     "text": [
      "nearest value to 0.8439 is 0.844059405940594 at 6178 with 808 counts \n"
     ]
    },
    {
     "name": "stderr",
     "output_type": "stream",
     "text": [
      "C:\\Users\\GriffithInnovate\\Anaconda3\\envs\\py36torch\\lib\\site-packages\\ipykernel_launcher.py:109: RuntimeWarning: invalid value encountered in long_scalars\n"
     ]
    },
    {
     "name": "stdout",
     "output_type": "stream",
     "text": [
      "nearest value to 0.8439 is 0.904 at 87 with 1000 counts \n"
     ]
    },
    {
     "name": "stderr",
     "output_type": "stream",
     "text": [
      "C:\\Users\\GriffithInnovate\\Anaconda3\\envs\\py36torch\\lib\\site-packages\\ipykernel_launcher.py:109: RuntimeWarning: invalid value encountered in long_scalars\n"
     ]
    },
    {
     "name": "stdout",
     "output_type": "stream",
     "text": [
      "nearest value to 0.8439 is 0.886 at 87 with 1000 counts \n"
     ]
    },
    {
     "name": "stderr",
     "output_type": "stream",
     "text": [
      "C:\\Users\\GriffithInnovate\\Anaconda3\\envs\\py36torch\\lib\\site-packages\\ipykernel_launcher.py:109: RuntimeWarning: invalid value encountered in long_scalars\n"
     ]
    },
    {
     "name": "stdout",
     "output_type": "stream",
     "text": [
      "nearest value to 0.8439 is 0.918918918918919 at 735 with 999 counts \n"
     ]
    },
    {
     "name": "stderr",
     "output_type": "stream",
     "text": [
      "C:\\Users\\GriffithInnovate\\Anaconda3\\envs\\py36torch\\lib\\site-packages\\ipykernel_launcher.py:109: RuntimeWarning: invalid value encountered in long_scalars\n"
     ]
    },
    {
     "name": "stdout",
     "output_type": "stream",
     "text": [
      "nearest value to 0.8439 is 0.891 at 25 with 1000 counts \n"
     ]
    },
    {
     "name": "stderr",
     "output_type": "stream",
     "text": [
      "C:\\Users\\GriffithInnovate\\Anaconda3\\envs\\py36torch\\lib\\site-packages\\ipykernel_launcher.py:109: RuntimeWarning: invalid value encountered in long_scalars\n"
     ]
    },
    {
     "name": "stdout",
     "output_type": "stream",
     "text": [
      "nearest value to 0.8439 is 0.8441558441558441 at 6294 with 385 counts \n"
     ]
    },
    {
     "name": "stderr",
     "output_type": "stream",
     "text": [
      "C:\\Users\\GriffithInnovate\\Anaconda3\\envs\\py36torch\\lib\\site-packages\\ipykernel_launcher.py:109: RuntimeWarning: invalid value encountered in long_scalars\n"
     ]
    },
    {
     "name": "stdout",
     "output_type": "stream",
     "text": [
      "nearest value to 0.8439 is 0.8436018957345972 at 467 with 844 counts \n"
     ]
    },
    {
     "name": "stderr",
     "output_type": "stream",
     "text": [
      "C:\\Users\\GriffithInnovate\\Anaconda3\\envs\\py36torch\\lib\\site-packages\\ipykernel_launcher.py:109: RuntimeWarning: invalid value encountered in long_scalars\n"
     ]
    },
    {
     "name": "stdout",
     "output_type": "stream",
     "text": [
      "nearest value to 0.8439 is 0.8 at 92 with 5 counts \n"
     ]
    },
    {
     "name": "stderr",
     "output_type": "stream",
     "text": [
      "C:\\Users\\GriffithInnovate\\Anaconda3\\envs\\py36torch\\lib\\site-packages\\ipykernel_launcher.py:109: RuntimeWarning: invalid value encountered in long_scalars\n"
     ]
    },
    {
     "name": "stdout",
     "output_type": "stream",
     "text": [
      "nearest value to 0.8439 is 0.514018691588785 at 0 with 107 counts \n"
     ]
    },
    {
     "name": "stderr",
     "output_type": "stream",
     "text": [
      "C:\\Users\\GriffithInnovate\\Anaconda3\\envs\\py36torch\\lib\\site-packages\\ipykernel_launcher.py:109: RuntimeWarning: invalid value encountered in long_scalars\n"
     ]
    },
    {
     "name": "stdout",
     "output_type": "stream",
     "text": [
      "nearest value to 0.8439 is 0.8333333333333334 at 107 with 6 counts \n"
     ]
    },
    {
     "name": "stderr",
     "output_type": "stream",
     "text": [
      "C:\\Users\\GriffithInnovate\\Anaconda3\\envs\\py36torch\\lib\\site-packages\\ipykernel_launcher.py:109: RuntimeWarning: invalid value encountered in long_scalars\n"
     ]
    },
    {
     "name": "stdout",
     "output_type": "stream",
     "text": [
      "nearest value to 0.8439 is 0.84251968503937 at 89 with 127 counts \n"
     ]
    },
    {
     "name": "stderr",
     "output_type": "stream",
     "text": [
      "C:\\Users\\GriffithInnovate\\Anaconda3\\envs\\py36torch\\lib\\site-packages\\ipykernel_launcher.py:109: RuntimeWarning: invalid value encountered in long_scalars\n"
     ]
    },
    {
     "name": "stdout",
     "output_type": "stream",
     "text": [
      "nearest value to 0.8439 is 0.8433048433048433 at 199 with 702 counts \n",
      "nearest value to 0.8439 is 0.8431952662721893 at 191 with 676 counts \n"
     ]
    },
    {
     "name": "stderr",
     "output_type": "stream",
     "text": [
      "C:\\Users\\GriffithInnovate\\Anaconda3\\envs\\py36torch\\lib\\site-packages\\ipykernel_launcher.py:109: RuntimeWarning: invalid value encountered in long_scalars\n"
     ]
    },
    {
     "name": "stdout",
     "output_type": "stream",
     "text": [
      "nearest value to 0.8439 is 0.8439620081411127 at 1762 with 737 counts \n"
     ]
    },
    {
     "name": "stderr",
     "output_type": "stream",
     "text": [
      "C:\\Users\\GriffithInnovate\\Anaconda3\\envs\\py36torch\\lib\\site-packages\\ipykernel_launcher.py:109: RuntimeWarning: invalid value encountered in long_scalars\n"
     ]
    },
    {
     "name": "stdout",
     "output_type": "stream",
     "text": [
      "nearest value to 0.8439 is 0.8431818181818181 at 3792 with 440 counts \n"
     ]
    },
    {
     "name": "stderr",
     "output_type": "stream",
     "text": [
      "C:\\Users\\GriffithInnovate\\Anaconda3\\envs\\py36torch\\lib\\site-packages\\ipykernel_launcher.py:109: RuntimeWarning: invalid value encountered in long_scalars\n"
     ]
    },
    {
     "name": "stdout",
     "output_type": "stream",
     "text": [
      "nearest value to 0.8439 is 0.8438880706921944 at 714 with 679 counts \n"
     ]
    },
    {
     "name": "stderr",
     "output_type": "stream",
     "text": [
      "C:\\Users\\GriffithInnovate\\Anaconda3\\envs\\py36torch\\lib\\site-packages\\ipykernel_launcher.py:109: RuntimeWarning: invalid value encountered in long_scalars\n"
     ]
    },
    {
     "name": "stdout",
     "output_type": "stream",
     "text": [
      "nearest value to 0.8439 is 0.848 at 526 with 1000 counts \n"
     ]
    },
    {
     "name": "stderr",
     "output_type": "stream",
     "text": [
      "C:\\Users\\GriffithInnovate\\Anaconda3\\envs\\py36torch\\lib\\site-packages\\ipykernel_launcher.py:109: RuntimeWarning: invalid value encountered in long_scalars\n"
     ]
    },
    {
     "name": "stdout",
     "output_type": "stream",
     "text": [
      "nearest value to 0.8439 is 0.84 at 1130 with 75 counts \n"
     ]
    },
    {
     "name": "stderr",
     "output_type": "stream",
     "text": [
      "C:\\Users\\GriffithInnovate\\Anaconda3\\envs\\py36torch\\lib\\site-packages\\ipykernel_launcher.py:109: RuntimeWarning: invalid value encountered in long_scalars\n"
     ]
    },
    {
     "name": "stdout",
     "output_type": "stream",
     "text": [
      "nearest value to 0.8439 is 0.84375 at 152 with 64 counts \n"
     ]
    },
    {
     "name": "stderr",
     "output_type": "stream",
     "text": [
      "C:\\Users\\GriffithInnovate\\Anaconda3\\envs\\py36torch\\lib\\site-packages\\ipykernel_launcher.py:109: RuntimeWarning: invalid value encountered in long_scalars\n"
     ]
    },
    {
     "name": "stdout",
     "output_type": "stream",
     "text": [
      "nearest value to 0.8439 is 0.8440366972477065 at 113 with 109 counts \n"
     ]
    },
    {
     "name": "stderr",
     "output_type": "stream",
     "text": [
      "C:\\Users\\GriffithInnovate\\Anaconda3\\envs\\py36torch\\lib\\site-packages\\ipykernel_launcher.py:109: RuntimeWarning: invalid value encountered in long_scalars\n"
     ]
    },
    {
     "name": "stdout",
     "output_type": "stream",
     "text": [
      "nearest value to 0.8439 is 0.8412698412698413 at 258 with 252 counts \n"
     ]
    },
    {
     "name": "stderr",
     "output_type": "stream",
     "text": [
      "C:\\Users\\GriffithInnovate\\Anaconda3\\envs\\py36torch\\lib\\site-packages\\ipykernel_launcher.py:109: RuntimeWarning: invalid value encountered in long_scalars\n"
     ]
    },
    {
     "name": "stdout",
     "output_type": "stream",
     "text": [
      "nearest value to 0.8439 is 0.849 at 2671 with 1000 counts \n",
      "nearest value to 0.8439 is 0.8436724565756824 at 1626 with 806 counts \n"
     ]
    },
    {
     "name": "stderr",
     "output_type": "stream",
     "text": [
      "C:\\Users\\GriffithInnovate\\Anaconda3\\envs\\py36torch\\lib\\site-packages\\ipykernel_launcher.py:109: RuntimeWarning: invalid value encountered in long_scalars\n"
     ]
    },
    {
     "name": "stdout",
     "output_type": "stream",
     "text": [
      "nearest value to 0.8439 is 0.8431163287086446 at 153 with 937 counts \n"
     ]
    },
    {
     "name": "stderr",
     "output_type": "stream",
     "text": [
      "C:\\Users\\GriffithInnovate\\Anaconda3\\envs\\py36torch\\lib\\site-packages\\ipykernel_launcher.py:109: RuntimeWarning: invalid value encountered in long_scalars\n"
     ]
    },
    {
     "name": "stdout",
     "output_type": "stream",
     "text": [
      "nearest value to 0.8439 is 0.8439241917502787 at 3497 with 897 counts \n"
     ]
    },
    {
     "name": "stderr",
     "output_type": "stream",
     "text": [
      "C:\\Users\\GriffithInnovate\\Anaconda3\\envs\\py36torch\\lib\\site-packages\\ipykernel_launcher.py:109: RuntimeWarning: invalid value encountered in long_scalars\n"
     ]
    },
    {
     "name": "stdout",
     "output_type": "stream",
     "text": [
      "nearest value to 0.8439 is 0.856 at 2868 with 1000 counts \n"
     ]
    },
    {
     "name": "stderr",
     "output_type": "stream",
     "text": [
      "C:\\Users\\GriffithInnovate\\Anaconda3\\envs\\py36torch\\lib\\site-packages\\ipykernel_launcher.py:109: RuntimeWarning: invalid value encountered in long_scalars\n"
     ]
    },
    {
     "name": "stdout",
     "output_type": "stream",
     "text": [
      "nearest value to 0.8439 is 0.895 at 87 with 1000 counts \n"
     ]
    },
    {
     "name": "stderr",
     "output_type": "stream",
     "text": [
      "C:\\Users\\GriffithInnovate\\Anaconda3\\envs\\py36torch\\lib\\site-packages\\ipykernel_launcher.py:109: RuntimeWarning: invalid value encountered in long_scalars\n"
     ]
    },
    {
     "name": "stdout",
     "output_type": "stream",
     "text": [
      "nearest value to 0.8439 is 0.8432642487046632 at 1887 with 772 counts \n"
     ]
    },
    {
     "name": "stderr",
     "output_type": "stream",
     "text": [
      "C:\\Users\\GriffithInnovate\\Anaconda3\\envs\\py36torch\\lib\\site-packages\\ipykernel_launcher.py:109: RuntimeWarning: invalid value encountered in long_scalars\n"
     ]
    },
    {
     "name": "stdout",
     "output_type": "stream",
     "text": [
      "nearest value to 0.8439 is 0.8438356164383561 at 611 with 365 counts \n"
     ]
    },
    {
     "name": "stderr",
     "output_type": "stream",
     "text": [
      "C:\\Users\\GriffithInnovate\\Anaconda3\\envs\\py36torch\\lib\\site-packages\\ipykernel_launcher.py:109: RuntimeWarning: invalid value encountered in long_scalars\n"
     ]
    },
    {
     "name": "stdout",
     "output_type": "stream",
     "text": [
      "nearest value to 0.8439 is 0.843680709534368 at 2186 with 902 counts \n"
     ]
    },
    {
     "name": "stderr",
     "output_type": "stream",
     "text": [
      "C:\\Users\\GriffithInnovate\\Anaconda3\\envs\\py36torch\\lib\\site-packages\\ipykernel_launcher.py:109: RuntimeWarning: invalid value encountered in long_scalars\n"
     ]
    },
    {
     "name": "stdout",
     "output_type": "stream",
     "text": [
      "nearest value to 0.8439 is 0.8439620081411127 at 640 with 737 counts \n"
     ]
    },
    {
     "name": "stderr",
     "output_type": "stream",
     "text": [
      "C:\\Users\\GriffithInnovate\\Anaconda3\\envs\\py36torch\\lib\\site-packages\\ipykernel_launcher.py:109: RuntimeWarning: invalid value encountered in long_scalars\n"
     ]
    },
    {
     "name": "stdout",
     "output_type": "stream",
     "text": [
      "nearest value to 0.8439 is 0.8748748748748749 at 459 with 999 counts \n"
     ]
    },
    {
     "name": "stderr",
     "output_type": "stream",
     "text": [
      "C:\\Users\\GriffithInnovate\\Anaconda3\\envs\\py36torch\\lib\\site-packages\\ipykernel_launcher.py:109: RuntimeWarning: invalid value encountered in long_scalars\n"
     ]
    },
    {
     "name": "stdout",
     "output_type": "stream",
     "text": [
      "nearest value to 0.8439 is 0.854 at 2868 with 1000 counts \n"
     ]
    },
    {
     "name": "stderr",
     "output_type": "stream",
     "text": [
      "C:\\Users\\GriffithInnovate\\Anaconda3\\envs\\py36torch\\lib\\site-packages\\ipykernel_launcher.py:109: RuntimeWarning: invalid value encountered in long_scalars\n"
     ]
    },
    {
     "name": "stdout",
     "output_type": "stream",
     "text": [
      "nearest value to 0.8439 is 0.898 at 2868 with 1000 counts \n",
      "nearest value to 0.8439 is 0.886 at 3496 with 1000 counts \n",
      "{'Main Exit': {0: {'correct': 0, 'total': 0, 'passed': 1000}, 1: {'correct': 0, 'total': 0, 'passed': 1000}, 2: {'correct': 0, 'total': 0, 'passed': 1000}, 3: {'correct': 0, 'total': 0, 'passed': 1000}, 4: {'correct': 0, 'total': 0, 'passed': 1000}, 5: {'correct': 0, 'total': 0, 'passed': 1000}, 6: {'correct': 0, 'total': 0, 'passed': 1000}, 7: {'correct': 0, 'total': 0, 'passed': 1000}, 8: {'correct': 0, 'total': 0, 'passed': 1000}, 9: {'correct': 0, 'total': 0, 'passed': 1000}}, 'Branch 1': {0: {'correct': 0, 'total': 0, 'passed': 1000}, 1: {'correct': 0, 'total': 0, 'passed': 1000}, 2: {'correct': 0, 'total': 0, 'passed': 1000}, 3: {'correct': 0, 'total': 0, 'passed': 1000}, 4: {'correct': 0, 'total': 0, 'passed': 1000}, 5: {'correct': 0, 'total': 0, 'passed': 1000}, 6: {'correct': 0, 'total': 0, 'passed': 1000}, 7: {'correct': 0, 'total': 0, 'passed': 1000}, 8: {'correct': 0, 'total': 0, 'passed': 1000}, 9: {'correct': 0, 'total': 0, 'passed': 1000}}, 'Branch 2': {0: {'correct': 0, 'total': 0, 'passed': 1000}, 1: {'correct': 0, 'total': 0, 'passed': 1000}, 2: {'correct': 0, 'total': 0, 'passed': 1000}, 3: {'correct': 0, 'total': 0, 'passed': 1000}, 4: {'correct': 0, 'total': 0, 'passed': 1000}, 5: {'correct': 0, 'total': 0, 'passed': 1000}, 6: {'correct': 0, 'total': 0, 'passed': 1000}, 7: {'correct': 0, 'total': 0, 'passed': 1000}, 8: {'correct': 0, 'total': 0, 'passed': 1000}, 9: {'correct': 0, 'total': 0, 'passed': 1000}}, 'Branch 3': {0: {'correct': 0, 'total': 0, 'passed': 1000}, 1: {'correct': 0, 'total': 0, 'passed': 1000}, 2: {'correct': 0, 'total': 0, 'passed': 1000}, 3: {'correct': 0, 'total': 0, 'passed': 1000}, 4: {'correct': 0, 'total': 0, 'passed': 1000}, 5: {'correct': 0, 'total': 0, 'passed': 1000}, 6: {'correct': 0, 'total': 0, 'passed': 1000}, 7: {'correct': 0, 'total': 0, 'passed': 1000}, 8: {'correct': 0, 'total': 0, 'passed': 1000}, 9: {'correct': 0, 'total': 0, 'passed': 1000}}}\n",
      "Threshold Points:\n",
      "{'Main Exit': {0: {'correct': 0, 'total': 0, 'passed': 1000}, 1: {'correct': 0, 'total': 0, 'passed': 1000}, 2: {'correct': 0, 'total': 0, 'passed': 1000}, 3: {'correct': 0, 'total': 0, 'passed': 1000}, 4: {'correct': 0, 'total': 0, 'passed': 1000}, 5: {'correct': 0, 'total': 0, 'passed': 1000}, 6: {'correct': 0, 'total': 0, 'passed': 1000}, 7: {'correct': 0, 'total': 0, 'passed': 1000}, 8: {'correct': 0, 'total': 0, 'passed': 1000}, 9: {'correct': 0, 'total': 0, 'passed': 1000}}, 'Branch 1': {0: {'correct': 0, 'total': 0, 'passed': 1000}, 1: {'correct': 0, 'total': 0, 'passed': 1000}, 2: {'correct': 0, 'total': 0, 'passed': 1000}, 3: {'correct': 0, 'total': 0, 'passed': 1000}, 4: {'correct': 0, 'total': 0, 'passed': 1000}, 5: {'correct': 0, 'total': 0, 'passed': 1000}, 6: {'correct': 0, 'total': 0, 'passed': 1000}, 7: {'correct': 0, 'total': 0, 'passed': 1000}, 8: {'correct': 0, 'total': 0, 'passed': 1000}, 9: {'correct': 0, 'total': 0, 'passed': 1000}}, 'Branch 2': {0: {'correct': 0, 'total': 0, 'passed': 1000}, 1: {'correct': 0, 'total': 0, 'passed': 1000}, 2: {'correct': 0, 'total': 0, 'passed': 1000}, 3: {'correct': 0, 'total': 0, 'passed': 1000}, 4: {'correct': 0, 'total': 0, 'passed': 1000}, 5: {'correct': 0, 'total': 0, 'passed': 1000}, 6: {'correct': 0, 'total': 0, 'passed': 1000}, 7: {'correct': 0, 'total': 0, 'passed': 1000}, 8: {'correct': 0, 'total': 0, 'passed': 1000}, 9: {'correct': 0, 'total': 0, 'passed': 1000}}, 'Branch 3': {0: {'correct': 0, 'total': 0, 'passed': 1000}, 1: {'correct': 0, 'total': 0, 'passed': 1000}, 2: {'correct': 0, 'total': 0, 'passed': 1000}, 3: {'correct': 0, 'total': 0, 'passed': 1000}, 4: {'correct': 0, 'total': 0, 'passed': 1000}, 5: {'correct': 0, 'total': 0, 'passed': 1000}, 6: {'correct': 0, 'total': 0, 'passed': 1000}, 7: {'correct': 0, 'total': 0, 'passed': 1000}, 8: {'correct': 0, 'total': 0, 'passed': 1000}, 9: {'correct': 0, 'total': 0, 'passed': 1000}}}\n"
     ]
    }
   ],
   "source": [
    "y = predict(pred, labels, entropy, 4,[0,1,2,3,4,5,6,7,8,9], [\"Main Exit\",\"Branch 1\",\"Branch 2\",\"Branch 3\"],avgAcc=True,graph=False)\n",
    "\n",
    "print(\"Threshold Points:\")\n",
    "print(y)"
   ]
  },
  {
   "cell_type": "code",
   "execution_count": null,
   "metadata": {},
   "outputs": [],
   "source": [
    "# Main exit Average Accuracy\n",
    "y = findMainExitAccuracies(pred, labels, 4,[], [\"dense5\",\"pooling_3\",\"pooling_4\",\"dense_3\"])\n"
   ]
  },
  {
   "cell_type": "code",
   "execution_count": null,
   "metadata": {},
   "outputs": [],
   "source": [
    "# Main exit Class Accuracy\n",
    "y = findMainExitAccuracies(pred, labels, 4,[0,1,2,3,4,5,6,7,8,9], [\"dense5\",\"pooling_3\",\"pooling_4\",\"dense_3\"],True)"
   ]
  },
  {
   "cell_type": "markdown",
   "metadata": {},
   "source": [
    "Find the Average Confidence score"
   ]
  },
  {
   "cell_type": "code",
   "execution_count": 10,
   "metadata": {},
   "outputs": [],
   "source": [
    "def avgConfidence(pred, labels, entropy, num_outputs, classes, output_names=[],mainBranchNum=0,avgAcc=False,graph=False):\n",
    "    #find the average confidence score of all predictions, output this alongside the accuracy\n",
    "    resultsDict = {}\n",
    "    results = np.equal(pred, labels)\n",
    "    pred = np.array(pred)\n",
    "    labels = np.array(labels)\n",
    "    entropy = np.array(entropy)\n",
    "    classCount = {}\n",
    "    labelClasses=classes\n",
    "    transpose_results = np.transpose(results) #truths\n",
    "    transpose_preds = np.transpose(pred) #per exit rather then per input\n",
    "    transpose_entropy = np.transpose(entropy) #per exit rather then per input\n",
    "    transpose_labels = np.transpose(labels)\n",
    "    if graph:\n",
    "        plt.style.use('seaborn-whitegrid')\n",
    "        fig = plt.figure()\n",
    "        series=[]\n",
    "        fig, axs = plt.subplots(2, 2)\n",
    "        fig.tight_layout()\n",
    "    df =  pd.DataFrame() \n",
    "    returnData = []\n",
    "    \n",
    "    ##find the main exit accuracy levels to compare the branches to.\n",
    "    ##assume the first branch is the main branch to match too\n",
    "    \n",
    "#     mainAcc = findMainExitAccuracies(pred, labels, num_outputs, classes, output_names, graph=False)\n",
    "#     print(\"accuracy Value: {}\".format(mainAcc))\n",
    "\n",
    "#     if avgAcc:\n",
    "#         mainAcc = [sum(mainAcc.values())/float(len(mainAcc.values()))]\n",
    "#         mainAcc = np.repeat(mainAcc,len(classes))\n",
    "        \n",
    "#     print(\"accuracy Value: {}\".format(mainAcc))\n",
    "    thresholdPoints={}\n",
    "    colors = cm.rainbow(np.linspace(0, 1, len(labelClasses)))\n",
    "    for i, branchEntropy in enumerate(transpose_entropy):\n",
    "        print(\"branch {}\".format(i))\n",
    "#         print(branchEntropy)\n",
    "        maxE = branchEntropy.max()\n",
    "        print(maxE)\n",
    "        avgE = branchEntropy.sum()/len(branchEntropy)\n",
    "        print(\"avg entropy {}\".format(avgE))\n",
    "#         print(\"{}%\".format(transpose_results[i].sum()/len(transpose_results[i])*100))\n",
    "        \n",
    "        print(\"avgAcc {:.2f}%\".format(transpose_results[i].sum()/len(transpose_results[i])*100))\n",
    "        print(\"avgAcc at avgE {:.2f}% for a count of {} inputs\".format(transpose_results[i][np.where((branchEntropy <= avgE))].sum()/\n",
    "                                         len(transpose_labels[i][np.where((branchEntropy <= avgE))])*100, len(transpose_labels[i][np.where((branchEntropy <= avgE))])))\n",
    "#         print(transpose_results[i][np.where((transpose_labels[i] == labelClass))].sum())\n",
    "        #sum the accuracy\n",
    "        count =[]\n",
    "        value = []\n",
    "        acc = []\n",
    "        accepted=[]\n",
    "        import math\n",
    "        for j in range(35):\n",
    "            j_ = j*.1\n",
    "            count.append(j_)\n",
    "            if math.isnan(transpose_results[i][np.where((branchEntropy <= j_))].sum()/len(transpose_labels[i][np.where((branchEntropy <= j_))])):\n",
    "                acc.append(0)\n",
    "            else:\n",
    "                acc.append(transpose_results[i][np.where((branchEntropy <= j_))].sum()/len(transpose_labels[i][np.where((branchEntropy <= j_))]))\n",
    "            accepted.append(len(transpose_labels[i][np.where((branchEntropy <= j_))]))\n",
    "            \n",
    "            \"\"\" The cumculative performance of a branch\n",
    "                The inputs recieved by the branch where the entropy of score of the previous branch is greater than the entropy \n",
    "                threshold of the previous branch(s) \n",
    "            \"\"\"\n",
    "            \n",
    "            \n",
    "            \n",
    "#         print(count)\n",
    "#         print(acc[10])\n",
    "        print(accepted)\n",
    "#         accepted = (np.array(accepted) / np.array(accepted).sum()) / np.array(accepted).max()\n",
    "        s = sum(accepted)\n",
    "        print(\"sum: {}\".format(s))\n",
    "#         norm = [float(k)/s for k in accepted]\n",
    "        norm = [k/10000 for k in accepted]\n",
    "        axs[round(int(i/2)), round(i%2)].plot(count,acc,label=\"accuracy\")        \n",
    "        axs[round(int(i/2)), round(i%2)].plot(count,norm,label=\"output\")        \n",
    "#         axs[round(int(i/2)), round(i%2)].plot(count,acc,marker='v', markersize=5)\n",
    "\n",
    "        axs[round(int(i/2)), round(i%2)].set_ylim([0, 1])\n",
    "        #sum the entropy\n",
    "        \n",
    "#        \n",
    "    if graph:\n",
    "        for ax in fig.axes:\n",
    "            ax.yaxis.set_major_formatter(FormatStrFormatter('%.2f'))\n",
    "            axLine, axLabel = ax.get_legend_handles_labels()\n",
    "            lines=(axLine)\n",
    "            labels=(axLabel)\n",
    "\n",
    "        # Set common labels\n",
    "        fig.text(0.5, -0.001, 'Prediction Entropy', ha='center', va='center')\n",
    "        fig.text(-0.01, 0.5, 'Accuracy %', ha='center', va='center', rotation='vertical')\n",
    "        fig.legend(lines, labels,bbox_to_anchor=(.5, 1.05), loc=2,borderaxespad=0.,frameon=True)\n",
    "# #     df.to_csv(\"graph_output.csv\")\n",
    "    return True"
   ]
  },
  {
   "cell_type": "code",
   "execution_count": 11,
   "metadata": {},
   "outputs": [
    {
     "name": "stdout",
     "output_type": "stream",
     "text": [
      "[[3. 8. 8. ... 5. 1. 7.]\n",
      " [3. 8. 0. ... 5. 1. 7.]\n",
      " [3. 1. 0. ... 5. 1. 7.]\n",
      " [3. 8. 8. ... 5. 1. 7.]]\n"
     ]
    }
   ],
   "source": [
    "print(np.transpose(pred))"
   ]
  },
  {
   "cell_type": "code",
   "execution_count": 88,
   "metadata": {},
   "outputs": [],
   "source": [
    "\n",
    "    \n",
    "def findThreshold_new(pred, labels, entropy, num_outputs, classes, output_names=[],mainBranchNum=0, sequential = False, avgAcc=False,graph=False):\n",
    "    \"\"\"    Find and Mark the threshold points for each class.\n",
    "        mainbranchNum: the position in the pred array of the main exit, defaults to the first exit.\n",
    "        sequential: treat branches individually or sequentially. If True, all inputs are processed by all branches. If False, inputs are processed sequentially, with only those rejected by the previous branch supplied to the next.\n",
    "    \"\"\"    \n",
    "    resultsDict = {}\n",
    "    results = np.equal(pred, labels)\n",
    "    pred = np.array(pred)\n",
    "    labels = np.array(labels)\n",
    "    entropy = np.array(entropy)\n",
    "    classCount = {}\n",
    "    labelClasses=classes\n",
    "    transpose_results = np.transpose(results) #truths\n",
    "    transpose_preds = np.transpose(pred) #per exit rather then per input\n",
    "    transpose_entropy = np.transpose(entropy) #per exit rather then per input\n",
    "    transpose_labels = np.transpose(labels)\n",
    "    if graph:\n",
    "        plt.style.use('seaborn-whitegrid')\n",
    "        fig = plt.figure()\n",
    "        series=[]\n",
    "        fig, axs = plt.subplots(2, 2)\n",
    "        fig.tight_layout()\n",
    "    df =  pd.DataFrame() \n",
    "    returnData = []\n",
    "    \n",
    "    ##find the main exit accuracy levels to compare the branches to.\n",
    "    ##assume the first branch is the main branch to match too\n",
    "    \n",
    "    mainAcc = findMainExitAccuracies(pred, labels, num_outputs, classes, output_names, graph=False)\n",
    "    \n",
    "    # try setting the mainAcc to equal to avg or better\n",
    "    mainAvgAcc = sum(mainAcc.values())/float(len(mainAcc.values()))\n",
    "    for i, score in enumerate(mainAcc.values()):\n",
    "        print(\"{}, {} : {}\".format(i, score,mainAvgAcc ))\n",
    "        if score < mainAvgAcc:\n",
    "            mainAcc[i] = mainAvgAcc\n",
    "        mainAcc[i] = 1\n",
    "\n",
    "            \n",
    "    if avgAcc:\n",
    "        mainAcc = [sum(mainAcc.values())/float(len(mainAcc.values()))]\n",
    "        mainAcc = np.repeat(mainAcc,len(classes))\n",
    "        \n",
    "    print(\"accuracy Value: {}\".format(mainAcc))\n",
    "    thresholdPoints={}\n",
    "    colors = cm.rainbow(np.linspace(0, 1, len(labelClasses)))\n",
    "    passedInputs = {}\n",
    "    AcceptedResults =[]\n",
    "    \n",
    "    passedInputsIndex = False\n",
    "    #reorder the branches so that the main branch is at the end\n",
    "    \n",
    "    compiledInputs = pd.DataFrame(entropy)\n",
    "    compiledInputs = compiledInputs.add_prefix('entropy_')\n",
    "    print(pd.DataFrame(compiledInputs))\n",
    "    compiledInputs = compiledInputs.join(pd.DataFrame(results).add_prefix('results_'))\n",
    "    compiledInputs.to_csv(\"results/compiledInputs{}.csv\".format(\"_testing2\"), sep=',', mode='w',index=True)\n",
    "    print(\"done\")\n",
    "    for i, branchEntropy in enumerate(transpose_entropy):\n",
    "#         continue\n",
    "        if i == mainBranchNum:\n",
    "            #skip and do at the end.\n",
    "            print('skipping Main Branch until end.')\n",
    "            continue\n",
    "        classEntropy = {}\n",
    "        thresholdPoints[output_names[i]] = {}\n",
    "        df = pd.DataFrame()\n",
    "        df['Entropy'] = branchEntropy\n",
    "        df['Result'] = transpose_results[i]\n",
    "        df['Label'] = transpose_labels[i]\n",
    "#         print(df.groupby('Result').count())\n",
    "#         print(df['Result'][df['Entropy']> 1].sum())\n",
    "#         print(df['Result'][df['Entropy']> 1].count())\n",
    "        df['avgAcc']=0\n",
    "#         print(type(passedInputsIndex))\n",
    "        if isinstance(passedInputsIndex, pd.core.indexes.numeric.Int64Index):\n",
    "#             print(\"TRUE\")\n",
    "            df = df.iloc[passedInputsIndex]\n",
    "#         print(df)\n",
    "#         print(len(df['Entropy'].unique()))\n",
    "        # reset passedInputsIndex \n",
    "        passedInputsIndex = False\n",
    "        print(\"recieved inputs at {}: {}\".format(output_names[i],len(df)))\n",
    "        # there are too many items in the dataset to give them all a sum of their accuracy. this is an N(squared) problem this way\n",
    "        # instead, I could \n",
    "        branchThresholds={}\n",
    "        branchAccCount = 0\n",
    "        for j, labelClass in enumerate(labelClasses):\n",
    "#             if j is not 3:\n",
    "#                 continue\n",
    "#             print(\"class Object \",labelClass)\n",
    "            classEntropy[labelClass] = []\n",
    "            prev = 0\n",
    "            count = 0\n",
    "            \n",
    "            df_objects = pd.DataFrame(df.loc[df['Label']==labelClass])\n",
    "        \n",
    "            df2 = pd.DataFrame()\n",
    "            for k, row in df_objects.sort_values(by='Entropy').iterrows():\n",
    "                count = count+1\n",
    "                print(\"Object Class {}, Count: {}\".format(labelClass, count),end=\"\\r\")\n",
    "    #             print(prev, int(row['Result']),count)\n",
    "                row['count'] = count\n",
    "                acceptedCount = (prev + int(row['Result']))\n",
    "    #             row['true'] = acceptedCount\n",
    "                row['avgAcc'] = acceptedCount / count\n",
    "                \n",
    "                prev = acceptedCount\n",
    "                df2 = df2.append(row,ignore_index=True)\n",
    "#                 print(df2)\n",
    "  \n",
    "#             print(df2)\n",
    "#             print(mainAcc[j])\n",
    "#             print(df2)\n",
    "            thresh_idx = find_neighbours(df2,mainAcc[j],\"avgAcc\")\n",
    "    #       print(df2.ilocthresh_idx)\n",
    "            branchThresholds[labelClass]= df2.iloc[thresh_idx]\n",
    "            branchThreshold = df2.iloc[thresh_idx]\n",
    "#             print('entropy threshold for class {}: {}, Acc%: {}'.format(labelClass,branchThreshold['Entropy'],branchThreshold['avgAcc']))\n",
    "            \n",
    "            #####if the found threshold is below the avg, then don't bother answering it., set the entropy threshold to zero\n",
    "#             if branchThreshold['avgAcc'] < mainAcc[j]-.01:\n",
    "#                 print(\"Acc of threshold ({}) below acceptable range {}, not answering it\".format(branchThreshold['avgAcc'],mainAcc[j]))\n",
    "#                 branchThreshold['Entropy'] = 0\n",
    "            thresholdPoints[output_names[i]] = branchThreshold['Entropy']   \n",
    "    \n",
    "            # select inputs to go to next branch, AKA the inputs whose entropy value is above the set threshold.    \n",
    "            acceptedInputsIndex = df_objects[df_objects['Entropy'] <= branchThreshold['Entropy']].index\n",
    "            if isinstance(passedInputsIndex, pd.core.indexes.numeric.Int64Index):\n",
    "                passedInputsIndex = passedInputsIndex.union(df_objects[df_objects['Entropy'] > branchThreshold['Entropy']].index)\n",
    "            else: \n",
    "                passedInputsIndex = df_objects[df_objects['Entropy'] > branchThreshold['Entropy']].index\n",
    "                \n",
    "#             print(len(acceptedInputsIndex))\n",
    "#             print(branchThreshold['avgAcc'])\n",
    "#             print(len(passedInputsIndex))\n",
    "            \n",
    "            print(\"Accepted: {}, correct: {}, inputs passed: {}\".format(len(acceptedInputsIndex), branchThreshold['avgAcc'], len(passedInputsIndex)))\n",
    "            branchAccCount = branchAccCount+ len(acceptedInputsIndex)*branchThreshold['avgAcc']\n",
    "            if avgAcc: \n",
    "                #use a single threshold for each branch.\n",
    "\n",
    "                #sort the results according to entropy\n",
    "                x = True\n",
    "        print(\"-----\")\n",
    "        print(\"avg Branch Accuracy Count: branchAccCount\", branchAccCount)\n",
    "\n",
    "    #now do the mainbranch    \n",
    "    i = mainBranchNum\n",
    "    mainEntropy = transpose_entropy[i]\n",
    "    classEntropy = {}\n",
    "    thresholdPoints[output_names[i]] = {}\n",
    "    df = pd.DataFrame()\n",
    "    df['Entropy'] = mainEntropy\n",
    "#         df['Label'] = transpose_labels[i]\n",
    "#         df['Prediction'] = transpose_preds[i]\n",
    "    df['Result'] = transpose_results[i]\n",
    "    print(\"----\")\n",
    "#     print(df.groupby('Result').count())\n",
    "#         print(df['Result'][df['Entropy']> 1].sum())\n",
    "#         print(df['Result'][df['Entropy']> 1].count())\n",
    "#     df.to_csv('\"finalInputs.csv\"', index=True)\n",
    "    df['Label'] = transpose_labels[i]\n",
    "\n",
    "    df['avgAcc']=0\n",
    "    df_inverse = pd.DataFrame()\n",
    "    print(type(passedInputsIndex))\n",
    "    if isinstance(passedInputsIndex, pd.core.indexes.numeric.Int64Index):\n",
    "        print(\"True\")\n",
    "        df_inverse = df.iloc[df.index.difference(passedInputsIndex)]\n",
    "        df= df.iloc[passedInputsIndex]\n",
    "#         df_inverse = df_final.iloc[df.index.difference(passedInputsIndex)]\n",
    "    print(\"recieved inputs at {}: {}\".format(output_names[i],len(df)))\n",
    "    df.to_csv(\"results/finalInputs{}.csv\".format(\"_testing\"), sep=',', mode='w',index=True)\n",
    "    # there are too many items in the dataset to give them all a sum of their accuracy. this is an N(squared) problem this way\n",
    "    # instead, I could \n",
    "    prev = 0\n",
    "    count = 0\n",
    "    print(df)\n",
    "    print(labelClasses)\n",
    "#     for j, labelClass in enumerate(labelClasses):\n",
    "# #             if j is 3:\n",
    "# #                 continue\n",
    "# #             print(\"class Object \",labelClass)\n",
    "#             classEntropy[labelClass] = []\n",
    "#             prev = 0\n",
    "#             count = 0\n",
    "            \n",
    "#             df_objects = pd.DataFrame(df.loc[df['Label']==labelClass])\n",
    "        \n",
    "#             df2 = pd.DataFrame()\n",
    "#             for k, row in df_objects.sort_values(by='Entropy').iterrows():\n",
    "#                 count = count+1\n",
    "#                 print(\"Object Class {}, Count: {}\".format(labelClass, count),end=\"\\r\")\n",
    "#                 row['count'] = count\n",
    "#                 acceptedCount = (prev + int(row['Result']))\n",
    "#                 row['avgAcc'] = acceptedCount / count\n",
    "                \n",
    "#                 prev = acceptedCount\n",
    "#                 df2 = df2.append(row,ignore_index=True)\n",
    "                \n",
    "#     df2 = pd.DataFrame()\n",
    "#     for j, row in df.sort_values(by='Entropy').iterrows():\n",
    "#         count = count+1\n",
    "#         print(count,end=\"\\r\")\n",
    "# #             print(prev, int(row['Result']),count)\n",
    "#         row['count'] = count\n",
    "#         acceptedCount = (prev + int(row['Result']))\n",
    "# #             row['true'] = acceptedCount\n",
    "#         row['avgAcc'] = acceptedCount / count\n",
    "#         prev = acceptedCount\n",
    "#         df2 = df2.append(row,ignore_index=True)\n",
    "    \n",
    "    \n",
    "    print(\"inverse, everything done by branches\")\n",
    "    print(df_inverse.groupby('Result').count())\n",
    "    \n",
    "    \n",
    "    print(\"inputs that made it to the final layer\")\n",
    "    print(df.groupby('Result').count())\n",
    "\n",
    "\n",
    "#     print\n",
    "    Accuracy = df['Result'].sum()/len(df)\n",
    "    print('Final Layer, DF: {}% Accuracy'.format( Accuracy))\n",
    "    \n",
    "    \n",
    "#     Accuracy = df2['Result'].sum()/len(df2)\n",
    "#     print('Final Layer DF2: {}% Accuracy'.format( Accuracy))\n",
    "    print(\"no entropy threshold as final layer.\")\n",
    "    \n",
    "    \n",
    "    \n",
    "    return thresholdPoints\n"
   ]
  },
  {
   "cell_type": "code",
   "execution_count": 89,
   "metadata": {},
   "outputs": [
    {
     "name": "stdout",
     "output_type": "stream",
     "text": [
      "Int64Index([1, 2], dtype='int64')\n",
      "Int64Index([5, 6], dtype='int64')\n",
      "   0\n",
      "5  6\n",
      "6  7\n",
      "   0\n",
      "0  1\n",
      "1  2\n",
      "2  3\n",
      "3  4\n",
      "4  5\n"
     ]
    }
   ],
   "source": [
    "df = pd.DataFrame([1,2,3,4,5,6,7])\n",
    "\n",
    "idx1 = pd.Index([2, 1, 3, 4])\n",
    "idx2 = pd.Index([3, 4, 5, 6])\n",
    "idx3 = pd.Index([5, 6])\n",
    "print(idx1.difference(idx2))\n",
    "print(idx2.difference(idx1, sort=False))\n",
    "df2 = df.iloc[idx1]\n",
    "# print(df2)\n",
    "\n",
    "df2 = df.iloc[idx2.difference(idx1)]\n",
    "print(df2)\n",
    "\n",
    "df2 = df.iloc[df.index.difference(idx3)]\n",
    "print(df2)\n",
    "\n"
   ]
  },
  {
   "cell_type": "code",
   "execution_count": 90,
   "metadata": {
    "scrolled": false
   },
   "outputs": [
    {
     "name": "stdout",
     "output_type": "stream",
     "text": [
      "correct answers 8439\n",
      "passed results 10000\n",
      "correct [863, 933, 774, 679, 818, 772, 904, 886, 919, 891]\n",
      "count [1000, 1000, 1000, 1000, 1000, 1000, 1000, 1000, 1000, 1000]\n",
      "percentage [0.863, 0.933, 0.774, 0.679, 0.818, 0.772, 0.904, 0.886, 0.919, 0.891]\n",
      "0, 0.863 : 0.8439\n",
      "1, 0.933 : 0.8439\n",
      "2, 0.774 : 0.8439\n",
      "3, 0.679 : 0.8439\n",
      "4, 0.818 : 0.8439\n",
      "5, 0.772 : 0.8439\n",
      "6, 0.904 : 0.8439\n",
      "7, 0.886 : 0.8439\n",
      "8, 0.919 : 0.8439\n",
      "9, 0.891 : 0.8439\n",
      "accuracy Value: {0: 1, 1: 1, 2: 1, 3: 1, 4: 1, 5: 1, 6: 1, 7: 1, 8: 1, 9: 1}\n",
      "         entropy_0  entropy_1  entropy_2  entropy_3\n",
      "0     5.835978e-07   1.410416   0.449506   0.014827\n",
      "1     2.185983e-12   1.189089   1.196558   0.001846\n",
      "2     4.484975e-03   1.978857   2.285739   1.120480\n",
      "3     4.789427e-04   1.401440   0.746883   0.208830\n",
      "4     2.860842e-02   1.357885   0.823113   0.962498\n",
      "...            ...        ...        ...        ...\n",
      "9995  1.623314e-03   1.330800   1.704269   1.260299\n",
      "9996  6.702620e-01   1.780658   1.054537   1.103611\n",
      "9997  1.620844e-14   1.192102   1.635046   0.002130\n",
      "9998  1.069560e-01   1.212941   1.531257   0.655299\n",
      "9999  9.801132e-15   1.206054   0.533754   0.001325\n",
      "\n",
      "[10000 rows x 4 columns]\n",
      "done\n",
      "skipping Main Branch until end.\n",
      "recieved inputs at pooling_3: 10000\n",
      "Accepted: 9, correct: 1.0, inputs passed: 991\n",
      "Accepted: 139, correct: 1.0, inputs passed: 1852\n",
      "Accepted: 2, correct: 1.0, inputs passed: 2850\n",
      "Accepted: 96, correct: 0.5208333333333334, inputs passed: 3754\n",
      "Accepted: 5, correct: 1.0, inputs passed: 4749\n",
      "Accepted: 5, correct: 1.0, inputs passed: 5744\n",
      "Accepted: 65, correct: 1.0, inputs passed: 6679\n",
      "Accepted: 135, correct: 1.0, inputs passed: 7544\n",
      "Accepted: 35, correct: 1.0, inputs passed: 8509\n",
      "Accepted: 60, correct: 1.0, inputs passed: 9449\n",
      "-----\n",
      "avg Branch Accuracy Count: branchAccCount 505.0\n",
      "recieved inputs at pooling_4: 9449\n",
      "Accepted: 20, correct: 1.0, inputs passed: 971\n",
      "Accepted: 95, correct: 1.0, inputs passed: 1737\n",
      "Accepted: 16, correct: 1.0, inputs passed: 2719\n",
      "Accepted: 4, correct: 1.0, inputs passed: 3619\n",
      "Accepted: 21, correct: 0.9047619047619048, inputs passed: 4593\n",
      "Accepted: 2, correct: 1.0, inputs passed: 5586\n",
      "Accepted: 412, correct: 1.0, inputs passed: 6109\n",
      "Accepted: 105, correct: 1.0, inputs passed: 6869\n",
      "Accepted: 67, correct: 1.0, inputs passed: 7767\n",
      "Accepted: 196, correct: 1.0, inputs passed: 8511\n",
      "-----\n",
      "avg Branch Accuracy Count: branchAccCount 936.0\n",
      "recieved inputs at dense_3: 8511\n",
      "Accepted: 47, correct: 1.0, inputs passed: 924\n",
      "Accepted: 72, correct: 1.0, inputs passed: 1618\n",
      "Accepted: 124, correct: 1.0, inputs passed: 2476\n",
      "Accepted: 28, correct: 1.0, inputs passed: 3348\n",
      "Accepted: 171, correct: 1.0, inputs passed: 4151\n",
      "Accepted: 105, correct: 1.0, inputs passed: 5039\n",
      "Accepted: 138, correct: 1.0, inputs passed: 5424\n",
      "Accepted: 273, correct: 1.0, inputs passed: 5911\n",
      "Accepted: 461, correct: 1.0, inputs passed: 6348\n",
      "Accepted: 153, correct: 1.0, inputs passed: 6939\n",
      "-----\n",
      "avg Branch Accuracy Count: branchAccCount 1572.0\n",
      "----\n",
      "<class 'pandas.core.indexes.numeric.Int64Index'>\n",
      "True\n",
      "recieved inputs at main branch: 6939\n",
      "           Entropy  Result  Label  avgAcc\n",
      "0     5.835978e-07    True    3.0       0\n",
      "2     4.484975e-03    True    8.0       0\n",
      "3     4.789427e-04    True    0.0       0\n",
      "4     2.860842e-02    True    6.0       0\n",
      "6     4.921453e-02    True    1.0       0\n",
      "...            ...     ...    ...     ...\n",
      "9994  2.307529e-04    True    3.0       0\n",
      "9995  1.623314e-03    True    8.0       0\n",
      "9996  6.702620e-01   False    3.0       0\n",
      "9997  1.620844e-14    True    5.0       0\n",
      "9998  1.069560e-01    True    1.0       0\n",
      "\n",
      "[6939 rows x 4 columns]\n",
      "[0, 1, 2, 3, 4, 5, 6, 7, 8, 9]\n",
      "inverse, everything done by branches\n",
      "        Entropy  Label  avgAcc\n",
      "Result                        \n",
      "False        30     30      30\n",
      "True       3031   3031    3031\n",
      "inputs that made it to the final layer\n",
      "        Entropy  Label  avgAcc\n",
      "Result                        \n",
      "False      1531   1531    1531\n",
      "True       5408   5408    5408\n",
      "Final Layer, DF: 0.7793630206081568% Accuracy\n",
      "no entropy threshold as final layer.\n",
      "---\n",
      "{'pooling_3': 0.18397662684207078, 'pooling_4': 0.19672526620903247, 'dense_3': 0.0025687006701320654, 'main branch': {}}\n"
     ]
    }
   ],
   "source": [
    "thresholdpoints = findThreshold_new(pred, labels, entropy, 4,[0,1,2,3,4,5,6,7,8,9], [\"main branch\",\"pooling_3\",\"pooling_4\",\"dense_3\"],sequential=True, avgAcc=False,graph=False)\n",
    "print('---')\n",
    "print(thresholdpoints)"
   ]
  },
  {
   "cell_type": "code",
   "execution_count": 14,
   "metadata": {},
   "outputs": [
    {
     "name": "stdout",
     "output_type": "stream",
     "text": [
      "0.7978\n"
     ]
    }
   ],
   "source": [
    "finalResults = (3544*0.8436794582392777) + (1861 * 0.8436324556689951 ) + (3014 * 0.8437292634372926) + (1581 * 0.5534471853257432)\n",
    "print(finalResults/10000)\n",
    "df = pd.DataFrame()\n",
    "df.to_csv(\"results/predClasses{}.csv\".format(\"suffix\"), sep=',', mode='w',index=False)\n"
   ]
  },
  {
   "cell_type": "code",
   "execution_count": 15,
   "metadata": {},
   "outputs": [
    {
     "name": "stdout",
     "output_type": "stream",
     "text": [
      "{'pooling_3': 1.039592391026506, 'pooling_4': 1.549946591112808, 'dense_3': 1.154803211664426, 'main branch': {}}\n",
      "0    0.8439\n",
      "dtype: float64\n",
      "0    0.6034\n",
      "dtype: float64\n",
      "0    0.7071\n",
      "dtype: float64\n",
      "0    0.8208\n",
      "dtype: float64\n"
     ]
    }
   ],
   "source": [
    "print(thresholdpoints)\n",
    "resultsDict = {}\n",
    "results = np.equal(pred, labels)\n",
    "pred = np.array(pred)\n",
    "labels = np.array(labels)\n",
    "entropy = np.array(entropy)\n",
    "classCount = {}\n",
    "labelClasses=[0,1,2,3,4,5,6,7,8,9]\n",
    "transpose_results = np.transpose(results) #truths\n",
    "transpose_preds = np.transpose(pred) #per exit rather then per input\n",
    "transpose_entropy = np.transpose(entropy) #per exit rather then per input\n",
    "transpose_labels = np.transpose(labels)\n",
    "\n",
    "df =  pd.DataFrame() \n",
    "returnData = []\n",
    "\n",
    "for i, branch in enumerate(transpose_results):\n",
    "    df = pd.DataFrame(branch)\n",
    "    print(df.sum()/df.count())\n",
    "\n",
    "\n",
    "##find the main exit accuracy levels to compare the branches to.\n",
    "##assume the first branch is the main branch to match too\n",
    "\n",
    "# mainAcc = findMainExitAccuracies(pred, labels, 4, [0,1,2,3,4,5,6,7,8,9], [\"main branch\",\"pooling_3\",\"pooling_4\",\"dense_3\"], graph=False)\n",
    "    \n",
    "    \n",
    "    \n",
    "# output = find_neighbours(thresholdpoints[['avgAcc','count']],.89,\"avgAcc\")\n",
    "# print(output)\n",
    "# print(thresholdpoints.iloc[output])\n",
    "# print('entropy threshold:',thresholdpoints.iloc[output]['Entropy'])\n",
    "\n"
   ]
  },
  {
   "cell_type": "code",
   "execution_count": 161,
   "metadata": {
    "scrolled": true
   },
   "outputs": [
    {
     "name": "stdout",
     "output_type": "stream",
     "text": [
      "branch 0\n",
      "2.263064567541182\n",
      "avg entropy 0.13902252738569545\n",
      "avgAcc 84.39%\n",
      "avgAcc at avgE 92.71% for a count of 8130 inputs\n",
      "[0, 7980, 8308, 8526, 8687, 8817, 8980, 9107, 9235, 9358, 9587, 9724, 9775, 9830, 9867, 9900, 9939, 9960, 9971, 9979, 9987, 9995, 9998, 10000, 10000, 10000, 10000, 10000, 10000, 10000, 10000, 10000, 10000, 10000, 10000]\n",
      "sum: 327510\n",
      "branch 1\n",
      "3.187468036752663\n",
      "avg entropy 1.5940609314869516\n",
      "avgAcc 60.34%\n",
      "avgAcc at avgE 79.56% for a count of 4579 inputs\n",
      "[0, 165, 421, 687, 949, 1192, 1453, 1702, 1955, 2196, 2462, 2795, 3124, 3495, 3842, 4198, 4609, 4992, 5471, 5925, 6414, 6902, 7397, 7889, 8360, 8771, 9162, 9488, 9730, 9866, 9949, 9988, 10000, 10000, 10000]\n",
      "sum: 185549\n",
      "branch 2\n",
      "3.213945090373626\n",
      "avg entropy 1.1519333978666058\n",
      "avgAcc 70.71%\n",
      "avgAcc at avgE 88.92% for a count of 5029 inputs\n",
      "[0, 923, 1544, 1994, 2389, 2772, 3118, 3462, 3788, 4142, 4469, 4845, 5239, 5574, 5953, 6339, 6731, 7149, 7558, 7934, 8316, 8671, 8981, 9230, 9458, 9645, 9761, 9853, 9927, 9971, 9995, 9998, 9999, 10000, 10000]\n",
      "sum: 229728\n",
      "branch 3\n",
      "3.1892491147171573\n",
      "avg entropy 0.5489725603851792\n",
      "avgAcc 82.08%\n",
      "avgAcc at avgE 95.36% for a count of 6459 inputs\n",
      "[0, 4451, 5172, 5634, 5988, 6313, 6575, 6822, 7074, 7308, 7563, 7841, 8077, 8297, 8487, 8672, 8874, 9022, 9190, 9345, 9461, 9568, 9674, 9753, 9822, 9881, 9920, 9948, 9972, 9988, 9996, 9998, 10000, 10000, 10000]\n",
      "sum: 288686\n"
     ]
    },
    {
     "name": "stderr",
     "output_type": "stream",
     "text": [
      "C:\\Users\\GriffithInnovate\\Anaconda3\\envs\\py36torch\\lib\\site-packages\\ipykernel_launcher.py:58: RuntimeWarning: invalid value encountered in long_scalars\n"
     ]
    },
    {
     "data": {
      "text/plain": [
       "<Figure size 720x720 with 0 Axes>"
      ]
     },
     "metadata": {},
     "output_type": "display_data"
    },
    {
     "data": {
      "image/png": "[encoded data removed]",
      "text/plain": [
       "<Figure size 720x720 with 4 Axes>"
      ]
     },
     "metadata": {},
     "output_type": "display_data"
    }
   ],
   "source": [
    "y = avgConfidence(pred, labels, entropy, 4,[0,1,2,3,4,5,6,7,8,9], [\"Main Exit\",\"Branch 1\",\"Branch 2\",\"Branch 3\"],avgAcc=True,graph=True)\n",
    "\n"
   ]
  },
  {
   "cell_type": "code",
   "execution_count": null,
   "metadata": {},
   "outputs": [],
   "source": []
  },
  {
   "cell_type": "code",
   "execution_count": 165,
   "metadata": {},
   "outputs": [
    {
     "name": "stdout",
     "output_type": "stream",
     "text": [
      "correct answers 8439\n",
      "passed results 10000\n",
      "correct [863, 933, 774, 679, 818, 772, 904, 886, 919, 891]\n",
      "count [1000, 1000, 1000, 1000, 1000, 1000, 1000, 1000, 1000, 1000]\n",
      "percentage [0.863, 0.933, 0.774, 0.679, 0.818, 0.772, 0.904, 0.886, 0.919, 0.891]\n",
      "accuracy Value: {0: 0.863, 1: 0.933, 2: 0.774, 3: 0.679, 4: 0.818, 5: 0.772, 6: 0.904, 7: 0.886, 8: 0.919, 9: 0.891}\n",
      "accuracy Value: [0.8439 0.8439 0.8439 0.8439 0.8439 0.8439 0.8439 0.8439 0.8439 0.8439]\n"
     ]
    },
    {
     "name": "stderr",
     "output_type": "stream",
     "text": [
      "C:\\Users\\GriffithInnovate\\Anaconda3\\envs\\py36torch\\lib\\site-packages\\ipykernel_launcher.py:109: RuntimeWarning: invalid value encountered in long_scalars\n"
     ]
    },
    {
     "name": "stdout",
     "output_type": "stream",
     "text": [
      "nearest value to 0.8439 is 0.863 at 87 with 1000 counts \n",
      "nearest value to 0.8439 is 0.933 at 25 with 1000 counts \n"
     ]
    },
    {
     "name": "stderr",
     "output_type": "stream",
     "text": [
      "C:\\Users\\GriffithInnovate\\Anaconda3\\envs\\py36torch\\lib\\site-packages\\ipykernel_launcher.py:109: RuntimeWarning: invalid value encountered in long_scalars\n"
     ]
    },
    {
     "name": "stdout",
     "output_type": "stream",
     "text": [
      "nearest value to 0.8439 is 0.8437869822485207 at 1863 with 845 counts \n"
     ]
    },
    {
     "name": "stderr",
     "output_type": "stream",
     "text": [
      "C:\\Users\\GriffithInnovate\\Anaconda3\\envs\\py36torch\\lib\\site-packages\\ipykernel_launcher.py:109: RuntimeWarning: invalid value encountered in long_scalars\n"
     ]
    },
    {
     "name": "stdout",
     "output_type": "stream",
     "text": [
      "nearest value to 0.8439 is 0.84375 at 69 with 512 counts \n"
     ]
    },
    {
     "name": "stderr",
     "output_type": "stream",
     "text": [
      "C:\\Users\\GriffithInnovate\\Anaconda3\\envs\\py36torch\\lib\\site-packages\\ipykernel_launcher.py:109: RuntimeWarning: invalid value encountered in long_scalars\n"
     ]
    },
    {
     "name": "stdout",
     "output_type": "stream",
     "text": [
      "nearest value to 0.8439 is 0.843322818086225 at 3459 with 951 counts \n"
     ]
    },
    {
     "name": "stderr",
     "output_type": "stream",
     "text": [
      "C:\\Users\\GriffithInnovate\\Anaconda3\\envs\\py36torch\\lib\\site-packages\\ipykernel_launcher.py:109: RuntimeWarning: invalid value encountered in long_scalars\n"
     ]
    },
    {
     "name": "stdout",
     "output_type": "stream",
     "text": [
      "nearest value to 0.8439 is 0.844059405940594 at 6178 with 808 counts \n"
     ]
    },
    {
     "name": "stderr",
     "output_type": "stream",
     "text": [
      "C:\\Users\\GriffithInnovate\\Anaconda3\\envs\\py36torch\\lib\\site-packages\\ipykernel_launcher.py:109: RuntimeWarning: invalid value encountered in long_scalars\n"
     ]
    },
    {
     "name": "stdout",
     "output_type": "stream",
     "text": [
      "nearest value to 0.8439 is 0.904 at 87 with 1000 counts \n"
     ]
    },
    {
     "name": "stderr",
     "output_type": "stream",
     "text": [
      "C:\\Users\\GriffithInnovate\\Anaconda3\\envs\\py36torch\\lib\\site-packages\\ipykernel_launcher.py:109: RuntimeWarning: invalid value encountered in long_scalars\n"
     ]
    },
    {
     "name": "stdout",
     "output_type": "stream",
     "text": [
      "nearest value to 0.8439 is 0.886 at 87 with 1000 counts \n"
     ]
    },
    {
     "name": "stderr",
     "output_type": "stream",
     "text": [
      "C:\\Users\\GriffithInnovate\\Anaconda3\\envs\\py36torch\\lib\\site-packages\\ipykernel_launcher.py:109: RuntimeWarning: invalid value encountered in long_scalars\n"
     ]
    },
    {
     "name": "stdout",
     "output_type": "stream",
     "text": [
      "nearest value to 0.8439 is 0.918918918918919 at 735 with 999 counts \n"
     ]
    },
    {
     "name": "stderr",
     "output_type": "stream",
     "text": [
      "C:\\Users\\GriffithInnovate\\Anaconda3\\envs\\py36torch\\lib\\site-packages\\ipykernel_launcher.py:109: RuntimeWarning: invalid value encountered in long_scalars\n"
     ]
    },
    {
     "name": "stdout",
     "output_type": "stream",
     "text": [
      "nearest value to 0.8439 is 0.891 at 25 with 1000 counts \n"
     ]
    },
    {
     "name": "stderr",
     "output_type": "stream",
     "text": [
      "C:\\Users\\GriffithInnovate\\Anaconda3\\envs\\py36torch\\lib\\site-packages\\ipykernel_launcher.py:109: RuntimeWarning: invalid value encountered in long_scalars\n"
     ]
    },
    {
     "name": "stdout",
     "output_type": "stream",
     "text": [
      "nearest value to 0.8439 is 0.8441558441558441 at 6294 with 385 counts \n"
     ]
    },
    {
     "name": "stderr",
     "output_type": "stream",
     "text": [
      "C:\\Users\\GriffithInnovate\\Anaconda3\\envs\\py36torch\\lib\\site-packages\\ipykernel_launcher.py:109: RuntimeWarning: invalid value encountered in long_scalars\n"
     ]
    },
    {
     "name": "stdout",
     "output_type": "stream",
     "text": [
      "nearest value to 0.8439 is 0.8436018957345972 at 467 with 844 counts \n"
     ]
    },
    {
     "name": "stderr",
     "output_type": "stream",
     "text": [
      "C:\\Users\\GriffithInnovate\\Anaconda3\\envs\\py36torch\\lib\\site-packages\\ipykernel_launcher.py:109: RuntimeWarning: invalid value encountered in long_scalars\n"
     ]
    },
    {
     "name": "stdout",
     "output_type": "stream",
     "text": [
      "nearest value to 0.8439 is 0.8 at 92 with 5 counts \n"
     ]
    },
    {
     "name": "stderr",
     "output_type": "stream",
     "text": [
      "C:\\Users\\GriffithInnovate\\Anaconda3\\envs\\py36torch\\lib\\site-packages\\ipykernel_launcher.py:109: RuntimeWarning: invalid value encountered in long_scalars\n"
     ]
    },
    {
     "name": "stdout",
     "output_type": "stream",
     "text": [
      "nearest value to 0.8439 is 0.514018691588785 at 0 with 107 counts \n"
     ]
    },
    {
     "name": "stderr",
     "output_type": "stream",
     "text": [
      "C:\\Users\\GriffithInnovate\\Anaconda3\\envs\\py36torch\\lib\\site-packages\\ipykernel_launcher.py:109: RuntimeWarning: invalid value encountered in long_scalars\n"
     ]
    },
    {
     "name": "stdout",
     "output_type": "stream",
     "text": [
      "nearest value to 0.8439 is 0.8333333333333334 at 107 with 6 counts \n"
     ]
    },
    {
     "name": "stderr",
     "output_type": "stream",
     "text": [
      "C:\\Users\\GriffithInnovate\\Anaconda3\\envs\\py36torch\\lib\\site-packages\\ipykernel_launcher.py:109: RuntimeWarning: invalid value encountered in long_scalars\n"
     ]
    },
    {
     "name": "stdout",
     "output_type": "stream",
     "text": [
      "nearest value to 0.8439 is 0.84251968503937 at 89 with 127 counts \n"
     ]
    },
    {
     "name": "stderr",
     "output_type": "stream",
     "text": [
      "C:\\Users\\GriffithInnovate\\Anaconda3\\envs\\py36torch\\lib\\site-packages\\ipykernel_launcher.py:109: RuntimeWarning: invalid value encountered in long_scalars\n"
     ]
    },
    {
     "name": "stdout",
     "output_type": "stream",
     "text": [
      "nearest value to 0.8439 is 0.8433048433048433 at 199 with 702 counts \n",
      "nearest value to 0.8439 is 0.8431952662721893 at 191 with 676 counts \n"
     ]
    },
    {
     "name": "stderr",
     "output_type": "stream",
     "text": [
      "C:\\Users\\GriffithInnovate\\Anaconda3\\envs\\py36torch\\lib\\site-packages\\ipykernel_launcher.py:109: RuntimeWarning: invalid value encountered in long_scalars\n"
     ]
    },
    {
     "name": "stdout",
     "output_type": "stream",
     "text": [
      "nearest value to 0.8439 is 0.8439620081411127 at 1762 with 737 counts \n"
     ]
    },
    {
     "name": "stderr",
     "output_type": "stream",
     "text": [
      "C:\\Users\\GriffithInnovate\\Anaconda3\\envs\\py36torch\\lib\\site-packages\\ipykernel_launcher.py:109: RuntimeWarning: invalid value encountered in long_scalars\n"
     ]
    },
    {
     "name": "stdout",
     "output_type": "stream",
     "text": [
      "nearest value to 0.8439 is 0.8431818181818181 at 3792 with 440 counts \n"
     ]
    },
    {
     "name": "stderr",
     "output_type": "stream",
     "text": [
      "C:\\Users\\GriffithInnovate\\Anaconda3\\envs\\py36torch\\lib\\site-packages\\ipykernel_launcher.py:109: RuntimeWarning: invalid value encountered in long_scalars\n"
     ]
    },
    {
     "name": "stdout",
     "output_type": "stream",
     "text": [
      "nearest value to 0.8439 is 0.8438880706921944 at 714 with 679 counts \n"
     ]
    },
    {
     "name": "stderr",
     "output_type": "stream",
     "text": [
      "C:\\Users\\GriffithInnovate\\Anaconda3\\envs\\py36torch\\lib\\site-packages\\ipykernel_launcher.py:109: RuntimeWarning: invalid value encountered in long_scalars\n"
     ]
    },
    {
     "name": "stdout",
     "output_type": "stream",
     "text": [
      "nearest value to 0.8439 is 0.848 at 526 with 1000 counts \n"
     ]
    },
    {
     "name": "stderr",
     "output_type": "stream",
     "text": [
      "C:\\Users\\GriffithInnovate\\Anaconda3\\envs\\py36torch\\lib\\site-packages\\ipykernel_launcher.py:109: RuntimeWarning: invalid value encountered in long_scalars\n"
     ]
    },
    {
     "name": "stdout",
     "output_type": "stream",
     "text": [
      "nearest value to 0.8439 is 0.84 at 1130 with 75 counts \n"
     ]
    },
    {
     "name": "stderr",
     "output_type": "stream",
     "text": [
      "C:\\Users\\GriffithInnovate\\Anaconda3\\envs\\py36torch\\lib\\site-packages\\ipykernel_launcher.py:109: RuntimeWarning: invalid value encountered in long_scalars\n"
     ]
    },
    {
     "name": "stdout",
     "output_type": "stream",
     "text": [
      "nearest value to 0.8439 is 0.84375 at 152 with 64 counts \n"
     ]
    },
    {
     "name": "stderr",
     "output_type": "stream",
     "text": [
      "C:\\Users\\GriffithInnovate\\Anaconda3\\envs\\py36torch\\lib\\site-packages\\ipykernel_launcher.py:109: RuntimeWarning: invalid value encountered in long_scalars\n"
     ]
    },
    {
     "name": "stdout",
     "output_type": "stream",
     "text": [
      "nearest value to 0.8439 is 0.8440366972477065 at 113 with 109 counts \n"
     ]
    },
    {
     "name": "stderr",
     "output_type": "stream",
     "text": [
      "C:\\Users\\GriffithInnovate\\Anaconda3\\envs\\py36torch\\lib\\site-packages\\ipykernel_launcher.py:109: RuntimeWarning: invalid value encountered in long_scalars\n"
     ]
    },
    {
     "name": "stdout",
     "output_type": "stream",
     "text": [
      "nearest value to 0.8439 is 0.8412698412698413 at 258 with 252 counts \n"
     ]
    },
    {
     "name": "stderr",
     "output_type": "stream",
     "text": [
      "C:\\Users\\GriffithInnovate\\Anaconda3\\envs\\py36torch\\lib\\site-packages\\ipykernel_launcher.py:109: RuntimeWarning: invalid value encountered in long_scalars\n"
     ]
    },
    {
     "name": "stdout",
     "output_type": "stream",
     "text": [
      "nearest value to 0.8439 is 0.849 at 2671 with 1000 counts \n",
      "nearest value to 0.8439 is 0.8436724565756824 at 1626 with 806 counts \n"
     ]
    },
    {
     "name": "stderr",
     "output_type": "stream",
     "text": [
      "C:\\Users\\GriffithInnovate\\Anaconda3\\envs\\py36torch\\lib\\site-packages\\ipykernel_launcher.py:109: RuntimeWarning: invalid value encountered in long_scalars\n"
     ]
    },
    {
     "name": "stdout",
     "output_type": "stream",
     "text": [
      "nearest value to 0.8439 is 0.8431163287086446 at 153 with 937 counts \n"
     ]
    },
    {
     "name": "stderr",
     "output_type": "stream",
     "text": [
      "C:\\Users\\GriffithInnovate\\Anaconda3\\envs\\py36torch\\lib\\site-packages\\ipykernel_launcher.py:109: RuntimeWarning: invalid value encountered in long_scalars\n"
     ]
    },
    {
     "name": "stdout",
     "output_type": "stream",
     "text": [
      "nearest value to 0.8439 is 0.8439241917502787 at 3497 with 897 counts \n"
     ]
    },
    {
     "name": "stderr",
     "output_type": "stream",
     "text": [
      "C:\\Users\\GriffithInnovate\\Anaconda3\\envs\\py36torch\\lib\\site-packages\\ipykernel_launcher.py:109: RuntimeWarning: invalid value encountered in long_scalars\n"
     ]
    },
    {
     "name": "stdout",
     "output_type": "stream",
     "text": [
      "nearest value to 0.8439 is 0.856 at 2868 with 1000 counts \n"
     ]
    },
    {
     "name": "stderr",
     "output_type": "stream",
     "text": [
      "C:\\Users\\GriffithInnovate\\Anaconda3\\envs\\py36torch\\lib\\site-packages\\ipykernel_launcher.py:109: RuntimeWarning: invalid value encountered in long_scalars\n"
     ]
    },
    {
     "name": "stdout",
     "output_type": "stream",
     "text": [
      "nearest value to 0.8439 is 0.895 at 87 with 1000 counts \n"
     ]
    },
    {
     "name": "stderr",
     "output_type": "stream",
     "text": [
      "C:\\Users\\GriffithInnovate\\Anaconda3\\envs\\py36torch\\lib\\site-packages\\ipykernel_launcher.py:109: RuntimeWarning: invalid value encountered in long_scalars\n"
     ]
    },
    {
     "name": "stdout",
     "output_type": "stream",
     "text": [
      "nearest value to 0.8439 is 0.8432642487046632 at 1887 with 772 counts \n"
     ]
    },
    {
     "name": "stderr",
     "output_type": "stream",
     "text": [
      "C:\\Users\\GriffithInnovate\\Anaconda3\\envs\\py36torch\\lib\\site-packages\\ipykernel_launcher.py:109: RuntimeWarning: invalid value encountered in long_scalars\n"
     ]
    },
    {
     "name": "stdout",
     "output_type": "stream",
     "text": [
      "nearest value to 0.8439 is 0.8438356164383561 at 611 with 365 counts \n"
     ]
    },
    {
     "name": "stderr",
     "output_type": "stream",
     "text": [
      "C:\\Users\\GriffithInnovate\\Anaconda3\\envs\\py36torch\\lib\\site-packages\\ipykernel_launcher.py:109: RuntimeWarning: invalid value encountered in long_scalars\n"
     ]
    },
    {
     "name": "stdout",
     "output_type": "stream",
     "text": [
      "nearest value to 0.8439 is 0.843680709534368 at 2186 with 902 counts \n"
     ]
    },
    {
     "name": "stderr",
     "output_type": "stream",
     "text": [
      "C:\\Users\\GriffithInnovate\\Anaconda3\\envs\\py36torch\\lib\\site-packages\\ipykernel_launcher.py:109: RuntimeWarning: invalid value encountered in long_scalars\n"
     ]
    },
    {
     "name": "stdout",
     "output_type": "stream",
     "text": [
      "nearest value to 0.8439 is 0.8439620081411127 at 640 with 737 counts \n"
     ]
    },
    {
     "name": "stderr",
     "output_type": "stream",
     "text": [
      "C:\\Users\\GriffithInnovate\\Anaconda3\\envs\\py36torch\\lib\\site-packages\\ipykernel_launcher.py:109: RuntimeWarning: invalid value encountered in long_scalars\n"
     ]
    },
    {
     "name": "stdout",
     "output_type": "stream",
     "text": [
      "nearest value to 0.8439 is 0.8748748748748749 at 459 with 999 counts \n"
     ]
    },
    {
     "name": "stderr",
     "output_type": "stream",
     "text": [
      "C:\\Users\\GriffithInnovate\\Anaconda3\\envs\\py36torch\\lib\\site-packages\\ipykernel_launcher.py:109: RuntimeWarning: invalid value encountered in long_scalars\n"
     ]
    },
    {
     "name": "stdout",
     "output_type": "stream",
     "text": [
      "nearest value to 0.8439 is 0.854 at 2868 with 1000 counts \n"
     ]
    },
    {
     "name": "stderr",
     "output_type": "stream",
     "text": [
      "C:\\Users\\GriffithInnovate\\Anaconda3\\envs\\py36torch\\lib\\site-packages\\ipykernel_launcher.py:109: RuntimeWarning: invalid value encountered in long_scalars\n"
     ]
    },
    {
     "name": "stdout",
     "output_type": "stream",
     "text": [
      "nearest value to 0.8439 is 0.898 at 2868 with 1000 counts \n",
      "nearest value to 0.8439 is 0.886 at 3496 with 1000 counts \n"
     ]
    }
   ],
   "source": [
    "thresholdpoints = findThreshold(pred, labels, entropy, 4,[0,1,2,3,4,5,6,7,8,9], [\"Main Exit\",\"Branch 1\",\"Branch 2\",\"Branch 3\"],avgAcc= True)\n",
    "# for i in thresholdpoints:\n",
    "#     thresh = pd.DataFrame.from_dict(thresholdpoints[i],orient='index')"
   ]
  },
  {
   "cell_type": "code",
   "execution_count": null,
   "metadata": {},
   "outputs": [],
   "source": [
    "y = predict(pred, labels, entropy, 4,[0,1,2,3,4,5,6,7,8,9], [\"Main Exit\",\"Branch 1\",\"Branch 2\",\"Branch 3\"],avgAcc=True,graph=False)"
   ]
  }
 ],
 "metadata": {
  "kernelspec": {
   "display_name": "Python 3.7.9 64-bit ('py36torch': conda)",
   "language": "python",
   "name": "python37964bitpy36torchconda6c7f9b1e31bd4704978e313bc2fd5ac1"
  },
  "language_info": {
   "codemirror_mode": {
    "name": "ipython",
    "version": 3
   },
   "file_extension": ".py",
   "mimetype": "text/x-python",
   "name": "python",
   "nbconvert_exporter": "python",
   "pygments_lexer": "ipython3",
   "version": "3.7.9"
  }
 },
 "nbformat": 4,
 "nbformat_minor": 2
}
