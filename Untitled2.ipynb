{
 "cells": [
  {
   "cell_type": "code",
   "execution_count": 31,
   "metadata": {},
   "outputs": [],
   "source": [
    "import numpy as np\n",
    "class eval:\n",
    "    def foo():\n",
    "        return True\n",
    "    def bar(self):\n",
    "        return True\n",
    "    def x():\n",
    "        return eval.foo()"
   ]
  },
  {
   "cell_type": "code",
   "execution_count": 32,
   "metadata": {},
   "outputs": [
    {
     "data": {
      "text/plain": [
       "True"
      ]
     },
     "execution_count": 32,
     "metadata": {},
     "output_type": "execute_result"
    }
   ],
   "source": [
    "eval.foo()"
   ]
  },
  {
   "cell_type": "code",
   "execution_count": 33,
   "metadata": {},
   "outputs": [
    {
     "data": {
      "text/plain": [
       "True"
      ]
     },
     "execution_count": 33,
     "metadata": {},
     "output_type": "execute_result"
    }
   ],
   "source": [
    "e = eval()\n",
    "e.bar()"
   ]
  },
  {
   "cell_type": "code",
   "execution_count": 34,
   "metadata": {},
   "outputs": [
    {
     "data": {
      "text/plain": [
       "True"
      ]
     },
     "execution_count": 34,
     "metadata": {},
     "output_type": "execute_result"
    }
   ],
   "source": [
    "eval.x()"
   ]
  },
  {
   "cell_type": "code",
   "execution_count": 50,
   "metadata": {},
   "outputs": [],
   "source": [
    "labels = [[0], [0], [5], [4], [4], [1], [2], [6], [8], [7]]\n",
    "# labels = [[[3]], [[8]], [[8]], [[0]], [[6]], [[6]], [[1]], [[6]], [[3]], [[1]]]\n",
    "num_outputs = 4\n",
    "def expandlabels(label,num_outputs):\n",
    "    for i, val in enumerate(label):\n",
    "        print(i)\n",
    "        label[i]= [val]* 4\n",
    "#     flattened = [val for sublist in label for val in sublist]\n",
    "#     label = flattened * num_outputs\n",
    "    return label"
   ]
  },
  {
   "cell_type": "code",
   "execution_count": 51,
   "metadata": {},
   "outputs": [
    {
     "name": "stdout",
     "output_type": "stream",
     "text": [
      "0\n",
      "1\n",
      "2\n",
      "3\n",
      "4\n",
      "5\n",
      "6\n",
      "7\n",
      "8\n",
      "9\n"
     ]
    },
    {
     "data": {
      "text/plain": [
       "[[[[0], [0], [0], [0]],\n",
       "  [[0], [0], [0], [0]],\n",
       "  [[5], [5], [5], [5]],\n",
       "  [[4], [4], [4], [4]],\n",
       "  [[4], [4], [4], [4]],\n",
       "  [[1], [1], [1], [1]],\n",
       "  [[2], [2], [2], [2]],\n",
       "  [[6], [6], [6], [6]],\n",
       "  [[8], [8], [8], [8]],\n",
       "  [[7], [7], [7], [7]]]]"
      ]
     },
     "execution_count": 51,
     "metadata": {},
     "output_type": "execute_result"
    }
   ],
   "source": [
    "labels = [expandlabels(labels,num_outputs)]\n",
    "labels"
   ]
  },
  {
   "cell_type": "code",
   "execution_count": null,
   "metadata": {},
   "outputs": [],
   "source": []
  }
 ],
 "metadata": {
  "kernelspec": {
   "display_name": "Python 3",
   "language": "python",
   "name": "python3"
  },
  "language_info": {
   "codemirror_mode": {
    "name": "ipython",
    "version": 3
   },
   "file_extension": ".py",
   "mimetype": "text/x-python",
   "name": "python",
   "nbconvert_exporter": "python",
   "pygments_lexer": "ipython3",
   "version": "3.6.7"
  }
 },
 "nbformat": 4,
 "nbformat_minor": 2
}
