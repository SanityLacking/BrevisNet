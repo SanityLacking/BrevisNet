{
 "cells": [
  {
   "cell_type": "code",
   "execution_count": 1,
   "metadata": {},
   "outputs": [],
   "source": [
    "import tensorflow as tf"
   ]
  },
  {
   "cell_type": "code",
   "execution_count": 37,
   "metadata": {},
   "outputs": [],
   "source": [
    "import keras\n",
    "import math"
   ]
  },
  {
   "cell_type": "code",
   "execution_count": 38,
   "metadata": {},
   "outputs": [
    {
     "data": {
      "text/plain": [
       "1.1769392"
      ]
     },
     "execution_count": 38,
     "metadata": {},
     "output_type": "execute_result"
    }
   ],
   "source": [
    "y_true = [1, 2]\n",
    "y_pred = [[0.05, 0.95, 0], [0.1, 0.8, 0.1]]\n",
    "# Using 'auto'/'sum_over_batch_size' reduction type.  \n",
    "scce = tf.keras.losses.SparseCategoricalCrossentropy()\n",
    "scce(y_true, y_pred).numpy()\n",
    "# 1.177"
   ]
  },
  {
   "cell_type": "code",
   "execution_count": 895,
   "metadata": {},
   "outputs": [],
   "source": [
    "\n",
    "y_true2 = tf.constant([[3.],\n",
    " [9.], [3.], [8.], [1.], [6.], [6.], [5.], [6.], [6.], [1.], [2.], [7.], [2.], [5.], [6.], [2.], [1.], [8.], [6.], [5.], [3.], [7.], [3.], [5.], [0.], [9.], [9.], [4.], [7.], [5.], [3.]])\n",
    "y_pred2 = tf.constant([[2.73371779e-08,  9.76622161e-09,  2.28647341e-08,  9.99267638e-01, 6.97216426e-04,  1.18445532e-05, 4.63129481e-08,  2.27116197e-05, 6.13182749e-07,  1.60197420e-08],\n",
    "[1.18974689e-03,  1.55236307e-07,  3.27261500e-06,  3.36154576e-10\n",
    ", 3.72030989e-10,  2.63885701e-12,  1.67725503e-07,  4.61266687e-08\n",
    ", 1.00382962e-07,  9.98806477e-01],\n",
    "[1.53569366e-10,  1.79996551e-09,  1.88246241e-09,  9.99551594e-01\n",
    ", 5.24383438e-07,  4.34757821e-05,  3.82638100e-04,  1.71655608e-06\n",
    ", 1.13180064e-07,  1.99054975e-05],\n",
    "[6.79390869e-05,  6.03767319e-07,  1.50094470e-09,  2.34694347e-10\n",
    ", 1.85012148e-08,  1.41151786e-11,  5.00149144e-10,  4.10286166e-10\n",
    ", 9.99898911e-01,  3.25477995e-05],\n",
    "[4.86484346e-21,  9.99930024e-01,  1.06961479e-28,  2.59521618e-29\n",
    ", 6.83857192e-31,  5.65548877e-30,  2.40050886e-24,  1.63406922e-28\n",
    ", 5.36925344e-16,  6.99683151e-05],\n",
    "[2.37777112e-06,  1.10751607e-04,  1.68820168e-03,  4.85912617e-03\n",
    ", 1.67233356e-05,  1.93383152e-04,  9.93017316e-01,  8.41521057e-07\n",
    ", 1.10458051e-04,  8.17339355e-07],\n",
    "[1.23420385e-09,  5.75655008e-07,  1.88704385e-09,  1.03193925e-05\n",
    ", 1.82717586e-09,  1.87768401e-09,  9.99989152e-01,  1.06011720e-10\n",
    ", 1.69483645e-08,  7.19582527e-09],\n",
    "[9.88362103e-09,  1.90622462e-10,  3.63176866e-08,  7.03131946e-07\n",
    ", 2.97633793e-08,  9.99995708e-01,  3.53894461e-06,  4.67452876e-09\n",
    ", 4.79607673e-11,  7.20262405e-10],\n",
    "[1.21231494e-07,  3.26197890e-13,  1.93193910e-06,  2.36188374e-10\n",
    ", 2.70847841e-12,  9.18233337e-11,  9.99997973e-01,  8.77111828e-16\n",
    ", 1.20209840e-11,  2.61708678e-13],\n",
    "[1.02222097e-09,  9.46372203e-10,  8.18686274e-09,  3.53221003e-06\n",
    ", 4.35303626e-10,  1.15475686e-07,  9.99996305e-01,  1.15568037e-12\n",
    ", 5.31931299e-09,  5.41118053e-11],\n",
    "[3.51498000e-16,  1.00000000e+00,  1.56014683e-27,  1.43711015e-27\n",
    ", 1.24829311e-26,  4.77003081e-27,  8.18545297e-25,  7.38169012e-26\n",
    ", 3.38006347e-17,  4.16335990e-16],\n",
    "[1.11054233e-05,  4.11877181e-06,  9.99337614e-01,  1.43504903e-05\n",
    ", 8.18622041e-08,  3.44854139e-04,  2.08665424e-05,  1.85285990e-05\n",
    ", 2.48512777e-04,  3.08069552e-08],\n",
    "[5.12145361e-12,  2.99426564e-12,  6.29246709e-13,  4.74396478e-09\n",
    ", 1.27731046e-05,  5.65986258e-10,  1.11851251e-12,  9.99987245e-01\n",
    ", 6.51790796e-13,  2.85254598e-09],\n",
    "[3.23126298e-14,  8.00591910e-15,  1.00000000e+00,  2.27426864e-16\n",
    ", 5.55381292e-16,  8.98701578e-13,  2.68175748e-09,  5.66288856e-12\n",
    ", 1.68522044e-15,  5.42009310e-15],\n",
    "[4.91398209e-13,  1.19776064e-10,  7.12786655e-13,  1.12227244e-05\n",
    ", 4.15407708e-11,  9.99985456e-01,  3.33762659e-06,  8.10522222e-12\n",
    ", 4.26805333e-14,  2.44192080e-11],\n",
    "[1.07794694e-05,  1.91774028e-08,  4.36189612e-06,  2.28090517e-04\n",
    ", 1.20097400e-06,  4.44221882e-07,  9.99591887e-01,  5.35859144e-08\n",
    ", 1.62680328e-04,  5.61267427e-07],\n",
    "[4.18365298e-09,  1.90525729e-09,  9.99930143e-01,  6.07642069e-05\n",
    ", 1.21018650e-06,  7.08218886e-06,  3.56781243e-07,  1.45338973e-07\n",
    ", 5.15581782e-08,  1.62683151e-07],\n",
    "[2.49400166e-27,  1.00000000e+00,  1.71578051e-36,  1.43100898e-29\n",
    ", 2.84363563e-35,  2.82230857e-31,  5.17062958e-29,  9.10601585e-29\n",
    ", 2.36241827e-19,  1.49022869e-15],\n",
    "[3.89902823e-07,  7.44963480e-10,  2.25030061e-09,  4.24700344e-11\n",
    ", 6.59054820e-07,  1.98029744e-12,  4.11644711e-11,  1.93912750e-11\n",
    ", 9.99998927e-01,  4.57891280e-09],\n",
    "[2.32566310e-12,  5.48402090e-13,  6.03844486e-09,  3.75935307e-12\n",
    ", 3.95704248e-13,  1.01739245e-14,  1.00000000e+00,  1.16494696e-15\n",
    ", 2.05078333e-11,  4.18709350e-15],\n",
    "[1.94666576e-08,  7.91322861e-07,  2.75458442e-05,  2.75698692e-01\n",
    ", 7.22585355e-06,  7.23831475e-01,  4.73777982e-05,  3.86762869e-04\n",
    ", 3.37677228e-08,  6.88065711e-08],\n",
    "[6.46340922e-02,  7.95558117e-06,  2.06043615e-06,  9.25571799e-01\n",
    ", 9.86061204e-05,  4.96012990e-06,  8.80497555e-06,  1.11272791e-04\n",
    ", 8.96103811e-05,  9.47085582e-03],\n",
    "[2.47657272e-15,  7.16958051e-18,  1.63435832e-20,  6.81196107e-19\n",
    ", 8.00748411e-13,  1.57061105e-13,  9.03515877e-20,  1.00000000e+00\n",
    ", 2.04343655e-17,  2.45383436e-11],\n",
    "[7.86775711e-09,  9.23687793e-09,  2.57569297e-07,  9.99564350e-01\n",
    ", 3.57447504e-07,  4.11870453e-04,  1.03232851e-05,  1.19748927e-06\n",
    ", 1.81973155e-06,  9.91037177e-06],\n",
    "[3.49524511e-12,  1.32222206e-12,  8.81502857e-12,  1.74519721e-06\n",
    ", 5.33641298e-10,  9.99998212e-01,  1.20298172e-11,  1.54829172e-09\n",
    ", 5.33759885e-12,  5.82114695e-12],\n",
    "[1.00000000e+00,  1.85897895e-19,  6.18219755e-16,  4.14929348e-25\n",
    ", 1.77053758e-19,  9.09354738e-23,  3.79095292e-25,  1.05856751e-20\n",
    ", 9.81648527e-19,  1.91846795e-16],\n",
    "[2.37899008e-23,  2.41766955e-24,  4.54552792e-32,  5.16231258e-29\n",
    ", 3.35176773e-30,  7.58776462e-26,  4.78846032e-28,  4.10410330e-30\n",
    ", 8.30435762e-28,  1.00000000e+00],\n",
    "[4.61150378e-13,  2.19711429e-13,  1.86012624e-21,  1.78509401e-16\n",
    ", 1.57874528e-23,  1.29329505e-25,  9.85150387e-23,  2.94620570e-20\n",
    ", 5.35433785e-13,  1.00000000e+00],\n",
    "[7.23821719e-13,  5.00359946e-14,  2.83046431e-09,  6.35549668e-10\n",
    ", 1.00000000e+00,  4.98675268e-11,  3.05983988e-11,  5.38493252e-12\n",
    ", 6.80423296e-12,  2.26922625e-15],\n",
    "[1.27399938e-10,  3.23110383e-09,  5.35816810e-07,  8.35697847e-06\n",
    ", 1.46054458e-06,  3.29824434e-06,  1.94307486e-08,  9.99986291e-01\n",
    ", 2.41923009e-11,  3.02755843e-09],\n",
    "[9.92937930e-05,  1.22751749e-06,  4.51680307e-06,  3.49793769e-02\n",
    ", 4.70094907e-04,  9.44826186e-01,  1.17137570e-04,  1.91966351e-02\n",
    ", 3.05316033e-04,  1.94741915e-07],\n",
    "[0,0,0,0,0,0,0,0,0, 0]])"
   ]
  },
  {
   "cell_type": "code",
   "execution_count": 906,
   "metadata": {},
   "outputs": [],
   "source": [
    "def calcEntropy(y_hat):\n",
    "        #entropy is the sum of y * log(y) for all possible labels.\n",
    "        if isinstance(y_hat, list):\n",
    "            y_hat = np.array(y_hat)\n",
    "        sum_entropy = 0\n",
    "        if y_hat.ndim >1:\n",
    "            return list(map(calcEntropy,y_hat))\n",
    "        for i in range(len(y_hat)):\n",
    "            if y_hat[i] != 0: # log of zero is undefined, see MacKay's book \"Information Theory, Inference, and Learning Algorithms\"  for more info on this workaround reasoning.\n",
    "                entropy =y_hat[i] * math.log(y_hat[i],2)\n",
    "                sum_entropy +=  entropy\n",
    "\n",
    "        return -sum_entropy\n",
    "    \n",
    "def calcEntropy_Tensors(y_hat):\n",
    "        #entropy is the sum of y * log(y) for all possible labels.\n",
    "        #doesn't deal with cases of log(0)\n",
    "        rank = tf.rank(y_hat)\n",
    "        def calc_E(y_hat):\n",
    "            results = tf.clip_by_value((tf.math.log(y_hat)/tf.math.log(tf.constant(2, dtype=y_hat.dtype))), -1e12, 1e12)\n",
    "#             results = tf.clip_by_value(results, -1e12, 1e12)\n",
    "#             print(\"res \", results)\n",
    "            return tf.reduce_sum(y_hat * results)\n",
    "\n",
    "        sumEntropies = (tf.map_fn(calc_E,tf.cast(y_hat,'float')))\n",
    "        \n",
    "        if rank == 1:\n",
    "            sumEntropies = tf.reduce_sum(sumEntropies)\n",
    "        return -sumEntropies\n",
    "    \n",
    "def calcEntropy_Tensors2(y_hat):\n",
    "    #entropy is the sum of y * log(y) for all possible labels.\n",
    "    #doesn't deal with cases of log(0)\n",
    "#     num = tf.math.log(y_hat)\n",
    "# #     print(\"num\",num)\n",
    "#     dem = tf.math.log(tf.constant(2, dtype=y_hat.dtype))\n",
    "# #     print(\"dem\",dem)\n",
    "#     E = num / dem\n",
    "# #     print(\"E\",E)\n",
    "#     P = y_hat * E\n",
    "# #     print(\"p\",P)\n",
    "#     mean = tf.reduce_mean(tf.boolean_mask(P, tf.math.is_finite(P)))\n",
    "#     print(\"mean\",mean)\n",
    "#     sumEntropies = mean\n",
    "    val = y_hat * tf.math.log(y_hat)/tf.math.log(tf.constant(2, dtype=y_hat.dtype))\n",
    "    sumEntropies =  tf.reduce_mean(tf.boolean_mask(val,tf.math.is_finite(val)))\n",
    "    return -sumEntropies\n",
    "    "
   ]
  },
  {
   "cell_type": "code",
   "execution_count": 907,
   "metadata": {
    "scrolled": false
   },
   "outputs": [
    {
     "name": "stdout",
     "output_type": "stream",
     "text": [
      "tf.Tensor(\n",
      "[8.9271935e-03 1.3349805e-02 5.9777051e-03 1.5846994e-03 1.0667186e-03\n",
      " 6.8566404e-02 1.9935035e-04 8.6710847e-05 4.2391399e-05 7.2405004e-05\n",
      " 4.1166296e-14 9.0032564e-03 2.2627834e-04 7.6610569e-08 2.6624661e-04\n",
      " 5.6975479e-03 1.1128442e-03 7.3413430e-14 2.3599192e-05 1.6586878e-07\n",
      " 8.5560727e-01 4.2673713e-01 9.0386176e-10 5.6678061e-03 3.6025300e-05\n",
      " 4.1332670e-14 1.9840343e-21 4.9972561e-11 1.0305247e-07 2.6096325e-04\n",
      " 3.6776844e-01 0.0000000e+00], shape=(32,), dtype=float32)\n",
      "tf.Tensor(0.0057170354, shape=(), dtype=float32)\n"
     ]
    }
   ],
   "source": [
    "print(calcEntropy_Tensors(y_pred2))\n",
    "# %timeit calcEntropy_Tensors(y_pred2)\n",
    "# print('x sum',tf.reduce_sum(x))\n",
    "# %timeit calcEntropy_Tensors2(y_pred2)\n",
    "print(calcEntropy_Tensors2(y_pred2))"
   ]
  },
  {
   "cell_type": "code",
   "execution_count": null,
   "metadata": {},
   "outputs": [],
   "source": []
  },
  {
   "cell_type": "code",
   "execution_count": 716,
   "metadata": {
    "scrolled": false
   },
   "outputs": [
    {
     "name": "stdout",
     "output_type": "stream",
     "text": [
      "[2.5789821406002686, 2.6997218324096135, 2.8023805774805544]\n",
      "[0.5, 0.9709505944546686]\n",
      "----\n",
      "calc tf.Tensor(\n",
      "[8.9271935e-03 1.3349805e-02 5.9777051e-03 1.5846994e-03 1.0667186e-03\n",
      " 6.8566404e-02 1.9935035e-04 8.6710847e-05 4.2391399e-05 7.2405004e-05\n",
      " 4.1166296e-14 9.0032564e-03 2.2627834e-04 7.6610569e-08 2.6624661e-04\n",
      " 5.6975479e-03 1.1128442e-03 7.3413430e-14 2.3599192e-05 1.6586878e-07\n",
      " 8.5560727e-01 4.2673713e-01 9.0386176e-10 5.6678061e-03 3.6025300e-05\n",
      " 4.1332670e-14 1.9840343e-21 4.9972561e-11 1.0305247e-07 2.6096325e-04\n",
      " 3.6776844e-01 5.7695916e-06], shape=(32,), dtype=float32)\n",
      "tf.Tensor(0.014640942, shape=(), dtype=float32)\n",
      "tf.Tensor(0.07002491, shape=(), dtype=float32)\n"
     ]
    }
   ],
   "source": [
    "p = 0.5\n",
    "h = -math.log(p,2)\n",
    "#1 = all possibilities equal\n",
    "#0 = only one possibility \n",
    "print(calcEntropy([[.9,.5, .6, .5, .5, .5],[.8,.5, .6, .5, .5, .5],[.7,.5, .6, .5, .5, .5]]))\n",
    "print(calcEntropy([[0,.5],[.6,.4]]))\n",
    "\n",
    "y_true2 = tf.constant([[3.],\n",
    " [9.], [3.], [8.], [1.], [6.], [6.], [5.], [6.], [6.], [1.], [2.], [7.], [2.], [5.], [6.], [2.], [1.], [8.], [6.], [5.], [3.], [7.], [3.], [5.], [0.], [9.], [9.], [4.], [7.], [5.], [3.]])\n",
    "y_pred2 = tf.constant([[2.73371779e-08,  9.76622161e-09,  2.28647341e-08,  9.99267638e-01, 6.97216426e-04,  1.18445532e-05, 4.63129481e-08,  2.27116197e-05, 6.13182749e-07,  1.60197420e-08],\n",
    "[1.18974689e-03,  1.55236307e-07,  3.27261500e-06,  3.36154576e-10\n",
    ", 3.72030989e-10,  2.63885701e-12,  1.67725503e-07,  4.61266687e-08\n",
    ", 1.00382962e-07,  9.98806477e-01],\n",
    "[1.53569366e-10,  1.79996551e-09,  1.88246241e-09,  9.99551594e-01\n",
    ", 5.24383438e-07,  4.34757821e-05,  3.82638100e-04,  1.71655608e-06\n",
    ", 1.13180064e-07,  1.99054975e-05],\n",
    "[6.79390869e-05,  6.03767319e-07,  1.50094470e-09,  2.34694347e-10\n",
    ", 1.85012148e-08,  1.41151786e-11,  5.00149144e-10,  4.10286166e-10\n",
    ", 9.99898911e-01,  3.25477995e-05],\n",
    "[4.86484346e-21,  9.99930024e-01,  1.06961479e-28,  2.59521618e-29\n",
    ", 6.83857192e-31,  5.65548877e-30,  2.40050886e-24,  1.63406922e-28\n",
    ", 5.36925344e-16,  6.99683151e-05],\n",
    "[2.37777112e-06,  1.10751607e-04,  1.68820168e-03,  4.85912617e-03\n",
    ", 1.67233356e-05,  1.93383152e-04,  9.93017316e-01,  8.41521057e-07\n",
    ", 1.10458051e-04,  8.17339355e-07],\n",
    "[1.23420385e-09,  5.75655008e-07,  1.88704385e-09,  1.03193925e-05\n",
    ", 1.82717586e-09,  1.87768401e-09,  9.99989152e-01,  1.06011720e-10\n",
    ", 1.69483645e-08,  7.19582527e-09],\n",
    "[9.88362103e-09,  1.90622462e-10,  3.63176866e-08,  7.03131946e-07\n",
    ", 2.97633793e-08,  9.99995708e-01,  3.53894461e-06,  4.67452876e-09\n",
    ", 4.79607673e-11,  7.20262405e-10],\n",
    "[1.21231494e-07,  3.26197890e-13,  1.93193910e-06,  2.36188374e-10\n",
    ", 2.70847841e-12,  9.18233337e-11,  9.99997973e-01,  8.77111828e-16\n",
    ", 1.20209840e-11,  2.61708678e-13],\n",
    "[1.02222097e-09,  9.46372203e-10,  8.18686274e-09,  3.53221003e-06\n",
    ", 4.35303626e-10,  1.15475686e-07,  9.99996305e-01,  1.15568037e-12\n",
    ", 5.31931299e-09,  5.41118053e-11],\n",
    "[3.51498000e-16,  1.00000000e+00,  1.56014683e-27,  1.43711015e-27\n",
    ", 1.24829311e-26,  4.77003081e-27,  8.18545297e-25,  7.38169012e-26\n",
    ", 3.38006347e-17,  4.16335990e-16],\n",
    "[1.11054233e-05,  4.11877181e-06,  9.99337614e-01,  1.43504903e-05\n",
    ", 8.18622041e-08,  3.44854139e-04,  2.08665424e-05,  1.85285990e-05\n",
    ", 2.48512777e-04,  3.08069552e-08],\n",
    "[5.12145361e-12,  2.99426564e-12,  6.29246709e-13,  4.74396478e-09\n",
    ", 1.27731046e-05,  5.65986258e-10,  1.11851251e-12,  9.99987245e-01\n",
    ", 6.51790796e-13,  2.85254598e-09],\n",
    "[3.23126298e-14,  8.00591910e-15,  1.00000000e+00,  2.27426864e-16\n",
    ", 5.55381292e-16,  8.98701578e-13,  2.68175748e-09,  5.66288856e-12\n",
    ", 1.68522044e-15,  5.42009310e-15],\n",
    "[4.91398209e-13,  1.19776064e-10,  7.12786655e-13,  1.12227244e-05\n",
    ", 4.15407708e-11,  9.99985456e-01,  3.33762659e-06,  8.10522222e-12\n",
    ", 4.26805333e-14,  2.44192080e-11],\n",
    "[1.07794694e-05,  1.91774028e-08,  4.36189612e-06,  2.28090517e-04\n",
    ", 1.20097400e-06,  4.44221882e-07,  9.99591887e-01,  5.35859144e-08\n",
    ", 1.62680328e-04,  5.61267427e-07],\n",
    "[4.18365298e-09,  1.90525729e-09,  9.99930143e-01,  6.07642069e-05\n",
    ", 1.21018650e-06,  7.08218886e-06,  3.56781243e-07,  1.45338973e-07\n",
    ", 5.15581782e-08,  1.62683151e-07],\n",
    "[2.49400166e-27,  1.00000000e+00,  1.71578051e-36,  1.43100898e-29\n",
    ", 2.84363563e-35,  2.82230857e-31,  5.17062958e-29,  9.10601585e-29\n",
    ", 2.36241827e-19,  1.49022869e-15],\n",
    "[3.89902823e-07,  7.44963480e-10,  2.25030061e-09,  4.24700344e-11\n",
    ", 6.59054820e-07,  1.98029744e-12,  4.11644711e-11,  1.93912750e-11\n",
    ", 9.99998927e-01,  4.57891280e-09],\n",
    "[2.32566310e-12,  5.48402090e-13,  6.03844486e-09,  3.75935307e-12\n",
    ", 3.95704248e-13,  1.01739245e-14,  1.00000000e+00,  1.16494696e-15\n",
    ", 2.05078333e-11,  4.18709350e-15],\n",
    "[1.94666576e-08,  7.91322861e-07,  2.75458442e-05,  2.75698692e-01\n",
    ", 7.22585355e-06,  7.23831475e-01,  4.73777982e-05,  3.86762869e-04\n",
    ", 3.37677228e-08,  6.88065711e-08],\n",
    "[6.46340922e-02,  7.95558117e-06,  2.06043615e-06,  9.25571799e-01\n",
    ", 9.86061204e-05,  4.96012990e-06,  8.80497555e-06,  1.11272791e-04\n",
    ", 8.96103811e-05,  9.47085582e-03],\n",
    "[2.47657272e-15,  7.16958051e-18,  1.63435832e-20,  6.81196107e-19\n",
    ", 8.00748411e-13,  1.57061105e-13,  9.03515877e-20,  1.00000000e+00\n",
    ", 2.04343655e-17,  2.45383436e-11],\n",
    "[7.86775711e-09,  9.23687793e-09,  2.57569297e-07,  9.99564350e-01\n",
    ", 3.57447504e-07,  4.11870453e-04,  1.03232851e-05,  1.19748927e-06\n",
    ", 1.81973155e-06,  9.91037177e-06],\n",
    "[3.49524511e-12,  1.32222206e-12,  8.81502857e-12,  1.74519721e-06\n",
    ", 5.33641298e-10,  9.99998212e-01,  1.20298172e-11,  1.54829172e-09\n",
    ", 5.33759885e-12,  5.82114695e-12],\n",
    "[1.00000000e+00,  1.85897895e-19,  6.18219755e-16,  4.14929348e-25\n",
    ", 1.77053758e-19,  9.09354738e-23,  3.79095292e-25,  1.05856751e-20\n",
    ", 9.81648527e-19,  1.91846795e-16],\n",
    "[2.37899008e-23,  2.41766955e-24,  4.54552792e-32,  5.16231258e-29\n",
    ", 3.35176773e-30,  7.58776462e-26,  4.78846032e-28,  4.10410330e-30\n",
    ", 8.30435762e-28,  1.00000000e+00],\n",
    "[4.61150378e-13,  2.19711429e-13,  1.86012624e-21,  1.78509401e-16\n",
    ", 1.57874528e-23,  1.29329505e-25,  9.85150387e-23,  2.94620570e-20\n",
    ", 5.35433785e-13,  1.00000000e+00],\n",
    "[7.23821719e-13,  5.00359946e-14,  2.83046431e-09,  6.35549668e-10\n",
    ", 1.00000000e+00,  4.98675268e-11,  3.05983988e-11,  5.38493252e-12\n",
    ", 6.80423296e-12,  2.26922625e-15],\n",
    "[1.27399938e-10,  3.23110383e-09,  5.35816810e-07,  8.35697847e-06\n",
    ", 1.46054458e-06,  3.29824434e-06,  1.94307486e-08,  9.99986291e-01\n",
    ", 2.41923009e-11,  3.02755843e-09],\n",
    "[9.92937930e-05,  1.22751749e-06,  4.51680307e-06,  3.49793769e-02\n",
    ", 4.70094907e-04,  9.44826186e-01,  1.17137570e-04,  1.91966351e-02\n",
    ", 3.05316033e-04,  1.94741915e-07],\n",
    "[2.20248104e-12,  1.69840914e-14,  1.41747128e-12,  9.99999762e-01\n",
    ", 1.91556818e-12,  2.47113462e-07,  4.89849585e-11,  9.88497478e-14\n",
    ", 4.50148850e-14,  9.72236614e-15]])\n",
    "\n",
    "# print(calcEntropy_Tensors(y_pred))\n",
    "\n",
    "# print(calcEntropy_Tensors([[.9,.5, .6, .5, .5, .5]]))\n",
    "print('----')\n",
    "# print('E',calcEntropy([.5,.5]))\n",
    "print(\"calc\",calcEntropy_Tensors(y_pred))\n",
    "\n",
    "# print(\"calc\",calcEntropy_Tensors([0,0]))\n",
    "# print(\"calc\",calcEntropy_Tensors([.1,.5]))\n",
    "\n",
    "# x = tf.constant([.5])\n",
    "# %timeit tf.experimental.numpy.log2(x) \n",
    "\n",
    "# %timeit calcEntropy_Tensors([[.1,.5],[.6,.4]])\n",
    "\n",
    "# %timeit calcEntropy([[.1,.5],[.6,.4]])\n",
    "\n",
    "def unconfidence(y_true, y_pred):\n",
    "        #avg confidence of incorrect items.\n",
    "        # print(y_pred)\n",
    "        # print(tf.keras.backend.get_value(y_pred))\n",
    "        \n",
    "        # y_true =y_true.numpy()\n",
    "        # y_pred = y_pred.numpy()\n",
    "        # AvgConfidence = -1\n",
    "        pred_labels = tf.math.argmax(y_pred,1)\n",
    "        # countCorrect=0\n",
    "        indexes = tf.where(tf.math.not_equal(pred_labels, tf.cast(tf.reshape(y_true,pred_labels.shape),'int64')))\n",
    "        indexes = tf.reshape(indexes,[-1])\n",
    "        entropies = tf.gather(y_pred,indexes)\n",
    "        print(tf.size(entropies))\n",
    "        if tf.equal(tf.size(entropies), 0):\n",
    "            incorrectEntropies = tf.cast(0,'float')\n",
    "        else:\n",
    "            incorrectEntropies = tf.reduce_mean(tf.map_fn(calcEntropy_Tensors,tf.cast(entropies,'float')))    \n",
    "        \n",
    "        return incorrectEntropies\n",
    "    \n",
    "print(scce(y_true, y_pred))\n",
    "\n",
    "print(entropyAddition(y_true,y_pred))\n"
   ]
  },
  {
   "cell_type": "code",
   "execution_count": null,
   "metadata": {},
   "outputs": [],
   "source": []
  },
  {
   "cell_type": "code",
   "execution_count": null,
   "metadata": {},
   "outputs": [],
   "source": []
  },
  {
   "cell_type": "code",
   "execution_count": 186,
   "metadata": {},
   "outputs": [
    {
     "name": "stdout",
     "output_type": "stream",
     "text": [
      "[0.0001151292546497023, 0.04608774856340663, 0.07826957783903377, 0.10522180083209112, 0.12877722050308088, 0.14980657000050177, 0.16882277627948275, 0.1861647944714121, 0.20207354820612955, 0.21672918367922003, 0.23027153465035116, 0.2428123127454695, 0.2544428265627178, 0.26523910953213187, 0.275265460663626, 0.2845769685994051, 0.29322135970187363, 0.30124038240272627, 0.3086708647630551, 0.31554553634502863, 0.3218936766159486, 0.32774163337497153, 0.3331132422286076, 0.338030169655869, 0.34251219630886093, 0.34657745302358656, 0.35024261901549286, 0.35352308954363276, 0.35643311870579736, 0.35898594181161725, 0.36119388085915927, 0.36306843593443944, 0.3646203648068603, 0.36585975256686326, 0.3667960728160125, 0.3674382416529264, 0.367794665485101, 0.3678732835248303, 0.36768160568813296, 0.3672267465019881, 0.3665154555319818, 0.36555414476559384, 0.36434891332261404, 0.3629055698110722, 0.3612296526026105, 0.35932644826384913, 0.35720100834873847, 0.354858164730136, 0.3523025436260811, 0.3495385784567964, 0.34657052165177893, 0.3434024555120145, 0.34003830221998615, 0.33648183307944923, 0.3327366770576634, 0.3288063286946903, 0.32469415543731495, 0.32040340444898124, 0.31593720894171784, 0.311298594071275, 0.30649048243249927, 0.3015156991882673, 0.2963769768620246, 0.2910769598210633, 0.2856182084750902, 0.2800032032123335, 0.2742343480933819, 0.2683139743211134, 0.2622443435034286, 0.25602765072402456, 0.2496660274351238, 0.24316154418487826, 0.2365162131910916, 0.2297319907719368, 0.2228107796434626, 0.21575443109289388, 0.2085647470360057, 0.2012434819662004, 0.19379234480232044, 0.18621300064168955, 0.1785070724243812, 0.1706761425142636, 0.16272175420195925, 0.15464541313448074, 0.14644858867596125, 0.13813271520358042, 0.12969919334250002, 0.12114939114335399, 0.11248464520559587, 0.10370626174977988, 0.09481551764164492, 0.08581366137067949, 0.07670191398566874, 0.06748146998956205, 0.05815349819584809, 0.048719142548485465, 0.03917952290730705, 0.02953573580069599, 0.019788855147222062, 0.009939932947820135]\n"
     ]
    },
    {
     "data": {
      "image/png": "[encoded data removed]",
      "text/plain": [
       "<Figure size 432x288 with 1 Axes>"
      ]
     },
     "metadata": {
      "needs_background": "light"
     },
     "output_type": "display_data"
    }
   ],
   "source": [
    "(math.log(0.999999,2))\n",
    "\n",
    "\n",
    "import matplotlib.pyplot as plt\n",
    "import numpy as np\n",
    "\n",
    "def entropy(x):\n",
    "    return -(x * math.log(x))\n",
    "# Data for plotting\n",
    "t = np.arange(0.00001, 1, 0.01)\n",
    "p = list(map(entropy,t))\n",
    "print(p)\n",
    "fig, ax = plt.subplots()\n",
    "ax.plot(t, p)\n",
    "ax.set(xlabel='Probability of Outcome',ylabel='Entropy of event')\n",
    "\n",
    "plt.show()"
   ]
  },
  {
   "cell_type": "code",
   "execution_count": 191,
   "metadata": {
    "scrolled": true
   },
   "outputs": [
    {
     "name": "stdout",
     "output_type": "stream",
     "text": [
      "(100,)\n"
     ]
    },
    {
     "data": {
      "image/png": "[encoded data removed]",
      "text/plain": [
       "<Figure size 432x288 with 1 Axes>"
      ]
     },
     "metadata": {
      "needs_background": "light"
     },
     "output_type": "display_data"
    }
   ],
   "source": [
    "#sum entropy \n",
    "import pandas as pd\n",
    "def entropy(x):\n",
    "    return -(x * math.log(x))\n",
    "# Data for plotting\n",
    "t = np.arange(0.00001, 1, 0.01)\n",
    "print(t.shape)\n",
    "t_ = np.full((100,), .1)\n",
    "df = pd.DataFrame([t,t,t_,t,t])\n",
    "# print(df.transpose())\n",
    "p = df.apply(calcEntropy,axis=0)\n",
    "# print(p)\n",
    "# print(p)\n",
    "fig, ax = plt.subplots()\n",
    "ax.plot(t, p)\n",
    "ax.set(xlabel='Probability of Outcome',ylabel='Entropy of event')\n",
    "\n",
    "plt.show()\n"
   ]
  },
  {
   "cell_type": "code",
   "execution_count": 85,
   "metadata": {},
   "outputs": [
    {
     "name": "stdout",
     "output_type": "stream",
     "text": [
      "crossE:  0.039609063\n"
     ]
    }
   ],
   "source": [
    "y_true = [0]\n",
    "y_pred = [.99,.01, .01, .0, .01, .01]\n",
    "# Using 'auto'/'sum_over_batch_size' reduction type.  \n",
    "scce = tf.keras.losses.SparseCategoricalCrossentropy()\n",
    "crossE = scce(y_true, y_pred).numpy()\n",
    "print(\"crossE: \",crossE)"
   ]
  },
  {
   "cell_type": "code",
   "execution_count": 246,
   "metadata": {},
   "outputs": [
    {
     "name": "stdout",
     "output_type": "stream",
     "text": [
      "crossE:  4.634729\n"
     ]
    }
   ],
   "source": [
    "y_true = [0,1,0,0,0,0]\n",
    "y_pred = [.99,.01, .01, .0, .01, .01]\n",
    "# Using 'auto'/'sum_over_batch_size' reduction type.  \n",
    "scce = tf.keras.losses.CategoricalCrossentropy()\n",
    "crossE = scce(y_true, y_pred).numpy()\n",
    "print(\"crossE: \",crossE)"
   ]
  },
  {
   "cell_type": "code",
   "execution_count": 103,
   "metadata": {},
   "outputs": [
    {
     "name": "stdout",
     "output_type": "stream",
     "text": [
      "y_hat [0.0, 0.01, 0.9, 0.0, 0.0, 0.0]\n",
      "Entropy:  0.20324134599829222\n",
      "Loss:  0.20324134599829222\n"
     ]
    }
   ],
   "source": [
    "y_true = [0]\n",
    "y_pred = [.0,.01, .9, .0, .0, .0]\n",
    "ent = calcEntropy(y_pred)\n",
    "print(\"Entropy: \",ent)\n",
    "loss = ent *1\n",
    "print(\"Loss: \",loss)"
   ]
  },
  {
   "cell_type": "code",
   "execution_count": 305,
   "metadata": {},
   "outputs": [
    {
     "name": "stdout",
     "output_type": "stream",
     "text": [
      "crossE:  0.9991724\n",
      "Entropy:  [0.13680278410054497, 2.6997218324096135, 2.8023805774805544]\n",
      "combined Loss:  [1.13597517 3.69889422 3.80155297]\n"
     ]
    }
   ],
   "source": [
    "y_true = [[0],[0],[0]]\n",
    "y_pred = [[.9,.5, .6, .5, .5, .5],[.8,.5, .6, .5, .5, .5],[.7,.5, .6, .5, .5, .5]]\n",
    "y_pred = [[.9,.0,.0,.0,.0,.0,],[.8,.5, .6, .5, .5, .5],[.7,.5, .6, .5, .5, .5]]\n",
    "# y_pred = [.1,.1, .1, .1, .1, .1]\n",
    "# Using 'auto'/'sum_over_batch_size' reduction type.  \n",
    "scce = tf.keras.losses.SparseCategoricalCrossentropy()\n",
    "crossE = scce(y_true, y_pred).numpy()\n",
    "print(\"crossE: \",crossE)\n",
    "\n",
    "''' When the answer is correct, CrossE goes down\n",
    "    When \n",
    "    When its wrong, Entropy High\n",
    "    When its right, Entropy Low\n",
    "    \n",
    "    so penalize being right with low entropy and reward being right with high entropy\n",
    "    \n",
    "    \n",
    "    OORRRR train a second model for a branch to determine if you are going to get it right or not?\n",
    "    Isn't that what ResNet Did? you calculate if the blocks will contribute, was it block drop?\n",
    "    Binary classification,\n",
    "    could be done at the branch end as a separate evaulator, using the entropy score and the input to the branch as inputs?\n",
    "'''\n",
    "\n",
    "\n",
    "ent = calcEntropy(y_pred)\n",
    "print(\"Entropy: \",ent)\n",
    "loss = crossE + ent\n",
    "print(\"combined Loss: \",loss)"
   ]
  },
  {
   "cell_type": "code",
   "execution_count": 371,
   "metadata": {},
   "outputs": [
    {
     "name": "stdout",
     "output_type": "stream",
     "text": [
      "[2, 2, 1]\n",
      "10 µs ± 186 ns per loop (mean ± std. dev. of 7 runs, 100000 loops each)\n"
     ]
    }
   ],
   "source": [
    "x = [[.1,.1, .675, .1091, .4311, .1875,.121,.143,.2,.5]]\n",
    "x = tf.constant([[2, 20, 30, 3, 6], [3, 11, 16, 1, 8],\n",
    "                 [14, 45, 23, 5, 27]])\n",
    "\n",
    "print(list(map(np.argmax,np.array(x))))\n",
    "def foo(y_pred):\n",
    "    y_pred = y_pred.numpy()\n",
    "    pred_label = list(map(np.argmax,np.array(y_pred)))\n",
    "    return pred_label\n",
    "%timeit foo(x)"
   ]
  },
  {
   "cell_type": "code",
   "execution_count": 720,
   "metadata": {
    "scrolled": true
   },
   "outputs": [
    {
     "name": "stdout",
     "output_type": "stream",
     "text": [
      "tf.Tensor([0 0 0], shape=(3,), dtype=int64)\n",
      "tf.Tensor([2 2 0], shape=(3,), dtype=int32)\n",
      "tf.Tensor([[0.7 0.5 0.6 0.5 0.5 0.5]], shape=(1, 6), dtype=float32)\n",
      "results:  tf.Tensor([2.8023806], shape=(1,), dtype=float32)\n",
      "4.33 ms ± 274 µs per loop (mean ± std. dev. of 7 runs, 100 loops each)\n",
      "1.17 ms ± 39.7 µs per loop (mean ± std. dev. of 7 runs, 1000 loops each)\n"
     ]
    }
   ],
   "source": [
    "y_true = tf.constant([[2],[2],[0]])\n",
    "A = tf.constant([.1,.1, .675, .1091, .4311, .1875,.121,.143,.2,.5])\n",
    "B = tf.constant([[2, 20, 30, 3, 6], [3, 11, 16, 1, 8],\n",
    "                 [14, 45, 23, 5, 27]])\n",
    "\n",
    "y_pred = tf.constant([[.9,.5, .6, .5, .5, .5],[.8,.5, .6, .5, .5, .5],[.7,.5, .6, .5, .5, .5]])\n",
    "\n",
    "# new_list = new_list = [list(range(10)) for _ in range(10)]\n",
    "\n",
    "print(tf.math.argmax(y_pred,1))\n",
    "pred_labels = tf.math.argmax(y_pred,1)\n",
    "print(tf.reshape(y_true,pred_labels.shape))\n",
    "indexes = tf.where(tf.math.equal(pred_labels, tf.cast(tf.reshape(y_true,pred_labels.shape),'int64')))\n",
    "indexes = tf.reshape(indexes,[-1])\n",
    "# print(tf.gather(B,indexes))\n",
    "CorrectE = tf.gather(y_pred,indexes)\n",
    "print(CorrectE)\n",
    "# print(calcEntropy(CorrectE[0]))\n",
    "\n",
    "\n",
    "results = tf.map_fn(calcEntropy,tf.cast(CorrectE,'float'))\n",
    "print(\"results: \",results)\n",
    "\n",
    "\n",
    "\n",
    "%timeit tf.map_fn(calcEntropy,tf.cast(CorrectE,'float'))\n",
    "\n",
    "\n",
    "crossE = tf.keras.losses.SparseCategoricalCrossentropy()\n",
    "crossE(y_true,y_pred)\n",
    "%timeit crossE(y_true,y_pred)\n",
    "# [\n",
    "#     [\n",
    "#         [ 2 20 30  3  6]\n",
    "#     ]\n",
    "#     [\n",
    "#         [ 3 11 16  1  8]\n",
    "#     ]\n",
    "# ]\n",
    "\n",
    "def entropyAddition_noCross(y_true, y_pred):\n",
    "    crossE = tf.keras.losses.SparseCategoricalCrossentropy()\n",
    "    #Entropy is added to the CrossE divided by the len of inputs\n",
    "    pred_labels = tf.math.argmax(y_pred,1)\n",
    "    indexes = tf.where(tf.math.equal(pred_labels, tf.cast(tf.reshape(y_true,pred_labels.shape),'int64')))\n",
    "    indexes = tf.reshape(indexes,[-1])\n",
    "    entropies = tf.gather(y_pred,indexes)\n",
    "    if tf.equal(tf.size(entropies), 0):\n",
    "        correctEntropies = 0\n",
    "    else:\n",
    "        correctEntropies = tf.reduce_mean(tf.map_fn(calcEntropy_Tensors,tf.cast(entropies,'float')))\n",
    "    scce = crossE(y_true, y_pred)\n",
    "    loss = correctEntropies\n",
    "    return loss"
   ]
  },
  {
   "cell_type": "code",
   "execution_count": 728,
   "metadata": {},
   "outputs": [
    {
     "name": "stdout",
     "output_type": "stream",
     "text": [
      "normal CrossE:  tf.Tensor(6.483804, shape=(), dtype=float32)\n",
      "normal Entropy tf.Tensor(0.055383965, shape=(), dtype=float32)\n",
      "tf.Tensor(0.015451816, shape=(), dtype=float32)\n"
     ]
    }
   ],
   "source": [
    "y_true = tf.constant([[1],[2],[0]])\n",
    "y_pred = tf.constant([[0,0, .6, .5, .5, .5],[.8,.5, .6, .5, .5, .5],[.9,.3, .3, .2, .1, .32]])\n",
    "crossE = tf.keras.losses.SparseCategoricalCrossentropy()\n",
    "def entropyAddition(y_true, y_pred):\n",
    "    crossE = tf.keras.losses.SparseCategoricalCrossentropy()\n",
    "    #Entropy is added to the CrossE divided by the len of inputs\n",
    "    pred_labels = tf.math.argmax(y_pred,1)\n",
    "    indexes = tf.where(tf.math.equal(pred_labels, tf.cast(tf.reshape(y_true,pred_labels.shape),'int64')))\n",
    "    indexes = tf.reshape(indexes,[-1])\n",
    "    entropies = tf.gather(y_pred,indexes)\n",
    "    if tf.equal(tf.size(entropies), 0):\n",
    "        correctEntropies = 0\n",
    "    else:\n",
    "        correctEntropies = tf.reduce_mean(tf.map_fn(calcEntropy_Tensors,tf.cast(entropies,'float')))\n",
    "    scce = crossE(y_true, y_pred)\n",
    "    loss = scce + (correctEntropies * scce)\n",
    "    return loss\n",
    "\n",
    "\n",
    "print(\"normal CrossE: \",crossE(y_true ,y_pred))\n",
    "\n",
    "print(\"normal Entropy\",entropyAddition_noCross(y_true2,y_pred2))\n",
    "\n",
    "print(entropyAddition(y_true2, y_pred2))\n",
    "# %timeit entropyAddition(y_true, y_pred)"
   ]
  },
  {
   "cell_type": "code",
   "execution_count": 738,
   "metadata": {},
   "outputs": [
    {
     "name": "stdout",
     "output_type": "stream",
     "text": [
      "tf.Tensor(1.0, shape=(), dtype=float32)\n"
     ]
    }
   ],
   "source": [
    "y_true = tf.constant([1])\n",
    "y_pred = tf.constant([0,1, 0, 0, 0, 0])\n",
    "# print(crossE(y_true,y_pred))\n",
    "\n",
    "print(tf.cast(1e-8,'float')+1)"
   ]
  },
  {
   "cell_type": "code",
   "execution_count": 694,
   "metadata": {},
   "outputs": [
    {
     "name": "stdout",
     "output_type": "stream",
     "text": [
      "normal CrossE:  tf.Tensor(2.008455, shape=(), dtype=float32)\n",
      "tf.Tensor(5.02434, shape=(), dtype=float32)\n"
     ]
    }
   ],
   "source": [
    "y_true = tf.constant([[1],[2],[0]])\n",
    "y_pred = tf.constant([[.9,.1, .6, .5, .5, .5],[.8,.5, .6, .5, .5, .5],[.9,.3, .3, .2, .1, .32]])\n",
    "crossE = tf.keras.losses.SparseCategoricalCrossentropy()\n",
    "def entropyMultiplication(y_true, y_pred):\n",
    "    crossE = tf.keras.losses.SparseCategoricalCrossentropy()\n",
    "    #Entropy is added to the CrossE divided by the len of inputs\n",
    "    pred_labels = tf.math.argmax(y_pred,1)\n",
    "    indexes = tf.where(tf.math.equal(pred_labels, tf.cast(tf.reshape(y_true,pred_labels.shape),'int64')))\n",
    "    indexes = tf.reshape(indexes,[-1])\n",
    "    entropies = tf.gather(y_pred,indexes)\n",
    "    if tf.equal(tf.size(entropies), 0):\n",
    "        correctEntropies = 1\n",
    "    else:\n",
    "        correctEntropies = tf.reduce_mean(tf.map_fn(calcEntropy_Tensors,tf.cast(entropies,'float')))\n",
    "    scce = crossE(y_true, y_pred)\n",
    "    loss = correctEntropies * scce\n",
    "    return loss\n",
    "\n",
    "\n",
    "print(\"normal CrossE: \",crossE(y_true,y_pred))\n",
    "print(entropyAddition(y_true, y_pred))\n",
    "# %timeit entropyAddition(y_true, y_pred)"
   ]
  },
  {
   "cell_type": "code",
   "execution_count": 696,
   "metadata": {},
   "outputs": [
    {
     "name": "stdout",
     "output_type": "stream",
     "text": [
      "0\n"
     ]
    }
   ],
   "source": [
    "y_true = tf.constant([[1],[2],[1]])\n",
    "y_pred = tf.constant([[.9,.1, .6, .5, .5, .5],[.8,.5, .6, .5, .5, .5],[.9,.3, .3, .2, .1, .32]])\n",
    "\n",
    "def confidenceScore(y_true, y_pred):\n",
    "        # print(y_pred)\n",
    "        # print(tf.keras.backend.get_value(y_pred))\n",
    "        \n",
    "        # y_true =y_true.numpy()\n",
    "        # y_pred = y_pred.numpy()\n",
    "        # AvgConfidence = -1\n",
    "        pred_labels = tf.math.argmax(y_pred,1)\n",
    "        # countCorrect=0\n",
    "        indexes = tf.where(tf.math.equal(pred_labels, tf.cast(tf.reshape(y_true,pred_labels.shape),'int64')))\n",
    "        indexes = tf.reshape(indexes,[-1])\n",
    "        entropies = tf.gather(y_pred,indexes)\n",
    "        if tf.equal(tf.size(entropies), 0):\n",
    "            correctEntropies = 0\n",
    "        else:\n",
    "            correctEntropies = tf.reduce_mean(tf.map_fn(calcEntropy,tf.cast(entropies,'float')))    \n",
    "        \n",
    "        return correctEntropies\n",
    "    \n",
    "print(confidenceScore(y_true,y_pred))"
   ]
  },
  {
   "cell_type": "code",
   "execution_count": 684,
   "metadata": {},
   "outputs": [
    {
     "name": "stdout",
     "output_type": "stream",
     "text": [
      "1.6315455\n",
      "1.2 ms ± 28.9 µs per loop (mean ± std. dev. of 7 runs, 1000 loops each)\n"
     ]
    }
   ],
   "source": [
    "y_true = [[2],[2],[0]]\n",
    "y_pred = [[.9,0, .6, .5, .5, .5],[.8,.5, .6, .5, .5, .5],[.7,.5, .6, .5, .5, .5]]\n",
    "\n",
    "def foo(x, y):\n",
    "    scce = tf.keras.losses.SparseCategoricalCrossentropy()\n",
    "    crossE = scce(x, y).numpy()\n",
    "    return crossE\n",
    "\n",
    "print(foo(y_true,y_pred))\n",
    "%timeit foo(y_true,y_pred)"
   ]
  },
  {
   "cell_type": "code",
   "execution_count": 791,
   "metadata": {},
   "outputs": [
    {
     "name": "stdout",
     "output_type": "stream",
     "text": [
      "[[1 2 3]\n",
      " [4 5 6]]\n",
      "Indices of elements <4\n",
      "(array([0, 0, 0, 1], dtype=int64), array([0, 1, 2, 0], dtype=int64))\n",
      "Elements which are <4\n",
      "[1 2 3 4]\n"
     ]
    }
   ],
   "source": [
    "\n",
    "# Python program explaining \n",
    "# where() function \n",
    "  \n",
    "import numpy as np\n",
    "  \n",
    "# a is an array of integers.\n",
    "a = np.array([[1, 2, 3], [4, 5, 6]])\n",
    "  \n",
    "print(a)\n",
    "  \n",
    "print ('Indices of elements <4')\n",
    "  \n",
    "b = np.where(a<5)\n",
    "print(b)\n",
    "  \n",
    "print(\"Elements which are <4\")\n",
    "print(a[b])"
   ]
  },
  {
   "cell_type": "code",
   "execution_count": 843,
   "metadata": {},
   "outputs": [
    {
     "name": "stdout",
     "output_type": "stream",
     "text": [
      "[]\n",
      "A\n",
      "nan\n"
     ]
    }
   ],
   "source": [
    "y_true = [[0],[0],[0]]\n",
    "y_pred = [[.5,.5, .6, .5, .5, .1],[.5,.5, .6, .5, .5, .2],[.5,.5, .6, .5, .5, .3]]\n",
    "# y_pred = [[1],[1],[1]]\n",
    "# print(np.array(y_pred))\n",
    "\n",
    "####\n",
    "# Numpy confidence metric version\n",
    "y_true =np.array(y_true)\n",
    "y_pred = np.array(y_pred)\n",
    "def argmax(x):\n",
    "    return [np.argmax(x)]\n",
    "pred_labels = list(map(argmax,np.array(y_pred)))\n",
    "x = np.where(np.equal(y_true,pred_labels) ==True)\n",
    "y = y_pred[x[0]]\n",
    "results = calcEntropy(y)\n",
    "print(results)\n",
    "if not (results):\n",
    "    print(\"A\")\n",
    "print(np.median(results))\n"
   ]
  },
  {
   "cell_type": "code",
   "execution_count": null,
   "metadata": {},
   "outputs": [],
   "source": []
  },
  {
   "cell_type": "code",
   "execution_count": 356,
   "metadata": {
    "scrolled": false
   },
   "outputs": [
    {
     "name": "stdout",
     "output_type": "stream",
     "text": [
      "crossEntropyLoss:  1.466337\n",
      "[2]\n",
      "Entropy :  2.071508886568612\n",
      "customLoss_addition:  3.5378458\n",
      "customLoss_multi:  3.03753\n"
     ]
    }
   ],
   "source": [
    "y_true = [[2],[2],[0]]\n",
    "y_pred = [[.5,.5, .6, .5, .5, .5],[.5,.5, .6, .5, .5, .5],[.5,.5, .6, .5, .5, .5]]\n",
    "\n",
    "y_true = [[2]]\n",
    "y_pred = [[.1,.1, .15, .1, .1, .1]]\n",
    "def entropyAddition_loss():\n",
    "    #create a wrapper function that returns a function\n",
    "    crossE = tf.keras.losses.SparseCategoricalCrossentropy()\n",
    "    def entropyAddition(y_true, y_pred):\n",
    "        #Entropy is added to the CrossE divided by the len of inputs\n",
    "        pred_labels = tf.math.argmax(y_pred,1)\n",
    "        indexes = tf.where(tf.math.equal(pred_labels, tf.cast(tf.reshape(y_true,pred_labels.shape),'int64')))\n",
    "        indexes = tf.reshape(indexes,[-1])\n",
    "        entropies = tf.gather(y_pred,indexes)\n",
    "        correctEntropies = tf.reduce_mean(tf.map_fn(calcEntropy,tf.cast(entropies,'float')))\n",
    "#         print(pred_label)\n",
    "        scce = crossE(y_true, y_pred)\n",
    "        sumEntropy = 0\n",
    "        loss = correctEntropies + scce\n",
    "        return loss\n",
    "    \n",
    "    return entropyAddition\n",
    "\n",
    "def custom_loss_multi(y_true, y_pred):\n",
    "    #CrossE is multiplied by the Entropy\n",
    "    pred_label = list(map(np.argmax,np.array(y_pred)))\n",
    "    crossE = tf.keras.losses.SparseCategoricalCrossentropy()\n",
    "    sumLoss = 0\n",
    "    \n",
    "    for i in range(len(y_pred)):\n",
    "        loss = crossE(y_true[i], y_pred[i])\n",
    "#         print('crossE: ',loss)\n",
    "        if pred_label[i] == y_true[i]:\n",
    "#             print('calcEntropy ',calcEntropy(y_pred[i]))\n",
    "            loss = loss * calcEntropy(y_pred[i])\n",
    "        sumLoss += loss\n",
    "    sumLoss = sumLoss / len(y_pred)         \n",
    "    \n",
    "#     loss = crossE(y_true, y_pred)\n",
    "#     print(\"CrossE : \",loss.numpy())\n",
    "#     print(\"Loss : \",sumLoss)\n",
    "    return sumLoss\n",
    "    ### I want to reduce the entropy of correct answers\n",
    "    ### if label - pred = 0 (aka correct) then add entropy to crossE\n",
    "    \n",
    "    \n",
    "#     squared_difference = tf.square(np.array(y_true) - np.array(y_pred))\n",
    "#     return tf.reduce_mean(squared_difference, axis=-1)  # Note the `axis=-1`\n",
    "\n",
    "scce = tf.keras.losses.SparseCategoricalCrossentropy()\n",
    "crossE = scce(y_true, y_pred).numpy()\n",
    "print(\"crossEntropyLoss: \",crossE)\n",
    "\n",
    "\n",
    "crossE = custom_loss_addition(y_true, y_pred).numpy()\n",
    "print(\"customLoss_addition: \",crossE)\n",
    "\n",
    "\n",
    "crossE = custom_loss_multi(y_true, y_pred).numpy()\n",
    "print(\"customLoss_multi: \",crossE)\n",
    "\n",
    "  \n",
    "# model.compile(loss=custom_loss, optimizer='adam')\n",
    "\n"
   ]
  },
  {
   "cell_type": "code",
   "execution_count": 350,
   "metadata": {},
   "outputs": [
    {
     "name": "stdout",
     "output_type": "stream",
     "text": [
      "115 ns ± 1.17 ns per loop (mean ± std. dev. of 7 runs, 10000000 loops each)\n"
     ]
    }
   ],
   "source": [
    "\n",
    "def sub(x,y):\n",
    "    if x - y == 0:\n",
    "        return 1\n",
    "%timeit sub(5,5)"
   ]
  },
  {
   "cell_type": "code",
   "execution_count": 326,
   "metadata": {},
   "outputs": [
    {
     "name": "stdout",
     "output_type": "stream",
     "text": [
      "98.8 ns ± 1.13 ns per loop (mean ± std. dev. of 7 runs, 10000000 loops each)\n"
     ]
    }
   ],
   "source": [
    "\n",
    "def sub(x,y):\n",
    "    if x == y:\n",
    "        return 0\n",
    "    \n",
    "%timeit sub(5,5)"
   ]
  },
  {
   "cell_type": "code",
   "execution_count": null,
   "metadata": {},
   "outputs": [],
   "source": []
  }
 ],
 "metadata": {
  "kernelspec": {
   "display_name": "Python 3",
   "language": "python",
   "name": "python3"
  },
  "language_info": {
   "codemirror_mode": {
    "name": "ipython",
    "version": 3
   },
   "file_extension": ".py",
   "mimetype": "text/x-python",
   "name": "python",
   "nbconvert_exporter": "python",
   "pygments_lexer": "ipython3",
   "version": "3.6.7"
  }
 },
 "nbformat": 4,
 "nbformat_minor": 2
}
