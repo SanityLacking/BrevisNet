{
 "cells": [
  {
   "cell_type": "code",
   "execution_count": 1,
   "metadata": {},
   "outputs": [],
   "source": [
    "import tensorflow as tf\n",
    "from tensorflow import keras"
   ]
  },
  {
   "cell_type": "code",
   "execution_count": 2,
   "metadata": {},
   "outputs": [],
   "source": [
    "(train_images, train_labels),(test_images, test_labels) = keras.datasets.fashion_mnist.load_data()\n",
    "train_images = train_images /  255.0\n",
    "test_images = test_images / 255.0\n",
    "validation_images = train_images[:5000]\n",
    "validation_labels = train_labels[:5000]"
   ]
  },
  {
   "cell_type": "code",
   "execution_count": 3,
   "metadata": {},
   "outputs": [],
   "source": [
    "class CustomModel(keras.Model):\n",
    "    def __init__(self, **kwargs):\n",
    "        super().__init__(**kwargs)\n",
    "        self.input_layer = keras.layers.Flatten(input_shape=(28,28))\n",
    "        self.hidden1 = keras.layers.Dense(200, activation='relu')\n",
    "        self.hidden2 = keras.layers.Dense(100, activation='relu')\n",
    "        self.hidden3 = keras.layers.Dense(60, activation='relu')\n",
    "        self.output_layer = keras.layers.Dense(10, activation='softmax')\n",
    "        self.dropout_layer = keras.layers.Dropout(rate=0.2)\n",
    "    \n",
    "    def call(self, input, training=None):\n",
    "        input_layer = self.input_layer(input)\n",
    "        input_layer = self.dropout_layer(input_layer)\n",
    "        hidden1 = self.hidden1(input_layer)\n",
    "        hidden1 = self.dropout_layer(hidden1, training=training)\n",
    "        hidden2 = self.hidden2(hidden1)\n",
    "        hidden2 = self.dropout_layer(hidden2, training=training)\n",
    "        hidden3 = self.hidden3(hidden2)\n",
    "        hidden3 = self.dropout_layer(hidden3, training=training)\n",
    "        output_layer = self.output_layer(hidden3)\n",
    "        return output_layer"
   ]
  },
  {
   "cell_type": "code",
   "execution_count": 4,
   "metadata": {},
   "outputs": [],
   "source": [
    "model = CustomModel()\n",
    "sgd = keras.optimizers.SGD(lr=0.01)\n",
    "model.compile(loss=\"sparse_categorical_crossentropy\", optimizer=sgd, metrics=[\"accuracy\"])"
   ]
  },
  {
   "cell_type": "code",
   "execution_count": 5,
   "metadata": {},
   "outputs": [
    {
     "name": "stdout",
     "output_type": "stream",
     "text": [
      "Train on 60000 samples, validate on 5000 samples\n",
      "Epoch 1/60\n",
      "60000/60000 [==============================] - 5s 79us/sample - loss: 1.0772 - accuracy: 0.6130 - val_loss: 0.6011 - val_accuracy: 0.7732\n",
      "Epoch 2/60\n",
      "60000/60000 [==============================] - 5s 79us/sample - loss: 0.6880 - accuracy: 0.7507 - val_loss: 0.5013 - val_accuracy: 0.8124\n",
      "Epoch 3/60\n",
      "60000/60000 [==============================] - 4s 75us/sample - loss: 0.6025 - accuracy: 0.7826 - val_loss: 0.4529 - val_accuracy: 0.8330\n",
      "Epoch 4/60\n",
      "60000/60000 [==============================] - 5s 79us/sample - loss: 0.5590 - accuracy: 0.8004 - val_loss: 0.4213 - val_accuracy: 0.8496\n",
      "Epoch 5/60\n",
      "60000/60000 [==============================] - 5s 78us/sample - loss: 0.5327 - accuracy: 0.8084 - val_loss: 0.4058 - val_accuracy: 0.8572\n",
      "Epoch 6/60\n",
      "60000/60000 [==============================] - 4s 74us/sample - loss: 0.5107 - accuracy: 0.8163 - val_loss: 0.3901 - val_accuracy: 0.8568\n",
      "Epoch 7/60\n",
      "60000/60000 [==============================] - 4s 73us/sample - loss: 0.4964 - accuracy: 0.8224 - val_loss: 0.3772 - val_accuracy: 0.8618\n",
      "Epoch 8/60\n",
      "60000/60000 [==============================] - 4s 74us/sample - loss: 0.4802 - accuracy: 0.8277 - val_loss: 0.3720 - val_accuracy: 0.8694\n",
      "Epoch 9/60\n",
      "60000/60000 [==============================] - 4s 74us/sample - loss: 0.4693 - accuracy: 0.8315 - val_loss: 0.3585 - val_accuracy: 0.8674\n",
      "Epoch 10/60\n",
      "60000/60000 [==============================] - 4s 74us/sample - loss: 0.4628 - accuracy: 0.8326 - val_loss: 0.3529 - val_accuracy: 0.8706\n",
      "Epoch 11/60\n",
      "60000/60000 [==============================] - 5s 77us/sample - loss: 0.4517 - accuracy: 0.8377 - val_loss: 0.3477 - val_accuracy: 0.8706\n",
      "Epoch 12/60\n",
      "60000/60000 [==============================] - 5s 80us/sample - loss: 0.4428 - accuracy: 0.8398 - val_loss: 0.3367 - val_accuracy: 0.8766\n",
      "Epoch 13/60\n",
      "60000/60000 [==============================] - 4s 73us/sample - loss: 0.4392 - accuracy: 0.8406 - val_loss: 0.3340 - val_accuracy: 0.8804\n",
      "Epoch 14/60\n",
      "60000/60000 [==============================] - 5s 75us/sample - loss: 0.4312 - accuracy: 0.8434 - val_loss: 0.3285 - val_accuracy: 0.8804\n",
      "Epoch 15/60\n",
      "60000/60000 [==============================] - 4s 71us/sample - loss: 0.4251 - accuracy: 0.8474 - val_loss: 0.3246 - val_accuracy: 0.8798\n",
      "Epoch 16/60\n",
      "60000/60000 [==============================] - 4s 72us/sample - loss: 0.4224 - accuracy: 0.8461 - val_loss: 0.3167 - val_accuracy: 0.8838\n",
      "Epoch 17/60\n",
      "60000/60000 [==============================] - 4s 71us/sample - loss: 0.4160 - accuracy: 0.8485 - val_loss: 0.3167 - val_accuracy: 0.8844\n",
      "Epoch 18/60\n",
      "60000/60000 [==============================] - 4s 70us/sample - loss: 0.4116 - accuracy: 0.8497 - val_loss: 0.3091 - val_accuracy: 0.8862\n",
      "Epoch 19/60\n",
      "60000/60000 [==============================] - 4s 71us/sample - loss: 0.4063 - accuracy: 0.8518 - val_loss: 0.3082 - val_accuracy: 0.8874\n",
      "Epoch 20/60\n",
      "60000/60000 [==============================] - 5s 78us/sample - loss: 0.4024 - accuracy: 0.8533 - val_loss: 0.3035 - val_accuracy: 0.8882\n",
      "Epoch 21/60\n",
      "60000/60000 [==============================] - 5s 76us/sample - loss: 0.3970 - accuracy: 0.8547 - val_loss: 0.3023 - val_accuracy: 0.8860\n",
      "Epoch 22/60\n",
      "60000/60000 [==============================] - 4s 74us/sample - loss: 0.3957 - accuracy: 0.8564 - val_loss: 0.2967 - val_accuracy: 0.8924\n",
      "Epoch 23/60\n",
      "60000/60000 [==============================] - 5s 82us/sample - loss: 0.3931 - accuracy: 0.8565 - val_loss: 0.2937 - val_accuracy: 0.8920\n",
      "Epoch 24/60\n",
      "60000/60000 [==============================] - 4s 75us/sample - loss: 0.3885 - accuracy: 0.8593 - val_loss: 0.2941 - val_accuracy: 0.8930\n",
      "Epoch 25/60\n",
      "60000/60000 [==============================] - 4s 73us/sample - loss: 0.3848 - accuracy: 0.8594 - val_loss: 0.2846 - val_accuracy: 0.8974\n",
      "Epoch 26/60\n",
      "60000/60000 [==============================] - 5s 87us/sample - loss: 0.3846 - accuracy: 0.8608 - val_loss: 0.2926 - val_accuracy: 0.8960\n",
      "Epoch 27/60\n",
      "60000/60000 [==============================] - 4s 74us/sample - loss: 0.3824 - accuracy: 0.8612 - val_loss: 0.2838 - val_accuracy: 0.8970\n",
      "Epoch 28/60\n",
      "60000/60000 [==============================] - 5s 87us/sample - loss: 0.3768 - accuracy: 0.8622 - val_loss: 0.2829 - val_accuracy: 0.8970\n",
      "Epoch 29/60\n",
      "60000/60000 [==============================] - 5s 76us/sample - loss: 0.3737 - accuracy: 0.8622 - val_loss: 0.2784 - val_accuracy: 0.8976\n",
      "Epoch 30/60\n",
      "60000/60000 [==============================] - 5s 79us/sample - loss: 0.3710 - accuracy: 0.8651 - val_loss: 0.2779 - val_accuracy: 0.8998\n",
      "Epoch 31/60\n",
      "60000/60000 [==============================] - 5s 79us/sample - loss: 0.3695 - accuracy: 0.8655 - val_loss: 0.2751 - val_accuracy: 0.9032\n",
      "Epoch 32/60\n",
      "60000/60000 [==============================] - 5s 76us/sample - loss: 0.3669 - accuracy: 0.8668 - val_loss: 0.2735 - val_accuracy: 0.9008\n",
      "Epoch 33/60\n",
      "60000/60000 [==============================] - 4s 73us/sample - loss: 0.3685 - accuracy: 0.8660 - val_loss: 0.2754 - val_accuracy: 0.8976\n",
      "Epoch 34/60\n",
      "60000/60000 [==============================] - 4s 73us/sample - loss: 0.3651 - accuracy: 0.8660 - val_loss: 0.2741 - val_accuracy: 0.9038\n",
      "Epoch 35/60\n",
      "60000/60000 [==============================] - 4s 72us/sample - loss: 0.3608 - accuracy: 0.8671 - val_loss: 0.2683 - val_accuracy: 0.9022\n",
      "Epoch 36/60\n",
      "60000/60000 [==============================] - 5s 76us/sample - loss: 0.3598 - accuracy: 0.8680 - val_loss: 0.2682 - val_accuracy: 0.9012\n",
      "Epoch 37/60\n",
      "60000/60000 [==============================] - 4s 73us/sample - loss: 0.3587 - accuracy: 0.8691 - val_loss: 0.2639 - val_accuracy: 0.9012\n",
      "Epoch 38/60\n",
      "60000/60000 [==============================] - 4s 71us/sample - loss: 0.3532 - accuracy: 0.8707 - val_loss: 0.2617 - val_accuracy: 0.9064\n",
      "Epoch 39/60\n",
      "60000/60000 [==============================] - 4s 72us/sample - loss: 0.3499 - accuracy: 0.8714 - val_loss: 0.2628 - val_accuracy: 0.9042\n",
      "Epoch 40/60\n",
      "60000/60000 [==============================] - 4s 71us/sample - loss: 0.3516 - accuracy: 0.8708 - val_loss: 0.2589 - val_accuracy: 0.9066\n",
      "Epoch 41/60\n",
      "60000/60000 [==============================] - 4s 71us/sample - loss: 0.3480 - accuracy: 0.8720 - val_loss: 0.2568 - val_accuracy: 0.9082\n",
      "Epoch 42/60\n",
      "60000/60000 [==============================] - 4s 70us/sample - loss: 0.3505 - accuracy: 0.8722 - val_loss: 0.2540 - val_accuracy: 0.9056\n",
      "Epoch 43/60\n",
      "60000/60000 [==============================] - 4s 71us/sample - loss: 0.3459 - accuracy: 0.8726 - val_loss: 0.2525 - val_accuracy: 0.9080\n",
      "Epoch 44/60\n",
      "60000/60000 [==============================] - 5s 76us/sample - loss: 0.3461 - accuracy: 0.8729 - val_loss: 0.2548 - val_accuracy: 0.9076\n",
      "Epoch 45/60\n",
      "60000/60000 [==============================] - 4s 73us/sample - loss: 0.3418 - accuracy: 0.8746 - val_loss: 0.2532 - val_accuracy: 0.9064\n",
      "Epoch 46/60\n",
      "60000/60000 [==============================] - 4s 72us/sample - loss: 0.3416 - accuracy: 0.8742 - val_loss: 0.2511 - val_accuracy: 0.9092\n",
      "Epoch 47/60\n",
      "60000/60000 [==============================] - 4s 71us/sample - loss: 0.3399 - accuracy: 0.8736 - val_loss: 0.2486 - val_accuracy: 0.9076\n",
      "Epoch 48/60\n",
      "60000/60000 [==============================] - 4s 72us/sample - loss: 0.3377 - accuracy: 0.8752 - val_loss: 0.2501 - val_accuracy: 0.9104\n",
      "Epoch 49/60\n",
      "60000/60000 [==============================] - 4s 70us/sample - loss: 0.3356 - accuracy: 0.8766 - val_loss: 0.2496 - val_accuracy: 0.9092\n",
      "Epoch 50/60\n",
      "60000/60000 [==============================] - 4s 71us/sample - loss: 0.3363 - accuracy: 0.8754 - val_loss: 0.2465 - val_accuracy: 0.9082\n",
      "Epoch 51/60\n",
      "60000/60000 [==============================] - 4s 71us/sample - loss: 0.3328 - accuracy: 0.8772 - val_loss: 0.2448 - val_accuracy: 0.9114\n",
      "Epoch 52/60\n",
      "60000/60000 [==============================] - 5s 79us/sample - loss: 0.3340 - accuracy: 0.8763 - val_loss: 0.2462 - val_accuracy: 0.9114\n",
      "Epoch 53/60\n",
      "60000/60000 [==============================] - 5s 78us/sample - loss: 0.3311 - accuracy: 0.8784 - val_loss: 0.2418 - val_accuracy: 0.9102\n",
      "Epoch 54/60\n",
      "60000/60000 [==============================] - 5s 77us/sample - loss: 0.3287 - accuracy: 0.8778 - val_loss: 0.2407 - val_accuracy: 0.9126\n",
      "Epoch 55/60\n",
      "60000/60000 [==============================] - 5s 79us/sample - loss: 0.3303 - accuracy: 0.8783 - val_loss: 0.2378 - val_accuracy: 0.9128\n",
      "Epoch 56/60\n",
      "60000/60000 [==============================] - 5s 79us/sample - loss: 0.3278 - accuracy: 0.8788 - val_loss: 0.2370 - val_accuracy: 0.9130\n",
      "Epoch 57/60\n",
      "60000/60000 [==============================] - 5s 77us/sample - loss: 0.3277 - accuracy: 0.8784 - val_loss: 0.2389 - val_accuracy: 0.9130\n",
      "Epoch 58/60\n",
      "60000/60000 [==============================] - 5s 78us/sample - loss: 0.3239 - accuracy: 0.8806 - val_loss: 0.2352 - val_accuracy: 0.9148\n",
      "Epoch 59/60\n",
      "60000/60000 [==============================] - 4s 74us/sample - loss: 0.3240 - accuracy: 0.8815 - val_loss: 0.2345 - val_accuracy: 0.9140\n",
      "Epoch 60/60\n",
      "60000/60000 [==============================] - 5s 80us/sample - loss: 0.3239 - accuracy: 0.8803 - val_loss: 0.2370 - val_accuracy: 0.9118\n"
     ]
    },
    {
     "data": {
      "text/plain": [
       "<tensorflow.python.keras.callbacks.History at 0x1920306b548>"
      ]
     },
     "execution_count": 5,
     "metadata": {},
     "output_type": "execute_result"
    }
   ],
   "source": [
    "model.fit(train_images, train_labels, epochs=60, validation_data=(validation_images, validation_labels))"
   ]
  },
  {
   "cell_type": "code",
   "execution_count": 6,
   "metadata": {},
   "outputs": [
    {
     "name": "stdout",
     "output_type": "stream",
     "text": [
      "10000/10000 [==============================] - 0s 27us/sample - loss: 0.3259 - accuracy: 0.8815\n"
     ]
    },
    {
     "data": {
      "text/plain": [
       "[0.3258592078924179, 0.8815]"
      ]
     },
     "execution_count": 6,
     "metadata": {},
     "output_type": "execute_result"
    }
   ],
   "source": [
    "model.evaluate(test_images, test_labels)"
   ]
  },
  {
   "cell_type": "code",
   "execution_count": null,
   "metadata": {},
   "outputs": [],
   "source": []
  }
 ],
 "metadata": {
  "kernelspec": {
   "display_name": "Python 3",
   "language": "python",
   "name": "python3"
  },
  "language_info": {
   "codemirror_mode": {
    "name": "ipython",
    "version": 3
   },
   "file_extension": ".py",
   "mimetype": "text/x-python",
   "name": "python",
   "nbconvert_exporter": "python",
   "pygments_lexer": "ipython3",
   "version": "3.7.6"
  }
 },
 "nbformat": 4,
 "nbformat_minor": 4
}
