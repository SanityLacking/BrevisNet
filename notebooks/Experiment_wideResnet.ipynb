{
 "cells": [
  {
   "cell_type": "markdown",
   "id": "f6ee15a3-73b2-488d-b909-6949cf64c745",
   "metadata": {},
   "source": [
    "# Training and evaluation notebook for wideResNet based Brevis Model.\n",
    "<HR>\n",
    "Models are trained on the CIFAR10 dataset, and uses CIFAR100 as an OOD dataset. <br>\n",
    "    2 models are trained, one with branches using BrevisEnergy Loss and one using Cross entropy for all exits. <br>\n",
    "    \n",
    "    \n"
   ]
  },
  {
   "cell_type": "code",
   "execution_count": 14,
   "id": "146f7bc4-1494-408c-8e50-436ce46c7d44",
   "metadata": {},
   "outputs": [],
   "source": [
    "import tensorflow as tf\n",
    "import numpy as np\n",
    "from tensorflow import keras\n",
    "from tensorflow.keras import layers\n",
    "import pandas as pd\n",
    "import matplotlib.pyplot as plt\n",
    "import sys\n",
    "sys.path.append(\"..\") # Adds higher directory to python modules path.\n",
    "import os\n",
    "import numpy as np\n",
    "import sys\n",
    "import os\n",
    "from keras_flops import get_flops \n",
    "from skimage.filters import gaussian as gblur\n",
    "from PIL import Image as PILImage\n",
    "\n",
    "sys.path.append(\"..\") # Adds higher directory to python modules path.\n",
    "import brevis\n",
    "from brevis import branches\n",
    "from brevis import evaluate\n",
    "import tensorflow_probability as tfp\n",
    "# os.environ['TF_DETERMINISTIC_OPS'] = '1'"
   ]
  },
  {
   "cell_type": "markdown",
   "id": "30c256da-228a-46e2-b6ec-f1b0363b8b59",
   "metadata": {},
   "source": [
    "### load datasets\n",
    "\n",
    "<hr>"
   ]
  },
  {
   "cell_type": "code",
   "execution_count": 15,
   "id": "efa29a9a-2c5a-4a7f-a767-7b4b406e00fb",
   "metadata": {},
   "outputs": [
    {
     "name": "stdout",
     "output_type": "stream",
     "text": [
      "augment Dataset\n",
      "targetsis : False\n",
      "trainSize 45000\n",
      "testSize 10000\n"
     ]
    }
   ],
   "source": [
    "train_ds, test_ds, validation_ds = brevis.dataset.prepare.dataset(tf.keras.datasets.cifar10.load_data(),32,5000,shuffle_size=15000,input_size=(32,32),include_targets=False,num_outputs = 10,reshuffle=True)"
   ]
  },
  {
   "cell_type": "code",
   "execution_count": 16,
   "id": "ada7c6b5-4bbf-437f-bb76-1a5dcab41011",
   "metadata": {
    "tags": []
   },
   "outputs": [
    {
     "name": "stdout",
     "output_type": "stream",
     "text": [
      "augment Dataset\n",
      "targetsis : False\n",
      "trainSize 45000\n",
      "testSize 10000\n"
     ]
    }
   ],
   "source": [
    "# import tensorflow_datasets as tfds\n",
    "# ds = tfds.load('svhn_cropped', split='train', shuffle_files=True)\n",
    "# assert isinstance(ds, tf.data.Dataset)\n",
    "train_ds100, test_ds100, validation_ds100 = brevis.dataset.prepare.dataset(tf.keras.datasets.cifar100.load_data(label_mode=\"fine\"),32,5000,shuffle_size=15000,input_size=(32,32),include_targets=False,num_outputs = 100,reshuffle=True)"
   ]
  },
  {
   "cell_type": "markdown",
   "id": "27862ed3-0328-4282-98d5-5abf95e4e70e",
   "metadata": {},
   "source": [
    "## Initialize functions for building the loss functions \n",
    "<hr>"
   ]
  },
  {
   "cell_type": "code",
   "execution_count": 17,
   "id": "706c314f-13ba-492c-b15d-18d67e2c7cf5",
   "metadata": {},
   "outputs": [],
   "source": [
    "class lambda_update(tf.keras.callbacks.Callback):\n",
    "    def __init__(self, annealing_max,  lambda_t=0, max_t=1):\n",
    "        self.start_val = tf.Variable(initial_value=lambda_t, dtype=tf.float32) \n",
    "        \n",
    "        self.lambda_t = tf.Variable(initial_value=lambda_t, dtype=tf.float32) #updates each epoch\n",
    "        self.max_t = tf.Variable(initial_value=max_t, dtype=tf.float32)\n",
    "        self.annealing_max = tf.Variable(initial_value=annealing_max, dtype=tf.float32)\n",
    "\n",
    "    def on_epoch_begin(self, epoch, logs={}): #needs to be on begin, otherwise the epoch update won't increase the value from 0 to 0.1 till the 3rd epoch...\n",
    "        val = tf.reduce_min([self.max_t, tf.cast(epoch+self.start_val, tf.dtypes.float32) / tf.cast(self.annealing_max, tf.dtypes.float32)])\n",
    "        tf.print(\"annealing coef updated to:\", val)\n",
    "        self.lambda_t.assign(val)\n"
   ]
  },
  {
   "cell_type": "code",
   "execution_count": 18,
   "id": "f338aa19-d7ed-4f2d-b7df-049c6c6cf534",
   "metadata": {},
   "outputs": [],
   "source": [
    "def exp_evidence(logits): \n",
    "    return tf.exp(tf.clip_by_value(logits/10,-10,10))\n",
    "\n",
    "def KL(alpha,K):\n",
    "    # print(\"K:\",K)\n",
    "    beta=tf.constant(np.ones((1,K)),dtype=tf.float32)\n",
    "    S_alpha = tf.reduce_sum(alpha,axis=1,keepdims=True)\n",
    "    S_beta = tf.reduce_sum(beta,axis=1,keepdims=True)\n",
    "    lnB = tf.compat.v1.lgamma(S_alpha) - tf.reduce_sum(tf.compat.v1.lgamma(alpha),axis=1,keepdims=True)\n",
    "    lnB_uni = tf.reduce_sum(tf.compat.v1.lgamma(beta),axis=1,keepdims=True) - tf.compat.v1.lgamma(S_beta)\n",
    "    dg0 = tf.compat.v1.digamma(S_alpha)\n",
    "    dg1 = tf.compat.v1.digamma(alpha)\n",
    "    kl = tf.reduce_sum((alpha - beta)*(dg1-dg0),axis=1,keepdims=True) + lnB + lnB_uni\n",
    "    return kl\n",
    "\n",
    "def _KL(alphas, target_alphas,  precision=None, target_precision=None, epsilon=1e-8):\n",
    "    '''\n",
    "    New KL divergence function. \n",
    "    '''\n",
    "    target_alphas = tf.cast(target_alphas,tf.float32)\n",
    "    alphas = tf.cast(alphas,tf.float32)\n",
    "    if not precision:\n",
    "        precision = tf.reduce_sum(alphas, axis=1, keepdims=True)\n",
    "    if not target_precision:\n",
    "        target_precision = tf.reduce_sum(target_alphas, axis=1, keepdims=True)\n",
    "    precision = tf.cast(precision,tf.float32)\n",
    "    target_precision = tf.cast(target_precision,tf.float32)\n",
    "    \n",
    "    precision_term = tf.compat.v1.lgamma(target_precision) - tf.compat.v1.lgamma(precision)\n",
    "    alphas_term = tf.reduce_sum(\n",
    "        tf.compat.v1.lgamma(alphas + epsilon)\n",
    "        - tf.compat.v1.lgamma(target_alphas + epsilon)\n",
    "        + (target_alphas - alphas)\n",
    "        * (\n",
    "            tf.compat.v1.digamma(target_alphas + epsilon)\n",
    "            - tf.compat.v1.digamma(target_precision + epsilon)\n",
    "        ),\n",
    "        axis=1,\n",
    "        keepdims=True,\n",
    "    )\n",
    "    cost = tf.squeeze(precision_term + alphas_term)\n",
    "    return cost\n",
    "\n",
    "def reverse_kl(alphas, target_alphas,  precision=None, target_precision=None, epsilon=1e-8):\n",
    "    return _KL(target_alphas,alphas, precision=None, target_precision=None, epsilon=1e-8)\n",
    "\n",
    "def DirichletKLLoss(labels, logits, reverse=True):\n",
    "    # alpha = tf.exp(logits)\n",
    "    alpha = tf.exp(tf.clip_by_value(logits/10,-10,10))\n",
    "    target_concentration = tf.reduce_sum(alpha,axis=1,keepdims=True)\n",
    "    target_alphas = (tf.ones_like(alpha) + (target_concentration * labels))\n",
    "    alpha = alpha + 1\n",
    "    if reverse:\n",
    "        cost = reverse_kl(alpha, target_alphas)\n",
    "    else:\n",
    "        cost = _KL(alpha, target_alphas)\n",
    "    if tf.math.is_nan(tf.reduce_sum(cost)):\n",
    "        tf.print(\"logits\",logits, summarize=-1)\n",
    "        tf.print(\"alpha\",alpha, summarize=-1)\n",
    "        tf.print(\"cost\", cost, summarize=-1)\n",
    "    return cost"
   ]
  },
  {
   "cell_type": "code",
   "execution_count": 19,
   "id": "396c6f15-e240-4980-bb3f-3020250a12b2",
   "metadata": {
    "tags": []
   },
   "outputs": [],
   "source": [
    "from scipy.special import logsumexp\n",
    "\n",
    "def loss_wrapper(lambda_callback: lambda_update):\n",
    "    ''' Loss function of Evidential Dirichlet Networks\n",
    "        Expected Mean Square Error + KL divergence\n",
    "    '''\n",
    "    def custom_loss_function(p, logits):\n",
    "    #     alpha = alpha + 1\n",
    "        evidence = exp_evidence(logits)\n",
    "        alpha = evidence + 1\n",
    "\n",
    "        S = tf.reduce_sum(alpha,axis=1,keepdims=True) \n",
    "        E = alpha - 1\n",
    "        m = alpha / S\n",
    "        A = tf.reduce_sum((p-m)**2, axis=1, keepdims=True) \n",
    "        B = tf.reduce_sum(alpha*(S-alpha)/(S*S*(S+1)), axis=1, keepdims=True) \n",
    "        # tf.print(annealing_coef)\n",
    "        # annealing_coef = \n",
    "        annealing_coef =  lambda_callback.lambda_t\n",
    "        annealing_coef =  0.0001\n",
    "        alp = E*(1-p) + 1 \n",
    "        C =   annealing_coef * KL(p,alpha)\n",
    "        return (A + B) + C\n",
    "    return custom_loss_function\n",
    "\n",
    "\n",
    "def brevisEnergy(lambda_callback: lambda_update):\n",
    "    ''' Proposed Loss function for BrevisNet branch classifiers\n",
    "        consists of the expected mean square error loss + reverse dirichlet KL + regularizing dirichlet entropy mean\n",
    "    '''\n",
    "    def brevisEnergy(p, logits):\n",
    "        evidence = tf.exp(logits)\n",
    "        # evidence = tf.exp(tf.clip_by_value(logits/10,-10,10))\n",
    "        alpha = evidence + 1\n",
    "        S = tf.reduce_sum(alpha,axis=1,keepdims=True) \n",
    "        E = alpha - 1\n",
    "        m = alpha / S\n",
    "        A = tf.reduce_sum((p-m)**2, axis=1, keepdims=True) \n",
    "        B = tf.reduce_sum(alpha*(S-alpha)/(S*S*(S+1)), axis=1, keepdims=True) \n",
    "        annealing_coef =  lambda_callback.lambda_t\n",
    "        alp = E*(1-p) + 1 \n",
    "        C =   annealing_coef * DirichletKLLoss(p,logits, True)\n",
    "        D = 0.0001 * -tf.reduce_mean(tfp.distributions.Dirichlet(alpha).entropy()) ###entropy of the dirichlet distribution as a smoothing regularizer. \n",
    "        return (A+B) + C + D\n",
    "    return  brevisEnergy\n"
   ]
  },
  {
   "cell_type": "markdown",
   "id": "7c5b58a6-68ec-4362-bc9f-14311dd22ddd",
   "metadata": {},
   "source": [
    "## Build the Model\n",
    "<hr>"
   ]
  },
  {
   "cell_type": "code",
   "execution_count": 20,
   "id": "ced7c27f-d781-4005-9079-a6e96369bd6a",
   "metadata": {
    "tags": []
   },
   "outputs": [
    {
     "name": "stdout",
     "output_type": "stream",
     "text": [
      "313/313 [==============================] - 15s 44ms/step - loss: 1.0274 - accuracy: 0.8118\n"
     ]
    },
    {
     "data": {
      "text/plain": [
       "[1.0274261236190796, 0.8118000030517578]"
      ]
     },
     "execution_count": 20,
     "metadata": {},
     "output_type": "execute_result"
    }
   ],
   "source": [
    "# ### from scratch model\n",
    "\n",
    "import random\n",
    "seed = 42\n",
    "random.seed(seed)\n",
    "tf.random.set_seed(seed)\n",
    "np.random.seed(seed)\n",
    "# model.save('./models/cifaroutlier_EDL_adam.hdf5')\n",
    "# loss = kl_loss(lambda_callback)\n",
    "# loss = brevisEnergy(lambda_callback)\n",
    "loss = keras.losses.CategoricalCrossentropy(from_logits=False)\n",
    "\n",
    "earlyStop = tf.keras.callbacks.EarlyStopping(monitor=\"val_accuracy\",patience=4,restore_best_weights=True)\n",
    "\n",
    "# _base_model = tf.keras.applications.inception_v3.InceptionV3(input_shape=(224, 224, 3),\n",
    "#      weights='imagenet',include_top=False)\n",
    "\n",
    "# x = _base_model.output\n",
    "# x = tf.keras.layers.GlobalAveragePooling2D()(x)\n",
    "# x = tf.keras.layers.Flatten()(x)\n",
    "# x = tf.keras.layers.Dense(1024, activation=\"relu\")(x)\n",
    "# x = tf.keras.layers.Dense(512, activation=\"relu\")(x)\n",
    "# x = tf.keras.layers.Dense(10, activation=\"softmax\", name=\"classification\")(x)\n",
    "\n",
    "# base_model = tf.keras.models.Model(inputs=_base_model.input, outputs=x)\n",
    "# base_model.compile(optimizer=tf.optimizers.SGD(learning_rate=0.001, momentum=0.9),\n",
    "#               loss=loss,\n",
    "#               metrics=['accuracy'])\n",
    "# history = base_model.fit(train_ds, validation_data=validation_ds, epochs=30,callbacks=[lambda_callback,earlyStop])\n",
    "\n",
    "\n",
    "base_model = keras.models.load_model(\"./models/wideresnet_.81.hdf5\")\n",
    "base_model.compile(optimizer=tf.optimizers.SGD(learning_rate=0.001, momentum=0.9),\n",
    "              # tf.keras.optimizers.Adam(),\n",
    "              # tf.optimizers.SGD(lr=0.001, momentum=0.9)\n",
    "              loss=loss,\n",
    "              metrics=['accuracy'])\n",
    "\n",
    "base_model.evaluate(test_ds)\n"
   ]
  },
  {
   "cell_type": "code",
   "execution_count": 8,
   "id": "55d3f421-21b6-42ca-ad2b-28c849c9a6be",
   "metadata": {},
   "outputs": [
    {
     "name": "stdout",
     "output_type": "stream",
     "text": [
      "Model: \"model_3\"\n",
      "__________________________________________________________________________________________________\n",
      " Layer (type)                   Output Shape         Param #     Connected to                     \n",
      "==================================================================================================\n",
      " input_4 (InputLayer)           [(None, 32, 32, 3)]  0           []                               \n",
      "                                                                                                  \n",
      " conv2d_84 (Conv2D)             (None, 32, 32, 16)   432         ['input_4[0][0]']                \n",
      "                                                                                                  \n",
      " batch_normalization_75 (BatchN  (None, 32, 32, 16)  64          ['conv2d_84[0][0]']              \n",
      " ormalization)                                                                                    \n",
      "                                                                                                  \n",
      " activation_75 (Activation)     (None, 32, 32, 16)   0           ['batch_normalization_75[0][0]'] \n",
      "                                                                                                  \n",
      " conv2d_85 (Conv2D)             (None, 32, 32, 160)  23040       ['activation_75[0][0]']          \n",
      "                                                                                                  \n",
      " batch_normalization_76 (BatchN  (None, 32, 32, 160)  640        ['conv2d_85[0][0]']              \n",
      " ormalization)                                                                                    \n",
      "                                                                                                  \n",
      " activation_76 (Activation)     (None, 32, 32, 160)  0           ['batch_normalization_76[0][0]'] \n",
      "                                                                                                  \n",
      " conv2d_86 (Conv2D)             (None, 32, 32, 160)  230400      ['activation_76[0][0]']          \n",
      "                                                                                                  \n",
      " conv2d_87 (Conv2D)             (None, 32, 32, 160)  2560        ['activation_75[0][0]']          \n",
      "                                                                                                  \n",
      " add_36 (Add)                   (None, 32, 32, 160)  0           ['conv2d_86[0][0]',              \n",
      "                                                                  'conv2d_87[0][0]']              \n",
      "                                                                                                  \n",
      " batch_normalization_77 (BatchN  (None, 32, 32, 160)  640        ['add_36[0][0]']                 \n",
      " ormalization)                                                                                    \n",
      "                                                                                                  \n",
      " activation_77 (Activation)     (None, 32, 32, 160)  0           ['batch_normalization_77[0][0]'] \n",
      "                                                                                                  \n",
      " conv2d_88 (Conv2D)             (None, 32, 32, 160)  230400      ['activation_77[0][0]']          \n",
      "                                                                                                  \n",
      " batch_normalization_78 (BatchN  (None, 32, 32, 160)  640        ['conv2d_88[0][0]']              \n",
      " ormalization)                                                                                    \n",
      "                                                                                                  \n",
      " activation_78 (Activation)     (None, 32, 32, 160)  0           ['batch_normalization_78[0][0]'] \n",
      "                                                                                                  \n",
      " conv2d_89 (Conv2D)             (None, 32, 32, 160)  230400      ['activation_78[0][0]']          \n",
      "                                                                                                  \n",
      " add_37 (Add)                   (None, 32, 32, 160)  0           ['conv2d_89[0][0]',              \n",
      "                                                                  'add_36[0][0]']                 \n",
      "                                                                                                  \n",
      " batch_normalization_79 (BatchN  (None, 32, 32, 160)  640        ['add_37[0][0]']                 \n",
      " ormalization)                                                                                    \n",
      "                                                                                                  \n",
      " activation_79 (Activation)     (None, 32, 32, 160)  0           ['batch_normalization_79[0][0]'] \n",
      "                                                                                                  \n",
      " conv2d_90 (Conv2D)             (None, 32, 32, 160)  230400      ['activation_79[0][0]']          \n",
      "                                                                                                  \n",
      " batch_normalization_80 (BatchN  (None, 32, 32, 160)  640        ['conv2d_90[0][0]']              \n",
      " ormalization)                                                                                    \n",
      "                                                                                                  \n",
      " activation_80 (Activation)     (None, 32, 32, 160)  0           ['batch_normalization_80[0][0]'] \n",
      "                                                                                                  \n",
      " conv2d_91 (Conv2D)             (None, 32, 32, 160)  230400      ['activation_80[0][0]']          \n",
      "                                                                                                  \n",
      " add_38 (Add)                   (None, 32, 32, 160)  0           ['conv2d_91[0][0]',              \n",
      "                                                                  'add_37[0][0]']                 \n",
      "                                                                                                  \n",
      " batch_normalization_81 (BatchN  (None, 32, 32, 160)  640        ['add_38[0][0]']                 \n",
      " ormalization)                                                                                    \n",
      "                                                                                                  \n",
      " activation_81 (Activation)     (None, 32, 32, 160)  0           ['batch_normalization_81[0][0]'] \n",
      "                                                                                                  \n",
      " conv2d_92 (Conv2D)             (None, 32, 32, 160)  230400      ['activation_81[0][0]']          \n",
      "                                                                                                  \n",
      " batch_normalization_82 (BatchN  (None, 32, 32, 160)  640        ['conv2d_92[0][0]']              \n",
      " ormalization)                                                                                    \n",
      "                                                                                                  \n",
      " activation_82 (Activation)     (None, 32, 32, 160)  0           ['batch_normalization_82[0][0]'] \n",
      "                                                                                                  \n",
      " conv2d_93 (Conv2D)             (None, 32, 32, 160)  230400      ['activation_82[0][0]']          \n",
      "                                                                                                  \n",
      " add_39 (Add)                   (None, 32, 32, 160)  0           ['conv2d_93[0][0]',              \n",
      "                                                                  'add_38[0][0]']                 \n",
      "                                                                                                  \n",
      " batch_normalization_83 (BatchN  (None, 32, 32, 160)  640        ['add_39[0][0]']                 \n",
      " ormalization)                                                                                    \n",
      "                                                                                                  \n",
      " activation_83 (Activation)     (None, 32, 32, 160)  0           ['batch_normalization_83[0][0]'] \n",
      "                                                                                                  \n",
      " conv2d_94 (Conv2D)             (None, 16, 16, 320)  460800      ['activation_83[0][0]']          \n",
      "                                                                                                  \n",
      " batch_normalization_84 (BatchN  (None, 16, 16, 320)  1280       ['conv2d_94[0][0]']              \n",
      " ormalization)                                                                                    \n",
      "                                                                                                  \n",
      " activation_84 (Activation)     (None, 16, 16, 320)  0           ['batch_normalization_84[0][0]'] \n",
      "                                                                                                  \n",
      " conv2d_95 (Conv2D)             (None, 16, 16, 320)  921600      ['activation_84[0][0]']          \n",
      "                                                                                                  \n",
      " conv2d_96 (Conv2D)             (None, 16, 16, 320)  51200       ['activation_83[0][0]']          \n",
      "                                                                                                  \n",
      " add_40 (Add)                   (None, 16, 16, 320)  0           ['conv2d_95[0][0]',              \n",
      "                                                                  'conv2d_96[0][0]']              \n",
      "                                                                                                  \n",
      " batch_normalization_85 (BatchN  (None, 16, 16, 320)  1280       ['add_40[0][0]']                 \n",
      " ormalization)                                                                                    \n",
      "                                                                                                  \n",
      " activation_85 (Activation)     (None, 16, 16, 320)  0           ['batch_normalization_85[0][0]'] \n",
      "                                                                                                  \n",
      " conv2d_97 (Conv2D)             (None, 16, 16, 320)  921600      ['activation_85[0][0]']          \n",
      "                                                                                                  \n",
      " batch_normalization_86 (BatchN  (None, 16, 16, 320)  1280       ['conv2d_97[0][0]']              \n",
      " ormalization)                                                                                    \n",
      "                                                                                                  \n",
      " activation_86 (Activation)     (None, 16, 16, 320)  0           ['batch_normalization_86[0][0]'] \n",
      "                                                                                                  \n",
      " conv2d_98 (Conv2D)             (None, 16, 16, 320)  921600      ['activation_86[0][0]']          \n",
      "                                                                                                  \n",
      " add_41 (Add)                   (None, 16, 16, 320)  0           ['conv2d_98[0][0]',              \n",
      "                                                                  'add_40[0][0]']                 \n",
      "                                                                                                  \n",
      " batch_normalization_87 (BatchN  (None, 16, 16, 320)  1280       ['add_41[0][0]']                 \n",
      " ormalization)                                                                                    \n",
      "                                                                                                  \n",
      " activation_87 (Activation)     (None, 16, 16, 320)  0           ['batch_normalization_87[0][0]'] \n",
      "                                                                                                  \n",
      " conv2d_99 (Conv2D)             (None, 16, 16, 320)  921600      ['activation_87[0][0]']          \n",
      "                                                                                                  \n",
      " batch_normalization_88 (BatchN  (None, 16, 16, 320)  1280       ['conv2d_99[0][0]']              \n",
      " ormalization)                                                                                    \n",
      "                                                                                                  \n",
      " activation_88 (Activation)     (None, 16, 16, 320)  0           ['batch_normalization_88[0][0]'] \n",
      "                                                                                                  \n",
      " conv2d_100 (Conv2D)            (None, 16, 16, 320)  921600      ['activation_88[0][0]']          \n",
      "                                                                                                  \n",
      " add_42 (Add)                   (None, 16, 16, 320)  0           ['conv2d_100[0][0]',             \n",
      "                                                                  'add_41[0][0]']                 \n",
      "                                                                                                  \n",
      " batch_normalization_89 (BatchN  (None, 16, 16, 320)  1280       ['add_42[0][0]']                 \n",
      " ormalization)                                                                                    \n",
      "                                                                                                  \n",
      " activation_89 (Activation)     (None, 16, 16, 320)  0           ['batch_normalization_89[0][0]'] \n",
      "                                                                                                  \n",
      " conv2d_101 (Conv2D)            (None, 16, 16, 320)  921600      ['activation_89[0][0]']          \n",
      "                                                                                                  \n",
      " batch_normalization_90 (BatchN  (None, 16, 16, 320)  1280       ['conv2d_101[0][0]']             \n",
      " ormalization)                                                                                    \n",
      "                                                                                                  \n",
      " activation_90 (Activation)     (None, 16, 16, 320)  0           ['batch_normalization_90[0][0]'] \n",
      "                                                                                                  \n",
      " conv2d_102 (Conv2D)            (None, 16, 16, 320)  921600      ['activation_90[0][0]']          \n",
      "                                                                                                  \n",
      " add_43 (Add)                   (None, 16, 16, 320)  0           ['conv2d_102[0][0]',             \n",
      "                                                                  'add_42[0][0]']                 \n",
      "                                                                                                  \n",
      " batch_normalization_91 (BatchN  (None, 16, 16, 320)  1280       ['add_43[0][0]']                 \n",
      " ormalization)                                                                                    \n",
      "                                                                                                  \n",
      " activation_91 (Activation)     (None, 16, 16, 320)  0           ['batch_normalization_91[0][0]'] \n",
      "                                                                                                  \n",
      " conv2d_103 (Conv2D)            (None, 8, 8, 640)    1843200     ['activation_91[0][0]']          \n",
      "                                                                                                  \n",
      " batch_normalization_92 (BatchN  (None, 8, 8, 640)   2560        ['conv2d_103[0][0]']             \n",
      " ormalization)                                                                                    \n",
      "                                                                                                  \n",
      " activation_92 (Activation)     (None, 8, 8, 640)    0           ['batch_normalization_92[0][0]'] \n",
      "                                                                                                  \n",
      " conv2d_104 (Conv2D)            (None, 8, 8, 640)    3686400     ['activation_92[0][0]']          \n",
      "                                                                                                  \n",
      " conv2d_105 (Conv2D)            (None, 8, 8, 640)    204800      ['activation_91[0][0]']          \n",
      "                                                                                                  \n",
      " add_44 (Add)                   (None, 8, 8, 640)    0           ['conv2d_104[0][0]',             \n",
      "                                                                  'conv2d_105[0][0]']             \n",
      "                                                                                                  \n",
      " batch_normalization_93 (BatchN  (None, 8, 8, 640)   2560        ['add_44[0][0]']                 \n",
      " ormalization)                                                                                    \n",
      "                                                                                                  \n",
      " activation_93 (Activation)     (None, 8, 8, 640)    0           ['batch_normalization_93[0][0]'] \n",
      "                                                                                                  \n",
      " conv2d_106 (Conv2D)            (None, 8, 8, 640)    3686400     ['activation_93[0][0]']          \n",
      "                                                                                                  \n",
      " batch_normalization_94 (BatchN  (None, 8, 8, 640)   2560        ['conv2d_106[0][0]']             \n",
      " ormalization)                                                                                    \n",
      "                                                                                                  \n",
      " activation_94 (Activation)     (None, 8, 8, 640)    0           ['batch_normalization_94[0][0]'] \n",
      "                                                                                                  \n",
      " conv2d_107 (Conv2D)            (None, 8, 8, 640)    3686400     ['activation_94[0][0]']          \n",
      "                                                                                                  \n",
      " add_45 (Add)                   (None, 8, 8, 640)    0           ['conv2d_107[0][0]',             \n",
      "                                                                  'add_44[0][0]']                 \n",
      "                                                                                                  \n",
      " batch_normalization_95 (BatchN  (None, 8, 8, 640)   2560        ['add_45[0][0]']                 \n",
      " ormalization)                                                                                    \n",
      "                                                                                                  \n",
      " activation_95 (Activation)     (None, 8, 8, 640)    0           ['batch_normalization_95[0][0]'] \n",
      "                                                                                                  \n",
      " conv2d_108 (Conv2D)            (None, 8, 8, 640)    3686400     ['activation_95[0][0]']          \n",
      "                                                                                                  \n",
      " batch_normalization_96 (BatchN  (None, 8, 8, 640)   2560        ['conv2d_108[0][0]']             \n",
      " ormalization)                                                                                    \n",
      "                                                                                                  \n",
      " activation_96 (Activation)     (None, 8, 8, 640)    0           ['batch_normalization_96[0][0]'] \n",
      "                                                                                                  \n",
      " conv2d_109 (Conv2D)            (None, 8, 8, 640)    3686400     ['activation_96[0][0]']          \n",
      "                                                                                                  \n",
      " add_46 (Add)                   (None, 8, 8, 640)    0           ['conv2d_109[0][0]',             \n",
      "                                                                  'add_45[0][0]']                 \n",
      "                                                                                                  \n",
      " batch_normalization_97 (BatchN  (None, 8, 8, 640)   2560        ['add_46[0][0]']                 \n",
      " ormalization)                                                                                    \n",
      "                                                                                                  \n",
      " activation_97 (Activation)     (None, 8, 8, 640)    0           ['batch_normalization_97[0][0]'] \n",
      "                                                                                                  \n",
      " conv2d_110 (Conv2D)            (None, 8, 8, 640)    3686400     ['activation_97[0][0]']          \n",
      "                                                                                                  \n",
      " batch_normalization_98 (BatchN  (None, 8, 8, 640)   2560        ['conv2d_110[0][0]']             \n",
      " ormalization)                                                                                    \n",
      "                                                                                                  \n",
      " activation_98 (Activation)     (None, 8, 8, 640)    0           ['batch_normalization_98[0][0]'] \n",
      "                                                                                                  \n",
      " conv2d_111 (Conv2D)            (None, 8, 8, 640)    3686400     ['activation_98[0][0]']          \n",
      "                                                                                                  \n",
      " add_47 (Add)                   (None, 8, 8, 640)    0           ['conv2d_111[0][0]',             \n",
      "                                                                  'add_46[0][0]']                 \n",
      "                                                                                                  \n",
      " batch_normalization_99 (BatchN  (None, 8, 8, 640)   2560        ['add_47[0][0]']                 \n",
      " ormalization)                                                                                    \n",
      "                                                                                                  \n",
      " activation_99 (Activation)     (None, 8, 8, 640)    0           ['batch_normalization_99[0][0]'] \n",
      "                                                                                                  \n",
      " average_pooling2d_3 (AveragePo  (None, 8, 8, 640)   0           ['activation_99[0][0]']          \n",
      " oling2D)                                                                                         \n",
      "                                                                                                  \n",
      " flatten_3 (Flatten)            (None, 40960)        0           ['average_pooling2d_3[0][0]']    \n",
      "                                                                                                  \n",
      " dense_3 (Dense)                (None, 10)           409600      ['flatten_3[0][0]']              \n",
      "                                                                                                  \n",
      "==================================================================================================\n",
      "Total params: 36,900,336\n",
      "Trainable params: 36,882,384\n",
      "Non-trainable params: 17,952\n",
      "__________________________________________________________________________________________________\n",
      "[<KerasTensor: shape=(None, 10) dtype=float32 (created by layer 'dense_3')>]\n",
      "WARNING:tensorflow:From C:\\Users\\Sanity\\AppData\\Local\\conda\\conda\\envs\\py36\\lib\\site-packages\\tensorflow\\python\\ops\\nn_ops.py:5214: tensor_shape_from_node_def_name (from tensorflow.python.framework.graph_util_impl) is deprecated and will be removed in a future version.\n",
      "Instructions for updating:\n",
      "Use `tf.compat.v1.graph_util.tensor_shape_from_node_def_name`\n",
      "FLOPS: 10.5 G\n"
     ]
    }
   ],
   "source": [
    "base_model.summary()\n",
    "# Calculae FLOPS\n",
    "print(base_model.outputs)\n",
    "flops = get_flops(base_model, batch_size=1)\n",
    "print(f\"FLOPS: {flops / 10 ** 9:.03} G\")\n"
   ]
  },
  {
   "cell_type": "markdown",
   "id": "f0616635-a453-410c-bac6-ad9ca2b4efe4",
   "metadata": {},
   "source": [
    "## Branch the model\n",
    "First we will train the BrevisNet version of the model with BrevisEnergy loss\n",
    "<hr>"
   ]
  },
  {
   "cell_type": "code",
   "execution_count": 7,
   "id": "0228e30c-4ece-4552-832e-bd0d01c50ea6",
   "metadata": {},
   "outputs": [],
   "source": [
    "def _branch_flat(prevLayer, targets=None, teacher_sm = None, teaching_features=None):\n",
    "    \"\"\" Add a new branch to a model connecting at the output of prevLayer. \n",
    "        NOTE: use the substring \"branch\" in all names for branch nodes. this is used as an identifier of the branching layers as opposed to the main branch layers for training\n",
    "    \"\"\" \n",
    "#     branchLayer = keras.layers.Flatten(name=tf.compat.v1.get_default_graph().unique_name(\"branch_flatten\"))(prevLayer)\n",
    "#     branchLayer = keras.layers.Dense(124, activation=\"relu\",name=tf.compat.v1.get_default_graph().unique_name(\"branch124\"))(branchLayer)\n",
    "#     branchLayer = keras.layers.Dense(64, activation=\"relu\",name=tf.compat.v1.get_default_graph().unique_name(\"branch64\"))(branchLayer)\n",
    "#     output = keras.layers.Dense(10, name=tf.compat.v1.get_default_graph().unique_name(\"branch_exit\"))(branchLayer)\n",
    "    \n",
    "    branchLayer = layers.Flatten(name=tf.compat.v1.get_default_graph().unique_name(\"branch_flatten\"))(prevLayer)\n",
    "    branchLayer = layers.Dense(1024, activation=\"relu\",name=tf.compat.v1.get_default_graph().unique_name(\"branch1024\"))(branchLayer)\n",
    "    branchLayer = layers.Dense(512, activation=\"relu\",name=tf.compat.v1.get_default_graph().unique_name(\"branch512\"))(branchLayer)\n",
    "    # output = branch.CrossEntropyEndpoint(targets.shape[-1], name=tf.compat.v1.get_default_graph().unique_name(\"branch_softmax\"))(branchLayer, targets)\n",
    "    output = keras.layers.Dense(10, name=tf.compat.v1.get_default_graph().unique_name(\"branch_exit\"))(branchLayer)\n",
    "    output = (layers.Softmax(name=tf.compat.v1.get_default_graph().unique_name(\"branch_softmax\"))(output))\n",
    "    return output\n",
    "\n",
    "def _branch_conv1(prevLayer, targets=None, teacher_sm = None, teaching_features=None):\n",
    "    \"\"\" Add a new branch to a model connecting at the output of prevLayer. \n",
    "        NOTE: use the substring \"branch\" in all names for branch nodes. this is used as an identifier of the branching layers as opposed to the main branch layers for training\n",
    "    \"\"\" \n",
    "#     branchLayer = keras.layers.Flatten(name=tf.compat.v1.get_default_graph().unique_name(\"branch_flatten\"))(prevLayer)\n",
    "#     branchLayer = keras.layers.Dense(124, activation=\"relu\",name=tf.compat.v1.get_default_graph().unique_name(\"branch124\"))(branchLayer)\n",
    "#     branchLayer = keras.layers.Dense(64, activation=\"relu\",name=tf.compat.v1.get_default_graph().unique_name(\"branch64\"))(branchLayer)\n",
    "#     output = keras.layers.Dense(10, name=tf.compat.v1.get_default_graph().unique_name(\"branch_exit\"))(branchLayer)\n",
    "    branchLayer = keras.layers.Conv2D(filters=160, kernel_size=(3,3), strides=(1,1), activation='relu',name=tf.compat.v1.get_default_graph().unique_name(\"branch_conv2d\"), input_shape=(prevLayer.shape))(prevLayer)\n",
    "    branchLayer = keras.layers.BatchNormalization(name=tf.compat.v1.get_default_graph().unique_name(\"branch_batchnorm\"))(branchLayer)  \n",
    "    branchLayer = keras.layers.Conv2D(filters=160, kernel_size=(3,3), strides=(1,1), activation='relu',name=tf.compat.v1.get_default_graph().unique_name(\"branch_conv2d\"), input_shape=(branchLayer.shape))(branchLayer)\n",
    "    branchLayer = keras.layers.BatchNormalization(name=tf.compat.v1.get_default_graph().unique_name(\"branch_batchnorm\"))(branchLayer)  \n",
    "    # branchLayer = keras.layers.MaxPool2D(pool_size=(3,3), strides=(2,2),name=tf.compat.v1.get_default_graph().unique_name(\"branch_maxpool\"))(branchLayer)\n",
    "    # branchLayer = keras.layers.Dropout(0.2,name=tf.compat.v1.get_default_graph().unique_name(\"branch_dropout\"))(branchLayer)\n",
    "    branchLayer = keras.layers.Conv2D(filters=360, kernel_size=(3,3), strides=(1,1), activation='relu',name=tf.compat.v1.get_default_graph().unique_name(\"branch_conv2d\"), input_shape=(branchLayer.shape))(branchLayer)\n",
    "    branchLayer = keras.layers.AveragePooling2D( pool_size=(10,10), strides=(1,1), padding='valid',name=tf.compat.v1.get_default_graph().unique_name(\"branch_avgpool\"))(branchLayer)\n",
    "    # branchLayer = keras.layers.MaxPool2D(pool_size=(3,3), strides=(2,2),name=tf.compat.v1.get_default_graph().unique_name(\"branch_maxpool\"))(branchLayer)\n",
    "    # branchLayer = keras.layers.Dropout(0.2,name=tf.compat.v1.get_default_graph().unique_name(\"branch_dropout\"))(branchLayer)\n",
    "    branchLayer = layers.Flatten(name=tf.compat.v1.get_default_graph().unique_name(\"branch_flatten\"))(branchLayer)\n",
    "    # branchLayer = layers.Dense(2048,activation='relu',name=tf.compat.v1.get_default_graph().unique_name(\"branch_dense\"))(branchLayer)\n",
    "    # branchLayer = keras.layers.Dropout(0.2,name=tf.compat.v1.get_default_graph().unique_name(\"branch_dropout\"))(branchLayer)\n",
    "    # branchLayer = layers.Dense(512,activation='relu',name=tf.compat.v1.get_default_graph().unique_name(\"branch_dense\"))(branchLayer)\n",
    "    output = keras.layers.Dense(10, name=tf.compat.v1.get_default_graph().unique_name(\"branch_exit\"))(branchLayer)\n",
    "    # output = (layers.Softmax(name=tf.compat.v1.get_default_graph().unique_name(\"branch_softmax\"))(output))\n",
    "    return output\n",
    "\n",
    "def _branch_conv2(prevLayer, targets=None, teacher_sm = None, teaching_features=None):\n",
    "    \"\"\" Add a new branch to a model connecting at the output of prevLayer. \n",
    "        NOTE: use the substring \"branch\" in all names for branch nodes. this is used as an identifier of the branching layers as opposed to the main branch layers for training\n",
    "    \"\"\" \n",
    "#     branchLayer = keras.layers.Flatten(name=tf.compat.v1.get_default_graph().unique_name(\"branch_flatten\"))(prevLayer)\n",
    "#     branchLayer = keras.layers.Dense(124, activation=\"relu\",name=tf.compat.v1.get_default_graph().unique_name(\"branch124\"))(branchLayer)\n",
    "#     branchLayer = keras.layers.Dense(64, activation=\"relu\",name=tf.compat.v1.get_default_graph().unique_name(\"branch64\"))(branchLayer)\n",
    "#     output = keras.layers.Dense(10, name=tf.compat.v1.get_default_graph().unique_name(\"branch_exit\"))(branchLayer)\n",
    "    branchLayer = keras.layers.Conv2D(filters=320, kernel_size=(3,3), strides=(1,1), activation='relu',name=tf.compat.v1.get_default_graph().unique_name(\"branch_conv2d\"), input_shape=(prevLayer.shape))(prevLayer)\n",
    "    branchLayer = keras.layers.BatchNormalization(name=tf.compat.v1.get_default_graph().unique_name(\"branch_batchnorm\"))(branchLayer)  \n",
    "    branchLayer = keras.layers.Conv2D(filters=320, kernel_size=(3,3), strides=(1,1), activation='relu',name=tf.compat.v1.get_default_graph().unique_name(\"branch_conv2d\"), input_shape=(branchLayer.shape))(branchLayer)\n",
    "    branchLayer = keras.layers.BatchNormalization(name=tf.compat.v1.get_default_graph().unique_name(\"branch_batchnorm\"))(branchLayer)  \n",
    "    # branchLayer = keras.layers.MaxPool2D(pool_size=(3,3), strides=(2,2),name=tf.compat.v1.get_default_graph().unique_name(\"branch_maxpool\"))(branchLayer)\n",
    "    # branchLayer = keras.layers.Dropout(0.2,name=tf.compat.v1.get_default_graph().unique_name(\"branch_dropout\"))(branchLayer)\n",
    "    branchLayer = keras.layers.Conv2D(filters=440, kernel_size=(3,3), strides=(1,1), activation='relu',name=tf.compat.v1.get_default_graph().unique_name(\"branch_conv2d\"), input_shape=(branchLayer.shape))(branchLayer)\n",
    "    branchLayer = keras.layers.AveragePooling2D( pool_size=(4,4), strides=(1,1), padding='valid',name=tf.compat.v1.get_default_graph().unique_name(\"branch_avgpool\"))(branchLayer)\n",
    "    # branchLayer = keras.layers.MaxPool2D(pool_size=(3,3), strides=(2,2),name=tf.compat.v1.get_default_graph().unique_name(\"branch_maxpool\"))(branchLayer)\n",
    "    # branchLayer = keras.layers.Dropout(0.2,name=tf.compat.v1.get_default_graph().unique_name(\"branch_dropout\"))(branchLayer)\n",
    "    branchLayer = layers.Flatten(name=tf.compat.v1.get_default_graph().unique_name(\"branch_flatten\"))(branchLayer)\n",
    "    # branchLayer = layers.Dense(2048,activation='relu',name=tf.compat.v1.get_default_graph().unique_name(\"branch_dense\"))(branchLayer)\n",
    "    # branchLayer = keras.layers.Dropout(0.2,name=tf.compat.v1.get_default_graph().unique_name(\"branch_dropout\"))(branchLayer)\n",
    "    # branchLayer = layers.Dense(512,activation='relu',name=tf.compat.v1.get_default_graph().unique_name(\"branch_dense\"))(branchLayer)\n",
    "    output = keras.layers.Dense(10, name=tf.compat.v1.get_default_graph().unique_name(\"branch_exit\"))(branchLayer)\n",
    "    # output = (layers.Softmax(name=tf.compat.v1.get_default_graph().unique_name(\"branch_softmax\"))(output))\n",
    "    return output\n"
   ]
  },
  {
   "cell_type": "code",
   "execution_count": 40,
   "id": "d9612187-a7ff-405f-a284-59be37d081c5",
   "metadata": {},
   "outputs": [
    {
     "name": "stdout",
     "output_type": "stream",
     "text": [
      "Matching Branchpoint by id number\n",
      "Matching Branchpoint by name\n",
      "add Branch to branch point  activation_83\n",
      "add Branch to branch point  activation_91\n",
      "KerasTensor(type_spec=TensorSpec(shape=(None, 32, 32, 3), dtype=tf.float32, name='input_4'), name='input_4', description=\"created by layer 'input_4'\")\n",
      "[<KerasTensor: shape=(None, 10) dtype=float32 (created by layer 'dense_3')>, <KerasTensor: shape=(None, 10) dtype=float32 (created by layer 'branch_exit')>, <KerasTensor: shape=(None, 10) dtype=float32 (created by layer 'branch_exit_1')>]\n",
      "branch added <brevis.core_v2.BranchModel object at 0x000001C1D91640C8>\n",
      "\n",
      "preset: Other\n",
      "Model: \"model_3\"\n",
      "__________________________________________________________________________________________________\n",
      " Layer (type)                   Output Shape         Param #     Connected to                     \n",
      "==================================================================================================\n",
      " input_4 (InputLayer)           [(None, 32, 32, 3)]  0           []                               \n",
      "                                                                                                  \n",
      " conv2d_84 (Conv2D)             (None, 32, 32, 16)   432         ['input_4[0][0]']                \n",
      "                                                                                                  \n",
      " batch_normalization_75 (BatchN  (None, 32, 32, 16)  64          ['conv2d_84[0][0]']              \n",
      " ormalization)                                                                                    \n",
      "                                                                                                  \n",
      " activation_75 (Activation)     (None, 32, 32, 16)   0           ['batch_normalization_75[0][0]'] \n",
      "                                                                                                  \n",
      " conv2d_85 (Conv2D)             (None, 32, 32, 160)  23040       ['activation_75[0][0]']          \n",
      "                                                                                                  \n",
      " batch_normalization_76 (BatchN  (None, 32, 32, 160)  640        ['conv2d_85[0][0]']              \n",
      " ormalization)                                                                                    \n",
      "                                                                                                  \n",
      " activation_76 (Activation)     (None, 32, 32, 160)  0           ['batch_normalization_76[0][0]'] \n",
      "                                                                                                  \n",
      " conv2d_86 (Conv2D)             (None, 32, 32, 160)  230400      ['activation_76[0][0]']          \n",
      "                                                                                                  \n",
      " conv2d_87 (Conv2D)             (None, 32, 32, 160)  2560        ['activation_75[0][0]']          \n",
      "                                                                                                  \n",
      " add_36 (Add)                   (None, 32, 32, 160)  0           ['conv2d_86[0][0]',              \n",
      "                                                                  'conv2d_87[0][0]']              \n",
      "                                                                                                  \n",
      " batch_normalization_77 (BatchN  (None, 32, 32, 160)  640        ['add_36[0][0]']                 \n",
      " ormalization)                                                                                    \n",
      "                                                                                                  \n",
      " activation_77 (Activation)     (None, 32, 32, 160)  0           ['batch_normalization_77[0][0]'] \n",
      "                                                                                                  \n",
      " conv2d_88 (Conv2D)             (None, 32, 32, 160)  230400      ['activation_77[0][0]']          \n",
      "                                                                                                  \n",
      " batch_normalization_78 (BatchN  (None, 32, 32, 160)  640        ['conv2d_88[0][0]']              \n",
      " ormalization)                                                                                    \n",
      "                                                                                                  \n",
      " activation_78 (Activation)     (None, 32, 32, 160)  0           ['batch_normalization_78[0][0]'] \n",
      "                                                                                                  \n",
      " conv2d_89 (Conv2D)             (None, 32, 32, 160)  230400      ['activation_78[0][0]']          \n",
      "                                                                                                  \n",
      " add_37 (Add)                   (None, 32, 32, 160)  0           ['conv2d_89[0][0]',              \n",
      "                                                                  'add_36[0][0]']                 \n",
      "                                                                                                  \n",
      " batch_normalization_79 (BatchN  (None, 32, 32, 160)  640        ['add_37[0][0]']                 \n",
      " ormalization)                                                                                    \n",
      "                                                                                                  \n",
      " activation_79 (Activation)     (None, 32, 32, 160)  0           ['batch_normalization_79[0][0]'] \n",
      "                                                                                                  \n",
      " conv2d_90 (Conv2D)             (None, 32, 32, 160)  230400      ['activation_79[0][0]']          \n",
      "                                                                                                  \n",
      " batch_normalization_80 (BatchN  (None, 32, 32, 160)  640        ['conv2d_90[0][0]']              \n",
      " ormalization)                                                                                    \n",
      "                                                                                                  \n",
      " activation_80 (Activation)     (None, 32, 32, 160)  0           ['batch_normalization_80[0][0]'] \n",
      "                                                                                                  \n",
      " conv2d_91 (Conv2D)             (None, 32, 32, 160)  230400      ['activation_80[0][0]']          \n",
      "                                                                                                  \n",
      " add_38 (Add)                   (None, 32, 32, 160)  0           ['conv2d_91[0][0]',              \n",
      "                                                                  'add_37[0][0]']                 \n",
      "                                                                                                  \n",
      " batch_normalization_81 (BatchN  (None, 32, 32, 160)  640        ['add_38[0][0]']                 \n",
      " ormalization)                                                                                    \n",
      "                                                                                                  \n",
      " activation_81 (Activation)     (None, 32, 32, 160)  0           ['batch_normalization_81[0][0]'] \n",
      "                                                                                                  \n",
      " conv2d_92 (Conv2D)             (None, 32, 32, 160)  230400      ['activation_81[0][0]']          \n",
      "                                                                                                  \n",
      " batch_normalization_82 (BatchN  (None, 32, 32, 160)  640        ['conv2d_92[0][0]']              \n",
      " ormalization)                                                                                    \n",
      "                                                                                                  \n",
      " activation_82 (Activation)     (None, 32, 32, 160)  0           ['batch_normalization_82[0][0]'] \n",
      "                                                                                                  \n",
      " conv2d_93 (Conv2D)             (None, 32, 32, 160)  230400      ['activation_82[0][0]']          \n",
      "                                                                                                  \n",
      " add_39 (Add)                   (None, 32, 32, 160)  0           ['conv2d_93[0][0]',              \n",
      "                                                                  'add_38[0][0]']                 \n",
      "                                                                                                  \n",
      " batch_normalization_83 (BatchN  (None, 32, 32, 160)  640        ['add_39[0][0]']                 \n",
      " ormalization)                                                                                    \n",
      "                                                                                                  \n",
      " activation_83 (Activation)     (None, 32, 32, 160)  0           ['batch_normalization_83[0][0]'] \n",
      "                                                                                                  \n",
      " conv2d_94 (Conv2D)             (None, 16, 16, 320)  460800      ['activation_83[0][0]']          \n",
      "                                                                                                  \n",
      " batch_normalization_84 (BatchN  (None, 16, 16, 320)  1280       ['conv2d_94[0][0]']              \n",
      " ormalization)                                                                                    \n",
      "                                                                                                  \n",
      " activation_84 (Activation)     (None, 16, 16, 320)  0           ['batch_normalization_84[0][0]'] \n",
      "                                                                                                  \n",
      " conv2d_95 (Conv2D)             (None, 16, 16, 320)  921600      ['activation_84[0][0]']          \n",
      "                                                                                                  \n",
      " conv2d_96 (Conv2D)             (None, 16, 16, 320)  51200       ['activation_83[0][0]']          \n",
      "                                                                                                  \n",
      " add_40 (Add)                   (None, 16, 16, 320)  0           ['conv2d_95[0][0]',              \n",
      "                                                                  'conv2d_96[0][0]']              \n",
      "                                                                                                  \n",
      " batch_normalization_85 (BatchN  (None, 16, 16, 320)  1280       ['add_40[0][0]']                 \n",
      " ormalization)                                                                                    \n",
      "                                                                                                  \n",
      " activation_85 (Activation)     (None, 16, 16, 320)  0           ['batch_normalization_85[0][0]'] \n",
      "                                                                                                  \n",
      " conv2d_97 (Conv2D)             (None, 16, 16, 320)  921600      ['activation_85[0][0]']          \n",
      "                                                                                                  \n",
      " batch_normalization_86 (BatchN  (None, 16, 16, 320)  1280       ['conv2d_97[0][0]']              \n",
      " ormalization)                                                                                    \n",
      "                                                                                                  \n",
      " activation_86 (Activation)     (None, 16, 16, 320)  0           ['batch_normalization_86[0][0]'] \n",
      "                                                                                                  \n",
      " conv2d_98 (Conv2D)             (None, 16, 16, 320)  921600      ['activation_86[0][0]']          \n",
      "                                                                                                  \n",
      " add_41 (Add)                   (None, 16, 16, 320)  0           ['conv2d_98[0][0]',              \n",
      "                                                                  'add_40[0][0]']                 \n",
      "                                                                                                  \n",
      " batch_normalization_87 (BatchN  (None, 16, 16, 320)  1280       ['add_41[0][0]']                 \n",
      " ormalization)                                                                                    \n",
      "                                                                                                  \n",
      " activation_87 (Activation)     (None, 16, 16, 320)  0           ['batch_normalization_87[0][0]'] \n",
      "                                                                                                  \n",
      " conv2d_99 (Conv2D)             (None, 16, 16, 320)  921600      ['activation_87[0][0]']          \n",
      "                                                                                                  \n",
      " batch_normalization_88 (BatchN  (None, 16, 16, 320)  1280       ['conv2d_99[0][0]']              \n",
      " ormalization)                                                                                    \n",
      "                                                                                                  \n",
      " activation_88 (Activation)     (None, 16, 16, 320)  0           ['batch_normalization_88[0][0]'] \n",
      "                                                                                                  \n",
      " conv2d_100 (Conv2D)            (None, 16, 16, 320)  921600      ['activation_88[0][0]']          \n",
      "                                                                                                  \n",
      " add_42 (Add)                   (None, 16, 16, 320)  0           ['conv2d_100[0][0]',             \n",
      "                                                                  'add_41[0][0]']                 \n",
      "                                                                                                  \n",
      " batch_normalization_89 (BatchN  (None, 16, 16, 320)  1280       ['add_42[0][0]']                 \n",
      " ormalization)                                                                                    \n",
      "                                                                                                  \n",
      " activation_89 (Activation)     (None, 16, 16, 320)  0           ['batch_normalization_89[0][0]'] \n",
      "                                                                                                  \n",
      " conv2d_101 (Conv2D)            (None, 16, 16, 320)  921600      ['activation_89[0][0]']          \n",
      "                                                                                                  \n",
      " batch_normalization_90 (BatchN  (None, 16, 16, 320)  1280       ['conv2d_101[0][0]']             \n",
      " ormalization)                                                                                    \n",
      "                                                                                                  \n",
      " activation_90 (Activation)     (None, 16, 16, 320)  0           ['batch_normalization_90[0][0]'] \n",
      "                                                                                                  \n",
      " conv2d_102 (Conv2D)            (None, 16, 16, 320)  921600      ['activation_90[0][0]']          \n",
      "                                                                                                  \n",
      " add_43 (Add)                   (None, 16, 16, 320)  0           ['conv2d_102[0][0]',             \n",
      "                                                                  'add_42[0][0]']                 \n",
      "                                                                                                  \n",
      " batch_normalization_91 (BatchN  (None, 16, 16, 320)  1280       ['add_43[0][0]']                 \n",
      " ormalization)                                                                                    \n",
      "                                                                                                  \n",
      " activation_91 (Activation)     (None, 16, 16, 320)  0           ['batch_normalization_91[0][0]'] \n",
      "                                                                                                  \n",
      " conv2d_103 (Conv2D)            (None, 8, 8, 640)    1843200     ['activation_91[0][0]']          \n",
      "                                                                                                  \n",
      " batch_normalization_92 (BatchN  (None, 8, 8, 640)   2560        ['conv2d_103[0][0]']             \n",
      " ormalization)                                                                                    \n",
      "                                                                                                  \n",
      " activation_92 (Activation)     (None, 8, 8, 640)    0           ['batch_normalization_92[0][0]'] \n",
      "                                                                                                  \n",
      " conv2d_104 (Conv2D)            (None, 8, 8, 640)    3686400     ['activation_92[0][0]']          \n",
      "                                                                                                  \n",
      " conv2d_105 (Conv2D)            (None, 8, 8, 640)    204800      ['activation_91[0][0]']          \n",
      "                                                                                                  \n",
      " add_44 (Add)                   (None, 8, 8, 640)    0           ['conv2d_104[0][0]',             \n",
      "                                                                  'conv2d_105[0][0]']             \n",
      "                                                                                                  \n",
      " batch_normalization_93 (BatchN  (None, 8, 8, 640)   2560        ['add_44[0][0]']                 \n",
      " ormalization)                                                                                    \n",
      "                                                                                                  \n",
      " activation_93 (Activation)     (None, 8, 8, 640)    0           ['batch_normalization_93[0][0]'] \n",
      "                                                                                                  \n",
      " conv2d_106 (Conv2D)            (None, 8, 8, 640)    3686400     ['activation_93[0][0]']          \n",
      "                                                                                                  \n",
      " batch_normalization_94 (BatchN  (None, 8, 8, 640)   2560        ['conv2d_106[0][0]']             \n",
      " ormalization)                                                                                    \n",
      "                                                                                                  \n",
      " activation_94 (Activation)     (None, 8, 8, 640)    0           ['batch_normalization_94[0][0]'] \n",
      "                                                                                                  \n",
      " conv2d_107 (Conv2D)            (None, 8, 8, 640)    3686400     ['activation_94[0][0]']          \n",
      "                                                                                                  \n",
      " add_45 (Add)                   (None, 8, 8, 640)    0           ['conv2d_107[0][0]',             \n",
      "                                                                  'add_44[0][0]']                 \n",
      "                                                                                                  \n",
      " batch_normalization_95 (BatchN  (None, 8, 8, 640)   2560        ['add_45[0][0]']                 \n",
      " ormalization)                                                                                    \n",
      "                                                                                                  \n",
      " activation_95 (Activation)     (None, 8, 8, 640)    0           ['batch_normalization_95[0][0]'] \n",
      "                                                                                                  \n",
      " conv2d_108 (Conv2D)            (None, 8, 8, 640)    3686400     ['activation_95[0][0]']          \n",
      "                                                                                                  \n",
      " batch_normalization_96 (BatchN  (None, 8, 8, 640)   2560        ['conv2d_108[0][0]']             \n",
      " ormalization)                                                                                    \n",
      "                                                                                                  \n",
      " activation_96 (Activation)     (None, 8, 8, 640)    0           ['batch_normalization_96[0][0]'] \n",
      "                                                                                                  \n",
      " conv2d_109 (Conv2D)            (None, 8, 8, 640)    3686400     ['activation_96[0][0]']          \n",
      "                                                                                                  \n",
      " add_46 (Add)                   (None, 8, 8, 640)    0           ['conv2d_109[0][0]',             \n",
      "                                                                  'add_45[0][0]']                 \n",
      "                                                                                                  \n",
      " batch_normalization_97 (BatchN  (None, 8, 8, 640)   2560        ['add_46[0][0]']                 \n",
      " ormalization)                                                                                    \n",
      "                                                                                                  \n",
      " activation_97 (Activation)     (None, 8, 8, 640)    0           ['batch_normalization_97[0][0]'] \n",
      "                                                                                                  \n",
      " conv2d_110 (Conv2D)            (None, 8, 8, 640)    3686400     ['activation_97[0][0]']          \n",
      "                                                                                                  \n",
      " batch_normalization_98 (BatchN  (None, 8, 8, 640)   2560        ['conv2d_110[0][0]']             \n",
      " ormalization)                                                                                    \n",
      "                                                                                                  \n",
      " activation_98 (Activation)     (None, 8, 8, 640)    0           ['batch_normalization_98[0][0]'] \n",
      "                                                                                                  \n",
      " branch_conv2d (Conv2D)         (None, 30, 30, 160)  230560      ['activation_83[0][0]']          \n",
      "                                                                                                  \n",
      " branch_conv2d_3 (Conv2D)       (None, 14, 14, 320)  921920      ['activation_91[0][0]']          \n",
      "                                                                                                  \n",
      " conv2d_111 (Conv2D)            (None, 8, 8, 640)    3686400     ['activation_98[0][0]']          \n",
      "                                                                                                  \n",
      " branch_batchnorm (BatchNormali  (None, 30, 30, 160)  640        ['branch_conv2d[0][0]']          \n",
      " zation)                                                                                          \n",
      "                                                                                                  \n",
      " branch_batchnorm_2 (BatchNorma  (None, 14, 14, 320)  1280       ['branch_conv2d_3[0][0]']        \n",
      " lization)                                                                                        \n",
      "                                                                                                  \n",
      " add_47 (Add)                   (None, 8, 8, 640)    0           ['conv2d_111[0][0]',             \n",
      "                                                                  'add_46[0][0]']                 \n",
      "                                                                                                  \n",
      " branch_conv2d_1 (Conv2D)       (None, 28, 28, 160)  230560      ['branch_batchnorm[0][0]']       \n",
      "                                                                                                  \n",
      " branch_conv2d_4 (Conv2D)       (None, 12, 12, 320)  921920      ['branch_batchnorm_2[0][0]']     \n",
      "                                                                                                  \n",
      " batch_normalization_99 (BatchN  (None, 8, 8, 640)   2560        ['add_47[0][0]']                 \n",
      " ormalization)                                                                                    \n",
      "                                                                                                  \n",
      " branch_batchnorm_1 (BatchNorma  (None, 28, 28, 160)  640        ['branch_conv2d_1[0][0]']        \n",
      " lization)                                                                                        \n",
      "                                                                                                  \n",
      " branch_batchnorm_3 (BatchNorma  (None, 12, 12, 320)  1280       ['branch_conv2d_4[0][0]']        \n",
      " lization)                                                                                        \n",
      "                                                                                                  \n",
      " activation_99 (Activation)     (None, 8, 8, 640)    0           ['batch_normalization_99[0][0]'] \n",
      "                                                                                                  \n",
      " branch_conv2d_2 (Conv2D)       (None, 26, 26, 360)  518760      ['branch_batchnorm_1[0][0]']     \n",
      "                                                                                                  \n",
      " branch_conv2d_5 (Conv2D)       (None, 10, 10, 440)  1267640     ['branch_batchnorm_3[0][0]']     \n",
      "                                                                                                  \n",
      " average_pooling2d_3 (AveragePo  (None, 8, 8, 640)   0           ['activation_99[0][0]']          \n",
      " oling2D)                                                                                         \n",
      "                                                                                                  \n",
      " branch_avgpool (AveragePooling  (None, 17, 17, 360)  0          ['branch_conv2d_2[0][0]']        \n",
      " 2D)                                                                                              \n",
      "                                                                                                  \n",
      " branch_avgpool_1 (AveragePooli  (None, 7, 7, 440)   0           ['branch_conv2d_5[0][0]']        \n",
      " ng2D)                                                                                            \n",
      "                                                                                                  \n",
      " flatten_3 (Flatten)            (None, 40960)        0           ['average_pooling2d_3[0][0]']    \n",
      "                                                                                                  \n",
      " branch_flatten (Flatten)       (None, 104040)       0           ['branch_avgpool[0][0]']         \n",
      "                                                                                                  \n",
      " branch_flatten_1 (Flatten)     (None, 21560)        0           ['branch_avgpool_1[0][0]']       \n",
      "                                                                                                  \n",
      " dense_3 (Dense)                (None, 10)           409600      ['flatten_3[0][0]']              \n",
      "                                                                                                  \n",
      " branch_exit (Dense)            (None, 10)           1040410     ['branch_flatten[0][0]']         \n",
      "                                                                                                  \n",
      " branch_exit_1 (Dense)          (None, 10)           215610      ['branch_flatten_1[0][0]']       \n",
      "                                                                                                  \n",
      "==================================================================================================\n",
      "Total params: 42,251,556\n",
      "Trainable params: 42,231,684\n",
      "Non-trainable params: 19,872\n",
      "__________________________________________________________________________________________________\n"
     ]
    }
   ],
   "source": [
    "import random\n",
    "seed = 42\n",
    "random.seed(seed)\n",
    "tf.random.set_seed(seed)\n",
    "np.random.seed(seed)\n",
    "tf.keras.backend.clear_session()\n",
    "\n",
    "\n",
    "# model = tf.keras.models.load_model('./models/resnet50_finetuned_brev.hdf5')\n",
    "# lambda_callback = lambda_update(10,0,max_t = .5, starting_epoch =1)\n",
    "\n",
    "class lambda_update(tf.keras.callbacks.Callback):\n",
    "    def __init__(self, annealing_max,  lambda_t=0, max_t=1, starting_epoch = 0):\n",
    "        self.starting_epoch = starting_epoch\n",
    "        self.start_val = tf.Variable(initial_value=lambda_t, dtype=tf.float32) \n",
    "        \n",
    "        self.lambda_t = tf.Variable(initial_value=lambda_t, dtype=tf.float32) #updates each epoch\n",
    "        self.max_t = tf.Variable(initial_value=max_t, dtype=tf.float32)\n",
    "        self.annealing_max = tf.Variable(initial_value=annealing_max, dtype=tf.float32)\n",
    "\n",
    "    def on_epoch_begin(self, epoch, logs={}): #needs to be on begin, otherwise the epoch update won't increase the value from 0 to 0.1 till the 3rd epoch...\n",
    "        val = 0\n",
    "        if epoch >= self.starting_epoch:\n",
    "            val = tf.reduce_min([self.max_t, tf.cast((epoch - self.starting_epoch) +self.start_val , tf.dtypes.float32) / tf.cast(self.annealing_max, tf.dtypes.float32)])\n",
    "        tf.print(\"annealing coef updated to:\", val)\n",
    "        self.lambda_t.assign(val)\n",
    "        \n",
    "class growth_update(lambda_update):\n",
    "    ''' callback update method that checks the performance of the model against the validation set to decide if the annealing coef should be increased.\n",
    "        provides greater control of the additional loss elements by updating their hyperparameters inteligently, rather then with only a preset schedule.\n",
    "        \n",
    "    '''\n",
    "    def __init__(self, annealing_max,  lambda_t=0, max_t=1, starting_epoch = 0):\n",
    "        self.starting_epoch = starting_epoch\n",
    "        self.start_val = tf.Variable(initial_value=lambda_t, dtype=tf.float32) \n",
    "        \n",
    "        self.step = tf.Variable(initial_value = 0,dtype=tf.float32)\n",
    "        self.lambda_t = tf.Variable(initial_value=lambda_t, dtype=tf.float32) #updates each epoch\n",
    "        self.max_t = tf.Variable(initial_value=max_t, dtype=tf.float32)\n",
    "        self.annealing_max = tf.Variable(initial_value=annealing_max, dtype=tf.float32)\n",
    "        \n",
    "        \n",
    "        self.training = tf.Variable(initial_value=False, dtype=tf.bool)              \n",
    "        self.past_val_acc= tf.Variable(initial_value =0, dtype=tf.float32)\n",
    "        self.val_acc= tf.Variable(initial_value =0, dtype=tf.float32)\n",
    "        \n",
    "    def on_training_begin(self, logs={}):\n",
    "        ''' indicate that training has begun, so val growth is an option.\n",
    "        '''\n",
    "        tf.print(\"training commenced, validation growth enabled\")\n",
    "        self.training.assign(True)\n",
    "#     def on_training_end(self, logs={}):\n",
    "#         ''' indicate that training has ended, so turn off val growth. Not sure if this is actually needed...\n",
    "#         '''\n",
    "#         tf.print(\"training commenced, validation growth enabled\")\n",
    "#         self.training.assign(False)\n",
    "    def on_epoch_begin(self, epoch, logs={}): #needs to be on begin, otherwise the epoch update won't increase the value from 0 to 0.1 till the 3rd epoch...\n",
    "        val = self.lambda_t\n",
    "        if epoch >= self.starting_epoch:\n",
    "            if self.val_acc >= self.past_val_acc:\n",
    "                \n",
    "                val = tf.reduce_min([self.max_t, tf.cast((self.step - self.starting_epoch) +self.start_val , tf.dtypes.float32) / tf.cast(self.annealing_max, tf.dtypes.float32)])\n",
    "                tf.print(\"annealing coef updated to:\", val)\n",
    "                self.lambda_t.assign(val)\n",
    "                self.past_val_acc.assign(self.val_acc)\n",
    "                self.step.assign(self.step + 1)\n",
    "            else:\n",
    "                tf.print(\"val acc did not improve from {}, annealing coef not updated, remains at:{}\".format(self.past_val_acc.numpy(), val.numpy()))\n",
    "     # tf.print(\"past val acc =\", self.past_val_acc)\n",
    "        # self.past_val_acc.assign(self.val_acc)\n",
    "        \n",
    "    def on_test_end(self, logs=None):\n",
    "        \"\"\" if training, save the performance results\n",
    "        \"\"\"\n",
    "        self.val_acc.assign(logs.get('branch_exit_1_accuracy')+ logs.get('branch_exit_accuracy'))\n",
    "        \n",
    "    \n",
    "class Auxloss(tf.keras.metrics.Metric):\n",
    "\n",
    "    def __init__(self, name='AuxLoss', **kwargs):\n",
    "        super(Auxloss, self).__init__(name=name, **kwargs)\n",
    "        self.step =  self.add_weight(name='tp', initializer='zeros')\n",
    "        self.step.assign(0)\n",
    "        self.energy = self.add_weight(name='tp', initializer='zeros')\n",
    "        \n",
    "    def update_state(self, Energy,batch_size):\n",
    "        self.step.assign_add(1)\n",
    "        self.energy.assign_add(Energy)\n",
    "        # tf.print(\"step:\",self.step,\"past_energy\",self.energy, \"energy\", Energy)\n",
    "        self.energy_avg.assign(self.energy/self.step)\n",
    "        # self.energy.assign(self.energy /self.step)\n",
    "\n",
    "    def result(self):\n",
    "        return self.energy_avg\n",
    "\n",
    "    def reset_states(self):\n",
    "        self.energy.assign(0)\n",
    "        self.step.assign(0)\n",
    "        \n",
    "        \n",
    "\n",
    "def loss_wrapper(lambda_callback: lambda_update):\n",
    "    ''' Loss function of Evidential Dirichlet Networks\n",
    "        Expected Mean Square Error + KL divergence\n",
    "    '''\n",
    "    def custom_loss_function(p, logits):\n",
    "    #     alpha = alpha + 1\n",
    "        evidence = exp_evidence(logits)\n",
    "        # evidence = tf.nn.softplus(logits)\n",
    "        alpha = evidence + 1\n",
    "        S = tf.reduce_sum(alpha,axis=1,keepdims=True) \n",
    "        E = alpha - 1\n",
    "        m = alpha / S\n",
    "        A = tf.reduce_sum((p-m)**2, axis=1, keepdims=True) \n",
    "        B = tf.reduce_sum(alpha*(S-alpha)/(S*S*(S+1)), axis=1, keepdims=True) \n",
    "        annealing_coef =  lambda_callback.lambda_t\n",
    "        \n",
    "        bool_mask = tf.cast(p,tf.bool)\n",
    "        ic_mask = tf.cast(1 - p,tf.bool)\n",
    "        ic_bool_mask = tf.cast(ic_mask,tf.bool)\n",
    "        ic_alpha_masked = tf.cast(tf.ragged.boolean_mask(alpha, ic_bool_mask).to_tensor(),tf.float32)\n",
    "        #### info reg\n",
    "        _A = (ic_alpha_masked -1) ** 2\n",
    "        B_1 = tf.math.polygamma(1.,ic_alpha_masked) \n",
    "        B_2 = tf.math.polygamma(1., tf.reduce_sum(ic_alpha_masked,axis=1,keepdims=True))\n",
    "        _B = (B_1 - B_2)\n",
    "        info_reg =  .5* tf.reduce_sum(_A * _B,axis=1)\n",
    "        info_reg = annealing_coef * (info_reg * 2)\n",
    "        \n",
    "        # annealing_coef =  0.0001\n",
    "        alp = E*(1-p) + 1 \n",
    "        # C =   annealing_coef * KL(alp,10)\n",
    "        C =   annealing_coef * DirichletKLLoss(p,logits, True)\n",
    "        D = 0.0001 * -tf.reduce_mean(tfp.distributions.Dirichlet(alpha).entropy())\n",
    "        return (A + B) + info_reg + D  #+ info_reg #+ C + D\n",
    "    return custom_loss_function   \n",
    "\n",
    "        \n",
    "def auxLoss(lambda_callback: lambda_update):\n",
    "    def auxloss(p, logits):\n",
    "        evidence = exp_evidence(logits)\n",
    "            # evidence = tf.nn.softplus(logits)\n",
    "        alpha = evidence + 1\n",
    "        S = tf.reduce_sum(alpha,axis=1,keepdims=True) \n",
    "        E = alpha - 1\n",
    "        m = alpha / S\n",
    "        A = tf.reduce_sum((p-m)**2, axis=1, keepdims=True) \n",
    "        B = tf.reduce_sum(alpha*(S-alpha)/(S*S*(S+1)), axis=1, keepdims=True) \n",
    "        annealing_coef =  lambda_callback.lambda_t\n",
    "\n",
    "        bool_mask = tf.cast(p,tf.bool)\n",
    "        ic_mask = tf.cast(1 - p,tf.bool)\n",
    "        ic_bool_mask = tf.cast(ic_mask,tf.bool)\n",
    "        ic_alpha_masked = tf.cast(tf.ragged.boolean_mask(alpha, ic_bool_mask).to_tensor(),tf.float32)\n",
    "        #### info reg\n",
    "        _A = (ic_alpha_masked -1) ** 2\n",
    "        B_1 = tf.math.polygamma(1.,ic_alpha_masked) \n",
    "        B_2 = tf.math.polygamma(1., tf.reduce_sum(ic_alpha_masked,axis=1,keepdims=True))\n",
    "        _B = (B_1 - B_2)\n",
    "        info_reg =  .5* tf.reduce_sum(_A * _B,axis=1)\n",
    "        info_reg = annealing_coef * (info_reg * 2)\n",
    "        \n",
    "        alp = E*(1-p) + 1 \n",
    "        # else:\n",
    "            # tf.print(\"metric\",annealing_coef)\n",
    "        # C =   annealing_coef * KL(alp,10)\n",
    "        C =   annealing_coef * DirichletKLLoss(p,logits, True)\n",
    "        D = 0.0001 * -tf.reduce_mean(tfp.distributions.Dirichlet(alpha).entropy())\n",
    "        # return (A + B) + C #+ D #+ info_reg #+ C + D\n",
    "        # tf.print(info_reg)\n",
    "        return tf.reduce_mean(info_reg+ D )\n",
    "    return auxloss    \n",
    "\n",
    "# branch_loss = brevisEnergy(lambda_callback)\n",
    "\n",
    "growth_callback = growth_update(50,1.,max_t = 0.1, starting_epoch =0)\n",
    "\n",
    "auxlossMetric = auxLoss(growth_callback)\n",
    "branch_loss = loss_wrapper(growth_callback)\n",
    "\n",
    "\n",
    "trunk_loss = keras.losses.CategoricalCrossentropy(from_logits=False)\n",
    "# branch_loss = keras.losses.CategoricalCrossentropy(from_logits=True)\n",
    "# loss = kl_loss(lambda_callback)\n",
    "earlyStop = tf.keras.callbacks.EarlyStopping(monitor=\"val_accuracy\",patience=4,restore_best_weights=True)\n",
    "\n",
    "\n",
    "model = brevis.BranchModel(name=\"./models/wideresnet_.81.hdf5\", custom_objects={})\n",
    "# model.add_branches([_branch_flat,_branch_flat],\n",
    "#                           [\"conv2_block1_out\",\"conv2_block3_out\",\n",
    "#                             # \"dense\"\n",
    "#                           ],\n",
    "#                           target_input=False,loop=False,num_outputs=10)\n",
    "\n",
    "model.add_branches([_branch_conv1,_branch_conv2],\n",
    "                          [\"activation_83\",\"activation_91\",#\"mixed6\"\n",
    "                          ],\n",
    "                          target_input=False,loop=False,num_outputs=10)\n",
    "# model.compile(loss = [trunk_loss,loss_fn,loss_fn], optimizer=tf.optimizers.SGD(learning_rate=0.001, momentum=0.9),metrics=['accuracy'])\n",
    "model.compile(loss=[trunk_loss,branch_loss,branch_loss], \n",
    "                  optimizer=tf.optimizers.SGD(learning_rate=0.1, momentum=0.9),\n",
    "                  # optimizer=\"adam\",\n",
    "              preset=\"\", metrics=['accuracy'])\n",
    "\n",
    "model.summary()\n",
    "# model.fit(train_ds, epochs = 10, validation_data=validation_ds, transfer=True,callbacks=[growth_callback])"
   ]
  },
  {
   "cell_type": "code",
   "execution_count": 24,
   "id": "ca1b2baf-4c7e-4635-8027-8a2aadf6f1a2",
   "metadata": {},
   "outputs": [
    {
     "name": "stdout",
     "output_type": "stream",
     "text": [
      "Freezing Main Layers and setting branch layers training to true\n",
      "annealing coef updated to: 0\n",
      "Epoch 1/10\n",
      "1407/1407 [==============================] - 279s 194ms/step - loss: 1.6783 - dense_3_loss: 0.2900 - branch_exit_loss: 0.5651 - branch_exit_1_loss: 0.4664 - dense_3_accuracy: 0.8987 - branch_exit_accuracy: 0.5643 - branch_exit_1_accuracy: 0.6449 - val_loss: 1.5812 - val_dense_3_loss: 0.3948 - val_branch_exit_loss: 0.4665 - val_branch_exit_1_loss: 0.3687 - val_dense_3_accuracy: 0.8628 - val_branch_exit_accuracy: 0.6562 - val_branch_exit_1_accuracy: 0.7368\n",
      "annealing coef updated to: 0.02\n",
      "Epoch 2/10\n",
      "1407/1407 [==============================] - 273s 194ms/step - loss: 1.6455 - dense_3_loss: 0.2366 - branch_exit_loss: 0.6632 - branch_exit_1_loss: 0.4020 - dense_3_accuracy: 0.9190 - branch_exit_accuracy: 0.5183 - branch_exit_1_accuracy: 0.7716 - val_loss: 1.9306 - val_dense_3_loss: 0.4234 - val_branch_exit_loss: 0.7422 - val_branch_exit_1_loss: 0.4252 - val_dense_3_accuracy: 0.8536 - val_branch_exit_accuracy: 0.5008 - val_branch_exit_1_accuracy: 0.7508\n",
      "val acc did not improve from 1.3930000066757202, annealing coef not updated, remains at:0.019999999552965164\n",
      "Epoch 3/10\n",
      "1407/1407 [==============================] - 272s 194ms/step - loss: 1.4260 - dense_3_loss: 0.2226 - branch_exit_loss: 0.5528 - branch_exit_1_loss: 0.3145 - dense_3_accuracy: 0.9227 - branch_exit_accuracy: 0.6236 - branch_exit_1_accuracy: 0.8274 - val_loss: 2.3927 - val_dense_3_loss: 0.7917 - val_branch_exit_loss: 0.7545 - val_branch_exit_1_loss: 0.5122 - val_dense_3_accuracy: 0.7482 - val_branch_exit_accuracy: 0.4892 - val_branch_exit_1_accuracy: 0.7020\n",
      "val acc did not improve from 1.3930000066757202, annealing coef not updated, remains at:0.019999999552965164\n",
      "Epoch 4/10\n",
      "1407/1407 [==============================] - 272s 193ms/step - loss: 1.3198 - dense_3_loss: 0.2082 - branch_exit_loss: 0.5021 - branch_exit_1_loss: 0.2768 - dense_3_accuracy: 0.9284 - branch_exit_accuracy: 0.6714 - branch_exit_1_accuracy: 0.8493 - val_loss: 1.7531 - val_dense_3_loss: 0.4615 - val_branch_exit_loss: 0.5947 - val_branch_exit_1_loss: 0.3649 - val_dense_3_accuracy: 0.8518 - val_branch_exit_accuracy: 0.6330 - val_branch_exit_1_accuracy: 0.7928\n",
      "annealing coef updated to: 0.04\n",
      "Epoch 5/10\n",
      "1407/1407 [==============================] - 272s 193ms/step - loss: 1.3106 - dense_3_loss: 0.2086 - branch_exit_loss: 0.4934 - branch_exit_1_loss: 0.2756 - dense_3_accuracy: 0.9279 - branch_exit_accuracy: 0.6999 - branch_exit_1_accuracy: 0.8598 - val_loss: 1.7349 - val_dense_3_loss: 0.4987 - val_branch_exit_loss: 0.5277 - val_branch_exit_1_loss: 0.3730 - val_dense_3_accuracy: 0.8362 - val_branch_exit_accuracy: 0.6768 - val_branch_exit_1_accuracy: 0.8056\n",
      "annealing coef updated to: 0.06\n",
      "Epoch 6/10\n",
      "1407/1407 [==============================] - 272s 193ms/step - loss: 1.3266 - dense_3_loss: 0.2004 - branch_exit_loss: 0.5251 - branch_exit_1_loss: 0.2654 - dense_3_accuracy: 0.9312 - branch_exit_accuracy: 0.6756 - branch_exit_1_accuracy: 0.8747 - val_loss: 1.9763 - val_dense_3_loss: 0.5440 - val_branch_exit_loss: 0.7076 - val_branch_exit_1_loss: 0.3850 - val_dense_3_accuracy: 0.8196 - val_branch_exit_accuracy: 0.5808 - val_branch_exit_1_accuracy: 0.8064\n",
      "val acc did not improve from 1.4823999404907227, annealing coef not updated, remains at:0.05999999865889549\n",
      "Epoch 7/10\n",
      "1407/1407 [==============================] - 272s 193ms/step - loss: 1.3019 - dense_3_loss: 0.1950 - branch_exit_loss: 0.5236 - branch_exit_1_loss: 0.2439 - dense_3_accuracy: 0.9315 - branch_exit_accuracy: 0.6602 - branch_exit_1_accuracy: 0.8835 - val_loss: 1.7746 - val_dense_3_loss: 0.4967 - val_branch_exit_loss: 0.5678 - val_branch_exit_1_loss: 0.3689 - val_dense_3_accuracy: 0.8466 - val_branch_exit_accuracy: 0.6408 - val_branch_exit_1_accuracy: 0.8126\n",
      "val acc did not improve from 1.4823999404907227, annealing coef not updated, remains at:0.05999999865889549\n",
      "Epoch 8/10\n",
      "1407/1407 [==============================] - 272s 193ms/step - loss: 1.2351 - dense_3_loss: 0.1799 - branch_exit_loss: 0.4907 - branch_exit_1_loss: 0.2239 - dense_3_accuracy: 0.9376 - branch_exit_accuracy: 0.6784 - branch_exit_1_accuracy: 0.8959 - val_loss: 1.9812 - val_dense_3_loss: 0.6672 - val_branch_exit_loss: 0.5480 - val_branch_exit_1_loss: 0.4256 - val_dense_3_accuracy: 0.7954 - val_branch_exit_accuracy: 0.6618 - val_branch_exit_1_accuracy: 0.8066\n",
      "val acc did not improve from 1.4823999404907227, annealing coef not updated, remains at:0.05999999865889549\n",
      "Epoch 9/10\n",
      " 295/1407 [=====>........................] - ETA: 3:28 - loss: 1.1998 - dense_3_loss: 0.1668 - branch_exit_loss: 0.4786 - branch_exit_1_loss: 0.2144 - dense_3_accuracy: 0.9432 - branch_exit_accuracy: 0.6816 - branch_exit_1_accuracy: 0.8994"
     ]
    },
    {
     "ename": "KeyboardInterrupt",
     "evalue": "",
     "output_type": "error",
     "traceback": [
      "\u001b[1;31m---------------------------------------------------------------------------\u001b[0m",
      "\u001b[1;31mKeyboardInterrupt\u001b[0m                         Traceback (most recent call last)",
      "\u001b[1;32m~\\AppData\\Local\\Temp/ipykernel_53572/1351031116.py\u001b[0m in \u001b[0;36m<module>\u001b[1;34m\u001b[0m\n\u001b[1;32m----> 1\u001b[1;33m \u001b[0mmodel\u001b[0m\u001b[1;33m.\u001b[0m\u001b[0mfit\u001b[0m\u001b[1;33m(\u001b[0m\u001b[0mtrain_ds\u001b[0m\u001b[1;33m,\u001b[0m \u001b[0mepochs\u001b[0m \u001b[1;33m=\u001b[0m \u001b[1;36m10\u001b[0m\u001b[1;33m,\u001b[0m \u001b[0mvalidation_data\u001b[0m\u001b[1;33m=\u001b[0m\u001b[0mvalidation_ds\u001b[0m\u001b[1;33m,\u001b[0m \u001b[0mtransfer\u001b[0m\u001b[1;33m=\u001b[0m\u001b[1;32mTrue\u001b[0m\u001b[1;33m,\u001b[0m\u001b[0mcallbacks\u001b[0m\u001b[1;33m=\u001b[0m\u001b[1;33m[\u001b[0m\u001b[0mgrowth_callback\u001b[0m\u001b[1;33m]\u001b[0m\u001b[1;33m)\u001b[0m\u001b[1;33m\u001b[0m\u001b[1;33m\u001b[0m\u001b[0m\n\u001b[0m",
      "\u001b[1;32m~\\Documents\\MachineLearning\\Keras_branchynet\\brevis\\core_v2.py\u001b[0m in \u001b[0;36mfit\u001b[1;34m(self, train_ds, validation_data, epochs, callbacks, saveName, transfer, customOptions)\u001b[0m\n\u001b[0;32m    556\u001b[0m                 \u001b[0mvalidation_data\u001b[0m\u001b[1;33m=\u001b[0m\u001b[0mvalidation_data\u001b[0m\u001b[1;33m,\u001b[0m\u001b[1;33m\u001b[0m\u001b[1;33m\u001b[0m\u001b[0m\n\u001b[0;32m    557\u001b[0m                 \u001b[0mvalidation_freq\u001b[0m\u001b[1;33m=\u001b[0m\u001b[1;36m1\u001b[0m\u001b[1;33m,\u001b[0m\u001b[1;33m\u001b[0m\u001b[1;33m\u001b[0m\u001b[0m\n\u001b[1;32m--> 558\u001b[1;33m                 callbacks=[tensorboard_cb]+callbacks)\n\u001b[0m\u001b[0;32m    559\u001b[0m         \u001b[1;31m# print(history)\u001b[0m\u001b[1;33m\u001b[0m\u001b[1;33m\u001b[0m\u001b[1;33m\u001b[0m\u001b[0m\n\u001b[0;32m    560\u001b[0m \u001b[1;33m\u001b[0m\u001b[0m\n",
      "\u001b[1;32m~\\AppData\\Local\\conda\\conda\\envs\\py36\\lib\\site-packages\\keras\\utils\\traceback_utils.py\u001b[0m in \u001b[0;36merror_handler\u001b[1;34m(*args, **kwargs)\u001b[0m\n\u001b[0;32m     62\u001b[0m     \u001b[0mfiltered_tb\u001b[0m \u001b[1;33m=\u001b[0m \u001b[1;32mNone\u001b[0m\u001b[1;33m\u001b[0m\u001b[1;33m\u001b[0m\u001b[0m\n\u001b[0;32m     63\u001b[0m     \u001b[1;32mtry\u001b[0m\u001b[1;33m:\u001b[0m\u001b[1;33m\u001b[0m\u001b[1;33m\u001b[0m\u001b[0m\n\u001b[1;32m---> 64\u001b[1;33m       \u001b[1;32mreturn\u001b[0m \u001b[0mfn\u001b[0m\u001b[1;33m(\u001b[0m\u001b[1;33m*\u001b[0m\u001b[0margs\u001b[0m\u001b[1;33m,\u001b[0m \u001b[1;33m**\u001b[0m\u001b[0mkwargs\u001b[0m\u001b[1;33m)\u001b[0m\u001b[1;33m\u001b[0m\u001b[1;33m\u001b[0m\u001b[0m\n\u001b[0m\u001b[0;32m     65\u001b[0m     \u001b[1;32mexcept\u001b[0m \u001b[0mException\u001b[0m \u001b[1;32mas\u001b[0m \u001b[0me\u001b[0m\u001b[1;33m:\u001b[0m  \u001b[1;31m# pylint: disable=broad-except\u001b[0m\u001b[1;33m\u001b[0m\u001b[1;33m\u001b[0m\u001b[0m\n\u001b[0;32m     66\u001b[0m       \u001b[0mfiltered_tb\u001b[0m \u001b[1;33m=\u001b[0m \u001b[0m_process_traceback_frames\u001b[0m\u001b[1;33m(\u001b[0m\u001b[0me\u001b[0m\u001b[1;33m.\u001b[0m\u001b[0m__traceback__\u001b[0m\u001b[1;33m)\u001b[0m\u001b[1;33m\u001b[0m\u001b[1;33m\u001b[0m\u001b[0m\n",
      "\u001b[1;32m~\\AppData\\Local\\conda\\conda\\envs\\py36\\lib\\site-packages\\keras\\engine\\training.py\u001b[0m in \u001b[0;36mfit\u001b[1;34m(self, x, y, batch_size, epochs, verbose, callbacks, validation_split, validation_data, shuffle, class_weight, sample_weight, initial_epoch, steps_per_epoch, validation_steps, validation_batch_size, validation_freq, max_queue_size, workers, use_multiprocessing)\u001b[0m\n\u001b[0;32m   1387\u001b[0m               \u001b[0mlogs\u001b[0m \u001b[1;33m=\u001b[0m \u001b[0mtmp_logs\u001b[0m  \u001b[1;31m# No error, now safe to assign to logs.\u001b[0m\u001b[1;33m\u001b[0m\u001b[1;33m\u001b[0m\u001b[0m\n\u001b[0;32m   1388\u001b[0m               \u001b[0mend_step\u001b[0m \u001b[1;33m=\u001b[0m \u001b[0mstep\u001b[0m \u001b[1;33m+\u001b[0m \u001b[0mdata_handler\u001b[0m\u001b[1;33m.\u001b[0m\u001b[0mstep_increment\u001b[0m\u001b[1;33m\u001b[0m\u001b[1;33m\u001b[0m\u001b[0m\n\u001b[1;32m-> 1389\u001b[1;33m               \u001b[0mcallbacks\u001b[0m\u001b[1;33m.\u001b[0m\u001b[0mon_train_batch_end\u001b[0m\u001b[1;33m(\u001b[0m\u001b[0mend_step\u001b[0m\u001b[1;33m,\u001b[0m \u001b[0mlogs\u001b[0m\u001b[1;33m)\u001b[0m\u001b[1;33m\u001b[0m\u001b[1;33m\u001b[0m\u001b[0m\n\u001b[0m\u001b[0;32m   1390\u001b[0m               \u001b[1;32mif\u001b[0m \u001b[0mself\u001b[0m\u001b[1;33m.\u001b[0m\u001b[0mstop_training\u001b[0m\u001b[1;33m:\u001b[0m\u001b[1;33m\u001b[0m\u001b[1;33m\u001b[0m\u001b[0m\n\u001b[0;32m   1391\u001b[0m                 \u001b[1;32mbreak\u001b[0m\u001b[1;33m\u001b[0m\u001b[1;33m\u001b[0m\u001b[0m\n",
      "\u001b[1;32m~\\AppData\\Local\\conda\\conda\\envs\\py36\\lib\\site-packages\\keras\\callbacks.py\u001b[0m in \u001b[0;36mon_train_batch_end\u001b[1;34m(self, batch, logs)\u001b[0m\n\u001b[0;32m    436\u001b[0m     \"\"\"\n\u001b[0;32m    437\u001b[0m     \u001b[1;32mif\u001b[0m \u001b[0mself\u001b[0m\u001b[1;33m.\u001b[0m\u001b[0m_should_call_train_batch_hooks\u001b[0m\u001b[1;33m:\u001b[0m\u001b[1;33m\u001b[0m\u001b[1;33m\u001b[0m\u001b[0m\n\u001b[1;32m--> 438\u001b[1;33m       \u001b[0mself\u001b[0m\u001b[1;33m.\u001b[0m\u001b[0m_call_batch_hook\u001b[0m\u001b[1;33m(\u001b[0m\u001b[0mModeKeys\u001b[0m\u001b[1;33m.\u001b[0m\u001b[0mTRAIN\u001b[0m\u001b[1;33m,\u001b[0m \u001b[1;34m'end'\u001b[0m\u001b[1;33m,\u001b[0m \u001b[0mbatch\u001b[0m\u001b[1;33m,\u001b[0m \u001b[0mlogs\u001b[0m\u001b[1;33m=\u001b[0m\u001b[0mlogs\u001b[0m\u001b[1;33m)\u001b[0m\u001b[1;33m\u001b[0m\u001b[1;33m\u001b[0m\u001b[0m\n\u001b[0m\u001b[0;32m    439\u001b[0m \u001b[1;33m\u001b[0m\u001b[0m\n\u001b[0;32m    440\u001b[0m   \u001b[1;32mdef\u001b[0m \u001b[0mon_test_batch_begin\u001b[0m\u001b[1;33m(\u001b[0m\u001b[0mself\u001b[0m\u001b[1;33m,\u001b[0m \u001b[0mbatch\u001b[0m\u001b[1;33m,\u001b[0m \u001b[0mlogs\u001b[0m\u001b[1;33m=\u001b[0m\u001b[1;32mNone\u001b[0m\u001b[1;33m)\u001b[0m\u001b[1;33m:\u001b[0m\u001b[1;33m\u001b[0m\u001b[1;33m\u001b[0m\u001b[0m\n",
      "\u001b[1;32m~\\AppData\\Local\\conda\\conda\\envs\\py36\\lib\\site-packages\\keras\\callbacks.py\u001b[0m in \u001b[0;36m_call_batch_hook\u001b[1;34m(self, mode, hook, batch, logs)\u001b[0m\n\u001b[0;32m    295\u001b[0m       \u001b[0mself\u001b[0m\u001b[1;33m.\u001b[0m\u001b[0m_call_batch_begin_hook\u001b[0m\u001b[1;33m(\u001b[0m\u001b[0mmode\u001b[0m\u001b[1;33m,\u001b[0m \u001b[0mbatch\u001b[0m\u001b[1;33m,\u001b[0m \u001b[0mlogs\u001b[0m\u001b[1;33m)\u001b[0m\u001b[1;33m\u001b[0m\u001b[1;33m\u001b[0m\u001b[0m\n\u001b[0;32m    296\u001b[0m     \u001b[1;32melif\u001b[0m \u001b[0mhook\u001b[0m \u001b[1;33m==\u001b[0m \u001b[1;34m'end'\u001b[0m\u001b[1;33m:\u001b[0m\u001b[1;33m\u001b[0m\u001b[1;33m\u001b[0m\u001b[0m\n\u001b[1;32m--> 297\u001b[1;33m       \u001b[0mself\u001b[0m\u001b[1;33m.\u001b[0m\u001b[0m_call_batch_end_hook\u001b[0m\u001b[1;33m(\u001b[0m\u001b[0mmode\u001b[0m\u001b[1;33m,\u001b[0m \u001b[0mbatch\u001b[0m\u001b[1;33m,\u001b[0m \u001b[0mlogs\u001b[0m\u001b[1;33m)\u001b[0m\u001b[1;33m\u001b[0m\u001b[1;33m\u001b[0m\u001b[0m\n\u001b[0m\u001b[0;32m    298\u001b[0m     \u001b[1;32melse\u001b[0m\u001b[1;33m:\u001b[0m\u001b[1;33m\u001b[0m\u001b[1;33m\u001b[0m\u001b[0m\n\u001b[0;32m    299\u001b[0m       raise ValueError(\n",
      "\u001b[1;32m~\\AppData\\Local\\conda\\conda\\envs\\py36\\lib\\site-packages\\keras\\callbacks.py\u001b[0m in \u001b[0;36m_call_batch_end_hook\u001b[1;34m(self, mode, batch, logs)\u001b[0m\n\u001b[0;32m    316\u001b[0m       \u001b[0mself\u001b[0m\u001b[1;33m.\u001b[0m\u001b[0m_batch_times\u001b[0m\u001b[1;33m.\u001b[0m\u001b[0mappend\u001b[0m\u001b[1;33m(\u001b[0m\u001b[0mbatch_time\u001b[0m\u001b[1;33m)\u001b[0m\u001b[1;33m\u001b[0m\u001b[1;33m\u001b[0m\u001b[0m\n\u001b[0;32m    317\u001b[0m \u001b[1;33m\u001b[0m\u001b[0m\n\u001b[1;32m--> 318\u001b[1;33m     \u001b[0mself\u001b[0m\u001b[1;33m.\u001b[0m\u001b[0m_call_batch_hook_helper\u001b[0m\u001b[1;33m(\u001b[0m\u001b[0mhook_name\u001b[0m\u001b[1;33m,\u001b[0m \u001b[0mbatch\u001b[0m\u001b[1;33m,\u001b[0m \u001b[0mlogs\u001b[0m\u001b[1;33m)\u001b[0m\u001b[1;33m\u001b[0m\u001b[1;33m\u001b[0m\u001b[0m\n\u001b[0m\u001b[0;32m    319\u001b[0m \u001b[1;33m\u001b[0m\u001b[0m\n\u001b[0;32m    320\u001b[0m     \u001b[1;32mif\u001b[0m \u001b[0mlen\u001b[0m\u001b[1;33m(\u001b[0m\u001b[0mself\u001b[0m\u001b[1;33m.\u001b[0m\u001b[0m_batch_times\u001b[0m\u001b[1;33m)\u001b[0m \u001b[1;33m>=\u001b[0m \u001b[0mself\u001b[0m\u001b[1;33m.\u001b[0m\u001b[0m_num_batches_for_timing_check\u001b[0m\u001b[1;33m:\u001b[0m\u001b[1;33m\u001b[0m\u001b[1;33m\u001b[0m\u001b[0m\n",
      "\u001b[1;32m~\\AppData\\Local\\conda\\conda\\envs\\py36\\lib\\site-packages\\keras\\callbacks.py\u001b[0m in \u001b[0;36m_call_batch_hook_helper\u001b[1;34m(self, hook_name, batch, logs)\u001b[0m\n\u001b[0;32m    354\u001b[0m     \u001b[1;32mfor\u001b[0m \u001b[0mcallback\u001b[0m \u001b[1;32min\u001b[0m \u001b[0mself\u001b[0m\u001b[1;33m.\u001b[0m\u001b[0mcallbacks\u001b[0m\u001b[1;33m:\u001b[0m\u001b[1;33m\u001b[0m\u001b[1;33m\u001b[0m\u001b[0m\n\u001b[0;32m    355\u001b[0m       \u001b[0mhook\u001b[0m \u001b[1;33m=\u001b[0m \u001b[0mgetattr\u001b[0m\u001b[1;33m(\u001b[0m\u001b[0mcallback\u001b[0m\u001b[1;33m,\u001b[0m \u001b[0mhook_name\u001b[0m\u001b[1;33m)\u001b[0m\u001b[1;33m\u001b[0m\u001b[1;33m\u001b[0m\u001b[0m\n\u001b[1;32m--> 356\u001b[1;33m       \u001b[0mhook\u001b[0m\u001b[1;33m(\u001b[0m\u001b[0mbatch\u001b[0m\u001b[1;33m,\u001b[0m \u001b[0mlogs\u001b[0m\u001b[1;33m)\u001b[0m\u001b[1;33m\u001b[0m\u001b[1;33m\u001b[0m\u001b[0m\n\u001b[0m\u001b[0;32m    357\u001b[0m \u001b[1;33m\u001b[0m\u001b[0m\n\u001b[0;32m    358\u001b[0m     \u001b[1;32mif\u001b[0m \u001b[0mself\u001b[0m\u001b[1;33m.\u001b[0m\u001b[0m_check_timing\u001b[0m\u001b[1;33m:\u001b[0m\u001b[1;33m\u001b[0m\u001b[1;33m\u001b[0m\u001b[0m\n",
      "\u001b[1;32m~\\AppData\\Local\\conda\\conda\\envs\\py36\\lib\\site-packages\\keras\\callbacks.py\u001b[0m in \u001b[0;36mon_train_batch_end\u001b[1;34m(self, batch, logs)\u001b[0m\n\u001b[0;32m   1032\u001b[0m \u001b[1;33m\u001b[0m\u001b[0m\n\u001b[0;32m   1033\u001b[0m   \u001b[1;32mdef\u001b[0m \u001b[0mon_train_batch_end\u001b[0m\u001b[1;33m(\u001b[0m\u001b[0mself\u001b[0m\u001b[1;33m,\u001b[0m \u001b[0mbatch\u001b[0m\u001b[1;33m,\u001b[0m \u001b[0mlogs\u001b[0m\u001b[1;33m=\u001b[0m\u001b[1;32mNone\u001b[0m\u001b[1;33m)\u001b[0m\u001b[1;33m:\u001b[0m\u001b[1;33m\u001b[0m\u001b[1;33m\u001b[0m\u001b[0m\n\u001b[1;32m-> 1034\u001b[1;33m     \u001b[0mself\u001b[0m\u001b[1;33m.\u001b[0m\u001b[0m_batch_update_progbar\u001b[0m\u001b[1;33m(\u001b[0m\u001b[0mbatch\u001b[0m\u001b[1;33m,\u001b[0m \u001b[0mlogs\u001b[0m\u001b[1;33m)\u001b[0m\u001b[1;33m\u001b[0m\u001b[1;33m\u001b[0m\u001b[0m\n\u001b[0m\u001b[0;32m   1035\u001b[0m \u001b[1;33m\u001b[0m\u001b[0m\n\u001b[0;32m   1036\u001b[0m   \u001b[1;32mdef\u001b[0m \u001b[0mon_test_batch_end\u001b[0m\u001b[1;33m(\u001b[0m\u001b[0mself\u001b[0m\u001b[1;33m,\u001b[0m \u001b[0mbatch\u001b[0m\u001b[1;33m,\u001b[0m \u001b[0mlogs\u001b[0m\u001b[1;33m=\u001b[0m\u001b[1;32mNone\u001b[0m\u001b[1;33m)\u001b[0m\u001b[1;33m:\u001b[0m\u001b[1;33m\u001b[0m\u001b[1;33m\u001b[0m\u001b[0m\n",
      "\u001b[1;32m~\\AppData\\Local\\conda\\conda\\envs\\py36\\lib\\site-packages\\keras\\callbacks.py\u001b[0m in \u001b[0;36m_batch_update_progbar\u001b[1;34m(self, batch, logs)\u001b[0m\n\u001b[0;32m   1104\u001b[0m     \u001b[1;32mif\u001b[0m \u001b[0mself\u001b[0m\u001b[1;33m.\u001b[0m\u001b[0mverbose\u001b[0m \u001b[1;33m==\u001b[0m \u001b[1;36m1\u001b[0m\u001b[1;33m:\u001b[0m\u001b[1;33m\u001b[0m\u001b[1;33m\u001b[0m\u001b[0m\n\u001b[0;32m   1105\u001b[0m       \u001b[1;31m# Only block async when verbose = 1.\u001b[0m\u001b[1;33m\u001b[0m\u001b[1;33m\u001b[0m\u001b[1;33m\u001b[0m\u001b[0m\n\u001b[1;32m-> 1106\u001b[1;33m       \u001b[0mlogs\u001b[0m \u001b[1;33m=\u001b[0m \u001b[0mtf_utils\u001b[0m\u001b[1;33m.\u001b[0m\u001b[0msync_to_numpy_or_python_type\u001b[0m\u001b[1;33m(\u001b[0m\u001b[0mlogs\u001b[0m\u001b[1;33m)\u001b[0m\u001b[1;33m\u001b[0m\u001b[1;33m\u001b[0m\u001b[0m\n\u001b[0m\u001b[0;32m   1107\u001b[0m       \u001b[0mself\u001b[0m\u001b[1;33m.\u001b[0m\u001b[0mprogbar\u001b[0m\u001b[1;33m.\u001b[0m\u001b[0mupdate\u001b[0m\u001b[1;33m(\u001b[0m\u001b[0mself\u001b[0m\u001b[1;33m.\u001b[0m\u001b[0mseen\u001b[0m\u001b[1;33m,\u001b[0m \u001b[0mlist\u001b[0m\u001b[1;33m(\u001b[0m\u001b[0mlogs\u001b[0m\u001b[1;33m.\u001b[0m\u001b[0mitems\u001b[0m\u001b[1;33m(\u001b[0m\u001b[1;33m)\u001b[0m\u001b[1;33m)\u001b[0m\u001b[1;33m,\u001b[0m \u001b[0mfinalize\u001b[0m\u001b[1;33m=\u001b[0m\u001b[1;32mFalse\u001b[0m\u001b[1;33m)\u001b[0m\u001b[1;33m\u001b[0m\u001b[1;33m\u001b[0m\u001b[0m\n\u001b[0;32m   1108\u001b[0m \u001b[1;33m\u001b[0m\u001b[0m\n",
      "\u001b[1;32m~\\AppData\\Local\\conda\\conda\\envs\\py36\\lib\\site-packages\\keras\\utils\\tf_utils.py\u001b[0m in \u001b[0;36msync_to_numpy_or_python_type\u001b[1;34m(tensors)\u001b[0m\n\u001b[0;32m    561\u001b[0m     \u001b[1;32mreturn\u001b[0m \u001b[0mt\u001b[0m\u001b[1;33m.\u001b[0m\u001b[0mitem\u001b[0m\u001b[1;33m(\u001b[0m\u001b[1;33m)\u001b[0m \u001b[1;32mif\u001b[0m \u001b[0mnp\u001b[0m\u001b[1;33m.\u001b[0m\u001b[0mndim\u001b[0m\u001b[1;33m(\u001b[0m\u001b[0mt\u001b[0m\u001b[1;33m)\u001b[0m \u001b[1;33m==\u001b[0m \u001b[1;36m0\u001b[0m \u001b[1;32melse\u001b[0m \u001b[0mt\u001b[0m\u001b[1;33m\u001b[0m\u001b[1;33m\u001b[0m\u001b[0m\n\u001b[0;32m    562\u001b[0m \u001b[1;33m\u001b[0m\u001b[0m\n\u001b[1;32m--> 563\u001b[1;33m   \u001b[1;32mreturn\u001b[0m \u001b[0mtf\u001b[0m\u001b[1;33m.\u001b[0m\u001b[0mnest\u001b[0m\u001b[1;33m.\u001b[0m\u001b[0mmap_structure\u001b[0m\u001b[1;33m(\u001b[0m\u001b[0m_to_single_numpy_or_python_type\u001b[0m\u001b[1;33m,\u001b[0m \u001b[0mtensors\u001b[0m\u001b[1;33m)\u001b[0m\u001b[1;33m\u001b[0m\u001b[1;33m\u001b[0m\u001b[0m\n\u001b[0m\u001b[0;32m    564\u001b[0m \u001b[1;33m\u001b[0m\u001b[0m\n\u001b[0;32m    565\u001b[0m \u001b[1;33m\u001b[0m\u001b[0m\n",
      "\u001b[1;32m~\\AppData\\Local\\conda\\conda\\envs\\py36\\lib\\site-packages\\tensorflow\\python\\util\\nest.py\u001b[0m in \u001b[0;36mmap_structure\u001b[1;34m(func, *structure, **kwargs)\u001b[0m\n\u001b[0;32m    912\u001b[0m \u001b[1;33m\u001b[0m\u001b[0m\n\u001b[0;32m    913\u001b[0m   return pack_sequence_as(\n\u001b[1;32m--> 914\u001b[1;33m       \u001b[0mstructure\u001b[0m\u001b[1;33m[\u001b[0m\u001b[1;36m0\u001b[0m\u001b[1;33m]\u001b[0m\u001b[1;33m,\u001b[0m \u001b[1;33m[\u001b[0m\u001b[0mfunc\u001b[0m\u001b[1;33m(\u001b[0m\u001b[1;33m*\u001b[0m\u001b[0mx\u001b[0m\u001b[1;33m)\u001b[0m \u001b[1;32mfor\u001b[0m \u001b[0mx\u001b[0m \u001b[1;32min\u001b[0m \u001b[0mentries\u001b[0m\u001b[1;33m]\u001b[0m\u001b[1;33m,\u001b[0m\u001b[1;33m\u001b[0m\u001b[1;33m\u001b[0m\u001b[0m\n\u001b[0m\u001b[0;32m    915\u001b[0m       expand_composites=expand_composites)\n\u001b[0;32m    916\u001b[0m \u001b[1;33m\u001b[0m\u001b[0m\n",
      "\u001b[1;32m~\\AppData\\Local\\conda\\conda\\envs\\py36\\lib\\site-packages\\tensorflow\\python\\util\\nest.py\u001b[0m in \u001b[0;36m<listcomp>\u001b[1;34m(.0)\u001b[0m\n\u001b[0;32m    912\u001b[0m \u001b[1;33m\u001b[0m\u001b[0m\n\u001b[0;32m    913\u001b[0m   return pack_sequence_as(\n\u001b[1;32m--> 914\u001b[1;33m       \u001b[0mstructure\u001b[0m\u001b[1;33m[\u001b[0m\u001b[1;36m0\u001b[0m\u001b[1;33m]\u001b[0m\u001b[1;33m,\u001b[0m \u001b[1;33m[\u001b[0m\u001b[0mfunc\u001b[0m\u001b[1;33m(\u001b[0m\u001b[1;33m*\u001b[0m\u001b[0mx\u001b[0m\u001b[1;33m)\u001b[0m \u001b[1;32mfor\u001b[0m \u001b[0mx\u001b[0m \u001b[1;32min\u001b[0m \u001b[0mentries\u001b[0m\u001b[1;33m]\u001b[0m\u001b[1;33m,\u001b[0m\u001b[1;33m\u001b[0m\u001b[1;33m\u001b[0m\u001b[0m\n\u001b[0m\u001b[0;32m    915\u001b[0m       expand_composites=expand_composites)\n\u001b[0;32m    916\u001b[0m \u001b[1;33m\u001b[0m\u001b[0m\n",
      "\u001b[1;32m~\\AppData\\Local\\conda\\conda\\envs\\py36\\lib\\site-packages\\keras\\utils\\tf_utils.py\u001b[0m in \u001b[0;36m_to_single_numpy_or_python_type\u001b[1;34m(t)\u001b[0m\n\u001b[0;32m    555\u001b[0m     \u001b[1;31m# Don't turn ragged or sparse tensors to NumPy.\u001b[0m\u001b[1;33m\u001b[0m\u001b[1;33m\u001b[0m\u001b[1;33m\u001b[0m\u001b[0m\n\u001b[0;32m    556\u001b[0m     \u001b[1;32mif\u001b[0m \u001b[0misinstance\u001b[0m\u001b[1;33m(\u001b[0m\u001b[0mt\u001b[0m\u001b[1;33m,\u001b[0m \u001b[0mtf\u001b[0m\u001b[1;33m.\u001b[0m\u001b[0mTensor\u001b[0m\u001b[1;33m)\u001b[0m\u001b[1;33m:\u001b[0m\u001b[1;33m\u001b[0m\u001b[1;33m\u001b[0m\u001b[0m\n\u001b[1;32m--> 557\u001b[1;33m       \u001b[0mt\u001b[0m \u001b[1;33m=\u001b[0m \u001b[0mt\u001b[0m\u001b[1;33m.\u001b[0m\u001b[0mnumpy\u001b[0m\u001b[1;33m(\u001b[0m\u001b[1;33m)\u001b[0m\u001b[1;33m\u001b[0m\u001b[1;33m\u001b[0m\u001b[0m\n\u001b[0m\u001b[0;32m    558\u001b[0m     \u001b[1;31m# Strings, ragged and sparse tensors don't have .item(). Return them as-is.\u001b[0m\u001b[1;33m\u001b[0m\u001b[1;33m\u001b[0m\u001b[1;33m\u001b[0m\u001b[0m\n\u001b[0;32m    559\u001b[0m     \u001b[1;32mif\u001b[0m \u001b[1;32mnot\u001b[0m \u001b[0misinstance\u001b[0m\u001b[1;33m(\u001b[0m\u001b[0mt\u001b[0m\u001b[1;33m,\u001b[0m \u001b[1;33m(\u001b[0m\u001b[0mnp\u001b[0m\u001b[1;33m.\u001b[0m\u001b[0mndarray\u001b[0m\u001b[1;33m,\u001b[0m \u001b[0mnp\u001b[0m\u001b[1;33m.\u001b[0m\u001b[0mgeneric\u001b[0m\u001b[1;33m)\u001b[0m\u001b[1;33m)\u001b[0m\u001b[1;33m:\u001b[0m\u001b[1;33m\u001b[0m\u001b[1;33m\u001b[0m\u001b[0m\n",
      "\u001b[1;32m~\\AppData\\Local\\conda\\conda\\envs\\py36\\lib\\site-packages\\tensorflow\\python\\framework\\ops.py\u001b[0m in \u001b[0;36mnumpy\u001b[1;34m(self)\u001b[0m\n\u001b[0;32m   1221\u001b[0m     \"\"\"\n\u001b[0;32m   1222\u001b[0m     \u001b[1;31m# TODO(slebedev): Consider avoiding a copy for non-CPU or remote tensors.\u001b[0m\u001b[1;33m\u001b[0m\u001b[1;33m\u001b[0m\u001b[1;33m\u001b[0m\u001b[0m\n\u001b[1;32m-> 1223\u001b[1;33m     \u001b[0mmaybe_arr\u001b[0m \u001b[1;33m=\u001b[0m \u001b[0mself\u001b[0m\u001b[1;33m.\u001b[0m\u001b[0m_numpy\u001b[0m\u001b[1;33m(\u001b[0m\u001b[1;33m)\u001b[0m  \u001b[1;31m# pylint: disable=protected-access\u001b[0m\u001b[1;33m\u001b[0m\u001b[1;33m\u001b[0m\u001b[0m\n\u001b[0m\u001b[0;32m   1224\u001b[0m     \u001b[1;32mreturn\u001b[0m \u001b[0mmaybe_arr\u001b[0m\u001b[1;33m.\u001b[0m\u001b[0mcopy\u001b[0m\u001b[1;33m(\u001b[0m\u001b[1;33m)\u001b[0m \u001b[1;32mif\u001b[0m \u001b[0misinstance\u001b[0m\u001b[1;33m(\u001b[0m\u001b[0mmaybe_arr\u001b[0m\u001b[1;33m,\u001b[0m \u001b[0mnp\u001b[0m\u001b[1;33m.\u001b[0m\u001b[0mndarray\u001b[0m\u001b[1;33m)\u001b[0m \u001b[1;32melse\u001b[0m \u001b[0mmaybe_arr\u001b[0m\u001b[1;33m\u001b[0m\u001b[1;33m\u001b[0m\u001b[0m\n\u001b[0;32m   1225\u001b[0m \u001b[1;33m\u001b[0m\u001b[0m\n",
      "\u001b[1;32m~\\AppData\\Local\\conda\\conda\\envs\\py36\\lib\\site-packages\\tensorflow\\python\\framework\\ops.py\u001b[0m in \u001b[0;36m_numpy\u001b[1;34m(self)\u001b[0m\n\u001b[0;32m   1187\u001b[0m   \u001b[1;32mdef\u001b[0m \u001b[0m_numpy\u001b[0m\u001b[1;33m(\u001b[0m\u001b[0mself\u001b[0m\u001b[1;33m)\u001b[0m\u001b[1;33m:\u001b[0m\u001b[1;33m\u001b[0m\u001b[1;33m\u001b[0m\u001b[0m\n\u001b[0;32m   1188\u001b[0m     \u001b[1;32mtry\u001b[0m\u001b[1;33m:\u001b[0m\u001b[1;33m\u001b[0m\u001b[1;33m\u001b[0m\u001b[0m\n\u001b[1;32m-> 1189\u001b[1;33m       \u001b[1;32mreturn\u001b[0m \u001b[0mself\u001b[0m\u001b[1;33m.\u001b[0m\u001b[0m_numpy_internal\u001b[0m\u001b[1;33m(\u001b[0m\u001b[1;33m)\u001b[0m\u001b[1;33m\u001b[0m\u001b[1;33m\u001b[0m\u001b[0m\n\u001b[0m\u001b[0;32m   1190\u001b[0m     \u001b[1;32mexcept\u001b[0m \u001b[0mcore\u001b[0m\u001b[1;33m.\u001b[0m\u001b[0m_NotOkStatusException\u001b[0m \u001b[1;32mas\u001b[0m \u001b[0me\u001b[0m\u001b[1;33m:\u001b[0m  \u001b[1;31m# pylint: disable=protected-access\u001b[0m\u001b[1;33m\u001b[0m\u001b[1;33m\u001b[0m\u001b[0m\n\u001b[0;32m   1191\u001b[0m       \u001b[1;32mraise\u001b[0m \u001b[0mcore\u001b[0m\u001b[1;33m.\u001b[0m\u001b[0m_status_to_exception\u001b[0m\u001b[1;33m(\u001b[0m\u001b[0me\u001b[0m\u001b[1;33m)\u001b[0m \u001b[1;32mfrom\u001b[0m \u001b[1;32mNone\u001b[0m  \u001b[1;31m# pylint: disable=protected-access\u001b[0m\u001b[1;33m\u001b[0m\u001b[1;33m\u001b[0m\u001b[0m\n",
      "\u001b[1;31mKeyboardInterrupt\u001b[0m: "
     ]
    }
   ],
   "source": [
    "model.fit(train_ds, epochs = 10, validation_data=validation_ds, transfer=True,callbacks=[growth_callback])"
   ]
  },
  {
   "cell_type": "markdown",
   "id": "66079fab-1678-4cdf-a0eb-205134d9cf9f",
   "metadata": {},
   "source": [
    "## Get the flop cost for each branch output"
   ]
  },
  {
   "cell_type": "code",
   "execution_count": 36,
   "id": "82ed50f4-4403-4c10-bd6a-670efed00777",
   "metadata": {},
   "outputs": [],
   "source": [
    "# model = brevis.BranchModel(name=\"./models/resnet50_finetuned_32.hdf5\", custom_objects={})\n",
    "# model.compile(loss=[trunk_loss], optimizer=tf.optimizers.SGD(learning_rate=0.001, momentum=0.9), preset=\"\", metrics=['accuracy'])\n",
    "# model.evaluate(test_ds)"
   ]
  },
  {
   "cell_type": "code",
   "execution_count": 11,
   "id": "c80a30e9-6f63-497e-95b2-e310d177e059",
   "metadata": {},
   "outputs": [
    {
     "name": "stdout",
     "output_type": "stream",
     "text": [
      "[<KerasTensor: shape=(None, 10) dtype=float32 (created by layer 'branch_exit')>]\n",
      "FLOPS: 4.85 G\n",
      "[<KerasTensor: shape=(None, 10) dtype=float32 (created by layer 'branch_exit')>, <KerasTensor: shape=(None, 10) dtype=float32 (created by layer 'branch_exit_1')>]\n",
      "FLOPS: 9.3 G\n",
      "[<KerasTensor: shape=(None, 10) dtype=float32 (created by layer 'branch_exit')>, <KerasTensor: shape=(None, 10) dtype=float32 (created by layer 'branch_exit_1')>, <KerasTensor: shape=(None, 10) dtype=float32 (created by layer 'dense_3')>]\n",
      "FLOPS: 12.9 G\n"
     ]
    }
   ],
   "source": [
    "outputs = [ [model.get_layer(\"branch_exit\").get_output_at(0)],\n",
    "            [model.get_layer(\"branch_exit\").get_output_at(0),model.get_layer(\"branch_exit_1\").get_output_at(0)],\n",
    "            [model.get_layer(\"branch_exit\").get_output_at(0),model.get_layer(\"branch_exit_1\").get_output_at(0),model.get_layer(\"dense_3\").get_output_at(0)]\n",
    "          ]\n",
    "from keras_flops import get_flops    \n",
    "for _outputs in outputs:\n",
    "    temp_model = tf.keras.models.Model(inputs=model.inputs, outputs=_outputs)\n",
    "    # Calculae FLOPS\n",
    "    print(temp_model.outputs)\n",
    "    flops = get_flops(temp_model, batch_size=1)\n",
    "    print(f\"FLOPS: {flops / 10 ** 9:.03} G\")\n",
    "    "
   ]
  },
  {
   "cell_type": "code",
   "execution_count": 21,
   "id": "d608f396-d3d4-4d7d-829c-ddbe1aa1a003",
   "metadata": {
    "tags": []
   },
   "outputs": [
    {
     "name": "stdout",
     "output_type": "stream",
     "text": [
      "Freezing Main Layers and setting branch layers training to true\n",
      "annealing coef updated to: 0\n",
      "Epoch 1/10\n",
      "1407/1407 [==============================] - 293s 204ms/step - loss: 1.6715 - dense_3_loss: 0.2874 - branch_exit_loss: 0.5596 - branch_exit_1_loss: 0.4676 - dense_3_accuracy: 0.9006 - branch_exit_accuracy: 0.5672 - branch_exit_1_accuracy: 0.6468 - val_loss: 1.6465 - val_dense_3_loss: 0.4229 - val_branch_exit_loss: 0.5144 - val_branch_exit_1_loss: 0.3587 - val_dense_3_accuracy: 0.8474 - val_branch_exit_accuracy: 0.6178 - val_branch_exit_1_accuracy: 0.7422\n",
      "annealing coef updated to: 0.02\n",
      "Epoch 2/10\n",
      "1407/1407 [==============================] - 286s 203ms/step - loss: 1.6740 - dense_3_loss: 0.2440 - branch_exit_loss: 0.6933 - branch_exit_1_loss: 0.3917 - dense_3_accuracy: 0.9159 - branch_exit_accuracy: 0.4575 - branch_exit_1_accuracy: 0.7809 - val_loss: 2.1131 - val_dense_3_loss: 0.5527 - val_branch_exit_loss: 0.7666 - val_branch_exit_1_loss: 0.4532 - val_dense_3_accuracy: 0.8212 - val_branch_exit_accuracy: 0.4352 - val_branch_exit_1_accuracy: 0.7330\n",
      "val acc did not improve from 1.3600000143051147, annealing coef not updated, remains at:0.019999999552965164\n",
      "Epoch 3/10\n",
      "1407/1407 [==============================] - 286s 203ms/step - loss: 1.4787 - dense_3_loss: 0.2197 - branch_exit_loss: 0.6087 - branch_exit_1_loss: 0.3144 - dense_3_accuracy: 0.9246 - branch_exit_accuracy: 0.5236 - branch_exit_1_accuracy: 0.8271 - val_loss: 1.9395 - val_dense_3_loss: 0.5348 - val_branch_exit_loss: 0.6659 - val_branch_exit_1_loss: 0.4051 - val_dense_3_accuracy: 0.8228 - val_branch_exit_accuracy: 0.4836 - val_branch_exit_1_accuracy: 0.7562\n",
      "val acc did not improve from 1.3600000143051147, annealing coef not updated, remains at:0.019999999552965164\n",
      "Epoch 4/10\n",
      "1407/1407 [==============================] - 283s 201ms/step - loss: 1.4079 - dense_3_loss: 0.2104 - branch_exit_loss: 0.5861 - branch_exit_1_loss: 0.2802 - dense_3_accuracy: 0.9276 - branch_exit_accuracy: 0.5359 - branch_exit_1_accuracy: 0.8460 - val_loss: 1.9644 - val_dense_3_loss: 0.5462 - val_branch_exit_loss: 0.7138 - val_branch_exit_1_loss: 0.3732 - val_dense_3_accuracy: 0.8182 - val_branch_exit_accuracy: 0.4660 - val_branch_exit_1_accuracy: 0.7822\n",
      "val acc did not improve from 1.3600000143051147, annealing coef not updated, remains at:0.019999999552965164\n",
      "Epoch 5/10\n",
      "1407/1407 [==============================] - 281s 200ms/step - loss: 1.3341 - dense_3_loss: 0.2016 - branch_exit_loss: 0.5506 - branch_exit_1_loss: 0.2519 - dense_3_accuracy: 0.9299 - branch_exit_accuracy: 0.5952 - branch_exit_1_accuracy: 0.8643 - val_loss: 1.8077 - val_dense_3_loss: 0.5616 - val_branch_exit_loss: 0.5820 - val_branch_exit_1_loss: 0.3322 - val_dense_3_accuracy: 0.8242 - val_branch_exit_accuracy: 0.5760 - val_branch_exit_1_accuracy: 0.8100\n",
      "annealing coef updated to: 0.04\n",
      "Epoch 6/10\n",
      "1407/1407 [==============================] - 281s 200ms/step - loss: 1.3299 - dense_3_loss: 0.1977 - branch_exit_loss: 0.5495 - branch_exit_1_loss: 0.2517 - dense_3_accuracy: 0.9330 - branch_exit_accuracy: 0.6089 - branch_exit_1_accuracy: 0.8758 - val_loss: 1.6319 - val_dense_3_loss: 0.4206 - val_branch_exit_loss: 0.5561 - val_branch_exit_1_loss: 0.3218 - val_dense_3_accuracy: 0.8592 - val_branch_exit_accuracy: 0.6002 - val_branch_exit_1_accuracy: 0.8360\n",
      "annealing coef updated to: 0.06\n",
      "Epoch 7/10\n",
      "1407/1407 [==============================] - 281s 200ms/step - loss: 1.3107 - dense_3_loss: 0.1931 - branch_exit_loss: 0.5398 - branch_exit_1_loss: 0.2441 - dense_3_accuracy: 0.9333 - branch_exit_accuracy: 0.6423 - branch_exit_1_accuracy: 0.8874 - val_loss: 1.6769 - val_dense_3_loss: 0.4325 - val_branch_exit_loss: 0.5933 - val_branch_exit_1_loss: 0.3141 - val_dense_3_accuracy: 0.8562 - val_branch_exit_accuracy: 0.6264 - val_branch_exit_1_accuracy: 0.8450\n",
      "annealing coef updated to: 0.08\n",
      "Epoch 8/10\n",
      "1407/1407 [==============================] - 281s 200ms/step - loss: 1.3252 - dense_3_loss: 0.1943 - branch_exit_loss: 0.5501 - branch_exit_1_loss: 0.2422 - dense_3_accuracy: 0.9329 - branch_exit_accuracy: 0.6237 - branch_exit_1_accuracy: 0.8919 - val_loss: 1.7270 - val_dense_3_loss: 0.4499 - val_branch_exit_loss: 0.5796 - val_branch_exit_1_loss: 0.3539 - val_dense_3_accuracy: 0.8488 - val_branch_exit_accuracy: 0.5958 - val_branch_exit_1_accuracy: 0.8306\n",
      "val acc did not improve from 1.4714000225067139, annealing coef not updated, remains at:0.07999999821186066\n",
      "Epoch 9/10\n",
      "1407/1407 [==============================] - 281s 200ms/step - loss: 1.2816 - dense_3_loss: 0.1861 - branch_exit_loss: 0.5340 - branch_exit_1_loss: 0.2187 - dense_3_accuracy: 0.9348 - branch_exit_accuracy: 0.6226 - branch_exit_1_accuracy: 0.9039 - val_loss: 1.8926 - val_dense_3_loss: 0.5825 - val_branch_exit_loss: 0.5808 - val_branch_exit_1_loss: 0.3844 - val_dense_3_accuracy: 0.8108 - val_branch_exit_accuracy: 0.5920 - val_branch_exit_1_accuracy: 0.8146\n",
      "val acc did not improve from 1.4714000225067139, annealing coef not updated, remains at:0.07999999821186066\n",
      "Epoch 10/10\n",
      "1407/1407 [==============================] - 281s 200ms/step - loss: 1.2389 - dense_3_loss: 0.1764 - branch_exit_loss: 0.5188 - branch_exit_1_loss: 0.2003 - dense_3_accuracy: 0.9382 - branch_exit_accuracy: 0.6283 - branch_exit_1_accuracy: 0.9130 - val_loss: 1.8750 - val_dense_3_loss: 0.5460 - val_branch_exit_loss: 0.6281 - val_branch_exit_1_loss: 0.3558 - val_dense_3_accuracy: 0.8334 - val_branch_exit_accuracy: 0.5778 - val_branch_exit_1_accuracy: 0.8354\n"
     ]
    },
    {
     "data": {
      "text/plain": [
       "<brevis.core_v2.BranchModel at 0x1d2699ac608>"
      ]
     },
     "execution_count": 21,
     "metadata": {},
     "output_type": "execute_result"
    }
   ],
   "source": [
    "model.fit(train_ds, epochs = 10, validation_data=validation_ds, transfer=True,callbacks=[growth_callback])"
   ]
  },
  {
   "cell_type": "code",
   "execution_count": 22,
   "id": "74f92d4f-c2bf-4863-9c50-d4f1dd0935df",
   "metadata": {},
   "outputs": [
    {
     "name": "stdout",
     "output_type": "stream",
     "text": [
      "313/313 [==============================] - 20s 64ms/step - loss: 2.0030 - dense_3_loss: 0.6381 - branch_exit_loss: 0.6392 - branch_exit_1_loss: 0.3805 - dense_3_accuracy: 0.8118 - branch_exit_accuracy: 0.5828 - branch_exit_1_accuracy: 0.8268\n"
     ]
    },
    {
     "data": {
      "text/plain": [
       "[2.0029518604278564,\n",
       " 0.6380754113197327,\n",
       " 0.6392102241516113,\n",
       " 0.3805234730243683,\n",
       " 0.8118000030517578,\n",
       " 0.5827999711036682,\n",
       " 0.8267999887466431]"
      ]
     },
     "execution_count": 22,
     "metadata": {},
     "output_type": "execute_result"
    }
   ],
   "source": [
    "model.evaluate(test_ds)"
   ]
  },
  {
   "cell_type": "code",
   "execution_count": null,
   "id": "29aa64b8-bc9d-465b-b1e3-cb3506d560d6",
   "metadata": {},
   "outputs": [],
   "source": []
  },
  {
   "cell_type": "code",
   "execution_count": 10,
   "id": "7bbfda3e-fd14-4dab-9a14-ba1a1f7a883e",
   "metadata": {},
   "outputs": [
    {
     "name": "stdout",
     "output_type": "stream",
     "text": [
      "\n",
      "preset: Other\n",
      "WARNING:tensorflow:Error in loading the saved optimizer state. As a result, your model is starting with a freshly initialized optimizer.\n",
      "\n",
      "preset: Other\n"
     ]
    }
   ],
   "source": [
    "\n",
    "growth_callback = growth_update(10,1.,max_t = 0.1, starting_epoch =0)\n",
    "\n",
    "auxlossMetric = auxLoss(growth_callback)\n",
    "branch_loss = loss_wrapper(growth_callback)\n",
    "\n",
    "\n",
    "trunk_loss = keras.losses.CategoricalCrossentropy(from_logits=False)\n",
    "# branch_loss = keras.losses.CategoricalCrossentropy(from_logits=True)\n",
    "# loss = kl_loss(lambda_callback)\n",
    "# earlyStop = tf.keras.callbacks.EarlyStopping(monitor=\"val_accuracy\",patience=4,restore_best_weights=True)\n",
    "\n",
    "model = tf.keras.models.load_model(\"./models/journal_models/wideresnet_Brev_10.hdf5\",custom_objects={\"BranchModel\":brevis.BranchModel,\"growth_callback\":growth_callback,\"custom_loss_function\":branch_loss})\n",
    "# model = brevis.BranchModel(name=\"./models/wideresnet_.81.hdf5\", custom_objects={})\n",
    "# model.add_branches([_branch_flat,_branch_flat],\n",
    "#                           [\"conv2_block1_out\",\"conv2_block3_out\",\n",
    "#                             # \"dense\"\n",
    "#                           ],\n",
    "#                           target_input=False,loop=False,num_outputs=10)\n",
    "\n",
    "# model.compile(loss = [trunk_loss,loss_fn,loss_fn], optimizer=tf.optimizers.SGD(learning_rate=0.001, momentum=0.9),metrics=['accuracy'])\n",
    "model.compile(loss=[trunk_loss,branch_loss,branch_loss], \n",
    "                  optimizer=tf.optimizers.SGD(learning_rate=0.1, momentum=0.9),\n",
    "                  # optimizer=\"adam\",\n",
    "              preset=\"\", metrics=['accuracy'])\n",
    "# model.evaluate(test_ds)\n"
   ]
  },
  {
   "cell_type": "code",
   "execution_count": 12,
   "id": "10cd53aa-ee80-457d-8a25-fd12f2aa394d",
   "metadata": {},
   "outputs": [
    {
     "name": "stdout",
     "output_type": "stream",
     "text": [
      "\n",
      "preset: Other\n",
      "WARNING:tensorflow:Error in loading the saved optimizer state. As a result, your model is starting with a freshly initialized optimizer.\n",
      "\n",
      "preset: Other\n",
      "Freezing Main Layers and setting branch layers training to true\n",
      "annealing coef updated to: 0.1\n",
      "Epoch 1/6\n",
      "1407/1407 [==============================] - 136s 93ms/step - loss: 2.1418 - dense_3_loss: 0.2324 - branch_exit_loss: 0.9220 - branch_exit_1_loss: 0.6422 - dense_3_accuracy: 0.9185 - branch_exit_accuracy: 0.2820 - branch_exit_1_accuracy: 0.5849 - val_loss: 2.8624 - val_dense_3_loss: 0.5460 - val_branch_exit_loss: 0.9882 - val_branch_exit_1_loss: 0.9831 - val_dense_3_accuracy: 0.8334 - val_branch_exit_accuracy: 0.2280 - val_branch_exit_1_accuracy: 0.1258\n",
      "annealing coef updated to: 0.1\n",
      "Epoch 2/6\n",
      "1407/1407 [==============================] - 130s 92ms/step - loss: 2.5026 - dense_3_loss: 0.2324 - branch_exit_loss: 0.9420 - branch_exit_1_loss: 0.9831 - dense_3_accuracy: 0.9185 - branch_exit_accuracy: 0.2400 - branch_exit_1_accuracy: 0.1146 - val_loss: 2.8878 - val_dense_3_loss: 0.5460 - val_branch_exit_loss: 1.0136 - val_branch_exit_1_loss: 0.9831 - val_dense_3_accuracy: 0.8334 - val_branch_exit_accuracy: 0.2330 - val_branch_exit_1_accuracy: 0.1198\n",
      "val acc did not improve from 0.3537999987602234, annealing coef not updated, remains at:0.10000000149011612\n",
      "Epoch 3/6\n",
      "1407/1407 [==============================] - 130s 92ms/step - loss: 2.4985 - dense_3_loss: 0.2324 - branch_exit_loss: 0.9379 - branch_exit_1_loss: 0.9831 - dense_3_accuracy: 0.9185 - branch_exit_accuracy: 0.2637 - branch_exit_1_accuracy: 0.1146 - val_loss: 2.8128 - val_dense_3_loss: 0.5460 - val_branch_exit_loss: 0.9386 - val_branch_exit_1_loss: 0.9831 - val_dense_3_accuracy: 0.8334 - val_branch_exit_accuracy: 0.2398 - val_branch_exit_1_accuracy: 0.1202\n",
      "annealing coef updated to: 0.1\n",
      "Epoch 4/6\n",
      "1407/1407 [==============================] - 130s 92ms/step - loss: 2.4964 - dense_3_loss: 0.2324 - branch_exit_loss: 0.9357 - branch_exit_1_loss: 0.9831 - dense_3_accuracy: 0.9185 - branch_exit_accuracy: 0.2642 - branch_exit_1_accuracy: 0.1150 - val_loss: 2.8059 - val_dense_3_loss: 0.5460 - val_branch_exit_loss: 0.9317 - val_branch_exit_1_loss: 0.9831 - val_dense_3_accuracy: 0.8334 - val_branch_exit_accuracy: 0.2540 - val_branch_exit_1_accuracy: 0.1206\n",
      "annealing coef updated to: 0.1\n",
      "Epoch 5/6\n",
      "1407/1407 [==============================] - 130s 92ms/step - loss: 2.4911 - dense_3_loss: 0.2324 - branch_exit_loss: 0.9305 - branch_exit_1_loss: 0.9831 - dense_3_accuracy: 0.9185 - branch_exit_accuracy: 0.2736 - branch_exit_1_accuracy: 0.1148 - val_loss: 2.8025 - val_dense_3_loss: 0.5460 - val_branch_exit_loss: 0.9283 - val_branch_exit_1_loss: 0.9831 - val_dense_3_accuracy: 0.8334 - val_branch_exit_accuracy: 0.2932 - val_branch_exit_1_accuracy: 0.1202\n",
      "annealing coef updated to: 0.1\n",
      "Epoch 6/6\n",
      "1407/1407 [==============================] - 130s 92ms/step - loss: 2.4890 - dense_3_loss: 0.2324 - branch_exit_loss: 0.9283 - branch_exit_1_loss: 0.9831 - dense_3_accuracy: 0.9185 - branch_exit_accuracy: 0.2864 - branch_exit_1_accuracy: 0.1146 - val_loss: 2.8002 - val_dense_3_loss: 0.5460 - val_branch_exit_loss: 0.9260 - val_branch_exit_1_loss: 0.9831 - val_dense_3_accuracy: 0.8334 - val_branch_exit_accuracy: 0.3008 - val_branch_exit_1_accuracy: 0.1202\n"
     ]
    },
    {
     "data": {
      "text/plain": [
       "<brevis.core_v2.BranchModel at 0x1c1158a7ac8>"
      ]
     },
     "execution_count": 12,
     "metadata": {},
     "output_type": "execute_result"
    }
   ],
   "source": [
    "# lambda_callback = lambda_update(1000,0,max_t = 0.01)\n",
    "growth_callback = growth_update(10,1.,max_t = 0.1, starting_epoch =0)\n",
    "\n",
    "auxlossMetric = auxLoss(growth_callback)\n",
    "branch_loss = loss_wrapper(growth_callback)\n",
    "model = tf.keras.models.load_model(\"./models/journal_models/wideresnet_Brev_10.hdf5\",custom_objects={\"BranchModel\":brevis.BranchModel,\"growth_callback\":growth_callback,\"custom_loss_function\":branch_loss})\n",
    "\n",
    "trunk_loss = keras.losses.CategoricalCrossentropy(from_logits=False)\n",
    "model.compile(loss=[trunk_loss,branch_loss,branch_loss], \n",
    "                  optimizer=tf.optimizers.SGD(learning_rate=0.05, momentum=0.9),\n",
    "                  # optimizer=\"adam\",\n",
    "              preset=\"\", metrics=['accuracy',auxlossMetric])\n",
    "model.fit(train_ds, epochs = 6, validation_data=validation_ds, transfer=True,callbacks=[growth_callback])"
   ]
  },
  {
   "cell_type": "code",
   "execution_count": 13,
   "id": "329efdd8-9853-40e8-9b39-fa15f9d50937",
   "metadata": {},
   "outputs": [],
   "source": [
    "model.save(\"./models/journal_models/wideresnet_Brev_10_LR.5_6.hdf5\")"
   ]
  },
  {
   "cell_type": "code",
   "execution_count": null,
   "id": "bb281fd6-140a-441a-9335-9b9c3c3e1f0e",
   "metadata": {},
   "outputs": [
    {
     "name": "stdout",
     "output_type": "stream",
     "text": [
      "Freezing Main Layers and setting branch layers training to true\n",
      "annealing coef updated to: 0\n",
      "Epoch 1/5\n",
      "1407/1407 [==============================] - 161s 111ms/step - loss: 2.2400 - dense_3_loss: 0.2324 - branch_exit_loss: 0.9434 - branch_exit_1_loss: 0.7190 - dense_3_accuracy: 0.9185 - branch_exit_accuracy: 0.2726 - branch_exit_1_accuracy: 0.5652 - val_loss: 2.7121 - val_dense_3_loss: 0.5460 - val_branch_exit_loss: 0.9457 - val_branch_exit_1_loss: 0.8753 - val_dense_3_accuracy: 0.8334 - val_branch_exit_accuracy: 0.2658 - val_branch_exit_1_accuracy: 0.4194\n",
      "annealing coef updated to: 0.1\n",
      "Epoch 2/5\n",
      "1297/1407 [==========================>...] - ETA: 15s - loss: 3.6088 - dense_3_loss: 0.2339 - branch_exit_loss: 0.9832 - branch_exit_1_loss: 2.0465 - dense_3_accuracy: 0.9178 - branch_exit_accuracy: 0.1904 - branch_exit_1_accuracy: 0.0916"
     ]
    }
   ],
   "source": [
    "model.fit(train_ds, epochs = 6, validation_data=validation_ds, transfer=True,callbacks=[growth_callback])"
   ]
  },
  {
   "cell_type": "code",
   "execution_count": 23,
   "id": "e25592d0-eb02-4898-82ee-bef4dd469c6f",
   "metadata": {},
   "outputs": [],
   "source": [
    "# model.save(\"./models/journal_models/wideresnet_Brev_10.hdf5\")"
   ]
  },
  {
   "cell_type": "code",
   "execution_count": 7,
   "id": "ba40d975-173c-446f-a13e-c583cfe132c2",
   "metadata": {},
   "outputs": [
    {
     "name": "stdout",
     "output_type": "stream",
     "text": [
      "\n",
      "preset: Other\n",
      "WARNING:tensorflow:Error in loading the saved optimizer state. As a result, your model is starting with a freshly initialized optimizer.\n"
     ]
    }
   ],
   "source": [
    "# lambda_callback = lambda_update(1000,0,max_t = 0.01)\n",
    "# model = tf.keras.models.load_model(\"./models/journal_models/inception_Brev_conv3_10.h5\",custom_objects={\"BranchModel\":brevis.BranchModel,\"brevisEnergy\":brevisEnergy(lambda_callback)})"
   ]
  },
  {
   "cell_type": "markdown",
   "id": "b3884ded-7fa7-4313-96a6-078f26940860",
   "metadata": {},
   "source": [
    "## Get the Branch output results\n",
    "Collect the branch output results for both the ID and OOD test sets then evaluate the results."
   ]
  },
  {
   "cell_type": "code",
   "execution_count": 27,
   "id": "c83a6b4c-909a-4b70-b53e-19201aebd2df",
   "metadata": {},
   "outputs": [],
   "source": [
    "\n",
    "def getPredictions_Energy(model, input_set, stopping_point=None,num_classes=10):\n",
    "    '''\n",
    "        Function for collecting the model's predictions on a test set. \n",
    "\n",
    "        Returns a list of DataFrames for each exit of the model.    \n",
    "    '''\n",
    "    num_outputs = len(model.outputs) # the number of output layers for the purpose of providing labels\n",
    "    print(\"outputs\",num_outputs)\n",
    "    #     train_ds, test_ds, validation_ds = (dataset)\n",
    "    Results=[]\n",
    "    Pred=[]\n",
    "    Labels =[]\n",
    "    Uncert = []\n",
    "    Outputs = pd.DataFrame()\n",
    "    Energy = []\n",
    "    Energy_softmax = []\n",
    "    Energy_evidence = []\n",
    "    Energy_alpha = []\n",
    "    Energy_Mass = []\n",
    "    Entropy = []\n",
    "    pAcc=[]\n",
    "    calibration=[]\n",
    "\n",
    "    conf=[]\n",
    "    entropy_of_exp=[]\n",
    "    expected_entropy=[]\n",
    "    mutual_info=[]\n",
    "    epkl=[]\n",
    "    dentropy=[]\n",
    "    \n",
    "    for i in range(num_outputs):\n",
    "        Results.append([])\n",
    "        Pred.append([])\n",
    "        Labels.append([])\n",
    "        Uncert.append([])\n",
    "        Energy.append([])\n",
    "        Energy_softmax.append([])\n",
    "        Energy_evidence.append([])\n",
    "        Energy_alpha.append([])\n",
    "        Energy_Mass.append([])\n",
    "        Entropy.append([])\n",
    "        pAcc.append([])\n",
    "        calibration.append([])\n",
    "\n",
    "        conf.append([])\n",
    "        entropy_of_exp.append([])\n",
    "        expected_entropy.append([])\n",
    "        mutual_info.append([])\n",
    "        epkl.append([])\n",
    "        dentropy.append([])\n",
    "        \n",
    "    for i, (x,y) in enumerate(input_set):\n",
    "        if stopping_point and i > stopping_point:\n",
    "            break\n",
    "        try:\n",
    "            print(\"prediction: {} of {}\".format(i,len(input_set)),end='\\r')\n",
    "        except:\n",
    "            print(\"prediction: {}\".format(i),end='\\r')\n",
    "            pass\n",
    "        predictions = model.predict(x)\n",
    "        if num_outputs > 1:\n",
    "            _predictions = predictions[0]\n",
    "        else:\n",
    "            _predictions = [predictions]\n",
    "        # print(_predictions)\n",
    "        for k, outputs in enumerate(_predictions):\n",
    "            \n",
    "            # print(\"outputs \", k, outputs)\n",
    "            for j, prediction in enumerate(outputs):\n",
    "                # dirch = dirichlet_prior_network_uncertainty([prediction])\n",
    "                # print(dirch)\n",
    "                # conf[k].append(dirch[\"confidence_alea_uncert.\"])\n",
    "                # entropy_of_exp[k].append(dirch[\"entropy_of_expected\"])\n",
    "                # expected_entropy[k].append(dirch[\"expected_entropy\"])\n",
    "                # mutual_info[k].append(dirch[\"mutual_information\"])\n",
    "                # epkl[k].append(dirch[\"EPKL\"])\n",
    "                # dentropy[k].append(dirch[\"differential_entropy\"])\n",
    "\n",
    "                # evidence =exp_evidence(prediction)\n",
    "                # alpha = evidence +1\n",
    "                # S = sum(alpha)\n",
    "                # E = alpha - 1\n",
    "                # Mass = alpha / S\n",
    "                # u = num_classes / S\n",
    "                # Uncert[k].append(u.numpy().mean())\n",
    "                Results[k].append(np.argmax(prediction))\n",
    "                Labels[k].append(np.argmax(y[j]))\n",
    "                Energy[k].append( -(logsumexp(np.array(prediction))))\n",
    "                # Energy_softmax[k].append( -(1 * logsumexp(np.array(tf.nn.softmax(prediction))/1)))\n",
    "                # Energy_evidence[k].append( -(1 * logsumexp(np.array(evidence)/1)))\n",
    "                # Energy_alpha[k].append( -(1 * logsumexp(np.array(alpha)/1)))\n",
    "                # Energy_Mass[k].append( -(1 * logsumexp(np.array(Mass)/1)))\n",
    "                # Entropy[k].append(brevis.utils.calcEntropy_Tensors2(tf.nn.softmax(prediction)).numpy())\n",
    "                # calibration[k].append(np.amax(tf.nn.softmax(prediction).numpy()))\n",
    "                \n",
    "    Outputs=[]\n",
    "    for j in range(num_outputs):\n",
    "#         \"probs\":Pred[j],\n",
    "        # df = pd.DataFrame({\"x\":Results[j],\"y\":Labels[j],'sum':Sum[j],'uncert':Uncert[j],\"belief masses\":Evidence[j]})\n",
    "        df = pd.DataFrame({\"x\":Results[j],\"y\":Labels[j],\n",
    "                            # \"uncert\":Uncert[j],\n",
    "                            \"energy\":Energy[j],\n",
    "                            # \"Energy_softmax\":Energy_softmax[j],\n",
    "                            # \"Energy_evidence\":Energy_evidence[j],\n",
    "                            # \"Energy_alpha\":Energy_alpha[j],\n",
    "                            # \"Energy_Mass\":Energy_Mass[j],\n",
    "                            # 'entropy':Entropy[j],\n",
    "                            # 'calibration':calibration[j],\n",
    "                            # \"confidence_alea_uncert\":conf[j],\n",
    "                            # \"entropy_of_expected\":entropy_of_exp[j],\n",
    "                            # \"expected_entropy\":expected_entropy[j],\n",
    "                            # \"mutual_information\":mutual_info[j],\n",
    "                            # \"EPKL\":epkl[j],\n",
    "                            # \"differential_entropy\":dentropy[j],\n",
    "                          })\n",
    "        conditions = [df['x'] == df['y'],df['x'] != df['y']]\n",
    "        choices = [1, 0]\n",
    "        #create new column in DataFrame that displays results of comparisons\n",
    "        df['correct'] = np.int32(np.select(conditions, choices, default=None))\n",
    "        Outputs.append(df)\n",
    "    return Outputs"
   ]
  },
  {
   "cell_type": "code",
   "execution_count": 28,
   "id": "d86afcd6-a024-4071-885e-f3aef2da79cf",
   "metadata": {
    "tags": []
   },
   "outputs": [
    {
     "name": "stdout",
     "output_type": "stream",
     "text": [
      "outputs 3\n",
      "prediction: 312 of 313\r"
     ]
    }
   ],
   "source": [
    "output_ID= getPredictions_Energy(model, test_ds,stopping_point=None)\n",
    "for i in output_ID:\n",
    "    i['outlier']=0\n"
   ]
  },
  {
   "cell_type": "code",
   "execution_count": 29,
   "id": "46de421d-ec98-42e5-87a6-3b21269cf745",
   "metadata": {},
   "outputs": [
    {
     "name": "stdout",
     "output_type": "stream",
     "text": [
      "outputs 3\n",
      "prediction: 312 of 313\r"
     ]
    }
   ],
   "source": [
    "output_OOD = getPredictions_Energy(model, test_ds100,stopping_point=None)\n",
    "for i in output_OOD:\n",
    "    i['correct']=0\n",
    "    i['outlier']=1"
   ]
  },
  {
   "cell_type": "code",
   "execution_count": null,
   "id": "abea903a-0d06-4f18-8272-34245f2c77d4",
   "metadata": {},
   "outputs": [],
   "source": [
    "# output_OOD_svhn = getPredictions_Energy(model, test_ds_svhn,stopping_point=313)\n",
    "# output_OOD_svhn['correct']=0\n",
    "# output_OOD_svhn['outlier']=1\n"
   ]
  },
  {
   "cell_type": "code",
   "execution_count": 27,
   "id": "1d87dbbf-7f91-4a37-90d9-fbbd5fb0efaa",
   "metadata": {},
   "outputs": [],
   "source": [
    "def save_outputs(filename,outputs):\n",
    "    from openpyxl import Workbook\n",
    "    wb= Workbook()\n",
    "    ws=wb.active\n",
    "    with pd.ExcelWriter('./csv/'+filename+'.xlsx', engine=\"openpyxl\") as writer:\n",
    "        writer.book=wb\n",
    "        writer.sheets = dict((ws.title, ws) for ws in wb.worksheets)\n",
    "\n",
    "        #useful code\n",
    "        for i, df in enumerate(outputs):\n",
    "            name = \"exit{}\".format(i+1)\n",
    "            df.to_excel(writer, name)\n",
    "        # df.to_excel(writer, sheet, ...)\n",
    "        writer.save()\n",
    "    wb.close()\n",
    "    \n",
    "def read_outputs(fileName):\n",
    "    output_test = list(pd.read_excel('./csv/'+fileName+'.xlsx',['exit1','exit2','exit3']).values())\n",
    "    # for i in output_test:\n",
    "        # print(i.head())\n",
    "    return output_test\n",
    "filename = 'wideresnet_brevis_10'\n",
    "save_outputs(filename+'_ID',output_ID)\n",
    "save_outputs(filename+'_OOD',output_OOD)\n",
    "# save_outputs(filename+'_OOD_SVHN',output_OOD_SVHN)"
   ]
  },
  {
   "cell_type": "markdown",
   "id": "9b00ba9a-3de1-4176-ae5c-a6171f093adf",
   "metadata": {},
   "source": [
    "### T/F in distribution performance\n",
    "<hr>"
   ]
  },
  {
   "cell_type": "code",
   "execution_count": null,
   "id": "96afe967-7779-47b8-a292-56932283e85b",
   "metadata": {},
   "outputs": [
    {
     "name": "stdout",
     "output_type": "stream",
     "text": [
      "metric:  energy threshold:  PR_AUC\n",
      "['exit_1', 'exit_2']\n",
      "['exit_1', 'exit_2']\n",
      "   Exit_Name  Predictions  Test_Accuracy  RollOver_Accuracy  Threshold  Accepted  Accepted_Correct  Accepted_Ratio  Acceptance_Accuracy\n",
      "0     exit_1        10000         0.4419           0.441900   0.168403      5582              3999         0.55820              0.71641\n",
      "1     exit_2         4418         0.8145           0.800362 -13.578604       750               744         0.16976              0.99200\n",
      "2  Main_exit         3668         0.8648           0.818430  -2.405365      3668              3002         1.00000              0.81843\n",
      "metric:  energy threshold:  mean\n",
      "['exit_1', 'exit_2']\n",
      "['exit_1', 'exit_2']\n",
      "   Exit_Name  Predictions  Test_Accuracy  RollOver_Accuracy  Threshold  Accepted  Accepted_Correct  Accepted_Ratio  Acceptance_Accuracy\n",
      "0     exit_1        10000         0.4419           0.441900  -5.571860      2229              2106        0.222900             0.944818\n",
      "1     exit_2         7771         0.8145           0.775833 -10.467496      2169              2108        0.279115             0.971876\n",
      "2  Main_exit         5602         0.8648           0.782935  -2.455447      5602              4386        1.000000             0.782935\n",
      "metric:  energy threshold:  gmean\n",
      "energy  lr_auc 0.08879575941373843 Best Threshold=-1.4723730087280273, G-Mean=0.8321716225941834, TPR=0.8557606163769934, FPR=0.19076714188730481\n",
      "['exit_1', 'exit_2']\n",
      "energy  lr_auc 0.18113234021500468 Best Threshold=-6.995727062225342, G-Mean=0.7430542231973305, TPR=0.7309973045822102, FPR=0.24468999386126458\n",
      "['exit_1', 'exit_2']\n",
      "energy  lr_auc 0.11124797470017353 Best Threshold=-2.454909324645996, G-Mean=0.8124076641342463, TPR=0.849112426035503, FPR=0.2227104532839963\n",
      "   Exit_Name  Predictions  Test_Accuracy  RollOver_Accuracy  Threshold  Accepted  Accepted_Correct  Accepted_Ratio  Acceptance_Accuracy\n",
      "0     exit_1        10000         0.4419           0.441900  -1.472373      4382              3576         0.43820             0.816066\n",
      "1     exit_2         5618         0.8145           0.777501  -6.995727      3354              3096         0.59701             0.923077\n",
      "2  Main_exit         2264         0.8648           0.680654  -2.454909      2264              1541         1.00000             0.680654\n"
     ]
    }
   ],
   "source": [
    "evaluate.calculateBranching(output_ID,threshold=\"PR_AUC\",metrics=[\"energy\"],main_exit_included=True,plot=False)\n",
    "evaluate.calculateBranching(output_ID,threshold=\"mean\",metrics=[\"energy\"],main_exit_included=True,plot=False)\n",
    "evaluate.calculateBranching(output_ID,threshold=\"gmean\",metrics=[\"energy\"],main_exit_included=True,plot=False)"
   ]
  },
  {
   "cell_type": "markdown",
   "id": "593f34f7-5fe1-445c-a2ce-0c2c5b0f37e8",
   "metadata": {},
   "source": [
    "### ID/OOD branch performance\n",
    "<hr>"
   ]
  },
  {
   "cell_type": "code",
   "execution_count": 31,
   "id": "1d41005b-ddcb-41e9-b000-914cf4dd8d40",
   "metadata": {},
   "outputs": [
    {
     "name": "stdout",
     "output_type": "stream",
     "text": [
      "metric:  energy threshold:  gmean\n",
      "energy  lr_auc 0.11290720580477281 Best Threshold=-31.326265335083008, G-Mean=0.8044265077963588, TPR=0.836245188036719, FPR=0.22618148875132116\n"
     ]
    },
    {
     "data": {
      "image/png": "[encoded data removed]",
      "text/plain": [
       "<Figure size 432x288 with 1 Axes>"
      ]
     },
     "metadata": {
      "needs_background": "light"
     },
     "output_type": "display_data"
    },
    {
     "name": "stdout",
     "output_type": "stream",
     "text": [
      "['exit_1']\n",
      "energy  lr_auc 0.16578100201418589 Best Threshold=-43.07762908935547, G-Mean=0.7600065701481025, TPR=0.7816143497757847, FPR=0.261003861003861\n"
     ]
    },
    {
     "data": {
      "image/png": "[encoded data removed]",
      "text/plain": [
       "<Figure size 432x288 with 1 Axes>"
      ]
     },
     "metadata": {
      "needs_background": "light"
     },
     "output_type": "display_data"
    },
    {
     "name": "stdout",
     "output_type": "stream",
     "text": [
      "['exit_1', 'exit_2']\n",
      "energy  lr_auc 0.1352209112268189 Best Threshold=-2.4473109245300293, G-Mean=0.7930766004375764, TPR=0.8433734939759037, FPR=0.25422069977978956\n"
     ]
    },
    {
     "data": {
      "image/png": "[encoded data removed]",
      "text/plain": [
       "<Figure size 432x288 with 1 Axes>"
      ]
     },
     "metadata": {
      "needs_background": "light"
     },
     "output_type": "display_data"
    },
    {
     "name": "stdout",
     "output_type": "stream",
     "text": [
      "main_exit\n",
      "   Exit_Name  ID_Inputs  OOD_Inputs  Test_Accuracy  Threshold  Accepted ID  Accepted OOD  Accepted_Correct  Accepted_ID_Ratio  Acceptance_Accuracy\n",
      "0     exit_1      10000       10000         0.6623 -31.326265         5679          2865              5125           0.664677             0.599836\n",
      "1     exit_2       4321        7135         0.7770 -43.077629         1839          1177              1561           0.609748             0.517573\n",
      "2  Main_exit       2482        5958         0.8174         NA         2482          5958              1485           0.294076             0.175948\n"
     ]
    }
   ],
   "source": [
    "evaluate.buildCompareDistribPlot(output_ID, output_OOD, [\"energy\"], \"gmean\",plot=True)\n",
    "# evaluate.buildCompareDistribPlot(output_ID, output_OOD, [\"uncert\"], \"gmean\",plot=True)"
   ]
  },
  {
   "cell_type": "code",
   "execution_count": 18,
   "id": "dfc533b9-cb9f-4a77-adaf-eb0059b08e20",
   "metadata": {},
   "outputs": [
    {
     "name": "stdout",
     "output_type": "stream",
     "text": [
      "metric:  entropy threshold:  gmean\n",
      "entropy  lr_auc 0.22451240310064105 Best Threshold=0.9440667629241943, G-Mean=0.7084662620786347, TPR=0.7915057915057915, FPR=0.3658613115782868\n"
     ]
    },
    {
     "data": {
      "image/png": "[encoded data removed]",
      "text/plain": [
       "<Figure size 432x288 with 1 Axes>"
      ]
     },
     "metadata": {
      "needs_background": "light"
     },
     "output_type": "display_data"
    },
    {
     "name": "stdout",
     "output_type": "stream",
     "text": [
      "['exit_1']\n",
      "entropy  lr_auc 0.13131798450276125 Best Threshold=0.08173246681690216, G-Mean=0.7982466337274482, TPR=0.8743661971830986, FPR=0.2712462006079027\n"
     ]
    },
    {
     "data": {
      "image/png": "[encoded data removed]",
      "text/plain": [
       "<Figure size 432x288 with 1 Axes>"
      ]
     },
     "metadata": {
      "needs_background": "light"
     },
     "output_type": "display_data"
    },
    {
     "name": "stdout",
     "output_type": "stream",
     "text": [
      "['exit_1', 'exit_2']\n",
      "entropy  lr_auc 0.14783977252241726 Best Threshold=3.236900806427002, G-Mean=0.7808821693891282, TPR=0.8208255159474672, FPR=0.2571174377224199\n"
     ]
    },
    {
     "data": {
      "image/png": "[encoded data removed]",
      "text/plain": [
       "<Figure size 432x288 with 1 Axes>"
      ]
     },
     "metadata": {
      "needs_background": "light"
     },
     "output_type": "display_data"
    },
    {
     "name": "stdout",
     "output_type": "stream",
     "text": [
      "main_exit\n",
      "   Exit_Name  ID_Inputs  OOD_Inputs  Test_Accuracy Threshold  Accepted ID  Accepted OOD  Accepted_Correct  Accepted_ID_Ratio  Acceptance_Accuracy\n",
      "0     exit_1      10000       10000         0.6374  0.944067         4799          2420              4042           0.664774             0.559911\n",
      "1     exit_2       5201        7580         0.8225  0.081732         2433          1137              2297           0.681513             0.643417\n",
      "2  Main_exit       2768        6443         0.7868        NA         2768          6443              1518           0.300510             0.164803\n",
      "metric:  calibration threshold:  gmean\n",
      "calibration  lr_auc 0.776042630266262 Best Threshold=0.7698121070861816, G-Mean=0.7111273553157964, TPR=0.6706934421085661, FPR=0.2460011031439603\n"
     ]
    },
    {
     "data": {
      "image/png": "[encoded data removed]",
      "text/plain": [
       "<Figure size 432x288 with 1 Axes>"
      ]
     },
     "metadata": {
      "needs_background": "light"
     },
     "output_type": "display_data"
    },
    {
     "name": "stdout",
     "output_type": "stream",
     "text": [
      "['exit_1', 'exit_2']\n",
      "calibration  lr_auc 0.8674536752429469 Best Threshold=0.9912925362586975, G-Mean=0.7985637177469646, TPR=0.7255927051671732, FPR=0.12112676056338029\n"
     ]
    },
    {
     "data": {
      "image/png": "[encoded data removed]",
      "text/plain": [
       "<Figure size 432x288 with 1 Axes>"
      ]
     },
     "metadata": {
      "needs_background": "light"
     },
     "output_type": "display_data"
    },
    {
     "name": "stdout",
     "output_type": "stream",
     "text": [
      "['exit_1', 'exit_2']\n",
      "calibration  lr_auc 0.851962398334241 Best Threshold=0.21778808534145355, G-Mean=0.7808602207855494, TPR=0.7365277071682765, FPR=0.1721388367729831\n"
     ]
    },
    {
     "data": {
      "image/png": "[encoded data removed]",
      "text/plain": [
       "<Figure size 432x288 with 1 Axes>"
      ]
     },
     "metadata": {
      "needs_background": "light"
     },
     "output_type": "display_data"
    },
    {
     "name": "stdout",
     "output_type": "stream",
     "text": [
      "main_exit\n",
      "   Exit_Name  ID_Inputs  OOD_Inputs  Test_Accuracy Threshold  Accepted ID  Accepted OOD  Accepted_Correct  Accepted_ID_Ratio  Acceptance_Accuracy\n",
      "0     exit_1      10000       10000         0.6374  0.769812         5167          3059              4275           0.628130             0.519694\n",
      "1     exit_2       4833        6941         0.8225  0.991293         2247          1063              2118           0.678852             0.639879\n",
      "2  Main_exit       2586        5878         0.7868        NA         2586          5878              1416           0.305529             0.167297\n"
     ]
    }
   ],
   "source": [
    "evaluate.buildCompareDistribPlot(output_ID, output_OOD, [\"entropy\"], \"gmean\",plot=True)\n",
    "evaluate.buildCompareDistribPlot(output_ID, output_OOD, [\"calibration\"], \"gmean\",plot=True)"
   ]
  },
  {
   "cell_type": "code",
   "execution_count": 75,
   "id": "1d538d10-cf5f-407f-9ba4-ae09ee417968",
   "metadata": {},
   "outputs": [],
   "source": [
    "def calc_auc_OOD(ID,OOD,metrics=[\"energy\"], threshold=None, legend=[\"In Distribution\",\"Out of Distribution\"],main_exit_included=True, OOD_rate=[.1,.2,.5,1], plot=True,exit_labels=['exit_1']):\n",
    "        lessThanMetrics = [\"energy\",\"uncert\",\"entropy\"]\n",
    "        if type(metrics ) is not list:\n",
    "            metrics = [metrics]\n",
    "        \n",
    "        for j, metric in enumerate(metrics):\n",
    "            print(\"metric: \", metric, \"threshold: \",threshold)\n",
    "            rollOver_ID_indices = pd.Index([])\n",
    "            rollOver_OOD_indices = pd.Index([])\n",
    "            Exit_Name=[]\n",
    "            _ID = ID.copy()\n",
    "            _OOD = OOD.copy()\n",
    "                # print(_branch_predictions)\n",
    "            if main_exit_included:\n",
    "                _ID.append(_ID.pop(0))\n",
    "                _OOD.append(_OOD.pop(0))\n",
    "            Accepted_df = pd.DataFrame()\n",
    "            Input_ID=[]\n",
    "            Input_OOD=[]\n",
    "            Accepted_list =[]\n",
    "            Accepted_ID_list = []\n",
    "            Accepted_OOD_list = []\n",
    "            Acceptance_correct =[]\n",
    "            Input_predictions =[]\n",
    "            Accepted_Ratio_list=[]\n",
    "            Accepted_Accuracy_list=[]\n",
    "            # Branch_cost =[17443270,29419724,132134023] #flat exit costs\n",
    "            # Branch_cost =[482376,1517643,80095445,114361924,112698838] #Conv2d exit costs\n",
    "\n",
    "            # Base_cost = 112698838\n",
    "            Branch_flops = []\n",
    "            Thresholds=[]\n",
    "            Test_accuracy =[]\n",
    "            Rollover_accuracy=[]\n",
    "            Results=[]\n",
    "            for rate in OOD_rate:\n",
    "                # print(int(min((len(_output_ID) * i),len(_output_ID))))\n",
    "                print(\"OOD size\",rate)\n",
    "                _OOD_frac=[]\n",
    "                Exit_Name=[]\n",
    "                rollOver_ID_indices = pd.Index([])\n",
    "                rollOver_OOD_indices = pd.Index([])\n",
    "                Input_ID=[]\n",
    "                Input_OOD=[]\n",
    "                Accepted_list =[]\n",
    "                Accepted_ID_list = []\n",
    "                Accepted_OOD_list = []\n",
    "                Acceptance_correct =[]\n",
    "                Input_predictions =[]\n",
    "                Accepted_Ratio_list=[]\n",
    "                Accepted_Accuracy_list=[]\n",
    "                # Branch_cost =[17443270,29419724,132134023] #flat exit costs\n",
    "                # Branch_cost =[482376,1517643,80095445,114361924,112698838] #Conv2d exit costs\n",
    "\n",
    "                # Base_cost = 112698838\n",
    "                Branch_flops = []\n",
    "                Thresholds=[]\n",
    "                Test_accuracy =[]\n",
    "                Rollover_accuracy=[]\n",
    "                Results=[]\n",
    "                for i, output in enumerate(_OOD):\n",
    "                    \n",
    "                    amount = min(len(_ID[i]) * rate,len(_ID[i]))\n",
    "                    # print(\"len\",amount)\n",
    "                    _OOD_frac.append(_OOD[i].iloc[0:int(amount)])\n",
    "                    # print(len(_OOD_frac[i]),len(_ID[i]))\n",
    "                # _df = pd.concat([_ID,_OOD], ignore_index=True)\n",
    "                # y_true = np.int32(_df['outlier'])\n",
    "                for i, (output_ID, output_OOD) in enumerate(zip(_ID, _OOD_frac)): \n",
    "                    Test_accuracy.append(len(output_ID.loc[(output_ID[\"correct\"] == True)])/len(output_ID))\n",
    "\n",
    "                    legend = [\"threshold\",\"correct\",\"incorrect\", \"OOD\"]\n",
    "                    Correct = output_ID.loc[(output_ID['correct'] == True)]\n",
    "                    Incorrect = output_ID.loc[(output_ID['correct'] == False)]\n",
    "                    if plot:\n",
    "                        _ = plt.hist(Correct[metric].tolist(), bins=100)  # arguments are passed to np.histogram\n",
    "                        _ = plt.hist(Incorrect[metric].tolist(), bins=100,color =\"red\", alpha = 0.5)  # arguments are passed to np.histogram\n",
    "                        _ = plt.hist(output_OOD[metric].tolist(), bins=100,color=\"grey\",alpha=0.5)  # arguments are passed to np.histogram\n",
    "\n",
    "\n",
    "                    if threshold:\n",
    "                        if type(threshold) is list:\n",
    "                            if j >= len(threshold): #no threshold in the array so treat as None.\n",
    "                                continue\n",
    "                            _threshold = threshold[j]\n",
    "                        else:\n",
    "                            _threshold = threshold\n",
    "                        if _threshold == \"mean\":\n",
    "                            # _threshold = np.array(ID[metric]).mean()\n",
    "                            Correct = output_ID.loc[(output_ID[\"correct\"] == True)]\n",
    "                            _threshold = np.array(Correct[metric]).mean()\n",
    "                        if _threshold == \"gmean\":\n",
    "                            AUC_thresholds = calc_AUC(output_ID, metrics=metrics,plot = False)\n",
    "                            _threshold = AUC_thresholds[j]\n",
    "                        if _threshold == \"PR_AUC\":\n",
    "                            precision_, recall_, proba = precision_recall_curve(output_ID['correct'], output_ID[metric])\n",
    "                            _threshold = sorted(list(zip(np.abs(precision_ - recall_), proba)), key=lambda i: i[0], reverse=False)[0][1]\n",
    "                        else:\n",
    "                            _threshold = np.float32(_threshold)\n",
    "\n",
    "                    if len(rollOver_ID_indices)>0:\n",
    "                        # print(\"rollover enabled, {} ID predictions provided\".format(len(rollOver_ID_indices)))\n",
    "                        output_ID = output_ID.iloc[rollOver_ID_indices]\n",
    "                    if len(rollOver_OOD_indices)>0:\n",
    "                        # if plot:\n",
    "                        # print(\"rollover enabled, {} OOD predictions provided\".format(len(rollOver_OOD_indices)))\n",
    "                        output_OOD = output_OOD.iloc[rollOver_OOD_indices]\n",
    "\n",
    "                    if plot:\n",
    "                        plt.axvline(x=_threshold, color='k', linestyle='--',label=\"threshold\")\n",
    "                        plt.title(metric + \" outliers\")\n",
    "                        plt.legend(legend)\n",
    "                        plt.xlabel(\"entropy\")\n",
    "                        plt.ylabel(\"frequency\")\n",
    "                        plt.show()\n",
    "                    if main_exit_included and i == len(_ID)-1 :\n",
    "                        Exit_Name.append(\"Main_exit\")\n",
    "                        _threshold\n",
    "                        if plot:\n",
    "                            print(\"main_exit\")\n",
    "                        OOD_accepted = output_OOD\n",
    "                        OOD_rejected = None\n",
    "                        ID_accepted = output_ID\n",
    "                        ID_rejected = None\n",
    "                        accepted_correct = ID_accepted.loc[(ID_accepted[\"correct\"] == True )] #TP\n",
    "                        rejected_correct = None\n",
    "                        accepted_incorrect = ID_accepted.loc[(ID_accepted[metric] ==False)] #FP\n",
    "                        rejected_incorrect = None\n",
    "                        accepted_ID_acc = len(accepted_correct) / (len( ID_accepted))\n",
    "                        overall_accepted_acc = len(accepted_correct) / (len( ID_accepted) + len(OOD_accepted))\n",
    "                        _threshold = \"NA\"\n",
    "                        ### make a threshold that accepts everything, if less than, set to inf, if greater than, set to neg inf?\n",
    "                        # if metric in lessThanMetrics:\n",
    "                            # _threshold = math.inf\n",
    "                        # else:\n",
    "                            # _threshold = -math.inf\n",
    "                    # print(_threshold)\n",
    "                    else:\n",
    "                        if metric in lessThanMetrics: ## metrics that require less than metric\n",
    "                            OOD_accepted = output_OOD.loc[(output_OOD[metric].tolist() <= _threshold)] #FP\n",
    "                            OOD_rejected = output_OOD.loc[(output_OOD[metric].tolist() > _threshold)] #TN\n",
    "                            ID_accepted = output_ID.loc[(output_ID[metric] <= _threshold)] #TP\n",
    "                            ID_rejected = output_ID.loc[(output_ID[metric] > _threshold)] #FN\n",
    "\n",
    "\n",
    "                            accepted_correct = ID_accepted.loc[(ID_accepted[\"correct\"] == True )] #TP\n",
    "                            rejected_correct = ID_rejected.loc[(ID_rejected[\"correct\"] == True)]  #FN\n",
    "\n",
    "                            accepted_incorrect = ID_accepted.loc[(ID_accepted[metric] ==False)] #FP\n",
    "                            rejected_incorrect = ID_rejected.loc[(ID_rejected[metric] ==False)] #TN\n",
    "\n",
    "                            accepted_ID_acc = len(accepted_correct) / (len( ID_accepted))\n",
    "                            overall_accepted_acc = len(accepted_correct) / (len( ID_accepted) + len(OOD_accepted))\n",
    "                            # print(\"OOD accepted:\", len(OOD_accepted),\": with threshold:\",_threshold )\n",
    "                            # print(\"ID accepted:\", len(ID_accepted), \":with acc:\",(accepted_ID_acc))\n",
    "                            # print(\"overall Accepted acc:\",(overall_accepted_acc))\n",
    "\n",
    "                            # print(\"OOD accepted with avg ID \",metric,\" threshold of \",_threshold, \": \", len(OOD.loc[(OOD[metric].tolist() <= _threshold)]), \"out of \", len(OOD))\n",
    "                            # print(\"ID accepted with avg ID \",metric,\" threshold of \",_threshold, \": \", len(ID.loc[(ID[metric] <= _threshold)]), \"out of \", len(ID), \"with acc of \", len(ID.loc[(ID[metric] <= _threshold) & ID['correct'] == True])/len(ID.loc[(ID[metric] <= _threshold)]))\n",
    "                            # print(\"Overall accuracy of accepted inputs:\", len(ID.loc[(ID[metric] <= _threshold) & ID['correct'] == True])/(len(ID.loc[(ID[metric] <= _threshold)])+len(OOD.loc[(OOD[metric] <= _threshold)])))\n",
    "                        else: ### metrics that require greater than metric\n",
    "                            OOD_accepted = output_OOD.loc[(output_OOD[metric].tolist() >= _threshold)] #FP\n",
    "                            OOD_rejected = output_OOD.loc[(output_OOD[metric].tolist() < _threshold)] #TN\n",
    "                            ID_accepted = output_ID.loc[(output_ID[metric] >= _threshold)] #TP\n",
    "                            ID_rejected = output_ID.loc[(output_ID[metric] < _threshold)] #FN\n",
    "\n",
    "                            accepted_correct = ID_accepted.loc[(ID_accepted[\"correct\"] == True )] #TP\n",
    "                            rejected_correct = ID_rejected.loc[(ID_rejected[\"correct\"] == True)]  #FN\n",
    "\n",
    "                            accepted_incorrect = ID_accepted.loc[(ID_accepted[metric] ==False)] #FP\n",
    "                            rejected_incorrect = ID_rejected.loc[(ID_rejected[metric] ==False)] #TN\n",
    "\n",
    "\n",
    "\n",
    "                            accepted_ID_acc = len(accepted_correct) / (len( ID_accepted))\n",
    "                            overall_accepted_acc = len(accepted_correct) / (len( ID_accepted) + len(OOD_accepted))\n",
    "                            # print(\"OOD accepted:\", len(OOD_accepted),\": with threshold:\",_threshold )\n",
    "                            # print(\"ID accepted:\", len(ID_accepted), \":with acc:\",(accepted_ID_acc))\n",
    "                            # print(\"overall Accepted acc:\",(overall_accepted_acc))\n",
    "\n",
    "                            # print(\"OOD accepted with avg ID \",metric,\" threshold of \",_threshold, \": \", len(OOD.loc[(OOD[metric].tolist() >= _threshold)]), \"out of \", len(OOD))\n",
    "                            # print(\"ID accepted with avg ID \",metric,\" threshold of \",_threshold, \": \", len(ID.loc[(ID[metric] >= _threshold)]), \"out of \", len(ID), \"with acc of \", len(ID.loc[(ID[metric] >= _threshold) & ID['correct'] == True])/len(ID.loc[(ID[metric] >= _threshold)]))\n",
    "                            # print(\"Overall accuracy of accepted inputs:\", len(ID.loc[(ID[metric] <= _threshold) & ID['correct'] == True])/(len(ID.loc[(ID[metric] >= _threshold)])+len(OOD.loc[(OOD[metric] >= _threshold)])))\n",
    "                        rollOver_ID_indices = ID_rejected.index\n",
    "                        rollOver_OOD_indices = OOD_rejected.index\n",
    "                        if i >= len(exit_labels):\n",
    "                            exit_labels.append(\"exit_{}\".format(i+1))\n",
    "                        print(exit_labels)\n",
    "                        Exit_Name.append(exit_labels[i])\n",
    "                    Thresholds.append(_threshold)\n",
    "\n",
    "                    Results.append(accepted_correct +accepted_incorrect)\n",
    "                    Input_ID.append(len(output_ID))\n",
    "                    Input_OOD.append(len(output_OOD))\n",
    "                    Accepted_ID_list.append(len(ID_accepted))\n",
    "                    Accepted_OOD_list.append(len(OOD_accepted))\n",
    "                    Accepted_Ratio_list.append(len(ID_accepted)/(len(ID_accepted)+ len(OOD_accepted)))\n",
    "                    Acceptance_correct.append(len(accepted_correct))\n",
    "                    Accepted_Accuracy_list.append(overall_accepted_acc)\n",
    "                df = pd.DataFrame({\n",
    "                \"Exit_Name\":Exit_Name,\n",
    "                \"ID_Inputs\":Input_ID,\n",
    "                \"OOD_Inputs\":Input_OOD,\n",
    "                \"Test_Accuracy\":Test_accuracy,\n",
    "                # \"RollOver_Accuracy\":Rollover_accuracy,\n",
    "                \"Threshold\":Thresholds,\n",
    "                \"Accepted ID\":Accepted_ID_list,\n",
    "                \"Accepted OOD\":Accepted_OOD_list,\n",
    "\n",
    "                \"Accepted_Correct\":Acceptance_correct,\n",
    "                \"Accepted_ID_Ratio\":Accepted_Ratio_list,\n",
    "                \"Acceptance_Accuracy\":Accepted_Accuracy_list,\n",
    "\n",
    "                # \"Flops\":Branch_flops,\n",
    "                # \"Cost Ratio\":,                                  \n",
    "                              })\n",
    "                with pd.option_context('expand_frame_repr', False):\n",
    "                    print (df)\n",
    "                # print(\"TPR_ID-OOD\",len(ID_accepted)/(len(ID_accepted) + len(ID_rejected)))\n",
    "                # print(\"TPR_acc\",len(accepted_correct)/(len(accepted_correct) + len(rejected_correct)))\n",
    "                # if len(OOD) > 0:\n",
    "                #     print(\"FPR_ID-OOD\",len(OOD_accepted)/(len(OOD_accepted) + len(OOD_rejected)))\n",
    "                # else: \n",
    "                #     print(\"FPR for OOD is div by zero, was OOD included?\")\n",
    "                # print(\"FPR_acc\",len(accepted_incorrect)/(len(accepted_incorrect) + len(rejected_incorrect)))\n"
   ]
  },
  {
   "cell_type": "code",
   "execution_count": 77,
   "id": "5ef60699-064e-461f-b797-f3f3f199f657",
   "metadata": {},
   "outputs": [
    {
     "name": "stdout",
     "output_type": "stream",
     "text": [
      "metric:  energy threshold:  mean\n",
      "OOD size 0.1\n"
     ]
    },
    {
     "data": {
      "image/png": "[encoded data removed]",
      "text/plain": [
       "<Figure size 432x288 with 1 Axes>"
      ]
     },
     "metadata": {},
     "output_type": "display_data"
    },
    {
     "name": "stdout",
     "output_type": "stream",
     "text": [
      "['exit_1', 'exit_2']\n"
     ]
    },
    {
     "data": {
      "image/png": "[encoded data removed]",
      "text/plain": [
       "<Figure size 432x288 with 1 Axes>"
      ]
     },
     "metadata": {},
     "output_type": "display_data"
    },
    {
     "name": "stdout",
     "output_type": "stream",
     "text": [
      "['exit_1', 'exit_2']\n"
     ]
    },
    {
     "data": {
      "image/png": "[encoded data removed]",
      "text/plain": [
       "<Figure size 432x288 with 1 Axes>"
      ]
     },
     "metadata": {},
     "output_type": "display_data"
    },
    {
     "name": "stdout",
     "output_type": "stream",
     "text": [
      "main_exit\n",
      "   Exit_Name  ID_Inputs  OOD_Inputs  Test_Accuracy  Threshold  Accepted ID  Accepted OOD  Accepted_Correct  Accepted_ID_Ratio  Acceptance_Accuracy\n",
      "0     exit_1      10000        1000         0.4419   -5.57186         2229            60              2106           0.973788             0.920052\n",
      "1     exit_2       7771         940         0.8145 -10.467496         2169            24              2108           0.989056             0.961240\n",
      "2  Main_exit       5602         916         0.8648         NA         5602           916              4386           0.859466             0.672906\n",
      "OOD size 0.2\n"
     ]
    },
    {
     "data": {
      "image/png": "[encoded data removed]",
      "text/plain": [
       "<Figure size 432x288 with 1 Axes>"
      ]
     },
     "metadata": {},
     "output_type": "display_data"
    },
    {
     "name": "stdout",
     "output_type": "stream",
     "text": [
      "['exit_1', 'exit_2']\n"
     ]
    },
    {
     "data": {
      "image/png": "[encoded data removed]",
      "text/plain": [
       "<Figure size 432x288 with 1 Axes>"
      ]
     },
     "metadata": {},
     "output_type": "display_data"
    },
    {
     "name": "stdout",
     "output_type": "stream",
     "text": [
      "['exit_1', 'exit_2']\n"
     ]
    },
    {
     "data": {
      "image/png": "[encoded data removed]",
      "text/plain": [
       "<Figure size 432x288 with 1 Axes>"
      ]
     },
     "metadata": {},
     "output_type": "display_data"
    },
    {
     "name": "stdout",
     "output_type": "stream",
     "text": [
      "main_exit\n",
      "   Exit_Name  ID_Inputs  OOD_Inputs  Test_Accuracy  Threshold  Accepted ID  Accepted OOD  Accepted_Correct  Accepted_ID_Ratio  Acceptance_Accuracy\n",
      "0     exit_1      10000        2000         0.4419   -5.57186         2229           101              2106           0.956652             0.903863\n",
      "1     exit_2       7771        1899         0.8145 -10.467496         2169            57              2108           0.974394             0.946990\n",
      "2  Main_exit       5602        1842         0.8648         NA         5602          1842              4386           0.752552             0.589199\n",
      "OOD size 0.5\n"
     ]
    },
    {
     "data": {
      "image/png": "[encoded data removed]",
      "text/plain": [
       "<Figure size 432x288 with 1 Axes>"
      ]
     },
     "metadata": {},
     "output_type": "display_data"
    },
    {
     "name": "stdout",
     "output_type": "stream",
     "text": [
      "['exit_1', 'exit_2']\n"
     ]
    },
    {
     "data": {
      "image/png": "[encoded data removed]",
      "text/plain": [
       "<Figure size 432x288 with 1 Axes>"
      ]
     },
     "metadata": {},
     "output_type": "display_data"
    },
    {
     "name": "stdout",
     "output_type": "stream",
     "text": [
      "['exit_1', 'exit_2']\n"
     ]
    },
    {
     "data": {
      "image/png": "[encoded data removed]",
      "text/plain": [
       "<Figure size 432x288 with 1 Axes>"
      ]
     },
     "metadata": {},
     "output_type": "display_data"
    },
    {
     "name": "stdout",
     "output_type": "stream",
     "text": [
      "main_exit\n",
      "   Exit_Name  ID_Inputs  OOD_Inputs  Test_Accuracy  Threshold  Accepted ID  Accepted OOD  Accepted_Correct  Accepted_ID_Ratio  Acceptance_Accuracy\n",
      "0     exit_1      10000        5000         0.4419   -5.57186         2229           232              2106           0.905729             0.855750\n",
      "1     exit_2       7771        4768         0.8145 -10.467496         2169           141              2108           0.938961             0.912554\n",
      "2  Main_exit       5602        4627         0.8648         NA         5602          4627              4386           0.547659             0.428781\n",
      "OOD size 1\n"
     ]
    },
    {
     "data": {
      "image/png": "[encoded data removed]",
      "text/plain": [
       "<Figure size 432x288 with 1 Axes>"
      ]
     },
     "metadata": {},
     "output_type": "display_data"
    },
    {
     "name": "stdout",
     "output_type": "stream",
     "text": [
      "['exit_1', 'exit_2']\n"
     ]
    },
    {
     "data": {
      "image/png": "[encoded data removed]",
      "text/plain": [
       "<Figure size 432x288 with 1 Axes>"
      ]
     },
     "metadata": {},
     "output_type": "display_data"
    },
    {
     "name": "stdout",
     "output_type": "stream",
     "text": [
      "['exit_1', 'exit_2']\n"
     ]
    },
    {
     "data": {
      "image/png": "[encoded data removed]",
      "text/plain": [
       "<Figure size 432x288 with 1 Axes>"
      ]
     },
     "metadata": {},
     "output_type": "display_data"
    },
    {
     "name": "stdout",
     "output_type": "stream",
     "text": [
      "main_exit\n",
      "   Exit_Name  ID_Inputs  OOD_Inputs  Test_Accuracy  Threshold  Accepted ID  Accepted OOD  Accepted_Correct  Accepted_ID_Ratio  Acceptance_Accuracy\n",
      "0     exit_1      10000       10000         0.4419   -5.57186         2229           466              2106           0.827087             0.781447\n",
      "1     exit_2       7771        9534         0.8145 -10.467496         2169           293              2108           0.880991             0.856214\n",
      "2  Main_exit       5602        9241         0.8648         NA         5602          9241              4386           0.377417             0.295493\n"
     ]
    }
   ],
   "source": [
    "calc_auc_OOD(output_ID, output_OOD, [\"energy\"], \"mean\",OOD_rate=[.1,.2,.5,1],plot=True)\n"
   ]
  },
  {
   "cell_type": "code",
   "execution_count": null,
   "id": "b9af903b-26ec-4e60-977e-f5081c0f2fa6",
   "metadata": {},
   "outputs": [],
   "source": []
  },
  {
   "cell_type": "markdown",
   "id": "398fe505-2e5c-4482-b74d-ecf6e9a83bf8",
   "metadata": {},
   "source": [
    "## Entropy Branch version\n",
    "Now we build a branched model with the entropy metric and cross entropy loss for comparision.\n",
    "<hr>"
   ]
  },
  {
   "cell_type": "code",
   "execution_count": 55,
   "id": "5e9830e9-6e36-4f63-8de8-aa31f6194375",
   "metadata": {},
   "outputs": [
    {
     "name": "stdout",
     "output_type": "stream",
     "text": [
      "Matching Branchpoint by id number\n",
      "Matching Branchpoint by name\n",
      "add Branch to branch point  activation_83\n",
      "add Branch to branch point  activation_91\n",
      "KerasTensor(type_spec=TensorSpec(shape=(None, 32, 32, 3), dtype=tf.float32, name='input_4'), name='input_4', description=\"created by layer 'input_4'\")\n",
      "[<KerasTensor: shape=(None, 10) dtype=float32 (created by layer 'dense_3')>, <KerasTensor: shape=(None, 10) dtype=float32 (created by layer 'branch_exit')>, <KerasTensor: shape=(None, 10) dtype=float32 (created by layer 'branch_exit_1')>]\n",
      "branch added <brevis.core_v2.BranchModel object at 0x0000016FCBBD7388>\n",
      "\n",
      "preset: Other\n",
      "Model: \"model_3\"\n",
      "__________________________________________________________________________________________________\n",
      " Layer (type)                   Output Shape         Param #     Connected to                     \n",
      "==================================================================================================\n",
      " input_4 (InputLayer)           [(None, 32, 32, 3)]  0           []                               \n",
      "                                                                                                  \n",
      " conv2d_84 (Conv2D)             (None, 32, 32, 16)   432         ['input_4[0][0]']                \n",
      "                                                                                                  \n",
      " batch_normalization_75 (BatchN  (None, 32, 32, 16)  64          ['conv2d_84[0][0]']              \n",
      " ormalization)                                                                                    \n",
      "                                                                                                  \n",
      " activation_75 (Activation)     (None, 32, 32, 16)   0           ['batch_normalization_75[0][0]'] \n",
      "                                                                                                  \n",
      " conv2d_85 (Conv2D)             (None, 32, 32, 160)  23040       ['activation_75[0][0]']          \n",
      "                                                                                                  \n",
      " batch_normalization_76 (BatchN  (None, 32, 32, 160)  640        ['conv2d_85[0][0]']              \n",
      " ormalization)                                                                                    \n",
      "                                                                                                  \n",
      " activation_76 (Activation)     (None, 32, 32, 160)  0           ['batch_normalization_76[0][0]'] \n",
      "                                                                                                  \n",
      " conv2d_86 (Conv2D)             (None, 32, 32, 160)  230400      ['activation_76[0][0]']          \n",
      "                                                                                                  \n",
      " conv2d_87 (Conv2D)             (None, 32, 32, 160)  2560        ['activation_75[0][0]']          \n",
      "                                                                                                  \n",
      " add_36 (Add)                   (None, 32, 32, 160)  0           ['conv2d_86[0][0]',              \n",
      "                                                                  'conv2d_87[0][0]']              \n",
      "                                                                                                  \n",
      " batch_normalization_77 (BatchN  (None, 32, 32, 160)  640        ['add_36[0][0]']                 \n",
      " ormalization)                                                                                    \n",
      "                                                                                                  \n",
      " activation_77 (Activation)     (None, 32, 32, 160)  0           ['batch_normalization_77[0][0]'] \n",
      "                                                                                                  \n",
      " conv2d_88 (Conv2D)             (None, 32, 32, 160)  230400      ['activation_77[0][0]']          \n",
      "                                                                                                  \n",
      " batch_normalization_78 (BatchN  (None, 32, 32, 160)  640        ['conv2d_88[0][0]']              \n",
      " ormalization)                                                                                    \n",
      "                                                                                                  \n",
      " activation_78 (Activation)     (None, 32, 32, 160)  0           ['batch_normalization_78[0][0]'] \n",
      "                                                                                                  \n",
      " conv2d_89 (Conv2D)             (None, 32, 32, 160)  230400      ['activation_78[0][0]']          \n",
      "                                                                                                  \n",
      " add_37 (Add)                   (None, 32, 32, 160)  0           ['conv2d_89[0][0]',              \n",
      "                                                                  'add_36[0][0]']                 \n",
      "                                                                                                  \n",
      " batch_normalization_79 (BatchN  (None, 32, 32, 160)  640        ['add_37[0][0]']                 \n",
      " ormalization)                                                                                    \n",
      "                                                                                                  \n",
      " activation_79 (Activation)     (None, 32, 32, 160)  0           ['batch_normalization_79[0][0]'] \n",
      "                                                                                                  \n",
      " conv2d_90 (Conv2D)             (None, 32, 32, 160)  230400      ['activation_79[0][0]']          \n",
      "                                                                                                  \n",
      " batch_normalization_80 (BatchN  (None, 32, 32, 160)  640        ['conv2d_90[0][0]']              \n",
      " ormalization)                                                                                    \n",
      "                                                                                                  \n",
      " activation_80 (Activation)     (None, 32, 32, 160)  0           ['batch_normalization_80[0][0]'] \n",
      "                                                                                                  \n",
      " conv2d_91 (Conv2D)             (None, 32, 32, 160)  230400      ['activation_80[0][0]']          \n",
      "                                                                                                  \n",
      " add_38 (Add)                   (None, 32, 32, 160)  0           ['conv2d_91[0][0]',              \n",
      "                                                                  'add_37[0][0]']                 \n",
      "                                                                                                  \n",
      " batch_normalization_81 (BatchN  (None, 32, 32, 160)  640        ['add_38[0][0]']                 \n",
      " ormalization)                                                                                    \n",
      "                                                                                                  \n",
      " activation_81 (Activation)     (None, 32, 32, 160)  0           ['batch_normalization_81[0][0]'] \n",
      "                                                                                                  \n",
      " conv2d_92 (Conv2D)             (None, 32, 32, 160)  230400      ['activation_81[0][0]']          \n",
      "                                                                                                  \n",
      " batch_normalization_82 (BatchN  (None, 32, 32, 160)  640        ['conv2d_92[0][0]']              \n",
      " ormalization)                                                                                    \n",
      "                                                                                                  \n",
      " activation_82 (Activation)     (None, 32, 32, 160)  0           ['batch_normalization_82[0][0]'] \n",
      "                                                                                                  \n",
      " conv2d_93 (Conv2D)             (None, 32, 32, 160)  230400      ['activation_82[0][0]']          \n",
      "                                                                                                  \n",
      " add_39 (Add)                   (None, 32, 32, 160)  0           ['conv2d_93[0][0]',              \n",
      "                                                                  'add_38[0][0]']                 \n",
      "                                                                                                  \n",
      " batch_normalization_83 (BatchN  (None, 32, 32, 160)  640        ['add_39[0][0]']                 \n",
      " ormalization)                                                                                    \n",
      "                                                                                                  \n",
      " activation_83 (Activation)     (None, 32, 32, 160)  0           ['batch_normalization_83[0][0]'] \n",
      "                                                                                                  \n",
      " conv2d_94 (Conv2D)             (None, 16, 16, 320)  460800      ['activation_83[0][0]']          \n",
      "                                                                                                  \n",
      " batch_normalization_84 (BatchN  (None, 16, 16, 320)  1280       ['conv2d_94[0][0]']              \n",
      " ormalization)                                                                                    \n",
      "                                                                                                  \n",
      " activation_84 (Activation)     (None, 16, 16, 320)  0           ['batch_normalization_84[0][0]'] \n",
      "                                                                                                  \n",
      " conv2d_95 (Conv2D)             (None, 16, 16, 320)  921600      ['activation_84[0][0]']          \n",
      "                                                                                                  \n",
      " conv2d_96 (Conv2D)             (None, 16, 16, 320)  51200       ['activation_83[0][0]']          \n",
      "                                                                                                  \n",
      " add_40 (Add)                   (None, 16, 16, 320)  0           ['conv2d_95[0][0]',              \n",
      "                                                                  'conv2d_96[0][0]']              \n",
      "                                                                                                  \n",
      " batch_normalization_85 (BatchN  (None, 16, 16, 320)  1280       ['add_40[0][0]']                 \n",
      " ormalization)                                                                                    \n",
      "                                                                                                  \n",
      " activation_85 (Activation)     (None, 16, 16, 320)  0           ['batch_normalization_85[0][0]'] \n",
      "                                                                                                  \n",
      " conv2d_97 (Conv2D)             (None, 16, 16, 320)  921600      ['activation_85[0][0]']          \n",
      "                                                                                                  \n",
      " batch_normalization_86 (BatchN  (None, 16, 16, 320)  1280       ['conv2d_97[0][0]']              \n",
      " ormalization)                                                                                    \n",
      "                                                                                                  \n",
      " activation_86 (Activation)     (None, 16, 16, 320)  0           ['batch_normalization_86[0][0]'] \n",
      "                                                                                                  \n",
      " conv2d_98 (Conv2D)             (None, 16, 16, 320)  921600      ['activation_86[0][0]']          \n",
      "                                                                                                  \n",
      " add_41 (Add)                   (None, 16, 16, 320)  0           ['conv2d_98[0][0]',              \n",
      "                                                                  'add_40[0][0]']                 \n",
      "                                                                                                  \n",
      " batch_normalization_87 (BatchN  (None, 16, 16, 320)  1280       ['add_41[0][0]']                 \n",
      " ormalization)                                                                                    \n",
      "                                                                                                  \n",
      " activation_87 (Activation)     (None, 16, 16, 320)  0           ['batch_normalization_87[0][0]'] \n",
      "                                                                                                  \n",
      " conv2d_99 (Conv2D)             (None, 16, 16, 320)  921600      ['activation_87[0][0]']          \n",
      "                                                                                                  \n",
      " batch_normalization_88 (BatchN  (None, 16, 16, 320)  1280       ['conv2d_99[0][0]']              \n",
      " ormalization)                                                                                    \n",
      "                                                                                                  \n",
      " activation_88 (Activation)     (None, 16, 16, 320)  0           ['batch_normalization_88[0][0]'] \n",
      "                                                                                                  \n",
      " conv2d_100 (Conv2D)            (None, 16, 16, 320)  921600      ['activation_88[0][0]']          \n",
      "                                                                                                  \n",
      " add_42 (Add)                   (None, 16, 16, 320)  0           ['conv2d_100[0][0]',             \n",
      "                                                                  'add_41[0][0]']                 \n",
      "                                                                                                  \n",
      " batch_normalization_89 (BatchN  (None, 16, 16, 320)  1280       ['add_42[0][0]']                 \n",
      " ormalization)                                                                                    \n",
      "                                                                                                  \n",
      " activation_89 (Activation)     (None, 16, 16, 320)  0           ['batch_normalization_89[0][0]'] \n",
      "                                                                                                  \n",
      " conv2d_101 (Conv2D)            (None, 16, 16, 320)  921600      ['activation_89[0][0]']          \n",
      "                                                                                                  \n",
      " batch_normalization_90 (BatchN  (None, 16, 16, 320)  1280       ['conv2d_101[0][0]']             \n",
      " ormalization)                                                                                    \n",
      "                                                                                                  \n",
      " activation_90 (Activation)     (None, 16, 16, 320)  0           ['batch_normalization_90[0][0]'] \n",
      "                                                                                                  \n",
      " conv2d_102 (Conv2D)            (None, 16, 16, 320)  921600      ['activation_90[0][0]']          \n",
      "                                                                                                  \n",
      " add_43 (Add)                   (None, 16, 16, 320)  0           ['conv2d_102[0][0]',             \n",
      "                                                                  'add_42[0][0]']                 \n",
      "                                                                                                  \n",
      " batch_normalization_91 (BatchN  (None, 16, 16, 320)  1280       ['add_43[0][0]']                 \n",
      " ormalization)                                                                                    \n",
      "                                                                                                  \n",
      " activation_91 (Activation)     (None, 16, 16, 320)  0           ['batch_normalization_91[0][0]'] \n",
      "                                                                                                  \n",
      " conv2d_103 (Conv2D)            (None, 8, 8, 640)    1843200     ['activation_91[0][0]']          \n",
      "                                                                                                  \n",
      " batch_normalization_92 (BatchN  (None, 8, 8, 640)   2560        ['conv2d_103[0][0]']             \n",
      " ormalization)                                                                                    \n",
      "                                                                                                  \n",
      " activation_92 (Activation)     (None, 8, 8, 640)    0           ['batch_normalization_92[0][0]'] \n",
      "                                                                                                  \n",
      " conv2d_104 (Conv2D)            (None, 8, 8, 640)    3686400     ['activation_92[0][0]']          \n",
      "                                                                                                  \n",
      " conv2d_105 (Conv2D)            (None, 8, 8, 640)    204800      ['activation_91[0][0]']          \n",
      "                                                                                                  \n",
      " add_44 (Add)                   (None, 8, 8, 640)    0           ['conv2d_104[0][0]',             \n",
      "                                                                  'conv2d_105[0][0]']             \n",
      "                                                                                                  \n",
      " batch_normalization_93 (BatchN  (None, 8, 8, 640)   2560        ['add_44[0][0]']                 \n",
      " ormalization)                                                                                    \n",
      "                                                                                                  \n",
      " activation_93 (Activation)     (None, 8, 8, 640)    0           ['batch_normalization_93[0][0]'] \n",
      "                                                                                                  \n",
      " conv2d_106 (Conv2D)            (None, 8, 8, 640)    3686400     ['activation_93[0][0]']          \n",
      "                                                                                                  \n",
      " batch_normalization_94 (BatchN  (None, 8, 8, 640)   2560        ['conv2d_106[0][0]']             \n",
      " ormalization)                                                                                    \n",
      "                                                                                                  \n",
      " activation_94 (Activation)     (None, 8, 8, 640)    0           ['batch_normalization_94[0][0]'] \n",
      "                                                                                                  \n",
      " conv2d_107 (Conv2D)            (None, 8, 8, 640)    3686400     ['activation_94[0][0]']          \n",
      "                                                                                                  \n",
      " add_45 (Add)                   (None, 8, 8, 640)    0           ['conv2d_107[0][0]',             \n",
      "                                                                  'add_44[0][0]']                 \n",
      "                                                                                                  \n",
      " batch_normalization_95 (BatchN  (None, 8, 8, 640)   2560        ['add_45[0][0]']                 \n",
      " ormalization)                                                                                    \n",
      "                                                                                                  \n",
      " activation_95 (Activation)     (None, 8, 8, 640)    0           ['batch_normalization_95[0][0]'] \n",
      "                                                                                                  \n",
      " conv2d_108 (Conv2D)            (None, 8, 8, 640)    3686400     ['activation_95[0][0]']          \n",
      "                                                                                                  \n",
      " batch_normalization_96 (BatchN  (None, 8, 8, 640)   2560        ['conv2d_108[0][0]']             \n",
      " ormalization)                                                                                    \n",
      "                                                                                                  \n",
      " activation_96 (Activation)     (None, 8, 8, 640)    0           ['batch_normalization_96[0][0]'] \n",
      "                                                                                                  \n",
      " conv2d_109 (Conv2D)            (None, 8, 8, 640)    3686400     ['activation_96[0][0]']          \n",
      "                                                                                                  \n",
      " add_46 (Add)                   (None, 8, 8, 640)    0           ['conv2d_109[0][0]',             \n",
      "                                                                  'add_45[0][0]']                 \n",
      "                                                                                                  \n",
      " batch_normalization_97 (BatchN  (None, 8, 8, 640)   2560        ['add_46[0][0]']                 \n",
      " ormalization)                                                                                    \n",
      "                                                                                                  \n",
      " activation_97 (Activation)     (None, 8, 8, 640)    0           ['batch_normalization_97[0][0]'] \n",
      "                                                                                                  \n",
      " conv2d_110 (Conv2D)            (None, 8, 8, 640)    3686400     ['activation_97[0][0]']          \n",
      "                                                                                                  \n",
      " batch_normalization_98 (BatchN  (None, 8, 8, 640)   2560        ['conv2d_110[0][0]']             \n",
      " ormalization)                                                                                    \n",
      "                                                                                                  \n",
      " activation_98 (Activation)     (None, 8, 8, 640)    0           ['batch_normalization_98[0][0]'] \n",
      "                                                                                                  \n",
      " branch_conv2d (Conv2D)         (None, 30, 30, 160)  230560      ['activation_83[0][0]']          \n",
      "                                                                                                  \n",
      " branch_conv2d_3 (Conv2D)       (None, 14, 14, 320)  921920      ['activation_91[0][0]']          \n",
      "                                                                                                  \n",
      " conv2d_111 (Conv2D)            (None, 8, 8, 640)    3686400     ['activation_98[0][0]']          \n",
      "                                                                                                  \n",
      " branch_batchnorm (BatchNormali  (None, 30, 30, 160)  640        ['branch_conv2d[0][0]']          \n",
      " zation)                                                                                          \n",
      "                                                                                                  \n",
      " branch_batchnorm_2 (BatchNorma  (None, 14, 14, 320)  1280       ['branch_conv2d_3[0][0]']        \n",
      " lization)                                                                                        \n",
      "                                                                                                  \n",
      " add_47 (Add)                   (None, 8, 8, 640)    0           ['conv2d_111[0][0]',             \n",
      "                                                                  'add_46[0][0]']                 \n",
      "                                                                                                  \n",
      " branch_conv2d_1 (Conv2D)       (None, 28, 28, 160)  230560      ['branch_batchnorm[0][0]']       \n",
      "                                                                                                  \n",
      " branch_conv2d_4 (Conv2D)       (None, 12, 12, 320)  921920      ['branch_batchnorm_2[0][0]']     \n",
      "                                                                                                  \n",
      " batch_normalization_99 (BatchN  (None, 8, 8, 640)   2560        ['add_47[0][0]']                 \n",
      " ormalization)                                                                                    \n",
      "                                                                                                  \n",
      " branch_batchnorm_1 (BatchNorma  (None, 28, 28, 160)  640        ['branch_conv2d_1[0][0]']        \n",
      " lization)                                                                                        \n",
      "                                                                                                  \n",
      " branch_batchnorm_3 (BatchNorma  (None, 12, 12, 320)  1280       ['branch_conv2d_4[0][0]']        \n",
      " lization)                                                                                        \n",
      "                                                                                                  \n",
      " activation_99 (Activation)     (None, 8, 8, 640)    0           ['batch_normalization_99[0][0]'] \n",
      "                                                                                                  \n",
      " branch_conv2d_2 (Conv2D)       (None, 26, 26, 360)  518760      ['branch_batchnorm_1[0][0]']     \n",
      "                                                                                                  \n",
      " branch_conv2d_5 (Conv2D)       (None, 10, 10, 440)  1267640     ['branch_batchnorm_3[0][0]']     \n",
      "                                                                                                  \n",
      " average_pooling2d_3 (AveragePo  (None, 8, 8, 640)   0           ['activation_99[0][0]']          \n",
      " oling2D)                                                                                         \n",
      "                                                                                                  \n",
      " branch_avgpool (AveragePooling  (None, 17, 17, 360)  0          ['branch_conv2d_2[0][0]']        \n",
      " 2D)                                                                                              \n",
      "                                                                                                  \n",
      " branch_avgpool_1 (AveragePooli  (None, 7, 7, 440)   0           ['branch_conv2d_5[0][0]']        \n",
      " ng2D)                                                                                            \n",
      "                                                                                                  \n",
      " flatten_3 (Flatten)            (None, 40960)        0           ['average_pooling2d_3[0][0]']    \n",
      "                                                                                                  \n",
      " branch_flatten (Flatten)       (None, 104040)       0           ['branch_avgpool[0][0]']         \n",
      "                                                                                                  \n",
      " branch_flatten_1 (Flatten)     (None, 21560)        0           ['branch_avgpool_1[0][0]']       \n",
      "                                                                                                  \n",
      " dense_3 (Dense)                (None, 10)           409600      ['flatten_3[0][0]']              \n",
      "                                                                                                  \n",
      " branch_exit (Dense)            (None, 10)           1040410     ['branch_flatten[0][0]']         \n",
      "                                                                                                  \n",
      " branch_exit_1 (Dense)          (None, 10)           215610      ['branch_flatten_1[0][0]']       \n",
      "                                                                                                  \n",
      "==================================================================================================\n",
      "Total params: 42,251,556\n",
      "Trainable params: 42,231,684\n",
      "Non-trainable params: 19,872\n",
      "__________________________________________________________________________________________________\n"
     ]
    }
   ],
   "source": [
    "import random\n",
    "seed = 42\n",
    "random.seed(seed)\n",
    "tf.random.set_seed(seed)\n",
    "np.random.seed(seed)\n",
    "tf.keras.backend.clear_session()\n",
    "\n",
    "lambda_callback = lambda_update(1000,0,max_t = 0.01)\n",
    "# branch_loss = brevisEnergy(lambda_callback)\n",
    "branch_loss = keras.losses.CategoricalCrossentropy(from_logits=True)\n",
    "trunk_loss = keras.losses.CategoricalCrossentropy(from_logits=False)\n",
    "# loss = kl_loss(lambda_callback)\n",
    "earlyStop = tf.keras.callbacks.EarlyStopping(monitor=\"val_accuracy\",patience=4,restore_best_weights=True)\n",
    "\n",
    "\n",
    "model = brevis.BranchModel(name=\"./models/wideresnet_.81.hdf5\", custom_objects={})\n",
    "# model.add_branches([_branch_flat,_branch_flat],\n",
    "#                           [\"conv2_block1_out\",\"conv2_block3_out\",\n",
    "#                             # \"dense\"\n",
    "#                           ],\n",
    "#                           target_input=False,loop=False,num_outputs=10)\n",
    "\n",
    "model.add_branches([_branch_conv1,_branch_conv2],\n",
    "                          [\"activation_83\",\"activation_91\",#\"mixed6\"\n",
    "                          ],\n",
    "                          target_input=False,loop=False,num_outputs=10)\n",
    "# model.compile(loss = [trunk_loss,loss_fn,loss_fn], optimizer=tf.optimizers.SGD(learning_rate=0.001, momentum=0.9),metrics=['accuracy'])\n",
    "model.compile(loss=[trunk_loss,branch_loss,branch_loss], \n",
    "                  optimizer=tf.optimizers.SGD(learning_rate=0.001, momentum=0.9),\n",
    "                  # optimizer=\"adam\",\n",
    "              preset=\"\", metrics=['accuracy'])\n",
    "\n",
    "model.summary()\n"
   ]
  },
  {
   "cell_type": "code",
   "execution_count": 56,
   "id": "67ead96e-2332-469c-86c7-c05fabff94c5",
   "metadata": {},
   "outputs": [
    {
     "name": "stdout",
     "output_type": "stream",
     "text": [
      "Freezing Main Layers and setting branch layers training to true\n",
      "annealing coef updated to: 0\n",
      "Epoch 1/5\n",
      "   6/1407 [..............................] - ETA: 4:22 - loss: 5.4299 - dense_3_loss: 0.2489 - branch_exit_loss: 2.5156 - branch_exit_1_loss: 2.3035 - dense_3_accuracy: 0.9010 - branch_exit_accuracy: 0.1250 - branch_exit_1_accuracy: 0.1406WARNING:tensorflow:Callback method `on_train_batch_end` is slow compared to the batch time (batch time: 0.0766s vs `on_train_batch_end` time: 0.1204s). Check your callbacks.\n",
      "1407/1407 [==============================] - 278s 195ms/step - loss: 2.4611 - dense_3_loss: 0.1722 - branch_exit_loss: 1.1862 - branch_exit_1_loss: 0.7447 - dense_3_accuracy: 0.9417 - branch_exit_accuracy: 0.6133 - branch_exit_1_accuracy: 0.7422 - val_loss: 1.9256 - val_dense_3_loss: 0.1696 - val_branch_exit_loss: 0.8319 - val_branch_exit_1_loss: 0.5699 - val_dense_3_accuracy: 0.9412 - val_branch_exit_accuracy: 0.7062 - val_branch_exit_1_accuracy: 0.8080\n",
      "annealing coef updated to: 0.001\n",
      "Epoch 2/5\n",
      "1407/1407 [==============================] - 276s 196ms/step - loss: 1.6505 - dense_3_loss: 0.1219 - branch_exit_loss: 0.7380 - branch_exit_1_loss: 0.4402 - dense_3_accuracy: 0.9618 - branch_exit_accuracy: 0.7438 - branch_exit_1_accuracy: 0.8479 - val_loss: 1.7529 - val_dense_3_loss: 0.1534 - val_branch_exit_loss: 0.7498 - val_branch_exit_1_loss: 0.5030 - val_dense_3_accuracy: 0.9468 - val_branch_exit_accuracy: 0.7352 - val_branch_exit_1_accuracy: 0.8312\n",
      "annealing coef updated to: 0.002\n",
      "Epoch 3/5\n",
      "1407/1407 [==============================] - 276s 196ms/step - loss: 1.3575 - dense_3_loss: 0.1033 - branch_exit_loss: 0.5978 - branch_exit_1_loss: 0.3134 - dense_3_accuracy: 0.9684 - branch_exit_accuracy: 0.7933 - branch_exit_1_accuracy: 0.8915 - val_loss: 1.5034 - val_dense_3_loss: 0.1384 - val_branch_exit_loss: 0.6090 - val_branch_exit_1_loss: 0.4166 - val_dense_3_accuracy: 0.9526 - val_branch_exit_accuracy: 0.7890 - val_branch_exit_1_accuracy: 0.8594\n",
      "annealing coef updated to: 0.003\n",
      "Epoch 4/5\n",
      "1407/1407 [==============================] - 279s 198ms/step - loss: 1.1675 - dense_3_loss: 0.0862 - branch_exit_loss: 0.5185 - branch_exit_1_loss: 0.2270 - dense_3_accuracy: 0.9771 - branch_exit_accuracy: 0.8212 - branch_exit_1_accuracy: 0.9214 - val_loss: 1.5879 - val_dense_3_loss: 0.1656 - val_branch_exit_loss: 0.6227 - val_branch_exit_1_loss: 0.4674 - val_dense_3_accuracy: 0.9452 - val_branch_exit_accuracy: 0.7872 - val_branch_exit_1_accuracy: 0.8466\n",
      "annealing coef updated to: 0.004\n",
      "Epoch 5/5\n",
      "1407/1407 [==============================] - 280s 199ms/step - loss: 1.0221 - dense_3_loss: 0.0753 - branch_exit_loss: 0.4536 - branch_exit_1_loss: 0.1645 - dense_3_accuracy: 0.9812 - branch_exit_accuracy: 0.8442 - branch_exit_1_accuracy: 0.9442 - val_loss: 1.4923 - val_dense_3_loss: 0.1471 - val_branch_exit_loss: 0.5827 - val_branch_exit_1_loss: 0.4372 - val_dense_3_accuracy: 0.9512 - val_branch_exit_accuracy: 0.8044 - val_branch_exit_1_accuracy: 0.8654\n"
     ]
    },
    {
     "data": {
      "text/plain": [
       "<brevis.core_v2.BranchModel at 0x16de3c230c8>"
      ]
     },
     "execution_count": 56,
     "metadata": {},
     "output_type": "execute_result"
    }
   ],
   "source": [
    "model.fit(train_ds, epochs = 5, validation_data=validation_ds, transfer=True,callbacks=[lambda_callback])"
   ]
  },
  {
   "cell_type": "code",
   "execution_count": 57,
   "id": "3bede128-b080-45d0-b619-2c6e18c2c908",
   "metadata": {},
   "outputs": [
    {
     "name": "stdout",
     "output_type": "stream",
     "text": [
      "313/313 [==============================] - 19s 59ms/step - loss: 1.9134 - dense_3_loss: 0.4517 - branch_exit_loss: 0.6131 - branch_exit_1_loss: 0.5233 - dense_3_accuracy: 0.8630 - branch_exit_accuracy: 0.7911 - branch_exit_1_accuracy: 0.8391\n"
     ]
    },
    {
     "data": {
      "text/plain": [
       "[1.9133697748184204,\n",
       " 0.45171138644218445,\n",
       " 0.6130933165550232,\n",
       " 0.5233008861541748,\n",
       " 0.8629999756813049,\n",
       " 0.791100025177002,\n",
       " 0.8391000032424927]"
      ]
     },
     "execution_count": 57,
     "metadata": {},
     "output_type": "execute_result"
    }
   ],
   "source": [
    "model.evaluate(test_ds)"
   ]
  },
  {
   "cell_type": "code",
   "execution_count": 58,
   "id": "2afd5d43-5e44-413f-b697-315db34f9537",
   "metadata": {},
   "outputs": [],
   "source": [
    "model.save(\"./models/journal_models/wideresnet_B_conv3_5.hdf5\")"
   ]
  },
  {
   "cell_type": "markdown",
   "id": "bcd0a6a2-77ad-4e30-b7fe-50d20d3cbdeb",
   "metadata": {},
   "source": [
    "## Get the Branch output results\n",
    "Collect the branch output results for both the ID and OOD test sets then evaluate the results."
   ]
  },
  {
   "cell_type": "code",
   "execution_count": 59,
   "id": "6a87a35b-96af-492b-bdb5-c424fb2c8dfb",
   "metadata": {},
   "outputs": [
    {
     "name": "stdout",
     "output_type": "stream",
     "text": [
      "outputs 3\n",
      "prediction: 312 of 313\r"
     ]
    }
   ],
   "source": [
    "output_ID_old= evaluate.getPredictions_Energy(model, test_ds,stopping_point=None)\n",
    "for i in output_ID_old:\n",
    "    i['outlier']=0\n"
   ]
  },
  {
   "cell_type": "code",
   "execution_count": 60,
   "id": "9e5cd3ef-4c81-423f-8828-d4daa22271ae",
   "metadata": {},
   "outputs": [
    {
     "name": "stdout",
     "output_type": "stream",
     "text": [
      "outputs 3\n",
      "prediction: 312 of 313\r"
     ]
    }
   ],
   "source": [
    "output_OOD_old = evaluate.getPredictions_Energy(model, test_ds100,stopping_point=None)\n",
    "for i in output_OOD_old:\n",
    "    i['correct']=0\n",
    "    i['outlier']=1"
   ]
  },
  {
   "cell_type": "code",
   "execution_count": 63,
   "id": "692765b4-2427-459b-bdbc-1017955c03cd",
   "metadata": {},
   "outputs": [],
   "source": [
    "def save_outputs(filename,outputs):\n",
    "    from openpyxl import Workbook\n",
    "    wb= Workbook()\n",
    "    ws=wb.active\n",
    "    with pd.ExcelWriter('./csv/'+filename+'.xlsx', engine=\"openpyxl\") as writer:\n",
    "        writer.book=wb\n",
    "        writer.sheets = dict((ws.title, ws) for ws in wb.worksheets)\n",
    "\n",
    "        #useful code\n",
    "        for i, df in enumerate(outputs):\n",
    "            name = \"exit{}\".format(i+1)\n",
    "            df.to_excel(writer, name)\n",
    "        # df.to_excel(writer, sheet, ...)\n",
    "        writer.save()\n",
    "    wb.close()\n",
    "    \n",
    "def read_outputs(fileName):\n",
    "    output_test = list(pd.read_excel('./csv/'+fileName+'.xlsx',['exit1','exit2','exit3']).values())\n",
    "    # for i in output_test:\n",
    "        # print(i.head())\n",
    "    return output_test\n",
    "filename = 'wideresnet_B_conv3_5'\n",
    "save_outputs(filename+'_ID',output_ID_old)\n",
    "save_outputs(filename+'_OOD',output_OOD_old)\n",
    "# save_outputs(filename+'_OOD_SVHN',output_OOD_SVHN)"
   ]
  },
  {
   "cell_type": "markdown",
   "id": "edea075f-8b39-414d-9a39-61b1221feab2",
   "metadata": {},
   "source": [
    "### T/F in distribution performance\n",
    "<hr>"
   ]
  },
  {
   "cell_type": "code",
   "execution_count": 64,
   "id": "f4870f3f-bcef-4cf5-bcbe-42185fb99abc",
   "metadata": {},
   "outputs": [
    {
     "name": "stdout",
     "output_type": "stream",
     "text": [
      "metric:  energy threshold:  mean\n",
      "['exit_1', 'exit_2']\n",
      "3766 inputs accepted 3546 Correct\n"
     ]
    },
    {
     "data": {
      "image/png": "[encoded data removed]",
      "text/plain": [
       "<Figure size 432x288 with 1 Axes>"
      ]
     },
     "metadata": {},
     "output_type": "display_data"
    },
    {
     "name": "stdout",
     "output_type": "stream",
     "text": [
      "-----------------\n",
      "rollover enabled, 6234 predictions provided\n",
      "['exit_1', 'exit_2']\n",
      "890 inputs accepted 856 Correct\n"
     ]
    },
    {
     "data": {
      "image/png": "[encoded data removed]",
      "text/plain": [
       "<Figure size 432x288 with 1 Axes>"
      ]
     },
     "metadata": {},
     "output_type": "display_data"
    },
    {
     "name": "stdout",
     "output_type": "stream",
     "text": [
      "-----------------\n",
      "rollover enabled, 5344 predictions provided\n",
      "main_exit\n",
      "5344 inputs accepted 4133 Correct\n"
     ]
    },
    {
     "data": {
      "image/png": "[encoded data removed]",
      "text/plain": [
       "<Figure size 432x288 with 1 Axes>"
      ]
     },
     "metadata": {},
     "output_type": "display_data"
    },
    {
     "name": "stdout",
     "output_type": "stream",
     "text": [
      "-----------------\n",
      "   Exit_Name  Predictions  Test_Accuracy  RollOver_Accuracy  Threshold  Accepted  Accepted_Correct  Accepted_Ratio  Acceptance_Accuracy\n",
      "0     exit_1        10000         0.7911           0.791100  -8.180323      3766              3546        0.376600             0.941583\n",
      "1     exit_2         6234         0.8391           0.769811 -13.332321       890               856        0.142765             0.961798\n",
      "2  Main_exit         5344         0.8630           0.773391  -2.455151      5344              4133        1.000000             0.773391\n"
     ]
    }
   ],
   "source": [
    "evaluate.calculateBranching(output_ID_old,threshold=\"mean\",metrics=[\"energy\"],main_exit_included=True,plot=True)\n"
   ]
  },
  {
   "cell_type": "code",
   "execution_count": 67,
   "id": "280345c8-2289-422b-9fe3-657354158ea0",
   "metadata": {},
   "outputs": [
    {
     "name": "stdout",
     "output_type": "stream",
     "text": [
      "metric:  entropy threshold:  PR_AUC\n",
      "['exit_1', 'exit_2']\n",
      "['exit_1', 'exit_2']\n",
      "   Exit_Name  Predictions  Test_Accuracy  RollOver_Accuracy  Threshold  Accepted  Accepted_Correct  Accepted_Ratio  Acceptance_Accuracy\n",
      "0     exit_1        10000         0.7911           0.791100   0.082291      2090              2074        0.209000             0.992344\n",
      "1     exit_2         7910         0.8391           0.798609   0.000280       467               467        0.059039             1.000000\n",
      "2  Main_exit         7443         0.8630           0.817815   3.216030      7443              6087        1.000000             0.817815\n",
      "metric:  entropy threshold:  mean\n",
      "['exit_1', 'exit_2']\n",
      "['exit_1', 'exit_2']\n",
      "   Exit_Name  Predictions  Test_Accuracy  RollOver_Accuracy  Threshold  Accepted  Accepted_Correct  Accepted_Ratio  Acceptance_Accuracy\n",
      "0     exit_1        10000         0.7911           0.791100   0.575167      5029              4821        0.502900             0.958640\n",
      "1     exit_2         4971         0.8391           0.720579   0.236752      1899              1758        0.382016             0.925750\n",
      "2  Main_exit         3072         0.8630           0.666341   3.227570      3072              2047        1.000000             0.666341\n",
      "metric:  entropy threshold:  gmean\n",
      "entropy  lr_auc 0.16445812706087148 Best Threshold=0.8972830176353455, G-Mean=0.7645101998811973, TPR=0.807084729535663, FPR=0.2758184805966376\n",
      "['exit_1', 'exit_2']\n",
      "entropy  lr_auc 0.12139793745985053 Best Threshold=0.37548986077308655, G-Mean=0.8047487904576408, TPR=0.8247358607830951, FPR=0.2147539029913002\n",
      "['exit_1', 'exit_2']\n",
      "entropy  lr_auc 0.11565604621461376 Best Threshold=3.228971481323242, G-Mean=0.8169809927424195, TPR=0.8598540145985402, FPR=0.22375434530706836\n",
      "   Exit_Name  Predictions  Test_Accuracy  RollOver_Accuracy  Threshold  Accepted  Accepted_Correct  Accepted_Ratio  Acceptance_Accuracy\n",
      "0     exit_1        10000         0.7911           0.791100   0.897283      6133              5729        0.613300             0.934127\n",
      "1     exit_2         3867         0.8391           0.685803   0.375490      1517              1366        0.392294             0.900461\n",
      "2  Main_exit         2350         0.8630           0.632766   3.228971      2350              1487        1.000000             0.632766\n"
     ]
    }
   ],
   "source": [
    "evaluate.calculateBranching(output_ID_old,threshold=\"PR_AUC\",metrics=[\"entropy\"],main_exit_included=True,plot=False)\n",
    "evaluate.calculateBranching(output_ID_old,threshold=\"mean\",metrics=[\"entropy\"],main_exit_included=True,plot=False)\n",
    "evaluate.calculateBranching(output_ID_old,threshold=\"gmean\",metrics=[\"entropy\"],main_exit_included=True,plot=False)\n"
   ]
  },
  {
   "cell_type": "markdown",
   "id": "39188c43-47a6-48c0-9a46-1cf67455f398",
   "metadata": {},
   "source": [
    "### ID/OOD branch performance\n",
    "<hr>"
   ]
  },
  {
   "cell_type": "code",
   "execution_count": 66,
   "id": "51a23205-ec87-45df-9db3-c71f99d11893",
   "metadata": {},
   "outputs": [
    {
     "name": "stdout",
     "output_type": "stream",
     "text": [
      "metric:  entropy threshold:  PR_AUC\n",
      "['exit_1', 'exit_2']\n",
      "['exit_1', 'exit_2']\n",
      "   Exit_Name  ID_Inputs  OOD_Inputs  Test_Accuracy Threshold  Accepted ID  Accepted OOD  Accepted_Correct  Accepted_ID_Ratio  Acceptance_Accuracy\n",
      "0     exit_1      10000       10000         0.7911  0.082291         2090           198              2074           0.913462             0.906469\n",
      "1     exit_2       7910        9802         0.8391   0.00028          467            31               467           0.937751             0.937751\n",
      "2  Main_exit       7443        9771         0.8630        NA         7443          9771              6087           0.432381             0.353608\n",
      "metric:  entropy threshold:  mean\n",
      "['exit_1', 'exit_2']\n",
      "['exit_1', 'exit_2']\n",
      "   Exit_Name  ID_Inputs  OOD_Inputs  Test_Accuracy Threshold  Accepted ID  Accepted OOD  Accepted_Correct  Accepted_ID_Ratio  Acceptance_Accuracy\n",
      "0     exit_1      10000       10000         0.7911  0.575167         5029          1397              4821           0.782602             0.750233\n",
      "1     exit_2       4971        8603         0.8391  0.236752         1899          1198              1758           0.613174             0.567646\n",
      "2  Main_exit       3072        7405         0.8630        NA         3072          7405              2047           0.293214             0.195380\n",
      "metric:  entropy threshold:  gmean\n",
      "entropy  lr_auc 0.16445812706087148 Best Threshold=0.8972830176353455, G-Mean=0.7645101998811973, TPR=0.807084729535663, FPR=0.2758184805966376\n",
      "['exit_1', 'exit_2']\n",
      "entropy  lr_auc 0.12139793745985053 Best Threshold=0.37548986077308655, G-Mean=0.8047487904576408, TPR=0.8247358607830951, FPR=0.2147539029913002\n",
      "['exit_1', 'exit_2']\n",
      "entropy  lr_auc 0.11565604621461376 Best Threshold=3.228971481323242, G-Mean=0.8169809927424195, TPR=0.8598540145985402, FPR=0.22375434530706836\n",
      "   Exit_Name  ID_Inputs  OOD_Inputs  Test_Accuracy Threshold  Accepted ID  Accepted OOD  Accepted_Correct  Accepted_ID_Ratio  Acceptance_Accuracy\n",
      "0     exit_1      10000       10000         0.7911  0.897283         6133          2358              5729           0.722294             0.674714\n",
      "1     exit_2       3867        7642         0.8391   0.37549         1517          1363              1366           0.526736             0.474306\n",
      "2  Main_exit       2350        6279         0.8630        NA         2350          6279              1487           0.272337             0.172326\n"
     ]
    }
   ],
   "source": [
    "# buildCompareDistribPlot(output_ID, output_OOD, [\"energy\"], \"PR_AUC\",plot=False)\n",
    "\n",
    "evaluate.buildCompareDistribPlot(output_ID_old, output_OOD_old, [\"entropy\"], \"PR_AUC\",plot=False)\n",
    "evaluate.buildCompareDistribPlot(output_ID_old, output_OOD_old, [\"entropy\"], \"mean\",plot=False)\n",
    "evaluate.buildCompareDistribPlot(output_ID_old, output_OOD_old, [\"entropy\"], \"gmean\",plot=False)\n",
    "\n",
    "# buildCompareDistribPlot(output_ID, output_OOD, [\"calibration\"], \"PR_AUC\",plot=False)"
   ]
  },
  {
   "cell_type": "code",
   "execution_count": null,
   "id": "f7fda452-1ad9-44c3-98f1-66abb04122f6",
   "metadata": {},
   "outputs": [],
   "source": []
  },
  {
   "cell_type": "code",
   "execution_count": null,
   "id": "a9a685b5-44f3-467f-89c8-af732f310f32",
   "metadata": {},
   "outputs": [],
   "source": [
    "calc_auc_OOD(output_ID_old, output_OOD_old, [\"entropy\"], \"mean\",OOD_rate=[.1,.2,.5,1],plot=False)\n"
   ]
  },
  {
   "cell_type": "markdown",
   "id": "53a535fa-71e7-4169-b22e-e8a92159b03f",
   "metadata": {},
   "source": [
    "### Calibration \n",
    "<hr>"
   ]
  },
  {
   "cell_type": "code",
   "execution_count": null,
   "id": "3a6bd83d-79d0-4c99-a835-fac6121fe898",
   "metadata": {},
   "outputs": [
    {
     "name": "stdout",
     "output_type": "stream",
     "text": [
      "metric:  calibration threshold:  PR_AUC\n",
      "['exit_1', 'exit_2']\n",
      "['exit_1', 'exit_2']\n",
      "   Exit_Name  Predictions  Test_Accuracy  RollOver_Accuracy  Threshold  Accepted  Accepted_Correct  Accepted_Ratio  Acceptance_Accuracy\n",
      "0     exit_1        10000         0.7911           0.791100   0.614095      7911              6945        0.791100             0.877892\n",
      "1     exit_2         2089         0.8391           0.626137   0.763845      1256               951        0.601245             0.757166\n",
      "2  Main_exit          833         0.8630           0.579832   0.181627       833               483        1.000000             0.579832\n",
      "metric:  calibration threshold:  mean\n",
      "['exit_1', 'exit_2']\n",
      "['exit_1', 'exit_2']\n",
      "   Exit_Name  Predictions  Test_Accuracy  RollOver_Accuracy  Threshold  Accepted  Accepted_Correct  Accepted_Ratio  Acceptance_Accuracy\n",
      "0     exit_1        10000         0.7911           0.791100   0.866677      5553              5265        0.555300             0.948136\n",
      "1     exit_2         4447         0.8391           0.705869   0.944337      1859              1690        0.418035             0.909091\n",
      "2  Main_exit         2588         0.8630           0.644127   0.221773      2588              1667        1.000000             0.644127\n",
      "metric:  calibration threshold:  gmean\n",
      "calibration  lr_auc 0.8401581524570951 Best Threshold=0.8064189553260803, G-Mean=0.7700044699350568, TPR=0.7359373024902035, FPR=0.19435136428913355\n",
      "['exit_1', 'exit_2']\n",
      "calibration  lr_auc 0.8793417049357168 Best Threshold=0.9506756663322449, G-Mean=0.8031338718778306, TPR=0.7682040281253725, FPR=0.1603480422622747\n",
      "['exit_1', 'exit_2']\n",
      "calibration  lr_auc 0.8841138110986121 Best Threshold=0.2226978838443756, G-Mean=0.8171029393051918, TPR=0.7764774044032445, FPR=0.14014598540145987\n",
      "   Exit_Name  Predictions  Test_Accuracy  RollOver_Accuracy  Threshold  Accepted  Accepted_Correct  Accepted_Ratio  Acceptance_Accuracy\n",
      "0     exit_1        10000         0.7911           0.791100   0.806419      6228              5822        0.622800             0.934811\n",
      "1     exit_2         3772         0.8391           0.681601   0.950676      1387              1244        0.367709             0.896900\n",
      "2  Main_exit         2385         0.8630           0.640671   0.222698      2385              1528        1.000000             0.640671\n"
     ]
    }
   ],
   "source": [
    "evaluate.calculateBranching(output_ID_old,threshold=\"PR_AUC\",metrics=[\"calibration\"],main_exit_included=True,plot=False)\n",
    "evaluate.calculateBranching(output_ID_old,threshold=\"mean\",metrics=[\"calibration\"],main_exit_included=True,plot=False)\n",
    "evaluate.calculateBranching(output_ID_old,threshold=\"gmean\",metrics=[\"calibration\"],main_exit_included=True,plot=False)\n"
   ]
  },
  {
   "cell_type": "code",
   "execution_count": null,
   "id": "e0b6d3eb-a916-4cf5-b8c3-9f71416352ec",
   "metadata": {},
   "outputs": [],
   "source": []
  },
  {
   "cell_type": "code",
   "execution_count": 69,
   "id": "bb27d65e-7326-4151-a359-c0322c923468",
   "metadata": {},
   "outputs": [
    {
     "name": "stdout",
     "output_type": "stream",
     "text": [
      "metric:  calibration threshold:  PR_AUC\n",
      "['exit_1', 'exit_2']\n",
      "['exit_1', 'exit_2']\n",
      "   Exit_Name  ID_Inputs  OOD_Inputs  Test_Accuracy Threshold  Accepted ID  Accepted OOD  Accepted_Correct  Accepted_ID_Ratio  Acceptance_Accuracy\n",
      "0     exit_1      10000       10000         0.7911  0.614095         7911          5239              6945           0.601597             0.528137\n",
      "1     exit_2       2089        4761         0.8391  0.763845         1256          1994               951           0.386462             0.292615\n",
      "2  Main_exit        833        2767         0.8630        NA          833          2767               483           0.231389             0.134167\n",
      "metric:  calibration threshold:  mean\n",
      "['exit_1', 'exit_2']\n",
      "['exit_1', 'exit_2']\n",
      "   Exit_Name  ID_Inputs  OOD_Inputs  Test_Accuracy Threshold  Accepted ID  Accepted OOD  Accepted_Correct  Accepted_ID_Ratio  Acceptance_Accuracy\n",
      "0     exit_1      10000       10000         0.7911  0.866677         5553          1932              5265           0.741884             0.703407\n",
      "1     exit_2       4447        8068         0.8391  0.944337         1859          1530              1690           0.548539             0.498672\n",
      "2  Main_exit       2588        6538         0.8630        NA         2588          6538              1667           0.283585             0.182665\n",
      "metric:  calibration threshold:  gmean\n",
      "calibration  lr_auc 0.8401581524570951 Best Threshold=0.8064189553260803, G-Mean=0.7700044699350568, TPR=0.7359373024902035, FPR=0.19435136428913355\n",
      "['exit_1', 'exit_2']\n",
      "calibration  lr_auc 0.8793417049357168 Best Threshold=0.9506756663322449, G-Mean=0.8031338718778306, TPR=0.7682040281253725, FPR=0.1603480422622747\n",
      "['exit_1', 'exit_2']\n",
      "calibration  lr_auc 0.8841138110986121 Best Threshold=0.2226978838443756, G-Mean=0.8171029393051918, TPR=0.7764774044032445, FPR=0.14014598540145987\n",
      "   Exit_Name  ID_Inputs  OOD_Inputs  Test_Accuracy Threshold  Accepted ID  Accepted OOD  Accepted_Correct  Accepted_ID_Ratio  Acceptance_Accuracy\n",
      "0     exit_1      10000       10000         0.7911  0.806419         6228          2627              5822           0.703331             0.657482\n",
      "1     exit_2       3772        7373         0.8391  0.950676         1387          1201              1244           0.535935             0.480680\n",
      "2  Main_exit       2385        6172         0.8630        NA         2385          6172              1528           0.278719             0.178567\n"
     ]
    }
   ],
   "source": [
    "# buildCompareDistribPlot(output_ID, output_OOD, [\"energy\"], \"PR_AUC\",plot=False)\n",
    "\n",
    "evaluate.buildCompareDistribPlot(output_ID_old, output_OOD_old, [\"calibration\"], \"PR_AUC\",plot=False)\n",
    "evaluate.buildCompareDistribPlot(output_ID_old, output_OOD_old, [\"calibration\"], \"mean\",plot=False)\n",
    "evaluate.buildCompareDistribPlot(output_ID_old, output_OOD_old, [\"calibration\"], \"gmean\",plot=False)\n",
    "\n",
    "# buildCompareDistribPlot(output_ID, output_OOD, [\"calibration\"], \"PR_AUC\",plot=False)"
   ]
  },
  {
   "cell_type": "code",
   "execution_count": 74,
   "id": "31893468-55f0-4634-84d5-46dbc2046890",
   "metadata": {},
   "outputs": [
    {
     "ename": "NameError",
     "evalue": "name 'calc_auc_OOD' is not defined",
     "output_type": "error",
     "traceback": [
      "\u001b[1;31m---------------------------------------------------------------------------\u001b[0m",
      "\u001b[1;31mNameError\u001b[0m                                 Traceback (most recent call last)",
      "\u001b[1;32m~\\AppData\\Local\\Temp/ipykernel_18152/516860293.py\u001b[0m in \u001b[0;36m<module>\u001b[1;34m\u001b[0m\n\u001b[1;32m----> 1\u001b[1;33m \u001b[0mcalc_auc_OOD\u001b[0m\u001b[1;33m(\u001b[0m\u001b[0moutput_ID_old\u001b[0m\u001b[1;33m,\u001b[0m \u001b[0moutput_OOD_old\u001b[0m\u001b[1;33m,\u001b[0m \u001b[1;33m[\u001b[0m\u001b[1;34m\"calibration\"\u001b[0m\u001b[1;33m]\u001b[0m\u001b[1;33m,\u001b[0m \u001b[1;34m\"mean\"\u001b[0m\u001b[1;33m,\u001b[0m\u001b[0mOOD_rate\u001b[0m\u001b[1;33m=\u001b[0m\u001b[1;33m[\u001b[0m\u001b[1;36m.1\u001b[0m\u001b[1;33m,\u001b[0m\u001b[1;36m.2\u001b[0m\u001b[1;33m,\u001b[0m\u001b[1;36m.5\u001b[0m\u001b[1;33m,\u001b[0m\u001b[1;36m1\u001b[0m\u001b[1;33m]\u001b[0m\u001b[1;33m,\u001b[0m\u001b[0mplot\u001b[0m\u001b[1;33m=\u001b[0m\u001b[1;32mTrue\u001b[0m\u001b[1;33m)\u001b[0m\u001b[1;33m\u001b[0m\u001b[1;33m\u001b[0m\u001b[0m\n\u001b[0m",
      "\u001b[1;31mNameError\u001b[0m: name 'calc_auc_OOD' is not defined"
     ]
    }
   ],
   "source": [
    "calc_auc_OOD(output_ID_old, output_OOD_old, [\"calibration\"], \"mean\",OOD_rate=[.1,.2,.5,1],plot=True)\n"
   ]
  },
  {
   "cell_type": "code",
   "execution_count": null,
   "id": "4719a190-b504-43e2-9755-6f3ca8e9a0d2",
   "metadata": {},
   "outputs": [],
   "source": []
  },
  {
   "cell_type": "code",
   "execution_count": null,
   "id": "4a320770-3da5-4b63-acc3-57e91fc97b81",
   "metadata": {},
   "outputs": [],
   "source": []
  },
  {
   "cell_type": "code",
   "execution_count": null,
   "id": "ee3040cf-b252-4a34-a511-a9568509e04d",
   "metadata": {},
   "outputs": [],
   "source": []
  }
 ],
 "metadata": {
  "kernelspec": {
   "display_name": "py36",
   "language": "python",
   "name": "py36"
  },
  "language_info": {
   "codemirror_mode": {
    "name": "ipython",
    "version": 3
   },
   "file_extension": ".py",
   "mimetype": "text/x-python",
   "name": "python",
   "nbconvert_exporter": "python",
   "pygments_lexer": "ipython3",
   "version": "3.7.11"
  }
 },
 "nbformat": 4,
 "nbformat_minor": 5
}
