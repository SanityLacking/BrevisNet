{
 "cells": [
  {
   "cell_type": "code",
   "execution_count": 1,
   "metadata": {},
   "outputs": [],
   "source": [
    "import tensorflow as tf\n",
    "from tensorflow import keras\n",
    "import math"
   ]
  },
  {
   "cell_type": "code",
   "execution_count": 2,
   "metadata": {},
   "outputs": [],
   "source": [
    "class LogisticEndpoint(keras.layers.Layer):\n",
    "    def __init__(self, name=None):\n",
    "        super(LogisticEndpoint, self).__init__(name=name)\n",
    "        self.loss_fn = keras.losses.BinaryCrossentropy(from_logits=True)\n",
    "        self.accuracy_fn = keras.metrics.BinaryAccuracy()\n",
    "\n",
    "    def call(self, targets, logits, sample_weights=None):\n",
    "        # Compute the training-time loss value and add it\n",
    "        # to the layer using `self.add_loss()`.\n",
    "        loss = self.loss_fn(targets, logits, sample_weights)\n",
    "        self.add_loss(loss)\n",
    "\n",
    "        # Log accuracy as a metric and add it\n",
    "        # to the layer using `self.add_metric()`.\n",
    "        acc = self.accuracy_fn(targets, logits, sample_weights)\n",
    "        self.add_metric(acc, name=\"accuracy\")\n",
    "\n",
    "        # Return the inference-time prediction tensor (for `.predict()`).\n",
    "        return tf.nn.softmax(logits)\n",
    "    \n",
    "class BranchEndpoint(keras.layers.Layer):\n",
    "    def __init__(self, name=None):\n",
    "        super(BranchEndpoint, self).__init__(name=name)\n",
    "        self.loss_fn = keras.losses.BinaryCrossentropy(from_logits=True)\n",
    "        self.loss_coefficient = 1\n",
    "        self.feature_loss_coefficient = 1\n",
    "#         self.loss_fn = keras.losses.sparse_categorical_crossentropy()\n",
    "\n",
    "    def call(self, prediction, targets, additional_loss=None, student_features=None, teaching_features=None, sample_weights=None):\n",
    "        # Compute the training-time loss value and add it\n",
    "        # to the layer using `self.add_loss()`.\n",
    "        print(prediction)\n",
    "        #loss functions are (True, Prediction)\n",
    "        loss = self.loss_fn(targets, prediction, sample_weights)\n",
    "        \n",
    "        #if loss is a list of additional loss objects\n",
    "        if isinstance(additional_loss,list):\n",
    "            for i in range(len(additional_loss)):\n",
    "                loss += self.loss_fn(targets, additional_loss[i], sample_weights) * self.loss_coefficient\n",
    "        elif additional_loss is not None:\n",
    "            loss += self.loss_fn(targets, additional_loss, sample_weights) * self.loss_coefficient\n",
    "            \n",
    "        #feature distillation\n",
    "        if teaching_features is not None and student_features is not None:\n",
    "            diff = tf.norm(tf.math.abs(student_features - teaching_features)) * self.feature_loss_coefficient\n",
    "            loss += self.loss_fn(targets, additional_loss, sample_weights)\n",
    "            \n",
    "        \n",
    "        #TODO might be faster to concatenate all elements together and then perform the loss once on all the elements.\n",
    "        \n",
    "        self.add_loss(loss)\n",
    "\n",
    "        return tf.nn.softmax(prediction)\n",
    "    \n",
    "\n",
    "class FeatureDistillation(keras.layers.Layer):\n",
    "    def __init__(self, name=None):\n",
    "        super(FeatureDistillation, self).__init__(name=name)\n",
    "        self.loss_fn = keras.losses.BinaryCrossentropy(from_logits=True)\n",
    "        self.loss_coefficient = 1\n",
    "        self.feature_loss_coefficient = 0.3\n",
    "        self.regularizer_fn = tf.keras.regularizers.L2(self.feature_loss_coefficient)\n",
    "    #         self.loss_fn = keras.losses.sparse_categorical_crossentropy()\n",
    "    def call(self, prediction, teaching_features, sample_weights=None):\n",
    "        # Compute the training-time loss value and add it\n",
    "        # to the layer using `self.add_loss()`.\n",
    "        print(prediction)\n",
    "        #loss functions are (True, Prediction)\n",
    "        #feature distillation\n",
    "#         l2_loss = self.regularizer_fn(prediction, teaching_features)\n",
    "        l2_loss = self.feature_loss_coefficient * tf.reduce_sum(tf.square(prediction - teaching_features))\n",
    "        #TODO might be faster to concatenate all elements together and then perform the loss once on all the elements.\n",
    "        self.add_loss(l2_loss)\n",
    "        return prediction"
   ]
  },
  {
   "cell_type": "code",
   "execution_count": 3,
   "metadata": {},
   "outputs": [],
   "source": [
    "def logit(num, count =1,classes=10):\n",
    "    output = np.zeros(classes) \n",
    "    pos = max(0,num-1)\n",
    "    output[pos] = 1\n",
    "    \n",
    "    return output\n",
    "\n",
    "\n"
   ]
  },
  {
   "cell_type": "code",
   "execution_count": 22,
   "metadata": {
    "scrolled": false
   },
   "outputs": [
    {
     "name": "stdout",
     "output_type": "stream",
     "text": [
      "(None, 256)\n",
      "Tensor(\"Placeholder:0\", shape=(None, 256), dtype=float32)\n",
      "Tensor(\"Placeholder:0\", shape=(None, 10), dtype=float32)\n",
      "Tensor(\"Placeholder:0\", shape=(None, 256), dtype=float32)\n",
      "Tensor(\"Placeholder:0\", shape=(None, 10), dtype=float32)\n",
      "1/1 [==============================] - 1s 558ms/step - loss: 1.4666 - binary_accuracy: 0.0000e+00\n",
      "[<KerasTensor: shape=(None, 10) dtype=float32 (created by layer 'endpoint')>]\n"
     ]
    }
   ],
   "source": [
    "#process for self distilation\n",
    "#add y_true as an input for the model, here called 'targets'. targets is not linked to the main model path\n",
    "#targets is added as input at the model define call\n",
    "#targets is used as an additional input to the endpoint layers\n",
    "#in endpoint layers, perform the loss function using the prev_layer input and the 'targets'\n",
    "\n",
    "#determine if the additional loss is precomputed or computed at the endpoint layer.\n",
    "\n",
    "from tensorflow.keras import layers\n",
    "\n",
    "import numpy as np \n",
    "inputs = keras.Input(shape=(3,), name=\"inputs\")\n",
    "targets = keras.Input(shape=(10,), name=\"targets\")\n",
    "x = layers.Dense(512, activation=\"relu\")(inputs)\n",
    "x= layers.Dropout(0.2)(x)\n",
    "\n",
    "x = layers.Dense(512, activation=\"relu\")(x)\n",
    "x= layers.Dropout(0.2)(x)\n",
    "\n",
    "branch1_256 = keras.layers.Dense(256,activation=\"relu\")(x)\n",
    "print(branch1_256.shape)\n",
    "\n",
    "\n",
    "x = layers.Dense(512, activation=\"relu\")(x)\n",
    "x= layers.Dropout(0.2)(x)\n",
    "\n",
    "branch2_256 = keras.layers.Dense(256,activation=\"relu\")(x)\n",
    "\n",
    "x = layers.Dense(512, activation=\"relu\")(x)\n",
    "x= layers.Dropout(0.2)(x)\n",
    "\n",
    "teaching_feat = layers.Dense(256, activation=\"relu\")(x)\n",
    "# teacher_feat = featureDistil(x)\n",
    "x= layers.Dropout(0.2)(teaching_feat)\n",
    "\n",
    "output = layers.Dense(10, name=\"output\")(x)\n",
    "\n",
    "softmax = layers.Softmax()(output)\n",
    "endpoint = LogisticEndpoint(name=\"endpoint\")(softmax, targets)\n",
    "\n",
    "#rest of branches\n",
    "branch1_teaching = FeatureDistillation(name=\"branch1_teaching\")(branch1_256,teaching_feat)\n",
    "branch1_dense = keras.layers.Dense(10)(branch1_teaching)\n",
    "branch1_predictions = BranchEndpoint(name=\"branch1_predictions\")(branch1_dense, targets, softmax, [branch1_256], teaching_feat)\n",
    "\n",
    "\n",
    "branch2_teaching = FeatureDistillation(name=\"branch2_teaching\")(branch2_256,teaching_feat)\n",
    "branch2_dense = keras.layers.Dense(10)(branch2_teaching)\n",
    "branch2_predictions = BranchEndpoint(name=\"branch2_predictions\")(branch2_dense, targets, softmax, [branch2_256], teaching_feat)\n",
    "\n",
    "\n",
    "model = keras.Model(inputs=[inputs, targets], outputs=[endpoint])\n",
    "model.compile(optimizer=\"adam\", loss =keras.losses.BinaryCrossentropy(from_logits=True))\n",
    "\n",
    "targets =[]\n",
    "\n",
    "for i in range(30):\n",
    "    target = logit(np.random.randint(0,10))\n",
    "    targets.append(target)\n",
    "targets = np.array(targets)\n",
    "data = {\n",
    "    \"inputs\": np.random.random((30, 3)),\n",
    "    \"targets\": targets,\n",
    "}\n",
    "\n",
    "# print(data['targets'])\n",
    "model.fit(data,targets)\n",
    "\n",
    "print(model.outputs)"
   ]
  },
  {
   "cell_type": "code",
   "execution_count": 73,
   "metadata": {},
   "outputs": [
    {
     "name": "stdout",
     "output_type": "stream",
     "text": [
      "10\n",
      "15\n"
     ]
    },
    {
     "data": {
      "text/plain": [
       "15"
      ]
     },
     "execution_count": 73,
     "metadata": {},
     "output_type": "execute_result"
    }
   ],
   "source": [
    "class foo:\n",
    "    y = 10\n",
    "\n",
    "elem = foo()\n",
    "print(elem.y)\n",
    "x = elem.y + 5\n",
    "elem.y \n",
    "print(x)\n",
    "x"
   ]
  },
  {
   "cell_type": "code",
   "execution_count": 8,
   "metadata": {
    "scrolled": true
   },
   "outputs": [
    {
     "name": "stdout",
     "output_type": "stream",
     "text": [
      "Model: \"alexnet\"\n",
      "_________________________________________________________________\n",
      "Layer (type)                 Output Shape              Param #   \n",
      "=================================================================\n",
      "input_1 (InputLayer)         [(None, 227, 227, 3)]     0         \n",
      "_________________________________________________________________\n",
      "conv2d_4 (Conv2D)            (None, 55, 55, 96)        34944     \n",
      "_________________________________________________________________\n",
      "batch_normalization (BatchNo (None, 55, 55, 96)        384       \n",
      "_________________________________________________________________\n",
      "max_pooling2d (MaxPooling2D) (None, 27, 27, 96)        0         \n",
      "_________________________________________________________________\n",
      "conv2d_5 (Conv2D)            (None, 27, 27, 256)       614656    \n",
      "_________________________________________________________________\n",
      "batch_normalization_1 (Batch (None, 27, 27, 256)       1024      \n",
      "_________________________________________________________________\n",
      "max_pooling2d_1 (MaxPooling2 (None, 13, 13, 256)       0         \n",
      "_________________________________________________________________\n",
      "conv2d_6 (Conv2D)            (None, 13, 13, 384)       885120    \n",
      "_________________________________________________________________\n",
      "batch_normalization_2 (Batch (None, 13, 13, 384)       1536      \n",
      "_________________________________________________________________\n",
      "conv2d_7 (Conv2D)            (None, 13, 13, 384)       147840    \n",
      "_________________________________________________________________\n",
      "batch_normalization_3 (Batch (None, 13, 13, 384)       1536      \n",
      "_________________________________________________________________\n",
      "conv2d_8 (Conv2D)            (None, 13, 13, 256)       98560     \n",
      "_________________________________________________________________\n",
      "batch_normalization_4 (Batch (None, 13, 13, 256)       1024      \n",
      "_________________________________________________________________\n",
      "max_pooling2d_2 (MaxPooling2 (None, 6, 6, 256)         0         \n",
      "_________________________________________________________________\n",
      "flatten (Flatten)            (None, 9216)              0         \n",
      "_________________________________________________________________\n",
      "dense (Dense)                (None, 4096)              37752832  \n",
      "_________________________________________________________________\n",
      "dropout (Dropout)            (None, 4096)              0         \n",
      "_________________________________________________________________\n",
      "dense_1 (Dense)              (None, 4096)              16781312  \n",
      "_________________________________________________________________\n",
      "dropout_1 (Dropout)          (None, 4096)              0         \n",
      "_________________________________________________________________\n",
      "dense_2 (Dense)              (None, 10)                40970     \n",
      "=================================================================\n",
      "Total params: 56,361,738\n",
      "Trainable params: 56,358,986\n",
      "Non-trainable params: 2,752\n",
      "_________________________________________________________________\n"
     ]
    }
   ],
   "source": [
    "inputs = keras.Input(shape=(227,227,3))\n",
    "x = keras.layers.Conv2D(filters=96, kernel_size=(11,11), strides=(4,4), activation='relu', input_shape=(227,227,3))(inputs)\n",
    "x = keras.layers.BatchNormalization()(x)\n",
    "x = keras.layers.MaxPool2D(pool_size=(3,3), strides=(2,2))(x)\n",
    "x = keras.layers.Conv2D(filters=256, kernel_size=(5,5), strides=(1,1), activation='relu', padding=\"same\")(x)\n",
    "x = keras.layers.BatchNormalization()(x)\n",
    "x = keras.layers.MaxPool2D(pool_size=(3,3), strides=(2,2))(x)\n",
    "x = keras.layers.Conv2D(filters=384, kernel_size=(3,3), strides=(1,1), activation='relu', padding=\"same\")(x)\n",
    "x = keras.layers.BatchNormalization()(x)\n",
    "x = keras.layers.Conv2D(filters=384, kernel_size=(1,1), strides=(1,1), activation='relu', padding=\"same\")(x)\n",
    "x = keras.layers.BatchNormalization()(x)\n",
    "x = keras.layers.Conv2D(filters=256, kernel_size=(1,1), strides=(1,1), activation='relu', padding=\"same\")(x)\n",
    "x = keras.layers.BatchNormalization()(x)\n",
    "x = keras.layers.MaxPool2D(pool_size=(3,3), strides=(2,2))(x)\n",
    "x = keras.layers.Flatten()(x)\n",
    "x = keras.layers.Dense(4096, activation='relu')(x)\n",
    "x = keras.layers.Dropout(0.5)(x)\n",
    "x = keras.layers.Dense(4096, activation='relu')(x)\n",
    "x = keras.layers.Dropout(0.5)(x)\n",
    "x = keras.layers.Dense(10, activation='softmax')(x)\n",
    "\n",
    "model = keras.Model(inputs=inputs, outputs=[x], name=\"alexnet\")\n",
    "model.compile(loss='sparse_categorical_crossentropy', optimizer=tf.optimizers.SGD(lr=0.001,momentum=0.9), metrics=['accuracy'])\n",
    "    \n",
    "model.summary()"
   ]
  },
  {
   "cell_type": "code",
   "execution_count": 1,
   "metadata": {},
   "outputs": [
    {
     "data": {
      "text/plain": [
       "5"
      ]
     },
     "execution_count": 1,
     "metadata": {},
     "output_type": "execute_result"
    }
   ],
   "source": [
    "x = 10 //2\n",
    "x"
   ]
  },
  {
   "cell_type": "code",
   "execution_count": 15,
   "metadata": {},
   "outputs": [
    {
     "data": {
      "text/plain": [
       "(None, 55, 55, 96)"
      ]
     },
     "execution_count": 15,
     "metadata": {},
     "output_type": "execute_result"
    }
   ],
   "source": [
    "model.layers[1].output_shape"
   ]
  },
  {
   "cell_type": "code",
   "execution_count": 13,
   "metadata": {},
   "outputs": [
    {
     "data": {
      "text/plain": [
       "(None, 227, 227, 3)"
      ]
     },
     "execution_count": 13,
     "metadata": {},
     "output_type": "execute_result"
    }
   ],
   "source": [
    "model.layers[1].input_shape"
   ]
  },
  {
   "cell_type": "code",
   "execution_count": null,
   "metadata": {},
   "outputs": [],
   "source": []
  }
 ],
 "metadata": {
  "kernelspec": {
   "display_name": "Python 3",
   "language": "python",
   "name": "python3"
  },
  "language_info": {
   "codemirror_mode": {
    "name": "ipython",
    "version": 3
   },
   "file_extension": ".py",
   "mimetype": "text/x-python",
   "name": "python",
   "nbconvert_exporter": "python",
   "pygments_lexer": "ipython3",
   "version": "3.6.7"
  }
 },
 "nbformat": 4,
 "nbformat_minor": 2
}
