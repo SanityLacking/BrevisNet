{
 "cells": [
  {
   "cell_type": "code",
   "execution_count": 9,
   "metadata": {},
   "outputs": [],
   "source": [
    "import tensorflow as tf\n",
    "from tensorflow import keras"
   ]
  },
  {
   "cell_type": "code",
   "execution_count": 3,
   "metadata": {},
   "outputs": [],
   "source": [
    "(train_images, train_labels),(test_images, test_labels) = keras.datasets.fashion_mnist.load_data()\n",
    "train_images = train_images / 255.0\n",
    "test_images = test_images / 255.0\n",
    "\n",
    "validation_images = train_images[:5000]\n",
    "validation_labels = train_labels[:5000]"
   ]
  },
  {
   "cell_type": "code",
   "execution_count": 5,
   "metadata": {},
   "outputs": [],
   "source": [
    "model = keras.models.Sequential([\n",
    "    keras.layers.Flatten(input_shape=[28,28]),\n",
    "    keras.layers.Dense(200, activation='relu', kernel_regularizer=keras.regularizers.l1()),\n",
    "    keras.layers.Dense(100, activation='relu', kernel_regularizer=keras.regularizers.l2(0.001)),\n",
    "    keras.layers.Dense(50, activation='relu', kernel_regularizer=keras.regularizers.l1_l2(0.01)),\n",
    "    keras.layers.Dense(10, activation='softmax')\n",
    "])"
   ]
  },
  {
   "cell_type": "code",
   "execution_count": 6,
   "metadata": {},
   "outputs": [],
   "source": [
    "sgd = keras.optimizers.SGD(lr=0.01)\n",
    "model.compile(loss=\"sparse_categorical_crossentropy\", optimizer=sgd, metrics=[\"accuracy\"])"
   ]
  },
  {
   "cell_type": "code",
   "execution_count": 7,
   "metadata": {},
   "outputs": [
    {
     "name": "stdout",
     "output_type": "stream",
     "text": [
      "Train on 60000 samples, validate on 5000 samples\n",
      "Epoch 1/60\n",
      "60000/60000 [==============================] - 6s 108us/sample - loss: 12.2406 - accuracy: 0.6212 - val_loss: 1.9214 - val_accuracy: 0.6414\n",
      "Epoch 2/60\n",
      "60000/60000 [==============================] - 6s 94us/sample - loss: 1.7322 - accuracy: 0.6284 - val_loss: 1.5722 - val_accuracy: 0.6550\n",
      "Epoch 3/60\n",
      "60000/60000 [==============================] - 6s 94us/sample - loss: 1.5281 - accuracy: 0.6403 - val_loss: 1.4876 - val_accuracy: 0.6366\n",
      "Epoch 4/60\n",
      "60000/60000 [==============================] - 6s 99us/sample - loss: 1.4367 - accuracy: 0.6482 - val_loss: 1.3624 - val_accuracy: 0.6718\n",
      "Epoch 5/60\n",
      "60000/60000 [==============================] - 6s 101us/sample - loss: 1.3854 - accuracy: 0.6534 - val_loss: 1.3215 - val_accuracy: 0.6798\n",
      "Epoch 6/60\n",
      "60000/60000 [==============================] - 6s 97us/sample - loss: 1.3540 - accuracy: 0.6578 - val_loss: 1.3321 - val_accuracy: 0.6682\n",
      "Epoch 7/60\n",
      "60000/60000 [==============================] - 5s 91us/sample - loss: 1.3225 - accuracy: 0.6634 - val_loss: 1.4339 - val_accuracy: 0.6294\n",
      "Epoch 8/60\n",
      "60000/60000 [==============================] - 6s 96us/sample - loss: 1.3035 - accuracy: 0.6638 - val_loss: 1.2958 - val_accuracy: 0.6826\n",
      "Epoch 9/60\n",
      "60000/60000 [==============================] - 6s 93us/sample - loss: 1.2852 - accuracy: 0.6668 - val_loss: 1.3085 - val_accuracy: 0.6592\n",
      "Epoch 10/60\n",
      "60000/60000 [==============================] - 5s 92us/sample - loss: 1.2743 - accuracy: 0.6706 - val_loss: 1.2792 - val_accuracy: 0.6728\n",
      "Epoch 11/60\n",
      "60000/60000 [==============================] - 6s 93us/sample - loss: 1.2587 - accuracy: 0.6741 - val_loss: 1.1873 - val_accuracy: 0.6978\n",
      "Epoch 12/60\n",
      "60000/60000 [==============================] - 6s 96us/sample - loss: 1.2471 - accuracy: 0.6782 - val_loss: 1.2144 - val_accuracy: 0.7114\n",
      "Epoch 13/60\n",
      "60000/60000 [==============================] - 5s 91us/sample - loss: 1.2393 - accuracy: 0.6821 - val_loss: 1.1852 - val_accuracy: 0.7034\n",
      "Epoch 14/60\n",
      "60000/60000 [==============================] - 5s 89us/sample - loss: 1.2313 - accuracy: 0.6865 - val_loss: 1.1802 - val_accuracy: 0.7188\n",
      "Epoch 15/60\n",
      "60000/60000 [==============================] - 6s 93us/sample - loss: 1.2168 - accuracy: 0.6921 - val_loss: 1.2488 - val_accuracy: 0.6894\n",
      "Epoch 16/60\n",
      "60000/60000 [==============================] - 6s 96us/sample - loss: 1.2132 - accuracy: 0.6958 - val_loss: 1.2209 - val_accuracy: 0.6894\n",
      "Epoch 17/60\n",
      "60000/60000 [==============================] - 5s 91us/sample - loss: 1.2026 - accuracy: 0.6963 - val_loss: 1.1875 - val_accuracy: 0.7024\n",
      "Epoch 18/60\n",
      "60000/60000 [==============================] - 5s 87us/sample - loss: 1.2059 - accuracy: 0.6965 - val_loss: 1.1694 - val_accuracy: 0.7100\n",
      "Epoch 19/60\n",
      "60000/60000 [==============================] - 5s 87us/sample - loss: 1.1973 - accuracy: 0.6976 - val_loss: 1.1172 - val_accuracy: 0.7336\n",
      "Epoch 20/60\n",
      "60000/60000 [==============================] - 5s 88us/sample - loss: 1.1881 - accuracy: 0.7011 - val_loss: 1.1116 - val_accuracy: 0.7356\n",
      "Epoch 21/60\n",
      "60000/60000 [==============================] - 6s 95us/sample - loss: 1.1833 - accuracy: 0.7034 - val_loss: 1.4047 - val_accuracy: 0.6036\n",
      "Epoch 22/60\n",
      "60000/60000 [==============================] - 6s 93us/sample - loss: 1.1751 - accuracy: 0.7012 - val_loss: 1.2296 - val_accuracy: 0.6892\n",
      "Epoch 23/60\n",
      "60000/60000 [==============================] - 6s 98us/sample - loss: 1.1788 - accuracy: 0.7018 - val_loss: 1.1750 - val_accuracy: 0.7016\n",
      "Epoch 24/60\n",
      "60000/60000 [==============================] - 5s 86us/sample - loss: 1.1727 - accuracy: 0.7035 - val_loss: 1.1453 - val_accuracy: 0.7172\n",
      "Epoch 25/60\n",
      "60000/60000 [==============================] - 6s 94us/sample - loss: 1.1716 - accuracy: 0.7039 - val_loss: 1.1461 - val_accuracy: 0.7132\n",
      "Epoch 26/60\n",
      "60000/60000 [==============================] - 6s 92us/sample - loss: 1.1629 - accuracy: 0.7049 - val_loss: 1.4314 - val_accuracy: 0.6368\n",
      "Epoch 27/60\n",
      "60000/60000 [==============================] - 6s 92us/sample - loss: 1.1636 - accuracy: 0.7031 - val_loss: 1.1089 - val_accuracy: 0.7298\n",
      "Epoch 28/60\n",
      "60000/60000 [==============================] - 5s 88us/sample - loss: 1.1607 - accuracy: 0.7034 - val_loss: 1.1029 - val_accuracy: 0.7386\n",
      "Epoch 29/60\n",
      "60000/60000 [==============================] - 5s 86us/sample - loss: 1.1537 - accuracy: 0.7043 - val_loss: 1.0542 - val_accuracy: 0.7492\n",
      "Epoch 30/60\n",
      "60000/60000 [==============================] - 5s 91us/sample - loss: 1.1597 - accuracy: 0.7038 - val_loss: 1.0929 - val_accuracy: 0.7378\n",
      "Epoch 31/60\n",
      "60000/60000 [==============================] - 5s 86us/sample - loss: 1.1494 - accuracy: 0.7054 - val_loss: 1.1514 - val_accuracy: 0.6976\n",
      "Epoch 32/60\n",
      "60000/60000 [==============================] - 5s 91us/sample - loss: 1.1485 - accuracy: 0.7057 - val_loss: 1.0534 - val_accuracy: 0.7460\n",
      "Epoch 33/60\n",
      "60000/60000 [==============================] - 5s 87us/sample - loss: 1.1439 - accuracy: 0.7072 - val_loss: 1.0712 - val_accuracy: 0.7370\n",
      "Epoch 34/60\n",
      "60000/60000 [==============================] - 6s 93us/sample - loss: 1.1499 - accuracy: 0.7055 - val_loss: 1.0786 - val_accuracy: 0.7330\n",
      "Epoch 35/60\n",
      "60000/60000 [==============================] - 5s 86us/sample - loss: 1.1412 - accuracy: 0.7070 - val_loss: 1.1085 - val_accuracy: 0.7258\n",
      "Epoch 36/60\n",
      "60000/60000 [==============================] - 5s 89us/sample - loss: 1.1459 - accuracy: 0.7042 - val_loss: 1.1135 - val_accuracy: 0.7148\n",
      "Epoch 37/60\n",
      "60000/60000 [==============================] - 5s 88us/sample - loss: 1.1392 - accuracy: 0.7055 - val_loss: 1.0486 - val_accuracy: 0.7472\n",
      "Epoch 38/60\n",
      "60000/60000 [==============================] - 6s 93us/sample - loss: 1.1410 - accuracy: 0.7048 - val_loss: 1.0565 - val_accuracy: 0.7430\n",
      "Epoch 39/60\n",
      "60000/60000 [==============================] - 5s 91us/sample - loss: 1.1371 - accuracy: 0.7054 - val_loss: 1.0856 - val_accuracy: 0.7174\n",
      "Epoch 40/60\n",
      "60000/60000 [==============================] - 5s 91us/sample - loss: 1.1378 - accuracy: 0.7045 - val_loss: 1.0494 - val_accuracy: 0.7390\n",
      "Epoch 41/60\n",
      "60000/60000 [==============================] - 6s 93us/sample - loss: 1.1375 - accuracy: 0.7046 - val_loss: 1.4907 - val_accuracy: 0.5560\n",
      "Epoch 42/60\n",
      "60000/60000 [==============================] - 5s 90us/sample - loss: 1.1335 - accuracy: 0.7041 - val_loss: 1.0326 - val_accuracy: 0.7496\n",
      "Epoch 43/60\n",
      "60000/60000 [==============================] - 5s 89us/sample - loss: 1.1284 - accuracy: 0.7067 - val_loss: 1.1795 - val_accuracy: 0.6850\n",
      "Epoch 44/60\n",
      "60000/60000 [==============================] - 5s 86us/sample - loss: 1.1247 - accuracy: 0.7056 - val_loss: 1.0802 - val_accuracy: 0.7300\n",
      "Epoch 45/60\n",
      "60000/60000 [==============================] - 5s 87us/sample - loss: 1.1316 - accuracy: 0.7058 - val_loss: 1.0972 - val_accuracy: 0.7192\n",
      "Epoch 46/60\n",
      "60000/60000 [==============================] - 5s 85us/sample - loss: 1.1285 - accuracy: 0.7048 - val_loss: 1.0374 - val_accuracy: 0.7492\n",
      "Epoch 47/60\n",
      "60000/60000 [==============================] - 5s 81us/sample - loss: 1.1252 - accuracy: 0.7059 - val_loss: 1.1174 - val_accuracy: 0.7146\n",
      "Epoch 48/60\n",
      "60000/60000 [==============================] - 5s 84us/sample - loss: 1.1253 - accuracy: 0.7051 - val_loss: 1.1591 - val_accuracy: 0.7010\n",
      "Epoch 49/60\n",
      "60000/60000 [==============================] - 5s 85us/sample - loss: 1.1286 - accuracy: 0.7029 - val_loss: 1.1426 - val_accuracy: 0.7052\n",
      "Epoch 50/60\n",
      "60000/60000 [==============================] - 5s 86us/sample - loss: 1.1278 - accuracy: 0.7041 - val_loss: 1.2267 - val_accuracy: 0.6598\n",
      "Epoch 51/60\n",
      "60000/60000 [==============================] - 5s 82us/sample - loss: 1.1198 - accuracy: 0.7051 - val_loss: 1.0707 - val_accuracy: 0.7278\n",
      "Epoch 52/60\n",
      "60000/60000 [==============================] - 5s 89us/sample - loss: 1.1270 - accuracy: 0.7035 - val_loss: 1.0353 - val_accuracy: 0.7420\n",
      "Epoch 53/60\n",
      "60000/60000 [==============================] - 5s 84us/sample - loss: 1.1246 - accuracy: 0.7043 - val_loss: 1.2021 - val_accuracy: 0.6644\n",
      "Epoch 54/60\n",
      "60000/60000 [==============================] - 5s 85us/sample - loss: 1.1200 - accuracy: 0.7063 - val_loss: 1.0897 - val_accuracy: 0.7132\n",
      "Epoch 55/60\n",
      "60000/60000 [==============================] - 5s 85us/sample - loss: 1.1237 - accuracy: 0.7035 - val_loss: 1.0331 - val_accuracy: 0.7436\n",
      "Epoch 56/60\n",
      "60000/60000 [==============================] - 5s 90us/sample - loss: 1.1245 - accuracy: 0.7053 - val_loss: 1.1024 - val_accuracy: 0.7066\n",
      "Epoch 57/60\n",
      "60000/60000 [==============================] - 5s 89us/sample - loss: 1.1258 - accuracy: 0.7062 - val_loss: 1.0531 - val_accuracy: 0.7344\n",
      "Epoch 58/60\n",
      "60000/60000 [==============================] - 5s 88us/sample - loss: 1.1191 - accuracy: 0.7050 - val_loss: 1.0274 - val_accuracy: 0.7460\n",
      "Epoch 59/60\n",
      "60000/60000 [==============================] - 5s 79us/sample - loss: 1.1191 - accuracy: 0.7052 - val_loss: 1.0866 - val_accuracy: 0.7264\n",
      "Epoch 60/60\n",
      "60000/60000 [==============================] - 5s 79us/sample - loss: 1.1222 - accuracy: 0.7056 - val_loss: 1.0357 - val_accuracy: 0.7382\n"
     ]
    },
    {
     "data": {
      "text/plain": [
       "<tensorflow.python.keras.callbacks.History at 0x12a9778ed08>"
      ]
     },
     "execution_count": 7,
     "metadata": {},
     "output_type": "execute_result"
    }
   ],
   "source": [
    "model.fit(train_images, train_labels, epochs=60, validation_data=(validation_images, validation_labels))"
   ]
  },
  {
   "cell_type": "code",
   "execution_count": 23,
   "metadata": {},
   "outputs": [
    {
     "name": "stdout",
     "output_type": "stream",
     "text": [
      "10000/10000 [==============================] - 0s 29us/sample - loss: 1.1543 - accuracy: 0.7326\n"
     ]
    },
    {
     "data": {
      "text/plain": [
       "[1.1542743743896484, 0.7326]"
      ]
     },
     "execution_count": 23,
     "metadata": {},
     "output_type": "execute_result"
    }
   ],
   "source": [
    "model.evaluate(test_images, test_labels)"
   ]
  }
 ],
 "metadata": {
  "kernelspec": {
   "display_name": "Python 3",
   "language": "python",
   "name": "python3"
  },
  "language_info": {
   "codemirror_mode": {
    "name": "ipython",
    "version": 3
   },
   "file_extension": ".py",
   "mimetype": "text/x-python",
   "name": "python",
   "nbconvert_exporter": "python",
   "pygments_lexer": "ipython3",
   "version": "3.7.6"
  }
 },
 "nbformat": 4,
 "nbformat_minor": 4
}
