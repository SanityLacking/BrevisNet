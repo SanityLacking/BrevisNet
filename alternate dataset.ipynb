{
 "cells": [
  {
   "cell_type": "code",
   "execution_count": 1,
   "metadata": {},
   "outputs": [],
   "source": [
    "#this notebook is building a new dataset to test why the zero class is not detected by branch exits"
   ]
  },
  {
   "cell_type": "code",
   "execution_count": 2,
   "metadata": {},
   "outputs": [],
   "source": [
    "import pandas as pd\n",
    "import numpy as np\n",
    "\n",
    "# Make numpy values easier to read.\n",
    "np.set_printoptions(precision=3, suppress=True)\n",
    "\n",
    "import tensorflow as tf\n",
    "from tensorflow.keras import layers\n",
    "from tensorflow.keras.layers.experimental import preprocessing"
   ]
  },
  {
   "cell_type": "code",
   "execution_count": 30,
   "metadata": {},
   "outputs": [],
   "source": [
    "dataset = tf.keras.datasets.cifar10.load_data()"
   ]
  },
  {
   "cell_type": "code",
   "execution_count": 22,
   "metadata": {},
   "outputs": [],
   "source": [
    "def prepareAlexNetDataset(self, dataset, batch_size =32):\n",
    "        (train_images, train_labels), (test_images, test_labels) = dataset\n",
    "        \n",
    "        validation_images, validation_labels = train_images[:5000], train_labels[:5000]\n",
    "        train_ds = tf.data.Dataset.from_tensor_slices((train_images, train_labels))\n",
    "        test_ds = tf.data.Dataset.from_tensor_slices((test_images, test_labels))\n",
    "        validation_ds = tf.data.Dataset.from_tensor_slices((validation_images, validation_labels))\n",
    "\n",
    "        train_ds_size = len(list(train_ds))\n",
    "        train_ds_size = len(list(test_ds))\n",
    "        validation_ds_size = len(list(validation_ds))\n",
    "        train_ds = (train_ds\n",
    "            .map(augment_images)\n",
    "            .shuffle(buffer_size=int(train_ds_size),reshuffle_each_iteration=True)\n",
    "            .batch(batch_size=batch_size, drop_remainder=True))\n",
    "        test_ds = (test_ds\n",
    "            .map(augment_images)\n",
    "            # .shuffle(buffer_size=int(train_ds_size)) ##why would you shuffle the test set?\n",
    "            .batch(batch_size=batch_size, drop_remainder=True))\n",
    "\n",
    "        validation_ds = (validation_ds\n",
    "            .map(augment_images)\n",
    "            # .shuffle(buffer_size=int(train_ds_size))\n",
    "            .batch(batch_size=batch_size, drop_remainder=True))\n",
    "        return train_ds, test_ds, validation_ds"
   ]
  },
  {
   "cell_type": "code",
   "execution_count": 23,
   "metadata": {},
   "outputs": [
    {
     "ename": "NameError",
     "evalue": "name 'self' is not defined",
     "output_type": "error",
     "traceback": [
      "\u001b[1;31m---------------------------------------------------------------------------\u001b[0m",
      "\u001b[1;31mNameError\u001b[0m                                 Traceback (most recent call last)",
      "\u001b[1;32m<ipython-input-23-5f642700cb70>\u001b[0m in \u001b[0;36m<module>\u001b[1;34m\u001b[0m\n\u001b[1;32m----> 1\u001b[1;33m \u001b[0mtrain_ds\u001b[0m\u001b[1;33m,\u001b[0m \u001b[0mtest_ds\u001b[0m\u001b[1;33m,\u001b[0m \u001b[0mvalidation_ds\u001b[0m \u001b[1;33m=\u001b[0m \u001b[0mself\u001b[0m\u001b[1;33m.\u001b[0m\u001b[0mprepareAlexNetDataset\u001b[0m\u001b[1;33m(\u001b[0m\u001b[0mdataset\u001b[0m\u001b[1;33m,\u001b[0m\u001b[1;36m32\u001b[0m\u001b[1;33m)\u001b[0m\u001b[1;33m\u001b[0m\u001b[1;33m\u001b[0m\u001b[0m\n\u001b[0m",
      "\u001b[1;31mNameError\u001b[0m: name 'self' is not defined"
     ]
    }
   ],
   "source": [
    "train_ds, test_ds, validation_ds = prepareAlexNetDataset(dataset,32)"
   ]
  },
  {
   "cell_type": "code",
   "execution_count": 31,
   "metadata": {},
   "outputs": [],
   "source": [
    "(train_images, train_labels), (test_images, test_labels) = dataset"
   ]
  },
  {
   "cell_type": "code",
   "execution_count": 32,
   "metadata": {},
   "outputs": [
    {
     "data": {
      "text/plain": [
       "numpy.ndarray"
      ]
     },
     "execution_count": 32,
     "metadata": {},
     "output_type": "execute_result"
    }
   ],
   "source": [
    "type(train_images)"
   ]
  },
  {
   "cell_type": "code",
   "execution_count": 33,
   "metadata": {},
   "outputs": [
    {
     "name": "stdout",
     "output_type": "stream",
     "text": [
      "[[0]\n",
      " [9]\n",
      " [9]\n",
      " ...\n",
      " [9]\n",
      " [1]\n",
      " [1]]\n"
     ]
    }
   ],
   "source": [
    "train_labels[train_labels == 0] = 255\n",
    "train_labels[train_labels == 6] = 254\n",
    "\n",
    "train_labels[train_labels == 255] = 6\n",
    "train_labels[train_labels == 254] = 0\n",
    "\n",
    "print(train_labels)"
   ]
  },
  {
   "cell_type": "code",
   "execution_count": 36,
   "metadata": {},
   "outputs": [],
   "source": [
    "train_labels_df = pd.DataFrame(train_labels)\n",
    "train_labels_df.to_csv(\"results/altTrain_labels.csv\", sep=',', mode='w',index=False,header=False)"
   ]
  },
  {
   "cell_type": "code",
   "execution_count": 38,
   "metadata": {},
   "outputs": [],
   "source": [
    "test_labels[test_labels == 0] = 255\n",
    "test_labels[test_labels == 6] = 254\n",
    "\n",
    "test_labels[test_labels == 255] = 6\n",
    "test_labels[test_labels == 254] = 0"
   ]
  },
  {
   "cell_type": "code",
   "execution_count": 40,
   "metadata": {},
   "outputs": [],
   "source": [
    "test_labels_df = pd.DataFrame(train_labels)\n",
    "test_labels_df.to_csv(\"results/altTest_labels.csv\", sep=',', mode='w',index=False,header=False)"
   ]
  },
  {
   "cell_type": "code",
   "execution_count": null,
   "metadata": {},
   "outputs": [],
   "source": []
  }
 ],
 "metadata": {
  "kernelspec": {
   "display_name": "Python 3",
   "language": "python",
   "name": "python3"
  },
  "language_info": {
   "codemirror_mode": {
    "name": "ipython",
    "version": 3
   },
   "file_extension": ".py",
   "mimetype": "text/x-python",
   "name": "python",
   "nbconvert_exporter": "python",
   "pygments_lexer": "ipython3",
   "version": "3.6.7"
  }
 },
 "nbformat": 4,
 "nbformat_minor": 2
}
