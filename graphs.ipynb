{
 "cells": [
  {
   "cell_type": "code",
   "execution_count": 73,
   "metadata": {},
   "outputs": [],
   "source": [
    "import numpy as np\n"
   ]
  },
  {
   "cell_type": "code",
   "execution_count": 74,
   "metadata": {},
   "outputs": [],
   "source": [
    "def sigmoid(z):\n",
    "    return 1/(1 + np.exp(-z))\n"
   ]
  },
  {
   "cell_type": "code",
   "execution_count": 88,
   "metadata": {},
   "outputs": [
    {
     "data": {
      "text/plain": [
       "[[-4.535223,\n",
       "  -1.5143484,\n",
       "  3.982851,\n",
       "  2.1995668,\n",
       "  -5.4335203,\n",
       "  -5.476383,\n",
       "  -8.685219,\n",
       "  66.729579,\n",
       "  -4.2230687,\n",
       "  0.6178443]]"
      ]
     },
     "execution_count": 88,
     "metadata": {},
     "output_type": "execute_result"
    }
   ],
   "source": [
    " x = [[-4.535223 , -1.5143484,  3.982851 ,  2.1995668, -5.4335203,\n",
    "        -5.476383 , -8.685219 , 12.729579 , -4.2230687,  0.6178443]]\n",
    "x"
   ]
  },
  {
   "cell_type": "code",
   "execution_count": 89,
   "metadata": {},
   "outputs": [
    {
     "data": {
      "text/plain": [
       "array([[1.06107206e-02, 1.80295254e-01, 9.81708375e-01, 9.00210603e-01,\n",
       "        4.34869933e-03, 4.16700091e-03, 1.69037825e-04, 1.00000000e+00,\n",
       "        1.44419808e-02, 6.49728110e-01]])"
      ]
     },
     "execution_count": 89,
     "metadata": {},
     "output_type": "execute_result"
    }
   ],
   "source": [
    "z = sigmoid(np.asarray(x))\n",
    "z"
   ]
  },
  {
   "cell_type": "code",
   "execution_count": 90,
   "metadata": {},
   "outputs": [
    {
     "data": {
      "text/plain": [
       "0.8591855474829767"
      ]
     },
     "execution_count": 90,
     "metadata": {},
     "output_type": "execute_result"
    }
   ],
   "source": [
    "result = (-1) * np.sum(z * np.log(z))\n",
    "result"
   ]
  },
  {
   "cell_type": "code",
   "execution_count": 3,
   "metadata": {},
   "outputs": [
    {
     "name": "stdout",
     "output_type": "stream",
     "text": [
      "Collecting sklearn\n",
      "  Using cached sklearn-0.0-py2.py3-none-any.whl\n",
      "Collecting scikit-learn\n",
      "  Downloading scikit_learn-0.24.0-cp37-cp37m-win_amd64.whl (6.8 MB)\n",
      "Requirement already satisfied: numpy>=1.13.3 in c:\\users\\griffithinnovate\\anaconda3\\envs\\py36torch\\lib\\site-packages (from scikit-learn->sklearn) (1.19.2)\n",
      "Requirement already satisfied: scipy>=0.19.1 in c:\\users\\griffithinnovate\\anaconda3\\envs\\py36torch\\lib\\site-packages (from scikit-learn->sklearn) (1.5.4)\n",
      "Collecting joblib>=0.11\n",
      "  Downloading joblib-1.0.0-py3-none-any.whl (302 kB)\n",
      "Requirement already satisfied: numpy>=1.13.3 in c:\\users\\griffithinnovate\\anaconda3\\envs\\py36torch\\lib\\site-packages (from scikit-learn->sklearn) (1.19.2)\n",
      "Collecting threadpoolctl>=2.0.0\n",
      "  Downloading threadpoolctl-2.1.0-py3-none-any.whl (12 kB)\n",
      "Installing collected packages: threadpoolctl, joblib, scikit-learn, sklearn\n",
      "Successfully installed joblib-1.0.0 scikit-learn-0.24.0 sklearn-0.0 threadpoolctl-2.1.0\n"
     ]
    }
   ],
   "source": [
    "!pip install sklearn"
   ]
  },
  {
   "cell_type": "code",
   "execution_count": 5,
   "metadata": {},
   "outputs": [
    {
     "data": {
      "image/png": "[encoded data removed]",
      "text/plain": [
       "<Figure size 432x288 with 2 Axes>"
      ]
     },
     "metadata": {
      "needs_background": "light"
     },
     "output_type": "display_data"
    }
   ],
   "source": [
    "import sklearn\n",
    "import matplotlib.pyplot as plt  \n",
    "from sklearn.datasets import make_classification\n",
    "from sklearn.metrics import plot_confusion_matrix\n",
    "from sklearn.model_selection import train_test_split\n",
    "from sklearn.svm import SVC\n",
    "X, y = make_classification(random_state=0)\n",
    "X_train, X_test, y_train, y_test = train_test_split(     X, y, random_state=0)\n",
    "clf = SVC(random_state=0)\n",
    "clf.fit(X_train, y_train)\n",
    "SVC(random_state=0)\n",
    "plot_confusion_matrix(clf, X_test, y_test)  \n",
    "plt.show() "
   ]
  },
  {
   "cell_type": "code",
   "execution_count": 74,
   "metadata": {},
   "outputs": [
    {
     "name": "stdout",
     "output_type": "stream",
     "text": [
      "[[ True  True]\n",
      " [ True  True]\n",
      " [False False]\n",
      " [ True False]\n",
      " [ True  True]]\n"
     ]
    }
   ],
   "source": [
    "import numpy as np\n",
    "import matplotlib.pyplot as plt\n",
    "pred = np.array([[3, 3], [8, 8], [1, 1], [0, 1], [6, 6]])\n",
    "labels = np.array([[3, 3], [8, 8], [8, 8], [0, 0], [6, 6]])\n",
    "# print ( np.matmul(pred,labels))\n",
    "\n",
    "results = pred == labels\n",
    "# res = pred * results\n",
    "\n",
    "\n",
    "labelClasses = [0,1,2,3,4,5,6,7,8,9]\n",
    "numOutput = 2\n",
    "print(results)\n",
    "# print(res)\n",
    "\n",
    "    "
   ]
  },
  {
   "cell_type": "code",
   "execution_count": 201,
   "metadata": {},
   "outputs": [],
   "source": [
    "pred = [[3, 3], [8, 8], [1, 1], [0, 1], [6, 6]]\n",
    "labels = [[3, 3], [8, 8], [8, 8], [0, 0], [6, 6]]\n",
    "\n",
    "pred = np.array(pred)\n",
    "labels = np.array(labels)\n",
    "\n",
    "def throughputMatrix(pred, labels, num_outputs, classes):\n",
    "    \"\"\" generate a dictionary of lists comparing the correctly labeled predictions against the outputs for each class.        \n",
    "    \"\"\"    \n",
    "    resultsDict = {}\n",
    "    results = []\n",
    "    #get truth matrix of the predictions/labels\n",
    "    pred = np.array(pred)\n",
    "    labels = np.array(labels)\n",
    "\n",
    "    classCount = {}\n",
    "    print((pred))\n",
    "    print((labels))\n",
    "    results = np.equal(pred, labels)\n",
    "    print(results)\n",
    "    labelClasses=classes\n",
    "    \n",
    "    print(\"----\")\n",
    "    ### initialize the dictionary\n",
    "    for i, labelClass in enumerate(labelClasses):    \n",
    "        resultsDict[labelClass] ={}\n",
    "        for j in range(num_outputs):\n",
    "            resultsDict[labelClass][j] = 0\n",
    "#         resultsDict[labelClass] = [0]*num_outputs\n",
    "        classCount[labelClass] = 0\n",
    "#     print(resultsDict)\n",
    "    ###loop through results \n",
    "    for i, item in enumerate(results):\n",
    "        for j, branch in enumerate(item):\n",
    "#             print(\"{},{}\".format(i, j))\n",
    "            if branch == True: \n",
    "                resultsDict[labels[i][j]][j] += 1\n",
    "        classCount[labels[i][0]] += 1\n",
    "    print(classCount)\n",
    "#     print(resultsDict)\n",
    "#     resultsDict = pd.DataFrame({'classes':list(resultsDict.keys()),\"values\":list(resultsDict.values())})\n",
    "    resultsDict = pd.DataFrame.from_dict(resultsDict,orient=\"index\")\n",
    "    resultsDict[\"t\"] = classCount\n",
    "    print(resultsDict)\n",
    "    return resultsDict\n"
   ]
  },
  {
   "cell_type": "code",
   "execution_count": 202,
   "metadata": {},
   "outputs": [
    {
     "name": "stdout",
     "output_type": "stream",
     "text": [
      "[[3 3]\n",
      " [8 8]\n",
      " [1 1]\n",
      " [0 1]\n",
      " [6 6]]\n",
      "[[3 3]\n",
      " [8 8]\n",
      " [8 8]\n",
      " [0 0]\n",
      " [6 6]]\n",
      "[[ True  True]\n",
      " [ True  True]\n",
      " [False False]\n",
      " [ True False]\n",
      " [ True  True]]\n",
      "----\n",
      "{0: 1, 1: 0, 2: 0, 3: 1, 4: 0, 5: 0, 6: 1, 7: 0, 8: 2, 9: 0}\n",
      "   0  1  t\n",
      "0  1  0  0\n",
      "1  0  0  1\n",
      "2  0  0  2\n",
      "3  1  1  3\n",
      "4  0  0  4\n",
      "5  0  0  5\n",
      "6  1  1  6\n",
      "7  0  0  7\n",
      "8  1  1  8\n",
      "9  0  0  9\n"
     ]
    }
   ],
   "source": [
    "results = throughputMatrix(pred,labels,2,[0,1,2,3,4,5,6,7,8,9])\n",
    "# print(results)\n",
    "# pd.DataFrame(results).T"
   ]
  },
  {
   "cell_type": "code",
   "execution_count": null,
   "metadata": {},
   "outputs": [],
   "source": []
  },
  {
   "cell_type": "code",
   "execution_count": null,
   "metadata": {},
   "outputs": [],
   "source": []
  }
 ],
 "metadata": {
  "kernelspec": {
   "display_name": "Python 3.7.9 64-bit ('py36torch': conda)",
   "language": "python",
   "name": "python37964bitpy36torchconda6c7f9b1e31bd4704978e313bc2fd5ac1"
  },
  "language_info": {
   "codemirror_mode": {
    "name": "ipython",
    "version": 3
   },
   "file_extension": ".py",
   "mimetype": "text/x-python",
   "name": "python",
   "nbconvert_exporter": "python",
   "pygments_lexer": "ipython3",
   "version": "3.7.9"
  }
 },
 "nbformat": 4,
 "nbformat_minor": 2
}
