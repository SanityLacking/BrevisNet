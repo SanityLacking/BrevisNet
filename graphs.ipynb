{
 "cells": [
  {
   "cell_type": "code",
   "execution_count": 4,
   "metadata": {},
   "outputs": [],
   "source": [
    "import numpy as np\n",
    "import pandas as pd"
   ]
  },
  {
   "cell_type": "code",
   "execution_count": 5,
   "metadata": {},
   "outputs": [],
   "source": [
    "def sigmoid(z):\n",
    "    return 1/(1 + np.exp(-z))\n"
   ]
  },
  {
   "cell_type": "code",
   "execution_count": 3,
   "metadata": {},
   "outputs": [
    {
     "data": {
      "text/plain": [
       "[[-4.535223,\n",
       "  -1.5143484,\n",
       "  3.982851,\n",
       "  2.1995668,\n",
       "  -5.4335203,\n",
       "  -5.476383,\n",
       "  -8.685219,\n",
       "  12.729579,\n",
       "  -4.2230687,\n",
       "  0.6178443]]"
      ]
     },
     "execution_count": 3,
     "metadata": {},
     "output_type": "execute_result"
    }
   ],
   "source": [
    " x = [[-4.535223 , -1.5143484,  3.982851 ,  2.1995668, -5.4335203,\n",
    "        -5.476383 , -8.685219 , 12.729579 , -4.2230687,  0.6178443]]\n",
    "x"
   ]
  },
  {
   "cell_type": "code",
   "execution_count": 4,
   "metadata": {},
   "outputs": [
    {
     "data": {
      "text/plain": [
       "array([[1.06107206e-02, 1.80295254e-01, 9.81708375e-01, 9.00210603e-01,\n",
       "        4.34869933e-03, 4.16700091e-03, 1.69037825e-04, 9.99997038e-01,\n",
       "        1.44419808e-02, 6.49728110e-01]])"
      ]
     },
     "execution_count": 4,
     "metadata": {},
     "output_type": "execute_result"
    }
   ],
   "source": [
    "z = sigmoid(np.asarray(x))\n",
    "z"
   ]
  },
  {
   "cell_type": "code",
   "execution_count": 5,
   "metadata": {},
   "outputs": [
    {
     "data": {
      "text/plain": [
       "0.8591885096678078"
      ]
     },
     "execution_count": 5,
     "metadata": {},
     "output_type": "execute_result"
    }
   ],
   "source": [
    "result = (-1) * np.sum(z * np.log(z))\n",
    "result"
   ]
  },
  {
   "cell_type": "code",
   "execution_count": 6,
   "metadata": {},
   "outputs": [
    {
     "name": "stdout",
     "output_type": "stream",
     "text": [
      "Requirement already satisfied: sklearn in c:\\users\\griffithinnovate\\anaconda3\\envs\\py36\\lib\\site-packages (0.0)\n",
      "Requirement already satisfied: scikit-learn in c:\\users\\griffithinnovate\\anaconda3\\envs\\py36\\lib\\site-packages (from sklearn) (0.20.2)\n",
      "Requirement already satisfied: scipy>=0.13.3 in c:\\users\\griffithinnovate\\anaconda3\\envs\\py36\\lib\\site-packages (from scikit-learn->sklearn) (1.2.1)\n",
      "Requirement already satisfied: numpy>=1.8.2 in c:\\users\\griffithinnovate\\anaconda3\\envs\\py36\\lib\\site-packages (from scikit-learn->sklearn) (1.19.4)\n"
     ]
    },
    {
     "name": "stderr",
     "output_type": "stream",
     "text": [
      "WARNING: You are using pip version 19.1.1, however version 21.0.1 is available.\n",
      "You should consider upgrading via the 'python -m pip install --upgrade pip' command.\n"
     ]
    }
   ],
   "source": [
    "!pip install sklearn"
   ]
  },
  {
   "cell_type": "code",
   "execution_count": 7,
   "metadata": {},
   "outputs": [
    {
     "ename": "ImportError",
     "evalue": "cannot import name 'plot_confusion_matrix'",
     "output_type": "error",
     "traceback": [
      "\u001b[1;31m---------------------------------------------------------------------------\u001b[0m",
      "\u001b[1;31mImportError\u001b[0m                               Traceback (most recent call last)",
      "\u001b[1;32m<ipython-input-7-2efa50d7eafe>\u001b[0m in \u001b[0;36m<module>\u001b[1;34m\u001b[0m\n\u001b[0;32m      2\u001b[0m \u001b[1;32mimport\u001b[0m \u001b[0mmatplotlib\u001b[0m\u001b[1;33m.\u001b[0m\u001b[0mpyplot\u001b[0m \u001b[1;32mas\u001b[0m \u001b[0mplt\u001b[0m\u001b[1;33m\u001b[0m\u001b[1;33m\u001b[0m\u001b[0m\n\u001b[0;32m      3\u001b[0m \u001b[1;32mfrom\u001b[0m \u001b[0msklearn\u001b[0m\u001b[1;33m.\u001b[0m\u001b[0mdatasets\u001b[0m \u001b[1;32mimport\u001b[0m \u001b[0mmake_classification\u001b[0m\u001b[1;33m\u001b[0m\u001b[1;33m\u001b[0m\u001b[0m\n\u001b[1;32m----> 4\u001b[1;33m \u001b[1;32mfrom\u001b[0m \u001b[0msklearn\u001b[0m\u001b[1;33m.\u001b[0m\u001b[0mmetrics\u001b[0m \u001b[1;32mimport\u001b[0m \u001b[0mplot_confusion_matrix\u001b[0m\u001b[1;33m\u001b[0m\u001b[1;33m\u001b[0m\u001b[0m\n\u001b[0m\u001b[0;32m      5\u001b[0m \u001b[1;32mfrom\u001b[0m \u001b[0msklearn\u001b[0m\u001b[1;33m.\u001b[0m\u001b[0mmodel_selection\u001b[0m \u001b[1;32mimport\u001b[0m \u001b[0mtrain_test_split\u001b[0m\u001b[1;33m\u001b[0m\u001b[1;33m\u001b[0m\u001b[0m\n\u001b[0;32m      6\u001b[0m \u001b[1;32mfrom\u001b[0m \u001b[0msklearn\u001b[0m\u001b[1;33m.\u001b[0m\u001b[0msvm\u001b[0m \u001b[1;32mimport\u001b[0m \u001b[0mSVC\u001b[0m\u001b[1;33m\u001b[0m\u001b[1;33m\u001b[0m\u001b[0m\n",
      "\u001b[1;31mImportError\u001b[0m: cannot import name 'plot_confusion_matrix'"
     ]
    }
   ],
   "source": [
    "import sklearn\n",
    "import matplotlib.pyplot as plt  \n",
    "from sklearn.datasets import make_classification\n",
    "from sklearn.metrics import plot_confusion_matrix\n",
    "from sklearn.model_selection import train_test_split\n",
    "from sklearn.svm import SVC\n",
    "X, y = make_classification(random_state=0)\n",
    "X_train, X_test, y_train, y_test = train_test_split(     X, y, random_state=0)\n",
    "clf = SVC(random_state=0)\n",
    "clf.fit(X_train, y_train)\n",
    "SVC(random_state=0)\n",
    "plot_confusion_matrix(clf, X_test, y_test)  \n",
    "plt.show() "
   ]
  },
  {
   "cell_type": "code",
   "execution_count": null,
   "metadata": {},
   "outputs": [],
   "source": [
    "import numpy as np\n",
    "import matplotlib.pyplot as plt\n",
    "pred = np.array([[3, 3], [8, 8], [1, 1], [0, 1], [6, 6]])\n",
    "labels = np.array([[3, 3], [8, 8], [8, 8], [0, 0], [6, 6]])\n",
    "# print ( np.matmul(pred,labels))\n",
    "\n",
    "results = pred == labels\n",
    "# res = pred * results\n",
    "\n",
    "\n",
    "labelClasses = [0,1,2,3,4,5,6,7,8,9]\n",
    "numOutput = 2\n",
    "print(results)\n",
    "# print(res)\n",
    "\n",
    "    "
   ]
  },
  {
   "cell_type": "code",
   "execution_count": null,
   "metadata": {},
   "outputs": [],
   "source": [
    "import pandas as pd\n",
    "\n",
    "\n",
    "pred = [[3, 3], [8, 8], [1, 1], [0, 1], [6, 6]]\n",
    "labels = [[3, 3], [8, 8], [8, 8], [0, 0], [6, 6]]\n",
    "\n",
    "pred = np.array(pred)\n",
    "labels = np.array(labels)\n",
    "\n",
    "\n",
    "def throughputMatrix(pred, labels, num_outputs, classes, output_names=[]):\n",
    "    \"\"\" generate a dictionary of lists comparing the correctly labeled predictions against the outputs for each class.        \n",
    "    \"\"\"    \n",
    "    resultsDict = {}\n",
    "    results = []\n",
    "    #get truth matrix of the predictions/labels\n",
    "    pred = np.array(pred)\n",
    "    labels = np.array(labels)\n",
    "\n",
    "    classCount = {}\n",
    "    # print((pred))\n",
    "    # print((labels))\n",
    "    results = np.equal(pred, labels)\n",
    "    # print(results)\n",
    "    labelClasses=classes\n",
    "    \n",
    "    # print(\"----\")\n",
    "    ### initialize the dictionary\n",
    "    for i, labelClass in enumerate(labelClasses):    \n",
    "        resultsDict[labelClass] ={}\n",
    "        for j in range(num_outputs):\n",
    "            resultsDict[labelClass][j] = 0\n",
    "#         resultsDict[labelClass] = [0]*num_outputs\n",
    "        classCount[labelClass] = 0\n",
    "#     print(resultsDict)\n",
    "    ###loop through results \n",
    "    for i, item in enumerate(results):\n",
    "        for j, branch in enumerate(item):\n",
    "#             print(\"{},{}\".format(i, j))\n",
    "            if branch == True: \n",
    "                resultsDict[labels[i][j]][j] += 1\n",
    "        classCount[labels[i][0]] += 1\n",
    "    # print(classCount)\n",
    "    resultsDict = pd.DataFrame.from_dict(resultsDict,orient=\"index\")\n",
    "    renameDict={}\n",
    "    for i, name in enumerate(output_names):\n",
    "        renameDict[i] = name\n",
    "    if len(renameDict) > 0:\n",
    "        resultsDict.rename(renameDict)\n",
    "    resultsDict[\"itemCount\"] = pd.Series(classCount)\n",
    "\n",
    "    # print(resultsDict)\n",
    "    return resultsDict\n"
   ]
  },
  {
   "cell_type": "code",
   "execution_count": null,
   "metadata": {},
   "outputs": [],
   "source": [
    "results = throughputMatrix(pred,labels,2,[0,1,2,3,4,5,6,7,8,9])\n",
    "print(results.keys())\n",
    "pd.DataFrame(results).T"
   ]
  },
  {
   "cell_type": "code",
   "execution_count": null,
   "metadata": {},
   "outputs": [],
   "source": []
  },
  {
   "cell_type": "code",
   "execution_count": null,
   "metadata": {},
   "outputs": [],
   "source": [
    "##### entropy matrix\n"
   ]
  },
  {
   "cell_type": "code",
   "execution_count": null,
   "metadata": {},
   "outputs": [],
   "source": [
    "def entropyMatrix(entropy, labels, num_outputs, classes, output_names=[]):\n",
    "    \"\"\" generate a matrix of entropy values for all classes and outputs\n",
    "        entropy: list of all predicted labels\n",
    "        labels: list of all actual labels. must match pred in size and shape\n",
    "        classes: list of all classes, for example [0,1,2,3]\n",
    "        output_names: list of names for each of the outputs. applies names to outputs in the same order as pred and labels.\n",
    "\n",
    "    \"\"\"    \n",
    "    # print(entropy)\n",
    "    # print(labels)\n",
    "    resultsDict = {}\n",
    "    results = np.array(entropy)\n",
    "    labels = np.array(labels)\n",
    "    classCount = {}\n",
    "    labelClasses=classes\n",
    "    \n",
    "    ### initialize the dictionary\n",
    "    for i, labelClass in enumerate(labelClasses):    \n",
    "        resultsDict[labelClass] ={}\n",
    "        for j in range(num_outputs):\n",
    "            resultsDict[labelClass][j] = []\n",
    "#         resultsDict[labelClass] = [0]*num_outputs\n",
    "        classCount[labelClass] = 0\n",
    "#     print(resultsDict)\n",
    "    ###loop through results \n",
    "    for i, item in enumerate(results):\n",
    "        for j, branch in enumerate(item):\n",
    "#             print(\"{},{}\".format(i, j))\n",
    "#             if branch == True: \n",
    "            resultsDict[labels[i][j]][j].append(branch)\n",
    "        classCount[labels[i][0]] += 1\n",
    "    # print(classCount)\n",
    "    \n",
    "    resultsDict = pd.DataFrame.from_dict(resultsDict,orient=\"index\")\n",
    "    for column in resultsDict:\n",
    "        resultsDict[column] = [np.array(x).mean() for x in resultsDict[column].values]\n",
    "    renameDict={}\n",
    "    for i, name in enumerate(output_names):\n",
    "        renameDict[i] = name\n",
    "    print(\"rename:{}\".format(renameDict))\n",
    "    if len(renameDict) > 0:\n",
    "        print(\"rename!\")\n",
    "        resultsDict = resultsDict.rename(renameDict,axis =\"columns\")\n",
    "    resultsDict[\"itemCount\"] = pd.Series(classCount)\n",
    "    return resultsDict"
   ]
  },
  {
   "cell_type": "code",
   "execution_count": null,
   "metadata": {},
   "outputs": [],
   "source": [
    "entropy = [[0.02117890713197057, 1.7145111565508644, 1.123504928401738, 0.02854453329516289], [0.2051342868918917, 0.12891920859567874, 0.06274062780065608, 0.02574753698232482], [0.9602549250481593, 0.6424450601952321, 1.148021184171209, 1.1666995927769988], [0.005653360056361332, 1.391790668156026, 0.33770517085116436, 1.6566820996289247], [0.04327244093902029, 0.9537953160858115, 0.834290747567063, 0.010300220967992246]]\n",
    "labels = [[3, 3, 3, 3], [8, 8, 8, 8], [8, 8, 8, 8], [0, 0, 0, 0], [6, 6, 6, 6]]\n",
    "\n",
    "y = entropyMatrix(entropy, labels, 4,[0,1,2,3,4,5,6,7,8,9])\n",
    "print(y)\n"
   ]
  },
  {
   "cell_type": "code",
   "execution_count": null,
   "metadata": {},
   "outputs": [],
   "source": [
    "\n",
    "\n",
    "def entropyConfusionMatrix(pred, labels, entropy, num_outputs, classes, output_names=[]):\n",
    "    \"\"\" generate a matrix of entropy values for all classes and outputs\n",
    "        pred: list of all predicted labels\n",
    "        labels: list of all actual labels. must match pred in size and shape\n",
    "        classes: list of all classes, for example [0,1,2,3]\n",
    "        output_names: list of names for each of the outputs. applies names to outputs in the same order as pred and labels.\n",
    "\n",
    "    \"\"\"    \n",
    "#     print(pred)\n",
    "#     print(labels)\n",
    "    resultsDict = {}\n",
    "    results = []\n",
    "    pred = np.array(pred)\n",
    "    labels = np.array(labels)\n",
    "    entropy = np.array(entropy)\n",
    "    classCount = {}\n",
    "    results = pred\n",
    "    labelClasses=classes\n",
    "    from sklearn.metrics import confusion_matrix\n",
    "    ### initialize the dictionary\n",
    "    for i, labelClass in enumerate(labelClasses):    \n",
    "        resultsDict[labelClass] ={}\n",
    "        for j in range(num_outputs):\n",
    "            resultsDict[labelClass][j] = []\n",
    "#         resultsDict[labelClass] = [0]*num_outputs\n",
    "        classCount[labelClass] = 0\n",
    "#     print(resultsDict)\n",
    "    ###loop through results \n",
    "    transpose_preds = np.transpose(results) #per exit rather then per input\n",
    "    transpose_labels = np.transpose(labels)\n",
    "    for i, item in enumerate(transpose_preds):\n",
    "        print(\"exit:{}\".format(i))\n",
    "        df_confusion = pd.crosstab(item, transpose_labels[i], rownames=['Actual'], colnames=['Predicted'], margins=True)\n",
    "        print(df_confusion)\n",
    "#         print(confusion_matrix(item,transpose_labels[i]))\n",
    "        \n",
    "    \n",
    "    print(np.transpose(results))\n",
    "#         for j, branch in enumerate(item):\n",
    "#             print(\"{},{}\".format(i, j))\n",
    "#             if branch == True: \n",
    "#             resultsDict[labels[i][j]][j].append(branch)\n",
    "#         classCount[labels[i][0]] += 1\n",
    "    # print(classCount)\n",
    "#     print(resultsDict)\n",
    "    \n",
    "#     resultsDict = pd.DataFrame.from_dict(resultsDict,orient=\"index\")\n",
    "# #     print(resultsDict)\n",
    "#     for column in resultsDict:\n",
    "# #         print(df[column])\n",
    "#         resultsDict[column] = [np.array(x).mean() for x in resultsDict[column].values]\n",
    "# #     resultsDict = resultsDict.mean(axis=0)\n",
    "#     renameDict={}\n",
    "#     for i, name in enumerate(output_names):\n",
    "#         renameDict[i] = name\n",
    "#     print(\"rename:{}\".format(renameDict))\n",
    "#     if len(renameDict) > 0:\n",
    "#         print(\"rename!\")\n",
    "#         resultsDict = resultsDict.rename(renameDict,axis =\"columns\")\n",
    "#     resultsDict[\"itemCount\"] = pd.Series(classCount)\n",
    "#     return resultsDict\n",
    "    return"
   ]
  },
  {
   "cell_type": "code",
   "execution_count": null,
   "metadata": {},
   "outputs": [],
   "source": [
    "pred = [[3, 3, 3, 3], [8, 8, 8, 8], [1, 1, 8, 1], [0, 8, 8, 1], [6, 6, 6, 6]]\n",
    "entropy = [[0.02117890713197057, 1.7145111565508644, 1.123504928401738, 0.02854453329516289], [0.2051342868918917, 0.12891920859567874, 0.06274062780065608, 0.02574753698232482], [0.9602549250481593, 0.6424450601952321, 1.148021184171209, 1.1666995927769988], [0.005653360056361332, 1.391790668156026, 0.33770517085116436, 1.6566820996289247], [0.04327244093902029, 0.9537953160858115, 0.834290747567063, 0.010300220967992246]]\n",
    "labels = [[3, 3, 3, 3], [8, 8, 8, 8], [8, 8, 8, 8], [0, 0, 0, 0], [6, 6, 6, 6]]\n",
    "y = entropyConfusionMatrix(pred, labels, entropy, 4,[0,1,2,3,4,5,6,7,8,9])\n",
    "print(y)"
   ]
  },
  {
   "cell_type": "code",
   "execution_count": null,
   "metadata": {},
   "outputs": [],
   "source": [
    "def KneeGraph(pred, labels, entropy, num_outputs, classes, output_names=[]):\n",
    "    \"\"\" generate a matrix of entropy values for outputs\n",
    "        pred: list of all predicted labels\n",
    "        labels: list of all actual labels. must match pred in size and shape\n",
    "        classes: list of all classes, for example [0,1,2,3]\n",
    "        output_names: list of names for each of the outputs. applies names to outputs in the same order as pred and labels.\n",
    "\n",
    "    \"\"\"    \n",
    "    #graph the accuracy rate vs the entropy threshold.\n",
    "    #get series of entropy values, series of \n",
    "    resultsDict = {}\n",
    "    results = np.equal(pred, labels)\n",
    "    pred = np.array(pred)\n",
    "    labels = np.array(labels)\n",
    "    entropy = np.array(entropy)\n",
    "    classCount = {}\n",
    "#     results = pred\n",
    "    labelClasses=classes\n",
    "    transpose_results = np.transpose(results)\n",
    "    transpose_preds = np.transpose(pred) #per exit rather then per input\n",
    "    transpose_entropy = np.transpose(entropy) #per exit rather then per input\n",
    "    transpose_labels = np.transpose(labels)\n",
    "#     print(transpose_results)\n",
    "#     print(transpose_preds)\n",
    "#     print(transpose_entropy)\n",
    "#     print(transpose_labels)\n",
    "    # %matplotlib inline\n",
    "    import matplotlib.pyplot as plt\n",
    "    plt.style.use('seaborn-whitegrid')\n",
    "    fig = plt.figure()\n",
    "    # ax = plt.axes()\n",
    "    series=[]\n",
    "    fig, axs = plt.subplots(2, 2)\n",
    "    fig.tight_layout()\n",
    "    df =  pd.DataFrame() \n",
    "#     plt.subplots(2, 2, sharex='all', sharey='all')\n",
    "    for i, branch in enumerate(transpose_entropy):\n",
    "        series_branch=[]\n",
    "        \n",
    "        for j, ent in enumerate(branch):\n",
    "            series_entropy = {}\n",
    "            series_entropy[\"entropy\"] = ent\n",
    "#             print(\"entropy: {}\".format(ent))\n",
    "#             print(np.where(branch <= ent))\n",
    "            series_entropy[\"pred\"] = transpose_preds[i][np.where(branch <= ent)]\n",
    "#             print(series_entropy[\"pred\"] )\n",
    "            series_entropy[\"labels\"] = transpose_labels[i][np.where(branch <= ent)]\n",
    "#             print(series_entropy[\"labels\"] )\n",
    "            series_entropy[\"truth\"] = transpose_results[i][np.where(branch <= ent)]\n",
    "#             print(series_entropy[\"truth\"] )\n",
    "            series_entropy[\"accuracy\"] = transpose_results[i][np.where(branch <= ent)].sum()/len(transpose_results[i])\n",
    "#             print(series_entropy[\"accuracy\"])\n",
    "            series_branch.append(series_entropy)\n",
    "        df = pd.DataFrame(series_branch)\n",
    "        df = df.sort_values(by=[\"entropy\"])\n",
    "        axs[round(int(i/2)), round(i%2)].plot(df[\"entropy\"],df[\"accuracy\"])\n",
    "#         axs[round(int(i/2)), round(i%2)].set_xlim([0,2])\n",
    "        axs[round(int(i/2)), round(i%2)].set_ylim([0,1])\n",
    "        if len(output_names) >= i:\n",
    "            axs[round(int(i/2)), round(i%2)].title.set_text(\"branch: {}\".format(output_names[i]))\n",
    "        else:\n",
    "            axs[round(int(i/2)), round(i%2)].title.set_text(\"branch: {}\".format(i))\n",
    "        series.append(series_branch)\n",
    "    plt.show()\n",
    "    return series"
   ]
  },
  {
   "cell_type": "code",
   "execution_count": null,
   "metadata": {},
   "outputs": [],
   "source": [
    "pred = [[3, 3, 3, 3], [8, 8, 8, 8], [1, 1, 8, 1], [0, 8, 8, 1], [6, 6, 6, 6]]\n",
    "entropy = [[0.02117890713197057, 1.7145111565508644, 1.123504928401738, 0.02854453329516289], [0.2051342868918917, 0.12891920859567874, 0.06274062780065608, 0.02574753698232482], [0.9602549250481593, 0.6424450601952321, 1.148021184171209, 1.1666995927769988], [0.005653360056361332, 1.391790668156026, 0.33770517085116436, 1.6566820996289247], [0.04327244093902029, 0.9537953160858115, 0.834290747567063, 0.010300220967992246]]\n",
    "labels = [[3, 3, 3, 3], [8, 8, 8, 8], [8, 8, 8, 8], [0, 0, 0, 0], [6, 6, 6, 6]]\n",
    "y = KneeGraph(pred, labels, entropy, 4,[0,1,2,3,4,5,6,7,8,9], [\"dense5\",\"pooling_3\",\"pooling_4\",\"dense_3\"])\n",
    "# print(y)"
   ]
  },
  {
   "cell_type": "code",
   "execution_count": null,
   "metadata": {},
   "outputs": [],
   "source": [
    "import math\n",
    "from matplotlib.ticker import FormatStrFormatter\n",
    "import matplotlib.pyplot as plt\n",
    "plt.style.use('seaborn-whitegrid')\n",
    "def KneeGraphClasses(pred, labels, entropy, num_outputs, classes, output_names=[]):\n",
    "    \"\"\" generate a matrix of entropy values for all classes and outputs\n",
    "        pred: list of all predicted labels\n",
    "        labels: list of all actual labels. must match pred in size and shape\n",
    "        classes: list of all classes, for example [0,1,2,3]\n",
    "        output_names: list of names for each of the outputs. applies names to outputs in the same order as pred and labels.\n",
    "\n",
    "    \"\"\"    \n",
    "    #graph the accuracy rate vs the entropy threshold.\n",
    "    #get series of entropy values, series of \n",
    "    resultsDict = {}\n",
    "    results = np.equal(pred, labels)\n",
    "    pred = np.array(pred)\n",
    "    labels = np.array(labels)\n",
    "    entropy = np.array(entropy)\n",
    "    classCount = {}\n",
    "#     results = pred\n",
    "    labelClasses=classes\n",
    "    transpose_results = np.transpose(results) #truths\n",
    "    transpose_preds = np.transpose(pred) #per exit rather then per input\n",
    "    transpose_entropy = np.transpose(entropy) #per exit rather then per input\n",
    "    transpose_labels = np.transpose(labels)\n",
    "#     print(transpose_results)\n",
    "#     print(transpose_preds)\n",
    "#     print(transpose_entropy)\n",
    "#     print(transpose_labels)\n",
    "    # %matplotlib inline\n",
    "   \n",
    "    fig = plt.figure()\n",
    "    series=[]\n",
    "    fig, axs = plt.subplots(2, 2)\n",
    "    fig.tight_layout(pad=0)\n",
    "    df =  pd.DataFrame() \n",
    "#     print(transpose_entropy)\n",
    "#     for branch in branches:\n",
    "#          for class in classes:\n",
    "#                 for entropy in entropies:\n",
    "#                     classAccuracy = sum of truth labels /count of truth labels where entropies <= entropy \n",
    "    returnData = []\n",
    "    for i, branchEntropy in enumerate(transpose_entropy):\n",
    "        print(\"branch {}: {}\".format(i,branchEntropy))\n",
    "        classEntropy = {}\n",
    "        for j, labelClass in enumerate(labelClasses):\n",
    "            classEntropy[labelClass] = []\n",
    "#             print(\"class {}\".format(labelClass))\n",
    "            for k, entropy in enumerate(branchEntropy):\n",
    "                # if there are no entries for a label class, this would produce an accuracy of NaN, so instead skip. \n",
    "#                 if math.isnan(transpose_results[i][np.where((branchEntropy <= entropy) & (transpose_labels[i] == labelClass))].sum()/len(transpose_labels[i][np.where((branchEntropy <= entropy) & (transpose_labels[i] == labelClass))])) :\n",
    "#                     continue\n",
    "                \n",
    "                seriesEntropy = {}\n",
    "                seriesEntropy[\"entropy\"] = entropy\n",
    "                seriesEntropy[\"pred\"] = transpose_preds[i][np.where((branchEntropy <= entropy) & (transpose_labels[i] == labelClass))]\n",
    "                seriesEntropy[\"labels\"] = transpose_labels[i][np.where((branchEntropy <= entropy) & (transpose_labels[i] == labelClass))]\n",
    "                seriesEntropy[\"accuracy\"] = transpose_results[i][np.where((branchEntropy <= entropy) & (transpose_labels[i] == labelClass))].sum()/len(transpose_labels[i][np.where(transpose_labels[i] == labelClass)])\n",
    "                classEntropy[labelClass].append(seriesEntropy)\n",
    "            df = pd.DataFrame(classEntropy[labelClass],columns=[\"entropy\",\"pred\",\"labels\",\"accuracy\"])\n",
    "            df = df.sort_values(by=[\"entropy\"])\n",
    "            print(df)\n",
    "            axs[round(int(i/2)), round(i%2)].plot(df[\"entropy\"],df[\"accuracy\"], label=\"Class: {}\".format(labelClass),alpha=0.8)        \n",
    "        if len(output_names) >= i:\n",
    "            axs[round(int(i/2)), round(i%2)].title.set_text(\"branch: {}\".format(output_names[i]))\n",
    "        else:\n",
    "            axs[round(int(i/2)), round(i%2)].title.set_text(\"branch: {}\".format(i))\n",
    "        returnData.append(classEntropy)\n",
    "        \n",
    "    lines = []\n",
    "    labels = []\n",
    "    for ax in fig.axes:\n",
    "        ax.yaxis.set_major_formatter(FormatStrFormatter('%.2f'))\n",
    "        axLine, axLabel = ax.get_legend_handles_labels()\n",
    "        lines=(axLine)\n",
    "        labels=(axLabel)\n",
    "        \n",
    "    fig.legend(lines, labels,bbox_to_anchor=(1., 1), loc=2,borderaxespad=0.,frameon=True)\n",
    "    plt.show()\n",
    "    returnData = pd.DataFrame(returnData)\n",
    "    return returnData"
   ]
  },
  {
   "cell_type": "code",
   "execution_count": null,
   "metadata": {},
   "outputs": [],
   "source": [
    "pred = [[3, 3, 3, 3], [8, 8, 8, 8], [1, 1, 8, 1], [0, 8, 8, 1], [6, 6, 6, 6]]\n",
    "entropy = [[0.02117890713197057, 1.7145111565508644, 1.123504928401738, 0.02854453329516289],\n",
    "           [0.2051342868918917, 0.12891920859567874, 0.06274062780065608, 0.02574753698232482],\n",
    "           [0.9602549250481593, 0.6424450601952321, 1.148021184171209, 1.1666995927769988],\n",
    "           [0.005653360056361332, 1.391790668156026, 0.33770517085116436, 1.6566820996289247],\n",
    "           [0.04327244093902029, 0.9537953160858115, 0.834290747567063, 0.010300220967992246]]\n",
    "labels = [[3, 3, 3, 3], [8, 8, 8, 8], [8, 8, 8, 8], [0, 0, 0, 0], [6, 6, 6, 6]]\n",
    "y = KneeGraphClasses(pred, labels, entropy, 4,[0,1,2,3,4,5,6,7,8,9], [\"dense5\",\"pooling_3\",\"pooling_4\",\"dense_3\"])\n",
    "# print(y)"
   ]
  },
  {
   "cell_type": "code",
   "execution_count": null,
   "metadata": {},
   "outputs": [],
   "source": [
    "def KneeGraphPredictedClasses(pred, labels, entropy, num_outputs, classes, output_names=[]):\n",
    "    \"\"\" generate a matrix of entropy values for all classes and outputs\n",
    "        pred: list of all predicted labels\n",
    "        labels: list of all actual labels. must match pred in size and shape\n",
    "        classes: list of all classes, for example [0,1,2,3]\n",
    "        output_names: list of names for each of the outputs. applies names to outputs in the same order as pred and labels.\n",
    "\n",
    "    \"\"\"    \n",
    "    #graph the accuracy rate vs the entropy threshold.\n",
    "    #get series of entropy values, series of \n",
    "    resultsDict = {}\n",
    "    results = np.equal(pred, labels)\n",
    "    pred = np.array(pred)\n",
    "    labels = np.array(labels)\n",
    "    entropy = np.array(entropy)\n",
    "    classCount = {}\n",
    "#     results = pred\n",
    "    labelClasses=classes\n",
    "    transpose_results = np.transpose(results) #truths\n",
    "    transpose_preds = np.transpose(pred) #per exit rather then per input\n",
    "    transpose_entropy = np.transpose(entropy) #per exit rather then per input\n",
    "    transpose_labels = np.transpose(labels)\n",
    "#     print(transpose_results)\n",
    "#     print(transpose_preds)\n",
    "#     print(transpose_entropy)\n",
    "#     print(transpose_labels)\n",
    "    # %matplotlib inline\n",
    "    import matplotlib.pyplot as plt\n",
    "    plt.style.use('seaborn-whitegrid')\n",
    "    fig = plt.figure()\n",
    "    series=[]\n",
    "    fig, axs = plt.subplots(2, 2)\n",
    "    fig.tight_layout()\n",
    "    df =  pd.DataFrame() \n",
    "#     print(transpose_entropy)\n",
    "#     for branch in branches:\n",
    "#          for class in classes:\n",
    "#                 for entropy in entropies:\n",
    "#                     classAccuracy = sum of truth labels /count of truth labels where entropies <= entropy \n",
    "    returnData = []\n",
    "    for i, branchEntropy in enumerate(transpose_entropy):\n",
    "        print(\"branch {}: {}\".format(i,branchEntropy))\n",
    "        classEntropy = {}\n",
    "        for j, labelClass in enumerate(labelClasses):\n",
    "            classEntropy[labelClass] = []\n",
    "            print(\"class {}\".format(labelClass))\n",
    "            for k, entropy in enumerate(branchEntropy):\n",
    "                # if there are no entries for a label class, this would produce an accuracy of NaN, so instead skip. \n",
    "#                 print(\"sum is: {} len is: {}, combined is: {}\".format(transpose_results[i][np.where((branchEntropy <= entropy) & (transpose_labels[i] == labelClass))].sum(), len(transpose_labels[i][np.where((transpose_labels[i] == labelClass))]),transpose_results[i][np.where((branchEntropy <= entropy) & (transpose_labels[i] == labelClass))].sum()/len(transpose_labels[i][np.where((transpose_labels[i] == labelClass))])))\n",
    "                if len(transpose_preds[i][np.where((transpose_preds[i] == labelClass))])==0 :\n",
    "#                     print(\"skip!\")\n",
    "                    continue\n",
    "                seriesEntropy = {}\n",
    "                seriesEntropy[\"entropy\"] = entropy\n",
    "                seriesEntropy[\"pred\"] = transpose_preds[i][np.where((branchEntropy <= entropy) & (transpose_preds[i] == labelClass))] # select all where labelClass is PREDICTED\n",
    "                seriesEntropy[\"labels\"] = transpose_labels[i][np.where((branchEntropy <= entropy) & (transpose_preds[i] == labelClass))] # select all where labelClass is PREDICTED\n",
    "                seriesEntropy[\"accuracy\"] = transpose_results[i][np.where((branchEntropy <= entropy) & (transpose_labels[i] == labelClass))].sum()/len(transpose_labels[i][np.where((transpose_labels[i] == labelClass))])\n",
    "                classEntropy[labelClass].append(seriesEntropy)\n",
    "            df = pd.DataFrame(classEntropy[labelClass],columns=[\"entropy\",\"pred\",\"labels\",\"accuracy\"])\n",
    "            df = df.sort_values(by=[\"entropy\"])\n",
    "            print(df)\n",
    "            axs[round(int(i/2)), round(i%2)].plot(df[\"entropy\"],df[\"accuracy\"], label=\"Class: {}\".format(labelClass),alpha=0.8)        \n",
    "        if len(output_names) >= i:\n",
    "            axs[round(int(i/2)), round(i%2)].title.set_text(\"branch: {}\".format(output_names[i]))\n",
    "        else:\n",
    "            axs[round(int(i/2)), round(i%2)].title.set_text(\"branch: {}\".format(i))\n",
    "            \n",
    "        returnData.append(classEntropy)\n",
    "    lines = []\n",
    "    labels = []\n",
    "    for ax in fig.axes:\n",
    "        ax.yaxis.set_major_formatter(FormatStrFormatter('%.2f'))\n",
    "        axLine, axLabel = ax.get_legend_handles_labels()\n",
    "        lines=(axLine)\n",
    "        labels=(axLabel)\n",
    "        \n",
    "    fig.legend(lines, labels,bbox_to_anchor=(1., 1), loc=2,borderaxespad=0.,frameon=True)\n",
    "\n",
    "#     plt.show()\n",
    "    \n",
    "    #######\n",
    "    output = np.empty([0])\n",
    "    print(output)\n",
    "    for i, branch in enumerate(y):\n",
    "        branchOutput = []\n",
    "        for j, classList in branch.items():\n",
    "            entropy =np.empty([])\n",
    "            acc =np.empty([])\n",
    "            for k in classList:\n",
    "                entropy = np.append(entropy,k[\"entropy\"])\n",
    "                acc = np.append(acc, k[\"accuracy\"])\n",
    "            df[\"branch{}_class{}_entropy\".format(i,j)] = entropy\n",
    "            df[\"branch{}_class{}_accuracy\".format(i,j)] = acc.astype(float)\n",
    "    print(\"-------\")\n",
    "#     print(df)\n",
    "    df.to_csv(\"graph_output.csv\")\n",
    "    return returnData"
   ]
  },
  {
   "cell_type": "code",
   "execution_count": null,
   "metadata": {},
   "outputs": [],
   "source": [
    "# pred = [[0],[0],[3],[3]]\n",
    "pred = [[3, 3, 3, 3], [8, 8, 8, 8], [1, 1, 8, 1], [0, 8, 8, 1], [6, 6, 6, 6]]\n",
    "# entropy = [[0.02117890713197057], [1.7145111565508644], [1.123504928401738], [0.02854453329516289]]\n",
    "entropy = [[0.02117890713197057, 1.7145111565508644, 1.123504928401738, 0.02854453329516289], [0.2051342868918917, 0.12891920859567874, 0.06274062780065608, 0.02574753698232482], [0.9602549250481593, 0.6424450601952321, 1.148021184171209, 1.1666995927769988], [0.005653360056361332, 1.391790668156026, 0.33770517085116436, 1.6566820996289247], [0.04327244093902029, 0.9537953160858115, 0.834290747567063, 0.010300220967992246]]\n",
    "labels = [[3, 3, 3, 3], [8, 8, 8, 8], [8, 8, 8, 8], [0, 0, 0, 0], [6, 6, 6, 6]]\n",
    "# labels = [[0],[1],[2],[3]]\n",
    "\n",
    "y = KneeGraphPredictedClasses(pred, labels, entropy, 4,[0,1,2,3,4,5,6,7,8,9], [\"dense5\",\"pooling_3\",\"pooling_4\",\"dense_3\"])\n",
    "# print(y)"
   ]
  },
  {
   "cell_type": "code",
   "execution_count": null,
   "metadata": {},
   "outputs": [],
   "source": [
    "# print(type(y))\n",
    "\n",
    "df = pd.DataFrame(columns=[\"entropy\"],dtype=\"float64\")\n",
    "for i, branch in enumerate(y):\n",
    "#     print(output)\n",
    "#     output =np.append(output,[-1]) \n",
    "#     print(type(branch))\n",
    "#     print(\"branch {}\".format(i))\n",
    "    branchOutput = []\n",
    "    for j, classList in branch.items():\n",
    "        \n",
    "#         print(\"class {}\".format(j))\n",
    "        entropy =np.empty([0,len(classList)])\n",
    "        eList = []\n",
    "        aList = []\n",
    "#         print(entropy.shape)\n",
    "#         acc =np.empty([])\n",
    "#         print(type(classList))\n",
    "#         classDf = pd.DataFrame(classList).values\n",
    "#         print(type(classDf))\n",
    "#         print(class)\n",
    "        for k in classList:\n",
    "#             print(k[\"entropy\"])\n",
    "            eList.append(k[\"entropy\"])\n",
    "            aList.append(k[\"accuracy\"])\n",
    "#             print(eList)\n",
    "#             acc = np.append(acc, k[\"accuracy\"])\n",
    "\n",
    "#             print(k[\"entropy\"])\n",
    "#         print(entropy.shape)\n",
    "#         e= pd.DataFrame({\"entropy\".format(i,j):eList,\"branch{}_class{}_accuracy\".format(i,j):aList})\n",
    "#         a= pd.DataFrame({\"branch{}_class{}_accuracy\".format(i,j):aList})\n",
    "#         print(e)\n",
    "#         df = pd.concat([df,e],axis=1)\n",
    "        e = pd.DataFrame({\"entropy\":eList,\"branch{}_class{}_accuracy\".format(i,j):aList})\n",
    "#         print(e)\n",
    "#         df = pd.concat([df,e])\n",
    "#         df = df.join(e.set_index('entropy'), on='entropy')\n",
    "        df = pd.merge(df,e,on=\"entropy\",how=\"outer\")\n",
    "#         print(df)\n",
    "#         df = pd.concat([df,a],axis=1)\n",
    "#         df = pd.concat([df,pd.DataFrame({\"branch{}_class{}_accuracy\".format(i,j):acc.astype(float)})])\n",
    "#         df = pd.concat(pd.DataFrame({\"branch{}_class{}_entropy\".format(i,j):entropy}))\n",
    "#         df.insert(0,\"branch{}_class{}_entropy\".format(i,j),entropy)\n",
    "#         df.insert(0,\"branch{}_class{}_accuracy\".format(i,j),acc.astype(float))\n",
    "#         df[\"branch{}_class{}_entropy\".format(i,j)] = entropy\n",
    "#         df[\"branch{}_class{}_accuracy\".format(i,j)] = acc.astype(float)\n",
    "#         print(acc)\n",
    "#         output = np.concatenate(output,entropy)\n",
    "        \n",
    "#         output = np.append(output,[-10])\n",
    "#         output = np.append(output, [acc])\n",
    "#         df[\"{}_entropy\".format(j)] = [np.array(entropy).transpose()]\n",
    "#         df[\"{}_accuracy\".format(j)] = [np.array(acc).transpose()]\n",
    "    \n",
    "#             for l in k.items():\n",
    "#                 print(l)\n",
    "# df[\"b\"] = [1]\n",
    "print(\"-------\")\n",
    "# print(type(df))\n",
    "print(df)\n"
   ]
  },
  {
   "cell_type": "code",
   "execution_count": null,
   "metadata": {},
   "outputs": [],
   "source": [
    "df.to_csv(\"graph_output_test.csv\")\n"
   ]
  },
  {
   "cell_type": "code",
   "execution_count": 8,
   "metadata": {},
   "outputs": [
    {
     "ename": "NameError",
     "evalue": "name 'y' is not defined",
     "output_type": "error",
     "traceback": [
      "\u001b[1;31m---------------------------------------------------------------------------\u001b[0m",
      "\u001b[1;31mNameError\u001b[0m                                 Traceback (most recent call last)",
      "\u001b[1;32m<ipython-input-8-e937f8708d09>\u001b[0m in \u001b[0;36m<module>\u001b[1;34m\u001b[0m\n\u001b[0;32m      1\u001b[0m \u001b[0mdf\u001b[0m \u001b[1;33m=\u001b[0m \u001b[0mpd\u001b[0m\u001b[1;33m.\u001b[0m\u001b[0mDataFrame\u001b[0m\u001b[1;33m(\u001b[0m\u001b[1;33m)\u001b[0m\u001b[1;33m\u001b[0m\u001b[1;33m\u001b[0m\u001b[0m\n\u001b[0;32m      2\u001b[0m \u001b[1;31m# print(y)\u001b[0m\u001b[1;33m\u001b[0m\u001b[1;33m\u001b[0m\u001b[1;33m\u001b[0m\u001b[0m\n\u001b[1;32m----> 3\u001b[1;33m \u001b[1;32mfor\u001b[0m \u001b[0mi\u001b[0m\u001b[1;33m,\u001b[0m \u001b[0mdic\u001b[0m \u001b[1;32min\u001b[0m \u001b[0menumerate\u001b[0m\u001b[1;33m(\u001b[0m\u001b[0my\u001b[0m\u001b[1;33m)\u001b[0m\u001b[1;33m:\u001b[0m\u001b[1;33m\u001b[0m\u001b[1;33m\u001b[0m\u001b[0m\n\u001b[0m\u001b[0;32m      4\u001b[0m \u001b[1;31m#     print(type(dic))\u001b[0m\u001b[1;33m\u001b[0m\u001b[1;33m\u001b[0m\u001b[1;33m\u001b[0m\u001b[0m\n\u001b[0;32m      5\u001b[0m \u001b[1;31m#     print(dic)\u001b[0m\u001b[1;33m\u001b[0m\u001b[1;33m\u001b[0m\u001b[1;33m\u001b[0m\u001b[0m\n",
      "\u001b[1;31mNameError\u001b[0m: name 'y' is not defined"
     ]
    }
   ],
   "source": [
    "df = pd.DataFrame()\n",
    "# print(y)\n",
    "for i, dic in enumerate(y):\n",
    "#     print(type(dic))\n",
    "#     print(dic)\n",
    "#     df = pd.DataFrame.from_dict(dic, orient='index')\n",
    "    print(i)\n",
    "    print(dic[0])\n",
    "#     df[\"{}_entropy\".format(i)] = "
   ]
  },
  {
   "cell_type": "code",
   "execution_count": 9,
   "metadata": {},
   "outputs": [
    {
     "name": "stdout",
     "output_type": "stream",
     "text": [
      "  entropy  number\n",
      "0       a       1\n",
      "1       b       2\n"
     ]
    }
   ],
   "source": [
    "df1 = pd.DataFrame([['a', 1], ['b', 2]],columns=['entropy', 'number'])\n",
    "print(df1)"
   ]
  },
  {
   "cell_type": "code",
   "execution_count": 10,
   "metadata": {},
   "outputs": [
    {
     "name": "stdout",
     "output_type": "stream",
     "text": [
      "   acc entropy  number\n",
      "0  NaN       a     1.0\n",
      "1  NaN       b     2.0\n",
      "0  4.0       1     NaN\n",
      "1  5.0       2     NaN\n",
      "2  6.0       3     NaN\n"
     ]
    },
    {
     "name": "stderr",
     "output_type": "stream",
     "text": [
      "C:\\Users\\GriffithInnovate\\Anaconda3\\envs\\py36\\lib\\site-packages\\ipykernel_launcher.py:5: FutureWarning: Sorting because non-concatenation axis is not aligned. A future version\n",
      "of pandas will change to not sort by default.\n",
      "\n",
      "To accept the future behavior, pass 'sort=False'.\n",
      "\n",
      "To retain the current behavior and silence the warning, pass 'sort=True'.\n",
      "\n",
      "  \"\"\"\n"
     ]
    }
   ],
   "source": [
    "\n",
    "entropy= [1,2,3]\n",
    "acc = [4,5,6]\n",
    "e = pd.DataFrame({\"entropy\":entropy,\"acc\":acc})\n",
    "df1 = pd.concat([df1,e])\n",
    "print(df1)"
   ]
  },
  {
   "cell_type": "code",
   "execution_count": 37,
   "metadata": {},
   "outputs": [],
   "source": [
    "import numpy as np\n",
    "import pandas as pd\n",
    "import math\n",
    "from matplotlib.ticker import FormatStrFormatter\n",
    "import matplotlib.pyplot as plt\n",
    "plt.style.use('seaborn-whitegrid')\n",
    "\n",
    "def kneeTest(pred, labels, entropy, num_outputs, classes, output_names=[]):\n",
    "    #get series of entropy values, series of \n",
    "#     print(pred)\n",
    "    resultsDict = {}\n",
    "    results = np.equal(pred, labels)\n",
    "    pred = np.array(pred)\n",
    "    labels = np.array(labels)\n",
    "    entropy = np.array(entropy)\n",
    "    classCount = {}\n",
    "#     results = pred\n",
    "    labelClasses=classes\n",
    "    transpose_results = np.transpose(results) #truths\n",
    "    transpose_preds = np.transpose(pred) #per exit rather then per input\n",
    "    transpose_entropy = np.transpose(entropy) #per exit rather then per input\n",
    "    transpose_labels = np.transpose(labels)\n",
    "    # %matplotlib inline\n",
    "    import matplotlib.pyplot as plt\n",
    "    plt.style.use('seaborn-whitegrid')\n",
    "    fig = plt.figure()\n",
    "    series=[]\n",
    "    fig, axs = plt.subplots(2, 2)\n",
    "    fig.tight_layout()\n",
    "    df =  pd.DataFrame() \n",
    "#     print(transpose_entropy)\n",
    "#     for branch in branches:\n",
    "#          for class in classes:\n",
    "#                 for entropy in entropies:\n",
    "#                     classAccuracy = sum of truth labels /count of truth labels where entropies <= entropy \n",
    "    returnData = []\n",
    "    for i, branchEntropy in enumerate(transpose_entropy):\n",
    "        print(\"branch {}\".format(i))\n",
    "        classEntropy = {}\n",
    "        for j, labelClass in enumerate(labelClasses):\n",
    "            classEntropy[labelClass] = []\n",
    "#             print(\"class {}\".format(labelClass),end=\"\\r\")\n",
    "            for k, entropy in enumerate(branchEntropy):\n",
    "                # if there are no entries for a label class, this would produce an accuracy of NaN, so instead skip. \n",
    "#                 print(\"sum is: {} len is: {}, combined is: {}\".format(transpose_results[i][np.where((branchEntropy <= entropy) & (transpose_labels[i] == labelClass))].sum(), len(transpose_labels[i][np.where((transpose_labels[i] == labelClass))]),transpose_results[i][np.where((branchEntropy <= entropy) & (transpose_labels[i] == labelClass))].sum()/len(transpose_labels[i][np.where((transpose_labels[i] == labelClass))])))\n",
    "                if len(transpose_preds[i][np.where((transpose_preds[i] == labelClass))])==0 :\n",
    "#                     print(\"skip!\")\n",
    "                    continue\n",
    "                seriesEntropy = {}\n",
    "                seriesEntropy[\"entropy\"] = entropy\n",
    "                seriesEntropy[\"pred\"] = transpose_preds[i][np.where((branchEntropy <= entropy) & (transpose_preds[i] == labelClass))] # select all where labelClass is PREDICTED\n",
    "                seriesEntropy[\"labels\"] = transpose_labels[i][np.where((branchEntropy <= entropy) & (transpose_preds[i] == labelClass))] # select all where labelClass is PREDICTED\n",
    "                seriesEntropy[\"accuracy\"] = transpose_results[i][np.where((branchEntropy <= entropy) & (transpose_labels[i] == labelClass))].sum()/len(transpose_labels[i][np.where((transpose_labels[i] == labelClass))])\n",
    "                classEntropy[labelClass].append(seriesEntropy)\n",
    "            df = pd.DataFrame(classEntropy[labelClass],columns=[\"entropy\",\"pred\",\"labels\",\"accuracy\"])\n",
    "            df = df.sort_values(by=[\"entropy\"])\n",
    "#             print(df)\n",
    "            axs[round(int(i/2)), round(i%2)].plot(df[\"entropy\"],df[\"accuracy\"], label=\"Class: {}\".format(labelClass),alpha=0.8)        \n",
    "            axs[round(int(i/2)), round(i%2)].set_ylim([0, 1])\n",
    "\n",
    "        if len(output_names) >= i:\n",
    "            axs[round(int(i/2)), round(i%2)].title.set_text(\"branch: {}\".format(output_names[i]))\n",
    "        else:\n",
    "            axs[round(int(i/2)), round(i%2)].title.set_text(\"branch: {}\".format(i))\n",
    "            \n",
    "        returnData.append(classEntropy)\n",
    "    lines = []\n",
    "    labels = []\n",
    "    for ax in fig.axes:\n",
    "        ax.yaxis.set_major_formatter(FormatStrFormatter('%.2f'))\n",
    "        axLine, axLabel = ax.get_legend_handles_labels()\n",
    "        lines=(axLine)\n",
    "        labels=(axLabel)\n",
    "        \n",
    "    fig.legend(lines, labels,bbox_to_anchor=(1., 1), loc=2,borderaxespad=0.,frameon=True)\n",
    "\n",
    "#     print(output)\n",
    "    \n",
    "#     print(df)\n",
    "#     df.to_csv(\"graph_output.csv\")\n",
    "    return returnData"
   ]
  },
  {
   "cell_type": "code",
   "execution_count": 38,
   "metadata": {},
   "outputs": [
    {
     "name": "stdout",
     "output_type": "stream",
     "text": [
      "branch 0\n",
      "branch 1\n"
     ]
    },
    {
     "name": "stderr",
     "output_type": "stream",
     "text": [
      "C:\\Users\\GriffithInnovate\\Anaconda3\\envs\\py36\\lib\\site-packages\\ipykernel_launcher.py:53: RuntimeWarning: invalid value encountered in long_scalars\n"
     ]
    },
    {
     "name": "stdout",
     "output_type": "stream",
     "text": [
      "branch 2\n",
      "branch 3\n"
     ]
    },
    {
     "data": {
      "text/plain": [
       "<Figure size 432x288 with 0 Axes>"
      ]
     },
     "metadata": {},
     "output_type": "display_data"
    },
    {
     "data": {
      "image/png": "[encoded data removed]",
      "text/plain": [
       "<Figure size 432x288 with 4 Axes>"
      ]
     },
     "metadata": {},
     "output_type": "display_data"
    }
   ],
   "source": [
    "# pred = [[0],[3],[3],[3]]\n",
    "# # pred = [[3, 3, 3, 3], [8, 8, 8, 8], [1, 1, 8, 1], [0, 8, 8, 1], [6, 6, 6, 6]]\n",
    "# entropy = [[0.02117890713197057], [1.7145111565508644], [1.123504928401738], [0.02854453329516289]]\n",
    "# # entropy = [[0.02117890713197057, 1.7145111565508644, 1.123504928401738, 0.02854453329516289], [0.2051342868918917, 0.12891920859567874, 0.06274062780065608, 0.02574753698232482], [0.9602549250481593, 0.6424450601952321, 1.148021184171209, 1.1666995927769988], [0.005653360056361332, 1.391790668156026, 0.33770517085116436, 1.6566820996289247], [0.04327244093902029, 0.9537953160858115, 0.834290747567063, 0.010300220967992246]]\n",
    "# # labels = [[3, 3, 3, 3], [8, 8, 8, 8], [8, 8, 8, 8], [0, 0, 0, 0], [6, 6, 6, 6]]\n",
    "# labels = [[0],[1],[2],[3]]\n",
    "import csv\n",
    "\n",
    "with open('results/labels.csv', newline='') as f:\n",
    "    reader = csv.reader(f,quoting=csv.QUOTE_NONNUMERIC)\n",
    "    pred = list(reader)\n",
    "with open('results/predClasses.csv', newline='') as f:\n",
    "    reader = csv.reader(f,quoting=csv.QUOTE_NONNUMERIC)\n",
    "    labels = list(reader)\n",
    "with open('results/predEntropy.csv', newline='') as f:\n",
    "    reader = csv.reader(f,quoting=csv.QUOTE_NONNUMERIC)\n",
    "    entropy = list(reader)\n",
    "\n",
    "y = kneeTest(pred, labels, entropy, 4,[0,1,2,3,4,5,6,7,8,9], [\"dense5\",\"pooling_3\",\"pooling_4\",\"dense_3\"])\n",
    "# print(y)"
   ]
  },
  {
   "cell_type": "code",
   "execution_count": 36,
   "metadata": {},
   "outputs": [
    {
     "name": "stderr",
     "output_type": "stream",
     "text": [
      "C:\\Users\\GriffithInnovate\\Anaconda3\\envs\\py36\\lib\\site-packages\\ipykernel_launcher.py:53: RuntimeWarning: invalid value encountered in long_scalars\n"
     ]
    },
    {
     "data": {
      "text/plain": [
       "<Figure size 432x288 with 0 Axes>"
      ]
     },
     "metadata": {},
     "output_type": "display_data"
    },
    {
     "data": {
      "image/png": "[encoded data removed]",
      "text/plain": [
       "<Figure size 432x288 with 4 Axes>"
      ]
     },
     "metadata": {},
     "output_type": "display_data"
    }
   ],
   "source": [
    "import csv\n",
    "\n",
    "with open('results/labels_full.csv', newline='') as f:\n",
    "    reader = csv.reader(f,quoting=csv.QUOTE_NONNUMERIC)\n",
    "    pred = list(reader)\n",
    "with open('results/predClasses_full.csv', newline='') as f:\n",
    "    reader = csv.reader(f,quoting=csv.QUOTE_NONNUMERIC)\n",
    "    labels = list(reader)\n",
    "with open('results/predEntropy_full.csv', newline='') as f:\n",
    "    reader = csv.reader(f,quoting=csv.QUOTE_NONNUMERIC)\n",
    "    entropy = list(reader)\n",
    "\n",
    "y = kneeTest(pred, labels, entropy, 4,[0,1,2,3,4,5,6,7,8,9], [\"dense5\",\"pooling_3\",\"pooling_4\",\"dense_3\"])\n",
    "# print(y)"
   ]
  },
  {
   "cell_type": "code",
   "execution_count": 76,
   "metadata": {},
   "outputs": [
    {
     "name": "stdout",
     "output_type": "stream",
     "text": [
      "<class 'list'>\n",
      "----------\n",
      "(1002, 80)\n",
      "branch0_class0_accuracy: 1  0.7238095238095238, at pos: 22, entropy 1.760966220831253\n",
      "branch0_class1_accuracy: 3  0.7722772277227723, at pos: 89, entropy 2.499151710046589\n",
      "branch0_class2_accuracy: 5  0.7380952380952381, at pos: 64, entropy 1.8302547025691573\n",
      "branch0_class3_accuracy: 7  3.0000000000000013, at pos: 0, entropy 0.0\n",
      "branch0_class4_accuracy: 9  0.7195121951219512, at pos: 89, entropy 2.499151710046589\n",
      "branch0_class5_accuracy: 11  0.6585365853658537, at pos: 89, entropy 2.499151710046589\n",
      "branch0_class6_accuracy: 13  0.8090909090909091, at pos: 64, entropy 1.8302547025691573\n",
      "branch0_class7_accuracy: 15  0.7678571428571429, at pos: 89, entropy 2.499151710046589\n",
      "branch0_class8_accuracy: 17  0.8240740740740741, at pos: 22, entropy 1.760966220831253\n",
      "branch0_class9_accuracy: 19  0.8125, at pos: 22, entropy 1.0181964195902864\n",
      "branch1_class0_accuracy: 21  9e-323, at pos: 0, entropy 1.0\n",
      "branch1_class1_accuracy: 23  0.6938775510204082, at pos: 2, entropy 1.7145111565508644\n",
      "branch1_class2_accuracy: 25  2.0, at pos: 0, entropy 0.0\n",
      "branch1_class3_accuracy: 27  1.0, at pos: 0, entropy 1.5e-323\n",
      "branch1_class4_accuracy: 29  0.4536082474226804, at pos: 37, entropy 2.6465912371068185\n",
      "branch1_class5_accuracy: 31  0.4132231404958678, at pos: 37, entropy 2.6465912371068185\n",
      "branch1_class6_accuracy: 33  1.0, at pos: 0, entropy 2.1219957915e-314\n",
      "branch1_class7_accuracy: 35  0.6147540983606558, at pos: 19, entropy 2.3629293043907613\n",
      "branch1_class8_accuracy: 37  1.0000009536743162, at pos: 0, entropy 1.0\n",
      "branch1_class9_accuracy: 39  0.5421686746987951, at pos: 7, entropy 0.9706537293296104\n",
      "branch2_class0_accuracy: 41  1.0000000000000078, at pos: 0, entropy 6.44300026591e-312\n",
      "branch2_class1_accuracy: 43  0.8524590163934426, at pos: 185, entropy 2.8919600402481347\n",
      "branch2_class2_accuracy: 45  1.0, at pos: 0, entropy 2.0\n",
      "branch2_class3_accuracy: 47  312.950657571673, at pos: 0, entropy 2.1219957915e-314\n",
      "branch2_class4_accuracy: 49  1.0, at pos: 0, entropy 443.8256595109558\n",
      "branch2_class5_accuracy: 51  0.4, at pos: 22, entropy 2.3909962285779014\n",
      "branch2_class6_accuracy: 53  0.6901408450704225, at pos: 22, entropy 2.3909962285779014\n",
      "branch2_class7_accuracy: 55  0.7130434782608696, at pos: 22, entropy 2.3909962285779014\n",
      "branch2_class8_accuracy: 57  0.5517241379310345, at pos: 1, entropy 2.0\n",
      "branch2_class9_accuracy: 59  0.6616541353383458, at pos: 72, entropy 0.050495130055713745\n",
      "branch3_class0_accuracy: 61  0.0, at pos: 0, entropy nan\n",
      "branch3_class1_accuracy: 63  2.0, at pos: 0, entropy 0.0\n",
      "branch3_class2_accuracy: 65  0.5454545454545454, at pos: 1, entropy 3.0\n",
      "branch3_class3_accuracy: 67  0.5964912280701754, at pos: 1, entropy 3.0\n",
      "branch3_class4_accuracy: 69  2.0000000000000275, at pos: 0, entropy nan\n",
      "branch3_class5_accuracy: 71  0.6551724137931034, at pos: 1, entropy 3.0\n",
      "branch3_class6_accuracy: 73  0.7758620689655172, at pos: 1, entropy 3.0\n",
      "branch3_class7_accuracy: 75  0.7264957264957265, at pos: 1, entropy 3.0\n",
      "branch3_class8_accuracy: 77  3.0, at pos: 0, entropy 6.45086720491e-312\n",
      "branch3_class9_accuracy: 79 "
     ]
    },
    {
     "ename": "IndexError",
     "evalue": "single positional indexer is out-of-bounds",
     "output_type": "error",
     "traceback": [
      "\u001b[1;31m---------------------------------------------------------------------------\u001b[0m",
      "\u001b[1;31mIndexError\u001b[0m                                Traceback (most recent call last)",
      "\u001b[1;32m<ipython-input-76-569d990a204c>\u001b[0m in \u001b[0;36m<module>\u001b[1;34m\u001b[0m\n\u001b[0;32m     21\u001b[0m \u001b[1;31m#         print(\"{} max accuracy: {} at entropy {}\".format(df[column],df[column].max(), df.iloc[df[columns[df.columns.get_loc(column)+1]]].max()))\u001b[0m\u001b[1;33m\u001b[0m\u001b[1;33m\u001b[0m\u001b[1;33m\u001b[0m\u001b[0m\n\u001b[0;32m     22\u001b[0m         \u001b[0mprint\u001b[0m\u001b[1;33m(\u001b[0m\u001b[1;34m\"{}: {} \"\u001b[0m\u001b[1;33m.\u001b[0m\u001b[0mformat\u001b[0m\u001b[1;33m(\u001b[0m\u001b[0mcolumn\u001b[0m\u001b[1;33m,\u001b[0m \u001b[0mdf\u001b[0m\u001b[1;33m.\u001b[0m\u001b[0mcolumns\u001b[0m\u001b[1;33m.\u001b[0m\u001b[0mget_loc\u001b[0m\u001b[1;33m(\u001b[0m\u001b[0mcolumn\u001b[0m\u001b[1;33m)\u001b[0m \u001b[1;33m)\u001b[0m\u001b[1;33m,\u001b[0m \u001b[0mend\u001b[0m\u001b[1;33m=\u001b[0m\u001b[1;34m\"\"\u001b[0m\u001b[1;33m)\u001b[0m\u001b[1;33m\u001b[0m\u001b[1;33m\u001b[0m\u001b[0m\n\u001b[1;32m---> 23\u001b[1;33m         \u001b[0mprint\u001b[0m\u001b[1;33m(\u001b[0m\u001b[1;34m\" {}, at pos: {}, entropy {}\"\u001b[0m\u001b[1;33m.\u001b[0m\u001b[0mformat\u001b[0m\u001b[1;33m(\u001b[0m\u001b[0mdf\u001b[0m\u001b[1;33m.\u001b[0m\u001b[0miloc\u001b[0m\u001b[1;33m[\u001b[0m\u001b[1;33m:\u001b[0m\u001b[1;33m,\u001b[0m\u001b[0mdf\u001b[0m\u001b[1;33m.\u001b[0m\u001b[0mcolumns\u001b[0m\u001b[1;33m.\u001b[0m\u001b[0mget_loc\u001b[0m\u001b[1;33m(\u001b[0m\u001b[0mcolumn\u001b[0m\u001b[1;33m)\u001b[0m\u001b[1;33m]\u001b[0m\u001b[1;33m.\u001b[0m\u001b[0mmax\u001b[0m\u001b[1;33m(\u001b[0m\u001b[1;33m)\u001b[0m\u001b[1;33m,\u001b[0m\u001b[0mdf\u001b[0m\u001b[1;33m.\u001b[0m\u001b[0miloc\u001b[0m\u001b[1;33m[\u001b[0m\u001b[1;33m:\u001b[0m\u001b[1;33m,\u001b[0m\u001b[0mdf\u001b[0m\u001b[1;33m.\u001b[0m\u001b[0mcolumns\u001b[0m\u001b[1;33m.\u001b[0m\u001b[0mget_loc\u001b[0m\u001b[1;33m(\u001b[0m\u001b[0mcolumn\u001b[0m\u001b[1;33m)\u001b[0m\u001b[1;33m]\u001b[0m\u001b[1;33m.\u001b[0m\u001b[0midxmax\u001b[0m\u001b[1;33m(\u001b[0m\u001b[1;33m)\u001b[0m\u001b[1;33m,\u001b[0m\u001b[0mdf\u001b[0m\u001b[1;33m.\u001b[0m\u001b[0miloc\u001b[0m\u001b[1;33m[\u001b[0m\u001b[1;33m:\u001b[0m\u001b[1;33m,\u001b[0m\u001b[0mdf\u001b[0m\u001b[1;33m.\u001b[0m\u001b[0mcolumns\u001b[0m\u001b[1;33m.\u001b[0m\u001b[0mget_loc\u001b[0m\u001b[1;33m(\u001b[0m\u001b[0mcolumn\u001b[0m\u001b[1;33m)\u001b[0m\u001b[1;33m+\u001b[0m\u001b[1;36m1\u001b[0m\u001b[1;33m]\u001b[0m\u001b[1;33m[\u001b[0m\u001b[0mdf\u001b[0m\u001b[1;33m.\u001b[0m\u001b[0miloc\u001b[0m\u001b[1;33m[\u001b[0m\u001b[1;33m:\u001b[0m\u001b[1;33m,\u001b[0m\u001b[0mdf\u001b[0m\u001b[1;33m.\u001b[0m\u001b[0mcolumns\u001b[0m\u001b[1;33m.\u001b[0m\u001b[0mget_loc\u001b[0m\u001b[1;33m(\u001b[0m\u001b[0mcolumn\u001b[0m\u001b[1;33m)\u001b[0m\u001b[1;33m]\u001b[0m\u001b[1;33m.\u001b[0m\u001b[0midxmax\u001b[0m\u001b[1;33m(\u001b[0m\u001b[1;33m)\u001b[0m\u001b[1;33m]\u001b[0m\u001b[1;33m)\u001b[0m\u001b[1;33m)\u001b[0m\u001b[1;33m\u001b[0m\u001b[1;33m\u001b[0m\u001b[0m\n\u001b[0m\u001b[0;32m     24\u001b[0m \u001b[1;31m# print(pd.DataFrame(y))\u001b[0m\u001b[1;33m\u001b[0m\u001b[1;33m\u001b[0m\u001b[1;33m\u001b[0m\u001b[0m\n",
      "\u001b[1;32m~\\Anaconda3\\envs\\py36\\lib\\site-packages\\pandas\\core\\indexing.py\u001b[0m in \u001b[0;36m__getitem__\u001b[1;34m(self, key)\u001b[0m\n\u001b[0;32m   1492\u001b[0m             \u001b[1;32mexcept\u001b[0m \u001b[1;33m(\u001b[0m\u001b[0mKeyError\u001b[0m\u001b[1;33m,\u001b[0m \u001b[0mIndexError\u001b[0m\u001b[1;33m,\u001b[0m \u001b[0mAttributeError\u001b[0m\u001b[1;33m)\u001b[0m\u001b[1;33m:\u001b[0m\u001b[1;33m\u001b[0m\u001b[1;33m\u001b[0m\u001b[0m\n\u001b[0;32m   1493\u001b[0m                 \u001b[1;32mpass\u001b[0m\u001b[1;33m\u001b[0m\u001b[1;33m\u001b[0m\u001b[0m\n\u001b[1;32m-> 1494\u001b[1;33m             \u001b[1;32mreturn\u001b[0m \u001b[0mself\u001b[0m\u001b[1;33m.\u001b[0m\u001b[0m_getitem_tuple\u001b[0m\u001b[1;33m(\u001b[0m\u001b[0mkey\u001b[0m\u001b[1;33m)\u001b[0m\u001b[1;33m\u001b[0m\u001b[1;33m\u001b[0m\u001b[0m\n\u001b[0m\u001b[0;32m   1495\u001b[0m         \u001b[1;32melse\u001b[0m\u001b[1;33m:\u001b[0m\u001b[1;33m\u001b[0m\u001b[1;33m\u001b[0m\u001b[0m\n\u001b[0;32m   1496\u001b[0m             \u001b[1;31m# we by definition only have the 0th axis\u001b[0m\u001b[1;33m\u001b[0m\u001b[1;33m\u001b[0m\u001b[1;33m\u001b[0m\u001b[0m\n",
      "\u001b[1;32m~\\Anaconda3\\envs\\py36\\lib\\site-packages\\pandas\\core\\indexing.py\u001b[0m in \u001b[0;36m_getitem_tuple\u001b[1;34m(self, tup)\u001b[0m\n\u001b[0;32m   2141\u001b[0m     \u001b[1;32mdef\u001b[0m \u001b[0m_getitem_tuple\u001b[0m\u001b[1;33m(\u001b[0m\u001b[0mself\u001b[0m\u001b[1;33m,\u001b[0m \u001b[0mtup\u001b[0m\u001b[1;33m)\u001b[0m\u001b[1;33m:\u001b[0m\u001b[1;33m\u001b[0m\u001b[1;33m\u001b[0m\u001b[0m\n\u001b[0;32m   2142\u001b[0m \u001b[1;33m\u001b[0m\u001b[0m\n\u001b[1;32m-> 2143\u001b[1;33m         \u001b[0mself\u001b[0m\u001b[1;33m.\u001b[0m\u001b[0m_has_valid_tuple\u001b[0m\u001b[1;33m(\u001b[0m\u001b[0mtup\u001b[0m\u001b[1;33m)\u001b[0m\u001b[1;33m\u001b[0m\u001b[1;33m\u001b[0m\u001b[0m\n\u001b[0m\u001b[0;32m   2144\u001b[0m         \u001b[1;32mtry\u001b[0m\u001b[1;33m:\u001b[0m\u001b[1;33m\u001b[0m\u001b[1;33m\u001b[0m\u001b[0m\n\u001b[0;32m   2145\u001b[0m             \u001b[1;32mreturn\u001b[0m \u001b[0mself\u001b[0m\u001b[1;33m.\u001b[0m\u001b[0m_getitem_lowerdim\u001b[0m\u001b[1;33m(\u001b[0m\u001b[0mtup\u001b[0m\u001b[1;33m)\u001b[0m\u001b[1;33m\u001b[0m\u001b[1;33m\u001b[0m\u001b[0m\n",
      "\u001b[1;32m~\\Anaconda3\\envs\\py36\\lib\\site-packages\\pandas\\core\\indexing.py\u001b[0m in \u001b[0;36m_has_valid_tuple\u001b[1;34m(self, key)\u001b[0m\n\u001b[0;32m    221\u001b[0m                 \u001b[1;32mraise\u001b[0m \u001b[0mIndexingError\u001b[0m\u001b[1;33m(\u001b[0m\u001b[1;34m'Too many indexers'\u001b[0m\u001b[1;33m)\u001b[0m\u001b[1;33m\u001b[0m\u001b[1;33m\u001b[0m\u001b[0m\n\u001b[0;32m    222\u001b[0m             \u001b[1;32mtry\u001b[0m\u001b[1;33m:\u001b[0m\u001b[1;33m\u001b[0m\u001b[1;33m\u001b[0m\u001b[0m\n\u001b[1;32m--> 223\u001b[1;33m                 \u001b[0mself\u001b[0m\u001b[1;33m.\u001b[0m\u001b[0m_validate_key\u001b[0m\u001b[1;33m(\u001b[0m\u001b[0mk\u001b[0m\u001b[1;33m,\u001b[0m \u001b[0mi\u001b[0m\u001b[1;33m)\u001b[0m\u001b[1;33m\u001b[0m\u001b[1;33m\u001b[0m\u001b[0m\n\u001b[0m\u001b[0;32m    224\u001b[0m             \u001b[1;32mexcept\u001b[0m \u001b[0mValueError\u001b[0m\u001b[1;33m:\u001b[0m\u001b[1;33m\u001b[0m\u001b[1;33m\u001b[0m\u001b[0m\n\u001b[0;32m    225\u001b[0m                 raise ValueError(\"Location based indexing can only have \"\n",
      "\u001b[1;32m~\\Anaconda3\\envs\\py36\\lib\\site-packages\\pandas\\core\\indexing.py\u001b[0m in \u001b[0;36m_validate_key\u001b[1;34m(self, key, axis)\u001b[0m\n\u001b[0;32m   2068\u001b[0m             \u001b[1;32mreturn\u001b[0m\u001b[1;33m\u001b[0m\u001b[1;33m\u001b[0m\u001b[0m\n\u001b[0;32m   2069\u001b[0m         \u001b[1;32melif\u001b[0m \u001b[0mis_integer\u001b[0m\u001b[1;33m(\u001b[0m\u001b[0mkey\u001b[0m\u001b[1;33m)\u001b[0m\u001b[1;33m:\u001b[0m\u001b[1;33m\u001b[0m\u001b[1;33m\u001b[0m\u001b[0m\n\u001b[1;32m-> 2070\u001b[1;33m             \u001b[0mself\u001b[0m\u001b[1;33m.\u001b[0m\u001b[0m_validate_integer\u001b[0m\u001b[1;33m(\u001b[0m\u001b[0mkey\u001b[0m\u001b[1;33m,\u001b[0m \u001b[0maxis\u001b[0m\u001b[1;33m)\u001b[0m\u001b[1;33m\u001b[0m\u001b[1;33m\u001b[0m\u001b[0m\n\u001b[0m\u001b[0;32m   2071\u001b[0m         \u001b[1;32melif\u001b[0m \u001b[0misinstance\u001b[0m\u001b[1;33m(\u001b[0m\u001b[0mkey\u001b[0m\u001b[1;33m,\u001b[0m \u001b[0mtuple\u001b[0m\u001b[1;33m)\u001b[0m\u001b[1;33m:\u001b[0m\u001b[1;33m\u001b[0m\u001b[1;33m\u001b[0m\u001b[0m\n\u001b[0;32m   2072\u001b[0m             \u001b[1;31m# a tuple should already have been caught by this point\u001b[0m\u001b[1;33m\u001b[0m\u001b[1;33m\u001b[0m\u001b[1;33m\u001b[0m\u001b[0m\n",
      "\u001b[1;32m~\\Anaconda3\\envs\\py36\\lib\\site-packages\\pandas\\core\\indexing.py\u001b[0m in \u001b[0;36m_validate_integer\u001b[1;34m(self, key, axis)\u001b[0m\n\u001b[0;32m   2137\u001b[0m         \u001b[0mlen_axis\u001b[0m \u001b[1;33m=\u001b[0m \u001b[0mlen\u001b[0m\u001b[1;33m(\u001b[0m\u001b[0mself\u001b[0m\u001b[1;33m.\u001b[0m\u001b[0mobj\u001b[0m\u001b[1;33m.\u001b[0m\u001b[0m_get_axis\u001b[0m\u001b[1;33m(\u001b[0m\u001b[0maxis\u001b[0m\u001b[1;33m)\u001b[0m\u001b[1;33m)\u001b[0m\u001b[1;33m\u001b[0m\u001b[1;33m\u001b[0m\u001b[0m\n\u001b[0;32m   2138\u001b[0m         \u001b[1;32mif\u001b[0m \u001b[0mkey\u001b[0m \u001b[1;33m>=\u001b[0m \u001b[0mlen_axis\u001b[0m \u001b[1;32mor\u001b[0m \u001b[0mkey\u001b[0m \u001b[1;33m<\u001b[0m \u001b[1;33m-\u001b[0m\u001b[0mlen_axis\u001b[0m\u001b[1;33m:\u001b[0m\u001b[1;33m\u001b[0m\u001b[1;33m\u001b[0m\u001b[0m\n\u001b[1;32m-> 2139\u001b[1;33m             \u001b[1;32mraise\u001b[0m \u001b[0mIndexError\u001b[0m\u001b[1;33m(\u001b[0m\u001b[1;34m\"single positional indexer is out-of-bounds\"\u001b[0m\u001b[1;33m)\u001b[0m\u001b[1;33m\u001b[0m\u001b[1;33m\u001b[0m\u001b[0m\n\u001b[0m\u001b[0;32m   2140\u001b[0m \u001b[1;33m\u001b[0m\u001b[0m\n\u001b[0;32m   2141\u001b[0m     \u001b[1;32mdef\u001b[0m \u001b[0m_getitem_tuple\u001b[0m\u001b[1;33m(\u001b[0m\u001b[0mself\u001b[0m\u001b[1;33m,\u001b[0m \u001b[0mtup\u001b[0m\u001b[1;33m)\u001b[0m\u001b[1;33m:\u001b[0m\u001b[1;33m\u001b[0m\u001b[1;33m\u001b[0m\u001b[0m\n",
      "\u001b[1;31mIndexError\u001b[0m: single positional indexer is out-of-bounds"
     ]
    }
   ],
   "source": [
    "print(type(y))\n",
    "df = pd.DataFrame()\n",
    "for i, branch in enumerate(y):\n",
    "        branchOutput = []\n",
    "        for j, classList in branch.items():\n",
    "            entropy =np.empty([])\n",
    "            acc =np.empty([])\n",
    "            for k in classList:\n",
    "                entropy = np.append(entropy,k[\"entropy\"])\n",
    "                acc = np.append(acc, k[\"accuracy\"])\n",
    "#                 print(k[\"accuracy\"])\n",
    "            df[\"branch{}_class{}_entropy\".format(i,j)] = entropy\n",
    "            df[\"branch{}_class{}_accuracy\".format(i,j)] = acc.astype(float)\n",
    "\n",
    "            \n",
    "print(\"----------\")\n",
    "\n",
    "print(df.shape)\n",
    "for column in df.columns:\n",
    "    if \"accuracy\" in column:\n",
    "#         print(\"{} max accuracy: {} at entropy {}\".format(df[column],df[column].max(), df.iloc[df[columns[df.columns.get_loc(column)+1]]].max()))\n",
    "        print(\"{}: {} \".format(column, df.columns.get_loc(column) ), end=\"\")\n",
    "        print(\" {}, at pos: {}, entropy {}\".format(df.iloc[:,df.columns.get_loc(column)].max(),df.iloc[:,df.columns.get_loc(column)].idxmax(),df.iloc[:,df.columns.get_loc(column)+1][df.iloc[:,df.columns.get_loc(column)].idxmax()]))\n",
    "# print(pd.DataFrame(y))"
   ]
  },
  {
   "cell_type": "code",
   "execution_count": null,
   "metadata": {},
   "outputs": [],
   "source": []
  },
  {
   "cell_type": "code",
   "execution_count": null,
   "metadata": {},
   "outputs": [],
   "source": []
  }
 ],
 "metadata": {
  "kernelspec": {
   "display_name": "Python 3",
   "language": "python",
   "name": "python3"
  },
  "language_info": {
   "codemirror_mode": {
    "name": "ipython",
    "version": 3
   },
   "file_extension": ".py",
   "mimetype": "text/x-python",
   "name": "python",
   "nbconvert_exporter": "python",
   "pygments_lexer": "ipython3",
   "version": "3.6.7"
  }
 },
 "nbformat": 4,
 "nbformat_minor": 2
}
