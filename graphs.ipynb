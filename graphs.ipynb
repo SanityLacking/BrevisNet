{
 "cells": [
  {
   "cell_type": "code",
   "execution_count": 2,
   "metadata": {},
   "outputs": [],
   "source": [
    "import numpy as np\n"
   ]
  },
  {
   "cell_type": "code",
   "execution_count": 3,
   "metadata": {},
   "outputs": [],
   "source": [
    "def sigmoid(z):\n",
    "    return 1/(1 + np.exp(-z))\n"
   ]
  },
  {
   "cell_type": "code",
   "execution_count": 4,
   "metadata": {},
   "outputs": [
    {
     "data": {
      "text/plain": [
       "[[-4.535223,\n",
       "  -1.5143484,\n",
       "  3.982851,\n",
       "  2.1995668,\n",
       "  -5.4335203,\n",
       "  -5.476383,\n",
       "  -8.685219,\n",
       "  12.729579,\n",
       "  -4.2230687,\n",
       "  0.6178443]]"
      ]
     },
     "execution_count": 4,
     "metadata": {},
     "output_type": "execute_result"
    }
   ],
   "source": [
    " x = [[-4.535223 , -1.5143484,  3.982851 ,  2.1995668, -5.4335203,\n",
    "        -5.476383 , -8.685219 , 12.729579 , -4.2230687,  0.6178443]]\n",
    "x"
   ]
  },
  {
   "cell_type": "code",
   "execution_count": 5,
   "metadata": {},
   "outputs": [
    {
     "data": {
      "text/plain": [
       "array([[1.06107206e-02, 1.80295254e-01, 9.81708375e-01, 9.00210603e-01,\n",
       "        4.34869933e-03, 4.16700091e-03, 1.69037825e-04, 9.99997038e-01,\n",
       "        1.44419808e-02, 6.49728110e-01]])"
      ]
     },
     "execution_count": 5,
     "metadata": {},
     "output_type": "execute_result"
    }
   ],
   "source": [
    "z = sigmoid(np.asarray(x))\n",
    "z"
   ]
  },
  {
   "cell_type": "code",
   "execution_count": 6,
   "metadata": {},
   "outputs": [
    {
     "data": {
      "text/plain": [
       "0.8591885096678078"
      ]
     },
     "execution_count": 6,
     "metadata": {},
     "output_type": "execute_result"
    }
   ],
   "source": [
    "result = (-1) * np.sum(z * np.log(z))\n",
    "result"
   ]
  },
  {
   "cell_type": "code",
   "execution_count": 7,
   "metadata": {},
   "outputs": [
    {
     "name": "stdout",
     "output_type": "stream",
     "text": [
      "Requirement already satisfied: sklearn in c:\\users\\griffithinnovate\\anaconda3\\envs\\py36torch\\lib\\site-packages (0.0)\n",
      "Requirement already satisfied: scikit-learn in c:\\users\\griffithinnovate\\anaconda3\\envs\\py36torch\\lib\\site-packages (from sklearn) (0.24.0)\n",
      "Requirement already satisfied: threadpoolctl>=2.0.0 in c:\\users\\griffithinnovate\\anaconda3\\envs\\py36torch\\lib\\site-packages (from scikit-learn->sklearn) (2.1.0)\n",
      "Requirement already satisfied: numpy>=1.13.3 in c:\\users\\griffithinnovate\\anaconda3\\envs\\py36torch\\lib\\site-packages (from scikit-learn->sklearn) (1.19.2)\n",
      "Requirement already satisfied: scipy>=0.19.1 in c:\\users\\griffithinnovate\\anaconda3\\envs\\py36torch\\lib\\site-packages (from scikit-learn->sklearn) (1.5.4)\n",
      "Requirement already satisfied: joblib>=0.11 in c:\\users\\griffithinnovate\\anaconda3\\envs\\py36torch\\lib\\site-packages (from scikit-learn->sklearn) (1.0.0)\n",
      "Requirement already satisfied: numpy>=1.13.3 in c:\\users\\griffithinnovate\\anaconda3\\envs\\py36torch\\lib\\site-packages (from scikit-learn->sklearn) (1.19.2)\n"
     ]
    }
   ],
   "source": [
    "!pip install sklearn"
   ]
  },
  {
   "cell_type": "code",
   "execution_count": 8,
   "metadata": {},
   "outputs": [
    {
     "data": {
      "image/png": "[encoded data removed]",
      "text/plain": [
       "<Figure size 432x288 with 2 Axes>"
      ]
     },
     "metadata": {
      "needs_background": "light"
     },
     "output_type": "display_data"
    }
   ],
   "source": [
    "import sklearn\n",
    "import matplotlib.pyplot as plt  \n",
    "from sklearn.datasets import make_classification\n",
    "from sklearn.metrics import plot_confusion_matrix\n",
    "from sklearn.model_selection import train_test_split\n",
    "from sklearn.svm import SVC\n",
    "X, y = make_classification(random_state=0)\n",
    "X_train, X_test, y_train, y_test = train_test_split(     X, y, random_state=0)\n",
    "clf = SVC(random_state=0)\n",
    "clf.fit(X_train, y_train)\n",
    "SVC(random_state=0)\n",
    "plot_confusion_matrix(clf, X_test, y_test)  \n",
    "plt.show() "
   ]
  },
  {
   "cell_type": "code",
   "execution_count": 9,
   "metadata": {},
   "outputs": [
    {
     "name": "stdout",
     "output_type": "stream",
     "text": [
      "[[ True  True]\n",
      " [ True  True]\n",
      " [False False]\n",
      " [ True False]\n",
      " [ True  True]]\n"
     ]
    }
   ],
   "source": [
    "import numpy as np\n",
    "import matplotlib.pyplot as plt\n",
    "pred = np.array([[3, 3], [8, 8], [1, 1], [0, 1], [6, 6]])\n",
    "labels = np.array([[3, 3], [8, 8], [8, 8], [0, 0], [6, 6]])\n",
    "# print ( np.matmul(pred,labels))\n",
    "\n",
    "results = pred == labels\n",
    "# res = pred * results\n",
    "\n",
    "\n",
    "labelClasses = [0,1,2,3,4,5,6,7,8,9]\n",
    "numOutput = 2\n",
    "print(results)\n",
    "# print(res)\n",
    "\n",
    "    "
   ]
  },
  {
   "cell_type": "code",
   "execution_count": 10,
   "metadata": {},
   "outputs": [],
   "source": [
    "import pandas as pd\n",
    "\n",
    "\n",
    "pred = [[3, 3], [8, 8], [1, 1], [0, 1], [6, 6]]\n",
    "labels = [[3, 3], [8, 8], [8, 8], [0, 0], [6, 6]]\n",
    "\n",
    "pred = np.array(pred)\n",
    "labels = np.array(labels)\n",
    "\n",
    "\n",
    "def throughputMatrix(pred, labels, num_outputs, classes, output_names=[]):\n",
    "    \"\"\" generate a dictionary of lists comparing the correctly labeled predictions against the outputs for each class.        \n",
    "    \"\"\"    \n",
    "    resultsDict = {}\n",
    "    results = []\n",
    "    #get truth matrix of the predictions/labels\n",
    "    pred = np.array(pred)\n",
    "    labels = np.array(labels)\n",
    "\n",
    "    classCount = {}\n",
    "    # print((pred))\n",
    "    # print((labels))\n",
    "    results = np.equal(pred, labels)\n",
    "    # print(results)\n",
    "    labelClasses=classes\n",
    "    \n",
    "    # print(\"----\")\n",
    "    ### initialize the dictionary\n",
    "    for i, labelClass in enumerate(labelClasses):    \n",
    "        resultsDict[labelClass] ={}\n",
    "        for j in range(num_outputs):\n",
    "            resultsDict[labelClass][j] = 0\n",
    "#         resultsDict[labelClass] = [0]*num_outputs\n",
    "        classCount[labelClass] = 0\n",
    "#     print(resultsDict)\n",
    "    ###loop through results \n",
    "    for i, item in enumerate(results):\n",
    "        for j, branch in enumerate(item):\n",
    "#             print(\"{},{}\".format(i, j))\n",
    "            if branch == True: \n",
    "                resultsDict[labels[i][j]][j] += 1\n",
    "        classCount[labels[i][0]] += 1\n",
    "    # print(classCount)\n",
    "    resultsDict = pd.DataFrame.from_dict(resultsDict,orient=\"index\")\n",
    "    renameDict={}\n",
    "    for i, name in enumerate(output_names):\n",
    "        renameDict[i] = name\n",
    "    if len(renameDict) > 0:\n",
    "        resultsDict.rename(renameDict)\n",
    "    resultsDict[\"itemCount\"] = pd.Series(classCount)\n",
    "\n",
    "    # print(resultsDict)\n",
    "    return resultsDict\n"
   ]
  },
  {
   "cell_type": "code",
   "execution_count": 11,
   "metadata": {},
   "outputs": [
    {
     "name": "stdout",
     "output_type": "stream",
     "text": [
      "Index([0, 1, 'itemCount'], dtype='object')\n"
     ]
    },
    {
     "data": {
      "text/html": [
       "<div>\n",
       "<style scoped>\n",
       "    .dataframe tbody tr th:only-of-type {\n",
       "        vertical-align: middle;\n",
       "    }\n",
       "\n",
       "    .dataframe tbody tr th {\n",
       "        vertical-align: top;\n",
       "    }\n",
       "\n",
       "    .dataframe thead th {\n",
       "        text-align: right;\n",
       "    }\n",
       "</style>\n",
       "<table border=\"1\" class=\"dataframe\">\n",
       "  <thead>\n",
       "    <tr style=\"text-align: right;\">\n",
       "      <th></th>\n",
       "      <th>0</th>\n",
       "      <th>1</th>\n",
       "      <th>2</th>\n",
       "      <th>3</th>\n",
       "      <th>4</th>\n",
       "      <th>5</th>\n",
       "      <th>6</th>\n",
       "      <th>7</th>\n",
       "      <th>8</th>\n",
       "      <th>9</th>\n",
       "    </tr>\n",
       "  </thead>\n",
       "  <tbody>\n",
       "    <tr>\n",
       "      <th>0</th>\n",
       "      <td>1</td>\n",
       "      <td>0</td>\n",
       "      <td>0</td>\n",
       "      <td>1</td>\n",
       "      <td>0</td>\n",
       "      <td>0</td>\n",
       "      <td>1</td>\n",
       "      <td>0</td>\n",
       "      <td>1</td>\n",
       "      <td>0</td>\n",
       "    </tr>\n",
       "    <tr>\n",
       "      <th>1</th>\n",
       "      <td>0</td>\n",
       "      <td>0</td>\n",
       "      <td>0</td>\n",
       "      <td>1</td>\n",
       "      <td>0</td>\n",
       "      <td>0</td>\n",
       "      <td>1</td>\n",
       "      <td>0</td>\n",
       "      <td>1</td>\n",
       "      <td>0</td>\n",
       "    </tr>\n",
       "    <tr>\n",
       "      <th>itemCount</th>\n",
       "      <td>1</td>\n",
       "      <td>0</td>\n",
       "      <td>0</td>\n",
       "      <td>1</td>\n",
       "      <td>0</td>\n",
       "      <td>0</td>\n",
       "      <td>1</td>\n",
       "      <td>0</td>\n",
       "      <td>2</td>\n",
       "      <td>0</td>\n",
       "    </tr>\n",
       "  </tbody>\n",
       "</table>\n",
       "</div>"
      ],
      "text/plain": [
       "           0  1  2  3  4  5  6  7  8  9\n",
       "0          1  0  0  1  0  0  1  0  1  0\n",
       "1          0  0  0  1  0  0  1  0  1  0\n",
       "itemCount  1  0  0  1  0  0  1  0  2  0"
      ]
     },
     "execution_count": 11,
     "metadata": {},
     "output_type": "execute_result"
    }
   ],
   "source": [
    "results = throughputMatrix(pred,labels,2,[0,1,2,3,4,5,6,7,8,9])\n",
    "print(results.keys())\n",
    "pd.DataFrame(results).T"
   ]
  },
  {
   "cell_type": "code",
   "execution_count": null,
   "metadata": {},
   "outputs": [],
   "source": []
  },
  {
   "cell_type": "code",
   "execution_count": 12,
   "metadata": {},
   "outputs": [],
   "source": [
    "##### entropy matrix\n"
   ]
  },
  {
   "cell_type": "code",
   "execution_count": 95,
   "metadata": {},
   "outputs": [],
   "source": [
    "def entropyMatrix(entropy, labels, num_outputs, classes, output_names=[]):\n",
    "    \"\"\" generate a matrix of entropy values for all classes and outputs\n",
    "        entropy: list of all predicted labels\n",
    "        labels: list of all actual labels. must match pred in size and shape\n",
    "        classes: list of all classes, for example [0,1,2,3]\n",
    "        output_names: list of names for each of the outputs. applies names to outputs in the same order as pred and labels.\n",
    "\n",
    "    \"\"\"    \n",
    "    # print(entropy)\n",
    "    # print(labels)\n",
    "    resultsDict = {}\n",
    "    results = np.array(entropy)\n",
    "    labels = np.array(labels)\n",
    "    classCount = {}\n",
    "    labelClasses=classes\n",
    "    \n",
    "    ### initialize the dictionary\n",
    "    for i, labelClass in enumerate(labelClasses):    \n",
    "        resultsDict[labelClass] ={}\n",
    "        for j in range(num_outputs):\n",
    "            resultsDict[labelClass][j] = []\n",
    "#         resultsDict[labelClass] = [0]*num_outputs\n",
    "        classCount[labelClass] = 0\n",
    "#     print(resultsDict)\n",
    "    ###loop through results \n",
    "    for i, item in enumerate(results):\n",
    "        for j, branch in enumerate(item):\n",
    "#             print(\"{},{}\".format(i, j))\n",
    "#             if branch == True: \n",
    "            resultsDict[labels[i][j]][j].append(branch)\n",
    "        classCount[labels[i][0]] += 1\n",
    "    # print(classCount)\n",
    "    \n",
    "    resultsDict = pd.DataFrame.from_dict(resultsDict,orient=\"index\")\n",
    "    for column in resultsDict:\n",
    "        resultsDict[column] = [np.array(x).mean() for x in resultsDict[column].values]\n",
    "    renameDict={}\n",
    "    for i, name in enumerate(output_names):\n",
    "        renameDict[i] = name\n",
    "    print(\"rename:{}\".format(renameDict))\n",
    "    if len(renameDict) > 0:\n",
    "        print(\"rename!\")\n",
    "        resultsDict = resultsDict.rename(renameDict,axis =\"columns\")\n",
    "    resultsDict[\"itemCount\"] = pd.Series(classCount)\n",
    "    return resultsDict"
   ]
  },
  {
   "cell_type": "code",
   "execution_count": 96,
   "metadata": {},
   "outputs": [
    {
     "name": "stdout",
     "output_type": "stream",
     "text": [
      "[[0.02117890713197057, 1.7145111565508644, 1.123504928401738, 0.02854453329516289], [0.2051342868918917, 0.12891920859567874, 0.06274062780065608, 0.02574753698232482], [0.9602549250481593, 0.6424450601952321, 1.148021184171209, 1.1666995927769988], [0.005653360056361332, 1.391790668156026, 0.33770517085116436, 1.6566820996289247], [0.04327244093902029, 0.9537953160858115, 0.834290747567063, 0.010300220967992246]]\n",
      "[[3, 3, 3, 3], [8, 8, 8, 8], [8, 8, 8, 8], [0, 0, 0, 0], [6, 6, 6, 6]]\n",
      "rename:{}\n",
      "          0         1         2         3  itemCount\n",
      "0  0.005653  1.391791  0.337705  1.656682          4\n",
      "1       NaN       NaN       NaN       NaN          0\n",
      "2       NaN       NaN       NaN       NaN          0\n",
      "3  0.021179  1.714511  1.123505  0.028545          4\n",
      "4       NaN       NaN       NaN       NaN          0\n",
      "5       NaN       NaN       NaN       NaN          0\n",
      "6  0.043272  0.953795  0.834291  0.010300          4\n",
      "7       NaN       NaN       NaN       NaN          0\n",
      "8  0.582695  0.385682  0.605381  0.596224          8\n",
      "9       NaN       NaN       NaN       NaN          0\n"
     ]
    },
    {
     "name": "stderr",
     "output_type": "stream",
     "text": [
      "C:\\Users\\GriffithInnovate\\Anaconda3\\envs\\py36torch\\lib\\site-packages\\ipykernel_launcher.py:48: RuntimeWarning: Mean of empty slice.\n",
      "C:\\Users\\GriffithInnovate\\Anaconda3\\envs\\py36torch\\lib\\site-packages\\numpy\\core\\_methods.py:170: RuntimeWarning: invalid value encountered in double_scalars\n",
      "  ret = ret.dtype.type(ret / rcount)\n"
     ]
    }
   ],
   "source": [
    "entropy = [[0.02117890713197057, 1.7145111565508644, 1.123504928401738, 0.02854453329516289], [0.2051342868918917, 0.12891920859567874, 0.06274062780065608, 0.02574753698232482], [0.9602549250481593, 0.6424450601952321, 1.148021184171209, 1.1666995927769988], [0.005653360056361332, 1.391790668156026, 0.33770517085116436, 1.6566820996289247], [0.04327244093902029, 0.9537953160858115, 0.834290747567063, 0.010300220967992246]]\n",
    "labels = [[3, 3, 3, 3], [8, 8, 8, 8], [8, 8, 8, 8], [0, 0, 0, 0], [6, 6, 6, 6]]\n",
    "\n",
    "y = entropyMatrix(entropy, labels, 4,[0,1,2,3,4,5,6,7,8,9])\n",
    "print(y)\n"
   ]
  },
  {
   "cell_type": "code",
   "execution_count": 125,
   "metadata": {},
   "outputs": [],
   "source": [
    "\n",
    "\n",
    "def entropyConfusionMatrix(pred, labels, entropy, num_outputs, classes, output_names=[]):\n",
    "    \"\"\" generate a matrix of entropy values for all classes and outputs\n",
    "        pred: list of all predicted labels\n",
    "        labels: list of all actual labels. must match pred in size and shape\n",
    "        classes: list of all classes, for example [0,1,2,3]\n",
    "        output_names: list of names for each of the outputs. applies names to outputs in the same order as pred and labels.\n",
    "\n",
    "    \"\"\"    \n",
    "#     print(pred)\n",
    "#     print(labels)\n",
    "    resultsDict = {}\n",
    "    results = []\n",
    "    pred = np.array(pred)\n",
    "    labels = np.array(labels)\n",
    "    entropy = np.array(entropy)\n",
    "    classCount = {}\n",
    "    results = pred\n",
    "    labelClasses=classes\n",
    "    from sklearn.metrics import confusion_matrix\n",
    "    ### initialize the dictionary\n",
    "    for i, labelClass in enumerate(labelClasses):    \n",
    "        resultsDict[labelClass] ={}\n",
    "        for j in range(num_outputs):\n",
    "            resultsDict[labelClass][j] = []\n",
    "#         resultsDict[labelClass] = [0]*num_outputs\n",
    "        classCount[labelClass] = 0\n",
    "#     print(resultsDict)\n",
    "    ###loop through results \n",
    "    transpose_preds = np.transpose(results) #per exit rather then per input\n",
    "    transpose_labels = np.transpose(labels)\n",
    "    for i, item in enumerate(transpose_preds):\n",
    "        print(\"exit:{}\".format(i))\n",
    "        df_confusion = pd.crosstab(item, transpose_labels[i], rownames=['Actual'], colnames=['Predicted'], margins=True)\n",
    "        print(df_confusion)\n",
    "#         print(confusion_matrix(item,transpose_labels[i]))\n",
    "        \n",
    "    \n",
    "    print(np.transpose(results))\n",
    "#         for j, branch in enumerate(item):\n",
    "#             print(\"{},{}\".format(i, j))\n",
    "#             if branch == True: \n",
    "#             resultsDict[labels[i][j]][j].append(branch)\n",
    "#         classCount[labels[i][0]] += 1\n",
    "    # print(classCount)\n",
    "#     print(resultsDict)\n",
    "    \n",
    "#     resultsDict = pd.DataFrame.from_dict(resultsDict,orient=\"index\")\n",
    "# #     print(resultsDict)\n",
    "#     for column in resultsDict:\n",
    "# #         print(df[column])\n",
    "#         resultsDict[column] = [np.array(x).mean() for x in resultsDict[column].values]\n",
    "# #     resultsDict = resultsDict.mean(axis=0)\n",
    "#     renameDict={}\n",
    "#     for i, name in enumerate(output_names):\n",
    "#         renameDict[i] = name\n",
    "#     print(\"rename:{}\".format(renameDict))\n",
    "#     if len(renameDict) > 0:\n",
    "#         print(\"rename!\")\n",
    "#         resultsDict = resultsDict.rename(renameDict,axis =\"columns\")\n",
    "#     resultsDict[\"itemCount\"] = pd.Series(classCount)\n",
    "#     return resultsDict\n",
    "    return"
   ]
  },
  {
   "cell_type": "code",
   "execution_count": 126,
   "metadata": {},
   "outputs": [
    {
     "name": "stdout",
     "output_type": "stream",
     "text": [
      "exit:0\n",
      "Predicted  0  3  6  8  All\n",
      "Actual                    \n",
      "0          1  0  0  0    1\n",
      "1          0  0  0  1    1\n",
      "3          0  1  0  0    1\n",
      "6          0  0  1  0    1\n",
      "8          0  0  0  1    1\n",
      "All        1  1  1  2    5\n",
      "exit:1\n",
      "Predicted  0  3  6  8  All\n",
      "Actual                    \n",
      "1          0  0  0  1    1\n",
      "3          0  1  0  0    1\n",
      "6          0  0  1  0    1\n",
      "8          1  0  0  1    2\n",
      "All        1  1  1  2    5\n",
      "exit:2\n",
      "Predicted  0  3  6  8  All\n",
      "Actual                    \n",
      "3          0  1  0  0    1\n",
      "6          0  0  1  0    1\n",
      "8          1  0  0  2    3\n",
      "All        1  1  1  2    5\n",
      "exit:3\n",
      "Predicted  0  3  6  8  All\n",
      "Actual                    \n",
      "1          1  0  0  1    2\n",
      "3          0  1  0  0    1\n",
      "6          0  0  1  0    1\n",
      "8          0  0  0  1    1\n",
      "All        1  1  1  2    5\n",
      "[[3 8 1 0 6]\n",
      " [3 8 1 8 6]\n",
      " [3 8 8 8 6]\n",
      " [3 8 1 1 6]]\n",
      "None\n"
     ]
    }
   ],
   "source": [
    "pred = [[3, 3, 3, 3], [8, 8, 8, 8], [1, 1, 8, 1], [0, 8, 8, 1], [6, 6, 6, 6]]\n",
    "entropy = [[0.02117890713197057, 1.7145111565508644, 1.123504928401738, 0.02854453329516289], [0.2051342868918917, 0.12891920859567874, 0.06274062780065608, 0.02574753698232482], [0.9602549250481593, 0.6424450601952321, 1.148021184171209, 1.1666995927769988], [0.005653360056361332, 1.391790668156026, 0.33770517085116436, 1.6566820996289247], [0.04327244093902029, 0.9537953160858115, 0.834290747567063, 0.010300220967992246]]\n",
    "labels = [[3, 3, 3, 3], [8, 8, 8, 8], [8, 8, 8, 8], [0, 0, 0, 0], [6, 6, 6, 6]]\n",
    "y = entropyConfusionMatrix(pred, labels, entropy, 4,[0,1,2,3,4,5,6,7,8,9])\n",
    "print(y)"
   ]
  },
  {
   "cell_type": "code",
   "execution_count": 334,
   "metadata": {},
   "outputs": [],
   "source": [
    "def KneeGraph(pred, labels, entropy, num_outputs, classes, output_names=[]):\n",
    "    \"\"\" generate a matrix of entropy values for outputs\n",
    "        pred: list of all predicted labels\n",
    "        labels: list of all actual labels. must match pred in size and shape\n",
    "        classes: list of all classes, for example [0,1,2,3]\n",
    "        output_names: list of names for each of the outputs. applies names to outputs in the same order as pred and labels.\n",
    "\n",
    "    \"\"\"    \n",
    "    #graph the accuracy rate vs the entropy threshold.\n",
    "    #get series of entropy values, series of \n",
    "    resultsDict = {}\n",
    "    results = np.equal(pred, labels)\n",
    "    pred = np.array(pred)\n",
    "    labels = np.array(labels)\n",
    "    entropy = np.array(entropy)\n",
    "    classCount = {}\n",
    "#     results = pred\n",
    "    labelClasses=classes\n",
    "    transpose_results = np.transpose(results)\n",
    "    transpose_preds = np.transpose(pred) #per exit rather then per input\n",
    "    transpose_entropy = np.transpose(entropy) #per exit rather then per input\n",
    "    transpose_labels = np.transpose(labels)\n",
    "#     print(transpose_results)\n",
    "#     print(transpose_preds)\n",
    "#     print(transpose_entropy)\n",
    "#     print(transpose_labels)\n",
    "    # %matplotlib inline\n",
    "    import matplotlib.pyplot as plt\n",
    "    plt.style.use('seaborn-whitegrid')\n",
    "    fig = plt.figure()\n",
    "    # ax = plt.axes()\n",
    "    series=[]\n",
    "    fig, axs = plt.subplots(2, 2)\n",
    "    fig.tight_layout()\n",
    "    df =  pd.DataFrame() \n",
    "#     plt.subplots(2, 2, sharex='all', sharey='all')\n",
    "    for i, branch in enumerate(transpose_entropy):\n",
    "        series_branch=[]\n",
    "        \n",
    "        for j, ent in enumerate(branch):\n",
    "            series_entropy = {}\n",
    "            series_entropy[\"entropy\"] = ent\n",
    "#             print(\"entropy: {}\".format(ent))\n",
    "#             print(np.where(branch <= ent))\n",
    "            series_entropy[\"pred\"] = transpose_preds[i][np.where(branch <= ent)]\n",
    "#             print(series_entropy[\"pred\"] )\n",
    "            series_entropy[\"labels\"] = transpose_labels[i][np.where(branch <= ent)]\n",
    "#             print(series_entropy[\"labels\"] )\n",
    "            series_entropy[\"truth\"] = transpose_results[i][np.where(branch <= ent)]\n",
    "#             print(series_entropy[\"truth\"] )\n",
    "            series_entropy[\"accuracy\"] = transpose_results[i][np.where(branch <= ent)].sum()/len(transpose_results[i])\n",
    "#             print(series_entropy[\"accuracy\"])\n",
    "            series_branch.append(series_entropy)\n",
    "        df = pd.DataFrame(series_branch)\n",
    "        df = df.sort_values(by=[\"entropy\"])\n",
    "        axs[round(int(i/2)), round(i%2)].plot(df[\"entropy\"],df[\"accuracy\"])\n",
    "#         axs[round(int(i/2)), round(i%2)].set_xlim([0,2])\n",
    "        axs[round(int(i/2)), round(i%2)].set_ylim([0,1])\n",
    "        if len(output_names) >= i:\n",
    "            axs[round(int(i/2)), round(i%2)].title.set_text(\"branch: {}\".format(output_names[i]))\n",
    "        else:\n",
    "            axs[round(int(i/2)), round(i%2)].title.set_text(\"branch: {}\".format(i))\n",
    "        series.append(series_branch)\n",
    "    plt.show()\n",
    "    return series"
   ]
  },
  {
   "cell_type": "code",
   "execution_count": 335,
   "metadata": {},
   "outputs": [
    {
     "data": {
      "text/plain": [
       "<Figure size 432x288 with 0 Axes>"
      ]
     },
     "metadata": {},
     "output_type": "display_data"
    },
    {
     "data": {
      "image/png": "[encoded data removed]",
      "text/plain": [
       "<Figure size 432x288 with 4 Axes>"
      ]
     },
     "metadata": {},
     "output_type": "display_data"
    }
   ],
   "source": [
    "pred = [[3, 3, 3, 3], [8, 8, 8, 8], [1, 1, 8, 1], [0, 8, 8, 1], [6, 6, 6, 6]]\n",
    "entropy = [[0.02117890713197057, 1.7145111565508644, 1.123504928401738, 0.02854453329516289], [0.2051342868918917, 0.12891920859567874, 0.06274062780065608, 0.02574753698232482], [0.9602549250481593, 0.6424450601952321, 1.148021184171209, 1.1666995927769988], [0.005653360056361332, 1.391790668156026, 0.33770517085116436, 1.6566820996289247], [0.04327244093902029, 0.9537953160858115, 0.834290747567063, 0.010300220967992246]]\n",
    "labels = [[3, 3, 3, 3], [8, 8, 8, 8], [8, 8, 8, 8], [0, 0, 0, 0], [6, 6, 6, 6]]\n",
    "y = KneeGraph(pred, labels, entropy, 4,[0,1,2,3,4,5,6,7,8,9], [\"dense5\",\"pooling_3\",\"pooling_4\",\"dense_3\"])\n",
    "# print(y)"
   ]
  },
  {
   "cell_type": "code",
   "execution_count": 386,
   "metadata": {},
   "outputs": [],
   "source": [
    "def KneeGraphClasses(pred, labels, entropy, num_outputs, classes, output_names=[]):\n",
    "    \"\"\" generate a matrix of entropy values for all classes and outputs\n",
    "        pred: list of all predicted labels\n",
    "        labels: list of all actual labels. must match pred in size and shape\n",
    "        classes: list of all classes, for example [0,1,2,3]\n",
    "        output_names: list of names for each of the outputs. applies names to outputs in the same order as pred and labels.\n",
    "\n",
    "    \"\"\"    \n",
    "    #graph the accuracy rate vs the entropy threshold.\n",
    "    #get series of entropy values, series of \n",
    "    resultsDict = {}\n",
    "    results = np.equal(pred, labels)\n",
    "    pred = np.array(pred)\n",
    "    labels = np.array(labels)\n",
    "    entropy = np.array(entropy)\n",
    "    classCount = {}\n",
    "#     results = pred\n",
    "    labelClasses=classes\n",
    "    transpose_results = np.transpose(results)\n",
    "    transpose_preds = np.transpose(pred) #per exit rather then per input\n",
    "    transpose_entropy = np.transpose(entropy) #per exit rather then per input\n",
    "    transpose_labels = np.transpose(labels)\n",
    "#     print(transpose_results)\n",
    "#     print(transpose_preds)\n",
    "#     print(transpose_entropy)\n",
    "#     print(transpose_labels)\n",
    "    # %matplotlib inline\n",
    "    import matplotlib.pyplot as plt\n",
    "    plt.style.use('seaborn-whitegrid')\n",
    "    fig = plt.figure()\n",
    "    # ax = plt.axes()\n",
    "    series=[]\n",
    "    fig, axs = plt.subplots(2, 2)\n",
    "    fig.tight_layout()\n",
    "    df =  pd.DataFrame() \n",
    "#     plt.subplots(2, 2, sharex='all', sharey='all')\n",
    "    for i, branch in enumerate(transpose_entropy):\n",
    "        series_branch=[]\n",
    "        \n",
    "        for j, ent in enumerate(branch):\n",
    "            series_entropy = {}\n",
    "            series_entropy[\"entropy\"] = ent\n",
    "#             print(\"entropy: {}\".format(ent))\n",
    "#             print(np.where(branch <= ent))\n",
    "            series_entropy[\"pred\"] = transpose_preds[i][np.where(branch <= ent)]\n",
    "#             print(series_entropy[\"pred\"] )\n",
    "            series_entropy[\"labels\"] = transpose_labels[i][np.where(branch <= ent)]\n",
    "#             print(series_entropy[\"labels\"] )\n",
    "            series_entropy[\"truth\"] = transpose_results[i][np.where(branch <= ent)]\n",
    "            \n",
    "            #grab all for entropy threshold\n",
    "            #then remove all that are not labeled specific class\n",
    "            series_entropy[\"classes\"]={}\n",
    "            \n",
    "            for k, lClass in enumerate(labelClasses):\n",
    "                series_entropy[\"classes\"][lClass] = {}\n",
    "                series_entropy[\"classes\"][lClass][\"results\"]={}\n",
    "                series_entropy[\"classes\"][lClass][\"results_truth\"]={}\n",
    "                series_entropy[\"classes\"][lClass][\"results_accuracy\"]={}\n",
    "                \n",
    "#                 print(series_entropy[\"pred\"][np.where(series_entropy[\"labels\"] == lClass)])\n",
    "#                 print(series_entropy[\"truth\"][np.where(series_entropy[\"labels\"] == lClass)])\n",
    "                series_entropy[\"classes\"][lClass][\"results\"]= series_entropy[\"pred\"][np.where(series_entropy[\"labels\"] == lClass)]\n",
    "                series_entropy[\"classes\"][lClass][\"results_truth\"] = series_entropy[\"truth\"][np.where(series_entropy[\"labels\"] == lClass)]\n",
    "                series_entropy[\"classes\"][lClass][\"results_accuracy\"] = series_entropy[\"truth\"][np.where(series_entropy[\"labels\"] == lClass)].sum()/len(series_entropy[\"truth\"][np.where(series_entropy[\"labels\"] == lClass)])\n",
    "                print(series_entropy[\"classes\"])\n",
    "    \n",
    "    \n",
    "#             print(series_entropy[\"truth\"] )\n",
    "            series_entropy[\"accuracy\"] = transpose_results[i][np.where(branch <= ent)].sum()/len(transpose_results[i])\n",
    "#             print(series_entropy[\"accuracy\"])\n",
    "            series_branch.append(series_entropy)\n",
    "        df = pd.DataFrame(series_branch)\n",
    "        df = df.sort_values(by=[\"entropy\"])\n",
    "        \n",
    "#         print()\n",
    "        for j, classData in enumerate(series_entropy[\"classes\"]):\n",
    "            print(classData[\"results\"])\n",
    "#                 axs[round(int(i/2)), round(i%2)].plot(classData[\"entropy\",df[\"accuracy\"])\n",
    "        axs[round(int(i/2)), round(i%2)].plot(df[\"entropy\"],df[\"accuracy\"])\n",
    "#         axs[round(int(i/2)), round(i%2)].set_xlim([0,2])\n",
    "        axs[round(int(i/2)), round(i%2)].set_ylim([0,1])\n",
    "        if len(output_names) >= i:\n",
    "            axs[round(int(i/2)), round(i%2)].title.set_text(\"branch: {}\".format(output_names[i]))\n",
    "        else:\n",
    "            axs[round(int(i/2)), round(i%2)].title.set_text(\"branch: {}\".format(i))\n",
    "        series.append(series_branch)\n",
    "#     print(series)\n",
    "    plt.show()\n",
    "    return series"
   ]
  },
  {
   "cell_type": "code",
   "execution_count": 387,
   "metadata": {},
   "outputs": [
    {
     "name": "stdout",
     "output_type": "stream",
     "text": [
      "{0: {'results': array([0]), 'results_truth': array([ True]), 'results_accuracy': 1.0}}\n",
      "{0: {'results': array([0]), 'results_truth': array([ True]), 'results_accuracy': 1.0}, 1: {'results': array([], dtype=int32), 'results_truth': array([], dtype=bool), 'results_accuracy': nan}}\n",
      "{0: {'results': array([0]), 'results_truth': array([ True]), 'results_accuracy': 1.0}, 1: {'results': array([], dtype=int32), 'results_truth': array([], dtype=bool), 'results_accuracy': nan}, 2: {'results': array([], dtype=int32), 'results_truth': array([], dtype=bool), 'results_accuracy': nan}}\n",
      "{0: {'results': array([0]), 'results_truth': array([ True]), 'results_accuracy': 1.0}, 1: {'results': array([], dtype=int32), 'results_truth': array([], dtype=bool), 'results_accuracy': nan}, 2: {'results': array([], dtype=int32), 'results_truth': array([], dtype=bool), 'results_accuracy': nan}, 3: {'results': array([3]), 'results_truth': array([ True]), 'results_accuracy': 1.0}}\n",
      "{0: {'results': array([0]), 'results_truth': array([ True]), 'results_accuracy': 1.0}, 1: {'results': array([], dtype=int32), 'results_truth': array([], dtype=bool), 'results_accuracy': nan}, 2: {'results': array([], dtype=int32), 'results_truth': array([], dtype=bool), 'results_accuracy': nan}, 3: {'results': array([3]), 'results_truth': array([ True]), 'results_accuracy': 1.0}, 4: {'results': array([], dtype=int32), 'results_truth': array([], dtype=bool), 'results_accuracy': nan}}\n",
      "{0: {'results': array([0]), 'results_truth': array([ True]), 'results_accuracy': 1.0}, 1: {'results': array([], dtype=int32), 'results_truth': array([], dtype=bool), 'results_accuracy': nan}, 2: {'results': array([], dtype=int32), 'results_truth': array([], dtype=bool), 'results_accuracy': nan}, 3: {'results': array([3]), 'results_truth': array([ True]), 'results_accuracy': 1.0}, 4: {'results': array([], dtype=int32), 'results_truth': array([], dtype=bool), 'results_accuracy': nan}, 5: {'results': array([], dtype=int32), 'results_truth': array([], dtype=bool), 'results_accuracy': nan}}\n",
      "{0: {'results': array([0]), 'results_truth': array([ True]), 'results_accuracy': 1.0}, 1: {'results': array([], dtype=int32), 'results_truth': array([], dtype=bool), 'results_accuracy': nan}, 2: {'results': array([], dtype=int32), 'results_truth': array([], dtype=bool), 'results_accuracy': nan}, 3: {'results': array([3]), 'results_truth': array([ True]), 'results_accuracy': 1.0}, 4: {'results': array([], dtype=int32), 'results_truth': array([], dtype=bool), 'results_accuracy': nan}, 5: {'results': array([], dtype=int32), 'results_truth': array([], dtype=bool), 'results_accuracy': nan}, 6: {'results': array([], dtype=int32), 'results_truth': array([], dtype=bool), 'results_accuracy': nan}}\n",
      "{0: {'results': array([0]), 'results_truth': array([ True]), 'results_accuracy': 1.0}, 1: {'results': array([], dtype=int32), 'results_truth': array([], dtype=bool), 'results_accuracy': nan}, 2: {'results': array([], dtype=int32), 'results_truth': array([], dtype=bool), 'results_accuracy': nan}, 3: {'results': array([3]), 'results_truth': array([ True]), 'results_accuracy': 1.0}, 4: {'results': array([], dtype=int32), 'results_truth': array([], dtype=bool), 'results_accuracy': nan}, 5: {'results': array([], dtype=int32), 'results_truth': array([], dtype=bool), 'results_accuracy': nan}, 6: {'results': array([], dtype=int32), 'results_truth': array([], dtype=bool), 'results_accuracy': nan}, 7: {'results': array([], dtype=int32), 'results_truth': array([], dtype=bool), 'results_accuracy': nan}}\n",
      "{0: {'results': array([0]), 'results_truth': array([ True]), 'results_accuracy': 1.0}, 1: {'results': array([], dtype=int32), 'results_truth': array([], dtype=bool), 'results_accuracy': nan}, 2: {'results': array([], dtype=int32), 'results_truth': array([], dtype=bool), 'results_accuracy': nan}, 3: {'results': array([3]), 'results_truth': array([ True]), 'results_accuracy': 1.0}, 4: {'results': array([], dtype=int32), 'results_truth': array([], dtype=bool), 'results_accuracy': nan}, 5: {'results': array([], dtype=int32), 'results_truth': array([], dtype=bool), 'results_accuracy': nan}, 6: {'results': array([], dtype=int32), 'results_truth': array([], dtype=bool), 'results_accuracy': nan}, 7: {'results': array([], dtype=int32), 'results_truth': array([], dtype=bool), 'results_accuracy': nan}, 8: {'results': array([], dtype=int32), 'results_truth': array([], dtype=bool), 'results_accuracy': nan}}\n",
      "{0: {'results': array([0]), 'results_truth': array([ True]), 'results_accuracy': 1.0}, 1: {'results': array([], dtype=int32), 'results_truth': array([], dtype=bool), 'results_accuracy': nan}, 2: {'results': array([], dtype=int32), 'results_truth': array([], dtype=bool), 'results_accuracy': nan}, 3: {'results': array([3]), 'results_truth': array([ True]), 'results_accuracy': 1.0}, 4: {'results': array([], dtype=int32), 'results_truth': array([], dtype=bool), 'results_accuracy': nan}, 5: {'results': array([], dtype=int32), 'results_truth': array([], dtype=bool), 'results_accuracy': nan}, 6: {'results': array([], dtype=int32), 'results_truth': array([], dtype=bool), 'results_accuracy': nan}, 7: {'results': array([], dtype=int32), 'results_truth': array([], dtype=bool), 'results_accuracy': nan}, 8: {'results': array([], dtype=int32), 'results_truth': array([], dtype=bool), 'results_accuracy': nan}, 9: {'results': array([], dtype=int32), 'results_truth': array([], dtype=bool), 'results_accuracy': nan}}\n",
      "{0: {'results': array([0]), 'results_truth': array([ True]), 'results_accuracy': 1.0}}\n",
      "{0: {'results': array([0]), 'results_truth': array([ True]), 'results_accuracy': 1.0}, 1: {'results': array([], dtype=int32), 'results_truth': array([], dtype=bool), 'results_accuracy': nan}}\n",
      "{0: {'results': array([0]), 'results_truth': array([ True]), 'results_accuracy': 1.0}, 1: {'results': array([], dtype=int32), 'results_truth': array([], dtype=bool), 'results_accuracy': nan}, 2: {'results': array([], dtype=int32), 'results_truth': array([], dtype=bool), 'results_accuracy': nan}}\n",
      "{0: {'results': array([0]), 'results_truth': array([ True]), 'results_accuracy': 1.0}, 1: {'results': array([], dtype=int32), 'results_truth': array([], dtype=bool), 'results_accuracy': nan}, 2: {'results': array([], dtype=int32), 'results_truth': array([], dtype=bool), 'results_accuracy': nan}, 3: {'results': array([3]), 'results_truth': array([ True]), 'results_accuracy': 1.0}}\n",
      "{0: {'results': array([0]), 'results_truth': array([ True]), 'results_accuracy': 1.0}, 1: {'results': array([], dtype=int32), 'results_truth': array([], dtype=bool), 'results_accuracy': nan}, 2: {'results': array([], dtype=int32), 'results_truth': array([], dtype=bool), 'results_accuracy': nan}, 3: {'results': array([3]), 'results_truth': array([ True]), 'results_accuracy': 1.0}, 4: {'results': array([], dtype=int32), 'results_truth': array([], dtype=bool), 'results_accuracy': nan}}\n",
      "{0: {'results': array([0]), 'results_truth': array([ True]), 'results_accuracy': 1.0}, 1: {'results': array([], dtype=int32), 'results_truth': array([], dtype=bool), 'results_accuracy': nan}, 2: {'results': array([], dtype=int32), 'results_truth': array([], dtype=bool), 'results_accuracy': nan}, 3: {'results': array([3]), 'results_truth': array([ True]), 'results_accuracy': 1.0}, 4: {'results': array([], dtype=int32), 'results_truth': array([], dtype=bool), 'results_accuracy': nan}, 5: {'results': array([], dtype=int32), 'results_truth': array([], dtype=bool), 'results_accuracy': nan}}\n",
      "{0: {'results': array([0]), 'results_truth': array([ True]), 'results_accuracy': 1.0}, 1: {'results': array([], dtype=int32), 'results_truth': array([], dtype=bool), 'results_accuracy': nan}, 2: {'results': array([], dtype=int32), 'results_truth': array([], dtype=bool), 'results_accuracy': nan}, 3: {'results': array([3]), 'results_truth': array([ True]), 'results_accuracy': 1.0}, 4: {'results': array([], dtype=int32), 'results_truth': array([], dtype=bool), 'results_accuracy': nan}, 5: {'results': array([], dtype=int32), 'results_truth': array([], dtype=bool), 'results_accuracy': nan}, 6: {'results': array([6]), 'results_truth': array([ True]), 'results_accuracy': 1.0}}\n",
      "{0: {'results': array([0]), 'results_truth': array([ True]), 'results_accuracy': 1.0}, 1: {'results': array([], dtype=int32), 'results_truth': array([], dtype=bool), 'results_accuracy': nan}, 2: {'results': array([], dtype=int32), 'results_truth': array([], dtype=bool), 'results_accuracy': nan}, 3: {'results': array([3]), 'results_truth': array([ True]), 'results_accuracy': 1.0}, 4: {'results': array([], dtype=int32), 'results_truth': array([], dtype=bool), 'results_accuracy': nan}, 5: {'results': array([], dtype=int32), 'results_truth': array([], dtype=bool), 'results_accuracy': nan}, 6: {'results': array([6]), 'results_truth': array([ True]), 'results_accuracy': 1.0}, 7: {'results': array([], dtype=int32), 'results_truth': array([], dtype=bool), 'results_accuracy': nan}}\n",
      "{0: {'results': array([0]), 'results_truth': array([ True]), 'results_accuracy': 1.0}, 1: {'results': array([], dtype=int32), 'results_truth': array([], dtype=bool), 'results_accuracy': nan}, 2: {'results': array([], dtype=int32), 'results_truth': array([], dtype=bool), 'results_accuracy': nan}, 3: {'results': array([3]), 'results_truth': array([ True]), 'results_accuracy': 1.0}, 4: {'results': array([], dtype=int32), 'results_truth': array([], dtype=bool), 'results_accuracy': nan}, 5: {'results': array([], dtype=int32), 'results_truth': array([], dtype=bool), 'results_accuracy': nan}, 6: {'results': array([6]), 'results_truth': array([ True]), 'results_accuracy': 1.0}, 7: {'results': array([], dtype=int32), 'results_truth': array([], dtype=bool), 'results_accuracy': nan}, 8: {'results': array([8]), 'results_truth': array([ True]), 'results_accuracy': 1.0}}\n",
      "{0: {'results': array([0]), 'results_truth': array([ True]), 'results_accuracy': 1.0}, 1: {'results': array([], dtype=int32), 'results_truth': array([], dtype=bool), 'results_accuracy': nan}, 2: {'results': array([], dtype=int32), 'results_truth': array([], dtype=bool), 'results_accuracy': nan}, 3: {'results': array([3]), 'results_truth': array([ True]), 'results_accuracy': 1.0}, 4: {'results': array([], dtype=int32), 'results_truth': array([], dtype=bool), 'results_accuracy': nan}, 5: {'results': array([], dtype=int32), 'results_truth': array([], dtype=bool), 'results_accuracy': nan}, 6: {'results': array([6]), 'results_truth': array([ True]), 'results_accuracy': 1.0}, 7: {'results': array([], dtype=int32), 'results_truth': array([], dtype=bool), 'results_accuracy': nan}, 8: {'results': array([8]), 'results_truth': array([ True]), 'results_accuracy': 1.0}, 9: {'results': array([], dtype=int32), 'results_truth': array([], dtype=bool), 'results_accuracy': nan}}\n",
      "{0: {'results': array([0]), 'results_truth': array([ True]), 'results_accuracy': 1.0}}\n",
      "{0: {'results': array([0]), 'results_truth': array([ True]), 'results_accuracy': 1.0}, 1: {'results': array([], dtype=int32), 'results_truth': array([], dtype=bool), 'results_accuracy': nan}}\n",
      "{0: {'results': array([0]), 'results_truth': array([ True]), 'results_accuracy': 1.0}, 1: {'results': array([], dtype=int32), 'results_truth': array([], dtype=bool), 'results_accuracy': nan}, 2: {'results': array([], dtype=int32), 'results_truth': array([], dtype=bool), 'results_accuracy': nan}}\n",
      "{0: {'results': array([0]), 'results_truth': array([ True]), 'results_accuracy': 1.0}, 1: {'results': array([], dtype=int32), 'results_truth': array([], dtype=bool), 'results_accuracy': nan}, 2: {'results': array([], dtype=int32), 'results_truth': array([], dtype=bool), 'results_accuracy': nan}, 3: {'results': array([3]), 'results_truth': array([ True]), 'results_accuracy': 1.0}}\n",
      "{0: {'results': array([0]), 'results_truth': array([ True]), 'results_accuracy': 1.0}, 1: {'results': array([], dtype=int32), 'results_truth': array([], dtype=bool), 'results_accuracy': nan}, 2: {'results': array([], dtype=int32), 'results_truth': array([], dtype=bool), 'results_accuracy': nan}, 3: {'results': array([3]), 'results_truth': array([ True]), 'results_accuracy': 1.0}, 4: {'results': array([], dtype=int32), 'results_truth': array([], dtype=bool), 'results_accuracy': nan}}\n",
      "{0: {'results': array([0]), 'results_truth': array([ True]), 'results_accuracy': 1.0}, 1: {'results': array([], dtype=int32), 'results_truth': array([], dtype=bool), 'results_accuracy': nan}, 2: {'results': array([], dtype=int32), 'results_truth': array([], dtype=bool), 'results_accuracy': nan}, 3: {'results': array([3]), 'results_truth': array([ True]), 'results_accuracy': 1.0}, 4: {'results': array([], dtype=int32), 'results_truth': array([], dtype=bool), 'results_accuracy': nan}, 5: {'results': array([], dtype=int32), 'results_truth': array([], dtype=bool), 'results_accuracy': nan}}\n",
      "{0: {'results': array([0]), 'results_truth': array([ True]), 'results_accuracy': 1.0}, 1: {'results': array([], dtype=int32), 'results_truth': array([], dtype=bool), 'results_accuracy': nan}, 2: {'results': array([], dtype=int32), 'results_truth': array([], dtype=bool), 'results_accuracy': nan}, 3: {'results': array([3]), 'results_truth': array([ True]), 'results_accuracy': 1.0}, 4: {'results': array([], dtype=int32), 'results_truth': array([], dtype=bool), 'results_accuracy': nan}, 5: {'results': array([], dtype=int32), 'results_truth': array([], dtype=bool), 'results_accuracy': nan}, 6: {'results': array([6]), 'results_truth': array([ True]), 'results_accuracy': 1.0}}\n",
      "{0: {'results': array([0]), 'results_truth': array([ True]), 'results_accuracy': 1.0}, 1: {'results': array([], dtype=int32), 'results_truth': array([], dtype=bool), 'results_accuracy': nan}, 2: {'results': array([], dtype=int32), 'results_truth': array([], dtype=bool), 'results_accuracy': nan}, 3: {'results': array([3]), 'results_truth': array([ True]), 'results_accuracy': 1.0}, 4: {'results': array([], dtype=int32), 'results_truth': array([], dtype=bool), 'results_accuracy': nan}, 5: {'results': array([], dtype=int32), 'results_truth': array([], dtype=bool), 'results_accuracy': nan}, 6: {'results': array([6]), 'results_truth': array([ True]), 'results_accuracy': 1.0}, 7: {'results': array([], dtype=int32), 'results_truth': array([], dtype=bool), 'results_accuracy': nan}}\n",
      "{0: {'results': array([0]), 'results_truth': array([ True]), 'results_accuracy': 1.0}, 1: {'results': array([], dtype=int32), 'results_truth': array([], dtype=bool), 'results_accuracy': nan}, 2: {'results': array([], dtype=int32), 'results_truth': array([], dtype=bool), 'results_accuracy': nan}, 3: {'results': array([3]), 'results_truth': array([ True]), 'results_accuracy': 1.0}, 4: {'results': array([], dtype=int32), 'results_truth': array([], dtype=bool), 'results_accuracy': nan}, 5: {'results': array([], dtype=int32), 'results_truth': array([], dtype=bool), 'results_accuracy': nan}, 6: {'results': array([6]), 'results_truth': array([ True]), 'results_accuracy': 1.0}, 7: {'results': array([], dtype=int32), 'results_truth': array([], dtype=bool), 'results_accuracy': nan}, 8: {'results': array([8, 1]), 'results_truth': array([ True, False]), 'results_accuracy': 0.5}}\n",
      "{0: {'results': array([0]), 'results_truth': array([ True]), 'results_accuracy': 1.0}, 1: {'results': array([], dtype=int32), 'results_truth': array([], dtype=bool), 'results_accuracy': nan}, 2: {'results': array([], dtype=int32), 'results_truth': array([], dtype=bool), 'results_accuracy': nan}, 3: {'results': array([3]), 'results_truth': array([ True]), 'results_accuracy': 1.0}, 4: {'results': array([], dtype=int32), 'results_truth': array([], dtype=bool), 'results_accuracy': nan}, 5: {'results': array([], dtype=int32), 'results_truth': array([], dtype=bool), 'results_accuracy': nan}, 6: {'results': array([6]), 'results_truth': array([ True]), 'results_accuracy': 1.0}, 7: {'results': array([], dtype=int32), 'results_truth': array([], dtype=bool), 'results_accuracy': nan}, 8: {'results': array([8, 1]), 'results_truth': array([ True, False]), 'results_accuracy': 0.5}, 9: {'results': array([], dtype=int32), 'results_truth': array([], dtype=bool), 'results_accuracy': nan}}\n",
      "{0: {'results': array([0]), 'results_truth': array([ True]), 'results_accuracy': 1.0}}\n",
      "{0: {'results': array([0]), 'results_truth': array([ True]), 'results_accuracy': 1.0}, 1: {'results': array([], dtype=int32), 'results_truth': array([], dtype=bool), 'results_accuracy': nan}}\n",
      "{0: {'results': array([0]), 'results_truth': array([ True]), 'results_accuracy': 1.0}, 1: {'results': array([], dtype=int32), 'results_truth': array([], dtype=bool), 'results_accuracy': nan}, 2: {'results': array([], dtype=int32), 'results_truth': array([], dtype=bool), 'results_accuracy': nan}}\n",
      "{0: {'results': array([0]), 'results_truth': array([ True]), 'results_accuracy': 1.0}, 1: {'results': array([], dtype=int32), 'results_truth': array([], dtype=bool), 'results_accuracy': nan}, 2: {'results': array([], dtype=int32), 'results_truth': array([], dtype=bool), 'results_accuracy': nan}, 3: {'results': array([], dtype=int32), 'results_truth': array([], dtype=bool), 'results_accuracy': nan}}\n",
      "{0: {'results': array([0]), 'results_truth': array([ True]), 'results_accuracy': 1.0}, 1: {'results': array([], dtype=int32), 'results_truth': array([], dtype=bool), 'results_accuracy': nan}, 2: {'results': array([], dtype=int32), 'results_truth': array([], dtype=bool), 'results_accuracy': nan}, 3: {'results': array([], dtype=int32), 'results_truth': array([], dtype=bool), 'results_accuracy': nan}, 4: {'results': array([], dtype=int32), 'results_truth': array([], dtype=bool), 'results_accuracy': nan}}\n",
      "{0: {'results': array([0]), 'results_truth': array([ True]), 'results_accuracy': 1.0}, 1: {'results': array([], dtype=int32), 'results_truth': array([], dtype=bool), 'results_accuracy': nan}, 2: {'results': array([], dtype=int32), 'results_truth': array([], dtype=bool), 'results_accuracy': nan}, 3: {'results': array([], dtype=int32), 'results_truth': array([], dtype=bool), 'results_accuracy': nan}, 4: {'results': array([], dtype=int32), 'results_truth': array([], dtype=bool), 'results_accuracy': nan}, 5: {'results': array([], dtype=int32), 'results_truth': array([], dtype=bool), 'results_accuracy': nan}}\n",
      "{0: {'results': array([0]), 'results_truth': array([ True]), 'results_accuracy': 1.0}, 1: {'results': array([], dtype=int32), 'results_truth': array([], dtype=bool), 'results_accuracy': nan}, 2: {'results': array([], dtype=int32), 'results_truth': array([], dtype=bool), 'results_accuracy': nan}, 3: {'results': array([], dtype=int32), 'results_truth': array([], dtype=bool), 'results_accuracy': nan}, 4: {'results': array([], dtype=int32), 'results_truth': array([], dtype=bool), 'results_accuracy': nan}, 5: {'results': array([], dtype=int32), 'results_truth': array([], dtype=bool), 'results_accuracy': nan}, 6: {'results': array([], dtype=int32), 'results_truth': array([], dtype=bool), 'results_accuracy': nan}}\n",
      "{0: {'results': array([0]), 'results_truth': array([ True]), 'results_accuracy': 1.0}, 1: {'results': array([], dtype=int32), 'results_truth': array([], dtype=bool), 'results_accuracy': nan}, 2: {'results': array([], dtype=int32), 'results_truth': array([], dtype=bool), 'results_accuracy': nan}, 3: {'results': array([], dtype=int32), 'results_truth': array([], dtype=bool), 'results_accuracy': nan}, 4: {'results': array([], dtype=int32), 'results_truth': array([], dtype=bool), 'results_accuracy': nan}, 5: {'results': array([], dtype=int32), 'results_truth': array([], dtype=bool), 'results_accuracy': nan}, 6: {'results': array([], dtype=int32), 'results_truth': array([], dtype=bool), 'results_accuracy': nan}, 7: {'results': array([], dtype=int32), 'results_truth': array([], dtype=bool), 'results_accuracy': nan}}\n",
      "{0: {'results': array([0]), 'results_truth': array([ True]), 'results_accuracy': 1.0}, 1: {'results': array([], dtype=int32), 'results_truth': array([], dtype=bool), 'results_accuracy': nan}, 2: {'results': array([], dtype=int32), 'results_truth': array([], dtype=bool), 'results_accuracy': nan}, 3: {'results': array([], dtype=int32), 'results_truth': array([], dtype=bool), 'results_accuracy': nan}, 4: {'results': array([], dtype=int32), 'results_truth': array([], dtype=bool), 'results_accuracy': nan}, 5: {'results': array([], dtype=int32), 'results_truth': array([], dtype=bool), 'results_accuracy': nan}, 6: {'results': array([], dtype=int32), 'results_truth': array([], dtype=bool), 'results_accuracy': nan}, 7: {'results': array([], dtype=int32), 'results_truth': array([], dtype=bool), 'results_accuracy': nan}, 8: {'results': array([], dtype=int32), 'results_truth': array([], dtype=bool), 'results_accuracy': nan}}\n",
      "{0: {'results': array([0]), 'results_truth': array([ True]), 'results_accuracy': 1.0}, 1: {'results': array([], dtype=int32), 'results_truth': array([], dtype=bool), 'results_accuracy': nan}, 2: {'results': array([], dtype=int32), 'results_truth': array([], dtype=bool), 'results_accuracy': nan}, 3: {'results': array([], dtype=int32), 'results_truth': array([], dtype=bool), 'results_accuracy': nan}, 4: {'results': array([], dtype=int32), 'results_truth': array([], dtype=bool), 'results_accuracy': nan}, 5: {'results': array([], dtype=int32), 'results_truth': array([], dtype=bool), 'results_accuracy': nan}, 6: {'results': array([], dtype=int32), 'results_truth': array([], dtype=bool), 'results_accuracy': nan}, 7: {'results': array([], dtype=int32), 'results_truth': array([], dtype=bool), 'results_accuracy': nan}, 8: {'results': array([], dtype=int32), 'results_truth': array([], dtype=bool), 'results_accuracy': nan}, 9: {'results': array([], dtype=int32), 'results_truth': array([], dtype=bool), 'results_accuracy': nan}}\n",
      "{0: {'results': array([0]), 'results_truth': array([ True]), 'results_accuracy': 1.0}}\n",
      "{0: {'results': array([0]), 'results_truth': array([ True]), 'results_accuracy': 1.0}, 1: {'results': array([], dtype=int32), 'results_truth': array([], dtype=bool), 'results_accuracy': nan}}\n",
      "{0: {'results': array([0]), 'results_truth': array([ True]), 'results_accuracy': 1.0}, 1: {'results': array([], dtype=int32), 'results_truth': array([], dtype=bool), 'results_accuracy': nan}, 2: {'results': array([], dtype=int32), 'results_truth': array([], dtype=bool), 'results_accuracy': nan}}\n",
      "{0: {'results': array([0]), 'results_truth': array([ True]), 'results_accuracy': 1.0}, 1: {'results': array([], dtype=int32), 'results_truth': array([], dtype=bool), 'results_accuracy': nan}, 2: {'results': array([], dtype=int32), 'results_truth': array([], dtype=bool), 'results_accuracy': nan}, 3: {'results': array([3]), 'results_truth': array([ True]), 'results_accuracy': 1.0}}\n",
      "{0: {'results': array([0]), 'results_truth': array([ True]), 'results_accuracy': 1.0}, 1: {'results': array([], dtype=int32), 'results_truth': array([], dtype=bool), 'results_accuracy': nan}, 2: {'results': array([], dtype=int32), 'results_truth': array([], dtype=bool), 'results_accuracy': nan}, 3: {'results': array([3]), 'results_truth': array([ True]), 'results_accuracy': 1.0}, 4: {'results': array([], dtype=int32), 'results_truth': array([], dtype=bool), 'results_accuracy': nan}}\n",
      "{0: {'results': array([0]), 'results_truth': array([ True]), 'results_accuracy': 1.0}, 1: {'results': array([], dtype=int32), 'results_truth': array([], dtype=bool), 'results_accuracy': nan}, 2: {'results': array([], dtype=int32), 'results_truth': array([], dtype=bool), 'results_accuracy': nan}, 3: {'results': array([3]), 'results_truth': array([ True]), 'results_accuracy': 1.0}, 4: {'results': array([], dtype=int32), 'results_truth': array([], dtype=bool), 'results_accuracy': nan}, 5: {'results': array([], dtype=int32), 'results_truth': array([], dtype=bool), 'results_accuracy': nan}}\n",
      "{0: {'results': array([0]), 'results_truth': array([ True]), 'results_accuracy': 1.0}, 1: {'results': array([], dtype=int32), 'results_truth': array([], dtype=bool), 'results_accuracy': nan}, 2: {'results': array([], dtype=int32), 'results_truth': array([], dtype=bool), 'results_accuracy': nan}, 3: {'results': array([3]), 'results_truth': array([ True]), 'results_accuracy': 1.0}, 4: {'results': array([], dtype=int32), 'results_truth': array([], dtype=bool), 'results_accuracy': nan}, 5: {'results': array([], dtype=int32), 'results_truth': array([], dtype=bool), 'results_accuracy': nan}, 6: {'results': array([6]), 'results_truth': array([ True]), 'results_accuracy': 1.0}}\n",
      "{0: {'results': array([0]), 'results_truth': array([ True]), 'results_accuracy': 1.0}, 1: {'results': array([], dtype=int32), 'results_truth': array([], dtype=bool), 'results_accuracy': nan}, 2: {'results': array([], dtype=int32), 'results_truth': array([], dtype=bool), 'results_accuracy': nan}, 3: {'results': array([3]), 'results_truth': array([ True]), 'results_accuracy': 1.0}, 4: {'results': array([], dtype=int32), 'results_truth': array([], dtype=bool), 'results_accuracy': nan}, 5: {'results': array([], dtype=int32), 'results_truth': array([], dtype=bool), 'results_accuracy': nan}, 6: {'results': array([6]), 'results_truth': array([ True]), 'results_accuracy': 1.0}, 7: {'results': array([], dtype=int32), 'results_truth': array([], dtype=bool), 'results_accuracy': nan}}\n",
      "{0: {'results': array([0]), 'results_truth': array([ True]), 'results_accuracy': 1.0}, 1: {'results': array([], dtype=int32), 'results_truth': array([], dtype=bool), 'results_accuracy': nan}, 2: {'results': array([], dtype=int32), 'results_truth': array([], dtype=bool), 'results_accuracy': nan}, 3: {'results': array([3]), 'results_truth': array([ True]), 'results_accuracy': 1.0}, 4: {'results': array([], dtype=int32), 'results_truth': array([], dtype=bool), 'results_accuracy': nan}, 5: {'results': array([], dtype=int32), 'results_truth': array([], dtype=bool), 'results_accuracy': nan}, 6: {'results': array([6]), 'results_truth': array([ True]), 'results_accuracy': 1.0}, 7: {'results': array([], dtype=int32), 'results_truth': array([], dtype=bool), 'results_accuracy': nan}, 8: {'results': array([], dtype=int32), 'results_truth': array([], dtype=bool), 'results_accuracy': nan}}\n",
      "{0: {'results': array([0]), 'results_truth': array([ True]), 'results_accuracy': 1.0}, 1: {'results': array([], dtype=int32), 'results_truth': array([], dtype=bool), 'results_accuracy': nan}, 2: {'results': array([], dtype=int32), 'results_truth': array([], dtype=bool), 'results_accuracy': nan}, 3: {'results': array([3]), 'results_truth': array([ True]), 'results_accuracy': 1.0}, 4: {'results': array([], dtype=int32), 'results_truth': array([], dtype=bool), 'results_accuracy': nan}, 5: {'results': array([], dtype=int32), 'results_truth': array([], dtype=bool), 'results_accuracy': nan}, 6: {'results': array([6]), 'results_truth': array([ True]), 'results_accuracy': 1.0}, 7: {'results': array([], dtype=int32), 'results_truth': array([], dtype=bool), 'results_accuracy': nan}, 8: {'results': array([], dtype=int32), 'results_truth': array([], dtype=bool), 'results_accuracy': nan}, 9: {'results': array([], dtype=int32), 'results_truth': array([], dtype=bool), 'results_accuracy': nan}}\n"
     ]
    },
    {
     "name": "stderr",
     "output_type": "stream",
     "text": [
      "C:\\Users\\GriffithInnovate\\Anaconda3\\envs\\py36torch\\lib\\site-packages\\ipykernel_launcher.py:65: RuntimeWarning: invalid value encountered in long_scalars\n"
     ]
    },
    {
     "ename": "TypeError",
     "evalue": "'int' object is not subscriptable",
     "output_type": "error",
     "traceback": [
      "\u001b[1;31m---------------------------------------------------------------------------\u001b[0m",
      "\u001b[1;31mTypeError\u001b[0m                                 Traceback (most recent call last)",
      "\u001b[1;32m<ipython-input-387-4971321a5e1f>\u001b[0m in \u001b[0;36m<module>\u001b[1;34m\u001b[0m\n\u001b[0;32m      2\u001b[0m \u001b[0mentropy\u001b[0m \u001b[1;33m=\u001b[0m \u001b[1;33m[\u001b[0m\u001b[1;33m[\u001b[0m\u001b[1;36m0.02117890713197057\u001b[0m\u001b[1;33m,\u001b[0m \u001b[1;36m1.7145111565508644\u001b[0m\u001b[1;33m,\u001b[0m \u001b[1;36m1.123504928401738\u001b[0m\u001b[1;33m,\u001b[0m \u001b[1;36m0.02854453329516289\u001b[0m\u001b[1;33m]\u001b[0m\u001b[1;33m,\u001b[0m \u001b[1;33m[\u001b[0m\u001b[1;36m0.2051342868918917\u001b[0m\u001b[1;33m,\u001b[0m \u001b[1;36m0.12891920859567874\u001b[0m\u001b[1;33m,\u001b[0m \u001b[1;36m0.06274062780065608\u001b[0m\u001b[1;33m,\u001b[0m \u001b[1;36m0.02574753698232482\u001b[0m\u001b[1;33m]\u001b[0m\u001b[1;33m,\u001b[0m \u001b[1;33m[\u001b[0m\u001b[1;36m0.9602549250481593\u001b[0m\u001b[1;33m,\u001b[0m \u001b[1;36m0.6424450601952321\u001b[0m\u001b[1;33m,\u001b[0m \u001b[1;36m1.148021184171209\u001b[0m\u001b[1;33m,\u001b[0m \u001b[1;36m1.1666995927769988\u001b[0m\u001b[1;33m]\u001b[0m\u001b[1;33m,\u001b[0m \u001b[1;33m[\u001b[0m\u001b[1;36m0.005653360056361332\u001b[0m\u001b[1;33m,\u001b[0m \u001b[1;36m1.391790668156026\u001b[0m\u001b[1;33m,\u001b[0m \u001b[1;36m0.33770517085116436\u001b[0m\u001b[1;33m,\u001b[0m \u001b[1;36m1.6566820996289247\u001b[0m\u001b[1;33m]\u001b[0m\u001b[1;33m,\u001b[0m \u001b[1;33m[\u001b[0m\u001b[1;36m0.04327244093902029\u001b[0m\u001b[1;33m,\u001b[0m \u001b[1;36m0.9537953160858115\u001b[0m\u001b[1;33m,\u001b[0m \u001b[1;36m0.834290747567063\u001b[0m\u001b[1;33m,\u001b[0m \u001b[1;36m0.010300220967992246\u001b[0m\u001b[1;33m]\u001b[0m\u001b[1;33m]\u001b[0m\u001b[1;33m\u001b[0m\u001b[1;33m\u001b[0m\u001b[0m\n\u001b[0;32m      3\u001b[0m \u001b[0mlabels\u001b[0m \u001b[1;33m=\u001b[0m \u001b[1;33m[\u001b[0m\u001b[1;33m[\u001b[0m\u001b[1;36m3\u001b[0m\u001b[1;33m,\u001b[0m \u001b[1;36m3\u001b[0m\u001b[1;33m,\u001b[0m \u001b[1;36m3\u001b[0m\u001b[1;33m,\u001b[0m \u001b[1;36m3\u001b[0m\u001b[1;33m]\u001b[0m\u001b[1;33m,\u001b[0m \u001b[1;33m[\u001b[0m\u001b[1;36m8\u001b[0m\u001b[1;33m,\u001b[0m \u001b[1;36m8\u001b[0m\u001b[1;33m,\u001b[0m \u001b[1;36m8\u001b[0m\u001b[1;33m,\u001b[0m \u001b[1;36m8\u001b[0m\u001b[1;33m]\u001b[0m\u001b[1;33m,\u001b[0m \u001b[1;33m[\u001b[0m\u001b[1;36m8\u001b[0m\u001b[1;33m,\u001b[0m \u001b[1;36m8\u001b[0m\u001b[1;33m,\u001b[0m \u001b[1;36m8\u001b[0m\u001b[1;33m,\u001b[0m \u001b[1;36m8\u001b[0m\u001b[1;33m]\u001b[0m\u001b[1;33m,\u001b[0m \u001b[1;33m[\u001b[0m\u001b[1;36m0\u001b[0m\u001b[1;33m,\u001b[0m \u001b[1;36m0\u001b[0m\u001b[1;33m,\u001b[0m \u001b[1;36m0\u001b[0m\u001b[1;33m,\u001b[0m \u001b[1;36m0\u001b[0m\u001b[1;33m]\u001b[0m\u001b[1;33m,\u001b[0m \u001b[1;33m[\u001b[0m\u001b[1;36m6\u001b[0m\u001b[1;33m,\u001b[0m \u001b[1;36m6\u001b[0m\u001b[1;33m,\u001b[0m \u001b[1;36m6\u001b[0m\u001b[1;33m,\u001b[0m \u001b[1;36m6\u001b[0m\u001b[1;33m]\u001b[0m\u001b[1;33m]\u001b[0m\u001b[1;33m\u001b[0m\u001b[1;33m\u001b[0m\u001b[0m\n\u001b[1;32m----> 4\u001b[1;33m \u001b[0my\u001b[0m \u001b[1;33m=\u001b[0m \u001b[0mKneeGraphClasses\u001b[0m\u001b[1;33m(\u001b[0m\u001b[0mpred\u001b[0m\u001b[1;33m,\u001b[0m \u001b[0mlabels\u001b[0m\u001b[1;33m,\u001b[0m \u001b[0mentropy\u001b[0m\u001b[1;33m,\u001b[0m \u001b[1;36m4\u001b[0m\u001b[1;33m,\u001b[0m\u001b[1;33m[\u001b[0m\u001b[1;36m0\u001b[0m\u001b[1;33m,\u001b[0m\u001b[1;36m1\u001b[0m\u001b[1;33m,\u001b[0m\u001b[1;36m2\u001b[0m\u001b[1;33m,\u001b[0m\u001b[1;36m3\u001b[0m\u001b[1;33m,\u001b[0m\u001b[1;36m4\u001b[0m\u001b[1;33m,\u001b[0m\u001b[1;36m5\u001b[0m\u001b[1;33m,\u001b[0m\u001b[1;36m6\u001b[0m\u001b[1;33m,\u001b[0m\u001b[1;36m7\u001b[0m\u001b[1;33m,\u001b[0m\u001b[1;36m8\u001b[0m\u001b[1;33m,\u001b[0m\u001b[1;36m9\u001b[0m\u001b[1;33m]\u001b[0m\u001b[1;33m,\u001b[0m \u001b[1;33m[\u001b[0m\u001b[1;34m\"dense5\"\u001b[0m\u001b[1;33m,\u001b[0m\u001b[1;34m\"pooling_3\"\u001b[0m\u001b[1;33m,\u001b[0m\u001b[1;34m\"pooling_4\"\u001b[0m\u001b[1;33m,\u001b[0m\u001b[1;34m\"dense_3\"\u001b[0m\u001b[1;33m]\u001b[0m\u001b[1;33m)\u001b[0m\u001b[1;33m\u001b[0m\u001b[1;33m\u001b[0m\u001b[0m\n\u001b[0m\u001b[0;32m      5\u001b[0m \u001b[1;31m# print(y)\u001b[0m\u001b[1;33m\u001b[0m\u001b[1;33m\u001b[0m\u001b[1;33m\u001b[0m\u001b[0m\n",
      "\u001b[1;32m<ipython-input-386-a2647c14f5c0>\u001b[0m in \u001b[0;36mKneeGraphClasses\u001b[1;34m(pred, labels, entropy, num_outputs, classes, output_names)\u001b[0m\n\u001b[0;32m     76\u001b[0m \u001b[1;31m#         print()\u001b[0m\u001b[1;33m\u001b[0m\u001b[1;33m\u001b[0m\u001b[1;33m\u001b[0m\u001b[0m\n\u001b[0;32m     77\u001b[0m         \u001b[1;32mfor\u001b[0m \u001b[0mj\u001b[0m\u001b[1;33m,\u001b[0m \u001b[0mclassData\u001b[0m \u001b[1;32min\u001b[0m \u001b[0menumerate\u001b[0m\u001b[1;33m(\u001b[0m\u001b[0mseries_entropy\u001b[0m\u001b[1;33m[\u001b[0m\u001b[1;34m\"classes\"\u001b[0m\u001b[1;33m]\u001b[0m\u001b[1;33m)\u001b[0m\u001b[1;33m:\u001b[0m\u001b[1;33m\u001b[0m\u001b[1;33m\u001b[0m\u001b[0m\n\u001b[1;32m---> 78\u001b[1;33m             \u001b[0mprint\u001b[0m\u001b[1;33m(\u001b[0m\u001b[0mclassData\u001b[0m\u001b[1;33m[\u001b[0m\u001b[1;34m\"results\"\u001b[0m\u001b[1;33m]\u001b[0m\u001b[1;33m)\u001b[0m\u001b[1;33m\u001b[0m\u001b[1;33m\u001b[0m\u001b[0m\n\u001b[0m\u001b[0;32m     79\u001b[0m \u001b[1;31m#                 axs[round(int(i/2)), round(i%2)].plot(classData[\"entropy\",df[\"accuracy\"])\u001b[0m\u001b[1;33m\u001b[0m\u001b[1;33m\u001b[0m\u001b[1;33m\u001b[0m\u001b[0m\n\u001b[0;32m     80\u001b[0m         \u001b[0maxs\u001b[0m\u001b[1;33m[\u001b[0m\u001b[0mround\u001b[0m\u001b[1;33m(\u001b[0m\u001b[0mint\u001b[0m\u001b[1;33m(\u001b[0m\u001b[0mi\u001b[0m\u001b[1;33m/\u001b[0m\u001b[1;36m2\u001b[0m\u001b[1;33m)\u001b[0m\u001b[1;33m)\u001b[0m\u001b[1;33m,\u001b[0m \u001b[0mround\u001b[0m\u001b[1;33m(\u001b[0m\u001b[0mi\u001b[0m\u001b[1;33m%\u001b[0m\u001b[1;36m2\u001b[0m\u001b[1;33m)\u001b[0m\u001b[1;33m]\u001b[0m\u001b[1;33m.\u001b[0m\u001b[0mplot\u001b[0m\u001b[1;33m(\u001b[0m\u001b[0mdf\u001b[0m\u001b[1;33m[\u001b[0m\u001b[1;34m\"entropy\"\u001b[0m\u001b[1;33m]\u001b[0m\u001b[1;33m,\u001b[0m\u001b[0mdf\u001b[0m\u001b[1;33m[\u001b[0m\u001b[1;34m\"accuracy\"\u001b[0m\u001b[1;33m]\u001b[0m\u001b[1;33m)\u001b[0m\u001b[1;33m\u001b[0m\u001b[1;33m\u001b[0m\u001b[0m\n",
      "\u001b[1;31mTypeError\u001b[0m: 'int' object is not subscriptable"
     ]
    },
    {
     "data": {
      "text/plain": [
       "<Figure size 432x288 with 0 Axes>"
      ]
     },
     "metadata": {},
     "output_type": "display_data"
    },
    {
     "data": {
      "image/png": "[encoded data removed]",
      "text/plain": [
       "<Figure size 432x288 with 4 Axes>"
      ]
     },
     "metadata": {},
     "output_type": "display_data"
    }
   ],
   "source": [
    "pred = [[3, 3, 3, 3], [8, 8, 8, 8], [1, 1, 8, 1], [0, 8, 8, 1], [6, 6, 6, 6]]\n",
    "entropy = [[0.02117890713197057, 1.7145111565508644, 1.123504928401738, 0.02854453329516289], [0.2051342868918917, 0.12891920859567874, 0.06274062780065608, 0.02574753698232482], [0.9602549250481593, 0.6424450601952321, 1.148021184171209, 1.1666995927769988], [0.005653360056361332, 1.391790668156026, 0.33770517085116436, 1.6566820996289247], [0.04327244093902029, 0.9537953160858115, 0.834290747567063, 0.010300220967992246]]\n",
    "labels = [[3, 3, 3, 3], [8, 8, 8, 8], [8, 8, 8, 8], [0, 0, 0, 0], [6, 6, 6, 6]]\n",
    "y = KneeGraphClasses(pred, labels, entropy, 4,[0,1,2,3,4,5,6,7,8,9], [\"dense5\",\"pooling_3\",\"pooling_4\",\"dense_3\"])\n",
    "# print(y)"
   ]
  },
  {
   "cell_type": "code",
   "execution_count": null,
   "metadata": {},
   "outputs": [],
   "source": []
  },
  {
   "cell_type": "code",
   "execution_count": null,
   "metadata": {},
   "outputs": [],
   "source": []
  }
 ],
 "metadata": {
  "kernelspec": {
   "display_name": "Python 3.7.9 64-bit ('py36torch': conda)",
   "language": "python",
   "name": "python37964bitpy36torchconda6c7f9b1e31bd4704978e313bc2fd5ac1"
  },
  "language_info": {
   "codemirror_mode": {
    "name": "ipython",
    "version": 3
   },
   "file_extension": ".py",
   "mimetype": "text/x-python",
   "name": "python",
   "nbconvert_exporter": "python",
   "pygments_lexer": "ipython3",
   "version": "3.7.9"
  }
 },
 "nbformat": 4,
 "nbformat_minor": 2
}
