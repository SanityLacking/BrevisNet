{
 "cells": [
  {
   "cell_type": "code",
   "execution_count": 5,
   "metadata": {},
   "outputs": [],
   "source": [
    "import numpy as np\n",
    "import pandas as pd\n",
    "import math\n",
    "from matplotlib.ticker import FormatStrFormatter\n",
    "import matplotlib.pyplot as plt\n",
    "plt.style.use('seaborn-whitegrid')\n",
    "\n"
   ]
  },
  {
   "cell_type": "code",
   "execution_count": 104,
   "metadata": {},
   "outputs": [],
   "source": [
    "import csv\n",
    "\n",
    "with open('results/labels_full.csv', newline='') as f:\n",
    "    reader = csv.reader(f,quoting=csv.QUOTE_NONNUMERIC)\n",
    "    next(reader)\n",
    "    labels = list(reader)\n",
    "with open('results/predClasses_full.csv', newline='') as f:\n",
    "    reader = csv.reader(f,quoting=csv.QUOTE_NONNUMERIC)\n",
    "    next(reader)\n",
    "    pred = list(reader)\n",
    "with open('results/predEntropy_full.csv', newline='') as f:\n",
    "    reader = csv.reader(f,quoting=csv.QUOTE_NONNUMERIC)\n",
    "    next(reader)\n",
    "    entropy = list(reader)\n",
    "    "
   ]
  },
  {
   "cell_type": "code",
   "execution_count": 101,
   "metadata": {},
   "outputs": [],
   "source": [
    "import csv\n",
    "\n",
    "with open('results/labels.csv', newline='') as f:\n",
    "    reader = csv.reader(f,quoting=csv.QUOTE_NONNUMERIC)\n",
    "    next(reader)\n",
    "    labels = list(reader)\n",
    "with open('results/predClasses.csv', newline='') as f:\n",
    "    reader = csv.reader(f,quoting=csv.QUOTE_NONNUMERIC)\n",
    "    next(reader)\n",
    "    pred = list(reader)\n",
    "with open('results/predEntropy.csv', newline='') as f:\n",
    "    reader = csv.reader(f,quoting=csv.QUOTE_NONNUMERIC)\n",
    "    next(reader)\n",
    "    entropy = list(reader)"
   ]
  },
  {
   "cell_type": "code",
   "execution_count": 83,
   "metadata": {},
   "outputs": [],
   "source": [
    "import csv\n",
    "\n",
    "with open('results/labels_temp.csv', newline='') as f:\n",
    "    reader = csv.reader(f,quoting=csv.QUOTE_NONNUMERIC)\n",
    "    next(reader)\n",
    "    labels = list(reader)\n",
    "with open('results/predClasses_temp.csv', newline='') as f:\n",
    "    reader = csv.reader(f,quoting=csv.QUOTE_NONNUMERIC)\n",
    "    next(reader)\n",
    "    pred = list(reader)\n",
    "with open('results/predEntropy_temp.csv', newline='') as f:\n",
    "    reader = csv.reader(f,quoting=csv.QUOTE_NONNUMERIC)\n",
    "    next(reader)\n",
    "    entropy = list(reader)"
   ]
  },
  {
   "cell_type": "code",
   "execution_count": 86,
   "metadata": {},
   "outputs": [],
   "source": [
    "def exitAccuracy(results, labels, classes=[]):\n",
    "    \"\"\" find the accuracy scores of the main network exit for each class\n",
    "            if classes is empty, return the average accuracy for all labels\n",
    "    \"\"\"    \n",
    "    print(\"number of classes {}\".format(len(classes)))\n",
    "    print(\"correct answer {}\".format(results.sum()))\n",
    "\n",
    "    classAcc = {}\n",
    "    correct =[]\n",
    "    count = []\n",
    "    percentage = []\n",
    "    if len(classes) > 0:\n",
    "        for i, labelClass in enumerate(classes):            \n",
    "            correct.append(results[np.where(labels==labelClass)].sum())\n",
    "            count.append(len(labels[np.where(labels == labelClass)]))\n",
    "#             try:\n",
    "            p = results[np.where(labels==labelClass)].sum()/len(labels[np.where(labels == labelClass)])\n",
    "#             except expression as identifier:\n",
    "#                 p = 0 \n",
    "            percentage.append(p)\n",
    "            classAcc[labelClass] = results[np.where(labels==labelClass)].sum()/len(labels[np.where(labels == labelClass)])\n",
    "    else: \n",
    "        correct.append(results.sum())\n",
    "        count.append((len(labels)))\n",
    "        p = results.sum()/len(labels)\n",
    "        percentage.append(p)\n",
    "        classAcc[\"all\"] = p\n",
    "    avgAcc = results.sum()/len(labels)\n",
    "    \n",
    "        \n",
    "    print(\"correct {}\".format(correct))\n",
    "    print(\"count {}\".format(count))\n",
    "    print(\"percentage {}\".format(percentage))\n",
    "\n",
    "    return avgAcc, classAcc\n"
   ]
  },
  {
   "cell_type": "code",
   "execution_count": 98,
   "metadata": {},
   "outputs": [],
   "source": [
    "def findMainExitAccuracies(pred, labels, num_outputs, labelClasses=[], output_names=[],graph=True):\n",
    "        \"\"\" find the accuracy scores of the main network exit for each class\n",
    "            if classes is empty, return the average accuracy for all labels\n",
    "        \"\"\"\n",
    "        results = np.equal(pred, labels)\n",
    "        pred = np.array(pred)\n",
    "        print(pred.dtype)\n",
    "        \n",
    "        labels = np.array(labels)\n",
    "        \n",
    "        transpose_results = np.transpose(results) #truths\n",
    "        transpose_preds = np.transpose(pred) #per exit rather then per input\n",
    "        transpose_labels = np.transpose(labels)\n",
    "        # %matplotlib inline\n",
    "        if graph==True:\n",
    "            plt.style.use('seaborn-whitegrid')\n",
    "            fig = plt.figure()\n",
    "            fig.tight_layout()\n",
    "        df =  pd.DataFrame() \n",
    "        print(\"correct answers {}\".format(transpose_results[0].sum()))\n",
    "        print(\"passed results {}\".format(len(transpose_results[0])))\n",
    "        avgAcc, classAcc= exitAccuracy(transpose_results[0],transpose_labels[0],labelClasses)\n",
    "#         print(avgAcc)\n",
    "        fig, ax = plt.subplots()\n",
    "        ticks = []\n",
    "        if graph==True:\n",
    "            for i, x in enumerate(classAcc):\n",
    "                ticks.append(x)\n",
    "#                 print(x)                \n",
    "                plt.bar(x, classAcc[x], label=\"Class: {}\".format(x),alpha=0.8) \n",
    "                if classAcc[x] != 0:\n",
    "                    if type(x) != str:\n",
    "                        plt.text(x-.3, classAcc[x]-0.025, \"{}\".format(round(classAcc[x],2)), color='black', va='center', fontweight='bold')\n",
    "                    else: \n",
    "                        plt.text(x, classAcc[x]-0.025, \"{}\".format(round(classAcc[x],2)), color='black', va='center', fontweight='bold')\n",
    "#                 plt.bar(x, avgAcc, label=\"Avg Accuracy\",alpha=0.8,bottom=classAcc[x]) \n",
    "            if len(labelClasses) > 0:\n",
    "                plt.hlines(avgAcc,-.5,len(classAcc.keys())-.5,label =\"Accuracy\", linestyles=\"dashed\", alpha=0.5)\n",
    "                plt.text(len(classAcc.keys())-.5, .74, ' Avg Acc%', ha='left', va='center')\n",
    "            \n",
    "    #     print(sum(classAcc.values())/len(classAcc.values()))\n",
    "        if graph==True:\n",
    "            plt.xticks(ticks)\n",
    "            plt.title(\"Class Label Accuracy\")\n",
    "            plt.ylabel(\"Accuracy %\")\n",
    "            plt.xlabel(\"Label Class #\")\n",
    "            plt.show()\n",
    "        return classAcc"
   ]
  },
  {
   "cell_type": "code",
   "execution_count": 105,
   "metadata": {
    "scrolled": false
   },
   "outputs": [
    {
     "name": "stdout",
     "output_type": "stream",
     "text": [
      "float64\n",
      "correct answers 7395\n",
      "passed results 10000\n",
      "number of classes 0\n",
      "correct answer 7395\n",
      "correct [7395]\n",
      "count [10000]\n",
      "percentage [0.7395]\n"
     ]
    },
    {
     "data": {
      "text/plain": [
       "<Figure size 432x288 with 0 Axes>"
      ]
     },
     "metadata": {},
     "output_type": "display_data"
    },
    {
     "data": {
      "image/png": "[encoded data removed]",
      "text/plain": [
       "<Figure size 432x288 with 1 Axes>"
      ]
     },
     "metadata": {},
     "output_type": "display_data"
    }
   ],
   "source": [
    "y = findMainExitAccuracies(pred, labels, 4,[], [\"dense5\",\"pooling_3\",\"pooling_4\",\"dense_3\"])"
   ]
  },
  {
   "cell_type": "code",
   "execution_count": 106,
   "metadata": {
    "scrolled": false
   },
   "outputs": [
    {
     "name": "stdout",
     "output_type": "stream",
     "text": [
      "float64\n",
      "correct answers 7395\n",
      "passed results 10000\n",
      "number of classes 10\n",
      "correct answer 7395\n",
      "correct [774, 864, 624, 578, 672, 690, 774, 798, 815, 806]\n",
      "count [1000, 1000, 1000, 1000, 1000, 1000, 1000, 1000, 1000, 1000]\n",
      "percentage [0.774, 0.864, 0.624, 0.578, 0.672, 0.69, 0.774, 0.798, 0.815, 0.806]\n"
     ]
    },
    {
     "data": {
      "text/plain": [
       "<Figure size 432x288 with 0 Axes>"
      ]
     },
     "metadata": {},
     "output_type": "display_data"
    },
    {
     "data": {
      "image/png": "[encoded data removed]",
      "text/plain": [
       "<Figure size 432x288 with 1 Axes>"
      ]
     },
     "metadata": {},
     "output_type": "display_data"
    }
   ],
   "source": [
    "y = findMainExitAccuracies(pred, labels, 4,[0,1,2,3,4,5,6,7,8,9], [\"dense5\",\"pooling_3\",\"pooling_4\",\"dense_3\"])"
   ]
  },
  {
   "cell_type": "code",
   "execution_count": null,
   "metadata": {},
   "outputs": [],
   "source": []
  },
  {
   "cell_type": "code",
   "execution_count": 107,
   "metadata": {},
   "outputs": [],
   "source": [
    "\n",
    "def graphclassAccuracy(pred, labels, num_outputs, classes, output_names=[],graph=True):\n",
    "    \"\"\" finds the class accuracies of the main exit and the branches.\n",
    "    \"\"\"\n",
    "       \n",
    "        \n",
    "#           print(sum(classAcc.values())/len(classAcc.values()))\n",
    "   \n",
    "    #get series of entropy values, series of \n",
    "#     print(pred)\n",
    "    resultsDict = {}\n",
    "    results = np.equal(pred, labels)\n",
    "    pred = np.array(pred)\n",
    "    labels = np.array(labels)\n",
    "    \n",
    "    classCount = {}\n",
    "#     results = pred\n",
    "    labelClasses=classes\n",
    "    transpose_results = np.transpose(results) #truths\n",
    "    transpose_preds = np.transpose(pred) #per exit rather then per input\n",
    "    transpose_labels = np.transpose(labels)\n",
    "    # %matplotlib inline\n",
    "    if graph==True:\n",
    "        plt.style.use('seaborn-whitegrid')\n",
    "        fig = plt.figure()\n",
    "        fig, axs = plt.subplots(2, 2)\n",
    "        fig.tight_layout()\n",
    "        ticks = []\n",
    "        series=[]\n",
    "    df =  pd.DataFrame() \n",
    "    returnData = []\n",
    "    print(\"label classes{}\".format(labelClasses))\n",
    "    for i in range(num_outputs):\n",
    "        print(\"output: {}\".format(i))\n",
    "\n",
    "        avgAcc, classAcc= exitAccuracy(transpose_results[i],transpose_labels[i],labelClasses)\n",
    "        if graph==True:\n",
    "            for j, x in enumerate(classAcc):\n",
    "                ticks.append(x)\n",
    "#                 print(classAcc[x])       \n",
    "                axs[round(int(i/2)), round(i%2)].set_ylim([0, 1])\n",
    "                axs[round(int(i/2)), round(i%2)].bar(x, classAcc[x], label=\"Class: {}\".format(x),alpha=0.8) \n",
    "#                 if type(x) != str:\n",
    "#                     axs[round(int(i/2)), round(i%2)].text(x-.3, classAcc[x]-0.025, \"{}\".format(round(classAcc[x],2)), color='black', va='center', fontweight='bold')\n",
    "#                 else: \n",
    "#                     axs[round(int(i/2)), round(i%2)].text(x, classAcc[x]-0.025, \"{}\".format(round(classAcc[x],2)), color='black', va='center', fontweight='bold')\n",
    "#                 plt.bar(x, .74, label=\"Avg Accuracy\",alpha=0.8,bottom=classAcc[x]) \n",
    "            if len(labelClasses) > 0:\n",
    "                axs[round(int(i/2)), round(i%2)].hlines(avgAcc,-.5,len(classAcc.keys())-.5,label =\"Avg Acc\", linestyles=\"dashed\", alpha=0.5)\n",
    "#                 axs[round(int(i/2)), round(i%2)].text(len(classAcc.keys())-.5, .74, ' Avg Acc', ha='left', va='center')\n",
    "            if len(output_names) >= i:\n",
    "                axs[round(int(i/2)), round(i%2)].title.set_text(\"branch: {}\".format(output_names[i]))\n",
    "            else:\n",
    "                axs[round(int(i/2)), round(i%2)].title.set_text(\"branch: {}\".format(i))\n",
    "    #     print(sum(classAcc.values())/len(classAcc.values()))\n",
    "            \n",
    "    if graph==True:        \n",
    "        lines = []\n",
    "        labels = []\n",
    "        for ax in fig.axes:\n",
    "            ax.yaxis.set_major_formatter(FormatStrFormatter('%.2f'))\n",
    "            axLine, axLabel = ax.get_legend_handles_labels()\n",
    "            lines=(axLine)\n",
    "            labels=(axLabel)\n",
    "\n",
    "        # Set common labels\n",
    "        fig.text(0.5, 0.01, 'Label Class #', ha='center', va='center')\n",
    "        fig.text(0.01, 0.5, 'Accuracy %', ha='center', va='center', rotation='vertical')\n",
    "\n",
    "        fig.legend(lines, labels,bbox_to_anchor=(1., 1), loc=2,borderaxespad=0.,frameon=True)\n",
    "        plt.setp(axs, xticks=ticks, xticklabels=ticks)\n",
    "#         plt.xticks(ticks)\n",
    "        plt.show()\n",
    "#     print(output)\n",
    "    \n",
    "#     print(df)\n",
    "#     df.to_csv(\"graph_output.csv\")\n",
    "    return returnData"
   ]
  },
  {
   "cell_type": "code",
   "execution_count": 108,
   "metadata": {
    "scrolled": false
   },
   "outputs": [
    {
     "name": "stdout",
     "output_type": "stream",
     "text": [
      "label classes[0, 1, 2, 3, 4, 5, 6, 7, 8, 9]\n",
      "output: 0\n",
      "number of classes 10\n",
      "correct answer 7395\n",
      "correct [774, 864, 624, 578, 672, 690, 774, 798, 815, 806]\n",
      "count [1000, 1000, 1000, 1000, 1000, 1000, 1000, 1000, 1000, 1000]\n",
      "percentage [0.774, 0.864, 0.624, 0.578, 0.672, 0.69, 0.774, 0.798, 0.815, 0.806]\n",
      "output: 1\n",
      "number of classes 10\n",
      "correct answer 5051\n",
      "correct [1, 413, 294, 223, 505, 594, 787, 666, 792, 776]\n",
      "count [1000, 1000, 1000, 1000, 1000, 1000, 1000, 1000, 1000, 1000]\n",
      "percentage [0.001, 0.413, 0.294, 0.223, 0.505, 0.594, 0.787, 0.666, 0.792, 0.776]\n",
      "output: 2\n",
      "number of classes 10\n",
      "correct answer 5742\n",
      "correct [0, 559, 327, 273, 615, 744, 817, 741, 855, 811]\n",
      "count [1000, 1000, 1000, 1000, 1000, 1000, 1000, 1000, 1000, 1000]\n",
      "percentage [0.0, 0.559, 0.327, 0.273, 0.615, 0.744, 0.817, 0.741, 0.855, 0.811]\n",
      "output: 3\n",
      "number of classes 10\n",
      "correct answer 6708\n",
      "correct [0, 773, 643, 594, 679, 681, 812, 803, 868, 855]\n",
      "count [1000, 1000, 1000, 1000, 1000, 1000, 1000, 1000, 1000, 1000]\n",
      "percentage [0.0, 0.773, 0.643, 0.594, 0.679, 0.681, 0.812, 0.803, 0.868, 0.855]\n"
     ]
    },
    {
     "data": {
      "text/plain": [
       "<Figure size 432x288 with 0 Axes>"
      ]
     },
     "metadata": {},
     "output_type": "display_data"
    },
    {
     "data": {
      "image/png": "[encoded data removed]",
      "text/plain": [
       "<Figure size 432x288 with 4 Axes>"
      ]
     },
     "metadata": {},
     "output_type": "display_data"
    }
   ],
   "source": [
    "y = graphclassAccuracy(pred, labels, 4,[0,1,2,3,4,5,6,7,8,9], [\"Main Exit\",\"pooling_3\",\"pooling_4\",\"dense_3\"])"
   ]
  },
  {
   "cell_type": "code",
   "execution_count": null,
   "metadata": {},
   "outputs": [],
   "source": [
    "#### something is clearly werid with the 0 class. I need to figure out what is happening."
   ]
  }
 ],
 "metadata": {
  "kernelspec": {
   "display_name": "Python 3",
   "language": "python",
   "name": "python3"
  },
  "language_info": {
   "codemirror_mode": {
    "name": "ipython",
    "version": 3
   },
   "file_extension": ".py",
   "mimetype": "text/x-python",
   "name": "python",
   "nbconvert_exporter": "python",
   "pygments_lexer": "ipython3",
   "version": "3.6.7"
  }
 },
 "nbformat": 4,
 "nbformat_minor": 2
}
