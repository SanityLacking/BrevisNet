{
 "cells": [
  {
   "cell_type": "code",
   "execution_count": 2,
   "metadata": {},
   "outputs": [],
   "source": [
    "import tensorflow as tf\n",
    "import numpy as np\n",
    "import sys\n",
    "sys.path.append(\"..\") # Adds higher directory to python modules path.\n",
    "import branchingdnn as branching\n",
    "from branchingdnn.utils import * "
   ]
  },
  {
   "cell_type": "code",
   "execution_count": 3,
   "metadata": {},
   "outputs": [
    {
     "name": "stdout",
     "output_type": "stream",
     "text": [
      "trainSize 45000\n",
      "testSize 10000\n"
     ]
    }
   ],
   "source": [
    "normal_dataset = branching.dataset.prepare.dataset(tf.keras.datasets.cifar10.load_data(),32,5000,22500,(227,227))"
   ]
  },
  {
   "cell_type": "code",
   "execution_count": 29,
   "metadata": {},
   "outputs": [],
   "source": [
    "x = tf.keras.models.load_model('../models/alexNetv6_vanilla_T_2.hdf5', custom_objects={'confidenceScore': confidenceScore,\n",
    "                                                                         'unconfidence': unconfidence,\n",
    "                                                                         'confidenceDifference': confidenceDifference,\n",
    "                                                                         'BranchEndpoint': branching.branches.branch.BranchEndpoint,\n",
    "                                                                         'FeatureDistillation': branching.branches.branch.FeatureDistillation})"
   ]
  },
  {
   "cell_type": "code",
   "execution_count": 30,
   "metadata": {},
   "outputs": [
    {
     "name": "stdout",
     "output_type": "stream",
     "text": [
      "312/312 - 19s - loss: 4.0657 - dense_2_loss: 0.6242 - branch_softmax_loss: 1.5308 - branch_softmax_1_loss: 1.1518 - branch_softmax_2_loss: 0.7589 - dense_2_accuracy: 0.7948 - dense_2_confidenceDifference: 0.0955 - branch_softmax_accuracy: 0.6240 - branch_softmax_confidenceDifference: 0.0548 - branch_softmax_1_accuracy: 0.7307 - branch_softmax_1_confidenceDifference: 0.0603 - branch_softmax_2_accuracy: 0.8082 - branch_softmax_2_confidenceDifference: 0.0702\n"
     ]
    },
    {
     "data": {
      "text/plain": [
       "[4.065739631652832,\n",
       " 0.6242280006408691,\n",
       " 1.5308417081832886,\n",
       " 1.1518110036849976,\n",
       " 0.7588583827018738,\n",
       " 0.7947716116905212,\n",
       " 0.09554122388362885,\n",
       " 0.6239984035491943,\n",
       " 0.05482248589396477,\n",
       " 0.7306690812110901,\n",
       " 0.06027385964989662,\n",
       " 0.8081930875778198,\n",
       " 0.07017481327056885]"
      ]
     },
     "execution_count": 30,
     "metadata": {},
     "output_type": "execute_result"
    }
   ],
   "source": [
    "x.compile(optimizer=tf.optimizers.SGD(lr=0.001), loss='SparseCategoricalCrossentropy', metrics=['accuracy',confidenceDifference],run_eagerly=True)\n",
    "train_ds, test_ds, validation_ds = normal_dataset\n",
    "x.evaluate(test_ds, verbose=2)"
   ]
  },
  {
   "cell_type": "code",
   "execution_count": 31,
   "metadata": {},
   "outputs": [],
   "source": [
    "x = tf.keras.models.load_model('../models/alexNetv6_feat_distill_3.hdf5', custom_objects={'confidenceScore': confidenceScore,\n",
    "                                                                         'unconfidence': unconfidence,\n",
    "                                                                         'confidenceDifference': confidenceDifference,\n",
    "                                                                         'BranchEndpoint': branching.branches.branch.BranchEndpoint,\n",
    "                                                                         'FeatureDistillation': branching.branches.branch.FeatureDistillation,\n",
    "                                                                         'FeatureDistillation_clear': branching.branches.branch.FeatureDistillation_clear})"
   ]
  },
  {
   "cell_type": "code",
   "execution_count": 32,
   "metadata": {},
   "outputs": [
    {
     "name": "stdout",
     "output_type": "stream",
     "text": [
      "Model: \"model_branched\"\n",
      "__________________________________________________________________________________________________\n",
      "Layer (type)                    Output Shape         Param #     Connected to                     \n",
      "==================================================================================================\n",
      "input_1 (InputLayer)            [(None, 227, 227, 3) 0                                            \n",
      "__________________________________________________________________________________________________\n",
      "conv2d (Conv2D)                 (None, 55, 55, 96)   34944       input_1[0][0]                    \n",
      "__________________________________________________________________________________________________\n",
      "batch_normalization (BatchNorma (None, 55, 55, 96)   384         conv2d[0][0]                     \n",
      "__________________________________________________________________________________________________\n",
      "max_pooling2d (MaxPooling2D)    (None, 27, 27, 96)   0           batch_normalization[0][0]        \n",
      "__________________________________________________________________________________________________\n",
      "conv2d_1 (Conv2D)               (None, 27, 27, 256)  614656      max_pooling2d[0][0]              \n",
      "__________________________________________________________________________________________________\n",
      "batch_normalization_1 (BatchNor (None, 27, 27, 256)  1024        conv2d_1[0][0]                   \n",
      "__________________________________________________________________________________________________\n",
      "max_pooling2d_1 (MaxPooling2D)  (None, 13, 13, 256)  0           batch_normalization_1[0][0]      \n",
      "__________________________________________________________________________________________________\n",
      "conv2d_2 (Conv2D)               (None, 13, 13, 384)  885120      max_pooling2d_1[0][0]            \n",
      "__________________________________________________________________________________________________\n",
      "batch_normalization_2 (BatchNor (None, 13, 13, 384)  1536        conv2d_2[0][0]                   \n",
      "__________________________________________________________________________________________________\n",
      "conv2d_3 (Conv2D)               (None, 13, 13, 384)  147840      batch_normalization_2[0][0]      \n",
      "__________________________________________________________________________________________________\n",
      "batch_normalization_3 (BatchNor (None, 13, 13, 384)  1536        conv2d_3[0][0]                   \n",
      "__________________________________________________________________________________________________\n",
      "conv2d_4 (Conv2D)               (None, 13, 13, 256)  98560       batch_normalization_3[0][0]      \n",
      "__________________________________________________________________________________________________\n",
      "batch_normalization_4 (BatchNor (None, 13, 13, 256)  1024        conv2d_4[0][0]                   \n",
      "__________________________________________________________________________________________________\n",
      "branch_MaxPool2D (MaxPooling2D) (None, 13, 13, 96)   0           max_pooling2d[0][0]              \n",
      "__________________________________________________________________________________________________\n",
      "max_pooling2d_2 (MaxPooling2D)  (None, 6, 6, 256)    0           batch_normalization_4[0][0]      \n",
      "__________________________________________________________________________________________________\n",
      "branch_MaxPool2D_1 (MaxPooling2 (None, 6, 6, 96)     0           branch_MaxPool2D[0][0]           \n",
      "__________________________________________________________________________________________________\n",
      "branch_MaxPool2D_2 (MaxPooling2 (None, 6, 6, 256)    0           max_pooling2d_1[0][0]            \n",
      "__________________________________________________________________________________________________\n",
      "flatten (Flatten)               (None, 9216)         0           max_pooling2d_2[0][0]            \n",
      "__________________________________________________________________________________________________\n",
      "branch_conv (Conv2D)            (None, 6, 6, 256)    24832       branch_MaxPool2D_1[0][0]         \n",
      "__________________________________________________________________________________________________\n",
      "branch_conv_1 (Conv2D)          (None, 6, 6, 256)    65792       branch_MaxPool2D_2[0][0]         \n",
      "__________________________________________________________________________________________________\n",
      "dense (Dense)                   (None, 4096)         37752832    flatten[0][0]                    \n",
      "__________________________________________________________________________________________________\n",
      "branch_teaching (FeatureDistill (None, 6, 6, 256)    0           branch_conv[0][0]                \n",
      "                                                                 max_pooling2d_2[0][0]            \n",
      "__________________________________________________________________________________________________\n",
      "branch_teaching_1 (FeatureDisti (None, 6, 6, 256)    0           branch_conv_1[0][0]              \n",
      "                                                                 max_pooling2d_2[0][0]            \n",
      "__________________________________________________________________________________________________\n",
      "dropout (Dropout)               (None, 4096)         0           dense[0][0]                      \n",
      "__________________________________________________________________________________________________\n",
      "branch_flatten (Flatten)        (None, 9216)         0           branch_teaching[0][0]            \n",
      "__________________________________________________________________________________________________\n",
      "branch_flatten_1 (Flatten)      (None, 9216)         0           branch_teaching_1[0][0]          \n",
      "__________________________________________________________________________________________________\n",
      "branch_flatten_2 (Flatten)      (None, 4096)         0           dense[0][0]                      \n",
      "__________________________________________________________________________________________________\n",
      "dense_1 (Dense)                 (None, 4096)         16781312    dropout[0][0]                    \n",
      "__________________________________________________________________________________________________\n",
      "branch124 (Dense)               (None, 124)          1142908     branch_flatten[0][0]             \n",
      "__________________________________________________________________________________________________\n",
      "branch124_1 (Dense)             (None, 124)          1142908     branch_flatten_1[0][0]           \n",
      "__________________________________________________________________________________________________\n",
      "branch124_2 (Dense)             (None, 124)          508028      branch_flatten_2[0][0]           \n",
      "__________________________________________________________________________________________________\n",
      "dropout_1 (Dropout)             (None, 4096)         0           dense_1[0][0]                    \n",
      "__________________________________________________________________________________________________\n",
      "branch64 (Dense)                (None, 64)           8000        branch124[0][0]                  \n",
      "__________________________________________________________________________________________________\n",
      "branch64_1 (Dense)              (None, 64)           8000        branch124_1[0][0]                \n",
      "__________________________________________________________________________________________________\n",
      "branch64_2 (Dense)              (None, 64)           8000        branch124_2[0][0]                \n",
      "__________________________________________________________________________________________________\n",
      "dense_2 (Dense)                 (None, 10)           40970       dropout_1[0][0]                  \n",
      "__________________________________________________________________________________________________\n",
      "branch_output (Dense)           (None, 10)           650         branch64[0][0]                   \n",
      "__________________________________________________________________________________________________\n",
      "targets (InputLayer)            [(None, 1)]          0                                            \n",
      "__________________________________________________________________________________________________\n",
      "branch_output_1 (Dense)         (None, 10)           650         branch64_1[0][0]                 \n",
      "__________________________________________________________________________________________________\n",
      "branch_output_2 (Dense)         (None, 10)           650         branch64_2[0][0]                 \n",
      "__________________________________________________________________________________________________\n",
      "branch_softmax (BranchEndpoint) (None, 10)           0           branch_output[0][0]              \n",
      "                                                                 targets[0][0]                    \n",
      "                                                                 dense_2[0][0]                    \n",
      "__________________________________________________________________________________________________\n",
      "branch_softmax_1 (BranchEndpoin (None, 10)           0           branch_output_1[0][0]            \n",
      "                                                                 targets[0][0]                    \n",
      "                                                                 dense_2[0][0]                    \n",
      "__________________________________________________________________________________________________\n",
      "branch_softmax_2 (BranchEndpoin (None, 10)           0           branch_output_2[0][0]            \n",
      "                                                                 targets[0][0]                    \n",
      "                                                                 dense_2[0][0]                    \n",
      "==================================================================================================\n",
      "Total params: 59,272,156\n",
      "Trainable params: 2,910,418\n",
      "Non-trainable params: 56,361,738\n",
      "__________________________________________________________________________________________________\n"
     ]
    }
   ],
   "source": [
    "x.summary()"
   ]
  },
  {
   "cell_type": "code",
   "execution_count": 20,
   "metadata": {},
   "outputs": [
    {
     "ename": "KeyboardInterrupt",
     "evalue": "",
     "output_type": "error",
     "traceback": [
      "\u001b[1;31m---------------------------------------------------------------------------\u001b[0m",
      "\u001b[1;31mKeyboardInterrupt\u001b[0m                         Traceback (most recent call last)",
      "\u001b[1;32m<ipython-input-20-3c0d76829039>\u001b[0m in \u001b[0;36m<module>\u001b[1;34m\u001b[0m\n\u001b[1;32m----> 1\u001b[1;33m \u001b[0mdataset\u001b[0m \u001b[1;33m=\u001b[0m \u001b[0mbranching\u001b[0m\u001b[1;33m.\u001b[0m\u001b[0mdataset\u001b[0m\u001b[1;33m.\u001b[0m\u001b[0mprepare\u001b[0m\u001b[1;33m.\u001b[0m\u001b[0mdataset_distil\u001b[0m\u001b[1;33m(\u001b[0m\u001b[0mtf\u001b[0m\u001b[1;33m.\u001b[0m\u001b[0mkeras\u001b[0m\u001b[1;33m.\u001b[0m\u001b[0mdatasets\u001b[0m\u001b[1;33m.\u001b[0m\u001b[0mcifar10\u001b[0m\u001b[1;33m.\u001b[0m\u001b[0mload_data\u001b[0m\u001b[1;33m(\u001b[0m\u001b[1;33m)\u001b[0m\u001b[1;33m,\u001b[0m\u001b[1;36m32\u001b[0m\u001b[1;33m,\u001b[0m\u001b[1;36m5000\u001b[0m\u001b[1;33m,\u001b[0m\u001b[1;36m22500\u001b[0m\u001b[1;33m,\u001b[0m\u001b[1;33m(\u001b[0m\u001b[1;36m227\u001b[0m\u001b[1;33m,\u001b[0m\u001b[1;36m227\u001b[0m\u001b[1;33m)\u001b[0m\u001b[1;33m)\u001b[0m\u001b[1;33m\u001b[0m\u001b[1;33m\u001b[0m\u001b[0m\n\u001b[0m",
      "\u001b[1;32m~\\Documents\\MachineLearning\\Keras_branchynet\\branchingdnn\\dataset\\dataset.py\u001b[0m in \u001b[0;36mdataset_distil\u001b[1;34m(dataset, batch_size, validation_size, shuffle_size, input_size)\u001b[0m\n\u001b[0;32m     38\u001b[0m \u001b[1;33m\u001b[0m\u001b[0m\n\u001b[0;32m     39\u001b[0m \u001b[1;33m\u001b[0m\u001b[0m\n\u001b[1;32m---> 40\u001b[1;33m         \u001b[0mtrain_ds_size\u001b[0m \u001b[1;33m=\u001b[0m \u001b[0mlen\u001b[0m\u001b[1;33m(\u001b[0m\u001b[0mlist\u001b[0m\u001b[1;33m(\u001b[0m\u001b[0mtrain_ds\u001b[0m\u001b[1;33m)\u001b[0m\u001b[1;33m)\u001b[0m\u001b[1;33m\u001b[0m\u001b[1;33m\u001b[0m\u001b[0m\n\u001b[0m\u001b[0;32m     41\u001b[0m         \u001b[0mtest_ds_size\u001b[0m \u001b[1;33m=\u001b[0m \u001b[0mlen\u001b[0m\u001b[1;33m(\u001b[0m\u001b[0mlist\u001b[0m\u001b[1;33m(\u001b[0m\u001b[0mtest_ds\u001b[0m\u001b[1;33m)\u001b[0m\u001b[1;33m)\u001b[0m\u001b[1;33m\u001b[0m\u001b[1;33m\u001b[0m\u001b[0m\n\u001b[0;32m     42\u001b[0m         \u001b[0mvalidation_ds_size\u001b[0m \u001b[1;33m=\u001b[0m \u001b[0mlen\u001b[0m\u001b[1;33m(\u001b[0m\u001b[0mlist\u001b[0m\u001b[1;33m(\u001b[0m\u001b[0mvalidation_ds\u001b[0m\u001b[1;33m)\u001b[0m\u001b[1;33m)\u001b[0m\u001b[1;33m\u001b[0m\u001b[1;33m\u001b[0m\u001b[0m\n",
      "\u001b[1;32mc:\\users\\sanity\\appdata\\local\\conda\\conda\\envs\\py36\\lib\\site-packages\\tensorflow\\python\\data\\ops\\iterator_ops.py\u001b[0m in \u001b[0;36m__next__\u001b[1;34m(self)\u001b[0m\n\u001b[0;32m    745\u001b[0m   \u001b[1;32mdef\u001b[0m \u001b[0m__next__\u001b[0m\u001b[1;33m(\u001b[0m\u001b[0mself\u001b[0m\u001b[1;33m)\u001b[0m\u001b[1;33m:\u001b[0m\u001b[1;33m\u001b[0m\u001b[1;33m\u001b[0m\u001b[0m\n\u001b[0;32m    746\u001b[0m     \u001b[1;32mtry\u001b[0m\u001b[1;33m:\u001b[0m\u001b[1;33m\u001b[0m\u001b[1;33m\u001b[0m\u001b[0m\n\u001b[1;32m--> 747\u001b[1;33m       \u001b[1;32mreturn\u001b[0m \u001b[0mself\u001b[0m\u001b[1;33m.\u001b[0m\u001b[0m_next_internal\u001b[0m\u001b[1;33m(\u001b[0m\u001b[1;33m)\u001b[0m\u001b[1;33m\u001b[0m\u001b[1;33m\u001b[0m\u001b[0m\n\u001b[0m\u001b[0;32m    748\u001b[0m     \u001b[1;32mexcept\u001b[0m \u001b[0merrors\u001b[0m\u001b[1;33m.\u001b[0m\u001b[0mOutOfRangeError\u001b[0m\u001b[1;33m:\u001b[0m\u001b[1;33m\u001b[0m\u001b[1;33m\u001b[0m\u001b[0m\n\u001b[0;32m    749\u001b[0m       \u001b[1;32mraise\u001b[0m \u001b[0mStopIteration\u001b[0m\u001b[1;33m\u001b[0m\u001b[1;33m\u001b[0m\u001b[0m\n",
      "\u001b[1;32mc:\\users\\sanity\\appdata\\local\\conda\\conda\\envs\\py36\\lib\\site-packages\\tensorflow\\python\\data\\ops\\iterator_ops.py\u001b[0m in \u001b[0;36m_next_internal\u001b[1;34m(self)\u001b[0m\n\u001b[0;32m    731\u001b[0m           \u001b[0mself\u001b[0m\u001b[1;33m.\u001b[0m\u001b[0m_iterator_resource\u001b[0m\u001b[1;33m,\u001b[0m\u001b[1;33m\u001b[0m\u001b[1;33m\u001b[0m\u001b[0m\n\u001b[0;32m    732\u001b[0m           \u001b[0moutput_types\u001b[0m\u001b[1;33m=\u001b[0m\u001b[0mself\u001b[0m\u001b[1;33m.\u001b[0m\u001b[0m_flat_output_types\u001b[0m\u001b[1;33m,\u001b[0m\u001b[1;33m\u001b[0m\u001b[1;33m\u001b[0m\u001b[0m\n\u001b[1;32m--> 733\u001b[1;33m           output_shapes=self._flat_output_shapes)\n\u001b[0m\u001b[0;32m    734\u001b[0m \u001b[1;33m\u001b[0m\u001b[0m\n\u001b[0;32m    735\u001b[0m       \u001b[1;32mtry\u001b[0m\u001b[1;33m:\u001b[0m\u001b[1;33m\u001b[0m\u001b[1;33m\u001b[0m\u001b[0m\n",
      "\u001b[1;32mc:\\users\\sanity\\appdata\\local\\conda\\conda\\envs\\py36\\lib\\site-packages\\tensorflow\\python\\ops\\gen_dataset_ops.py\u001b[0m in \u001b[0;36miterator_get_next\u001b[1;34m(iterator, output_types, output_shapes, name)\u001b[0m\n\u001b[0;32m   2573\u001b[0m       _result = pywrap_tfe.TFE_Py_FastPathExecute(\n\u001b[0;32m   2574\u001b[0m         \u001b[0m_ctx\u001b[0m\u001b[1;33m,\u001b[0m \u001b[1;34m\"IteratorGetNext\"\u001b[0m\u001b[1;33m,\u001b[0m \u001b[0mname\u001b[0m\u001b[1;33m,\u001b[0m \u001b[0miterator\u001b[0m\u001b[1;33m,\u001b[0m \u001b[1;34m\"output_types\"\u001b[0m\u001b[1;33m,\u001b[0m \u001b[0moutput_types\u001b[0m\u001b[1;33m,\u001b[0m\u001b[1;33m\u001b[0m\u001b[1;33m\u001b[0m\u001b[0m\n\u001b[1;32m-> 2575\u001b[1;33m         \"output_shapes\", output_shapes)\n\u001b[0m\u001b[0;32m   2576\u001b[0m       \u001b[1;32mreturn\u001b[0m \u001b[0m_result\u001b[0m\u001b[1;33m\u001b[0m\u001b[1;33m\u001b[0m\u001b[0m\n\u001b[0;32m   2577\u001b[0m     \u001b[1;32mexcept\u001b[0m \u001b[0m_core\u001b[0m\u001b[1;33m.\u001b[0m\u001b[0m_NotOkStatusException\u001b[0m \u001b[1;32mas\u001b[0m \u001b[0me\u001b[0m\u001b[1;33m:\u001b[0m\u001b[1;33m\u001b[0m\u001b[1;33m\u001b[0m\u001b[0m\n",
      "\u001b[1;31mKeyboardInterrupt\u001b[0m: "
     ]
    }
   ],
   "source": [
    "if not dataset:\n",
    "    dataset = branching.dataset.prepare.dataset_distil(tf.keras.datasets.cifar10.load_data(),32,5000,22500,(227,227))"
   ]
  },
  {
   "cell_type": "code",
   "execution_count": 27,
   "metadata": {},
   "outputs": [],
   "source": [
    "x.compile(optimizer=tf.optimizers.SGD(lr=0.001), loss='SparseCategoricalCrossentropy', metrics=['accuracy',confidenceDifference],run_eagerly=True)"
   ]
  },
  {
   "cell_type": "code",
   "execution_count": 28,
   "metadata": {},
   "outputs": [
    {
     "name": "stdout",
     "output_type": "stream",
     "text": [
      "312/312 - 19s - loss: 106350.4688 - dense_2_loss: 0.6242 - branch_softmax_loss: 1.0999 - dense_2_accuracy: 0.7948 - dense_2_confidenceDifference: 0.0955 - branch_softmax_accuracy: 0.6580 - branch_softmax_confidenceDifference: 0.0683 - branch_teaching_distill: 106347.7500 - branch_softmax_KL: 0.9727\n"
     ]
    },
    {
     "data": {
      "text/plain": [
       "[106350.46875,\n",
       " 0.6242280006408691,\n",
       " 1.0999187231063843,\n",
       " 0.7947716116905212,\n",
       " 0.09554122388362885,\n",
       " 0.6579527258872986,\n",
       " 0.06826221942901611,\n",
       " 106347.75,\n",
       " 0.9727215766906738]"
      ]
     },
     "execution_count": 28,
     "metadata": {},
     "output_type": "execute_result"
    }
   ],
   "source": [
    "train_ds, test_ds, validation_ds = dataset\n",
    "x.evaluate(test_ds, verbose=2)"
   ]
  },
  {
   "cell_type": "markdown",
   "metadata": {},
   "source": [
    "baseline: \n",
    "312/312 - 19s - loss: 3.6760 - dense_2_loss: 0.6242 - branch_softmax_loss: 1.3435 - branch_softmax_1_loss: 1.0038 - branch_softmax_2_loss: 0.7045 - dense_2_accuracy: 0.7948 - dense_2_confidenceDifference: 0.0955 - branch_softmax_accuracy: 0.6202 - branch_softmax_confidenceDifference: 0.0610 - branch_softmax_1_accuracy: 0.7387 - branch_softmax_1_confidenceDifference: 0.0632 - branch_softmax_2_accuracy: 0.8073 - branch_softmax_2_confidenceDifference: 0.0773\n",
    "\n",
    "feature_distil 1 results:\n",
    "\n",
    "312/312 - 19s - loss: 106350.4688 - dense_2_loss: 0.6242 - branch_softmax_loss: 1.0999 - dense_2_accuracy: 0.7948 - dense_2_confidenceDifference: 0.0955 - branch_softmax_accuracy: 0.6580 - branch_softmax_confidenceDifference: 0.0683 - branch_teaching_distill: 106347.7500 - branch_softmax_KL: 0.9727\n",
    "\n",
    "number 2 results:\n",
    "312/312 - 19s - loss: 106322.7031 - dense_2_loss: 0.6242 - branch_softmax_loss: 1.2637 - dense_2_accuracy: 0.7948 - dense_2_confidenceDifference: 0.0955 - branch_softmax_accuracy: 0.6382 - branch_softmax_confidenceDifference: 0.0631 - branch_teaching_distill: 106319.7344 - branch_softmax_KL: 1.0670\n",
    "\n",
    "\n",
    "number 3 results:\n",
    "312/312 - 29s - loss: 166223.5781 - dense_2_loss: 0.6242 - branch_softmax_loss: 1.1222 - branch_softmax_1_loss: 0.8409 - branch_softmax_2_loss: 0.6892 - dense_2_accuracy: 0.7948 - dense_2_confidenceDifference: 0.0955 - branch_softmax_accuracy: 0.6825 - branch_softmax_confidenceDifference: 0.0667 - branch_softmax_1_accuracy: 0.7635 - branch_softmax_1_confidenceDifference: 0.0700 - branch_softmax_2_accuracy: 0.8064 - branch_softmax_2_confidenceDifference: 0.0775 - branch_teaching_distill: 104909.4453 - branch_teaching_1_distill: 61309.5430 - branch_softmax_KL: 0.8163 - branch_softmax_1_KL: 0.3491 - branch_softmax_2_KL: 0.0748"
   ]
  },
  {
   "cell_type": "code",
   "execution_count": 16,
   "metadata": {},
   "outputs": [
    {
     "data": {
      "text/plain": [
       "0.024499999999999966"
      ]
     },
     "execution_count": 16,
     "metadata": {},
     "output_type": "execute_result"
    }
   ],
   "source": [
    "num = 0.6825 - 0.6202 \n",
    "num"
   ]
  },
  {
   "cell_type": "code",
   "execution_count": 43,
   "metadata": {},
   "outputs": [
    {
     "name": "stdout",
     "output_type": "stream",
     "text": [
      "[1, 2, 3, 4]\n",
      "1\n"
     ]
    },
    {
     "data": {
      "text/plain": [
       "2"
      ]
     },
     "execution_count": 43,
     "metadata": {},
     "output_type": "execute_result"
    }
   ],
   "source": [
    "branches = 1\n",
    "teaching_features = [1,2,3,4]\n",
    "if type(teaching_features) is not list:\n",
    "    teaching_features = [teaching_features]\n",
    "print(teaching_features)\n",
    "print(min(branches, len(teaching_features)))\n",
    "y = teaching_features[min(branches, len(teaching_features))]\n",
    "y"
   ]
  },
  {
   "cell_type": "code",
   "execution_count": null,
   "metadata": {},
   "outputs": [],
   "source": []
  }
 ],
 "metadata": {
  "kernelspec": {
   "display_name": "Python 3",
   "language": "python",
   "name": "python3"
  },
  "language_info": {
   "codemirror_mode": {
    "name": "ipython",
    "version": 3
   },
   "file_extension": ".py",
   "mimetype": "text/x-python",
   "name": "python",
   "nbconvert_exporter": "python",
   "pygments_lexer": "ipython3",
   "version": "3.6.7"
  }
 },
 "nbformat": 4,
 "nbformat_minor": 2
}
