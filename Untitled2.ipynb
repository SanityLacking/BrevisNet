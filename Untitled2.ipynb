{
 "cells": [
  {
   "cell_type": "code",
   "execution_count": 31,
   "metadata": {},
   "outputs": [],
   "source": [
    "import numpy as np\n",
    "class eval:\n",
    "    def foo():\n",
    "        return True\n",
    "    def bar(self):\n",
    "        return True\n",
    "    def x():\n",
    "        return eval.foo()"
   ]
  },
  {
   "cell_type": "code",
   "execution_count": 32,
   "metadata": {},
   "outputs": [
    {
     "data": {
      "text/plain": [
       "True"
      ]
     },
     "execution_count": 32,
     "metadata": {},
     "output_type": "execute_result"
    }
   ],
   "source": [
    "eval.foo()"
   ]
  },
  {
   "cell_type": "code",
   "execution_count": 33,
   "metadata": {},
   "outputs": [
    {
     "data": {
      "text/plain": [
       "True"
      ]
     },
     "execution_count": 33,
     "metadata": {},
     "output_type": "execute_result"
    }
   ],
   "source": [
    "e = eval()\n",
    "e.bar()"
   ]
  },
  {
   "cell_type": "code",
   "execution_count": 34,
   "metadata": {},
   "outputs": [
    {
     "data": {
      "text/plain": [
       "True"
      ]
     },
     "execution_count": 34,
     "metadata": {},
     "output_type": "execute_result"
    }
   ],
   "source": [
    "eval.x()"
   ]
  },
  {
   "cell_type": "code",
   "execution_count": 2,
   "metadata": {},
   "outputs": [],
   "source": [
    "import tensorflow as tf"
   ]
  },
  {
   "cell_type": "code",
   "execution_count": 4,
   "metadata": {
    "scrolled": false
   },
   "outputs": [
    {
     "name": "stdout",
     "output_type": "stream",
     "text": [
      "Model: \"alexnet_branched\"\n",
      "__________________________________________________________________________________________________\n",
      "Layer (type)                    Output Shape         Param #     Connected to                     \n",
      "==================================================================================================\n",
      "input_1 (InputLayer)            [(None, 227, 227, 3) 0                                            \n",
      "__________________________________________________________________________________________________\n",
      "conv2d (Conv2D)                 (None, 55, 55, 96)   34944       input_1[0][0]                    \n",
      "__________________________________________________________________________________________________\n",
      "batch_normalization (BatchNorma (None, 55, 55, 96)   384         conv2d[0][0]                     \n",
      "__________________________________________________________________________________________________\n",
      "max_pooling2d (MaxPooling2D)    (None, 27, 27, 96)   0           batch_normalization[0][0]        \n",
      "__________________________________________________________________________________________________\n",
      "conv2d_1 (Conv2D)               (None, 27, 27, 256)  614656      max_pooling2d[0][0]              \n",
      "__________________________________________________________________________________________________\n",
      "batch_normalization_1 (BatchNor (None, 27, 27, 256)  1024        conv2d_1[0][0]                   \n",
      "__________________________________________________________________________________________________\n",
      "max_pooling2d_1 (MaxPooling2D)  (None, 13, 13, 256)  0           batch_normalization_1[0][0]      \n",
      "__________________________________________________________________________________________________\n",
      "conv2d_2 (Conv2D)               (None, 13, 13, 384)  885120      max_pooling2d_1[0][0]            \n",
      "__________________________________________________________________________________________________\n",
      "batch_normalization_2 (BatchNor (None, 13, 13, 384)  1536        conv2d_2[0][0]                   \n",
      "__________________________________________________________________________________________________\n",
      "conv2d_3 (Conv2D)               (None, 13, 13, 384)  147840      batch_normalization_2[0][0]      \n",
      "__________________________________________________________________________________________________\n",
      "batch_normalization_3 (BatchNor (None, 13, 13, 384)  1536        conv2d_3[0][0]                   \n",
      "__________________________________________________________________________________________________\n",
      "conv2d_4 (Conv2D)               (None, 13, 13, 256)  98560       batch_normalization_3[0][0]      \n",
      "__________________________________________________________________________________________________\n",
      "batch_normalization_4 (BatchNor (None, 13, 13, 256)  1024        conv2d_4[0][0]                   \n",
      "__________________________________________________________________________________________________\n",
      "max_pooling2d_2 (MaxPooling2D)  (None, 6, 6, 256)    0           batch_normalization_4[0][0]      \n",
      "__________________________________________________________________________________________________\n",
      "flatten (Flatten)               (None, 9216)         0           max_pooling2d_2[0][0]            \n",
      "__________________________________________________________________________________________________\n",
      "dense (Dense)                   (None, 4096)         37752832    flatten[0][0]                    \n",
      "__________________________________________________________________________________________________\n",
      "dropout (Dropout)               (None, 4096)         0           dense[0][0]                      \n",
      "__________________________________________________________________________________________________\n",
      "dense_1 (Dense)                 (None, 4096)         16781312    dropout[0][0]                    \n",
      "__________________________________________________________________________________________________\n",
      "dropout_1 (Dropout)             (None, 4096)         0           dense_1[0][0]                    \n",
      "__________________________________________________________________________________________________\n",
      "dense_2 (Dense)                 (None, 10)           40970       dropout_1[0][0]                  \n",
      "__________________________________________________________________________________________________\n",
      "branch_flatten (Flatten)        (None, 4096)         0           dense[0][0]                      \n",
      "__________________________________________________________________________________________________\n",
      "branch_flatten_1 (Flatten)      (None, 4096)         0           dense_1[0][0]                    \n",
      "__________________________________________________________________________________________________\n",
      "branch_flatten_2 (Flatten)      (None, 10)           0           dense_2[0][0]                    \n",
      "__________________________________________________________________________________________________\n",
      "branch_output (Dense)           (None, 10)           40970       branch_flatten[0][0]             \n",
      "__________________________________________________________________________________________________\n",
      "branch_output_1 (Dense)         (None, 10)           40970       branch_flatten_1[0][0]           \n",
      "__________________________________________________________________________________________________\n",
      "branch_output_2 (Dense)         (None, 10)           110         branch_flatten_2[0][0]           \n",
      "__________________________________________________________________________________________________\n",
      "branch_softmax (Softmax)        (None, 10)           0           branch_output[0][0]              \n",
      "__________________________________________________________________________________________________\n",
      "branch_softmax_1 (Softmax)      (None, 10)           0           branch_output_1[0][0]            \n",
      "__________________________________________________________________________________________________\n",
      "branch_softmax_2 (Softmax)      (None, 10)           0           branch_output_2[0][0]            \n",
      "==================================================================================================\n",
      "Total params: 56,443,788\n",
      "Trainable params: 56,441,036\n",
      "Non-trainable params: 2,752\n",
      "__________________________________________________________________________________________________\n"
     ]
    }
   ],
   "source": [
    "x = tf.keras.models.load_model(\"models/alexNetv5_alt7_branched.hdf5\")\n",
    "x.summary()"
   ]
  },
  {
   "cell_type": "code",
   "execution_count": 5,
   "metadata": {},
   "outputs": [],
   "source": [
    "dataset = tf.keras.datasets.cifar10.load_data()\n",
    "\n",
    "\n",
    "def augment_images(image, label,label2=\"\"):\n",
    "    # Normalize images to have a mean of 0 and standard deviation of 1\n",
    "    image = tf.image.per_image_standardization(image)\n",
    "    # Resize images from 32x32 to 277x277\n",
    "    image = tf.image.resize(image, (227,227))\n",
    "    return image, label,label\n",
    "\n",
    "def prepareAlexNetDataset(dataset, batch_size =32):\n",
    "    (train_images, train_labels), (test_images, test_labels) = dataset\n",
    "\n",
    "    validation_images, validation_labels = train_images[:5000], train_labels[:5000]\n",
    "    train_ds = tf.data.Dataset.from_tensor_slices((train_images, train_labels))\n",
    "    test_ds = tf.data.Dataset.from_tensor_slices((test_images, test_labels))\n",
    "    validation_ds = tf.data.Dataset.from_tensor_slices((validation_images, validation_labels))\n",
    "\n",
    "    train_ds_size = len(list(train_ds))\n",
    "    train_ds_size = len(list(test_ds))\n",
    "    validation_ds_size = len(list(validation_ds))\n",
    "    train_ds = (train_ds\n",
    "        .map(augment_images)\n",
    "        .shuffle(buffer_size=int(train_ds_size),reshuffle_each_iteration=True)\n",
    "        .batch(batch_size=1, drop_remainder=True))\n",
    "    test_ds = (test_ds\n",
    "        .map(augment_images)\n",
    "        # .shuffle(buffer_size=int(train_ds_size)) ##why would you shuffle the test set?\n",
    "        .batch(batch_size=1, drop_remainder=True))\n",
    "\n",
    "    validation_ds = (validation_ds\n",
    "        .map(augment_images)\n",
    "        # .shuffle(buffer_size=int(train_ds_size))\n",
    "        .batch(batch_size=1, drop_remainder=True))\n",
    "    return train_ds, test_ds, validation_ds\n",
    "train_ds, test_ds, validation_ds = prepareAlexNetDataset(dataset, batch_size=32)"
   ]
  },
  {
   "cell_type": "code",
   "execution_count": 4,
   "metadata": {},
   "outputs": [
    {
     "name": "stdout",
     "output_type": "stream",
     "text": [
      "10000/10000 - 49s - loss: 17.4460 - dense_5_loss: 4.2850 - branch_softmax_loss: 5.1491 - branch_softmax_1_loss: 3.8008 - branch_softmax_2_loss: 4.2111 - dense_5_dense_5_accuracy: 0.7395 - branch_softmax_branch_softmax_accuracy: 0.5051 - branch_softmax_1_branch_softmax_1_accuracy: 0.5742 - branch_softmax_2_branch_softmax_2_accuracy: 0.6708\n"
     ]
    }
   ],
   "source": [
    "test_scores = x.evaluate(test_ds, verbose=2)"
   ]
  },
  {
   "cell_type": "code",
   "execution_count": 15,
   "metadata": {
    "scrolled": false
   },
   "outputs": [
    {
     "name": "stdout",
     "output_type": "stream",
     "text": [
      "Model: \"alexNetv5_branched_redo_branched\"\n",
      "__________________________________________________________________________________________________\n",
      "Layer (type)                    Output Shape         Param #     Connected to                     \n",
      "==================================================================================================\n",
      "input_1 (InputLayer)            [(None, 227, 227, 3) 0                                            \n",
      "__________________________________________________________________________________________________\n",
      "conv2d (Conv2D)                 (None, 55, 55, 96)   34944       input_1[0][0]                    \n",
      "__________________________________________________________________________________________________\n",
      "batch_normalization (BatchNorma (None, 55, 55, 96)   384         conv2d[0][0]                     \n",
      "__________________________________________________________________________________________________\n",
      "max_pooling2d (MaxPooling2D)    (None, 27, 27, 96)   0           batch_normalization[0][0]        \n",
      "__________________________________________________________________________________________________\n",
      "conv2d_1 (Conv2D)               (None, 27, 27, 256)  614656      max_pooling2d[0][0]              \n",
      "__________________________________________________________________________________________________\n",
      "batch_normalization_1 (BatchNor (None, 27, 27, 256)  1024        conv2d_1[0][0]                   \n",
      "__________________________________________________________________________________________________\n",
      "max_pooling2d_1 (MaxPooling2D)  (None, 13, 13, 256)  0           batch_normalization_1[0][0]      \n",
      "__________________________________________________________________________________________________\n",
      "conv2d_2 (Conv2D)               (None, 13, 13, 384)  885120      max_pooling2d_1[0][0]            \n",
      "__________________________________________________________________________________________________\n",
      "batch_normalization_2 (BatchNor (None, 13, 13, 384)  1536        conv2d_2[0][0]                   \n",
      "__________________________________________________________________________________________________\n",
      "conv2d_3 (Conv2D)               (None, 13, 13, 384)  147840      batch_normalization_2[0][0]      \n",
      "__________________________________________________________________________________________________\n",
      "batch_normalization_3 (BatchNor (None, 13, 13, 384)  1536        conv2d_3[0][0]                   \n",
      "__________________________________________________________________________________________________\n",
      "conv2d_4 (Conv2D)               (None, 13, 13, 256)  98560       batch_normalization_3[0][0]      \n",
      "__________________________________________________________________________________________________\n",
      "batch_normalization_4 (BatchNor (None, 13, 13, 256)  1024        conv2d_4[0][0]                   \n",
      "__________________________________________________________________________________________________\n",
      "max_pooling2d_2 (MaxPooling2D)  (None, 6, 6, 256)    0           batch_normalization_4[0][0]      \n",
      "__________________________________________________________________________________________________\n",
      "flatten (Flatten)               (None, 9216)         0           max_pooling2d_2[0][0]            \n",
      "__________________________________________________________________________________________________\n",
      "dense (Dense)                   (None, 4096)         37752832    flatten[0][0]                    \n",
      "__________________________________________________________________________________________________\n",
      "branch_flatten (Flatten)        (None, 69984)        0           max_pooling2d[0][0]              \n",
      "__________________________________________________________________________________________________\n",
      "branch_flatten_1 (Flatten)      (None, 43264)        0           max_pooling2d_1[0][0]            \n",
      "__________________________________________________________________________________________________\n",
      "branch_flatten_2 (Flatten)      (None, 4096)         0           dense[0][0]                      \n",
      "__________________________________________________________________________________________________\n",
      "dropout (Dropout)               (None, 4096)         0           dense[0][0]                      \n",
      "__________________________________________________________________________________________________\n",
      "branch124 (Dense)               (None, 124)          8678140     branch_flatten[0][0]             \n",
      "__________________________________________________________________________________________________\n",
      "branch124_1 (Dense)             (None, 124)          5364860     branch_flatten_1[0][0]           \n",
      "__________________________________________________________________________________________________\n",
      "branch124_2 (Dense)             (None, 124)          508028      branch_flatten_2[0][0]           \n",
      "__________________________________________________________________________________________________\n",
      "dense_1 (Dense)                 (None, 4096)         16781312    dropout[0][0]                    \n",
      "__________________________________________________________________________________________________\n",
      "branch64 (Dense)                (None, 64)           8000        branch124[0][0]                  \n",
      "__________________________________________________________________________________________________\n",
      "branch64_1 (Dense)              (None, 64)           8000        branch124_1[0][0]                \n",
      "__________________________________________________________________________________________________\n",
      "branch64_2 (Dense)              (None, 64)           8000        branch124_2[0][0]                \n",
      "__________________________________________________________________________________________________\n",
      "dropout_1 (Dropout)             (None, 4096)         0           dense_1[0][0]                    \n",
      "__________________________________________________________________________________________________\n",
      "branch_output (Dense)           (None, 10)           650         branch64[0][0]                   \n",
      "__________________________________________________________________________________________________\n",
      "branch_output_1 (Dense)         (None, 10)           650         branch64_1[0][0]                 \n",
      "__________________________________________________________________________________________________\n",
      "branch_output_2 (Dense)         (None, 10)           650         branch64_2[0][0]                 \n",
      "__________________________________________________________________________________________________\n",
      "dense_2 (Dense)                 (None, 10)           40970       dropout_1[0][0]                  \n",
      "__________________________________________________________________________________________________\n",
      "branch_softmax (Softmax)        (None, 10)           0           branch_output[0][0]              \n",
      "__________________________________________________________________________________________________\n",
      "branch_softmax_1 (Softmax)      (None, 10)           0           branch_output_1[0][0]            \n",
      "__________________________________________________________________________________________________\n",
      "branch_softmax_2 (Softmax)      (None, 10)           0           branch_output_2[0][0]            \n",
      "==================================================================================================\n",
      "Total params: 70,938,716\n",
      "Trainable params: 14,576,978\n",
      "Non-trainable params: 56,361,738\n",
      "__________________________________________________________________________________________________\n",
      "10000/10000 - 128s - loss: 97.6195 - dense_2_loss: 17.4315 - branch_softmax_loss: 26.4738 - branch_softmax_1_loss: 40.6764 - branch_softmax_2_loss: 13.0379 - dense_2_accuracy: 0.5041 - branch_softmax_accuracy: 0.3593 - branch_softmax_1_accuracy: 0.3603 - branch_softmax_2_accuracy: 0.4548\n"
     ]
    }
   ],
   "source": [
    "x = tf.keras.models.load_model(\"models/alexNetv5_branched_redo_branched_branched.hdf5.hdf5\")\n",
    "x.summary()\n",
    "x.compile(loss='sparse_categorical_crossentropy', optimizer=tf.optimizers.SGD(lr=0.001, momentum=0.9), metrics=['accuracy'])\n",
    "test_scores = x.evaluate(test_ds, verbose=2)"
   ]
  },
  {
   "cell_type": "code",
   "execution_count": null,
   "metadata": {},
   "outputs": [],
   "source": []
  }
 ],
 "metadata": {
  "kernelspec": {
   "display_name": "Python 3",
   "language": "python",
   "name": "python3"
  },
  "language_info": {
   "codemirror_mode": {
    "name": "ipython",
    "version": 3
   },
   "file_extension": ".py",
   "mimetype": "text/x-python",
   "name": "python",
   "nbconvert_exporter": "python",
   "pygments_lexer": "ipython3",
   "version": "3.6.7"
  }
 },
 "nbformat": 4,
 "nbformat_minor": 2
}
