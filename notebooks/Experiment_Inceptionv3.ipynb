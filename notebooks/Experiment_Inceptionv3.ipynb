{
 "cells": [
  {
   "cell_type": "markdown",
   "id": "f6ee15a3-73b2-488d-b909-6949cf64c745",
   "metadata": {},
   "source": [
    "# Training and evaluation notebook for InceptionV3 based Brevis Model.\n",
    "<HR>\n",
    "Models are trained on the CIFAR10 dataset, and uses CIFAR100 as an OOD dataset. <br>\n",
    "    2 models are trained, one with branches using BrevisEnergy Loss and one using Cross entropy for all exits. <br>\n",
    "    \n",
    "    \n"
   ]
  },
  {
   "cell_type": "code",
   "execution_count": 5,
   "id": "146f7bc4-1494-408c-8e50-436ce46c7d44",
   "metadata": {},
   "outputs": [],
   "source": [
    "import tensorflow as tf\n",
    "import numpy as np\n",
    "from tensorflow import keras\n",
    "from tensorflow.keras import layers\n",
    "import pandas as pd\n",
    "import matplotlib.pyplot as plt\n",
    "import sys\n",
    "sys.path.append(\"..\") # Adds higher directory to python modules path.\n",
    "import os\n",
    "import numpy as np\n",
    "import sys\n",
    "import os\n",
    "\n",
    "from skimage.filters import gaussian as gblur\n",
    "from PIL import Image as PILImage\n",
    "\n",
    "sys.path.append(\"..\") # Adds higher directory to python modules path.\n",
    "import brevis\n",
    "from brevis import branches\n",
    "from brevis import evaluate\n",
    "import tensorflow_probability as tfp\n",
    "# os.environ['TF_DETERMINISTIC_OPS'] = '1'"
   ]
  },
  {
   "cell_type": "markdown",
   "id": "30c256da-228a-46e2-b6ec-f1b0363b8b59",
   "metadata": {},
   "source": [
    "### load datasets\n",
    "Inception is initially trained using 224x224x3 image sizes, and because of its convolution process it can't accept CIFAR10 images at their default resolution, so we have scaled the images up to the default size for inception.\n",
    "<hr>"
   ]
  },
  {
   "cell_type": "code",
   "execution_count": 6,
   "id": "efa29a9a-2c5a-4a7f-a767-7b4b406e00fb",
   "metadata": {},
   "outputs": [
    {
     "name": "stdout",
     "output_type": "stream",
     "text": [
      "augment Dataset\n",
      "targetsis : False\n",
      "trainSize 45000\n",
      "testSize 10000\n"
     ]
    }
   ],
   "source": [
    "train_ds, test_ds, validation_ds = brevis.dataset.prepare.dataset(tf.keras.datasets.cifar10.load_data(),32,5000,shuffle_size=15000,input_size=(224,224),include_targets=False,num_outputs = 10,reshuffle=True)"
   ]
  },
  {
   "cell_type": "code",
   "execution_count": 7,
   "id": "ada7c6b5-4bbf-437f-bb76-1a5dcab41011",
   "metadata": {
    "tags": []
   },
   "outputs": [
    {
     "name": "stdout",
     "output_type": "stream",
     "text": [
      "augment Dataset\n",
      "targetsis : False\n",
      "trainSize 45000\n",
      "testSize 10000\n"
     ]
    }
   ],
   "source": [
    "# import tensorflow_datasets as tfds\n",
    "# ds = tfds.load('svhn_cropped', split='train', shuffle_files=True)\n",
    "# assert isinstance(ds, tf.data.Dataset)\n",
    "train_ds100, test_ds100, validation_ds100 = brevis.dataset.prepare.dataset(tf.keras.datasets.cifar100.load_data(label_mode=\"fine\"),32,5000,shuffle_size=15000,input_size=(224,224),include_targets=False,num_outputs = 100,reshuffle=True)"
   ]
  },
  {
   "cell_type": "markdown",
   "id": "27862ed3-0328-4282-98d5-5abf95e4e70e",
   "metadata": {},
   "source": [
    "## Initialize functions for building the loss functions \n",
    "<hr>"
   ]
  },
  {
   "cell_type": "code",
   "execution_count": 8,
   "id": "706c314f-13ba-492c-b15d-18d67e2c7cf5",
   "metadata": {},
   "outputs": [],
   "source": [
    "class lambda_update(tf.keras.callbacks.Callback):\n",
    "    def __init__(self, annealing_max,  lambda_t=0, max_t=1):\n",
    "        self.start_val = tf.Variable(initial_value=lambda_t, dtype=tf.float32) \n",
    "        \n",
    "        self.lambda_t = tf.Variable(initial_value=lambda_t, dtype=tf.float32) #updates each epoch\n",
    "        self.max_t = tf.Variable(initial_value=max_t, dtype=tf.float32)\n",
    "        self.annealing_max = tf.Variable(initial_value=annealing_max, dtype=tf.float32)\n",
    "\n",
    "    def on_epoch_begin(self, epoch, logs={}): #needs to be on begin, otherwise the epoch update won't increase the value from 0 to 0.1 till the 3rd epoch...\n",
    "        val = tf.reduce_min([self.max_t, tf.cast(epoch+self.start_val, tf.dtypes.float32) / tf.cast(self.annealing_max, tf.dtypes.float32)])\n",
    "        tf.print(\"annealing coef updated to:\", val)\n",
    "        self.lambda_t.assign(val)\n"
   ]
  },
  {
   "cell_type": "code",
   "execution_count": 9,
   "id": "f338aa19-d7ed-4f2d-b7df-049c6c6cf534",
   "metadata": {},
   "outputs": [],
   "source": [
    "def exp_evidence(logits): \n",
    "    return tf.exp(tf.clip_by_value(logits/10,-10,10))\n",
    "\n",
    "def KL(alpha,K):\n",
    "    # print(\"K:\",K)\n",
    "    beta=tf.constant(np.ones((1,K)),dtype=tf.float32)\n",
    "    S_alpha = tf.reduce_sum(alpha,axis=1,keepdims=True)\n",
    "    S_beta = tf.reduce_sum(beta,axis=1,keepdims=True)\n",
    "    lnB = tf.compat.v1.lgamma(S_alpha) - tf.reduce_sum(tf.compat.v1.lgamma(alpha),axis=1,keepdims=True)\n",
    "    lnB_uni = tf.reduce_sum(tf.compat.v1.lgamma(beta),axis=1,keepdims=True) - tf.compat.v1.lgamma(S_beta)\n",
    "    dg0 = tf.compat.v1.digamma(S_alpha)\n",
    "    dg1 = tf.compat.v1.digamma(alpha)\n",
    "    kl = tf.reduce_sum((alpha - beta)*(dg1-dg0),axis=1,keepdims=True) + lnB + lnB_uni\n",
    "    return kl\n",
    "\n",
    "def _KL(alphas, target_alphas,  precision=None, target_precision=None, epsilon=1e-8):\n",
    "    '''\n",
    "    New KL divergence function. \n",
    "    '''\n",
    "    target_alphas = tf.cast(target_alphas,tf.float32)\n",
    "    alphas = tf.cast(alphas,tf.float32)\n",
    "    if not precision:\n",
    "        precision = tf.reduce_sum(alphas, axis=1, keepdims=True)\n",
    "    if not target_precision:\n",
    "        target_precision = tf.reduce_sum(target_alphas, axis=1, keepdims=True)\n",
    "    precision = tf.cast(precision,tf.float32)\n",
    "    target_precision = tf.cast(target_precision,tf.float32)\n",
    "    \n",
    "    precision_term = tf.compat.v1.lgamma(target_precision) - tf.compat.v1.lgamma(precision)\n",
    "    alphas_term = tf.reduce_sum(\n",
    "        tf.compat.v1.lgamma(alphas + epsilon)\n",
    "        - tf.compat.v1.lgamma(target_alphas + epsilon)\n",
    "        + (target_alphas - alphas)\n",
    "        * (\n",
    "            tf.compat.v1.digamma(target_alphas + epsilon)\n",
    "            - tf.compat.v1.digamma(target_precision + epsilon)\n",
    "        ),\n",
    "        axis=1,\n",
    "        keepdims=True,\n",
    "    )\n",
    "    cost = tf.squeeze(precision_term + alphas_term)\n",
    "    return cost\n",
    "\n",
    "def reverse_kl(alphas, target_alphas,  precision=None, target_precision=None, epsilon=1e-8):\n",
    "    return _KL(target_alphas,alphas, precision=None, target_precision=None, epsilon=1e-8)\n",
    "\n",
    "def DirichletKLLoss(labels, logits, reverse=True):\n",
    "    # alpha = tf.exp(logits)\n",
    "    alpha = tf.exp(tf.clip_by_value(logits/10,-10,10))\n",
    "    target_concentration = tf.reduce_sum(alpha,axis=1,keepdims=True)\n",
    "    target_alphas = (tf.ones_like(alpha) + (target_concentration * labels))\n",
    "    alpha = alpha + 1\n",
    "    if reverse:\n",
    "        cost = reverse_kl(alpha, target_alphas)\n",
    "    else:\n",
    "        cost = _KL(alpha, target_alphas)\n",
    "    if tf.math.is_nan(tf.reduce_sum(cost)):\n",
    "        tf.print(\"logits\",logits, summarize=-1)\n",
    "        tf.print(\"alpha\",alpha, summarize=-1)\n",
    "        tf.print(\"cost\", cost, summarize=-1)\n",
    "    return cost"
   ]
  },
  {
   "cell_type": "code",
   "execution_count": 10,
   "id": "396c6f15-e240-4980-bb3f-3020250a12b2",
   "metadata": {
    "tags": []
   },
   "outputs": [],
   "source": [
    "from scipy.special import logsumexp\n",
    "\n",
    "def loss_wrapper(lambda_callback: lambda_update):\n",
    "    ''' Loss function of Evidential Dirichlet Networks\n",
    "        Expected Mean Square Error + KL divergence\n",
    "    '''\n",
    "    def custom_loss_function(p, logits):\n",
    "    #     alpha = alpha + 1\n",
    "        evidence = exp_evidence(logits)\n",
    "        alpha = evidence + 1\n",
    "\n",
    "        S = tf.reduce_sum(alpha,axis=1,keepdims=True) \n",
    "        E = alpha - 1\n",
    "        m = alpha / S\n",
    "        A = tf.reduce_sum((p-m)**2, axis=1, keepdims=True) \n",
    "        B = tf.reduce_sum(alpha*(S-alpha)/(S*S*(S+1)), axis=1, keepdims=True) \n",
    "        # tf.print(annealing_coef)\n",
    "        # annealing_coef = \n",
    "        annealing_coef =  lambda_callback.lambda_t\n",
    "        annealing_coef =  0.0001\n",
    "        alp = E*(1-p) + 1 \n",
    "        C =   annealing_coef * KL(p,alpha)\n",
    "        return (A + B) + C\n",
    "    return custom_loss_function\n",
    "\n",
    "\n",
    "def brevisEnergy(lambda_callback: lambda_update):\n",
    "    ''' Proposed Loss function for BrevisNet branch classifiers\n",
    "        consists of the expected mean square error loss + reverse dirichlet KL + regularizing dirichlet entropy mean\n",
    "    '''\n",
    "    def brevisEnergy(p, logits):\n",
    "        # evidence = tf.exp(logits)\n",
    "        evidence = tf.exp(tf.clip_by_value(logits/10,-10,10))\n",
    "        alpha = evidence + 1\n",
    "        S = tf.reduce_sum(alpha,axis=1,keepdims=True) \n",
    "        E = alpha - 1\n",
    "        m = alpha / S\n",
    "        A = tf.reduce_sum((p-m)**2, axis=1, keepdims=True) \n",
    "        B = tf.reduce_sum(alpha*(S-alpha)/(S*S*(S+1)), axis=1, keepdims=True) \n",
    "        annealing_coef =  lambda_callback.lambda_t\n",
    "        alp = E*(1-p) + 1 \n",
    "        C =   annealing_coef * DirichletKLLoss(p,logits, True)\n",
    "        D = 0.0001 * -tf.reduce_mean(tfp.distributions.Dirichlet(alpha).entropy()) ###entropy of the dirichlet distribution as a smoothing regularizer. \n",
    "        return (A+B) + C + D\n",
    "    return  brevisEnergy\n"
   ]
  },
  {
   "cell_type": "markdown",
   "id": "7c5b58a6-68ec-4362-bc9f-14311dd22ddd",
   "metadata": {},
   "source": [
    "## Build the Model\n",
    "<hr>"
   ]
  },
  {
   "cell_type": "code",
   "execution_count": 17,
   "id": "0ee6172f-ad71-4611-9417-0421ff9b7b3f",
   "metadata": {},
   "outputs": [
    {
     "name": "stdout",
     "output_type": "stream",
     "text": [
      "1407/1407 [==============================] - 297s 206ms/step - loss: 0.4282 - accuracy: 0.8631 - val_loss: 0.1682 - val_accuracy: 0.9442\n",
      "313/313 [==============================] - 17s 53ms/step - loss: 0.1892 - accuracy: 0.9394\n"
     ]
    }
   ],
   "source": [
    "base_model = tf.keras.applications.inception_v3.InceptionV3(input_shape=(224, 224, 3),\n",
    "     weights='imagenet',include_top=False)\n",
    "\n",
    "\n",
    "x = base_model.output\n",
    "x = tf.keras.layers.GlobalAveragePooling2D()(x)\n",
    "x = tf.keras.layers.Flatten()(x)\n",
    "x = tf.keras.layers.Dense(1024, activation=\"relu\")(x)\n",
    "x = tf.keras.layers.Dense(512, activation=\"relu\")(x)\n",
    "x = tf.keras.layers.Dense(10, activation=\"softmax\", name=\"classification\")(x)\n",
    "\n",
    "model = tf.keras.models.Model(inputs=base_model.input, outputs=x)\n",
    "\n",
    "\n",
    "model.compile(optimizer='SGD', \n",
    "                loss='categorical_crossentropy',\n",
    "                metrics = ['accuracy'])\n",
    "\n",
    "# model.summary()\n",
    "# train_ds, test_ds, validation_ds = prepareDataset(32)\n",
    "\n",
    "EPOCHS = 1\n",
    "for i in range(EPOCHS):\n",
    "    history = model.fit(train_ds, epochs=EPOCHS, validation_data = validation_ds, batch_size=32)\n",
    "    loss, accuracy = model.evaluate(test_ds, batch_size=32)\n",
    "    model.save(\"inception_finetuned.hdf5\")"
   ]
  },
  {
   "cell_type": "code",
   "execution_count": 38,
   "id": "ced7c27f-d781-4005-9079-a6e96369bd6a",
   "metadata": {
    "tags": []
   },
   "outputs": [
    {
     "name": "stdout",
     "output_type": "stream",
     "text": [
      "313/313 [==============================] - 19s 54ms/step - loss: 0.1502 - accuracy: 0.9585\n",
      "WARNING:tensorflow:From C:\\Users\\Sanity\\AppData\\Local\\conda\\conda\\envs\\py36\\lib\\site-packages\\tensorflow\\python\\ops\\nn_ops.py:5214: tensor_shape_from_node_def_name (from tensorflow.python.framework.graph_util_impl) is deprecated and will be removed in a future version.\n",
      "Instructions for updating:\n",
      "Use `tf.compat.v1.graph_util.tensor_shape_from_node_def_name`\n",
      "FLOPS: 5.7 G\n"
     ]
    }
   ],
   "source": [
    "# ### from scratch model\n",
    "\n",
    "import random\n",
    "seed = 42\n",
    "random.seed(seed)\n",
    "tf.random.set_seed(seed)\n",
    "np.random.seed(seed)\n",
    "# model.save('./models/cifaroutlier_EDL_adam.hdf5')\n",
    "# loss = kl_loss(lambda_callback)\n",
    "# loss = brevisEnergy(lambda_callback)\n",
    "loss = keras.losses.CategoricalCrossentropy(from_logits=False)\n",
    "\n",
    "earlyStop = tf.keras.callbacks.EarlyStopping(monitor=\"val_accuracy\",patience=4,restore_best_weights=True)\n",
    "\n",
    "# _base_model = tf.keras.applications.inception_v3.InceptionV3(input_shape=(224, 224, 3),\n",
    "#      weights='imagenet',include_top=False)\n",
    "\n",
    "# x = _base_model.output\n",
    "# x = tf.keras.layers.GlobalAveragePooling2D()(x)\n",
    "# x = tf.keras.layers.Flatten()(x)\n",
    "# x = tf.keras.layers.Dense(1024, activation=\"relu\")(x)\n",
    "# x = tf.keras.layers.Dense(512, activation=\"relu\")(x)\n",
    "# x = tf.keras.layers.Dense(10, activation=\"softmax\", name=\"classification\")(x)\n",
    "\n",
    "# base_model = tf.keras.models.Model(inputs=_base_model.input, outputs=x)\n",
    "# base_model.compile(optimizer=tf.optimizers.SGD(learning_rate=0.001, momentum=0.9),\n",
    "#               loss=loss,\n",
    "#               metrics=['accuracy'])\n",
    "# history = base_model.fit(train_ds, validation_data=validation_ds, epochs=30,callbacks=[lambda_callback,earlyStop])\n",
    "\n",
    "\n",
    "base_model = keras.models.load_model(\"./inception_finetuned.hdf5\")\n",
    "base_model.compile(optimizer=tf.optimizers.SGD(learning_rate=0.001, momentum=0.9),\n",
    "              # tf.keras.optimizers.Adam(),\n",
    "              # tf.optimizers.SGD(lr=0.001, momentum=0.9)\n",
    "              loss=loss,\n",
    "              metrics=['accuracy'])\n",
    "\n",
    "base_model.evaluate(test_ds)\n",
    "from keras_flops import get_flops    \n",
    "flops = get_flops(base_model, batch_size=1)\n",
    "print(f\"FLOPS: {flops / 10 ** 9:.03} G\")\n",
    "    "
   ]
  },
  {
   "cell_type": "markdown",
   "id": "f0616635-a453-410c-bac6-ad9ca2b4efe4",
   "metadata": {},
   "source": [
    "## Branch the model\n",
    "First we will train the BrevisNet version of the model with BrevisEnergy loss\n",
    "<hr>"
   ]
  },
  {
   "cell_type": "code",
   "execution_count": 18,
   "id": "0228e30c-4ece-4552-832e-bd0d01c50ea6",
   "metadata": {},
   "outputs": [],
   "source": [
    "def _branch_flat(prevLayer, targets=None, teacher_sm = None, teaching_features=None):\n",
    "    \"\"\" Add a new branch to a model connecting at the output of prevLayer. \n",
    "        NOTE: use the substring \"branch\" in all names for branch nodes. this is used as an identifier of the branching layers as opposed to the main branch layers for training\n",
    "    \"\"\" \n",
    "#     branchLayer = keras.layers.Flatten(name=tf.compat.v1.get_default_graph().unique_name(\"branch_flatten\"))(prevLayer)\n",
    "#     branchLayer = keras.layers.Dense(124, activation=\"relu\",name=tf.compat.v1.get_default_graph().unique_name(\"branch124\"))(branchLayer)\n",
    "#     branchLayer = keras.layers.Dense(64, activation=\"relu\",name=tf.compat.v1.get_default_graph().unique_name(\"branch64\"))(branchLayer)\n",
    "#     output = keras.layers.Dense(10, name=tf.compat.v1.get_default_graph().unique_name(\"branch_exit\"))(branchLayer)\n",
    "    \n",
    "    branchLayer = layers.Flatten(name=tf.compat.v1.get_default_graph().unique_name(\"branch_flatten\"))(prevLayer)\n",
    "    branchLayer = layers.Dense(1024, activation=\"relu\",name=tf.compat.v1.get_default_graph().unique_name(\"branch1024\"))(branchLayer)\n",
    "    branchLayer = layers.Dense(512, activation=\"relu\",name=tf.compat.v1.get_default_graph().unique_name(\"branch512\"))(branchLayer)\n",
    "    # output = branch.CrossEntropyEndpoint(targets.shape[-1], name=tf.compat.v1.get_default_graph().unique_name(\"branch_softmax\"))(branchLayer, targets)\n",
    "    output = keras.layers.Dense(10, name=tf.compat.v1.get_default_graph().unique_name(\"branch_exit\"))(branchLayer)\n",
    "    output = (layers.Softmax(name=tf.compat.v1.get_default_graph().unique_name(\"branch_softmax\"))(output))\n",
    "    return output\n",
    "\n",
    "def _branch_conv1(prevLayer, targets=None, teacher_sm = None, teaching_features=None):\n",
    "    \"\"\" Add a new branch to a model connecting at the output of prevLayer. \n",
    "        NOTE: use the substring \"branch\" in all names for branch nodes. this is used as an identifier of the branching layers as opposed to the main branch layers for training\n",
    "    \"\"\" \n",
    "#     branchLayer = keras.layers.Flatten(name=tf.compat.v1.get_default_graph().unique_name(\"branch_flatten\"))(prevLayer)\n",
    "#     branchLayer = keras.layers.Dense(124, activation=\"relu\",name=tf.compat.v1.get_default_graph().unique_name(\"branch124\"))(branchLayer)\n",
    "#     branchLayer = keras.layers.Dense(64, activation=\"relu\",name=tf.compat.v1.get_default_graph().unique_name(\"branch64\"))(branchLayer)\n",
    "#     output = keras.layers.Dense(10, name=tf.compat.v1.get_default_graph().unique_name(\"branch_exit\"))(branchLayer)\n",
    "    branchLayer = keras.layers.Conv2D(filters=64, kernel_size=(1,1), strides=(1,1), activation='relu',name=tf.compat.v1.get_default_graph().unique_name(\"branch_conv2d\"), input_shape=(prevLayer.shape))(prevLayer)\n",
    "    branchLayer = keras.layers.BatchNormalization(name=tf.compat.v1.get_default_graph().unique_name(\"branch_batchnorm\"))(branchLayer)  \n",
    "    branchLayer = keras.layers.Conv2D(filters=64, kernel_size=(1,1), strides=(1,1), activation='relu',name=tf.compat.v1.get_default_graph().unique_name(\"branch_conv2d\"), input_shape=(branchLayer.shape))(branchLayer)\n",
    "    branchLayer = keras.layers.BatchNormalization(name=tf.compat.v1.get_default_graph().unique_name(\"branch_batchnorm\"))(branchLayer)  \n",
    "    # branchLayer = keras.layers.MaxPool2D(pool_size=(3,3), strides=(2,2),name=tf.compat.v1.get_default_graph().unique_name(\"branch_maxpool\"))(branchLayer)\n",
    "    # branchLayer = keras.layers.Dropout(0.2,name=tf.compat.v1.get_default_graph().unique_name(\"branch_dropout\"))(branchLayer)\n",
    "    branchLayer = keras.layers.Conv2D(filters=256, kernel_size=(1,1), strides=(2,2), activation='relu',name=tf.compat.v1.get_default_graph().unique_name(\"branch_conv2d\"), input_shape=(branchLayer.shape))(branchLayer)\n",
    "    branchLayer = keras.layers.BatchNormalization(name=tf.compat.v1.get_default_graph().unique_name(\"branch_batchnorm\"))(branchLayer)\n",
    "    # branchLayer = keras.layers.MaxPool2D(pool_size=(3,3), strides=(2,2),name=tf.compat.v1.get_default_graph().unique_name(\"branch_maxpool\"))(branchLayer)\n",
    "    # branchLayer = keras.layers.Dropout(0.2,name=tf.compat.v1.get_default_graph().unique_name(\"branch_dropout\"))(branchLayer)\n",
    "    branchLayer = layers.Flatten(name=tf.compat.v1.get_default_graph().unique_name(\"branch_flatten\"))(branchLayer)\n",
    "    branchLayer = layers.Dense(1024,activation='relu',name=tf.compat.v1.get_default_graph().unique_name(\"branch_dense\"))(branchLayer)\n",
    "    branchLayer = keras.layers.Dropout(0.2,name=tf.compat.v1.get_default_graph().unique_name(\"branch_dropout\"))(branchLayer)\n",
    "    branchLayer = layers.Dense(512,activation='relu',name=tf.compat.v1.get_default_graph().unique_name(\"branch_dense\"))(branchLayer)\n",
    "    output = keras.layers.Dense(10, name=tf.compat.v1.get_default_graph().unique_name(\"branch_exit\"))(branchLayer)\n",
    "    # output = (layers.Softmax(name=tf.compat.v1.get_default_graph().unique_name(\"branch_softmax\"))(output))\n",
    "    return output\n",
    "\n",
    "def _branch_conv2(prevLayer, targets=None, teacher_sm = None, teaching_features=None):\n",
    "    \"\"\" Add a new branch to a model connecting at the output of prevLayer. \n",
    "        NOTE: use the substring \"branch\" in all names for branch nodes. this is used as an identifier of the branching layers as opposed to the main branch layers for training\n",
    "    \"\"\" \n",
    "#     branchLayer = keras.layers.Flatten(name=tf.compat.v1.get_default_graph().unique_name(\"branch_flatten\"))(prevLayer)\n",
    "#     branchLayer = keras.layers.Dense(124, activation=\"relu\",name=tf.compat.v1.get_default_graph().unique_name(\"branch124\"))(branchLayer)\n",
    "#     branchLayer = keras.layers.Dense(64, activation=\"relu\",name=tf.compat.v1.get_default_graph().unique_name(\"branch64\"))(branchLayer)\n",
    "#     output = keras.layers.Dense(10, name=tf.compat.v1.get_default_graph().unique_name(\"branch_exit\"))(branchLayer)\n",
    "    branchLayer = keras.layers.Conv2D(filters=128, kernel_size=(1,1), strides=(1,1), activation='relu',name=tf.compat.v1.get_default_graph().unique_name(\"branch_conv2d\"), input_shape=(prevLayer.shape))(prevLayer)\n",
    "    branchLayer = keras.layers.BatchNormalization(name=tf.compat.v1.get_default_graph().unique_name(\"branch_batchnorm\"))(branchLayer)  \n",
    "    branchLayer = keras.layers.Conv2D(filters=128, kernel_size=(1,1), strides=(1,1), activation='relu',name=tf.compat.v1.get_default_graph().unique_name(\"branch_conv2d\"), input_shape=(branchLayer.shape))(branchLayer)\n",
    "    branchLayer = keras.layers.BatchNormalization(name=tf.compat.v1.get_default_graph().unique_name(\"branch_batchnorm\"))(branchLayer)  \n",
    "    branchLayer = keras.layers.MaxPool2D(pool_size=(3,3), strides=(2,2),name=tf.compat.v1.get_default_graph().unique_name(\"branch_maxpool\"))(branchLayer)\n",
    "    # branchLayer = keras.layers.Dropout(0.2,name=tf.compat.v1.get_default_graph().unique_name(\"branch_dropout\"))(branchLayer)\n",
    "    branchLayer = keras.layers.Conv2D(filters=512, kernel_size=(1,1), strides=(1,1), activation='relu',name=tf.compat.v1.get_default_graph().unique_name(\"branch_conv2d\"), input_shape=(branchLayer.shape))(branchLayer)\n",
    "    branchLayer = keras.layers.BatchNormalization(name=tf.compat.v1.get_default_graph().unique_name(\"branch_batchnorm\"))(branchLayer)\n",
    "    branchLayer = keras.layers.MaxPool2D(pool_size=(3,3), strides=(2,2),name=tf.compat.v1.get_default_graph().unique_name(\"branch_maxpool\"))(branchLayer)\n",
    "    # branchLayer = keras.layers.Dropout(0.2,name=tf.compat.v1.get_default_graph().unique_name(\"branch_dropout\"))(branchLayer)\n",
    "    branchLayer = layers.Flatten(name=tf.compat.v1.get_default_graph().unique_name(\"branch_flatten\"))(branchLayer)\n",
    "    branchLayer = layers.Dense(1024,activation='relu',name=tf.compat.v1.get_default_graph().unique_name(\"branch_dense\"))(branchLayer)\n",
    "    branchLayer = keras.layers.Dropout(0.2,name=tf.compat.v1.get_default_graph().unique_name(\"branch_dropout\"))(branchLayer)\n",
    "    branchLayer = layers.Dense(512,activation='relu',name=tf.compat.v1.get_default_graph().unique_name(\"branch_dense\"))(branchLayer)\n",
    "    output = keras.layers.Dense(10, name=tf.compat.v1.get_default_graph().unique_name(\"branch_exit\"))(branchLayer)\n",
    "    # output = (layers.Softmax(name=tf.compat.v1.get_default_graph().unique_name(\"branch_softmax\"))(output))\n",
    "    return output"
   ]
  },
  {
   "cell_type": "code",
   "execution_count": 31,
   "id": "d9612187-a7ff-405f-a284-59be37d081c5",
   "metadata": {},
   "outputs": [
    {
     "name": "stdout",
     "output_type": "stream",
     "text": [
      "Matching Branchpoint by id number\n",
      "Matching Branchpoint by name\n",
      "add Branch to branch point  mixed0\n",
      "add Branch to branch point  mixed1\n",
      "KerasTensor(type_spec=TensorSpec(shape=(None, 224, 224, 3), dtype=tf.float32, name='input_1'), name='input_1', description=\"created by layer 'input_1'\")\n",
      "[<KerasTensor: shape=(None, 10) dtype=float32 (created by layer 'classification')>, <KerasTensor: shape=(None, 10) dtype=float32 (created by layer 'branch_exit')>, <KerasTensor: shape=(None, 10) dtype=float32 (created by layer 'branch_exit_1')>]\n",
      "branch added <brevis.core_v2.BranchModel object at 0x0000015C899A6888>\n",
      "\n",
      "preset: Other\n"
     ]
    }
   ],
   "source": [
    "import random\n",
    "seed = 42\n",
    "random.seed(seed)\n",
    "tf.random.set_seed(seed)\n",
    "np.random.seed(seed)\n",
    "tf.keras.backend.clear_session()\n",
    "\n",
    "\n",
    "# model = tf.keras.models.load_model('./models/resnet50_finetuned_brev.hdf5')\n",
    "# lambda_callback = lambda_update(10,0,max_t = .5, starting_epoch =1)\n",
    "\n",
    "class lambda_update(tf.keras.callbacks.Callback):\n",
    "    def __init__(self, annealing_max,  lambda_t=0, max_t=1, starting_epoch = 0):\n",
    "        self.starting_epoch = starting_epoch\n",
    "        self.start_val = tf.Variable(initial_value=lambda_t, dtype=tf.float32) \n",
    "        \n",
    "        self.lambda_t = tf.Variable(initial_value=lambda_t, dtype=tf.float32) #updates each epoch\n",
    "        self.max_t = tf.Variable(initial_value=max_t, dtype=tf.float32)\n",
    "        self.annealing_max = tf.Variable(initial_value=annealing_max, dtype=tf.float32)\n",
    "\n",
    "    def on_epoch_begin(self, epoch, logs={}): #needs to be on begin, otherwise the epoch update won't increase the value from 0 to 0.1 till the 3rd epoch...\n",
    "        val = 0\n",
    "        if epoch >= self.starting_epoch:\n",
    "            val = tf.reduce_min([self.max_t, tf.cast((epoch - self.starting_epoch) +self.start_val , tf.dtypes.float32) / tf.cast(self.annealing_max, tf.dtypes.float32)])\n",
    "        tf.print(\"annealing coef updated to:\", val)\n",
    "        self.lambda_t.assign(val)\n",
    "        \n",
    "class growth_update(lambda_update):\n",
    "    ''' callback update method that checks the performance of the model against the validation set to decide if the annealing coef should be increased.\n",
    "        provides greater control of the additional loss elements by updating their hyperparameters inteligently, rather then with only a preset schedule.\n",
    "        \n",
    "    '''\n",
    "    def __init__(self, annealing_max,  lambda_t=0, max_t=1, starting_epoch = 0):\n",
    "        self.starting_epoch = starting_epoch\n",
    "        self.start_val = tf.Variable(initial_value=lambda_t, dtype=tf.float32) \n",
    "        \n",
    "        self.step = tf.Variable(initial_value = 0,dtype=tf.float32)\n",
    "        self.lambda_t = tf.Variable(initial_value=lambda_t, dtype=tf.float32) #updates each epoch\n",
    "        self.max_t = tf.Variable(initial_value=max_t, dtype=tf.float32)\n",
    "        self.annealing_max = tf.Variable(initial_value=annealing_max, dtype=tf.float32)\n",
    "        \n",
    "        \n",
    "        self.training = tf.Variable(initial_value=False, dtype=tf.bool)              \n",
    "        self.past_val_acc= tf.Variable(initial_value =0, dtype=tf.float32)\n",
    "        self.val_acc= tf.Variable(initial_value =0, dtype=tf.float32)\n",
    "        \n",
    "    def on_training_begin(self, logs={}):\n",
    "        ''' indicate that training has begun, so val growth is an option.\n",
    "        '''\n",
    "        tf.print(\"training commenced, validation growth enabled\")\n",
    "        self.training.assign(True)\n",
    "#     def on_training_end(self, logs={}):\n",
    "#         ''' indicate that training has ended, so turn off val growth. Not sure if this is actually needed...\n",
    "#         '''\n",
    "#         tf.print(\"training commenced, validation growth enabled\")\n",
    "#         self.training.assign(False)\n",
    "    def on_epoch_begin(self, epoch, logs={}): #needs to be on begin, otherwise the epoch update won't increase the value from 0 to 0.1 till the 3rd epoch...\n",
    "        val = self.lambda_t\n",
    "        if epoch >= self.starting_epoch:\n",
    "            if self.val_acc >= self.past_val_acc:\n",
    "                \n",
    "                val = tf.reduce_min([self.max_t, tf.cast((self.step - self.starting_epoch) +self.start_val , tf.dtypes.float32) / tf.cast(self.annealing_max, tf.dtypes.float32)])\n",
    "                tf.print(\"annealing coef updated to:\", val)\n",
    "                self.lambda_t.assign(val)\n",
    "                self.past_val_acc.assign(self.val_acc)\n",
    "                self.step.assign(self.step + 1)\n",
    "            else:\n",
    "                tf.print(\"val acc did not improve from {}, annealing coef not updated, remains at:{}\".format(self.past_val_acc.numpy(), val.numpy()))\n",
    "     # tf.print(\"past val acc =\", self.past_val_acc)\n",
    "        # self.past_val_acc.assign(self.val_acc)\n",
    "        \n",
    "    def on_test_end(self, logs=None):\n",
    "        \"\"\" if training, save the performance results\n",
    "        \"\"\"\n",
    "        self.val_acc.assign(logs.get('branch_exit_1_accuracy')+ logs.get('branch_exit_accuracy'))\n",
    "        \n",
    "    \n",
    "class Auxloss(tf.keras.metrics.Metric):\n",
    "\n",
    "    def __init__(self, name='AuxLoss', **kwargs):\n",
    "        super(Auxloss, self).__init__(name=name, **kwargs)\n",
    "        self.step =  self.add_weight(name='tp', initializer='zeros')\n",
    "        self.step.assign(0)\n",
    "        self.energy = self.add_weight(name='tp', initializer='zeros')\n",
    "        \n",
    "    def update_state(self, Energy,batch_size):\n",
    "        self.step.assign_add(1)\n",
    "        self.energy.assign_add(Energy)\n",
    "        # tf.print(\"step:\",self.step,\"past_energy\",self.energy, \"energy\", Energy)\n",
    "        self.energy_avg.assign(self.energy/self.step)\n",
    "        # self.energy.assign(self.energy /self.step)\n",
    "\n",
    "    def result(self):\n",
    "        return self.energy_avg\n",
    "\n",
    "    def reset_states(self):\n",
    "        self.energy.assign(0)\n",
    "        self.step.assign(0)\n",
    "        \n",
    "        \n",
    "\n",
    "def loss_wrapper(lambda_callback: lambda_update):\n",
    "    ''' Loss function of Evidential Dirichlet Networks\n",
    "        Expected Mean Square Error + KL divergence\n",
    "    '''\n",
    "    def custom_loss_function(p, logits):\n",
    "    #     alpha = alpha + 1\n",
    "        evidence = exp_evidence(logits)\n",
    "        # evidence = tf.nn.softplus(logits)\n",
    "        alpha = evidence + 1\n",
    "        S = tf.reduce_sum(alpha,axis=1,keepdims=True) \n",
    "        E = alpha - 1\n",
    "        m = alpha / S\n",
    "        A = tf.reduce_sum((p-m)**2, axis=1, keepdims=True) \n",
    "        B = tf.reduce_sum(alpha*(S-alpha)/(S*S*(S+1)), axis=1, keepdims=True) \n",
    "        annealing_coef =  lambda_callback.lambda_t\n",
    "        \n",
    "        bool_mask = tf.cast(p,tf.bool)\n",
    "        ic_mask = tf.cast(1 - p,tf.bool)\n",
    "        ic_bool_mask = tf.cast(ic_mask,tf.bool)\n",
    "        ic_alpha_masked = tf.cast(tf.ragged.boolean_mask(alpha, ic_bool_mask).to_tensor(),tf.float32)\n",
    "        #### info reg\n",
    "        _A = (ic_alpha_masked -1) ** 2\n",
    "        B_1 = tf.math.polygamma(1.,ic_alpha_masked) \n",
    "        B_2 = tf.math.polygamma(1., tf.reduce_sum(ic_alpha_masked,axis=1,keepdims=True))\n",
    "        _B = (B_1 - B_2)\n",
    "        info_reg =  .5* tf.reduce_sum(_A * _B,axis=1)\n",
    "        info_reg = annealing_coef * (info_reg * 2)\n",
    "        \n",
    "        # annealing_coef =  0.0001\n",
    "        alp = E*(1-p) + 1 \n",
    "        # C =   annealing_coef * KL(alp,10)\n",
    "        C =   annealing_coef * DirichletKLLoss(p,logits, True)\n",
    "        D = 0.0001 * -tf.reduce_mean(tfp.distributions.Dirichlet(alpha).entropy())\n",
    "        return (A + B) + info_reg + D  #+ info_reg #+ C + D\n",
    "    return custom_loss_function   \n",
    "\n",
    "        \n",
    "def auxLoss(lambda_callback: lambda_update):\n",
    "    def auxloss(p, logits):\n",
    "        evidence = exp_evidence(logits)\n",
    "            # evidence = tf.nn.softplus(logits)\n",
    "        alpha = evidence + 1\n",
    "        S = tf.reduce_sum(alpha,axis=1,keepdims=True) \n",
    "        E = alpha - 1\n",
    "        m = alpha / S\n",
    "        A = tf.reduce_sum((p-m)**2, axis=1, keepdims=True) \n",
    "        B = tf.reduce_sum(alpha*(S-alpha)/(S*S*(S+1)), axis=1, keepdims=True) \n",
    "        annealing_coef =  lambda_callback.lambda_t\n",
    "\n",
    "        bool_mask = tf.cast(p,tf.bool)\n",
    "        ic_mask = tf.cast(1 - p,tf.bool)\n",
    "        ic_bool_mask = tf.cast(ic_mask,tf.bool)\n",
    "        ic_alpha_masked = tf.cast(tf.ragged.boolean_mask(alpha, ic_bool_mask).to_tensor(),tf.float32)\n",
    "        #### info reg\n",
    "        _A = (ic_alpha_masked -1) ** 2\n",
    "        B_1 = tf.math.polygamma(1.,ic_alpha_masked) \n",
    "        B_2 = tf.math.polygamma(1., tf.reduce_sum(ic_alpha_masked,axis=1,keepdims=True))\n",
    "        _B = (B_1 - B_2)\n",
    "        info_reg =  .5* tf.reduce_sum(_A * _B,axis=1)\n",
    "        info_reg = annealing_coef * (info_reg * 2)\n",
    "        \n",
    "        alp = E*(1-p) + 1 \n",
    "        # else:\n",
    "            # tf.print(\"metric\",annealing_coef)\n",
    "        # C =   annealing_coef * KL(alp,10)\n",
    "        C =   annealing_coef * DirichletKLLoss(p,logits, True)\n",
    "        D = 0.0001 * -tf.reduce_mean(tfp.distributions.Dirichlet(alpha).entropy())\n",
    "        # return (A + B) + C #+ D #+ info_reg #+ C + D\n",
    "        # tf.print(info_reg)\n",
    "        return tf.reduce_mean(info_reg+ D )\n",
    "    return auxloss    \n",
    "\n",
    "# branch_loss = brevisEnergy(lambda_callback)\n",
    "\n",
    "growth_callback = growth_update(50,0.,max_t = 0.1, starting_epoch =0)\n",
    "\n",
    "auxlossMetric = auxLoss(growth_callback)\n",
    "branch_loss = loss_wrapper(growth_callback)\n",
    "\n",
    "\n",
    "# branch_loss = keras.losses.CategoricalCrossentropy(from_logits=True)\n",
    "trunk_loss = keras.losses.CategoricalCrossentropy(from_logits=False)\n",
    "\n",
    "# lambda_callback = lambda_update(1000,0,max_t = 0.01)\n",
    "# branch_loss = brevisEnergy(lambda_callback)\n",
    "branch_loss = keras.losses.CategoricalCrossentropy(from_logits=True)\n",
    "# trunk_loss = keras.losses.CategoricalCrossentropy(from_logits=False)\n",
    "# loss = kl_loss(lambda_callback)\n",
    "earlyStop = tf.keras.callbacks.EarlyStopping(monitor=\"val_accuracy\",patience=4,restore_best_weights=True)\n",
    "\n",
    "\n",
    "model = brevis.BranchModel(name=\"./inception_finetuned.hdf5\", custom_objects={})\n",
    "# model.add_branches([_branch_flat,_branch_flat],\n",
    "#                           [\"conv2_block1_out\",\"conv2_block3_out\",\n",
    "#                             # \"dense\"\n",
    "#                           ],\n",
    "#                           target_input=False,loop=False,num_outputs=10)\n",
    "\n",
    "model.add_branches([_branch_conv2,_branch_conv2],\n",
    "                          [\"mixed0\",\"mixed1\",#\"mixed6\"\n",
    "                          ],\n",
    "                          target_input=False,loop=False,num_outputs=10)\n",
    "# model.compile(loss = [trunk_loss,loss_fn,loss_fn], optimizer=tf.optimizers.SGD(learning_rate=0.001, momentum=0.9),metrics=['accuracy'])\n",
    "model.compile(loss=[trunk_loss,branch_loss,branch_loss], \n",
    "                  # optimizer=tf.optimizers.SGD(learning_rate=0.001, momentum=0.9),\n",
    "                  # optimizer = tf.optimizers.RMSprop(0.045),\n",
    "                  optimizer=tf.keras.optimizers.Adam(learning_rate=0.001,  beta_1=0.99,  beta_2=0.999,),\n",
    "              preset=\"\", metrics=['accuracy'])\n",
    "# model.evaluate(test_ds)\n",
    "\n",
    "\n"
   ]
  },
  {
   "cell_type": "code",
   "execution_count": null,
   "id": "b19f953d-a865-4e76-809c-57470ccecd93",
   "metadata": {},
   "outputs": [
    {
     "name": "stdout",
     "output_type": "stream",
     "text": [
      "Freezing Main Layers and setting branch layers training to true\n",
      "Epoch 1/10\n",
      "1407/1407 [==============================] - 346s 236ms/step - loss: 4.2218 - classification_loss: 1.1419 - branch_exit_loss: 1.5734 - branch_exit_1_loss: 1.5066 - classification_accuracy: 0.6059 - branch_exit_accuracy: 0.5231 - branch_exit_1_accuracy: 0.5309 - val_loss: 2.8110 - val_classification_loss: 0.7797 - val_branch_exit_loss: 1.0162 - val_branch_exit_1_loss: 1.0151 - val_classification_accuracy: 0.7362 - val_branch_exit_accuracy: 0.6362 - val_branch_exit_1_accuracy: 0.6434\n",
      "Epoch 2/10\n",
      "1407/1407 [==============================] - 336s 237ms/step - loss: 2.4853 - classification_loss: 0.6857 - branch_exit_loss: 0.9221 - branch_exit_1_loss: 0.8775 - classification_accuracy: 0.7699 - branch_exit_accuracy: 0.6755 - branch_exit_1_accuracy: 0.6919 - val_loss: 2.2510 - val_classification_loss: 0.6702 - val_branch_exit_loss: 0.8082 - val_branch_exit_1_loss: 0.7726 - val_classification_accuracy: 0.7820 - val_branch_exit_accuracy: 0.7248 - val_branch_exit_1_accuracy: 0.7328\n",
      "Epoch 3/10\n",
      "1407/1407 [==============================] - 343s 241ms/step - loss: 1.9940 - classification_loss: 0.5304 - branch_exit_loss: 0.7515 - branch_exit_1_loss: 0.7121 - classification_accuracy: 0.8220 - branch_exit_accuracy: 0.7386 - branch_exit_1_accuracy: 0.7533 - val_loss: 2.2577 - val_classification_loss: 0.6629 - val_branch_exit_loss: 0.7660 - val_branch_exit_1_loss: 0.8288 - val_classification_accuracy: 0.7862 - val_branch_exit_accuracy: 0.7296 - val_branch_exit_1_accuracy: 0.7192\n",
      "Epoch 4/10\n",
      "1407/1407 [==============================] - 337s 238ms/step - loss: 1.6847 - classification_loss: 0.4256 - branch_exit_loss: 0.6558 - branch_exit_1_loss: 0.6032 - classification_accuracy: 0.8564 - branch_exit_accuracy: 0.7747 - branch_exit_1_accuracy: 0.7927 - val_loss: 2.1845 - val_classification_loss: 0.4920 - val_branch_exit_loss: 0.8741 - val_branch_exit_1_loss: 0.8184 - val_classification_accuracy: 0.8268 - val_branch_exit_accuracy: 0.7070 - val_branch_exit_1_accuracy: 0.7310\n",
      "Epoch 5/10\n",
      "1407/1407 [==============================] - 335s 236ms/step - loss: 1.4488 - classification_loss: 0.3488 - branch_exit_loss: 0.5793 - branch_exit_1_loss: 0.5207 - classification_accuracy: 0.8830 - branch_exit_accuracy: 0.8000 - branch_exit_1_accuracy: 0.8214 - val_loss: 1.9185 - val_classification_loss: 0.6382 - val_branch_exit_loss: 0.6956 - val_branch_exit_1_loss: 0.5847 - val_classification_accuracy: 0.8050 - val_branch_exit_accuracy: 0.7670 - val_branch_exit_1_accuracy: 0.8080\n",
      "Epoch 6/10\n",
      " 253/1407 [====>.........................] - ETA: 4:31 - loss: 1.2664 - classification_loss: 0.2906 - branch_exit_loss: 0.5146 - branch_exit_1_loss: 0.4613 - classification_accuracy: 0.9014 - branch_exit_accuracy: 0.8221 - branch_exit_1_accuracy: 0.8419"
     ]
    }
   ],
   "source": [
    "model.fit(train_ds, epochs = 10, validation_data=validation_ds, transfer=True)"
   ]
  },
  {
   "cell_type": "code",
   "execution_count": 52,
   "id": "06f2554a-6113-4d4c-b97e-28d84b9baf59",
   "metadata": {},
   "outputs": [
    {
     "name": "stdout",
     "output_type": "stream",
     "text": [
      "\n",
      "preset: Other\n",
      "313/313 [==============================] - 18s 52ms/step - loss: 0.1502 - accuracy: 0.9585\n"
     ]
    },
    {
     "data": {
      "text/plain": [
       "[0.15015941858291626, 0.9585000276565552]"
      ]
     },
     "execution_count": 52,
     "metadata": {},
     "output_type": "execute_result"
    }
   ],
   "source": [
    "model = brevis.BranchModel(name=\"./models/inception_finetuned.hdf5\", custom_objects={})\n",
    "# flops = get_flops(model, batch_size=1)\n",
    "# print(f\"FLOPS: {flops / 10 ** 9:.03} G\")\n",
    "model.compile(loss=[trunk_loss], \n",
    "                  # optimizer=tf.optimizers.SGD(learning_rate=0.01, momentum=0.9),\n",
    "                  optimizer=\"adam\",\n",
    "              preset=\"\", metrics=['accuracy'])\n",
    "model.evaluate(test_ds)"
   ]
  },
  {
   "cell_type": "markdown",
   "id": "66079fab-1678-4cdf-a0eb-205134d9cf9f",
   "metadata": {},
   "source": [
    "## Get the flop cost for each branch output"
   ]
  },
  {
   "cell_type": "code",
   "execution_count": 48,
   "id": "c80a30e9-6f63-497e-95b2-e310d177e059",
   "metadata": {},
   "outputs": [
    {
     "name": "stdout",
     "output_type": "stream",
     "text": [
      "[<KerasTensor: shape=(None, 10) dtype=float32 (created by layer 'branch_exit')>]\n",
      "WARNING:tensorflow:From C:\\Users\\Sanity\\AppData\\Local\\conda\\conda\\envs\\py36\\lib\\site-packages\\tensorflow\\python\\ops\\nn_ops.py:5214: tensor_shape_from_node_def_name (from tensorflow.python.framework.graph_util_impl) is deprecated and will be removed in a future version.\n",
      "Instructions for updating:\n",
      "Use `tf.compat.v1.graph_util.tensor_shape_from_node_def_name`\n",
      "FLOPS: 1.89 G\n",
      "[<KerasTensor: shape=(None, 10) dtype=float32 (created by layer 'branch_exit')>, <KerasTensor: shape=(None, 10) dtype=float32 (created by layer 'branch_exit_1')>]\n",
      "FLOPS: 2.35 G\n",
      "[<KerasTensor: shape=(None, 10) dtype=float32 (created by layer 'branch_exit')>, <KerasTensor: shape=(None, 10) dtype=float32 (created by layer 'branch_exit_1')>, <KerasTensor: shape=(None, 10) dtype=float32 (created by layer 'classification')>]\n",
      "FLOPS: 5.92 G\n"
     ]
    }
   ],
   "source": [
    "outputs = [ [model.get_layer(\"branch_exit\").get_output_at(0)],\n",
    "            [model.get_layer(\"branch_exit\").get_output_at(0),model.get_layer(\"branch_exit_1\").get_output_at(0)],\n",
    "            [model.get_layer(\"branch_exit\").get_output_at(0),model.get_layer(\"branch_exit_1\").get_output_at(0),model.get_layer(\"classification\").get_output_at(0)]\n",
    "          ]\n",
    "from keras_flops import get_flops    \n",
    "for _outputs in outputs:\n",
    "    temp_model = tf.keras.models.Model(inputs=model.inputs, outputs=_outputs)\n",
    "    # Calculae FLOPS\n",
    "    print(temp_model.outputs)\n",
    "    flops = get_flops(temp_model, batch_size=1)\n",
    "    print(f\"FLOPS: {flops / 10 ** 9:.03} G\")\n",
    "    "
   ]
  },
  {
   "cell_type": "code",
   "execution_count": 36,
   "id": "82ed50f4-4403-4c10-bd6a-670efed00777",
   "metadata": {},
   "outputs": [],
   "source": [
    "# model = brevis.BranchModel(name=\"./models/resnet50_finetuned_32.hdf5\", custom_objects={})\n",
    "# model.compile(loss=[trunk_loss], optimizer=tf.optimizers.SGD(learning_rate=0.001, momentum=0.9), preset=\"\", metrics=['accuracy'])\n",
    "# model.evaluate(test_ds)"
   ]
  },
  {
   "cell_type": "code",
   "execution_count": 10,
   "id": "d608f396-d3d4-4d7d-829c-ddbe1aa1a003",
   "metadata": {
    "tags": []
   },
   "outputs": [
    {
     "name": "stdout",
     "output_type": "stream",
     "text": [
      "Freezing Main Layers and setting branch layers training to true\n",
      "annealing coef updated to: 0\n",
      "Epoch 1/10\n",
      "   6/1407 [..............................] - ETA: 5:23 - loss: 1.8960 - classification_loss: 0.0098 - branch_exit_loss: 0.9405 - branch_exit_1_loss: 0.9457 - classification_accuracy: 1.0000 - branch_exit_accuracy: 0.1146 - branch_exit_1_accuracy: 0.1042WARNING:tensorflow:Callback method `on_train_batch_end` is slow compared to the batch time (batch time: 0.1188s vs `on_train_batch_end` time: 0.1385s). Check your callbacks.\n",
      "1407/1407 [==============================] - 362s 244ms/step - loss: 1.4764 - classification_loss: 0.4494 - branch_exit_loss: 0.5208 - branch_exit_1_loss: 0.5063 - classification_accuracy: 0.8542 - branch_exit_accuracy: 0.6038 - branch_exit_1_accuracy: 0.6137 - val_loss: 1.4476 - val_classification_loss: 0.4170 - val_branch_exit_loss: 0.5744 - val_branch_exit_1_loss: 0.4563 - val_classification_accuracy: 0.8578 - val_branch_exit_accuracy: 0.5658 - val_branch_exit_1_accuracy: 0.6622\n",
      "annealing coef updated to: 0.02\n",
      "Epoch 2/10\n",
      "1407/1407 [==============================] - 338s 238ms/step - loss: 1.0737 - classification_loss: 0.2046 - branch_exit_loss: 0.4574 - branch_exit_1_loss: 0.4117 - classification_accuracy: 0.9321 - branch_exit_accuracy: 0.7274 - branch_exit_1_accuracy: 0.7611 - val_loss: 1.3148 - val_classification_loss: 0.3265 - val_branch_exit_loss: 0.4769 - val_branch_exit_1_loss: 0.5114 - val_classification_accuracy: 0.9012 - val_branch_exit_accuracy: 0.7110 - val_branch_exit_1_accuracy: 0.6978\n",
      "annealing coef updated to: 0.04\n",
      "Epoch 3/10\n",
      "1407/1407 [==============================] - 350s 247ms/step - loss: 0.8692 - classification_loss: 0.1373 - branch_exit_loss: 0.3854 - branch_exit_1_loss: 0.3465 - classification_accuracy: 0.9546 - branch_exit_accuracy: 0.7871 - branch_exit_1_accuracy: 0.8102 - val_loss: 1.0467 - val_classification_loss: 0.2302 - val_branch_exit_loss: 0.4296 - val_branch_exit_1_loss: 0.3868 - val_classification_accuracy: 0.9288 - val_branch_exit_accuracy: 0.7558 - val_branch_exit_1_accuracy: 0.7878\n",
      "annealing coef updated to: 0.06\n",
      "Epoch 4/10\n",
      "1407/1407 [==============================] - 356s 251ms/step - loss: 0.7568 - classification_loss: 0.0996 - branch_exit_loss: 0.3462 - branch_exit_1_loss: 0.3109 - classification_accuracy: 0.9672 - branch_exit_accuracy: 0.8191 - branch_exit_1_accuracy: 0.8410 - val_loss: 1.0230 - val_classification_loss: 0.2057 - val_branch_exit_loss: 0.4139 - val_branch_exit_1_loss: 0.4034 - val_classification_accuracy: 0.9346 - val_branch_exit_accuracy: 0.7790 - val_branch_exit_1_accuracy: 0.7812\n",
      "annealing coef updated to: 0.08\n",
      "Epoch 5/10\n",
      "1407/1407 [==============================] - 349s 246ms/step - loss: 0.6664 - classification_loss: 0.0728 - branch_exit_loss: 0.3146 - branch_exit_1_loss: 0.2789 - classification_accuracy: 0.9764 - branch_exit_accuracy: 0.8436 - branch_exit_1_accuracy: 0.8637 - val_loss: 1.0438 - val_classification_loss: 0.2229 - val_branch_exit_loss: 0.4216 - val_branch_exit_1_loss: 0.3993 - val_classification_accuracy: 0.9350 - val_branch_exit_accuracy: 0.7886 - val_branch_exit_1_accuracy: 0.7960\n",
      "annealing coef updated to: 0.1\n",
      "Epoch 6/10\n",
      "1407/1407 [==============================] - 328s 231ms/step - loss: 0.5973 - classification_loss: 0.0597 - branch_exit_loss: 0.2824 - branch_exit_1_loss: 0.2552 - classification_accuracy: 0.9796 - branch_exit_accuracy: 0.8669 - branch_exit_1_accuracy: 0.8825 - val_loss: 1.0249 - val_classification_loss: 0.2125 - val_branch_exit_loss: 0.4516 - val_branch_exit_1_loss: 0.3607 - val_classification_accuracy: 0.9332 - val_branch_exit_accuracy: 0.7842 - val_branch_exit_1_accuracy: 0.8222\n",
      "annealing coef updated to: 0.1\n",
      "Epoch 7/10\n",
      "1407/1407 [==============================] - 327s 231ms/step - loss: 0.5173 - classification_loss: 0.0468 - branch_exit_loss: 0.2475 - branch_exit_1_loss: 0.2231 - classification_accuracy: 0.9849 - branch_exit_accuracy: 0.8849 - branch_exit_1_accuracy: 0.8979 - val_loss: 0.9758 - val_classification_loss: 0.1890 - val_branch_exit_loss: 0.3927 - val_branch_exit_1_loss: 0.3941 - val_classification_accuracy: 0.9436 - val_branch_exit_accuracy: 0.8116 - val_branch_exit_1_accuracy: 0.8106\n",
      "annealing coef updated to: 0.1\n",
      "Epoch 8/10\n",
      "1407/1407 [==============================] - 328s 231ms/step - loss: 0.4398 - classification_loss: 0.0359 - branch_exit_loss: 0.2146 - branch_exit_1_loss: 0.1893 - classification_accuracy: 0.9880 - branch_exit_accuracy: 0.9012 - branch_exit_1_accuracy: 0.9135 - val_loss: 0.9764 - val_classification_loss: 0.2483 - val_branch_exit_loss: 0.3737 - val_branch_exit_1_loss: 0.3544 - val_classification_accuracy: 0.9324 - val_branch_exit_accuracy: 0.8174 - val_branch_exit_1_accuracy: 0.8288\n",
      "annealing coef updated to: 0.1\n",
      "Epoch 9/10\n",
      "1407/1407 [==============================] - 329s 232ms/step - loss: 0.3818 - classification_loss: 0.0344 - branch_exit_loss: 0.1851 - branch_exit_1_loss: 0.1622 - classification_accuracy: 0.9885 - branch_exit_accuracy: 0.9142 - branch_exit_1_accuracy: 0.9271 - val_loss: 0.8961 - val_classification_loss: 0.1933 - val_branch_exit_loss: 0.3653 - val_branch_exit_1_loss: 0.3375 - val_classification_accuracy: 0.9468 - val_branch_exit_accuracy: 0.8286 - val_branch_exit_1_accuracy: 0.8434\n",
      "annealing coef updated to: 0.1\n",
      "Epoch 10/10\n",
      "1407/1407 [==============================] - 330s 232ms/step - loss: 0.3378 - classification_loss: 0.0283 - branch_exit_loss: 0.1653 - branch_exit_1_loss: 0.1443 - classification_accuracy: 0.9906 - branch_exit_accuracy: 0.9264 - branch_exit_1_accuracy: 0.9368 - val_loss: 0.8751 - val_classification_loss: 0.2068 - val_branch_exit_loss: 0.3407 - val_branch_exit_1_loss: 0.3275 - val_classification_accuracy: 0.9470 - val_branch_exit_accuracy: 0.8436 - val_branch_exit_1_accuracy: 0.8450\n"
     ]
    },
    {
     "data": {
      "text/plain": [
       "<brevis.core_v2.BranchModel at 0x11735296fc8>"
      ]
     },
     "execution_count": 10,
     "metadata": {},
     "output_type": "execute_result"
    }
   ],
   "source": [
    "model.fit(train_ds, epochs = 10, validation_data=validation_ds, transfer=True,callbacks=[growth_callback])"
   ]
  },
  {
   "cell_type": "code",
   "execution_count": 13,
   "id": "74f92d4f-c2bf-4863-9c50-d4f1dd0935df",
   "metadata": {},
   "outputs": [
    {
     "name": "stdout",
     "output_type": "stream",
     "text": [
      "313/313 [==============================] - 19s 60ms/step - loss: 1.0488 - classification_loss: 0.1676 - branch_exit_loss: 0.4782 - branch_exit_1_loss: 0.4030 - classification_accuracy: 0.9602 - branch_exit_accuracy: 0.7266 - branch_exit_1_accuracy: 0.7803\n"
     ]
    },
    {
     "data": {
      "text/plain": [
       "[1.0488358736038208,\n",
       " 0.16757528483867645,\n",
       " 0.4782122075557709,\n",
       " 0.4030477702617645,\n",
       " 0.9602000117301941,\n",
       " 0.7265999913215637,\n",
       " 0.7803000211715698]"
      ]
     },
     "execution_count": 13,
     "metadata": {},
     "output_type": "execute_result"
    }
   ],
   "source": [
    "model.evaluate(test_ds)"
   ]
  },
  {
   "cell_type": "code",
   "execution_count": 37,
   "id": "e25592d0-eb02-4898-82ee-bef4dd469c6f",
   "metadata": {},
   "outputs": [],
   "source": [
    "model.save(\"./models/journal_models/inception_CE_10.hdf5\")"
   ]
  },
  {
   "cell_type": "code",
   "execution_count": 61,
   "id": "ba40d975-173c-446f-a13e-c583cfe132c2",
   "metadata": {},
   "outputs": [
    {
     "name": "stdout",
     "output_type": "stream",
     "text": [
      "\n",
      "preset: Other\n",
      "WARNING:tensorflow:Error in loading the saved optimizer state. As a result, your model is starting with a freshly initialized optimizer.\n"
     ]
    }
   ],
   "source": [
    "lambda_callback = lambda_update(100,0,max_t = 0.01)\n",
    "model = tf.keras.models.load_model(\"./models/journal_models/inception_CE_10.hdf5\",custom_objects={\"BranchModel\":brevis.BranchModel,\"custom_loss_function\":loss_wrapper(lambda_callback), \"brevisEnergy\":brevisEnergy(lambda_callback)})"
   ]
  },
  {
   "cell_type": "code",
   "execution_count": 62,
   "id": "31fbfb86-7bdc-4799-bf0e-597dc9a71f46",
   "metadata": {},
   "outputs": [
    {
     "name": "stdout",
     "output_type": "stream",
     "text": [
      "\n",
      "preset: Other\n",
      "313/313 [==============================] - 24s 68ms/step - loss: 16.1348 - classification_loss: 0.3946 - branch_exit_loss: 10.1751 - branch_exit_1_loss: 5.5651 - classification_accuracy: 0.8810 - branch_exit_accuracy: 0.8088 - branch_exit_1_accuracy: 0.8073\n"
     ]
    },
    {
     "data": {
      "text/plain": [
       "[16.13478660583496,\n",
       " 0.39456871151924133,\n",
       " 10.175108909606934,\n",
       " 5.565108299255371,\n",
       " 0.8809999823570251,\n",
       " 0.8087999820709229,\n",
       " 0.8072999715805054]"
      ]
     },
     "execution_count": 62,
     "metadata": {},
     "output_type": "execute_result"
    }
   ],
   "source": [
    "trunk_loss = keras.losses.CategoricalCrossentropy(from_logits=False)\n",
    "branch_loss = keras.losses.CategoricalCrossentropy(from_logits=False)\n",
    "model.compile(loss=[trunk_loss,branch_loss,branch_loss], \n",
    "                  optimizer=tf.optimizers.SGD(learning_rate=0.01, momentum=0.9),\n",
    "                  # optimizer=\"adam\",\n",
    "              preset=\"\", metrics=['accuracy'])\n",
    "# model.trainable=False\n",
    "# model.fit(train_ds, validation_data=validation_ds,  transfer = True, epochs = 5)\n",
    "model.evaluate(test_ds)"
   ]
  },
  {
   "cell_type": "code",
   "execution_count": 63,
   "id": "fb6a8abb-6810-4991-95a8-bb625dff4685",
   "metadata": {},
   "outputs": [
    {
     "name": "stdout",
     "output_type": "stream",
     "text": [
      "Freezing Main Layers and setting branch layers training to true\n",
      "1407/1407 [==============================] - 181s 108ms/step - loss: 20.7087 - classification_loss: 0.1992 - branch_exit_loss: 10.8838 - branch_exit_1_loss: 9.6257 - classification_accuracy: 0.9345 - branch_exit_accuracy: 0.5427 - branch_exit_1_accuracy: 0.4111 - val_loss: 20.8641 - val_classification_loss: 0.3875 - val_branch_exit_loss: 10.9927 - val_branch_exit_1_loss: 9.4839 - val_classification_accuracy: 0.8850 - val_branch_exit_accuracy: 0.5074 - val_branch_exit_1_accuracy: 0.3708\n",
      "313/313 [==============================] - 18s 57ms/step - loss: 20.9422 - classification_loss: 0.3946 - branch_exit_loss: 10.8606 - branch_exit_1_loss: 9.6870 - classification_accuracy: 0.8810 - branch_exit_accuracy: 0.5114 - branch_exit_1_accuracy: 0.3697\n"
     ]
    },
    {
     "data": {
      "text/plain": [
       "[20.942171096801758,\n",
       " 0.39456871151924133,\n",
       " 10.860618591308594,\n",
       " 9.686976432800293,\n",
       " 0.8809999823570251,\n",
       " 0.5113999843597412,\n",
       " 0.36970001459121704]"
      ]
     },
     "execution_count": 63,
     "metadata": {},
     "output_type": "execute_result"
    }
   ],
   "source": [
    "# model.compile(loss=[trunk_loss,branch_loss,branch_loss], \n",
    "#                   optimizer=tf.optimizers.SGD(learning_rate=0.01, momentum=0.9),\n",
    "#                   # optimizer=\"adam\",\n",
    "#               preset=\"\", metrics=['accuracy'])\n",
    "# model.trainable=True\n",
    "model.fit(train_ds, validation_data=validation_ds,  transfer = True, epochs = 1)\n",
    "model.evaluate(test_ds)"
   ]
  },
  {
   "cell_type": "code",
   "execution_count": 33,
   "id": "ad915301-3cdc-4371-9269-182877dc5590",
   "metadata": {},
   "outputs": [
    {
     "name": "stdout",
     "output_type": "stream",
     "text": [
      "\n",
      "preset: Other\n",
      "Freezing Main Layers and setting branch layers training to true\n",
      "Epoch 1/5\n",
      "1407/1407 [==============================] - 378s 254ms/step - loss: 1.5955 - classification_loss: 0.7249 - branch_exit_loss: 0.4469 - branch_exit_1_loss: 0.4237 - classification_accuracy: 0.7704 - branch_exit_accuracy: 0.6822 - branch_exit_1_accuracy: 0.7007 - val_loss: 1.2709 - val_classification_loss: 0.5132 - val_branch_exit_loss: 0.3880 - val_branch_exit_1_loss: 0.3697 - val_classification_accuracy: 0.8326 - val_branch_exit_accuracy: 0.7228 - val_branch_exit_1_accuracy: 0.7402\n",
      "Epoch 2/5\n",
      "1407/1407 [==============================] - 350s 246ms/step - loss: 1.0813 - classification_loss: 0.4597 - branch_exit_loss: 0.3209 - branch_exit_1_loss: 0.3007 - classification_accuracy: 0.8491 - branch_exit_accuracy: 0.7782 - branch_exit_1_accuracy: 0.7961 - val_loss: 1.0586 - val_classification_loss: 0.4130 - val_branch_exit_loss: 0.3363 - val_branch_exit_1_loss: 0.3094 - val_classification_accuracy: 0.8628 - val_branch_exit_accuracy: 0.7634 - val_branch_exit_1_accuracy: 0.7886\n",
      "Epoch 3/5\n",
      "1407/1407 [==============================] - 353s 249ms/step - loss: 0.8694 - classification_loss: 0.3515 - branch_exit_loss: 0.2662 - branch_exit_1_loss: 0.2517 - classification_accuracy: 0.8832 - branch_exit_accuracy: 0.8216 - branch_exit_1_accuracy: 0.8317 - val_loss: 1.1788 - val_classification_loss: 0.5228 - val_branch_exit_loss: 0.3231 - val_branch_exit_1_loss: 0.3330 - val_classification_accuracy: 0.8402 - val_branch_exit_accuracy: 0.7800 - val_branch_exit_1_accuracy: 0.7740\n",
      "Epoch 4/5\n",
      "1407/1407 [==============================] - 345s 243ms/step - loss: 0.7354 - classification_loss: 0.2928 - branch_exit_loss: 0.2273 - branch_exit_1_loss: 0.2153 - classification_accuracy: 0.9032 - branch_exit_accuracy: 0.8496 - branch_exit_1_accuracy: 0.8592 - val_loss: 1.0282 - val_classification_loss: 0.4345 - val_branch_exit_loss: 0.2906 - val_branch_exit_1_loss: 0.3032 - val_classification_accuracy: 0.8642 - val_branch_exit_accuracy: 0.7942 - val_branch_exit_1_accuracy: 0.7942\n",
      "Epoch 5/5\n",
      "1407/1407 [==============================] - 344s 243ms/step - loss: 0.6369 - classification_loss: 0.2414 - branch_exit_loss: 0.2032 - branch_exit_1_loss: 0.1923 - classification_accuracy: 0.9190 - branch_exit_accuracy: 0.8689 - branch_exit_1_accuracy: 0.8769 - val_loss: 0.9601 - val_classification_loss: 0.3875 - val_branch_exit_loss: 0.2822 - val_branch_exit_1_loss: 0.2904 - val_classification_accuracy: 0.8850 - val_branch_exit_accuracy: 0.8094 - val_branch_exit_1_accuracy: 0.8048\n"
     ]
    },
    {
     "data": {
      "text/plain": [
       "<brevis.core_v2.BranchModel at 0x1173540bb88>"
      ]
     },
     "execution_count": 33,
     "metadata": {},
     "output_type": "execute_result"
    }
   ],
   "source": [
    "model.compile(loss=[trunk_loss,branch_loss,branch_loss], \n",
    "                  optimizer=tf.optimizers.SGD(learning_rate=0.01, momentum=0.9),\n",
    "                  # optimizer=\"adam\",\n",
    "              preset=\"\", metrics=['accuracy'])\n",
    "model.fit(train_ds, validation_data=validation_ds,  transfer = True, epochs = 5)"
   ]
  },
  {
   "cell_type": "markdown",
   "id": "b3884ded-7fa7-4313-96a6-078f26940860",
   "metadata": {},
   "source": [
    "## Get the Branch output results\n",
    "Collect the branch output results for both the ID and OOD test sets then evaluate the results."
   ]
  },
  {
   "cell_type": "code",
   "execution_count": 43,
   "id": "bc2a0c4c-8eea-441e-a4d1-69726c3d12d5",
   "metadata": {},
   "outputs": [],
   "source": [
    "\n",
    "def getPredictions_Energy(model, input_set, stopping_point=None,num_classes=10):\n",
    "    '''\n",
    "        Function for collecting the model's predictions on a test set. \n",
    "\n",
    "        Returns a list of DataFrames for each exit of the model.    \n",
    "    '''\n",
    "    num_outputs = len(model.outputs) # the number of output layers for the purpose of providing labels\n",
    "    print(\"outputs\",num_outputs)\n",
    "    #     train_ds, test_ds, validation_ds = (dataset)\n",
    "    Results=[]\n",
    "    Pred=[]\n",
    "    Labels =[]\n",
    "    Uncert = []\n",
    "    Outputs = pd.DataFrame()\n",
    "    Energy = []\n",
    "    Energy_softmax = []\n",
    "    Energy_evidence = []\n",
    "    Energy_alpha = []\n",
    "    Energy_Mass = []\n",
    "    Entropy = []\n",
    "    pAcc=[]\n",
    "    calibration=[]\n",
    "\n",
    "    conf=[]\n",
    "    entropy_of_exp=[]\n",
    "    expected_entropy=[]\n",
    "    mutual_info=[]\n",
    "    epkl=[]\n",
    "    dentropy=[]\n",
    "    \n",
    "    for i in range(num_outputs):\n",
    "        Results.append([])\n",
    "        Pred.append([])\n",
    "        Labels.append([])\n",
    "        Uncert.append([])\n",
    "        Energy.append([])\n",
    "        Energy_softmax.append([])\n",
    "        Energy_evidence.append([])\n",
    "        Energy_alpha.append([])\n",
    "        Energy_Mass.append([])\n",
    "        Entropy.append([])\n",
    "        pAcc.append([])\n",
    "        calibration.append([])\n",
    "\n",
    "        conf.append([])\n",
    "        entropy_of_exp.append([])\n",
    "        expected_entropy.append([])\n",
    "        mutual_info.append([])\n",
    "        epkl.append([])\n",
    "        dentropy.append([])\n",
    "        \n",
    "    for i, (x,y) in enumerate(input_set):\n",
    "        if stopping_point and i > stopping_point:\n",
    "            break\n",
    "        try:\n",
    "            print(\"prediction: {} of {}\".format(i,len(input_set)),end='\\r')\n",
    "        except:\n",
    "            print(\"prediction: {}\".format(i),end='\\r')\n",
    "            pass\n",
    "        predictions = model.predict(x)\n",
    "        if num_outputs > 1:\n",
    "            _predictions = predictions[0]\n",
    "        else:\n",
    "            _predictions = [predictions]\n",
    "        # print(_predictions)\n",
    "        for k, outputs in enumerate(_predictions):\n",
    "            \n",
    "            # print(\"outputs \", k, outputs)\n",
    "            for j, prediction in enumerate(outputs):\n",
    "                # evidence =exp_evidence(prediction)\n",
    "                # alpha = evidence +1\n",
    "                # S = sum(alpha)\n",
    "                # E = alpha - 1\n",
    "                # Mass = alpha / S\n",
    "                # u = num_classes / S\n",
    "                # Uncert[k].append(u.numpy().mean())\n",
    "                Results[k].append(np.argmax(prediction))\n",
    "                Labels[k].append(np.argmax(y[j]))\n",
    "                Energy[k].append( -(logsumexp(np.array(prediction))))\n",
    "                # Entropy[k].append(brevis.utils.calcEntropy_Tensors2(tf.nn.softmax(prediction)).numpy())\n",
    "                calibration[k].append(np.amax(tf.nn.softmax(prediction).numpy()))\n",
    "                \n",
    "    Outputs=[]\n",
    "    for j in range(num_outputs):\n",
    "#         \"probs\":Pred[j],\n",
    "        # df = pd.DataFrame({\"x\":Results[j],\"y\":Labels[j],'sum':Sum[j],'uncert':Uncert[j],\"belief masses\":Evidence[j]})\n",
    "        df = pd.DataFrame({\"x\":Results[j],\"y\":Labels[j],\n",
    "                           #\"uncert\":Uncert[j],\n",
    "                            \"energy\":Energy[j],\n",
    "                            # 'entropy':Entropy[j],\n",
    "                            'calibration':calibration[j],\n",
    "                          })\n",
    "        conditions = [df['x'] == df['y'],df['x'] != df['y']]\n",
    "        choices = [1, 0]\n",
    "        #create new column in DataFrame that displays results of comparisons\n",
    "        df['correct'] = np.int32(np.select(conditions, choices, default=None))\n",
    "        Outputs.append(df)\n",
    "    return Outputs"
   ]
  },
  {
   "cell_type": "code",
   "execution_count": 44,
   "id": "d86afcd6-a024-4071-885e-f3aef2da79cf",
   "metadata": {
    "tags": []
   },
   "outputs": [
    {
     "name": "stdout",
     "output_type": "stream",
     "text": [
      "outputs 3\n",
      "prediction: 312 of 313\r"
     ]
    }
   ],
   "source": [
    "output_ID= getPredictions_Energy(model, test_ds,stopping_point=None)\n",
    "for i in output_ID:\n",
    "    i['outlier']=0\n"
   ]
  },
  {
   "cell_type": "code",
   "execution_count": 45,
   "id": "46de421d-ec98-42e5-87a6-3b21269cf745",
   "metadata": {},
   "outputs": [
    {
     "name": "stdout",
     "output_type": "stream",
     "text": [
      "outputs 3\n",
      "prediction: 312 of 313\r"
     ]
    }
   ],
   "source": [
    "output_OOD = getPredictions_Energy(model, test_ds100,stopping_point=None)\n",
    "for i in output_OOD:\n",
    "    i['correct']=0\n",
    "    i['outlier']=1"
   ]
  },
  {
   "cell_type": "code",
   "execution_count": 17,
   "id": "abea903a-0d06-4f18-8272-34245f2c77d4",
   "metadata": {},
   "outputs": [],
   "source": [
    "# output_OOD_svhn = getPredictions_Energy(model, test_ds_svhn,stopping_point=313)\n",
    "# output_OOD_svhn['correct']=0\n",
    "# output_OOD_svhn['outlier']=1\n"
   ]
  },
  {
   "cell_type": "code",
   "execution_count": 19,
   "id": "1d87dbbf-7f91-4a37-90d9-fbbd5fb0efaa",
   "metadata": {},
   "outputs": [],
   "source": [
    "def save_outputs(filename,outputs):\n",
    "    from openpyxl import Workbook\n",
    "    wb= Workbook()\n",
    "    ws=wb.active\n",
    "    with pd.ExcelWriter('./csv/'+filename+'.xlsx', engine=\"openpyxl\") as writer:\n",
    "        writer.book=wb\n",
    "        writer.sheets = dict((ws.title, ws) for ws in wb.worksheets)\n",
    "\n",
    "        #useful code\n",
    "        for i, df in enumerate(outputs):\n",
    "            name = \"exit{}\".format(i+1)\n",
    "            df.to_excel(writer, name)\n",
    "        # df.to_excel(writer, sheet, ...)\n",
    "        writer.save()\n",
    "    wb.close()\n",
    "    \n",
    "def read_outputs(fileName):\n",
    "    output_test = list(pd.read_excel('./csv/'+fileName+'.xlsx',['exit1','exit2','exit3']).values())\n",
    "    # for i in output_test:\n",
    "        # print(i.head())\n",
    "    return output_test\n",
    "filename = 'inception_Brev_conv3_5'\n",
    "save_outputs(filename+'_ID',output_ID)\n",
    "save_outputs(filename+'_OOD',output_OOD)\n",
    "# save_outputs(filename+'_OOD_SVHN',output_OOD_SVHN)"
   ]
  },
  {
   "cell_type": "markdown",
   "id": "9b00ba9a-3de1-4176-ae5c-a6171f093adf",
   "metadata": {},
   "source": [
    "### T/F in distribution performance\n",
    "<hr>"
   ]
  },
  {
   "cell_type": "code",
   "execution_count": 20,
   "id": "abef9ff1-4b87-40f3-86ce-0279c285dfd9",
   "metadata": {},
   "outputs": [
    {
     "name": "stdout",
     "output_type": "stream",
     "text": [
      "metric:  energy threshold:  mean\n",
      "['exit_1']\n",
      "3460 inputs accepted 3337 Correct\n"
     ]
    },
    {
     "data": {
      "image/png": "[encoded data removed]",
      "text/plain": [
       "<Figure size 432x288 with 1 Axes>"
      ]
     },
     "metadata": {},
     "output_type": "display_data"
    },
    {
     "name": "stdout",
     "output_type": "stream",
     "text": [
      "-----------------\n",
      "rollover enabled, 6540 predictions provided\n",
      "['exit_1', 'exit_2']\n",
      "947 inputs accepted 909 Correct\n"
     ]
    },
    {
     "data": {
      "image/png": "[encoded data removed]",
      "text/plain": [
       "<Figure size 432x288 with 1 Axes>"
      ]
     },
     "metadata": {},
     "output_type": "display_data"
    },
    {
     "name": "stdout",
     "output_type": "stream",
     "text": [
      "-----------------\n",
      "rollover enabled, 5593 predictions provided\n",
      "main_exit\n",
      "5593 inputs accepted 5246 Correct\n"
     ]
    },
    {
     "data": {
      "image/png": "[encoded data removed]",
      "text/plain": [
       "<Figure size 432x288 with 1 Axes>"
      ]
     },
     "metadata": {},
     "output_type": "display_data"
    },
    {
     "name": "stdout",
     "output_type": "stream",
     "text": [
      "-----------------\n",
      "   Exit_Name  Predictions  Test_Accuracy  RollOver_Accuracy  Threshold  Accepted  Accepted_Correct  Accepted_Ratio  Acceptance_Accuracy\n",
      "0     exit_1        10000         0.7266           0.726600 -39.365479      3460              3337        0.346000             0.964451\n",
      "1     exit_2         6540         0.7803           0.682416 -43.807041       947               909        0.144801             0.959873\n",
      "2  Main_exit         5593         0.9602           0.937958  -2.460171      5593              5246        1.000000             0.937958\n"
     ]
    }
   ],
   "source": [
    "evaluate.calculateBranching(output_ID,threshold=\"mean\",metrics=[\"energy\"],main_exit_included=True,plot=True)\n"
   ]
  },
  {
   "cell_type": "code",
   "execution_count": 21,
   "id": "075521f4-f65c-46e8-bad7-eac0909bb87c",
   "metadata": {},
   "outputs": [
    {
     "name": "stdout",
     "output_type": "stream",
     "text": [
      "metric:  energy threshold:  PR_AUC\n",
      "['exit_1', 'exit_2']\n",
      "['exit_1', 'exit_2']\n",
      "   Exit_Name  Predictions  Test_Accuracy  RollOver_Accuracy  Threshold  Accepted  Accepted_Correct  Accepted_Ratio  Acceptance_Accuracy\n",
      "0     exit_1        10000         0.7266           0.726600 -43.702904      2735              2679        0.273500             0.979525\n",
      "1     exit_2         7265         0.7803           0.704198 -54.312119       398               391        0.054783             0.982412\n",
      "2  Main_exit         6867         0.9602           0.945682  -2.410235      6867              6494        1.000000             0.945682\n"
     ]
    }
   ],
   "source": [
    "evaluate.calculateBranching(output_ID,threshold=\"PR_AUC\",metrics=[\"energy\"],main_exit_included=True,plot=False)\n"
   ]
  },
  {
   "cell_type": "code",
   "execution_count": 97,
   "id": "96afe967-7779-47b8-a292-56932283e85b",
   "metadata": {},
   "outputs": [
    {
     "name": "stdout",
     "output_type": "stream",
     "text": [
      "metric:  energy threshold:  PR_AUC\n",
      "['exit_1', 'exit_2']\n",
      "['exit_1', 'exit_2']\n",
      "   Exit_Name  Predictions  Test_Accuracy  RollOver_Accuracy  Threshold  Accepted  Accepted_Correct  Accepted_Ratio  Acceptance_Accuracy\n",
      "0     exit_1        10000         0.7266           0.726600 -43.702904      2735              2679        0.273500             0.979525\n",
      "1     exit_2         7265         0.7803           0.704198 -54.312119       398               391        0.054783             0.982412\n",
      "2  Main_exit         6867         0.9602           0.945682  -2.410235      6867              6494        1.000000             0.945682\n",
      "metric:  energy threshold:  mean\n",
      "['exit_1', 'exit_2']\n",
      "['exit_1', 'exit_2']\n",
      "   Exit_Name  Predictions  Test_Accuracy  RollOver_Accuracy  Threshold  Accepted  Accepted_Correct  Accepted_Ratio  Acceptance_Accuracy\n",
      "0     exit_1        10000         0.7266           0.726600 -39.365479      3460              3337        0.346000             0.964451\n",
      "1     exit_2         6540         0.7803           0.682416 -43.807041       947               909        0.144801             0.959873\n",
      "2  Main_exit         5593         0.9602           0.937958  -2.460171      5593              5246        1.000000             0.937958\n",
      "metric:  energy threshold:  gmean\n",
      "energy  lr_auc 0.1812948534636675 Best Threshold=-30.139970779418945, G-Mean=0.7452730973676231, TPR=0.8189465983906364, FPR=0.3217726396917148\n",
      "['exit_1', 'exit_2']\n",
      "energy  lr_auc 0.1500763189303555 Best Threshold=-29.29550552368164, G-Mean=0.7730733541611996, TPR=0.8015475648611743, FPR=0.25438933743432013\n",
      "['exit_1', 'exit_2']\n",
      "energy  lr_auc 0.06278214651679558 Best Threshold=-2.460908889770508, G-Mean=0.875693610574799, TPR=0.8793969849246231, FPR=0.12799416788169132\n",
      "   Exit_Name  Predictions  Test_Accuracy  RollOver_Accuracy  Threshold  Accepted  Accepted_Correct  Accepted_Ratio  Acceptance_Accuracy\n",
      "0     exit_1        10000         0.7266           0.726600 -30.139971      5424              4928        0.542400             0.908555\n",
      "1     exit_2         4576         0.7803           0.611233 -29.295506      1410              1192        0.308129             0.845390\n",
      "2  Main_exit         3166         0.9602           0.921984  -2.460909      3166              2919        1.000000             0.921984\n"
     ]
    }
   ],
   "source": [
    "evaluate.calculateBranching(output_ID,threshold=\"PR_AUC\",metrics=[\"energy\"],main_exit_included=True,plot=False)\n",
    "evaluate.calculateBranching(output_ID,threshold=\"mean\",metrics=[\"energy\"],main_exit_included=True,plot=False)\n",
    "evaluate.calculateBranching(output_ID,threshold=\"gmean\",metrics=[\"energy\"],main_exit_included=True,plot=False)"
   ]
  },
  {
   "cell_type": "markdown",
   "id": "593f34f7-5fe1-445c-a2ce-0c2c5b0f37e8",
   "metadata": {},
   "source": [
    "### ID/OOD branch performance\n",
    "<hr>"
   ]
  },
  {
   "cell_type": "code",
   "execution_count": 15,
   "id": "1d41005b-ddcb-41e9-b000-914cf4dd8d40",
   "metadata": {},
   "outputs": [
    {
     "name": "stdout",
     "output_type": "stream",
     "text": [
      "metric:  energy threshold:  gmean\n",
      "energy  lr_auc 0.127204800448285 Best Threshold=-52.8938102722168, G-Mean=0.8001359698780575, TPR=0.8533171028606208, FPR=0.2497307646284552\n"
     ]
    },
    {
     "data": {
      "image/png": "[encoded data removed]",
      "text/plain": [
       "<Figure size 432x288 with 1 Axes>"
      ]
     },
     "metadata": {
      "needs_background": "light"
     },
     "output_type": "display_data"
    },
    {
     "name": "stdout",
     "output_type": "stream",
     "text": [
      "['exit_1']\n",
      "energy  lr_auc 0.12102239000607297 Best Threshold=-53.94914245605469, G-Mean=0.8052155040848356, TPR=0.8469453376205788, FPR=0.2344582593250444\n"
     ]
    },
    {
     "data": {
      "image/png": "[encoded data removed]",
      "text/plain": [
       "<Figure size 432x288 with 1 Axes>"
      ]
     },
     "metadata": {
      "needs_background": "light"
     },
     "output_type": "display_data"
    },
    {
     "name": "stdout",
     "output_type": "stream",
     "text": [
      "['exit_1', 'exit_2']\n",
      "energy  lr_auc 0.0725530407098074 Best Threshold=-2.4607272148132324, G-Mean=0.8615849933045198, TPR=0.8826291079812206, FPR=0.1589573763486807\n"
     ]
    },
    {
     "data": {
      "image/png": "[encoded data removed]",
      "text/plain": [
       "<Figure size 432x288 with 1 Axes>"
      ]
     },
     "metadata": {
      "needs_background": "light"
     },
     "output_type": "display_data"
    },
    {
     "name": "stdout",
     "output_type": "stream",
     "text": [
      "main_exit\n",
      "   Exit_Name  ID_Inputs  OOD_Inputs  Test_Accuracy  Threshold  Accepted ID  Accepted OOD  Accepted_Correct  Accepted_ID_Ratio  Acceptance_Accuracy\n",
      "0     exit_1      10000       10000         0.8357  -52.89381         6512          1941              6270           0.770377             0.741748\n",
      "1     exit_2       3488        8059         0.8445 -53.949142         1109          1009               968           0.523607             0.457035\n",
      "2  Main_exit       2379        7050         0.9361         NA         2379          7050              1995           0.252307             0.211581\n"
     ]
    }
   ],
   "source": [
    "# buildCompareDistribPlot(output_ID, output_OOD, [\"energy\"], \"PR_AUC\",plot=False)\n",
    "\n",
    "evaluate.buildCompareDistribPlot(output_ID, output_OOD, [\"energy\"], \"gmean\",plot=True)\n",
    "\n"
   ]
  },
  {
   "cell_type": "code",
   "execution_count": 47,
   "id": "dfc533b9-cb9f-4a77-adaf-eb0059b08e20",
   "metadata": {},
   "outputs": [
    {
     "name": "stdout",
     "output_type": "stream",
     "text": [
      "metric:  calibration threshold:  gmean\n",
      "calibration  lr_auc 0.7346625017071626 Best Threshold=1.0, G-Mean=0.7123912537912335, TPR=0.8710435212660732, FPR=0.41736401673640167\n",
      "['exit_1', 'exit_2']\n",
      "calibration  lr_auc 0.7220322072762225 Best Threshold=1.0, G-Mean=0.696826097370901, TPR=0.8869069738634956, FPR=0.45251686559418786\n",
      "['exit_1', 'exit_2']\n",
      "calibration  lr_auc 0.8872806875304038 Best Threshold=0.2212609499692917, G-Mean=0.814571975995787, TPR=0.7841089670828604, FPR=0.15378151260504203\n",
      "   Exit_Name  ID_Inputs  OOD_Inputs  Test_Accuracy Threshold  Accepted ID  Accepted OOD  Accepted_Correct  Accepted_ID_Ratio  Acceptance_Accuracy\n",
      "0     exit_1      10000       10000         0.8088       1.0         7843          4549              7045           0.632908             0.568512\n",
      "1     exit_2       2157        5451         0.8073       1.0         1150          2232               772           0.340035             0.228267\n",
      "2  Main_exit       1007        3219         0.8810        NA         1007          3219               691           0.238287             0.163512\n"
     ]
    }
   ],
   "source": [
    "# evaluate.buildCompareDistribPlot(output_ID, output_OOD, [\"entropy\"], \"gmean\",plot=False)\n",
    "evaluate.buildCompareDistribPlot(output_ID, output_OOD, [\"calibration\"], \"gmean\",plot=False)"
   ]
  },
  {
   "cell_type": "code",
   "execution_count": null,
   "id": "1d538d10-cf5f-407f-9ba4-ae09ee417968",
   "metadata": {},
   "outputs": [],
   "source": []
  },
  {
   "cell_type": "markdown",
   "id": "398fe505-2e5c-4482-b74d-ecf6e9a83bf8",
   "metadata": {},
   "source": [
    "## Entropy Branch version\n",
    "Now we build a branched model with the entropy metric and cross entropy loss for comparision.\n",
    "<hr>"
   ]
  },
  {
   "cell_type": "code",
   "execution_count": 23,
   "id": "5e9830e9-6e36-4f63-8de8-aa31f6194375",
   "metadata": {},
   "outputs": [
    {
     "name": "stdout",
     "output_type": "stream",
     "text": [
      "Matching Branchpoint by id number\n",
      "Matching Branchpoint by name\n",
      "add Branch to branch point  mixed0\n",
      "add Branch to branch point  mixed1\n",
      "KerasTensor(type_spec=TensorSpec(shape=(None, 224, 224, 3), dtype=tf.float32, name='input_1'), name='input_1', description=\"created by layer 'input_1'\")\n",
      "[<KerasTensor: shape=(None, 10) dtype=float32 (created by layer 'classification')>, <KerasTensor: shape=(None, 10) dtype=float32 (created by layer 'branch_exit')>, <KerasTensor: shape=(None, 10) dtype=float32 (created by layer 'branch_exit_1')>]\n",
      "branch added <brevis.core_v2.BranchModel object at 0x000001DC76EB0848>\n",
      "\n",
      "preset: Other\n"
     ]
    }
   ],
   "source": [
    "import random\n",
    "seed = 42\n",
    "random.seed(seed)\n",
    "tf.random.set_seed(seed)\n",
    "np.random.seed(seed)\n",
    "tf.keras.backend.clear_session()\n",
    "\n",
    "lambda_callback = lambda_update(1000,0,max_t = 0.01)\n",
    "# branch_loss = brevisEnergy(lambda_callback)\n",
    "branch_loss = keras.losses.CategoricalCrossentropy(from_logits=True)\n",
    "trunk_loss = keras.losses.CategoricalCrossentropy(from_logits=False)\n",
    "# loss = kl_loss(lambda_callback)\n",
    "earlyStop = tf.keras.callbacks.EarlyStopping(monitor=\"val_accuracy\",patience=4,restore_best_weights=True)\n",
    "\n",
    "\n",
    "model = brevis.BranchModel(name=\"./models/inception_finetuned.hdf5\", custom_objects={})\n",
    "# model.add_branches([_branch_flat,_branch_flat],\n",
    "#                           [\"conv2_block1_out\",\"conv2_block3_out\",\n",
    "#                             # \"dense\"\n",
    "#                           ],\n",
    "#                           target_input=False,loop=False,num_outputs=10)\n",
    "\n",
    "model.add_branches([_branch_conv2,_branch_conv2],\n",
    "                          [\"mixed0\",\"mixed1\",#\"mixed6\"\n",
    "                          ],\n",
    "                          target_input=False,loop=False,num_outputs=10)\n",
    "# model.compile(loss = [trunk_loss,loss_fn,loss_fn], optimizer=tf.optimizers.SGD(learning_rate=0.001, momentum=0.9),metrics=['accuracy'])\n",
    "model.compile(loss=[trunk_loss,branch_loss,branch_loss], \n",
    "                  optimizer=tf.optimizers.SGD(learning_rate=0.001, momentum=0.9),\n",
    "                  # optimizer=\"adam\",\n",
    "              preset=\"\", metrics=['accuracy'])\n",
    "\n",
    "\n"
   ]
  },
  {
   "cell_type": "code",
   "execution_count": 24,
   "id": "67ead96e-2332-469c-86c7-c05fabff94c5",
   "metadata": {},
   "outputs": [
    {
     "name": "stdout",
     "output_type": "stream",
     "text": [
      "Freezing Main Layers and setting branch layers training to true\n",
      "annealing coef updated to: 0\n",
      "Epoch 1/5\n",
      "   6/1407 [..............................] - ETA: 5:22 - loss: 6.7994 - classification_loss: 0.0045 - branch_exit_loss: 3.3174 - branch_exit_1_loss: 3.4775 - classification_accuracy: 1.0000 - branch_exit_accuracy: 0.1354 - branch_exit_1_accuracy: 0.1146WARNING:tensorflow:Callback method `on_train_batch_end` is slow compared to the batch time (batch time: 0.1214s vs `on_train_batch_end` time: 0.1350s). Check your callbacks.\n",
      "1407/1407 [==============================] - 356s 245ms/step - loss: 2.1845 - classification_loss: 0.0415 - branch_exit_loss: 1.0931 - branch_exit_1_loss: 1.0498 - classification_accuracy: 0.9855 - branch_exit_accuracy: 0.6214 - branch_exit_1_accuracy: 0.6342 - val_loss: 1.5822 - val_classification_loss: 0.0222 - val_branch_exit_loss: 0.7844 - val_branch_exit_1_loss: 0.7756 - val_classification_accuracy: 0.9926 - val_branch_exit_accuracy: 0.7164 - val_branch_exit_1_accuracy: 0.7246\n",
      "annealing coef updated to: 0.001\n",
      "Epoch 2/5\n",
      "1407/1407 [==============================] - 329s 232ms/step - loss: 1.3876 - classification_loss: 0.0258 - branch_exit_loss: 0.7093 - branch_exit_1_loss: 0.6525 - classification_accuracy: 0.9915 - branch_exit_accuracy: 0.7524 - branch_exit_1_accuracy: 0.7702 - val_loss: 1.3860 - val_classification_loss: 0.0156 - val_branch_exit_loss: 0.6570 - val_branch_exit_1_loss: 0.7133 - val_classification_accuracy: 0.9946 - val_branch_exit_accuracy: 0.7676 - val_branch_exit_1_accuracy: 0.7510\n",
      "annealing coef updated to: 0.002\n",
      "Epoch 3/5\n",
      "1407/1407 [==============================] - 316s 223ms/step - loss: 1.0644 - classification_loss: 0.0161 - branch_exit_loss: 0.5537 - branch_exit_1_loss: 0.4946 - classification_accuracy: 0.9951 - branch_exit_accuracy: 0.8047 - branch_exit_1_accuracy: 0.8264 - val_loss: 1.1046 - val_classification_loss: 0.0221 - val_branch_exit_loss: 0.5553 - val_branch_exit_1_loss: 0.5271 - val_classification_accuracy: 0.9926 - val_branch_exit_accuracy: 0.8054 - val_branch_exit_1_accuracy: 0.8130\n",
      "annealing coef updated to: 0.003\n",
      "Epoch 4/5\n",
      "1407/1407 [==============================] - 316s 223ms/step - loss: 0.8336 - classification_loss: 0.0132 - branch_exit_loss: 0.4414 - branch_exit_1_loss: 0.3790 - classification_accuracy: 0.9958 - branch_exit_accuracy: 0.8441 - branch_exit_1_accuracy: 0.8668 - val_loss: 1.1425 - val_classification_loss: 0.0247 - val_branch_exit_loss: 0.5996 - val_branch_exit_1_loss: 0.5181 - val_classification_accuracy: 0.9924 - val_branch_exit_accuracy: 0.7960 - val_branch_exit_1_accuracy: 0.8226\n",
      "annealing coef updated to: 0.004\n",
      "Epoch 5/5\n",
      "1407/1407 [==============================] - 317s 223ms/step - loss: 0.6509 - classification_loss: 0.0090 - branch_exit_loss: 0.3492 - branch_exit_1_loss: 0.2926 - classification_accuracy: 0.9971 - branch_exit_accuracy: 0.8767 - branch_exit_1_accuracy: 0.8957 - val_loss: 1.0666 - val_classification_loss: 0.0263 - val_branch_exit_loss: 0.5428 - val_branch_exit_1_loss: 0.4975 - val_classification_accuracy: 0.9916 - val_branch_exit_accuracy: 0.8116 - val_branch_exit_1_accuracy: 0.8300\n"
     ]
    },
    {
     "data": {
      "text/plain": [
       "<brevis.core_v2.BranchModel at 0x1dc74dae988>"
      ]
     },
     "execution_count": 24,
     "metadata": {},
     "output_type": "execute_result"
    }
   ],
   "source": [
    "model.fit(train_ds, epochs = 5, validation_data=validation_ds, transfer=True,callbacks=[lambda_callback])"
   ]
  },
  {
   "cell_type": "code",
   "execution_count": 25,
   "id": "3bede128-b080-45d0-b619-2c6e18c2c908",
   "metadata": {},
   "outputs": [
    {
     "name": "stdout",
     "output_type": "stream",
     "text": [
      "313/313 [==============================] - 18s 57ms/step - loss: 1.3121 - classification_loss: 0.1717 - branch_exit_loss: 0.5767 - branch_exit_1_loss: 0.5637 - classification_accuracy: 0.9608 - branch_exit_accuracy: 0.8066 - branch_exit_1_accuracy: 0.8175\n"
     ]
    },
    {
     "data": {
      "text/plain": [
       "[1.3121238946914673,\n",
       " 0.1716654747724533,\n",
       " 0.5767245292663574,\n",
       " 0.5637335181236267,\n",
       " 0.9607999920845032,\n",
       " 0.8065999746322632,\n",
       " 0.8174999952316284]"
      ]
     },
     "execution_count": 25,
     "metadata": {},
     "output_type": "execute_result"
    }
   ],
   "source": [
    "model.evaluate(test_ds)"
   ]
  },
  {
   "cell_type": "code",
   "execution_count": 26,
   "id": "2afd5d43-5e44-413f-b697-315db34f9537",
   "metadata": {},
   "outputs": [],
   "source": [
    "model.save(\"./models/journal_models/inception_B_conv3_5.hdf5\")"
   ]
  },
  {
   "cell_type": "markdown",
   "id": "bcd0a6a2-77ad-4e30-b7fe-50d20d3cbdeb",
   "metadata": {},
   "source": [
    "## Get the Branch output results\n",
    "Collect the branch output results for both the ID and OOD test sets then evaluate the results."
   ]
  },
  {
   "cell_type": "code",
   "execution_count": 27,
   "id": "6a87a35b-96af-492b-bdb5-c424fb2c8dfb",
   "metadata": {},
   "outputs": [
    {
     "name": "stdout",
     "output_type": "stream",
     "text": [
      "outputs 3\n",
      "prediction: 312 of 313\r"
     ]
    }
   ],
   "source": [
    "output_ID_old= evaluate.getPredictions_Energy(model, test_ds,stopping_point=None)\n",
    "for i in output_ID_old:\n",
    "    i['outlier']=0\n"
   ]
  },
  {
   "cell_type": "code",
   "execution_count": 28,
   "id": "9e5cd3ef-4c81-423f-8828-d4daa22271ae",
   "metadata": {},
   "outputs": [
    {
     "name": "stdout",
     "output_type": "stream",
     "text": [
      "outputs 3\n",
      "prediction: 312 of 313\r"
     ]
    }
   ],
   "source": [
    "output_OOD_old = evaluate.getPredictions_Energy(model, test_ds100,stopping_point=None)\n",
    "for i in output_OOD_old:\n",
    "    i['correct']=0\n",
    "    i['outlier']=1"
   ]
  },
  {
   "cell_type": "code",
   "execution_count": 39,
   "id": "692765b4-2427-459b-bdbc-1017955c03cd",
   "metadata": {},
   "outputs": [],
   "source": [
    "def save_outputs(filename,outputs):\n",
    "    from openpyxl import Workbook\n",
    "    wb= Workbook()\n",
    "    ws=wb.active\n",
    "    with pd.ExcelWriter('./csv/'+filename+'.xlsx', engine=\"openpyxl\") as writer:\n",
    "        writer.book=wb\n",
    "        writer.sheets = dict((ws.title, ws) for ws in wb.worksheets)\n",
    "\n",
    "        #useful code\n",
    "        for i, df in enumerate(outputs):\n",
    "            name = \"exit{}\".format(i+1)\n",
    "            df.to_excel(writer, name)\n",
    "        # df.to_excel(writer, sheet, ...)\n",
    "        writer.save()\n",
    "    wb.close()\n",
    "    \n",
    "def read_outputs(fileName):\n",
    "    output_test = list(pd.read_excel('./csv/'+fileName+'.xlsx',['exit1','exit2','exit3']).values())\n",
    "    # for i in output_test:\n",
    "        # print(i.head())\n",
    "    return output_test\n",
    "filename = 'inception_CE_10'\n",
    "save_outputs(filename+'_ID',output_ID)\n",
    "save_outputs(filename+'_OOD',output_OOD)\n",
    "# save_outputs(filename+'_OOD_SVHN',output_OOD_SVHN)"
   ]
  },
  {
   "cell_type": "markdown",
   "id": "edea075f-8b39-414d-9a39-61b1221feab2",
   "metadata": {},
   "source": [
    "### T/F in distribution performance\n",
    "<hr>"
   ]
  },
  {
   "cell_type": "code",
   "execution_count": 40,
   "id": "f4870f3f-bcef-4cf5-bcbe-42185fb99abc",
   "metadata": {},
   "outputs": [
    {
     "ename": "NameError",
     "evalue": "name 'output_ID_old' is not defined",
     "output_type": "error",
     "traceback": [
      "\u001b[1;31m---------------------------------------------------------------------------\u001b[0m",
      "\u001b[1;31mNameError\u001b[0m                                 Traceback (most recent call last)",
      "\u001b[1;32m~\\AppData\\Local\\Temp/ipykernel_6776/2726647910.py\u001b[0m in \u001b[0;36m<module>\u001b[1;34m\u001b[0m\n\u001b[1;32m----> 1\u001b[1;33m \u001b[0mevaluate\u001b[0m\u001b[1;33m.\u001b[0m\u001b[0mcalculateBranching\u001b[0m\u001b[1;33m(\u001b[0m\u001b[0moutput_ID_old\u001b[0m\u001b[1;33m,\u001b[0m\u001b[0mthreshold\u001b[0m\u001b[1;33m=\u001b[0m\u001b[1;34m\"gmean\"\u001b[0m\u001b[1;33m,\u001b[0m\u001b[0mmetrics\u001b[0m\u001b[1;33m=\u001b[0m\u001b[1;33m[\u001b[0m\u001b[1;34m\"entropy\"\u001b[0m\u001b[1;33m]\u001b[0m\u001b[1;33m,\u001b[0m\u001b[0mmain_exit_included\u001b[0m\u001b[1;33m=\u001b[0m\u001b[1;32mTrue\u001b[0m\u001b[1;33m,\u001b[0m\u001b[0mplot\u001b[0m\u001b[1;33m=\u001b[0m\u001b[1;32mTrue\u001b[0m\u001b[1;33m)\u001b[0m\u001b[1;33m\u001b[0m\u001b[1;33m\u001b[0m\u001b[0m\n\u001b[0m\u001b[0;32m      2\u001b[0m \u001b[0mevaluate\u001b[0m\u001b[1;33m.\u001b[0m\u001b[0mcalculateBranching\u001b[0m\u001b[1;33m(\u001b[0m\u001b[0moutput_ID_old\u001b[0m\u001b[1;33m,\u001b[0m\u001b[0mthreshold\u001b[0m\u001b[1;33m=\u001b[0m\u001b[1;34m\"gmean\"\u001b[0m\u001b[1;33m,\u001b[0m\u001b[0mmetrics\u001b[0m\u001b[1;33m=\u001b[0m\u001b[1;33m[\u001b[0m\u001b[1;34m\"calibration\"\u001b[0m\u001b[1;33m]\u001b[0m\u001b[1;33m,\u001b[0m\u001b[0mmain_exit_included\u001b[0m\u001b[1;33m=\u001b[0m\u001b[1;32mTrue\u001b[0m\u001b[1;33m,\u001b[0m\u001b[0mplot\u001b[0m\u001b[1;33m=\u001b[0m\u001b[1;32mTrue\u001b[0m\u001b[1;33m)\u001b[0m\u001b[1;33m\u001b[0m\u001b[1;33m\u001b[0m\u001b[0m\n",
      "\u001b[1;31mNameError\u001b[0m: name 'output_ID_old' is not defined"
     ]
    }
   ],
   "source": [
    "evaluate.calculateBranching(output_ID_old,threshold=\"gmean\",metrics=[\"entropy\"],main_exit_included=True,plot=True)\n",
    "evaluate.calculateBranching(output_ID_old,threshold=\"gmean\",metrics=[\"calibration\"],main_exit_included=True,plot=True)"
   ]
  },
  {
   "cell_type": "code",
   "execution_count": 99,
   "id": "79cc24f3-fe75-4ac0-b33b-ad88e6d73d06",
   "metadata": {},
   "outputs": [
    {
     "name": "stdout",
     "output_type": "stream",
     "text": [
      "metric:  entropy threshold:  PR_AUC\n",
      "['exit_1', 'exit_2']\n",
      "['exit_1', 'exit_2']\n",
      "   Exit_Name  Predictions  Test_Accuracy  RollOver_Accuracy     Threshold  Accepted  Accepted_Correct  Accepted_Ratio  Acceptance_Accuracy\n",
      "0     exit_1        10000         0.7266           0.726600  8.462244e-15      2735              2682        0.273500             0.980622\n",
      "1     exit_2         7265         0.7803           0.704474  4.188502e-21       509               498        0.070062             0.978389\n",
      "2  Main_exit         6756         0.9602           0.944494  3.310396e+00      6756              6381        1.000000             0.944494\n",
      "metric:  entropy threshold:  mean\n",
      "['exit_1', 'exit_2']\n",
      "['exit_1', 'exit_2']\n",
      "   Exit_Name  Predictions  Test_Accuracy  RollOver_Accuracy  Threshold  Accepted  Accepted_Correct  Accepted_Ratio  Acceptance_Accuracy\n",
      "0     exit_1        10000         0.7266            0.72660   0.039503      8394              6628        0.839400             0.789612\n",
      "1     exit_2         1606         0.7803            0.58655   0.027672      1164               771        0.724782             0.662371\n",
      "2  Main_exit          442         0.9602            0.91629   3.217928       442               405        1.000000             0.916290\n",
      "metric:  entropy threshold:  gmean\n",
      "entropy  lr_auc 0.18696714724470537 Best Threshold=6.613001346522651e-07, G-Mean=0.7412272033801103, TPR=0.7878566203365033, FPR=0.3026424442609414\n",
      "['exit_1', 'exit_2']\n",
      "entropy  lr_auc 0.14677716651468214 Best Threshold=7.982719552046547e-08, G-Mean=0.7814102370246103, TPR=0.8297678652708238, FPR=0.26412918108419836\n",
      "['exit_1', 'exit_2']\n",
      "entropy  lr_auc 0.06265706788472669 Best Threshold=3.2164976596832275, G-Mean=0.8756413163099903, TPR=0.8793969849246231, FPR=0.12809831285148926\n",
      "   Exit_Name  Predictions  Test_Accuracy  RollOver_Accuracy     Threshold  Accepted  Accepted_Correct  Accepted_Ratio  Acceptance_Accuracy\n",
      "0     exit_1        10000         0.7266           0.726600  6.613001e-07      5648              5067        0.564800             0.897132\n",
      "1     exit_2         4352         0.7803           0.619256  7.982720e-08      1545              1305        0.355009             0.844660\n",
      "2  Main_exit         2807         0.9602           0.925187  3.216498e+00      2807              2597        1.000000             0.925187\n"
     ]
    }
   ],
   "source": [
    "evaluate.calculateBranching(output_ID,threshold=\"PR_AUC\",metrics=[\"entropy\"],main_exit_included=True,plot=False)\n",
    "evaluate.calculateBranching(output_ID,threshold=\"mean\",metrics=[\"entropy\"],main_exit_included=True,plot=False)\n",
    "evaluate.calculateBranching(output_ID,threshold=\"gmean\",metrics=[\"entropy\"],main_exit_included=True,plot=False)"
   ]
  },
  {
   "cell_type": "markdown",
   "id": "39188c43-47a6-48c0-9a46-1cf67455f398",
   "metadata": {},
   "source": [
    "### ID/OOD branch performance\n",
    "<hr>"
   ]
  },
  {
   "cell_type": "code",
   "execution_count": 35,
   "id": "51a23205-ec87-45df-9db3-c71f99d11893",
   "metadata": {},
   "outputs": [
    {
     "name": "stdout",
     "output_type": "stream",
     "text": [
      "metric:  entropy threshold:  PR_AUC\n",
      "['exit_1', 'exit_2']\n",
      "['exit_1', 'exit_2']\n",
      "   Exit_Name  ID_Inputs  OOD_Inputs  Test_Accuracy Threshold  Accepted ID  Accepted OOD  Accepted_Correct  Accepted_ID_Ratio  Acceptance_Accuracy\n",
      "0     exit_1      10000       10000         0.8066   0.01501         1935            86              1926           0.957447             0.952994\n",
      "1     exit_2       8065        9914         0.8175  0.003296          606            46               601           0.929448             0.921779\n",
      "2  Main_exit       7459        9868         0.9608        NA         7459          9868              7075           0.430484             0.408322\n",
      "metric:  entropy threshold:  mean\n",
      "['exit_1', 'exit_2']\n",
      "['exit_1', 'exit_2']\n",
      "   Exit_Name  ID_Inputs  OOD_Inputs  Test_Accuracy Threshold  Accepted ID  Accepted OOD  Accepted_Correct  Accepted_ID_Ratio  Acceptance_Accuracy\n",
      "0     exit_1      10000       10000         0.8066  0.442672         5488          1523              5299           0.782770             0.755812\n",
      "1     exit_2       4512        8477         0.8175  0.363079         1210          1016              1064           0.543576             0.477987\n",
      "2  Main_exit       3302        7461         0.9608        NA         3302          7461              3029           0.306792             0.281427\n"
     ]
    }
   ],
   "source": [
    "# buildCompareDistribPlot(output_ID, output_OOD, [\"energy\"], \"PR_AUC\",plot=False)\n",
    "\n",
    "evaluate.buildCompareDistribPlot(output_ID_old, output_OOD_old, [\"entropy\"], \"PR_AUC\",plot=False)\n",
    "\n",
    "evaluate.buildCompareDistribPlot(output_ID_old, output_OOD_old, [\"entropy\"], \"mean\",plot=False)\n",
    "\n",
    "# buildCompareDistribPlot(output_ID, output_OOD, [\"calibration\"], \"PR_AUC\",plot=False)"
   ]
  },
  {
   "cell_type": "code",
   "execution_count": null,
   "id": "927906b4-4979-4bf3-ab12-87e740cfa58a",
   "metadata": {},
   "outputs": [],
   "source": [
    "from sklearn.metrics import average_precision_score\n",
    "from sklearn.metrics import roc_auc_score\n",
    "# metrics =[\"energy\",\"entropy\",\"uncert\",\"confidence_alea_uncert\",\"entropy_of_expected\",\"expected_entropy\",\"calibration\"]\n",
    "# metrics =['energy','uncert','expected_entropy','calibration']\n",
    "\n",
    "metrics = [\"energy\",\"entropy\",\"uncert\",\"confidence_alea_uncert\",\"entropy_of_expected\",\"expected_entropy\",\"calibration\"]\n",
    "def calc_auc_OOD(ID,OOD,metrics=['energy'],OOD_rate=[.1,.2,.5,1], plot=False):\n",
    "    points = []\n",
    "    # OOD_rate = [0,.1,.2,.5,1]\n",
    "    _output_ID = ID\n",
    "    _output_OOD = OOD\n",
    "\n",
    "    _output_ID[\"outlier\"]=0\n",
    "    _output_OOD[\"outlier\"]=1\n",
    "    lessThanMetrics = [\"energy\",\"uncert\",\"entropy\"]\n",
    "    _thresholds = []\n",
    "    for i in OOD_rate:\n",
    "        # print(int(min((len(_output_ID) * i),len(_output_ID))))\n",
    "        _OOD = _output_OOD.iloc[0:int(min((len(_output_ID) * i),len(_output_ID)))]\n",
    "        print(\"OOD size\",len(_OOD))\n",
    "        _df = pd.concat([_output_ID,_OOD], ignore_index=True)\n",
    "        y_true = np.int32(_df['outlier'])\n",
    "\n",
    "    #     print(len(_df))\n",
    "    #     for metric in metrics:\n",
    "    #         points.append([])\n",
    "    #         # print(metric, \":\", average_precision_score(y_true, _df[metric]))\n",
    "\n",
    "    #         Correct = _df.loc[(_df['correct'] == True)]\n",
    "    #         Incorrect = _df.loc[(_df['correct'] == False)]\n",
    "    #         fpr, tpr, thresholds = roc_curve(np.int32(_output_ID['correct']), _output_ID[metric],pos_label=1)\n",
    "    #         gmeans = sqrt(tpr * (1-fpr))\n",
    "    #         ix = argmax(gmeans)\n",
    "    #         _threshold = thresholds[ix]\n",
    "    #         # _threshold = np.array(Correct[metric]).mean()\n",
    "        plots = []\n",
    "        for metric in metrics:    \n",
    "            lr_auc = roc_auc_score(y_true, _df[metric])\n",
    "            print(\"lr_auc\",lr_auc)\n",
    "            if metric in lessThanMetrics:\n",
    "                pos_label = 0\n",
    "            else:\n",
    "                pos_label = 1\n",
    "            fpr, tpr, thresholds = roc_curve(y_true, _df[metric],pos_label=pos_label)\n",
    "            gmeans = sqrt(tpr * (1-fpr))\n",
    "            # print(gmeans)\n",
    "            # locate the index of the largest g-mean\n",
    "            ix = argmax(gmeans)\n",
    "            threshold = thresholds[ix]\n",
    "            print('Best Threshold={}, G-Mean={}, TPR={}, FPR={}'.format(threshold, gmeans[ix],tpr[ix],fpr[ix]))\n",
    "            _thresholds.append(threshold)\n",
    "            # plot the roc curve for the model\n",
    "            plots.append({\"fpr\":fpr,\"tpr\":tpr,\"label\":metric, \"ix\":ix})\n",
    "        # if plot:\n",
    "        pyplot.plot([0,1], [0,1], linestyle='--', label='No Skill')\n",
    "        for plot in plots:\n",
    "            ix = plot['ix']\n",
    "            pyplot.plot(plot[\"fpr\"], plot[\"tpr\"],  label=plot['label'])\n",
    "\n",
    "            pyplot.scatter(plot[\"fpr\"][ix], plot[\"tpr\"][ix], marker='o', color='black')\n",
    "        # axis labels\n",
    "        pyplot.xlabel('False Positive Rate')\n",
    "        pyplot.ylabel('True Positive Rate')\n",
    "        pyplot.title(metric)\n",
    "        pyplot.legend()\n",
    "        # show the plot\n",
    "        pyplot.show()\n",
    "\n",
    "# calc_auc_OOD(output_ID,output_OOD_svhn,metrics=metrics,OOD_rate=[1])       \n",
    "\n",
    "calc_auc_OOD(output_ID,output_OOD,metrics=metrics,OOD_rate=[1])      "
   ]
  },
  {
   "cell_type": "code",
   "execution_count": 92,
   "id": "b5e5320f-a0d6-47e2-ad65-c92914b9f2a2",
   "metadata": {},
   "outputs": [],
   "source": [
    "def calc_auc_OOD(ID,OOD,metrics=[\"energy\"], threshold=None, legend=[\"In Distribution\",\"Out of Distribution\"],main_exit_included=True, OOD_rate=[.1,.2,.5,1], plot=True,exit_labels=['exit_1']):\n",
    "        lessThanMetrics = [\"energy\",\"uncert\",\"entropy\"]\n",
    "        if type(metrics ) is not list:\n",
    "            metrics = [metrics]\n",
    "        \n",
    "        for j, metric in enumerate(metrics):\n",
    "            print(\"metric: \", metric, \"threshold: \",threshold)\n",
    "            rollOver_ID_indices = pd.Index([])\n",
    "            rollOver_OOD_indices = pd.Index([])\n",
    "            Exit_Name=[]\n",
    "            _ID = ID.copy()\n",
    "            _OOD = OOD.copy()\n",
    "                # print(_branch_predictions)\n",
    "            if main_exit_included:\n",
    "                _ID.append(_ID.pop(0))\n",
    "                _OOD.append(_OOD.pop(0))\n",
    "            Accepted_df = pd.DataFrame()\n",
    "            Input_ID=[]\n",
    "            Input_OOD=[]\n",
    "            Accepted_list =[]\n",
    "            Accepted_ID_list = []\n",
    "            Accepted_OOD_list = []\n",
    "            Acceptance_correct =[]\n",
    "            Input_predictions =[]\n",
    "            Accepted_Ratio_list=[]\n",
    "            Accepted_Accuracy_list=[]\n",
    "            # Branch_cost =[17443270,29419724,132134023] #flat exit costs\n",
    "            # Branch_cost =[482376,1517643,80095445,114361924,112698838] #Conv2d exit costs\n",
    "\n",
    "            # Base_cost = 112698838\n",
    "            Branch_flops = []\n",
    "            Thresholds=[]\n",
    "            Test_accuracy =[]\n",
    "            Rollover_accuracy=[]\n",
    "            Results=[]\n",
    "            for rate in OOD_rate:\n",
    "                # print(int(min((len(_output_ID) * i),len(_output_ID))))\n",
    "                print(\"OOD size\",rate)\n",
    "                _OOD_frac=[]\n",
    "                Exit_Name=[]\n",
    "                rollOver_ID_indices = pd.Index([])\n",
    "                rollOver_OOD_indices = pd.Index([])\n",
    "                Input_ID=[]\n",
    "                Input_OOD=[]\n",
    "                Accepted_list =[]\n",
    "                Accepted_ID_list = []\n",
    "                Accepted_OOD_list = []\n",
    "                Acceptance_correct =[]\n",
    "                Input_predictions =[]\n",
    "                Accepted_Ratio_list=[]\n",
    "                Accepted_Accuracy_list=[]\n",
    "                # Branch_cost =[17443270,29419724,132134023] #flat exit costs\n",
    "                # Branch_cost =[482376,1517643,80095445,114361924,112698838] #Conv2d exit costs\n",
    "\n",
    "                # Base_cost = 112698838\n",
    "                Branch_flops = []\n",
    "                Thresholds=[]\n",
    "                Test_accuracy =[]\n",
    "                Rollover_accuracy=[]\n",
    "                Results=[]\n",
    "                for i, output in enumerate(_OOD):\n",
    "                    \n",
    "                    amount = min(len(_ID[i]) * rate,len(_ID[i]))\n",
    "                    # print(\"len\",amount)\n",
    "                    _OOD_frac.append(_OOD[i].iloc[0:int(amount)])\n",
    "                    # print(len(_OOD_frac[i]),len(_ID[i]))\n",
    "                # _df = pd.concat([_ID,_OOD], ignore_index=True)\n",
    "                # y_true = np.int32(_df['outlier'])\n",
    "                for i, (output_ID, output_OOD) in enumerate(zip(_ID, _OOD_frac)): \n",
    "                    Test_accuracy.append(len(output_ID.loc[(output_ID[\"correct\"] == True)])/len(output_ID))\n",
    "\n",
    "                    legend = [\"threshold\",\"correct\",\"incorrect\", \"OOD\"]\n",
    "                    Correct = output_ID.loc[(output_ID['correct'] == True)]\n",
    "                    Incorrect = output_ID.loc[(output_ID['correct'] == False)]\n",
    "                    if plot:\n",
    "                        _ = plt.hist(Correct[metric].tolist(), bins=100)  # arguments are passed to np.histogram\n",
    "                        _ = plt.hist(Incorrect[metric].tolist(), bins=100,color =\"red\", alpha = 0.5)  # arguments are passed to np.histogram\n",
    "                        _ = plt.hist(output_OOD[metric].tolist(), bins=100,color=\"grey\",alpha=0.5)  # arguments are passed to np.histogram\n",
    "\n",
    "\n",
    "                    if threshold:\n",
    "                        if type(threshold) is list:\n",
    "                            if j >= len(threshold): #no threshold in the array so treat as None.\n",
    "                                continue\n",
    "                            _threshold = threshold[j]\n",
    "                        else:\n",
    "                            _threshold = threshold\n",
    "                        if _threshold == \"mean\":\n",
    "                            # _threshold = np.array(ID[metric]).mean()\n",
    "                            Correct = output_ID.loc[(output_ID[\"correct\"] == True)]\n",
    "                            _threshold = np.array(Correct[metric]).mean()\n",
    "                        if _threshold == \"gmean\":\n",
    "                            AUC_thresholds = calc_AUC(output_ID, metrics=metrics,plot = False)\n",
    "                            _threshold = AUC_thresholds[j]\n",
    "                        if _threshold == \"PR_AUC\":\n",
    "                            precision_, recall_, proba = precision_recall_curve(output_ID['correct'], output_ID[metric])\n",
    "                            _threshold = sorted(list(zip(np.abs(precision_ - recall_), proba)), key=lambda i: i[0], reverse=False)[0][1]\n",
    "                        else:\n",
    "                            _threshold = np.float32(_threshold)\n",
    "\n",
    "                    if len(rollOver_ID_indices)>0:\n",
    "                        # print(\"rollover enabled, {} ID predictions provided\".format(len(rollOver_ID_indices)))\n",
    "                        output_ID = output_ID.iloc[rollOver_ID_indices]\n",
    "                    if len(rollOver_OOD_indices)>0:\n",
    "                        # if plot:\n",
    "                        # print(\"rollover enabled, {} OOD predictions provided\".format(len(rollOver_OOD_indices)))\n",
    "                        output_OOD = output_OOD.iloc[rollOver_OOD_indices]\n",
    "\n",
    "                    if plot:\n",
    "                        plt.axvline(x=_threshold, color='k', linestyle='--',label=\"threshold\")\n",
    "                        plt.title(metric + \" outliers\")\n",
    "                        plt.legend(legend)\n",
    "                        plt.xlabel(\"entropy\")\n",
    "                        plt.ylabel(\"frequency\")\n",
    "                        plt.show()\n",
    "                    if main_exit_included and i == len(_ID)-1 :\n",
    "                        Exit_Name.append(\"Main_exit\")\n",
    "                        _threshold\n",
    "                        if plot:\n",
    "                            print(\"main_exit\")\n",
    "                        OOD_accepted = output_OOD\n",
    "                        OOD_rejected = None\n",
    "                        ID_accepted = output_ID\n",
    "                        ID_rejected = None\n",
    "                        accepted_correct = ID_accepted.loc[(ID_accepted[\"correct\"] == True )] #TP\n",
    "                        rejected_correct = None\n",
    "                        accepted_incorrect = ID_accepted.loc[(ID_accepted[metric] ==False)] #FP\n",
    "                        rejected_incorrect = None\n",
    "                        accepted_ID_acc = len(accepted_correct) / (len( ID_accepted))\n",
    "                        overall_accepted_acc = len(accepted_correct) / (len( ID_accepted) + len(OOD_accepted))\n",
    "                        _threshold = \"NA\"\n",
    "                        ### make a threshold that accepts everything, if less than, set to inf, if greater than, set to neg inf?\n",
    "                        # if metric in lessThanMetrics:\n",
    "                            # _threshold = math.inf\n",
    "                        # else:\n",
    "                            # _threshold = -math.inf\n",
    "                    # print(_threshold)\n",
    "                    else:\n",
    "                        if metric in lessThanMetrics: ## metrics that require less than metric\n",
    "                            OOD_accepted = output_OOD.loc[(output_OOD[metric].tolist() <= _threshold)] #FP\n",
    "                            OOD_rejected = output_OOD.loc[(output_OOD[metric].tolist() > _threshold)] #TN\n",
    "                            ID_accepted = output_ID.loc[(output_ID[metric] <= _threshold)] #TP\n",
    "                            ID_rejected = output_ID.loc[(output_ID[metric] > _threshold)] #FN\n",
    "\n",
    "\n",
    "                            accepted_correct = ID_accepted.loc[(ID_accepted[\"correct\"] == True )] #TP\n",
    "                            rejected_correct = ID_rejected.loc[(ID_rejected[\"correct\"] == True)]  #FN\n",
    "\n",
    "                            accepted_incorrect = ID_accepted.loc[(ID_accepted[metric] ==False)] #FP\n",
    "                            rejected_incorrect = ID_rejected.loc[(ID_rejected[metric] ==False)] #TN\n",
    "\n",
    "                            accepted_ID_acc = len(accepted_correct) / (len( ID_accepted))\n",
    "                            overall_accepted_acc = len(accepted_correct) / (len( ID_accepted) + len(OOD_accepted))\n",
    "                            # print(\"OOD accepted:\", len(OOD_accepted),\": with threshold:\",_threshold )\n",
    "                            # print(\"ID accepted:\", len(ID_accepted), \":with acc:\",(accepted_ID_acc))\n",
    "                            # print(\"overall Accepted acc:\",(overall_accepted_acc))\n",
    "\n",
    "                            # print(\"OOD accepted with avg ID \",metric,\" threshold of \",_threshold, \": \", len(OOD.loc[(OOD[metric].tolist() <= _threshold)]), \"out of \", len(OOD))\n",
    "                            # print(\"ID accepted with avg ID \",metric,\" threshold of \",_threshold, \": \", len(ID.loc[(ID[metric] <= _threshold)]), \"out of \", len(ID), \"with acc of \", len(ID.loc[(ID[metric] <= _threshold) & ID['correct'] == True])/len(ID.loc[(ID[metric] <= _threshold)]))\n",
    "                            # print(\"Overall accuracy of accepted inputs:\", len(ID.loc[(ID[metric] <= _threshold) & ID['correct'] == True])/(len(ID.loc[(ID[metric] <= _threshold)])+len(OOD.loc[(OOD[metric] <= _threshold)])))\n",
    "                        else: ### metrics that require greater than metric\n",
    "                            OOD_accepted = output_OOD.loc[(output_OOD[metric].tolist() >= _threshold)] #FP\n",
    "                            OOD_rejected = output_OOD.loc[(output_OOD[metric].tolist() < _threshold)] #TN\n",
    "                            ID_accepted = output_ID.loc[(output_ID[metric] >= _threshold)] #TP\n",
    "                            ID_rejected = output_ID.loc[(output_ID[metric] < _threshold)] #FN\n",
    "\n",
    "                            accepted_correct = ID_accepted.loc[(ID_accepted[\"correct\"] == True )] #TP\n",
    "                            rejected_correct = ID_rejected.loc[(ID_rejected[\"correct\"] == True)]  #FN\n",
    "\n",
    "                            accepted_incorrect = ID_accepted.loc[(ID_accepted[metric] ==False)] #FP\n",
    "                            rejected_incorrect = ID_rejected.loc[(ID_rejected[metric] ==False)] #TN\n",
    "\n",
    "\n",
    "\n",
    "                            accepted_ID_acc = len(accepted_correct) / (len( ID_accepted))\n",
    "                            overall_accepted_acc = len(accepted_correct) / (len( ID_accepted) + len(OOD_accepted))\n",
    "                            # print(\"OOD accepted:\", len(OOD_accepted),\": with threshold:\",_threshold )\n",
    "                            # print(\"ID accepted:\", len(ID_accepted), \":with acc:\",(accepted_ID_acc))\n",
    "                            # print(\"overall Accepted acc:\",(overall_accepted_acc))\n",
    "\n",
    "                            # print(\"OOD accepted with avg ID \",metric,\" threshold of \",_threshold, \": \", len(OOD.loc[(OOD[metric].tolist() >= _threshold)]), \"out of \", len(OOD))\n",
    "                            # print(\"ID accepted with avg ID \",metric,\" threshold of \",_threshold, \": \", len(ID.loc[(ID[metric] >= _threshold)]), \"out of \", len(ID), \"with acc of \", len(ID.loc[(ID[metric] >= _threshold) & ID['correct'] == True])/len(ID.loc[(ID[metric] >= _threshold)]))\n",
    "                            # print(\"Overall accuracy of accepted inputs:\", len(ID.loc[(ID[metric] <= _threshold) & ID['correct'] == True])/(len(ID.loc[(ID[metric] >= _threshold)])+len(OOD.loc[(OOD[metric] >= _threshold)])))\n",
    "                        rollOver_ID_indices = ID_rejected.index\n",
    "                        rollOver_OOD_indices = OOD_rejected.index\n",
    "                        if i >= len(exit_labels):\n",
    "                            exit_labels.append(\"exit_{}\".format(i+1))\n",
    "                        print(exit_labels)\n",
    "                        Exit_Name.append(exit_labels[i])\n",
    "                    Thresholds.append(_threshold)\n",
    "\n",
    "                    Results.append(accepted_correct +accepted_incorrect)\n",
    "                    Input_ID.append(len(output_ID))\n",
    "                    Input_OOD.append(len(output_OOD))\n",
    "                    Accepted_ID_list.append(len(ID_accepted))\n",
    "                    Accepted_OOD_list.append(len(OOD_accepted))\n",
    "                    Accepted_Ratio_list.append(len(ID_accepted)/(len(ID_accepted)+ len(OOD_accepted)))\n",
    "                    Acceptance_correct.append(len(accepted_correct))\n",
    "                    Accepted_Accuracy_list.append(overall_accepted_acc)\n",
    "                df = pd.DataFrame({\n",
    "                \"Exit_Name\":Exit_Name,\n",
    "                \"ID_Inputs\":Input_ID,\n",
    "                \"OOD_Inputs\":Input_OOD,\n",
    "                \"Test_Accuracy\":Test_accuracy,\n",
    "                # \"RollOver_Accuracy\":Rollover_accuracy,\n",
    "                \"Threshold\":Thresholds,\n",
    "                \"Accepted ID\":Accepted_ID_list,\n",
    "                \"Accepted OOD\":Accepted_OOD_list,\n",
    "\n",
    "                \"Accepted_Correct\":Acceptance_correct,\n",
    "                \"Accepted_ID_Ratio\":Accepted_Ratio_list,\n",
    "                \"Acceptance_Accuracy\":Accepted_Accuracy_list,\n",
    "\n",
    "                # \"Flops\":Branch_flops,\n",
    "                # \"Cost Ratio\":,                                  \n",
    "                              })\n",
    "                with pd.option_context('expand_frame_repr', False):\n",
    "                    print (df)\n",
    "                # print(\"TPR_ID-OOD\",len(ID_accepted)/(len(ID_accepted) + len(ID_rejected)))\n",
    "                # print(\"TPR_acc\",len(accepted_correct)/(len(accepted_correct) + len(rejected_correct)))\n",
    "                # if len(OOD) > 0:\n",
    "                #     print(\"FPR_ID-OOD\",len(OOD_accepted)/(len(OOD_accepted) + len(OOD_rejected)))\n",
    "                # else: \n",
    "                #     print(\"FPR for OOD is div by zero, was OOD included?\")\n",
    "                # print(\"FPR_acc\",len(accepted_incorrect)/(len(accepted_incorrect) + len(rejected_incorrect)))\n"
   ]
  },
  {
   "cell_type": "code",
   "execution_count": 94,
   "id": "b5095d99-7c6b-420d-a8f2-62d141546cb4",
   "metadata": {},
   "outputs": [
    {
     "name": "stdout",
     "output_type": "stream",
     "text": [
      "metric:  entropy threshold:  mean\n",
      "OOD size 0.1\n",
      "['exit_1', 'exit_2']\n",
      "['exit_1', 'exit_2']\n",
      "   Exit_Name  ID_Inputs  OOD_Inputs  Test_Accuracy Threshold  Accepted ID  Accepted OOD  Accepted_Correct  Accepted_ID_Ratio  Acceptance_Accuracy\n",
      "0     exit_1      10000        1000         0.8066  0.442672         5488           156              5299           0.972360             0.938873\n",
      "1     exit_2       4512         844         0.8175  0.363079         1210           112              1064           0.915280             0.804841\n",
      "2  Main_exit       3302         732         0.9608        NA         3302           732              3029           0.818542             0.750868\n",
      "OOD size 0.2\n",
      "['exit_1', 'exit_2']\n",
      "['exit_1', 'exit_2']\n",
      "   Exit_Name  ID_Inputs  OOD_Inputs  Test_Accuracy Threshold  Accepted ID  Accepted OOD  Accepted_Correct  Accepted_ID_Ratio  Acceptance_Accuracy\n",
      "0     exit_1      10000        2000         0.8066  0.442672         5488           321              5299           0.944741             0.912205\n",
      "1     exit_2       4512        1679         0.8175  0.363079         1210           198              1064           0.859375             0.755682\n",
      "2  Main_exit       3302        1481         0.9608        NA         3302          1481              3029           0.690362             0.633285\n",
      "OOD size 0.5\n",
      "['exit_1', 'exit_2']\n",
      "['exit_1', 'exit_2']\n",
      "   Exit_Name  ID_Inputs  OOD_Inputs  Test_Accuracy Threshold  Accepted ID  Accepted OOD  Accepted_Correct  Accepted_ID_Ratio  Acceptance_Accuracy\n",
      "0     exit_1      10000        5000         0.8066  0.442672         5488           771              5299           0.876817             0.846621\n",
      "1     exit_2       4512        4229         0.8175  0.363079         1210           502              1064           0.706776             0.621495\n",
      "2  Main_exit       3302        3727         0.9608        NA         3302          3727              3029           0.469768             0.430929\n",
      "OOD size 1\n",
      "['exit_1', 'exit_2']\n",
      "['exit_1', 'exit_2']\n",
      "   Exit_Name  ID_Inputs  OOD_Inputs  Test_Accuracy Threshold  Accepted ID  Accepted OOD  Accepted_Correct  Accepted_ID_Ratio  Acceptance_Accuracy\n",
      "0     exit_1      10000       10000         0.8066  0.442672         5488          1523              5299           0.782770             0.755812\n",
      "1     exit_2       4512        8477         0.8175  0.363079         1210          1016              1064           0.543576             0.477987\n",
      "2  Main_exit       3302        7461         0.9608        NA         3302          7461              3029           0.306792             0.281427\n"
     ]
    }
   ],
   "source": [
    "calc_auc_OOD(output_ID_old, output_OOD_old, [\"entropy\"], \"mean\",OOD_rate=[.1,.2,.5,1],plot=False)\n"
   ]
  },
  {
   "cell_type": "code",
   "execution_count": 96,
   "id": "b50bac7f-e3f3-4c72-9118-a02ffa66f791",
   "metadata": {},
   "outputs": [
    {
     "name": "stdout",
     "output_type": "stream",
     "text": [
      "metric:  energy threshold:  mean\n",
      "OOD size 0.1\n",
      "['exit_1', 'exit_2']\n",
      "['exit_1', 'exit_2']\n",
      "   Exit_Name  ID_Inputs  OOD_Inputs  Test_Accuracy  Threshold  Accepted ID  Accepted OOD  Accepted_Correct  Accepted_ID_Ratio  Acceptance_Accuracy\n",
      "0     exit_1      10000        1000         0.7266 -39.365479         3460            68              3337           0.980726             0.945862\n",
      "1     exit_2       6540         932         0.7803 -43.807041          947            27               909           0.972279             0.933265\n",
      "2  Main_exit       5593         905         0.9602         NA         5593           905              5246           0.860726             0.807325\n",
      "OOD size 0.2\n",
      "['exit_1', 'exit_2']\n",
      "['exit_1', 'exit_2']\n",
      "   Exit_Name  ID_Inputs  OOD_Inputs  Test_Accuracy  Threshold  Accepted ID  Accepted OOD  Accepted_Correct  Accepted_ID_Ratio  Acceptance_Accuracy\n",
      "0     exit_1      10000        2000         0.7266 -39.365479         3460           124              3337           0.965402             0.931083\n",
      "1     exit_2       6540        1876         0.7803 -43.807041          947            57               909           0.943227             0.905378\n",
      "2  Main_exit       5593        1819         0.9602         NA         5593          1819              5246           0.754587             0.707771\n",
      "OOD size 0.5\n",
      "['exit_1', 'exit_2']\n",
      "['exit_1', 'exit_2']\n",
      "   Exit_Name  ID_Inputs  OOD_Inputs  Test_Accuracy  Threshold  Accepted ID  Accepted OOD  Accepted_Correct  Accepted_ID_Ratio  Acceptance_Accuracy\n",
      "0     exit_1      10000        5000         0.7266 -39.365479         3460           291              3337           0.922421             0.889629\n",
      "1     exit_2       6540        4709         0.7803 -43.807041          947           126               909           0.882572             0.847158\n",
      "2  Main_exit       5593        4583         0.9602         NA         5593          4583              5246           0.549627             0.515527\n",
      "OOD size 1\n",
      "['exit_1', 'exit_2']\n",
      "['exit_1', 'exit_2']\n",
      "   Exit_Name  ID_Inputs  OOD_Inputs  Test_Accuracy  Threshold  Accepted ID  Accepted OOD  Accepted_Correct  Accepted_ID_Ratio  Acceptance_Accuracy\n",
      "0     exit_1      10000       10000         0.7266 -39.365479         3460           550              3337           0.862843             0.832170\n",
      "1     exit_2       6540        9450         0.7803 -43.807041          947           248               909           0.792469             0.760669\n",
      "2  Main_exit       5593        9202         0.9602         NA         5593          9202              5246           0.378033             0.354579\n"
     ]
    }
   ],
   "source": [
    "calc_auc_OOD(output_ID, output_OOD, [\"energy\"], \"mean\",OOD_rate=[.1,.2,.5,1],plot=False)\n",
    "\n",
    "# 268,519,1273,2539"
   ]
  },
  {
   "cell_type": "code",
   "execution_count": null,
   "id": "2acf064d-0dd6-49fd-b62a-84aeb11863da",
   "metadata": {},
   "outputs": [],
   "source": [
    "# 95, 181, 417, 798"
   ]
  }
 ],
 "metadata": {
  "kernelspec": {
   "display_name": "py36",
   "language": "python",
   "name": "py36"
  },
  "language_info": {
   "codemirror_mode": {
    "name": "ipython",
    "version": 3
   },
   "file_extension": ".py",
   "mimetype": "text/x-python",
   "name": "python",
   "nbconvert_exporter": "python",
   "pygments_lexer": "ipython3",
   "version": "3.7.11"
  }
 },
 "nbformat": 4,
 "nbformat_minor": 5
}
